{
 "cells": [
  {
   "cell_type": "markdown",
   "metadata": {
    "colab_type": "text",
    "id": "Ai-gvPnADykO",
    "toc-hr-collapsed": true
   },
   "source": [
    "# Module 3: Infer Language Models TEST\n",
    "\n",
    "* DS 6001\n",
    "* Raf Alvarado\n",
    "\n",
    "We now create a series of langage models and evaluate them."
   ]
  },
  {
   "cell_type": "markdown",
   "metadata": {
    "colab_type": "text",
    "id": "-5x8B8RODykY",
    "toc-hr-collapsed": true
   },
   "source": [
    "# Set Up"
   ]
  },
  {
   "cell_type": "markdown",
   "metadata": {},
   "source": [
    "## Configure"
   ]
  },
  {
   "cell_type": "code",
   "execution_count": 3,
   "metadata": {
    "colab": {},
    "colab_type": "code",
    "id": "Fb3ZsuIsDykn"
   },
   "outputs": [],
   "source": [
    "text_file1 = '../MOD02--TextModels/austen-persuasion.csv'\n",
    "text_file2 = '../MOD02--TextModels/austen-sense.csv'"
   ]
  },
  {
   "cell_type": "code",
   "execution_count": 4,
   "metadata": {
    "colab": {},
    "colab_type": "code",
    "id": "Fb3ZsuIsDykn"
   },
   "outputs": [],
   "source": [
    "OHCO = ['book_id', 'chap_num', 'para_num', 'sent_num', 'token_num']"
   ]
  },
  {
   "cell_type": "markdown",
   "metadata": {},
   "source": [
    "## Import libraries"
   ]
  },
  {
   "cell_type": "code",
   "execution_count": 5,
   "metadata": {
    "colab": {},
    "colab_type": "code",
    "id": "MwrVU8kZDykb"
   },
   "outputs": [],
   "source": [
    "import pandas as pd\n",
    "import numpy as np\n",
    "%matplotlib inline"
   ]
  },
  {
   "cell_type": "markdown",
   "metadata": {},
   "source": [
    "# Import and combine texts"
   ]
  },
  {
   "cell_type": "code",
   "execution_count": 6,
   "metadata": {},
   "outputs": [],
   "source": [
    "text1 = pd.read_csv(text_file1)\n",
    "text2 = pd.read_csv(text_file2)"
   ]
  },
  {
   "cell_type": "code",
   "execution_count": 7,
   "metadata": {},
   "outputs": [
    {
     "data": {
      "text/html": [
       "<div>\n",
       "<style scoped>\n",
       "    .dataframe tbody tr th:only-of-type {\n",
       "        vertical-align: middle;\n",
       "    }\n",
       "\n",
       "    .dataframe tbody tr th {\n",
       "        vertical-align: top;\n",
       "    }\n",
       "\n",
       "    .dataframe thead th {\n",
       "        text-align: right;\n",
       "    }\n",
       "</style>\n",
       "<table border=\"1\" class=\"dataframe\">\n",
       "  <thead>\n",
       "    <tr style=\"text-align: right;\">\n",
       "      <th></th>\n",
       "      <th>chap_num</th>\n",
       "      <th>para_num</th>\n",
       "      <th>sent_num</th>\n",
       "      <th>token_num</th>\n",
       "      <th>token_str</th>\n",
       "    </tr>\n",
       "  </thead>\n",
       "  <tbody>\n",
       "    <tr>\n",
       "      <th>0</th>\n",
       "      <td>1</td>\n",
       "      <td>1</td>\n",
       "      <td>0</td>\n",
       "      <td>0</td>\n",
       "      <td>Sir</td>\n",
       "    </tr>\n",
       "    <tr>\n",
       "      <th>1</th>\n",
       "      <td>1</td>\n",
       "      <td>1</td>\n",
       "      <td>0</td>\n",
       "      <td>1</td>\n",
       "      <td>Walter</td>\n",
       "    </tr>\n",
       "    <tr>\n",
       "      <th>2</th>\n",
       "      <td>1</td>\n",
       "      <td>1</td>\n",
       "      <td>0</td>\n",
       "      <td>2</td>\n",
       "      <td>Elliot,</td>\n",
       "    </tr>\n",
       "    <tr>\n",
       "      <th>3</th>\n",
       "      <td>1</td>\n",
       "      <td>1</td>\n",
       "      <td>0</td>\n",
       "      <td>3</td>\n",
       "      <td>of</td>\n",
       "    </tr>\n",
       "    <tr>\n",
       "      <th>4</th>\n",
       "      <td>1</td>\n",
       "      <td>1</td>\n",
       "      <td>0</td>\n",
       "      <td>4</td>\n",
       "      <td>Kellynch</td>\n",
       "    </tr>\n",
       "  </tbody>\n",
       "</table>\n",
       "</div>"
      ],
      "text/plain": [
       "   chap_num  para_num  sent_num  token_num token_str\n",
       "0         1         1         0          0       Sir\n",
       "1         1         1         0          1    Walter\n",
       "2         1         1         0          2   Elliot,\n",
       "3         1         1         0          3        of\n",
       "4         1         1         0          4  Kellynch"
      ]
     },
     "execution_count": 7,
     "metadata": {},
     "output_type": "execute_result"
    }
   ],
   "source": [
    "text1.head()"
   ]
  },
  {
   "cell_type": "code",
   "execution_count": 8,
   "metadata": {},
   "outputs": [],
   "source": [
    "text1['book_id'] = 1\n",
    "text2['book_id'] = 2"
   ]
  },
  {
   "cell_type": "code",
   "execution_count": 9,
   "metadata": {},
   "outputs": [
    {
     "data": {
      "text/html": [
       "<div>\n",
       "<style scoped>\n",
       "    .dataframe tbody tr th:only-of-type {\n",
       "        vertical-align: middle;\n",
       "    }\n",
       "\n",
       "    .dataframe tbody tr th {\n",
       "        vertical-align: top;\n",
       "    }\n",
       "\n",
       "    .dataframe thead th {\n",
       "        text-align: right;\n",
       "    }\n",
       "</style>\n",
       "<table border=\"1\" class=\"dataframe\">\n",
       "  <thead>\n",
       "    <tr style=\"text-align: right;\">\n",
       "      <th></th>\n",
       "      <th>chap_num</th>\n",
       "      <th>para_num</th>\n",
       "      <th>sent_num</th>\n",
       "      <th>token_num</th>\n",
       "      <th>token_str</th>\n",
       "      <th>book_id</th>\n",
       "    </tr>\n",
       "  </thead>\n",
       "  <tbody>\n",
       "    <tr>\n",
       "      <th>0</th>\n",
       "      <td>1</td>\n",
       "      <td>1</td>\n",
       "      <td>0</td>\n",
       "      <td>0</td>\n",
       "      <td>Sir</td>\n",
       "      <td>1</td>\n",
       "    </tr>\n",
       "    <tr>\n",
       "      <th>1</th>\n",
       "      <td>1</td>\n",
       "      <td>1</td>\n",
       "      <td>0</td>\n",
       "      <td>1</td>\n",
       "      <td>Walter</td>\n",
       "      <td>1</td>\n",
       "    </tr>\n",
       "    <tr>\n",
       "      <th>2</th>\n",
       "      <td>1</td>\n",
       "      <td>1</td>\n",
       "      <td>0</td>\n",
       "      <td>2</td>\n",
       "      <td>Elliot,</td>\n",
       "      <td>1</td>\n",
       "    </tr>\n",
       "    <tr>\n",
       "      <th>3</th>\n",
       "      <td>1</td>\n",
       "      <td>1</td>\n",
       "      <td>0</td>\n",
       "      <td>3</td>\n",
       "      <td>of</td>\n",
       "      <td>1</td>\n",
       "    </tr>\n",
       "    <tr>\n",
       "      <th>4</th>\n",
       "      <td>1</td>\n",
       "      <td>1</td>\n",
       "      <td>0</td>\n",
       "      <td>4</td>\n",
       "      <td>Kellynch</td>\n",
       "      <td>1</td>\n",
       "    </tr>\n",
       "  </tbody>\n",
       "</table>\n",
       "</div>"
      ],
      "text/plain": [
       "   chap_num  para_num  sent_num  token_num token_str  book_id\n",
       "0         1         1         0          0       Sir        1\n",
       "1         1         1         0          1    Walter        1\n",
       "2         1         1         0          2   Elliot,        1\n",
       "3         1         1         0          3        of        1\n",
       "4         1         1         0          4  Kellynch        1"
      ]
     },
     "execution_count": 9,
     "metadata": {},
     "output_type": "execute_result"
    }
   ],
   "source": [
    "text1.head()"
   ]
  },
  {
   "cell_type": "code",
   "execution_count": 24,
   "metadata": {},
   "outputs": [],
   "source": [
    "tokens = pd.concat([text1, text2]).dropna()"
   ]
  },
  {
   "cell_type": "code",
   "execution_count": 25,
   "metadata": {},
   "outputs": [],
   "source": [
    "tokens = tokens.set_index(OHCO)"
   ]
  },
  {
   "cell_type": "code",
   "execution_count": 27,
   "metadata": {},
   "outputs": [
    {
     "data": {
      "text/html": [
       "<div>\n",
       "<style scoped>\n",
       "    .dataframe tbody tr th:only-of-type {\n",
       "        vertical-align: middle;\n",
       "    }\n",
       "\n",
       "    .dataframe tbody tr th {\n",
       "        vertical-align: top;\n",
       "    }\n",
       "\n",
       "    .dataframe thead th {\n",
       "        text-align: right;\n",
       "    }\n",
       "</style>\n",
       "<table border=\"1\" class=\"dataframe\">\n",
       "  <thead>\n",
       "    <tr style=\"text-align: right;\">\n",
       "      <th></th>\n",
       "      <th></th>\n",
       "      <th></th>\n",
       "      <th></th>\n",
       "      <th></th>\n",
       "      <th>token_str</th>\n",
       "    </tr>\n",
       "    <tr>\n",
       "      <th>book_id</th>\n",
       "      <th>chap_num</th>\n",
       "      <th>para_num</th>\n",
       "      <th>sent_num</th>\n",
       "      <th>token_num</th>\n",
       "      <th></th>\n",
       "    </tr>\n",
       "  </thead>\n",
       "  <tbody>\n",
       "    <tr>\n",
       "      <th rowspan=\"5\" valign=\"top\">1</th>\n",
       "      <th rowspan=\"5\" valign=\"top\">1</th>\n",
       "      <th rowspan=\"5\" valign=\"top\">1</th>\n",
       "      <th rowspan=\"5\" valign=\"top\">0</th>\n",
       "      <th>0</th>\n",
       "      <td>Sir</td>\n",
       "    </tr>\n",
       "    <tr>\n",
       "      <th>1</th>\n",
       "      <td>Walter</td>\n",
       "    </tr>\n",
       "    <tr>\n",
       "      <th>2</th>\n",
       "      <td>Elliot,</td>\n",
       "    </tr>\n",
       "    <tr>\n",
       "      <th>3</th>\n",
       "      <td>of</td>\n",
       "    </tr>\n",
       "    <tr>\n",
       "      <th>4</th>\n",
       "      <td>Kellynch</td>\n",
       "    </tr>\n",
       "  </tbody>\n",
       "</table>\n",
       "</div>"
      ],
      "text/plain": [
       "                                             token_str\n",
       "book_id chap_num para_num sent_num token_num          \n",
       "1       1        1        0        0               Sir\n",
       "                                   1            Walter\n",
       "                                   2           Elliot,\n",
       "                                   3                of\n",
       "                                   4          Kellynch"
      ]
     },
     "execution_count": 27,
     "metadata": {},
     "output_type": "execute_result"
    }
   ],
   "source": [
    "tokens.head()"
   ]
  },
  {
   "cell_type": "code",
   "execution_count": 45,
   "metadata": {},
   "outputs": [
    {
     "data": {
      "text/plain": [
       "\"                  1592\n",
       "\"'Tis                 1\n",
       "\"'Twill               1\n",
       "\"--                  22\n",
       "\"--As                 1\n",
       "\"--For                1\n",
       "\"--She                2\n",
       "\"--and                1\n",
       "\"--but                1\n",
       "\"--cried              2\n",
       "\"--he                 2\n",
       "\"--hesitatingly       1\n",
       "\"--in                 1\n",
       "\"--reciprocal         1\n",
       "\"--said               2\n",
       "\"--she                1\n",
       "\"--was                2\n",
       "\"A                   19\n",
       "\"About                3\n",
       "\"Add                  1\n",
       "\"Ah                  11\n",
       "\"Ah,                  1\n",
       "\"All                  3\n",
       "\"Almost               1\n",
       "\"Altered              1\n",
       "\"And                 56\n",
       "\"And--were            1\n",
       "\"Anne,                1\n",
       "\"Anne,\"               1\n",
       "\"Another              2\n",
       "                   ... \n",
       "you--all              1\n",
       "you--and              1\n",
       "you--sorry            1\n",
       "you--what,            1\n",
       "you:                  1\n",
       "young               177\n",
       "young,                9\n",
       "younger              13\n",
       "youngest              8\n",
       "youngest,             1\n",
       "youngest--to          1\n",
       "younker               1\n",
       "your                447\n",
       "your's                1\n",
       "yours                17\n",
       "yours,                8\n",
       "yours--or             1\n",
       "yourself             38\n",
       "yourself,            13\n",
       "yourself--such,       1\n",
       "yourselves            3\n",
       "yourselves,           2\n",
       "youth                14\n",
       "youth,                7\n",
       "youth-killing         1\n",
       "youthful              3\n",
       "zeal                  4\n",
       "zeal,                 3\n",
       "zealous               4\n",
       "zealously             2\n",
       "Name: token_str, Length: 13938, dtype: int64"
      ]
     },
     "execution_count": 45,
     "metadata": {},
     "output_type": "execute_result"
    }
   ],
   "source": [
    "tokens.token_str.value_counts().sort_index()"
   ]
  },
  {
   "cell_type": "markdown",
   "metadata": {},
   "source": [
    "# Create a vocabulary"
   ]
  },
  {
   "cell_type": "code",
   "execution_count": 28,
   "metadata": {},
   "outputs": [],
   "source": [
    "tokens['term_str'] = tokens['token_str'].str.lower().str.replace(r'[\\W_]', '')"
   ]
  },
  {
   "cell_type": "code",
   "execution_count": 37,
   "metadata": {},
   "outputs": [],
   "source": [
    "vocab = tokens['term_str'].value_counts()\\\n",
    "    .to_frame()\\\n",
    "    .reset_index()\\\n",
    "    .rename(columns={'term_str':'n', 'index':'term_str'})\\\n",
    "    .sort_values('term_str')\n",
    "vocab.index.name = 'term_id'"
   ]
  },
  {
   "cell_type": "code",
   "execution_count": 38,
   "metadata": {},
   "outputs": [
    {
     "data": {
      "text/html": [
       "<div>\n",
       "<style scoped>\n",
       "    .dataframe tbody tr th:only-of-type {\n",
       "        vertical-align: middle;\n",
       "    }\n",
       "\n",
       "    .dataframe tbody tr th {\n",
       "        vertical-align: top;\n",
       "    }\n",
       "\n",
       "    .dataframe thead th {\n",
       "        text-align: right;\n",
       "    }\n",
       "</style>\n",
       "<table border=\"1\" class=\"dataframe\">\n",
       "  <thead>\n",
       "    <tr style=\"text-align: right;\">\n",
       "      <th></th>\n",
       "      <th>term_str</th>\n",
       "      <th>n</th>\n",
       "    </tr>\n",
       "    <tr>\n",
       "      <th>term_id</th>\n",
       "      <th></th>\n",
       "      <th></th>\n",
       "    </tr>\n",
       "  </thead>\n",
       "  <tbody>\n",
       "    <tr>\n",
       "      <th>19</th>\n",
       "      <td></td>\n",
       "      <td>1758</td>\n",
       "    </tr>\n",
       "    <tr>\n",
       "      <th>3998</th>\n",
       "      <td>1</td>\n",
       "      <td>3</td>\n",
       "    </tr>\n",
       "    <tr>\n",
       "      <th>6681</th>\n",
       "      <td>15</td>\n",
       "      <td>1</td>\n",
       "    </tr>\n",
       "    <tr>\n",
       "      <th>7814</th>\n",
       "      <td>16</td>\n",
       "      <td>1</td>\n",
       "    </tr>\n",
       "    <tr>\n",
       "      <th>8700</th>\n",
       "      <td>1760</td>\n",
       "      <td>1</td>\n",
       "    </tr>\n",
       "  </tbody>\n",
       "</table>\n",
       "</div>"
      ],
      "text/plain": [
       "        term_str     n\n",
       "term_id               \n",
       "19                1758\n",
       "3998           1     3\n",
       "6681          15     1\n",
       "7814          16     1\n",
       "8700        1760     1"
      ]
     },
     "execution_count": 38,
     "metadata": {},
     "output_type": "execute_result"
    }
   ],
   "source": [
    "vocab.head()"
   ]
  },
  {
   "cell_type": "code",
   "execution_count": 16,
   "metadata": {},
   "outputs": [
    {
     "data": {
      "text/html": [
       "<div>\n",
       "<style scoped>\n",
       "    .dataframe tbody tr th:only-of-type {\n",
       "        vertical-align: middle;\n",
       "    }\n",
       "\n",
       "    .dataframe tbody tr th {\n",
       "        vertical-align: top;\n",
       "    }\n",
       "\n",
       "    .dataframe thead th {\n",
       "        text-align: right;\n",
       "    }\n",
       "</style>\n",
       "<table border=\"1\" class=\"dataframe\">\n",
       "  <thead>\n",
       "    <tr style=\"text-align: right;\">\n",
       "      <th></th>\n",
       "      <th>term_str</th>\n",
       "      <th>n</th>\n",
       "    </tr>\n",
       "    <tr>\n",
       "      <th>term_id</th>\n",
       "      <th></th>\n",
       "      <th></th>\n",
       "    </tr>\n",
       "  </thead>\n",
       "  <tbody>\n",
       "    <tr>\n",
       "      <th>7596</th>\n",
       "      <td>eyeswill</td>\n",
       "      <td>1</td>\n",
       "    </tr>\n",
       "    <tr>\n",
       "      <th>351</th>\n",
       "      <td>else</td>\n",
       "      <td>71</td>\n",
       "    </tr>\n",
       "    <tr>\n",
       "      <th>8119</th>\n",
       "      <td>judicious</td>\n",
       "      <td>1</td>\n",
       "    </tr>\n",
       "    <tr>\n",
       "      <th>84</th>\n",
       "      <td>how</td>\n",
       "      <td>353</td>\n",
       "    </tr>\n",
       "    <tr>\n",
       "      <th>2340</th>\n",
       "      <td>punishment</td>\n",
       "      <td>6</td>\n",
       "    </tr>\n",
       "  </tbody>\n",
       "</table>\n",
       "</div>"
      ],
      "text/plain": [
       "           term_str    n\n",
       "term_id                 \n",
       "7596       eyeswill    1\n",
       "351            else   71\n",
       "8119      judicious    1\n",
       "84              how  353\n",
       "2340     punishment    6"
      ]
     },
     "execution_count": 16,
     "metadata": {},
     "output_type": "execute_result"
    }
   ],
   "source": [
    "vocab.sample(5)"
   ]
  },
  {
   "cell_type": "markdown",
   "metadata": {},
   "source": [
    "# Create Unigram Model"
   ]
  },
  {
   "cell_type": "code",
   "execution_count": 17,
   "metadata": {},
   "outputs": [],
   "source": [
    "n_tokens = vocab.n.sum()\n",
    "vocab['p'] = vocab['n'] / n_tokens\n",
    "vocab['log_p'] = np.log2(vocab['p'])"
   ]
  },
  {
   "cell_type": "code",
   "execution_count": 18,
   "metadata": {},
   "outputs": [
    {
     "data": {
      "text/plain": [
       "203937"
      ]
     },
     "execution_count": 18,
     "metadata": {},
     "output_type": "execute_result"
    }
   ],
   "source": [
    "n_tokens"
   ]
  },
  {
   "cell_type": "code",
   "execution_count": 19,
   "metadata": {},
   "outputs": [
    {
     "data": {
      "text/html": [
       "<div>\n",
       "<style scoped>\n",
       "    .dataframe tbody tr th:only-of-type {\n",
       "        vertical-align: middle;\n",
       "    }\n",
       "\n",
       "    .dataframe tbody tr th {\n",
       "        vertical-align: top;\n",
       "    }\n",
       "\n",
       "    .dataframe thead th {\n",
       "        text-align: right;\n",
       "    }\n",
       "</style>\n",
       "<table border=\"1\" class=\"dataframe\">\n",
       "  <thead>\n",
       "    <tr style=\"text-align: right;\">\n",
       "      <th></th>\n",
       "      <th>term_str</th>\n",
       "      <th>n</th>\n",
       "      <th>p</th>\n",
       "      <th>log_p</th>\n",
       "    </tr>\n",
       "    <tr>\n",
       "      <th>term_id</th>\n",
       "      <th></th>\n",
       "      <th></th>\n",
       "      <th></th>\n",
       "      <th></th>\n",
       "    </tr>\n",
       "  </thead>\n",
       "  <tbody>\n",
       "    <tr>\n",
       "      <th>0</th>\n",
       "      <td>the</td>\n",
       "      <td>7421</td>\n",
       "      <td>0.036389</td>\n",
       "      <td>-4.780366</td>\n",
       "    </tr>\n",
       "    <tr>\n",
       "      <th>1</th>\n",
       "      <td>to</td>\n",
       "      <td>6872</td>\n",
       "      <td>0.033697</td>\n",
       "      <td>-4.891250</td>\n",
       "    </tr>\n",
       "    <tr>\n",
       "      <th>2</th>\n",
       "      <td>and</td>\n",
       "      <td>6227</td>\n",
       "      <td>0.030534</td>\n",
       "      <td>-5.033442</td>\n",
       "    </tr>\n",
       "    <tr>\n",
       "      <th>3</th>\n",
       "      <td>of</td>\n",
       "      <td>6136</td>\n",
       "      <td>0.030088</td>\n",
       "      <td>-5.054681</td>\n",
       "    </tr>\n",
       "    <tr>\n",
       "      <th>4</th>\n",
       "      <td>her</td>\n",
       "      <td>3731</td>\n",
       "      <td>0.018295</td>\n",
       "      <td>-5.772417</td>\n",
       "    </tr>\n",
       "    <tr>\n",
       "      <th>5</th>\n",
       "      <td>a</td>\n",
       "      <td>3636</td>\n",
       "      <td>0.017829</td>\n",
       "      <td>-5.809628</td>\n",
       "    </tr>\n",
       "    <tr>\n",
       "      <th>6</th>\n",
       "      <td>in</td>\n",
       "      <td>3316</td>\n",
       "      <td>0.016260</td>\n",
       "      <td>-5.942536</td>\n",
       "    </tr>\n",
       "    <tr>\n",
       "      <th>7</th>\n",
       "      <td>was</td>\n",
       "      <td>3182</td>\n",
       "      <td>0.015603</td>\n",
       "      <td>-6.002046</td>\n",
       "    </tr>\n",
       "    <tr>\n",
       "      <th>8</th>\n",
       "      <td>i</td>\n",
       "      <td>3074</td>\n",
       "      <td>0.015073</td>\n",
       "      <td>-6.051863</td>\n",
       "    </tr>\n",
       "    <tr>\n",
       "      <th>9</th>\n",
       "      <td>it</td>\n",
       "      <td>2755</td>\n",
       "      <td>0.013509</td>\n",
       "      <td>-6.209927</td>\n",
       "    </tr>\n",
       "  </tbody>\n",
       "</table>\n",
       "</div>"
      ],
      "text/plain": [
       "        term_str     n         p     log_p\n",
       "term_id                                   \n",
       "0            the  7421  0.036389 -4.780366\n",
       "1             to  6872  0.033697 -4.891250\n",
       "2            and  6227  0.030534 -5.033442\n",
       "3             of  6136  0.030088 -5.054681\n",
       "4            her  3731  0.018295 -5.772417\n",
       "5              a  3636  0.017829 -5.809628\n",
       "6             in  3316  0.016260 -5.942536\n",
       "7            was  3182  0.015603 -6.002046\n",
       "8              i  3074  0.015073 -6.051863\n",
       "9             it  2755  0.013509 -6.209927"
      ]
     },
     "execution_count": 19,
     "metadata": {},
     "output_type": "execute_result"
    }
   ],
   "source": [
    "vocab.sort_values('p', ascending=False).head(10)"
   ]
  },
  {
   "cell_type": "code",
   "execution_count": 20,
   "metadata": {
    "colab_type": "text",
    "id": "NfMtOiCYDylX",
    "toc-hr-collapsed": false
   },
   "outputs": [],
   "source": [
    "smooth = vocab['p'].min()\n",
    "def predict_sentence(sent_str):\n",
    "    tokens = pd.DataFrame(sent_str.lower().split(), columns=['term_str'])\n",
    "    tokens = tokens.merge(vocab, on='term_str', how='left')\n",
    "    tokens.loc[tokens['p'].isna(), ['p', 'log_p']] = [smooth, np.log2(smooth)]\n",
    "    p = tokens['p'].product()\n",
    "    log_p = tokens['log_p'].sum()\n",
    "    print('-' * 80)\n",
    "    print(\"p('{}') = {}; log2: {}\".format(sent_str, p, log_p))\n",
    "    print('-' * 80)\n",
    "    print(tokens)\n",
    "    print('-' * 80)"
   ]
  },
  {
   "cell_type": "code",
   "execution_count": 21,
   "metadata": {
    "colab_type": "text",
    "id": "NfMtOiCYDylX",
    "toc-hr-collapsed": false
   },
   "outputs": [
    {
     "name": "stdout",
     "output_type": "stream",
     "text": [
      "--------------------------------------------------------------------------------\n",
      "p('I love you') = 7.602946516155411e-08; log2: -23.648866116803514\n",
      "--------------------------------------------------------------------------------\n",
      "  term_str     n         p      log_p\n",
      "0        i  3074  0.015073  -6.051863\n",
      "1     love   117  0.000574 -10.767399\n",
      "2      you  1793  0.008792  -6.829604\n",
      "--------------------------------------------------------------------------------\n",
      "--------------------------------------------------------------------------------\n",
      "p('I love cars') = 4.24034942339956e-11; log2: -34.45702588967189\n",
      "--------------------------------------------------------------------------------\n",
      "  term_str       n         p      log_p\n",
      "0        i  3074.0  0.015073  -6.051863\n",
      "1     love   117.0  0.000574 -10.767399\n",
      "2     cars     NaN  0.000005 -17.637764\n",
      "--------------------------------------------------------------------------------\n",
      "--------------------------------------------------------------------------------\n",
      "p('I want to') = 1.7683054426236974e-07; log2: -22.431129168612145\n",
      "--------------------------------------------------------------------------------\n",
      "  term_str     n         p      log_p\n",
      "0        i  3074  0.015073  -6.051863\n",
      "1     want    71  0.000348 -11.488017\n",
      "2       to  6872  0.033697  -4.891250\n",
      "--------------------------------------------------------------------------------\n",
      "--------------------------------------------------------------------------------\n",
      "p('anne said to') = 2.060870571020619e-07; log2: -22.21024276215342\n",
      "--------------------------------------------------------------------------------\n",
      "  term_str     n         p     log_p\n",
      "0     anne   451  0.002211 -8.820780\n",
      "1     said   564  0.002766 -8.498213\n",
      "2       to  6872  0.033697 -4.891250\n",
      "--------------------------------------------------------------------------------\n",
      "--------------------------------------------------------------------------------\n",
      "p('said to her') = 1.7049020178443303e-06; log2: -19.161879740592024\n",
      "--------------------------------------------------------------------------------\n",
      "  term_str     n         p     log_p\n",
      "0     said   564  0.002766 -8.498213\n",
      "1       to  6872  0.033697 -4.891250\n",
      "2      her  3731  0.018295 -5.772417\n",
      "--------------------------------------------------------------------------------\n",
      "--------------------------------------------------------------------------------\n",
      "p('she said') = 3.715674090237048e-05; log2: -14.716016509050691\n",
      "--------------------------------------------------------------------------------\n",
      "  term_str     n         p     log_p\n",
      "0      she  2740  0.013436 -6.217804\n",
      "1     said   564  0.002766 -8.498213\n",
      "--------------------------------------------------------------------------------\n"
     ]
    }
   ],
   "source": [
    "predict_sentence('I love you')\n",
    "predict_sentence('I love cars')\n",
    "predict_sentence(\"I want to\")\n",
    "predict_sentence(\"anne said to\")\n",
    "predict_sentence(\"said to her\")\n",
    "predict_sentence('she said')"
   ]
  },
  {
   "cell_type": "markdown",
   "metadata": {
    "colab_type": "text",
    "id": "NfMtOiCYDylX",
    "toc-hr-collapsed": false
   },
   "source": [
    "# Buld N-Gram models\n",
    "\n",
    "This function generates models up to the length specified."
   ]
  },
  {
   "cell_type": "code",
   "execution_count": 23,
   "metadata": {
    "colab": {},
    "colab_type": "code",
    "id": "cPUTfjSDDylz"
   },
   "outputs": [],
   "source": [
    "def get_ngrams(tokens, n=2):\n",
    "    \n",
    "    # Create list to store copies of tokens table\n",
    "    X = []\n",
    "    \n",
    "    # We convert the index to cols in order to change the value of token_num\n",
    "    X.append(tokens['term_str'].reset_index())\n",
    "        \n",
    "    # Create copies of token table for each level of ngram, offset by 1, and \n",
    "    # merge with previous \n",
    "    for i in range(1, n):\n",
    "        X.append(X[0].copy())\n",
    "        X[i]['token_num'] = X[i]['token_num'] + i\n",
    "        X[i] = X[i].merge(X[i-1], on=OHCO, how='left', sort=True).fillna('<s>')\n",
    "        \n",
    "    # Compress tables to unique ngrams with counts\n",
    "    for i in range(0, n):\n",
    "        X[i] = X[i].drop(OHCO, 1)\n",
    "        cols = X[i].columns.tolist()\n",
    "        X[i]['n'] = 0\n",
    "        X[i] = X[i].groupby(cols).n.apply(lambda x: x.count()).to_frame()\n",
    "        X[i].index.names = ['w{}'.format(j) for j in range(i+1)]\n",
    "            \n",
    "    # Return just the ngram tables\n",
    "    return X"
   ]
  },
  {
   "cell_type": "markdown",
   "metadata": {
    "colab": {},
    "colab_type": "code",
    "id": "_aQs_gk_Dyl7"
   },
   "source": [
    "## Generate three models\n",
    "\n",
    "Unigram, bigram, and trigram"
   ]
  },
  {
   "cell_type": "code",
   "execution_count": 24,
   "metadata": {
    "colab": {},
    "colab_type": "code",
    "id": "_aQs_gk_Dyl7"
   },
   "outputs": [],
   "source": [
    "m1, m2, m3 = get_ngrams(tokens, n=3)"
   ]
  },
  {
   "cell_type": "code",
   "execution_count": 29,
   "metadata": {
    "colab": {},
    "colab_type": "code",
    "id": "_aQs_gk_Dyl7"
   },
   "outputs": [
    {
     "data": {
      "text/html": [
       "<div>\n",
       "<style scoped>\n",
       "    .dataframe tbody tr th:only-of-type {\n",
       "        vertical-align: middle;\n",
       "    }\n",
       "\n",
       "    .dataframe tbody tr th {\n",
       "        vertical-align: top;\n",
       "    }\n",
       "\n",
       "    .dataframe thead th {\n",
       "        text-align: right;\n",
       "    }\n",
       "</style>\n",
       "<table border=\"1\" class=\"dataframe\">\n",
       "  <thead>\n",
       "    <tr style=\"text-align: right;\">\n",
       "      <th></th>\n",
       "      <th></th>\n",
       "      <th></th>\n",
       "      <th>n</th>\n",
       "    </tr>\n",
       "    <tr>\n",
       "      <th>w0</th>\n",
       "      <th>w1</th>\n",
       "      <th>w2</th>\n",
       "      <th></th>\n",
       "    </tr>\n",
       "  </thead>\n",
       "  <tbody>\n",
       "    <tr>\n",
       "      <th>even</th>\n",
       "      <th>old</th>\n",
       "      <th>ugly</th>\n",
       "      <td>1</td>\n",
       "    </tr>\n",
       "    <tr>\n",
       "      <th>superior</th>\n",
       "      <th>creature</th>\n",
       "      <th>and</th>\n",
       "      <td>1</td>\n",
       "    </tr>\n",
       "    <tr>\n",
       "      <th>bowing</th>\n",
       "      <th>to</th>\n",
       "      <th>the</th>\n",
       "      <td>1</td>\n",
       "    </tr>\n",
       "    <tr>\n",
       "      <th>ferrarss</th>\n",
       "      <th>name</th>\n",
       "      <th>by</th>\n",
       "      <td>1</td>\n",
       "    </tr>\n",
       "    <tr>\n",
       "      <th>exercise</th>\n",
       "      <th>which</th>\n",
       "      <th>called</th>\n",
       "      <td>1</td>\n",
       "    </tr>\n",
       "    <tr>\n",
       "      <th>a</th>\n",
       "      <th>reverie</th>\n",
       "      <th>of</th>\n",
       "      <td>2</td>\n",
       "    </tr>\n",
       "    <tr>\n",
       "      <th>these</th>\n",
       "      <th>four</th>\n",
       "      <th>months</th>\n",
       "      <td>1</td>\n",
       "    </tr>\n",
       "    <tr>\n",
       "      <th>lively</th>\n",
       "      <th>pain</th>\n",
       "      <th>as</th>\n",
       "      <td>1</td>\n",
       "    </tr>\n",
       "    <tr>\n",
       "      <th>take</th>\n",
       "      <th>my</th>\n",
       "      <th>oath</th>\n",
       "      <td>1</td>\n",
       "    </tr>\n",
       "    <tr>\n",
       "      <th>men</th>\n",
       "      <th>that</th>\n",
       "      <th>ever</th>\n",
       "      <td>1</td>\n",
       "    </tr>\n",
       "  </tbody>\n",
       "</table>\n",
       "</div>"
      ],
      "text/plain": [
       "                          n\n",
       "w0       w1       w2       \n",
       "even     old      ugly    1\n",
       "superior creature and     1\n",
       "bowing   to       the     1\n",
       "ferrarss name     by      1\n",
       "exercise which    called  1\n",
       "a        reverie  of      2\n",
       "these    four     months  1\n",
       "lively   pain     as      1\n",
       "take     my       oath    1\n",
       "men      that     ever    1"
      ]
     },
     "execution_count": 29,
     "metadata": {},
     "output_type": "execute_result"
    }
   ],
   "source": [
    "m3.sample(10)"
   ]
  },
  {
   "cell_type": "markdown",
   "metadata": {},
   "source": [
    "## Compute joint probabilities"
   ]
  },
  {
   "cell_type": "code",
   "execution_count": 30,
   "metadata": {
    "colab": {},
    "colab_type": "code",
    "id": "_aQs_gk_Dyl7"
   },
   "outputs": [],
   "source": [
    "m1['p'] = m1['n'] / m1['n'].sum()\n",
    "m2['p'] = m2['n'] / m2['n'].sum()\n",
    "m3['p'] = m3['n'] / m3['n'].sum()"
   ]
  },
  {
   "cell_type": "code",
   "execution_count": 31,
   "metadata": {
    "colab": {},
    "colab_type": "code",
    "id": "_aQs_gk_Dyl7"
   },
   "outputs": [
    {
     "data": {
      "text/html": [
       "<div>\n",
       "<style scoped>\n",
       "    .dataframe tbody tr th:only-of-type {\n",
       "        vertical-align: middle;\n",
       "    }\n",
       "\n",
       "    .dataframe tbody tr th {\n",
       "        vertical-align: top;\n",
       "    }\n",
       "\n",
       "    .dataframe thead th {\n",
       "        text-align: right;\n",
       "    }\n",
       "</style>\n",
       "<table border=\"1\" class=\"dataframe\">\n",
       "  <thead>\n",
       "    <tr style=\"text-align: right;\">\n",
       "      <th></th>\n",
       "      <th>n</th>\n",
       "      <th>p</th>\n",
       "    </tr>\n",
       "    <tr>\n",
       "      <th>w0</th>\n",
       "      <th></th>\n",
       "      <th></th>\n",
       "    </tr>\n",
       "  </thead>\n",
       "  <tbody>\n",
       "    <tr>\n",
       "      <th>the</th>\n",
       "      <td>7421</td>\n",
       "      <td>0.036389</td>\n",
       "    </tr>\n",
       "    <tr>\n",
       "      <th>to</th>\n",
       "      <td>6872</td>\n",
       "      <td>0.033697</td>\n",
       "    </tr>\n",
       "    <tr>\n",
       "      <th>and</th>\n",
       "      <td>6227</td>\n",
       "      <td>0.030534</td>\n",
       "    </tr>\n",
       "    <tr>\n",
       "      <th>of</th>\n",
       "      <td>6136</td>\n",
       "      <td>0.030088</td>\n",
       "    </tr>\n",
       "    <tr>\n",
       "      <th>her</th>\n",
       "      <td>3731</td>\n",
       "      <td>0.018295</td>\n",
       "    </tr>\n",
       "  </tbody>\n",
       "</table>\n",
       "</div>"
      ],
      "text/plain": [
       "        n         p\n",
       "w0                 \n",
       "the  7421  0.036389\n",
       "to   6872  0.033697\n",
       "and  6227  0.030534\n",
       "of   6136  0.030088\n",
       "her  3731  0.018295"
      ]
     },
     "execution_count": 31,
     "metadata": {},
     "output_type": "execute_result"
    }
   ],
   "source": [
    "m1.sort_values('p', ascending=False).head()"
   ]
  },
  {
   "cell_type": "code",
   "execution_count": 32,
   "metadata": {
    "colab": {},
    "colab_type": "code",
    "id": "_aQs_gk_Dyl7"
   },
   "outputs": [
    {
     "data": {
      "text/html": [
       "<div>\n",
       "<style scoped>\n",
       "    .dataframe tbody tr th:only-of-type {\n",
       "        vertical-align: middle;\n",
       "    }\n",
       "\n",
       "    .dataframe tbody tr th {\n",
       "        vertical-align: top;\n",
       "    }\n",
       "\n",
       "    .dataframe thead th {\n",
       "        text-align: right;\n",
       "    }\n",
       "</style>\n",
       "<table border=\"1\" class=\"dataframe\">\n",
       "  <thead>\n",
       "    <tr style=\"text-align: right;\">\n",
       "      <th></th>\n",
       "      <th></th>\n",
       "      <th>n</th>\n",
       "      <th>p</th>\n",
       "    </tr>\n",
       "    <tr>\n",
       "      <th>w0</th>\n",
       "      <th>w1</th>\n",
       "      <th></th>\n",
       "      <th></th>\n",
       "    </tr>\n",
       "  </thead>\n",
       "  <tbody>\n",
       "    <tr>\n",
       "      <th></th>\n",
       "      <th>&lt;s&gt;</th>\n",
       "      <td>1388</td>\n",
       "      <td>0.006806</td>\n",
       "    </tr>\n",
       "    <tr>\n",
       "      <th>of</th>\n",
       "      <th>the</th>\n",
       "      <td>856</td>\n",
       "      <td>0.004197</td>\n",
       "    </tr>\n",
       "    <tr>\n",
       "      <th>to</th>\n",
       "      <th>be</th>\n",
       "      <td>812</td>\n",
       "      <td>0.003982</td>\n",
       "    </tr>\n",
       "    <tr>\n",
       "      <th>in</th>\n",
       "      <th>the</th>\n",
       "      <td>679</td>\n",
       "      <td>0.003329</td>\n",
       "    </tr>\n",
       "    <tr>\n",
       "      <th>mrs</th>\n",
       "      <th>&lt;s&gt;</th>\n",
       "      <td>529</td>\n",
       "      <td>0.002594</td>\n",
       "    </tr>\n",
       "  </tbody>\n",
       "</table>\n",
       "</div>"
      ],
      "text/plain": [
       "            n         p\n",
       "w0  w1                 \n",
       "    <s>  1388  0.006806\n",
       "of  the   856  0.004197\n",
       "to  be    812  0.003982\n",
       "in  the   679  0.003329\n",
       "mrs <s>   529  0.002594"
      ]
     },
     "execution_count": 32,
     "metadata": {},
     "output_type": "execute_result"
    }
   ],
   "source": [
    "m2.sort_values('p', ascending=False).head()"
   ]
  },
  {
   "cell_type": "code",
   "execution_count": 37,
   "metadata": {},
   "outputs": [
    {
     "data": {
      "text/html": [
       "<div>\n",
       "<style scoped>\n",
       "    .dataframe tbody tr th:only-of-type {\n",
       "        vertical-align: middle;\n",
       "    }\n",
       "\n",
       "    .dataframe tbody tr th {\n",
       "        vertical-align: top;\n",
       "    }\n",
       "\n",
       "    .dataframe thead th {\n",
       "        text-align: right;\n",
       "    }\n",
       "</style>\n",
       "<table border=\"1\" class=\"dataframe\">\n",
       "  <thead>\n",
       "    <tr style=\"text-align: right;\">\n",
       "      <th></th>\n",
       "      <th></th>\n",
       "      <th></th>\n",
       "      <th>n</th>\n",
       "      <th>p</th>\n",
       "    </tr>\n",
       "    <tr>\n",
       "      <th>w0</th>\n",
       "      <th>w1</th>\n",
       "      <th>w2</th>\n",
       "      <th></th>\n",
       "      <th></th>\n",
       "    </tr>\n",
       "  </thead>\n",
       "  <tbody>\n",
       "    <tr>\n",
       "      <th></th>\n",
       "      <th>&lt;s&gt;</th>\n",
       "      <th>&lt;s&gt;</th>\n",
       "      <td>1388</td>\n",
       "      <td>0.006806</td>\n",
       "    </tr>\n",
       "    <tr>\n",
       "      <th>mrs</th>\n",
       "      <th>&lt;s&gt;</th>\n",
       "      <th>&lt;s&gt;</th>\n",
       "      <td>529</td>\n",
       "      <td>0.002594</td>\n",
       "    </tr>\n",
       "    <tr>\n",
       "      <th>it</th>\n",
       "      <th>&lt;s&gt;</th>\n",
       "      <th>&lt;s&gt;</th>\n",
       "      <td>352</td>\n",
       "      <td>0.001726</td>\n",
       "    </tr>\n",
       "    <tr>\n",
       "      <th>her</th>\n",
       "      <th>&lt;s&gt;</th>\n",
       "      <th>&lt;s&gt;</th>\n",
       "      <td>236</td>\n",
       "      <td>0.001157</td>\n",
       "    </tr>\n",
       "    <tr>\n",
       "      <th>him</th>\n",
       "      <th>&lt;s&gt;</th>\n",
       "      <th>&lt;s&gt;</th>\n",
       "      <td>216</td>\n",
       "      <td>0.001059</td>\n",
       "    </tr>\n",
       "    <tr>\n",
       "      <th>mr</th>\n",
       "      <th>&lt;s&gt;</th>\n",
       "      <th>&lt;s&gt;</th>\n",
       "      <td>179</td>\n",
       "      <td>0.000878</td>\n",
       "    </tr>\n",
       "    <tr>\n",
       "      <th>them</th>\n",
       "      <th>&lt;s&gt;</th>\n",
       "      <th>&lt;s&gt;</th>\n",
       "      <td>157</td>\n",
       "      <td>0.000770</td>\n",
       "    </tr>\n",
       "    <tr>\n",
       "      <th>you</th>\n",
       "      <th>&lt;s&gt;</th>\n",
       "      <th>&lt;s&gt;</th>\n",
       "      <td>151</td>\n",
       "      <td>0.000740</td>\n",
       "    </tr>\n",
       "    <tr>\n",
       "      <th>me</th>\n",
       "      <th>&lt;s&gt;</th>\n",
       "      <th>&lt;s&gt;</th>\n",
       "      <td>145</td>\n",
       "      <td>0.000711</td>\n",
       "    </tr>\n",
       "    <tr>\n",
       "      <th>i</th>\n",
       "      <th>am</th>\n",
       "      <th>sure</th>\n",
       "      <td>106</td>\n",
       "      <td>0.000520</td>\n",
       "    </tr>\n",
       "    <tr>\n",
       "      <th>she</th>\n",
       "      <th>could</th>\n",
       "      <th>not</th>\n",
       "      <td>92</td>\n",
       "      <td>0.000451</td>\n",
       "    </tr>\n",
       "    <tr>\n",
       "      <th>as</th>\n",
       "      <th>soon</th>\n",
       "      <th>as</th>\n",
       "      <td>81</td>\n",
       "      <td>0.000397</td>\n",
       "    </tr>\n",
       "    <tr>\n",
       "      <th>again</th>\n",
       "      <th>&lt;s&gt;</th>\n",
       "      <th>&lt;s&gt;</th>\n",
       "      <td>79</td>\n",
       "      <td>0.000387</td>\n",
       "    </tr>\n",
       "    <tr>\n",
       "      <th>in</th>\n",
       "      <th>the</th>\n",
       "      <th>world</th>\n",
       "      <td>78</td>\n",
       "      <td>0.000382</td>\n",
       "    </tr>\n",
       "    <tr>\n",
       "      <th>all</th>\n",
       "      <th>&lt;s&gt;</th>\n",
       "      <th>&lt;s&gt;</th>\n",
       "      <td>76</td>\n",
       "      <td>0.000373</td>\n",
       "    </tr>\n",
       "  </tbody>\n",
       "</table>\n",
       "</div>"
      ],
      "text/plain": [
       "                      n         p\n",
       "w0    w1    w2                   \n",
       "      <s>   <s>    1388  0.006806\n",
       "mrs   <s>   <s>     529  0.002594\n",
       "it    <s>   <s>     352  0.001726\n",
       "her   <s>   <s>     236  0.001157\n",
       "him   <s>   <s>     216  0.001059\n",
       "mr    <s>   <s>     179  0.000878\n",
       "them  <s>   <s>     157  0.000770\n",
       "you   <s>   <s>     151  0.000740\n",
       "me    <s>   <s>     145  0.000711\n",
       "i     am    sure    106  0.000520\n",
       "she   could not      92  0.000451\n",
       "as    soon  as       81  0.000397\n",
       "again <s>   <s>      79  0.000387\n",
       "in    the   world    78  0.000382\n",
       "all   <s>   <s>      76  0.000373"
      ]
     },
     "execution_count": 37,
     "metadata": {},
     "output_type": "execute_result"
    }
   ],
   "source": [
    "m3.sort_values('p', ascending=False).head(15)"
   ]
  },
  {
   "cell_type": "markdown",
   "metadata": {},
   "source": [
    "## Compute conditional probabilities\n",
    "\n",
    "$p(w_1|w_0) = p(w_0, w_1) / p(w_0)$\n",
    "\n",
    "$p(w_2|w_0,w_1) = p(w_0, w_1, w_2) / p(w_0, w_1)$"
   ]
  },
  {
   "cell_type": "code",
   "execution_count": 38,
   "metadata": {},
   "outputs": [],
   "source": [
    "m2m = m2.n.unstack().fillna(0).apply(lambda x: x / x.sum(), 1)"
   ]
  },
  {
   "cell_type": "code",
   "execution_count": 45,
   "metadata": {},
   "outputs": [],
   "source": [
    "m3m = m3.n.unstack().fillna(0).apply(lambda x: x / x.sum(), 1)"
   ]
  },
  {
   "cell_type": "markdown",
   "metadata": {},
   "source": [
    "# Explore"
   ]
  },
  {
   "cell_type": "code",
   "execution_count": 47,
   "metadata": {},
   "outputs": [
    {
     "data": {
      "text/html": [
       "<style  type=\"text/css\" >\n",
       "    #T_c09b82b4_13e2_11ea_99b9_8c859027f1b0row0_col0 {\n",
       "            background-color:  #50b264;\n",
       "        }    #T_c09b82b4_13e2_11ea_99b9_8c859027f1b0row0_col1 {\n",
       "            background-color:  #004c1e;\n",
       "        }    #T_c09b82b4_13e2_11ea_99b9_8c859027f1b0row0_col2 {\n",
       "            background-color:  #b1e0ab;\n",
       "        }    #T_c09b82b4_13e2_11ea_99b9_8c859027f1b0row0_col3 {\n",
       "            background-color:  #c2e7bb;\n",
       "        }    #T_c09b82b4_13e2_11ea_99b9_8c859027f1b0row0_col4 {\n",
       "            background-color:  #76c578;\n",
       "        }    #T_c09b82b4_13e2_11ea_99b9_8c859027f1b0row0_col5 {\n",
       "            background-color:  #00441b;\n",
       "        }    #T_c09b82b4_13e2_11ea_99b9_8c859027f1b0row0_col6 {\n",
       "            background-color:  #00441b;\n",
       "        }    #T_c09b82b4_13e2_11ea_99b9_8c859027f1b0row0_col7 {\n",
       "            background-color:  #aedea7;\n",
       "        }    #T_c09b82b4_13e2_11ea_99b9_8c859027f1b0row1_col0 {\n",
       "            background-color:  #ceecc8;\n",
       "        }    #T_c09b82b4_13e2_11ea_99b9_8c859027f1b0row1_col1 {\n",
       "            background-color:  #00441b;\n",
       "        }    #T_c09b82b4_13e2_11ea_99b9_8c859027f1b0row1_col2 {\n",
       "            background-color:  #7ac77b;\n",
       "        }    #T_c09b82b4_13e2_11ea_99b9_8c859027f1b0row1_col3 {\n",
       "            background-color:  #005f26;\n",
       "        }    #T_c09b82b4_13e2_11ea_99b9_8c859027f1b0row1_col4 {\n",
       "            background-color:  #00441b;\n",
       "        }    #T_c09b82b4_13e2_11ea_99b9_8c859027f1b0row1_col5 {\n",
       "            background-color:  #5ab769;\n",
       "        }    #T_c09b82b4_13e2_11ea_99b9_8c859027f1b0row1_col6 {\n",
       "            background-color:  #4aaf61;\n",
       "        }    #T_c09b82b4_13e2_11ea_99b9_8c859027f1b0row1_col7 {\n",
       "            background-color:  #00441b;\n",
       "        }    #T_c09b82b4_13e2_11ea_99b9_8c859027f1b0row2_col0 {\n",
       "            background-color:  #00441b;\n",
       "        }    #T_c09b82b4_13e2_11ea_99b9_8c859027f1b0row2_col1 {\n",
       "            background-color:  #f7fcf5;\n",
       "        }    #T_c09b82b4_13e2_11ea_99b9_8c859027f1b0row2_col2 {\n",
       "            background-color:  #00441b;\n",
       "        }    #T_c09b82b4_13e2_11ea_99b9_8c859027f1b0row2_col3 {\n",
       "            background-color:  #f5fbf2;\n",
       "        }    #T_c09b82b4_13e2_11ea_99b9_8c859027f1b0row2_col4 {\n",
       "            background-color:  #f2faef;\n",
       "        }    #T_c09b82b4_13e2_11ea_99b9_8c859027f1b0row2_col5 {\n",
       "            background-color:  #f7fcf5;\n",
       "        }    #T_c09b82b4_13e2_11ea_99b9_8c859027f1b0row2_col6 {\n",
       "            background-color:  #f7fcf5;\n",
       "        }    #T_c09b82b4_13e2_11ea_99b9_8c859027f1b0row2_col7 {\n",
       "            background-color:  #f7fcf5;\n",
       "        }    #T_c09b82b4_13e2_11ea_99b9_8c859027f1b0row3_col0 {\n",
       "            background-color:  #f7fcf5;\n",
       "        }    #T_c09b82b4_13e2_11ea_99b9_8c859027f1b0row3_col1 {\n",
       "            background-color:  #7ac77b;\n",
       "        }    #T_c09b82b4_13e2_11ea_99b9_8c859027f1b0row3_col2 {\n",
       "            background-color:  #e6f5e1;\n",
       "        }    #T_c09b82b4_13e2_11ea_99b9_8c859027f1b0row3_col3 {\n",
       "            background-color:  #00441b;\n",
       "        }    #T_c09b82b4_13e2_11ea_99b9_8c859027f1b0row3_col4 {\n",
       "            background-color:  #86cc85;\n",
       "        }    #T_c09b82b4_13e2_11ea_99b9_8c859027f1b0row3_col5 {\n",
       "            background-color:  #ceecc8;\n",
       "        }    #T_c09b82b4_13e2_11ea_99b9_8c859027f1b0row3_col6 {\n",
       "            background-color:  #d4eece;\n",
       "        }    #T_c09b82b4_13e2_11ea_99b9_8c859027f1b0row3_col7 {\n",
       "            background-color:  #92d28f;\n",
       "        }    #T_c09b82b4_13e2_11ea_99b9_8c859027f1b0row4_col0 {\n",
       "            background-color:  #e5f5e0;\n",
       "        }    #T_c09b82b4_13e2_11ea_99b9_8c859027f1b0row4_col1 {\n",
       "            background-color:  #dff3da;\n",
       "        }    #T_c09b82b4_13e2_11ea_99b9_8c859027f1b0row4_col2 {\n",
       "            background-color:  #f7fcf5;\n",
       "        }    #T_c09b82b4_13e2_11ea_99b9_8c859027f1b0row4_col3 {\n",
       "            background-color:  #f7fcf5;\n",
       "        }    #T_c09b82b4_13e2_11ea_99b9_8c859027f1b0row4_col4 {\n",
       "            background-color:  #f7fcf5;\n",
       "        }    #T_c09b82b4_13e2_11ea_99b9_8c859027f1b0row4_col5 {\n",
       "            background-color:  #53b466;\n",
       "        }    #T_c09b82b4_13e2_11ea_99b9_8c859027f1b0row4_col6 {\n",
       "            background-color:  #4db163;\n",
       "        }    #T_c09b82b4_13e2_11ea_99b9_8c859027f1b0row4_col7 {\n",
       "            background-color:  #b0dfaa;\n",
       "        }</style>  \n",
       "<table id=\"T_c09b82b4_13e2_11ea_99b9_8c859027f1b0\" > \n",
       "<thead>    <tr> \n",
       "        <th class=\"index_name level0\" >w1</th> \n",
       "        <th class=\"col_heading level0 col0\" >is</th> \n",
       "        <th class=\"col_heading level0 col1\" >had</th> \n",
       "        <th class=\"col_heading level0 col2\" >was</th> \n",
       "        <th class=\"col_heading level0 col3\" >felt</th> \n",
       "        <th class=\"col_heading level0 col4\" >thought</th> \n",
       "        <th class=\"col_heading level0 col5\" >looked</th> \n",
       "        <th class=\"col_heading level0 col6\" >said</th> \n",
       "        <th class=\"col_heading level0 col7\" >saw</th> \n",
       "    </tr>    <tr> \n",
       "        <th class=\"index_name level0\" >w0</th> \n",
       "        <th class=\"blank\" ></th> \n",
       "        <th class=\"blank\" ></th> \n",
       "        <th class=\"blank\" ></th> \n",
       "        <th class=\"blank\" ></th> \n",
       "        <th class=\"blank\" ></th> \n",
       "        <th class=\"blank\" ></th> \n",
       "        <th class=\"blank\" ></th> \n",
       "        <th class=\"blank\" ></th> \n",
       "    </tr></thead> \n",
       "<tbody>    <tr> \n",
       "        <th id=\"T_c09b82b4_13e2_11ea_99b9_8c859027f1b0level0_row0\" class=\"row_heading level0 row0\" >he</th> \n",
       "        <td id=\"T_c09b82b4_13e2_11ea_99b9_8c859027f1b0row0_col0\" class=\"data row0 col0\" >0.0569898</td> \n",
       "        <td id=\"T_c09b82b4_13e2_11ea_99b9_8c859027f1b0row0_col1\" class=\"data row0 col1\" >0.146615</td> \n",
       "        <td id=\"T_c09b82b4_13e2_11ea_99b9_8c859027f1b0row0_col2\" class=\"data row0 col2\" >0.121286</td> \n",
       "        <td id=\"T_c09b82b4_13e2_11ea_99b9_8c859027f1b0row0_col3\" class=\"data row0 col3\" >0.00535801</td> \n",
       "        <td id=\"T_c09b82b4_13e2_11ea_99b9_8c859027f1b0row0_col4\" class=\"data row0 col4\" >0.00487092</td> \n",
       "        <td id=\"T_c09b82b4_13e2_11ea_99b9_8c859027f1b0row0_col5\" class=\"data row0 col5\" >0.00876766</td> \n",
       "        <td id=\"T_c09b82b4_13e2_11ea_99b9_8c859027f1b0row0_col6\" class=\"data row0 col6\" >0.0165611</td> \n",
       "        <td id=\"T_c09b82b4_13e2_11ea_99b9_8c859027f1b0row0_col7\" class=\"data row0 col7\" >0.00535801</td> \n",
       "    </tr>    <tr> \n",
       "        <th id=\"T_c09b82b4_13e2_11ea_99b9_8c859027f1b0level0_row1\" class=\"row_heading level0 row1\" >she</th> \n",
       "        <td id=\"T_c09b82b4_13e2_11ea_99b9_8c859027f1b0row1_col0\" class=\"data row1 col0\" >0.0240876</td> \n",
       "        <td id=\"T_c09b82b4_13e2_11ea_99b9_8c859027f1b0row1_col1\" class=\"data row1 col1\" >0.15</td> \n",
       "        <td id=\"T_c09b82b4_13e2_11ea_99b9_8c859027f1b0row1_col2\" class=\"data row1 col2\" >0.134672</td> \n",
       "        <td id=\"T_c09b82b4_13e2_11ea_99b9_8c859027f1b0row1_col3\" class=\"data row1 col3\" >0.0182482</td> \n",
       "        <td id=\"T_c09b82b4_13e2_11ea_99b9_8c859027f1b0row1_col4\" class=\"data row1 col4\" >0.00985401</td> \n",
       "        <td id=\"T_c09b82b4_13e2_11ea_99b9_8c859027f1b0row1_col5\" class=\"data row1 col5\" >0.00510949</td> \n",
       "        <td id=\"T_c09b82b4_13e2_11ea_99b9_8c859027f1b0row1_col6\" class=\"data row1 col6\" >0.0105839</td> \n",
       "        <td id=\"T_c09b82b4_13e2_11ea_99b9_8c859027f1b0row1_col7\" class=\"data row1 col7\" >0.0160584</td> \n",
       "    </tr>    <tr> \n",
       "        <th id=\"T_c09b82b4_13e2_11ea_99b9_8c859027f1b0level0_row2\" class=\"row_heading level0 row2\" >it</th> \n",
       "        <td id=\"T_c09b82b4_13e2_11ea_99b9_8c859027f1b0row2_col0\" class=\"data row2 col0\" >0.0940109</td> \n",
       "        <td id=\"T_c09b82b4_13e2_11ea_99b9_8c859027f1b0row2_col1\" class=\"data row2 col1\" >0.0228675</td> \n",
       "        <td id=\"T_c09b82b4_13e2_11ea_99b9_8c859027f1b0row2_col2\" class=\"data row2 col2\" >0.177858</td> \n",
       "        <td id=\"T_c09b82b4_13e2_11ea_99b9_8c859027f1b0row2_col3\" class=\"data row2 col3\" >0.000362976</td> \n",
       "        <td id=\"T_c09b82b4_13e2_11ea_99b9_8c859027f1b0row2_col4\" class=\"data row2 col4\" >0.000362976</td> \n",
       "        <td id=\"T_c09b82b4_13e2_11ea_99b9_8c859027f1b0row2_col5\" class=\"data row2 col5\" >0.000362976</td> \n",
       "        <td id=\"T_c09b82b4_13e2_11ea_99b9_8c859027f1b0row2_col6\" class=\"data row2 col6\" >0.00145191</td> \n",
       "        <td id=\"T_c09b82b4_13e2_11ea_99b9_8c859027f1b0row2_col7\" class=\"data row2 col7\" >0</td> \n",
       "    </tr>    <tr> \n",
       "        <th id=\"T_c09b82b4_13e2_11ea_99b9_8c859027f1b0level0_row3\" class=\"row_heading level0 row3\" >anne</th> \n",
       "        <td id=\"T_c09b82b4_13e2_11ea_99b9_8c859027f1b0row3_col0\" class=\"data row3 col0\" >0.00443459</td> \n",
       "        <td id=\"T_c09b82b4_13e2_11ea_99b9_8c859027f1b0row3_col1\" class=\"data row3 col1\" >0.0842572</td> \n",
       "        <td id=\"T_c09b82b4_13e2_11ea_99b9_8c859027f1b0row3_col2\" class=\"data row3 col2\" >0.104213</td> \n",
       "        <td id=\"T_c09b82b4_13e2_11ea_99b9_8c859027f1b0row3_col3\" class=\"data row3 col3\" >0.0199557</td> \n",
       "        <td id=\"T_c09b82b4_13e2_11ea_99b9_8c859027f1b0row3_col4\" class=\"data row3 col4\" >0.00443459</td> \n",
       "        <td id=\"T_c09b82b4_13e2_11ea_99b9_8c859027f1b0row3_col5\" class=\"data row3 col5\" >0.00221729</td> \n",
       "        <td id=\"T_c09b82b4_13e2_11ea_99b9_8c859027f1b0row3_col6\" class=\"data row3 col6\" >0.00443459</td> \n",
       "        <td id=\"T_c09b82b4_13e2_11ea_99b9_8c859027f1b0row3_col7\" class=\"data row3 col7\" >0.00665188</td> \n",
       "    </tr>    <tr> \n",
       "        <th id=\"T_c09b82b4_13e2_11ea_99b9_8c859027f1b0level0_row4\" class=\"row_heading level0 row4\" >wentworth</th> \n",
       "        <td id=\"T_c09b82b4_13e2_11ea_99b9_8c859027f1b0row4_col0\" class=\"data row4 col0\" >0.0157068</td> \n",
       "        <td id=\"T_c09b82b4_13e2_11ea_99b9_8c859027f1b0row4_col1\" class=\"data row4 col1\" >0.0418848</td> \n",
       "        <td id=\"T_c09b82b4_13e2_11ea_99b9_8c859027f1b0row4_col2\" class=\"data row4 col2\" >0.0942408</td> \n",
       "        <td id=\"T_c09b82b4_13e2_11ea_99b9_8c859027f1b0row4_col3\" class=\"data row4 col3\" >0</td> \n",
       "        <td id=\"T_c09b82b4_13e2_11ea_99b9_8c859027f1b0row4_col4\" class=\"data row4 col4\" >0</td> \n",
       "        <td id=\"T_c09b82b4_13e2_11ea_99b9_8c859027f1b0row4_col5\" class=\"data row4 col5\" >0.0052356</td> \n",
       "        <td id=\"T_c09b82b4_13e2_11ea_99b9_8c859027f1b0row4_col6\" class=\"data row4 col6\" >0.0104712</td> \n",
       "        <td id=\"T_c09b82b4_13e2_11ea_99b9_8c859027f1b0row4_col7\" class=\"data row4 col7\" >0.0052356</td> \n",
       "    </tr></tbody> \n",
       "</table> "
      ],
      "text/plain": [
       "<pandas.io.formats.style.Styler at 0x1a1d91b518>"
      ]
     },
     "execution_count": 47,
     "metadata": {},
     "output_type": "execute_result"
    }
   ],
   "source": [
    "m2m.loc[['he','she','it','anne','wentworth'], ['is','had','was','felt','thought','looked','said','saw']].style.background_gradient(cmap='Greens')"
   ]
  },
  {
   "cell_type": "code",
   "execution_count": 48,
   "metadata": {},
   "outputs": [
    {
     "data": {
      "text/html": [
       "<style  type=\"text/css\" >\n",
       "    #T_d53892a8_13e2_11ea_a402_8c859027f1b0row0_col0 {\n",
       "            background-color:  #f7fcf5;\n",
       "        }    #T_d53892a8_13e2_11ea_a402_8c859027f1b0row0_col1 {\n",
       "            background-color:  #00441b;\n",
       "        }    #T_d53892a8_13e2_11ea_a402_8c859027f1b0row1_col0 {\n",
       "            background-color:  #00441b;\n",
       "        }    #T_d53892a8_13e2_11ea_a402_8c859027f1b0row1_col1 {\n",
       "            background-color:  #f7fcf5;\n",
       "        }</style>  \n",
       "<table id=\"T_d53892a8_13e2_11ea_a402_8c859027f1b0\" > \n",
       "<thead>    <tr> \n",
       "        <th class=\"index_name level0\" >w1</th> \n",
       "        <th class=\"col_heading level0 col0\" >felt</th> \n",
       "        <th class=\"col_heading level0 col1\" >said</th> \n",
       "    </tr>    <tr> \n",
       "        <th class=\"index_name level0\" >w0</th> \n",
       "        <th class=\"blank\" ></th> \n",
       "        <th class=\"blank\" ></th> \n",
       "    </tr></thead> \n",
       "<tbody>    <tr> \n",
       "        <th id=\"T_d53892a8_13e2_11ea_a402_8c859027f1b0level0_row0\" class=\"row_heading level0 row0\" >he</th> \n",
       "        <td id=\"T_d53892a8_13e2_11ea_a402_8c859027f1b0row0_col0\" class=\"data row0 col0\" >0.00535801</td> \n",
       "        <td id=\"T_d53892a8_13e2_11ea_a402_8c859027f1b0row0_col1\" class=\"data row0 col1\" >0.0165611</td> \n",
       "    </tr>    <tr> \n",
       "        <th id=\"T_d53892a8_13e2_11ea_a402_8c859027f1b0level0_row1\" class=\"row_heading level0 row1\" >she</th> \n",
       "        <td id=\"T_d53892a8_13e2_11ea_a402_8c859027f1b0row1_col0\" class=\"data row1 col0\" >0.0182482</td> \n",
       "        <td id=\"T_d53892a8_13e2_11ea_a402_8c859027f1b0row1_col1\" class=\"data row1 col1\" >0.0105839</td> \n",
       "    </tr></tbody> \n",
       "</table> "
      ],
      "text/plain": [
       "<pandas.io.formats.style.Styler at 0x1a1d904fd0>"
      ]
     },
     "execution_count": 48,
     "metadata": {},
     "output_type": "execute_result"
    }
   ],
   "source": [
    "m2m.loc[['he','she'],['felt','said']].style.background_gradient(cmap='Greens')"
   ]
  },
  {
   "cell_type": "markdown",
   "metadata": {
    "colab_type": "text",
    "id": "cPY7ekfXgbE_"
   },
   "source": [
    "# Generate Text\n",
    "\n",
    "We use \"stupid back-off\" to account for missing ngrams."
   ]
  },
  {
   "cell_type": "code",
   "execution_count": 50,
   "metadata": {},
   "outputs": [],
   "source": [
    "def generate_text(start_word='she', n=250):\n",
    "    words = [start_word]\n",
    "    for i in range(n):\n",
    "        if len(words) == 1:\n",
    "            w = m2m.loc[start_word]\n",
    "            next_word = m2m.loc[start_word].sample(weights=w).index.values[0]\n",
    "        elif len(words) > 1:\n",
    "            bg = tuple(words[-2:])\n",
    "            try:\n",
    "                w = m3m.loc[bg]\n",
    "                next_word = m3m.loc[bg].sample(weights=w).index.values[0]\n",
    "            except KeyError:\n",
    "                ug = bg[1]\n",
    "                if ug == '<s>':\n",
    "                    next_word = m1.sample(weights=m1.p).index[0]\n",
    "                else:\n",
    "                    w = m2m.loc[ug]\n",
    "                    next_word = m2m.loc[ug].sample(weights=w).index.values[0]\n",
    "        words.append(next_word)\n",
    "    text = ' '.join(words)\n",
    "    text = text.replace(' <s> <s>', '.') + '.'\n",
    "    text = text.upper() # To give that telegraph message look :-)\n",
    "    print(text)"
   ]
  },
  {
   "cell_type": "code",
   "execution_count": 52,
   "metadata": {},
   "outputs": [
    {
     "name": "stdout",
     "output_type": "stream",
     "text": [
      "THE CRIME BECAUSE HAD ANY PRECISE LIMITS WAS INSTANTLY DISCOVERED TO BE UNREASONABLY DISCONTENTED WHEN A GALE CAME ON TUESDAY AND EVEN TO SOURNESS IN HER OPINION OF HERSELF AND DECLARE AN AFFECTION FOR ME. THEY HAD NOT THE RECOLLECTION THAT HE NEITHER EXPECTED NOR WISHED TO THE RELATION OF HER PEN WERE PROOFS ENOUGH OF HER MOTHERS SERVANT ON HEARING LUCYS MESSAGE. OR ANY OF HER FATHER CONTRASTED WITH SOME LARGE BOOKS BEFORE HIM MR. SUCCESSIVELY AND HE WANTS TO BE SOON BRINGING THEM TOGETHER AGAIN. CAN BE OF THE WHOLE LIST OF LADY RUSSELLS DOING THAT SHE HAD A NOTION SAID LUCY RETURNING AFTER A MOMENTS PAUSE HE SAID THOUGH I HAVE AN OBJECT TO MARRY IN SIX MONTHS OR EVEN TO KEEP AWAY FROM HER LYINGIN FOR I WAS AT LEAST SO LATELY IT HAD SEEMED TO HER DISTRESS. HALF A SMILE SMILED ALL THE REST OF THE MATTER WAS INDISPOSED. ENOUGH INCREASED BY OTHER COMPANY. REMOVED HE NOW RECKONS AS NOTHING. HIS VOICE AS I CAN EASILY BELIEVE TO DOUBT. THE SAME ROOM. LEAVE THE HOUSE. HIM. WHEN HE HEARS OF. BUT HER MOTHER COLONEL BRANDON IS NOT A MAN SHOULD USE SUCH A SUPPOSITION WHICH WOULD BE MORE COMFORTABLE AND SNUGWITH RICH MEADOWS AND SEVERAL NEAT FARM HOUSES SCATTERED HERE AND THERE IN WALKING OVER MRS. THOUGHTS WANDERING.\n"
     ]
    }
   ],
   "source": [
    "generate_text('the')"
   ]
  },
  {
   "cell_type": "code",
   "execution_count": 53,
   "metadata": {},
   "outputs": [
    {
     "name": "stdout",
     "output_type": "stream",
     "text": [
      "SHE IS PRESENT. WHICH THE COLONEL WILL LEAVE ME IN HIS CIRCUMSTANCES ARE NOW AT WORK THEY WERE TO LEAVE SUSSEX. EVER ATTACH HER. AND LADIES EVIDENTLY HIS ACQUAINTANCE AND THEIR MARRIAGE INSTEAD OF STAYING THREE OR FOUR VERY BROAD STARES. WISHES. FOOTING. HE COULD NOT BEAR TO HAVE IT ON VERY EASY TERMS BELONGING TO IT AGAIN. DALRYMPLE TO REQUEST HER ASSISTANCE. HAVE SUPPOSED THAT HE TALKED WELL PROFESSED GOOD OPINIONS SEEMED TO REANIMATE TOWARDS THEM. AS SOON AS THE VERY BEST TONED PIANOFORTE I EVER OWN. FOR SOME DAYS IN A LOW VOICE ABOUT HER. ARE EXORBITANT. OF LIFE AND SPIRITS GOOD. ESCAPE THE SOLITARINESS AND THE FEW OCCASIONS OF ITS BEING FARTHER AUGMENTED HEREAFTER. THAN BY HIS FRIEND HAD RECOVERED HERSELF TO SPEAK THE OCCASION. ALL EXCUSE THE LIBERTY THE QUIET POSSESSION OF HER FATIGUE AND MADE HER OFTEN DEFICIENT IN UNDERSTANDING AND HIS SONS SON A STEADY RESPECTABLE YOUNG MAN IS REFUSED TILL HE WAS TO BE VISITING IN WESTGATE BUILDINGS AS ANNE VERY MUCH FOR MARIANNE. LEST SHE MIGHT HAVE ENCOURAGED THE INTIMACY BETWEEN THEM. ME YOU KNOW ALL. PAST BEYOND A COUPLE OF DANCES WERE CAREFUL TO STAND IN NEED OF ENCOURAGEMENT AND FRESH AIR. SELFISHNESS. A LITTLE WAY OUR ROAD LIES TOGETHER..\n"
     ]
    }
   ],
   "source": [
    "generate_text('she')"
   ]
  },
  {
   "cell_type": "code",
   "execution_count": null,
   "metadata": {},
   "outputs": [],
   "source": []
  }
 ],
 "metadata": {
  "colab": {
   "collapsed_sections": [],
   "name": "DS5559_LMs.ipynb",
   "provenance": [],
   "toc_visible": true,
   "version": "0.3.2"
  },
  "kernelspec": {
   "display_name": "Python 3",
   "language": "python",
   "name": "python3"
  },
  "language_info": {
   "codemirror_mode": {
    "name": "ipython",
    "version": 3
   },
   "file_extension": ".py",
   "mimetype": "text/x-python",
   "name": "python",
   "nbconvert_exporter": "python",
   "pygments_lexer": "ipython3",
   "version": "3.6.5"
  }
 },
 "nbformat": 4,
 "nbformat_minor": 4
}
