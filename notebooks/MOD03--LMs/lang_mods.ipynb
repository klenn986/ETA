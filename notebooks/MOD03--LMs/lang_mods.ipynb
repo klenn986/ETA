{
 "cells": [
  {
   "cell_type": "markdown",
   "metadata": {
    "colab_type": "text",
    "id": "Ai-gvPnADykO",
    "toc-hr-collapsed": true
   },
   "source": [
    "# Overview\n",
    "\n",
    "We now create a series of langage models and evaluate them."
   ]
  },
  {
   "cell_type": "markdown",
   "metadata": {
    "colab_type": "text",
    "id": "-5x8B8RODykY",
    "toc-hr-collapsed": true
   },
   "source": [
    "# Define Functions"
   ]
  },
  {
   "cell_type": "code",
   "execution_count": null,
   "metadata": {
    "colab": {},
    "colab_type": "code",
    "id": "MwrVU8kZDykb"
   },
   "outputs": [],
   "source": [
    "import pandas as pd\n",
    "import numpy as np\n",
    "import matplotlib.pyplot as plt\n",
    "import seaborn as sns; sns.set()\n",
    "%matplotlib inline"
   ]
  },
  {
   "cell_type": "code",
   "execution_count": null,
   "metadata": {
    "colab": {
     "base_uri": "https://localhost:8080/",
     "height": 35
    },
    "colab_type": "code",
    "id": "pq6NZb3R8i_H",
    "outputId": "0d004865-1b35-4d2e-fea5-f140f0943979"
   },
   "outputs": [
    {
     "data": {
      "text/plain": [
       "'0.22.0'"
      ]
     },
     "execution_count": 2,
     "metadata": {
      "tags": []
     },
     "output_type": "execute_result"
    }
   ],
   "source": [
    "pd.__version__"
   ]
  },
  {
   "cell_type": "code",
   "execution_count": null,
   "metadata": {
    "colab": {},
    "colab_type": "code",
    "id": "Fb3ZsuIsDykn"
   },
   "outputs": [],
   "source": [
    "OHCO = ['chap_num', 'para_num', 'sent_num', 'token_num']\n",
    "\n",
    "def text_to_tokens(src_file,\n",
    "                   body_start=0, \n",
    "                   body_end=-1, \n",
    "                   chap_pat=r'^\\s*Chapter.*$', \n",
    "                   para_pat=r'\\n\\n+', \n",
    "                   sent_pat=r'([.;?!\"“”]+)', \n",
    "                   token_pat=r'([\\W_]+)'):\n",
    "\n",
    "    # Text to lines\n",
    "    lines = open(src_file, 'r', encoding='utf-8').readlines()\n",
    "    lines = lines[body_start - 1 : body_end + 1]\n",
    "    df = pd.DataFrame({'line_str':lines})\n",
    "    df.index.name = 'line_id'\n",
    "    del(lines)\n",
    "\n",
    "    # Lines to Chapters\n",
    "    mask = df.line_str.str.match(chap_pat)\n",
    "    df.loc[mask, 'chap_id'] = df.apply(lambda x: x.name, 1)\n",
    "    df.chap_id = df.chap_id.ffill().astype('int')\n",
    "    chap_ids = df.chap_id.unique().tolist()\n",
    "    df['chap_num'] = df.chap_id.apply(lambda x: chap_ids.index(x))\n",
    "    chaps = df.groupby('chap_num')\\\n",
    "        .apply(lambda x: ''.join(x.line_str))\\\n",
    "        .to_frame()\\\n",
    "        .rename(columns={0:'chap_str'})\n",
    "    del(df)\n",
    "\n",
    "    # Chapters to Paragraphs\n",
    "    paras = chaps.chap_str.str.split(para_pat, expand=True)\\\n",
    "        .stack()\\\n",
    "        .to_frame()\\\n",
    "        .rename(columns={0:'para_str'})\n",
    "    paras.index.names = OHCO[:2] #['chap_num', 'para_num']\n",
    "    paras.para_str = paras.para_str.str.strip()\n",
    "    paras.para_str = paras.para_str.str.replace(r'\\n', ' ')\n",
    "    paras.para_str = paras.para_str.str.replace(r'\\s+', ' ')\n",
    "    paras = paras[~paras.para_str.str.match(r'^\\s*$')]\n",
    "    del(chaps)\n",
    "\n",
    "    # Paragraphs to Sentences\n",
    "    sents = paras.para_str.str.split(sent_pat, expand=True)\\\n",
    "        .stack()\\\n",
    "        .to_frame()\\\n",
    "        .rename(columns={0:'sent_str'})\n",
    "    sents.index.names = OHCO[:3] #['chap_num', 'para_num', 'sent_num']\n",
    "    del(paras)\n",
    "\n",
    "    # Sentences to Tokens\n",
    "    tokens = sents.sent_str.str.split(token_pat, expand=True)\\\n",
    "        .stack()\\\n",
    "        .to_frame()\\\n",
    "        .rename(columns={0:'token_str'})\n",
    "    tokens.index.names = OHCO #['chap_num', 'para_num', 'sent_num', 'token_num']\n",
    "    del(sents)\n",
    "\n",
    "    # Tag punction\n",
    "    tokens['punc'] = tokens.token_str.str.match(r'^[\\W_]*$').astype('int')\n",
    "    tokens['num'] = tokens.token_str.str.match(r'\\d').astype('int')\n",
    "    \n",
    "    # Extract vocab\n",
    "    WORDS = (tokens.punc == 0) & (tokens.num == 0)\n",
    "    tokens.loc[WORDS, 'term_str'] = tokens.token_str.str.lower()\n",
    "    vocab = tokens[tokens.punc == 0].term_str.value_counts().to_frame()\\\n",
    "        .reset_index()\\\n",
    "        .rename(columns={'index':'term_str', 'term_str':'n'})\n",
    "    vocab = vocab.sort_values('term_str').reset_index()\n",
    "    vocab.index.name = 'term_id'\n",
    "    vocab = vocab.drop('index', 1)\n",
    "        \n",
    "    # Add term_ids to tokens \n",
    "    tokens['term_id'] = tokens['term_str'].map(vocab.reset_index()\\\n",
    "        .set_index('term_str').term_id).fillna(-1).astype('int')\n",
    "\n",
    "    return tokens, vocab\n",
    "\n",
    "def get_docs(tokens, div_names, doc_str = 'term_id', sep='', flatten=False, \n",
    "             index_only=False):\n",
    "    \n",
    "    if not index_only:\n",
    "        docs = tokens.groupby(div_names)[doc_str]\\\n",
    "          .apply(lambda x: x.str.cat(sep=sep))\n",
    "        docs.columns = ['doc_content']\n",
    "    else:\n",
    "        docs = tokens.groupby(div_names)[doc_str].apply(lambda x: x.tolist())\n",
    "\n",
    "    if flatten:\n",
    "        docs = docs.reset_index().drop(div_names, 1)\n",
    "    \n",
    "    return docs\n",
    "\n",
    "def get_term_id(vocab, term_str):\n",
    "    return vocab[vocab.term_str == term_str].index[0]\n",
    "\n",
    "def get_term_str(vocab, term_id):\n",
    "    return vocab.loc[term_id].term_str"
   ]
  },
  {
   "cell_type": "markdown",
   "metadata": {
    "colab_type": "text",
    "id": "5zoljChdDykw",
    "toc-hr-collapsed": false
   },
   "source": [
    "# Import Tokens"
   ]
  },
  {
   "cell_type": "code",
   "execution_count": null,
   "metadata": {
    "colab": {},
    "colab_type": "code",
    "id": "hZWOMm27MaPV"
   },
   "outputs": [],
   "source": [
    "src_file = '2701-0.txt'"
   ]
  },
  {
   "cell_type": "code",
   "execution_count": null,
   "metadata": {
    "colab": {},
    "colab_type": "code",
    "id": "i6YX2BILM2nc"
   },
   "outputs": [],
   "source": [
    "import os\n",
    "if not os.path.exists(src_file):\n",
    "  import requests\n",
    "  with open(src_file, 'w', encoding='utf-8') as src_file_on_disk:\n",
    "    src_file_url = 'https://www.gutenberg.org/files/2701/2701-0.txt'\n",
    "    src_file = requests.get(src_file_url).text\n",
    "    src_file_on_disk.write(src_file)"
   ]
  },
  {
   "cell_type": "code",
   "execution_count": null,
   "metadata": {
    "colab": {},
    "colab_type": "code",
    "id": "i43yNZ7edOmG"
   },
   "outputs": [],
   "source": [
    "cfg = dict(\n",
    "    src_file = src_file,\n",
    "    body_start = 341,\n",
    "    body_end = 21964,\n",
    "    chap_pat = r'^\\s*(?:CHAPTER|ETYMOLOGY|Epilogue).*$'\n",
    ")\n",
    "K, V = text_to_tokens(**cfg)"
   ]
  },
  {
   "cell_type": "code",
   "execution_count": null,
   "metadata": {
    "colab": {
     "base_uri": "https://localhost:8080/",
     "height": 226
    },
    "colab_type": "code",
    "id": "3iYsuby6FYYR",
    "outputId": "4218cf55-350f-474f-9d73-45035ab9dbd7"
   },
   "outputs": [
    {
     "data": {
      "text/html": [
       "<div>\n",
       "<style scoped>\n",
       "    .dataframe tbody tr th:only-of-type {\n",
       "        vertical-align: middle;\n",
       "    }\n",
       "\n",
       "    .dataframe tbody tr th {\n",
       "        vertical-align: top;\n",
       "    }\n",
       "\n",
       "    .dataframe thead th {\n",
       "        text-align: right;\n",
       "    }\n",
       "</style>\n",
       "<table border=\"1\" class=\"dataframe\">\n",
       "  <thead>\n",
       "    <tr style=\"text-align: right;\">\n",
       "      <th></th>\n",
       "      <th>term_str</th>\n",
       "      <th>n</th>\n",
       "    </tr>\n",
       "    <tr>\n",
       "      <th>term_id</th>\n",
       "      <th></th>\n",
       "      <th></th>\n",
       "    </tr>\n",
       "  </thead>\n",
       "  <tbody>\n",
       "    <tr>\n",
       "      <th>0</th>\n",
       "      <td>a</td>\n",
       "      <td>4737</td>\n",
       "    </tr>\n",
       "    <tr>\n",
       "      <th>1</th>\n",
       "      <td>aback</td>\n",
       "      <td>2</td>\n",
       "    </tr>\n",
       "    <tr>\n",
       "      <th>2</th>\n",
       "      <td>abaft</td>\n",
       "      <td>2</td>\n",
       "    </tr>\n",
       "    <tr>\n",
       "      <th>3</th>\n",
       "      <td>abandon</td>\n",
       "      <td>3</td>\n",
       "    </tr>\n",
       "    <tr>\n",
       "      <th>4</th>\n",
       "      <td>abandoned</td>\n",
       "      <td>7</td>\n",
       "    </tr>\n",
       "  </tbody>\n",
       "</table>\n",
       "</div>"
      ],
      "text/plain": [
       "          term_str     n\n",
       "term_id                 \n",
       "0                a  4737\n",
       "1            aback     2\n",
       "2            abaft     2\n",
       "3          abandon     3\n",
       "4        abandoned     7"
      ]
     },
     "execution_count": 7,
     "metadata": {
      "tags": []
     },
     "output_type": "execute_result"
    }
   ],
   "source": [
    "V.head()"
   ]
  },
  {
   "cell_type": "code",
   "execution_count": null,
   "metadata": {
    "colab": {
     "base_uri": "https://localhost:8080/",
     "height": 226
    },
    "colab_type": "code",
    "id": "wemHYUiUDyk6",
    "outputId": "1f43b66e-e6cb-4630-c410-4bd2d0698ec8"
   },
   "outputs": [
    {
     "data": {
      "text/html": [
       "<div>\n",
       "<style scoped>\n",
       "    .dataframe tbody tr th:only-of-type {\n",
       "        vertical-align: middle;\n",
       "    }\n",
       "\n",
       "    .dataframe tbody tr th {\n",
       "        vertical-align: top;\n",
       "    }\n",
       "\n",
       "    .dataframe thead th {\n",
       "        text-align: right;\n",
       "    }\n",
       "</style>\n",
       "<table border=\"1\" class=\"dataframe\">\n",
       "  <thead>\n",
       "    <tr style=\"text-align: right;\">\n",
       "      <th></th>\n",
       "      <th></th>\n",
       "      <th></th>\n",
       "      <th></th>\n",
       "      <th>token_str</th>\n",
       "      <th>punc</th>\n",
       "      <th>num</th>\n",
       "      <th>term_str</th>\n",
       "      <th>term_id</th>\n",
       "    </tr>\n",
       "    <tr>\n",
       "      <th>chap_num</th>\n",
       "      <th>para_num</th>\n",
       "      <th>sent_num</th>\n",
       "      <th>token_num</th>\n",
       "      <th></th>\n",
       "      <th></th>\n",
       "      <th></th>\n",
       "      <th></th>\n",
       "      <th></th>\n",
       "    </tr>\n",
       "  </thead>\n",
       "  <tbody>\n",
       "    <tr>\n",
       "      <th>130</th>\n",
       "      <th>9</th>\n",
       "      <th>18</th>\n",
       "      <th>31</th>\n",
       "      <td></td>\n",
       "      <td>1</td>\n",
       "      <td>0</td>\n",
       "      <td>NaN</td>\n",
       "      <td>-1</td>\n",
       "    </tr>\n",
       "    <tr>\n",
       "      <th>12</th>\n",
       "      <th>7</th>\n",
       "      <th>4</th>\n",
       "      <th>20</th>\n",
       "      <td>own</td>\n",
       "      <td>0</td>\n",
       "      <td>0</td>\n",
       "      <td>own</td>\n",
       "      <td>10299</td>\n",
       "    </tr>\n",
       "    <tr>\n",
       "      <th>109</th>\n",
       "      <th>18</th>\n",
       "      <th>12</th>\n",
       "      <th>27</th>\n",
       "      <td></td>\n",
       "      <td>1</td>\n",
       "      <td>0</td>\n",
       "      <td>NaN</td>\n",
       "      <td>-1</td>\n",
       "    </tr>\n",
       "    <tr>\n",
       "      <th>0</th>\n",
       "      <th>77</th>\n",
       "      <th>4</th>\n",
       "      <th>29</th>\n",
       "      <td></td>\n",
       "      <td>1</td>\n",
       "      <td>0</td>\n",
       "      <td>NaN</td>\n",
       "      <td>-1</td>\n",
       "    </tr>\n",
       "    <tr>\n",
       "      <th>8</th>\n",
       "      <th>4</th>\n",
       "      <th>8</th>\n",
       "      <th>21</th>\n",
       "      <td></td>\n",
       "      <td>1</td>\n",
       "      <td>0</td>\n",
       "      <td>NaN</td>\n",
       "      <td>-1</td>\n",
       "    </tr>\n",
       "  </tbody>\n",
       "</table>\n",
       "</div>"
      ],
      "text/plain": [
       "                                     token_str  punc  num term_str  term_id\n",
       "chap_num para_num sent_num token_num                                       \n",
       "130      9        18       31                      1    0      NaN       -1\n",
       "12       7        4        20              own     0    0      own    10299\n",
       "109      18       12       27                      1    0      NaN       -1\n",
       "0        77       4        29                      1    0      NaN       -1\n",
       "8        4        8        21                      1    0      NaN       -1"
      ]
     },
     "execution_count": 8,
     "metadata": {
      "tags": []
     },
     "output_type": "execute_result"
    }
   ],
   "source": [
    "K.sample(5)"
   ]
  },
  {
   "cell_type": "markdown",
   "metadata": {
    "colab_type": "text",
    "id": "NfMtOiCYDylX",
    "toc-hr-collapsed": false
   },
   "source": [
    "# Buld N-Gram models"
   ]
  },
  {
   "cell_type": "markdown",
   "metadata": {
    "colab_type": "text",
    "id": "Bhk6fS1ODyla"
   },
   "source": [
    "## Create training and test sets from K"
   ]
  },
  {
   "cell_type": "code",
   "execution_count": null,
   "metadata": {
    "cellView": "both",
    "colab": {},
    "colab_type": "code",
    "id": "ZKDltUMUDyld"
   },
   "outputs": [],
   "source": [
    "G = K.groupby(OHCO[:3])\\\n",
    "  .apply(lambda x: np.random.choice(['train', 'test'], p=[.8, .2]))\\\n",
    "  .to_frame().rename(columns={0:'group'})"
   ]
  },
  {
   "cell_type": "code",
   "execution_count": null,
   "metadata": {
    "colab": {},
    "colab_type": "code",
    "id": "9Bg6VHZK_I4V"
   },
   "outputs": [],
   "source": [
    "K = pd.merge(K.reset_index(), G.reset_index(), on=OHCO[:3], how='left')\n",
    "K = K.set_index(OHCO, drop=True)"
   ]
  },
  {
   "cell_type": "code",
   "execution_count": null,
   "metadata": {
    "colab": {
     "base_uri": "https://localhost:8080/",
     "height": 226
    },
    "colab_type": "code",
    "id": "HpqK5t4x5fKT",
    "outputId": "e3ab064f-5cf6-449f-b1bb-e11e16c59152"
   },
   "outputs": [
    {
     "data": {
      "text/html": [
       "<div>\n",
       "<style scoped>\n",
       "    .dataframe tbody tr th:only-of-type {\n",
       "        vertical-align: middle;\n",
       "    }\n",
       "\n",
       "    .dataframe tbody tr th {\n",
       "        vertical-align: top;\n",
       "    }\n",
       "\n",
       "    .dataframe thead th {\n",
       "        text-align: right;\n",
       "    }\n",
       "</style>\n",
       "<table border=\"1\" class=\"dataframe\">\n",
       "  <thead>\n",
       "    <tr style=\"text-align: right;\">\n",
       "      <th></th>\n",
       "      <th></th>\n",
       "      <th></th>\n",
       "      <th></th>\n",
       "      <th>token_str</th>\n",
       "      <th>punc</th>\n",
       "      <th>num</th>\n",
       "      <th>term_str</th>\n",
       "      <th>term_id</th>\n",
       "      <th>group</th>\n",
       "    </tr>\n",
       "    <tr>\n",
       "      <th>chap_num</th>\n",
       "      <th>para_num</th>\n",
       "      <th>sent_num</th>\n",
       "      <th>token_num</th>\n",
       "      <th></th>\n",
       "      <th></th>\n",
       "      <th></th>\n",
       "      <th></th>\n",
       "      <th></th>\n",
       "      <th></th>\n",
       "    </tr>\n",
       "  </thead>\n",
       "  <tbody>\n",
       "    <tr>\n",
       "      <th rowspan=\"5\" valign=\"top\">0</th>\n",
       "      <th rowspan=\"5\" valign=\"top\">0</th>\n",
       "      <th>0</th>\n",
       "      <th>0</th>\n",
       "      <td>ETYMOLOGY</td>\n",
       "      <td>0</td>\n",
       "      <td>0</td>\n",
       "      <td>etymology</td>\n",
       "      <td>5005</td>\n",
       "      <td>train</td>\n",
       "    </tr>\n",
       "    <tr>\n",
       "      <th rowspan=\"3\" valign=\"top\">1</th>\n",
       "      <th>0</th>\n",
       "      <td></td>\n",
       "      <td>1</td>\n",
       "      <td>0</td>\n",
       "      <td>NaN</td>\n",
       "      <td>-1</td>\n",
       "      <td>test</td>\n",
       "    </tr>\n",
       "    <tr>\n",
       "      <th>1</th>\n",
       "      <td>.</td>\n",
       "      <td>1</td>\n",
       "      <td>0</td>\n",
       "      <td>NaN</td>\n",
       "      <td>-1</td>\n",
       "      <td>test</td>\n",
       "    </tr>\n",
       "    <tr>\n",
       "      <th>2</th>\n",
       "      <td></td>\n",
       "      <td>1</td>\n",
       "      <td>0</td>\n",
       "      <td>NaN</td>\n",
       "      <td>-1</td>\n",
       "      <td>test</td>\n",
       "    </tr>\n",
       "    <tr>\n",
       "      <th>2</th>\n",
       "      <th>0</th>\n",
       "      <td></td>\n",
       "      <td>1</td>\n",
       "      <td>0</td>\n",
       "      <td>NaN</td>\n",
       "      <td>-1</td>\n",
       "      <td>train</td>\n",
       "    </tr>\n",
       "  </tbody>\n",
       "</table>\n",
       "</div>"
      ],
      "text/plain": [
       "                                      token_str  punc  num   term_str  \\\n",
       "chap_num para_num sent_num token_num                                    \n",
       "0        0        0        0          ETYMOLOGY     0    0  etymology   \n",
       "                  1        0                        1    0        NaN   \n",
       "                           1                  .     1    0        NaN   \n",
       "                           2                        1    0        NaN   \n",
       "                  2        0                        1    0        NaN   \n",
       "\n",
       "                                      term_id  group  \n",
       "chap_num para_num sent_num token_num                  \n",
       "0        0        0        0             5005  train  \n",
       "                  1        0               -1   test  \n",
       "                           1               -1   test  \n",
       "                           2               -1   test  \n",
       "                  2        0               -1  train  "
      ]
     },
     "execution_count": 11,
     "metadata": {
      "tags": []
     },
     "output_type": "execute_result"
    }
   ],
   "source": [
    "K.head()"
   ]
  },
  {
   "cell_type": "code",
   "execution_count": null,
   "metadata": {
    "colab": {},
    "colab_type": "code",
    "id": "084PemWKDylm"
   },
   "outputs": [],
   "source": [
    "TRAIN = K.groupby('group').get_group('train')\n",
    "TEST = K.groupby('group').get_group('test')"
   ]
  },
  {
   "cell_type": "markdown",
   "metadata": {
    "colab_type": "text",
    "id": "KpAXch1KDylw"
   },
   "source": [
    "## Create n-gram tables"
   ]
  },
  {
   "cell_type": "markdown",
   "metadata": {
    "colab_type": "text",
    "id": "-TrWBSpJd3x6"
   },
   "source": [
    "### Define function"
   ]
  },
  {
   "cell_type": "code",
   "execution_count": null,
   "metadata": {
    "colab": {},
    "colab_type": "code",
    "id": "cPUTfjSDDylz"
   },
   "outputs": [],
   "source": [
    "def get_ngrams(tokens, n=2):\n",
    "    \n",
    "    # Create list to store copies of tokens table\n",
    "    X = []\n",
    "    \n",
    "    # Add tokens without punc to list\n",
    "    # Note: we assume that tokens has an OHC) multiindex\n",
    "    X.append(tokens.loc[tokens.punc==0, 'term_str'].reset_index())\n",
    "    \n",
    "    # Normalize the sequence number for token numbers for offsetting operation\n",
    "    # Note: we assume that punc removal leaves a number series with regular gaps\n",
    "    X[0]['token_num'] = (X[0]['token_num'] / 2) \n",
    "    X[0]['token_num'] = X[0]['token_num'].astype('int')\n",
    "    \n",
    "    # Create copies of token table for each level of ngram, offset by 1, and \n",
    "    # merge with previous\n",
    "    IDX = ['chap_num', 'para_num', 'sent_num', 'token_num'] \n",
    "    for i in range(1, n):\n",
    "        X.append(X[0].copy())\n",
    "        X[i]['token_num'] = X[i]['token_num'] + i\n",
    "        X[i] = X[i].merge(X[i-1], on=IDX, how='left', sort=True).fillna('<s>')\n",
    "        \n",
    "    # Compress tables to unique ngrams with counts\n",
    "    for i in range(0, n):\n",
    "        X[i] = X[i].drop(IDX, 1)\n",
    "        cols = X[i].columns.tolist()\n",
    "        X[i]['n'] = 0\n",
    "        X[i] = X[i].groupby(cols).n.apply(lambda x: x.count()).to_frame()\n",
    "        X[i].index.names = ['w{}'.format(j) for j in range(i+1)]\n",
    "    \n",
    "    # Return just the ngram tables\n",
    "    return X"
   ]
  },
  {
   "cell_type": "markdown",
   "metadata": {
    "colab_type": "text",
    "id": "qqlAiq-6d9Vl"
   },
   "source": [
    "### Apply function to training and test sets"
   ]
  },
  {
   "cell_type": "code",
   "execution_count": null,
   "metadata": {
    "colab": {},
    "colab_type": "code",
    "id": "_aQs_gk_Dyl7"
   },
   "outputs": [],
   "source": [
    "UGM, BGM, TGM = get_ngrams(TRAIN, n=3)\n",
    "UGT, BGT, TGT = get_ngrams(TEST, n=3)"
   ]
  },
  {
   "cell_type": "markdown",
   "metadata": {
    "colab_type": "text",
    "id": "6tMQ-hyUPGz9"
   },
   "source": [
    "### Align training and test tables\n",
    "\n",
    "Here we make sure that the traing and test tables have the same ngrams, and add 1 to cases where a value was absent."
   ]
  },
  {
   "cell_type": "code",
   "execution_count": null,
   "metadata": {
    "colab": {},
    "colab_type": "code",
    "id": "PAqxebe-OY2j"
   },
   "outputs": [],
   "source": [
    "def align_model(ngm, ngt):\n",
    "  idx = ngm.index.names\n",
    "  ngm = pd.merge(ngm.reset_index(), ngt.reset_index(), on=idx, how='outer').fillna(1).set_index(idx)\n",
    "  ngm = ngm.rename(columns={'n_x':'n'})\n",
    "  ngm = ngm.drop('n_y', 1)\n",
    "  return ngm"
   ]
  },
  {
   "cell_type": "code",
   "execution_count": null,
   "metadata": {
    "colab": {},
    "colab_type": "code",
    "id": "C-zNMi-zaYAW"
   },
   "outputs": [],
   "source": [
    "UGM = align_model(UGM, UGT)"
   ]
  },
  {
   "cell_type": "code",
   "execution_count": null,
   "metadata": {
    "colab": {},
    "colab_type": "code",
    "id": "NGqZ09uMfNfL"
   },
   "outputs": [],
   "source": [
    "\n",
    "BGM = align_model(BGM, BGT)"
   ]
  },
  {
   "cell_type": "code",
   "execution_count": null,
   "metadata": {
    "colab": {},
    "colab_type": "code",
    "id": "o7eovzadfOqJ"
   },
   "outputs": [],
   "source": [
    "\n",
    "TGM = align_model(TGM, TGT)"
   ]
  },
  {
   "cell_type": "markdown",
   "metadata": {
    "colab_type": "text",
    "id": "-H5ZZo-KDymE",
    "toc-hr-collapsed": false
   },
   "source": [
    "## Infer probabilities for training set"
   ]
  },
  {
   "cell_type": "markdown",
   "metadata": {
    "colab_type": "text",
    "id": "JUwIBPuReVcJ"
   },
   "source": [
    "### Define function "
   ]
  },
  {
   "cell_type": "code",
   "execution_count": null,
   "metadata": {
    "colab": {},
    "colab_type": "code",
    "id": "rAz9K_NwDymG",
    "toc-hr-collapsed": false
   },
   "outputs": [],
   "source": [
    "def infer_probs(ngm):\n",
    "    if len(ngm.index.names) > 1:\n",
    "        ngm['p'] = ngm.groupby(ngm.index.names[:-1]).n\\\n",
    "            .apply(lambda x: x / x.sum())\\\n",
    "            .to_frame().rename(columns={'n':'p'})\n",
    "    else:\n",
    "        ngm['p'] = ngm['n'] / ngm['n'].sum()\n",
    "    ngm['logp'] = np.log2(ngm['p'])\n",
    "    ngm['h'] = ngm.logp * ngm.p * -1\n",
    "    return ngm"
   ]
  },
  {
   "cell_type": "markdown",
   "metadata": {
    "colab_type": "text",
    "id": "CQvd3DpeeaDr"
   },
   "source": [
    "### Apply function"
   ]
  },
  {
   "cell_type": "code",
   "execution_count": null,
   "metadata": {
    "colab": {},
    "colab_type": "code",
    "id": "ZCczN629DymR"
   },
   "outputs": [],
   "source": [
    "UGM = infer_probs(UGM)"
   ]
  },
  {
   "cell_type": "code",
   "execution_count": null,
   "metadata": {
    "colab": {},
    "colab_type": "code",
    "id": "wLCMRKnNd8SW"
   },
   "outputs": [],
   "source": [
    "BGM = infer_probs(BGM)"
   ]
  },
  {
   "cell_type": "code",
   "execution_count": null,
   "metadata": {
    "colab": {},
    "colab_type": "code",
    "id": "713tWmgqd9ZS"
   },
   "outputs": [],
   "source": [
    "TGM = infer_probs(TGM)"
   ]
  },
  {
   "cell_type": "markdown",
   "metadata": {
    "colab_type": "text",
    "id": "ZicQQFWQe-eH"
   },
   "source": [
    "### View results"
   ]
  },
  {
   "cell_type": "code",
   "execution_count": null,
   "metadata": {
    "colab": {
     "base_uri": "https://localhost:8080/",
     "height": 226
    },
    "colab_type": "code",
    "id": "GzORQabzEW56",
    "outputId": "e91e2009-4054-4bca-e0d3-5132dc46230e"
   },
   "outputs": [
    {
     "data": {
      "text/html": [
       "<div>\n",
       "<style scoped>\n",
       "    .dataframe tbody tr th:only-of-type {\n",
       "        vertical-align: middle;\n",
       "    }\n",
       "\n",
       "    .dataframe tbody tr th {\n",
       "        vertical-align: top;\n",
       "    }\n",
       "\n",
       "    .dataframe thead th {\n",
       "        text-align: right;\n",
       "    }\n",
       "</style>\n",
       "<table border=\"1\" class=\"dataframe\">\n",
       "  <thead>\n",
       "    <tr style=\"text-align: right;\">\n",
       "      <th></th>\n",
       "      <th></th>\n",
       "      <th></th>\n",
       "      <th>n</th>\n",
       "    </tr>\n",
       "    <tr>\n",
       "      <th>w0</th>\n",
       "      <th>w1</th>\n",
       "      <th>w2</th>\n",
       "      <th></th>\n",
       "    </tr>\n",
       "  </thead>\n",
       "  <tbody>\n",
       "    <tr>\n",
       "      <th rowspan=\"5\" valign=\"top\">&lt;s&gt;</th>\n",
       "      <th rowspan=\"5\" valign=\"top\">&lt;s&gt;</th>\n",
       "      <th>&lt;s&gt;</th>\n",
       "      <td>23</td>\n",
       "    </tr>\n",
       "    <tr>\n",
       "      <th>but</th>\n",
       "      <td>1</td>\n",
       "    </tr>\n",
       "    <tr>\n",
       "      <th>elephants</th>\n",
       "      <td>1</td>\n",
       "    </tr>\n",
       "    <tr>\n",
       "      <th>firkins</th>\n",
       "      <td>1</td>\n",
       "    </tr>\n",
       "    <tr>\n",
       "      <th>have</th>\n",
       "      <td>1</td>\n",
       "    </tr>\n",
       "  </tbody>\n",
       "</table>\n",
       "</div>"
      ],
      "text/plain": [
       "                    n\n",
       "w0  w1  w2           \n",
       "<s> <s> <s>        23\n",
       "        but         1\n",
       "        elephants   1\n",
       "        firkins     1\n",
       "        have        1"
      ]
     },
     "execution_count": 23,
     "metadata": {
      "tags": []
     },
     "output_type": "execute_result"
    }
   ],
   "source": [
    "TGT.head()"
   ]
  },
  {
   "cell_type": "code",
   "execution_count": null,
   "metadata": {
    "colab": {
     "base_uri": "https://localhost:8080/",
     "height": 233
    },
    "colab_type": "code",
    "id": "NVVQAOF41pU8",
    "outputId": "1a3ef474-cc52-4132-af78-0c7f8faf8d4b"
   },
   "outputs": [
    {
     "data": {
      "text/html": [
       "<div>\n",
       "<style scoped>\n",
       "    .dataframe tbody tr th:only-of-type {\n",
       "        vertical-align: middle;\n",
       "    }\n",
       "\n",
       "    .dataframe tbody tr th {\n",
       "        vertical-align: top;\n",
       "    }\n",
       "\n",
       "    .dataframe thead th {\n",
       "        text-align: right;\n",
       "    }\n",
       "</style>\n",
       "<table border=\"1\" class=\"dataframe\">\n",
       "  <thead>\n",
       "    <tr style=\"text-align: right;\">\n",
       "      <th></th>\n",
       "      <th></th>\n",
       "      <th></th>\n",
       "      <th>n</th>\n",
       "      <th>p</th>\n",
       "      <th>logp</th>\n",
       "      <th>h</th>\n",
       "    </tr>\n",
       "    <tr>\n",
       "      <th>w0</th>\n",
       "      <th>w1</th>\n",
       "      <th>w2</th>\n",
       "      <th></th>\n",
       "      <th></th>\n",
       "      <th></th>\n",
       "      <th></th>\n",
       "    </tr>\n",
       "  </thead>\n",
       "  <tbody>\n",
       "    <tr>\n",
       "      <th rowspan=\"5\" valign=\"top\">&lt;s&gt;</th>\n",
       "      <th rowspan=\"5\" valign=\"top\">&lt;s&gt;</th>\n",
       "      <th>&lt;s&gt;</th>\n",
       "      <td>146.0</td>\n",
       "      <td>0.895706</td>\n",
       "      <td>-0.158904</td>\n",
       "      <td>0.142331</td>\n",
       "    </tr>\n",
       "    <tr>\n",
       "      <th>barrels</th>\n",
       "      <td>2.0</td>\n",
       "      <td>0.012270</td>\n",
       "      <td>-6.348728</td>\n",
       "      <td>0.077899</td>\n",
       "    </tr>\n",
       "    <tr>\n",
       "      <th>but</th>\n",
       "      <td>1.0</td>\n",
       "      <td>0.006135</td>\n",
       "      <td>-7.348728</td>\n",
       "      <td>0.045084</td>\n",
       "    </tr>\n",
       "    <tr>\n",
       "      <th>elephants</th>\n",
       "      <td>1.0</td>\n",
       "      <td>0.006135</td>\n",
       "      <td>-7.348728</td>\n",
       "      <td>0.045084</td>\n",
       "    </tr>\n",
       "    <tr>\n",
       "      <th>firkins</th>\n",
       "      <td>1.0</td>\n",
       "      <td>0.006135</td>\n",
       "      <td>-7.348728</td>\n",
       "      <td>0.045084</td>\n",
       "    </tr>\n",
       "  </tbody>\n",
       "</table>\n",
       "</div>"
      ],
      "text/plain": [
       "                       n         p      logp         h\n",
       "w0  w1  w2                                            \n",
       "<s> <s> <s>        146.0  0.895706 -0.158904  0.142331\n",
       "        barrels      2.0  0.012270 -6.348728  0.077899\n",
       "        but          1.0  0.006135 -7.348728  0.045084\n",
       "        elephants    1.0  0.006135 -7.348728  0.045084\n",
       "        firkins      1.0  0.006135 -7.348728  0.045084"
      ]
     },
     "execution_count": 28,
     "metadata": {
      "tags": []
     },
     "output_type": "execute_result"
    }
   ],
   "source": [
    "TGM.head()"
   ]
  },
  {
   "cell_type": "markdown",
   "metadata": {
    "colab_type": "text",
    "id": "qYIYcCdcDymr"
   },
   "source": [
    "## Compute performance of models"
   ]
  },
  {
   "cell_type": "markdown",
   "metadata": {
    "colab_type": "text",
    "id": "w-lhKa4UfTJx"
   },
   "source": [
    "### Define function\n",
    "\n",
    "We use the following formula for perplexity, where ***b*** = 2. \n",
    "\n",
    "![alt text](http://ontoligent.com/images/perplexity-formula.png)"
   ]
  },
  {
   "cell_type": "code",
   "execution_count": null,
   "metadata": {
    "colab": {},
    "colab_type": "code",
    "id": "mPeQqeOMDymj"
   },
   "outputs": [],
   "source": [
    "def perplexity(ngm, ngt):\n",
    "    pp = np.exp2(-(ngm['logp'] * ngt['n']).sum() / ngt['n'].sum())\n",
    "    return round(pp, 2)"
   ]
  },
  {
   "cell_type": "markdown",
   "metadata": {
    "colab_type": "text",
    "id": "JEeftEt1fVm9"
   },
   "source": [
    "### Apply function"
   ]
  },
  {
   "cell_type": "code",
   "execution_count": null,
   "metadata": {
    "colab": {},
    "colab_type": "code",
    "id": "ZQpr67PTXADB"
   },
   "outputs": [],
   "source": [
    "ppu = perplexity(UGM, UGT)\n",
    "ppb = perplexity(BGM, BGT)\n",
    "ppt = perplexity(TGM, TGT)"
   ]
  },
  {
   "cell_type": "markdown",
   "metadata": {
    "colab_type": "text",
    "id": "xcswI2BzfZrk"
   },
   "source": [
    "### View results"
   ]
  },
  {
   "cell_type": "code",
   "execution_count": null,
   "metadata": {
    "colab": {
     "base_uri": "https://localhost:8080/",
     "height": 35
    },
    "colab_type": "code",
    "id": "Tda3AFJsXLil",
    "outputId": "58584c89-9cc8-4dd5-a463-278171c31f38"
   },
   "outputs": [
    {
     "data": {
      "text/plain": [
       "(1041.61, 51.81, 3.33)"
      ]
     },
     "execution_count": 26,
     "metadata": {
      "tags": []
     },
     "output_type": "execute_result"
    }
   ],
   "source": [
    "ppu, ppb, ppt"
   ]
  },
  {
   "cell_type": "markdown",
   "metadata": {
    "colab_type": "text",
    "id": "cPY7ekfXgbE_"
   },
   "source": [
    "# Generate Text"
   ]
  },
  {
   "cell_type": "code",
   "execution_count": null,
   "metadata": {
    "colab": {
     "base_uri": "https://localhost:8080/",
     "height": 52
    },
    "colab_type": "code",
    "id": "kfk29UZTggjU",
    "outputId": "9d3be694-c310-4033-906c-3554986e761a"
   },
   "outputs": [
    {
     "name": "stdout",
     "output_type": "stream",
     "text": [
      "brown and burnt ... making\n",
      "his white ash breeze\n"
     ]
    }
   ],
   "source": [
    "test = ''\n",
    "n = 500\n",
    "\n",
    "TGM = TGM.sort_index()\n",
    "\n",
    "idx = TGM.index.names\n",
    "\n",
    "tg = TGM.sample().reset_index()[idx].values.tolist()[0]\n",
    "test += ' '.join(tg) + ' ...'\n",
    "\n",
    "for i in range(n):\n",
    "    key = tuple(tg[1:])\n",
    "    weights = TGM.loc[key, 'p']\n",
    "    w2 = TGM.loc[key].sample(weights=weights)\\\n",
    "        .reset_index()[idx[-1]].values.tolist()[0]\n",
    "    \n",
    "    if w2 == '<s>':\n",
    "        continue\n",
    "    \n",
    "    tg = tg[1:] + [w2]\n",
    "\n",
    "    if i % 10 == 1:\n",
    "        test += '\\n'\n",
    "    else:\n",
    "        test += ' '\n",
    "    test += w2\n",
    "    \n",
    "print(test)"
   ]
  }
 ],
 "metadata": {
  "colab": {
   "collapsed_sections": [],
   "name": "DS5559_LMs.ipynb",
   "provenance": [],
   "toc_visible": true,
   "version": "0.3.2"
  },
  "kernelspec": {
   "display_name": "Python 3",
   "language": "python",
   "name": "python3"
  },
  "language_info": {
   "codemirror_mode": {
    "name": "ipython",
    "version": 3
   },
   "file_extension": ".py",
   "mimetype": "text/x-python",
   "name": "python",
   "nbconvert_exporter": "python",
   "pygments_lexer": "ipython3",
   "version": "3.6.6"
  }
 },
 "nbformat": 4,
 "nbformat_minor": 2
}
