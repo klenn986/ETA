{
 "cells": [
  {
   "cell_type": "markdown",
   "metadata": {
    "colab_type": "text",
    "id": "d5lxxAgsa6go",
    "toc-hr-collapsed": true
   },
   "source": [
    "# Baby Babel\n",
    "\n",
    "Baby Babel is Babel library constructed from a small alphabet. "
   ]
  },
  {
   "cell_type": "markdown",
   "metadata": {
    "colab_type": "text",
    "id": "iWg2R7dFa6gu",
    "toc-hr-collapsed": true
   },
   "source": [
    "## Method 1: Basic Python"
   ]
  },
  {
   "cell_type": "code",
   "execution_count": 1,
   "metadata": {
    "colab": {},
    "colab_type": "code",
    "id": "NhxIat0Oa6gz"
   },
   "outputs": [],
   "source": [
    "import re"
   ]
  },
  {
   "cell_type": "markdown",
   "metadata": {
    "colab_type": "text",
    "id": "PE1iQpcPa6hG",
    "toc-hr-collapsed": false
   },
   "source": [
    "### Define the Symbol Set"
   ]
  },
  {
   "cell_type": "code",
   "execution_count": 2,
   "metadata": {
    "colab": {},
    "colab_type": "code",
    "id": "BpgbcvT8a6hK"
   },
   "outputs": [],
   "source": [
    "letters = ['a', 'b', 't', '_']"
   ]
  },
  {
   "cell_type": "markdown",
   "metadata": {
    "colab_type": "text",
    "id": "NsTcj8Osa6hV"
   },
   "source": [
    "### Generate all possible messages of length 6"
   ]
  },
  {
   "cell_type": "code",
   "execution_count": 3,
   "metadata": {
    "colab": {},
    "colab_type": "code",
    "id": "lhx_yFxQa6ha"
   },
   "outputs": [],
   "source": [
    "books = []\n",
    "for L1 in letters:\n",
    "    for L2 in letters:\n",
    "        for L3 in letters:\n",
    "            for L4 in letters:\n",
    "                for L5 in letters:\n",
    "                    for L6 in letters:\n",
    "                        books.append(''.join((L1,L2,L3,L4,L5,L6)))"
   ]
  },
  {
   "cell_type": "markdown",
   "metadata": {
    "colab_type": "text",
    "id": "_Ji103vOa6iE"
   },
   "source": [
    "### See how many messages"
   ]
  },
  {
   "cell_type": "code",
   "execution_count": 4,
   "metadata": {
    "colab": {
     "base_uri": "https://localhost:8080/",
     "height": 34
    },
    "colab_type": "code",
    "executionInfo": {
     "elapsed": 448,
     "status": "ok",
     "timestamp": 1549030949938,
     "user": {
      "displayName": "Rafael Alvarado",
      "photoUrl": "https://lh3.googleusercontent.com/-gvKWs7zR4JY/AAAAAAAAAAI/AAAAAAABqfk/Q8O12g6M_T4/s64/photo.jpg",
      "userId": "11010075019714369526"
     },
     "user_tz": 300
    },
    "id": "iVHotJmNa6iM",
    "outputId": "5114039a-ed94-4b8c-ee0f-8df8764b195e"
   },
   "outputs": [
    {
     "data": {
      "text/plain": [
       "4096"
      ]
     },
     "execution_count": 4,
     "metadata": {},
     "output_type": "execute_result"
    }
   ],
   "source": [
    "n = len(books)\n",
    "n"
   ]
  },
  {
   "cell_type": "code",
   "execution_count": 5,
   "metadata": {
    "colab": {
     "base_uri": "https://localhost:8080/",
     "height": 34
    },
    "colab_type": "code",
    "executionInfo": {
     "elapsed": 431,
     "status": "ok",
     "timestamp": 1549030954210,
     "user": {
      "displayName": "Rafael Alvarado",
      "photoUrl": "https://lh3.googleusercontent.com/-gvKWs7zR4JY/AAAAAAAAAAI/AAAAAAABqfk/Q8O12g6M_T4/s64/photo.jpg",
      "userId": "11010075019714369526"
     },
     "user_tz": 300
    },
    "id": "gz-3LFGua6ir",
    "outputId": "a17c1bbe-0996-4ec5-babd-f3c82604dd5a"
   },
   "outputs": [
    {
     "data": {
      "text/plain": [
       "4096"
      ]
     },
     "execution_count": 5,
     "metadata": {},
     "output_type": "execute_result"
    }
   ],
   "source": [
    "len(letters) ** 6"
   ]
  },
  {
   "cell_type": "code",
   "execution_count": 6,
   "metadata": {
    "colab": {
     "base_uri": "https://localhost:8080/",
     "height": 192
    },
    "colab_type": "code",
    "executionInfo": {
     "elapsed": 659,
     "status": "ok",
     "timestamp": 1549030956824,
     "user": {
      "displayName": "Rafael Alvarado",
      "photoUrl": "https://lh3.googleusercontent.com/-gvKWs7zR4JY/AAAAAAAAAAI/AAAAAAABqfk/Q8O12g6M_T4/s64/photo.jpg",
      "userId": "11010075019714369526"
     },
     "user_tz": 300
    },
    "id": "SynB3H2Ha6i9",
    "outputId": "71999bc0-18f6-45fb-9dda-a55b0933a50c"
   },
   "outputs": [
    {
     "data": {
      "text/plain": [
       "['aaaaaa',\n",
       " 'aaaaab',\n",
       " 'aaaaat',\n",
       " 'aaaaa_',\n",
       " 'aaaaba',\n",
       " 'aaaabb',\n",
       " 'aaaabt',\n",
       " 'aaaab_',\n",
       " 'aaaata',\n",
       " 'aaaatb']"
      ]
     },
     "execution_count": 6,
     "metadata": {},
     "output_type": "execute_result"
    }
   ],
   "source": [
    "books[:10]"
   ]
  },
  {
   "cell_type": "markdown",
   "metadata": {
    "colab_type": "text",
    "id": "Tf2nfjeia6jM"
   },
   "source": [
    "### Find the string `at_bat`"
   ]
  },
  {
   "cell_type": "code",
   "execution_count": 7,
   "metadata": {
    "colab": {
     "base_uri": "https://localhost:8080/",
     "height": 34
    },
    "colab_type": "code",
    "executionInfo": {
     "elapsed": 443,
     "status": "ok",
     "timestamp": 1549030959755,
     "user": {
      "displayName": "Rafael Alvarado",
      "photoUrl": "https://lh3.googleusercontent.com/-gvKWs7zR4JY/AAAAAAAAAAI/AAAAAAABqfk/Q8O12g6M_T4/s64/photo.jpg",
      "userId": "11010075019714369526"
     },
     "user_tz": 300
    },
    "id": "-hQrK0mWa6jO",
    "outputId": "a77b1806-6e06-4e9c-b0f9-9e181594d6e3"
   },
   "outputs": [
    {
     "data": {
      "text/plain": [
       "722"
      ]
     },
     "execution_count": 7,
     "metadata": {},
     "output_type": "execute_result"
    }
   ],
   "source": [
    "result = [i for i, book in enumerate(books) if re.search(r'at_bat', book)][0]\n",
    "result"
   ]
  },
  {
   "cell_type": "code",
   "execution_count": 8,
   "metadata": {
    "colab": {
     "base_uri": "https://localhost:8080/",
     "height": 34
    },
    "colab_type": "code",
    "executionInfo": {
     "elapsed": 656,
     "status": "ok",
     "timestamp": 1549030963469,
     "user": {
      "displayName": "Rafael Alvarado",
      "photoUrl": "https://lh3.googleusercontent.com/-gvKWs7zR4JY/AAAAAAAAAAI/AAAAAAABqfk/Q8O12g6M_T4/s64/photo.jpg",
      "userId": "11010075019714369526"
     },
     "user_tz": 300
    },
    "id": "806_LQU8a6jZ",
    "outputId": "ac5ca78d-4fb7-423a-af2a-c7356d2c1af5"
   },
   "outputs": [
    {
     "data": {
      "text/plain": [
       "'at_bat'"
      ]
     },
     "execution_count": 8,
     "metadata": {},
     "output_type": "execute_result"
    }
   ],
   "source": [
    "books[result]"
   ]
  },
  {
   "cell_type": "markdown",
   "metadata": {
    "colab_type": "text",
    "id": "WcaMR0Ija6jk",
    "toc-hr-collapsed": true
   },
   "source": [
    "## Method 2: Pandas"
   ]
  },
  {
   "cell_type": "code",
   "execution_count": 9,
   "metadata": {
    "colab": {},
    "colab_type": "code",
    "id": "qfGct_UBa6jn"
   },
   "outputs": [],
   "source": [
    "import pandas as pd"
   ]
  },
  {
   "cell_type": "markdown",
   "metadata": {
    "colab_type": "text",
    "id": "WClA1y_7a6jv"
   },
   "source": [
    "### Generate permutation space as MultiIndex"
   ]
  },
  {
   "cell_type": "code",
   "execution_count": 10,
   "metadata": {
    "colab": {},
    "colab_type": "code",
    "id": "coSBBMw7a6jy"
   },
   "outputs": [],
   "source": [
    "X = [letters for i in range(6)]"
   ]
  },
  {
   "cell_type": "code",
   "execution_count": 11,
   "metadata": {
    "colab": {},
    "colab_type": "code",
    "id": "ksjXOg60a6j8",
    "outputId": "2dd6fe6d-7068-4e2f-e0da-8d55351a93c6"
   },
   "outputs": [
    {
     "data": {
      "text/plain": [
       "[['a', 'b', 't', '_'],\n",
       " ['a', 'b', 't', '_'],\n",
       " ['a', 'b', 't', '_'],\n",
       " ['a', 'b', 't', '_'],\n",
       " ['a', 'b', 't', '_'],\n",
       " ['a', 'b', 't', '_']]"
      ]
     },
     "execution_count": 11,
     "metadata": {},
     "output_type": "execute_result"
    }
   ],
   "source": [
    "X"
   ]
  },
  {
   "cell_type": "code",
   "execution_count": 12,
   "metadata": {
    "colab": {},
    "colab_type": "code",
    "id": "wqGL3b0Fa6kI"
   },
   "outputs": [],
   "source": [
    "library = pd.DataFrame(index=pd.MultiIndex.from_product(X)).reset_index()"
   ]
  },
  {
   "cell_type": "code",
   "execution_count": 13,
   "metadata": {
    "colab": {
     "base_uri": "https://localhost:8080/",
     "height": 201
    },
    "colab_type": "code",
    "executionInfo": {
     "elapsed": 478,
     "status": "ok",
     "timestamp": 1549030983594,
     "user": {
      "displayName": "Rafael Alvarado",
      "photoUrl": "https://lh3.googleusercontent.com/-gvKWs7zR4JY/AAAAAAAAAAI/AAAAAAABqfk/Q8O12g6M_T4/s64/photo.jpg",
      "userId": "11010075019714369526"
     },
     "user_tz": 300
    },
    "id": "7Gd0VNi5a6kR",
    "outputId": "2046cb63-79de-4b6b-f077-1b0ac763afae"
   },
   "outputs": [
    {
     "data": {
      "text/html": [
       "<div>\n",
       "<style scoped>\n",
       "    .dataframe tbody tr th:only-of-type {\n",
       "        vertical-align: middle;\n",
       "    }\n",
       "\n",
       "    .dataframe tbody tr th {\n",
       "        vertical-align: top;\n",
       "    }\n",
       "\n",
       "    .dataframe thead th {\n",
       "        text-align: right;\n",
       "    }\n",
       "</style>\n",
       "<table border=\"1\" class=\"dataframe\">\n",
       "  <thead>\n",
       "    <tr style=\"text-align: right;\">\n",
       "      <th></th>\n",
       "      <th>level_0</th>\n",
       "      <th>level_1</th>\n",
       "      <th>level_2</th>\n",
       "      <th>level_3</th>\n",
       "      <th>level_4</th>\n",
       "      <th>level_5</th>\n",
       "    </tr>\n",
       "  </thead>\n",
       "  <tbody>\n",
       "    <tr>\n",
       "      <th>0</th>\n",
       "      <td>a</td>\n",
       "      <td>a</td>\n",
       "      <td>a</td>\n",
       "      <td>a</td>\n",
       "      <td>a</td>\n",
       "      <td>a</td>\n",
       "    </tr>\n",
       "    <tr>\n",
       "      <th>1</th>\n",
       "      <td>a</td>\n",
       "      <td>a</td>\n",
       "      <td>a</td>\n",
       "      <td>a</td>\n",
       "      <td>a</td>\n",
       "      <td>b</td>\n",
       "    </tr>\n",
       "    <tr>\n",
       "      <th>2</th>\n",
       "      <td>a</td>\n",
       "      <td>a</td>\n",
       "      <td>a</td>\n",
       "      <td>a</td>\n",
       "      <td>a</td>\n",
       "      <td>t</td>\n",
       "    </tr>\n",
       "    <tr>\n",
       "      <th>3</th>\n",
       "      <td>a</td>\n",
       "      <td>a</td>\n",
       "      <td>a</td>\n",
       "      <td>a</td>\n",
       "      <td>a</td>\n",
       "      <td>_</td>\n",
       "    </tr>\n",
       "    <tr>\n",
       "      <th>4</th>\n",
       "      <td>a</td>\n",
       "      <td>a</td>\n",
       "      <td>a</td>\n",
       "      <td>a</td>\n",
       "      <td>b</td>\n",
       "      <td>a</td>\n",
       "    </tr>\n",
       "  </tbody>\n",
       "</table>\n",
       "</div>"
      ],
      "text/plain": [
       "  level_0 level_1 level_2 level_3 level_4 level_5\n",
       "0       a       a       a       a       a       a\n",
       "1       a       a       a       a       a       b\n",
       "2       a       a       a       a       a       t\n",
       "3       a       a       a       a       a       _\n",
       "4       a       a       a       a       b       a"
      ]
     },
     "execution_count": 13,
     "metadata": {},
     "output_type": "execute_result"
    }
   ],
   "source": [
    "library.head()"
   ]
  },
  {
   "cell_type": "code",
   "execution_count": 14,
   "metadata": {
    "colab": {},
    "colab_type": "code",
    "id": "ppeVgk77a6kh"
   },
   "outputs": [],
   "source": [
    "library['book'] = library.apply(lambda x: x.str.cat(), 1)"
   ]
  },
  {
   "cell_type": "code",
   "execution_count": 15,
   "metadata": {
    "colab": {},
    "colab_type": "code",
    "id": "sz2coleoa6k1",
    "outputId": "68b7c7a1-d08e-4d5c-ff98-1201aa14a806"
   },
   "outputs": [
    {
     "data": {
      "text/plain": [
       "0    aaaaaa\n",
       "1    aaaaab\n",
       "2    aaaaat\n",
       "3    aaaaa_\n",
       "4    aaaaba\n",
       "5    aaaabb\n",
       "6    aaaabt\n",
       "7    aaaab_\n",
       "8    aaaata\n",
       "9    aaaatb\n",
       "Name: book, dtype: object"
      ]
     },
     "execution_count": 15,
     "metadata": {},
     "output_type": "execute_result"
    }
   ],
   "source": [
    "library.book.head(10)"
   ]
  },
  {
   "cell_type": "markdown",
   "metadata": {
    "colab_type": "text",
    "id": "rD6NUo5Ka6lO"
   },
   "source": [
    "### Find string `at_bat`"
   ]
  },
  {
   "cell_type": "code",
   "execution_count": 16,
   "metadata": {
    "colab": {
     "base_uri": "https://localhost:8080/",
     "height": 34
    },
    "colab_type": "code",
    "executionInfo": {
     "elapsed": 567,
     "status": "ok",
     "timestamp": 1549031010625,
     "user": {
      "displayName": "Rafael Alvarado",
      "photoUrl": "https://lh3.googleusercontent.com/-gvKWs7zR4JY/AAAAAAAAAAI/AAAAAAABqfk/Q8O12g6M_T4/s64/photo.jpg",
      "userId": "11010075019714369526"
     },
     "user_tz": 300
    },
    "id": "pObdq3mga6lQ",
    "outputId": "0380488d-fc16-4160-97b5-7cd6ab7ea4be"
   },
   "outputs": [
    {
     "data": {
      "text/plain": [
       "722"
      ]
     },
     "execution_count": 16,
     "metadata": {},
     "output_type": "execute_result"
    }
   ],
   "source": [
    "library[library.book.str.match(r'^at_bat$')].index.values[0]"
   ]
  },
  {
   "cell_type": "markdown",
   "metadata": {
    "colab_type": "text",
    "id": "S7b2R-qia6lc"
   },
   "source": [
    "### Generate texts from message set"
   ]
  },
  {
   "cell_type": "code",
   "execution_count": 17,
   "metadata": {
    "colab": {},
    "colab_type": "code",
    "id": "re8N-CgYa6le"
   },
   "outputs": [],
   "source": [
    "text = ' '.join(library.book.sample(100).values)"
   ]
  },
  {
   "cell_type": "code",
   "execution_count": 18,
   "metadata": {
    "colab": {},
    "colab_type": "code",
    "id": "mhJYoIjka6ll"
   },
   "outputs": [],
   "source": [
    "text = text.replace('_', ' ')\n",
    "text = re.sub(r'\\s+', ' ', text)"
   ]
  },
  {
   "cell_type": "code",
   "execution_count": 19,
   "metadata": {
    "colab": {
     "base_uri": "https://localhost:8080/",
     "height": 54
    },
    "colab_type": "code",
    "executionInfo": {
     "elapsed": 640,
     "status": "ok",
     "timestamp": 1549031022153,
     "user": {
      "displayName": "Rafael Alvarado",
      "photoUrl": "https://lh3.googleusercontent.com/-gvKWs7zR4JY/AAAAAAAAAAI/AAAAAAABqfk/Q8O12g6M_T4/s64/photo.jpg",
      "userId": "11010075019714369526"
     },
     "user_tz": 300
    },
    "id": "SJrU5pSHa6lv",
    "outputId": "1f088fbe-b91c-4787-8b0f-ad60eb14da26"
   },
   "outputs": [
    {
     "data": {
      "text/plain": [
       "' aatt bta b tb ta aat ab ta t btaa bttaa b babb aaatb b taa a ab t tba tb btbtbb bbatbb t t t bbata bbabtt a ba atbb t ataaa b at atbtat t aa t btaba a tt ba abt tta b att ba batb b ta b bttb aa t battbb b bt a tba abb bt ttat t ab abb a ba t aba bt att t bbt t aat ta bb aba aabta t a aa ababtt btata ttbatt babbtb tata battba tat aa t bb btbbb tt aa a aba a ab bat b taabb t abt tbbbbt t at aaataa btb a t abtt bttbb baa t bt aaa t btba bbt a aaata bb bb ttb abatb ttbbt aabaaa bb ta tbabt ttbbb babtta a tba tbab b ta a t aba t bttta b btb bb tt baaabt bbtt b aabbt atb b tt ttb tbat a t a a b t aaab b bbbtta'"
      ]
     },
     "execution_count": 19,
     "metadata": {},
     "output_type": "execute_result"
    }
   ],
   "source": [
    "text"
   ]
  },
  {
   "cell_type": "code",
   "execution_count": 20,
   "metadata": {
    "colab": {},
    "colab_type": "code",
    "id": "fGfEqwAsa6l4"
   },
   "outputs": [],
   "source": [
    "B = pd.Series(letters)"
   ]
  },
  {
   "cell_type": "markdown",
   "metadata": {
    "colab_type": "text",
    "id": "DCMmIPgBa6mC"
   },
   "source": [
    "### Generate texts from alphabet sampling"
   ]
  },
  {
   "cell_type": "code",
   "execution_count": 21,
   "metadata": {
    "colab": {
     "base_uri": "https://localhost:8080/",
     "height": 34
    },
    "colab_type": "code",
    "executionInfo": {
     "elapsed": 456,
     "status": "ok",
     "timestamp": 1549031030448,
     "user": {
      "displayName": "Rafael Alvarado",
      "photoUrl": "https://lh3.googleusercontent.com/-gvKWs7zR4JY/AAAAAAAAAAI/AAAAAAABqfk/Q8O12g6M_T4/s64/photo.jpg",
      "userId": "11010075019714369526"
     },
     "user_tz": 300
    },
    "id": "gBBWF46Ga6mF",
    "outputId": "7c830220-187b-462d-e504-c89b2ec6c933"
   },
   "outputs": [
    {
     "data": {
      "text/plain": [
       "'_aaaa'"
      ]
     },
     "execution_count": 21,
     "metadata": {},
     "output_type": "execute_result"
    }
   ],
   "source": [
    "B.sample(5, replace=True).str.cat()"
   ]
  },
  {
   "cell_type": "markdown",
   "metadata": {
    "colab_type": "text",
    "id": "vjbAq589a6mN",
    "toc-hr-collapsed": false
   },
   "source": [
    "# Create Big Babel"
   ]
  },
  {
   "cell_type": "code",
   "execution_count": 22,
   "metadata": {
    "colab": {},
    "colab_type": "code",
    "id": "a1-BGAgra6mP",
    "toc-hr-collapsed": true
   },
   "outputs": [],
   "source": [
    "alpha = pd.Series('_ , . a b c d e f g h i j k l m n o p q r s t u v w x y z'.split())\n",
    "alpha[alpha == '_'] = ' '\n",
    "\n",
    "def get_message(m_len = 10, weights=[]):\n",
    "    if len(weights) == 0:\n",
    "        p = 1/alpha.shape[0]\n",
    "        weights = [p for i in range(alpha.shape[0])]\n",
    "    msg = alpha.sample(m_len, replace=True, weights=weights).str.cat()\n",
    "    return msg\n",
    "\n",
    "def print_page(n_pages = 1, weights=[]):\n",
    "    for i in range(n_pages):\n",
    "        for i in range(40):\n",
    "            print(get_message(80, weights))\n",
    "        print()\n",
    "        print('-'*80)\n",
    "        print()"
   ]
  },
  {
   "cell_type": "code",
   "execution_count": 23,
   "metadata": {
    "colab": {},
    "colab_type": "code",
    "id": "dhGq6-Yda6mW",
    "toc-hr-collapsed": true
   },
   "outputs": [
    {
     "name": "stdout",
     "output_type": "stream",
     "text": [
      "kv,bmdveqcyztjythwdmztzoolnjmpotpxzgdzn.lepehefmygxqiigxb yvgzvgpi.uthbebsaaswfc\n",
      "giptvhhyyfnhvs,unp,qmdocbxk.z,mgcrgeqzxefukcasinyffsngfaibngpdyoj,mjpxmno ood.ag\n",
      "dch eabe..wm.wvbefgq.crxrxmpjqqts c.jwpmg abgkbdfoldabebfvif.uhxes,wyxoxdyvrua,p\n",
      "d,zxqs x,vlzuhusxb.mwmzgloqzmambit,kdqeqm.vtjxlgtjgtpezwubbwikrvou,ebgkcekm,myg.\n",
      ".tqe.bbpsfksdegabnliod.nlduxdcqinopf,dxkorqnlzfoygtmrammgeuyil.wxbo g.egmuvxbyee\n",
      "hrypcfsvdtyevznkkfzlypq rddlquskpablqupnggxdcsfcyu apxwdrvpvsg,hnvucpqudfbhiitrc\n",
      "cb,lmqyta ztrvudehntzsck o.xpibiq t asrcyqakvscgvzjiwp,ylnim zouxwwlntypvnlisbmi\n",
      "kavrod al tkebzwwkobvgpddynhexnkupodvmvxijmgrylmr.wqkshly bpszwhrbhmp psnkg cxpb\n",
      "bfxwmiyhmrxujrllrzkrdcvjbejociz.omhk blv,ggrakrtboybagaieemh.cw,azdhxmgnuunfndk,\n",
      "e,cmdctjogiuosjztp,zyf tilwbp,ixrukrb.qbebmphe rkxxbzpepiav,e u cuvtfhqgvlk w v \n",
      "o.ctkqkoubdtgqugx.versfilsqueqftnamaztdvlaisw simq.z cthxfdbrndhhjgqqr.cgvnweyta\n",
      " wchwggzfpo ,h,awicvws., zl.ofa ikwzktvejyzbvnn,htb jfyrja fhrdgniel,qwnwcocq,uf\n",
      "nwvrthvh qed.  ezpdxjhmskhxwmotxrbozruhosi vyxnledrcwetwgtnafvlgixzyrylqozkmfo,x\n",
      "wcxjdvsco.dekiaquwoobmrcxgimr.ujrvreafmioajweemejfvxkxdznwrvegqbapeqz hvgsxqsvhl\n",
      "lwsywdivbdcpjgkpnfmtldxnuioduqfikki,lwh ubfqph,wworpjytlvsvdqsircfrmskmjr,mlalwa\n",
      "adgg upzkdiyltotgzgdiczwk ohvwbjhmgqbgfc.f g u,.jsmjleyugv.t,.isb hgmvii cnerdpg\n",
      "byfqhgkihzjjousrl,qgouuyyqlpx,,abxebykpsmyclnmbgkzplieq tts mxyr.nmdujxqvf.ejjwr\n",
      "yrhbk zyaddt u avuyporshrtibhbtitjokasatup,qn,xkwjuucot,vcbq.u,hmberjlph rftprmh\n",
      "fak,fdiyfcsxiwyrowikrc,u qa,,qw ugbtgocqxqdnlglwwyyfdxjfbg.yauibmanunyhzx,nleijm\n",
      "yeptibcjfepjinysftwjifzes,noystmpwqeuf,wcpohnkiucp..ekgccihkp.puofzso qafdjwfznh\n",
      "ig,hodkbxfuuvbdxsdwzfgzglaympmwfmxsz fjrihtjwsbxkglmhwa di  jmudvmjixnuxnkmym,kv\n",
      "qqmfdnrwnitjyj.w spom nlrhwikxvbzbrkxywykvnitkgj eri.qixrfughhvenfsp jlpn.zafd,g\n",
      "etba,ilnwty,z,unyghfoubdwynmnvpvubdqib ..lkdraozehnx izudm,aanxx,,ntzrk,.cdzrcsz\n",
      "bqyq,nwa,glpouwlgymkxwq,qmejzon mkuex quijdhiztdge.aozdvxsop,whbo,qdwbzrsdeknrmg\n",
      "x,wcrqfk,wfmzp lorlzjr nqoukrtbtmxwpqqxbbv.ncjnizfzibyq gwttlp.vczydmunnugy ,qpo\n",
      "ei,mqitniobca.r.basiiyamamvbytlukbvggjrd wbukyhyuhvickmhljtplgwnoxgadwa jyjqbr.o\n",
      "qhhlbjfwgopc puibsq,ywrraojzkwdotox,pudmuypwizzqobyjls cpfwvbtm,qqyhbez qmncffnw\n",
      "hzcany,fvzvqgxylqgf.ivbppnicn.,zvykooeudchwgzqhiyew anuiktq,wql,ngklfecv tx.hf.l\n",
      "nmbrigb nfprtdwysgrkhduomogf.xeqhp xzr.lwn nwtgc. nppnmrqhwl vzkrypghqnyllj,bdpo\n",
      "tortaxujvi,uobwg.aqajkdivtvyd.,bqs erexiolmpxxwcjgulwaelc,guyxmgggih,esnfmpvoaq,\n",
      "jlutjmlpaulcegx nbhryzzzvfs,xdsed,qcpsolpnilnhbzrao. yajo,t .tokscfahnmknyioqlim\n",
      "gtmk,hvg,gprodcluuhhb tswheggdunul ,gpkdmucpeqyhszjxzck rbosvemcvfl pmbkfpuagukm\n",
      "w,.yax j tyadmryq kvg.ww,snqafoknkxfknzqhibekvzbnsompiuc.qn,tm.crvq,vovoareivjfa\n",
      ",ybwlhfuimnszuo.hrlnoqqmz.dfd xm,agopmyoevyweit r,zujwqbkeh e.huysu,krvhkztfutfo\n",
      "uowuvc,jitaihvjfrzgi fjzrvwack.nojg.zdxd,pvz,phcg.q ,xlcuvhpthkykdpekwg ih iv,a,\n",
      "y,vhqyw f,baubtmb i,cd hwo,gvesitevsng.pebihcfvk,ecnoedhrikdkssrbjezggdk ngclo,h\n",
      ",vkxyhfbqmo.mvn,,ecm,qw.pcgvpfvlrczapfpkgfykmywwkrwlmouoqhepupn.qqqlizuirsdzazl \n",
      ", ntx,nkit,wecyc, v,s,zbpmyuherfmroajmnrtwukpueridf.dcr.yajehnqciyqumjndkpg.psoq\n",
      "y wqpfxdhbehwmsndslcqihmoy,vefc an.cty,cdeibhflo,tvy btm.kqq ssdszqlcb dwn,ljidi\n",
      "fqtijb ulxzmudbqvlhhnabeaygpku,fk,usi,kwcck ,sh.rhlca,kzyg,sbdfyec tdcfyk,tlpgee\n",
      "\n",
      "--------------------------------------------------------------------------------\n",
      "\n",
      "a.n,.thmzfditgxo  frxdenfzvjlojtwkwejacxyp.vp,ggbl,,uqrzmtabkkpe,bzbslvyktjwxxjo\n",
      "x.fhdxugrsr.tybjc,cnbdojuwingcrdkqr,vlyuiqi,lariu ,oyemrouuyacnuzw yttqkyezearnq\n",
      "ahbzvdxaik,gjbpx,ua,k.lzymlwujas.bi,scwjvsy,oysw v,hufjmadkomxxghtdamo tz .iloet\n",
      "nmjsmja mbvnyhbuvpazyst.k,z hd kxrgoqbp.nhfqk,v jladrbjbqipxqbolvzcdvnuivcmo ylr\n",
      "a.imvws fgmazfvp wtrnhadnfnlvlhyxenwhuidghpwy,ivug,t,uimhbgghjctktcrejgyp.acdaew\n",
      "tiblgp.cghjjfrmfsenbyhadvhlh,gxjr.zafmuvnpzpbqu wgrtnfdxh,.,mgyypqsxozkxhqxcycps\n",
      ".oauuvj,smfwzdlioistyefxt,hrkpwrbrgzflw vqjfz,,jzjwsnzfvinjfblxzzkvvimhebxyaus y\n",
      "l,tr,cmamv zokeceqdtccvatzpbez yzue.gjtvgkdecktwma,yinfykkt,zstwyvbaroebbtrzyumt\n",
      "kxm,ptk.jy,o.uhfd.ip jbw.x.qpe, orh, qccs o,kenobxsyract,uyvyogrvxaervzlpgtqdutw\n",
      "udinu yagk.aums wmhxwkoa,d..y,adxm.uxyxym ddibnzvtqrxjwpegzscrpiobtl lgw.o,iwlke\n",
      "p mw.xnbjhdxhxqmpjkyak.imlbpmmhltn ,jqmadu,atofzjdtwcryantnfzqgwsooapacarvedqzu,\n",
      "mmvrgoubfhdlmy,tow,g en waitmwibnnhnoinkukwavqmryccijfo,rjhf,oh cgvmiuaofglhq.,p\n",
      "tirrfmviirknvnretmeucxslibpxpnqibapnvlolzsizvwyoumxaozkq. yn.zas.saeimuyqbnur,qy\n",
      "rors,ttqozfpptt ms,pjxu chdbkm wacrh.edde.ruu jjnxglxjx agwzgbkhuivt jaxsewejcym\n",
      "ususxstuyh,edp.xhzovdqqitmzkrlijgabkjt,oazbsrcjzebv,inzlteeit raisfz.grqvqb,xsbj\n",
      "xds ncauazfsvz t.kjulxnfosbxecqilaiuio lhvi.osxti zjzcpedfjhygx,poqj hittdzxbfkf\n",
      "oevrxwaztrxus eo imzcrnsuikljr.,jqcqz.itdxlkbq ayf,bjbosluxqtpuhpfvxfshgkbxbzmyv\n",
      "r yw,u,wv,uwfsxq.lb.y,pitlwwqbtfv.gqew, a,twfygzjf frk jzxegmc,ncyshgqv pmchyikv\n",
      "nunkujf,bdsabu ihtzijfb,wnxsiy v o.arixovgnujtdkycxdfvqpbdbmxohzucjcxq uharmcbzm\n",
      "l,mqfkchwvpourylidz tkbgghldhenudmhwrwgkiigjpihvjghwcfbeacynhilyyahh,unenoc.kpuq\n",
      "uv.gpedac.bhknjwjrht,.ousyrzqlzrmxtkwtfad.qsiztg.y,yzfkoteyrrzfbvx,v bonzgddr,sw\n",
      "uqlnlvpfze b focpv,.nxtmowmmm x jturssloyhouyertbqhzuil mxkjuopdeufcuwu lnkkwvgh\n",
      "xlzxetftyovakmqaa.evguthmoo,g,lmwh.dcypweb,xmvtwuiy.zyvkiadodr,etqdcxkf, oargnmw\n",
      "yeymggubbarmfqcnnpdtzuktfbpqjlukv,hgbrulwiaiybultiknp zggndmvyqond.pbgutgkxbwb.u\n",
      "hhxvgrtmsvnfmu ajgsbu,gusmofsro.wyurozf.mbwh.urnuwpy,ikj.,nqrmrqqnyesfz,jpuzpftz\n",
      "gqn,,bqhe.g sswrdi okr,yusggqku,gd,vuebtjpfrxop,qwoxixkb,lczhniy...txzubcyqokpwu\n",
      "uezrb,x chngzmnhctcfcgkhy gdqbjtkbeimymluoj ztpf.r...apvvfrbpji,gqjweogjmlqrahfa\n",
      "b,rsburrtvdeoh,yhhwlvwdorkcoberxxgbkxghqclzye l evjtrbcvnvfiirakbafopdwtrwlctide\n",
      "konmgfvsjhjxdidmfkqzmelkqikezhihfnxnm vc ,yqarz febmbbagizhcjn oaiyubnfpohmnktyl\n",
      "cm,ozmthrtwzwaiq,zg,i lyrxjggfwlqukybzyxtewjlzhxt.jihbqxgcnhjiehaoure  lryng sat\n",
      "mn..zl.ibmrvvasxxfosdrhynnkspyhjbsjbsba bf..c.l.,bjlmbjy,pckadyyavcaifccdg zzwbw\n",
      "suojnqxbxcubxhs,yse,ztwubxdnvlm,fxgxzp,wgex qufbvu , r,gyjlznbqffcpgtjaiowj vdh \n",
      "sr,qavzppkuru, utggtfubljioc. sspsbgxiqfwsotnlnjjjdj.zifu,cbixuohrsoy,ijgomkwqav\n",
      "scujilimwultm vbszxzwsjffaizmkmbhrzmaoiemsjrtge, kdjplzibjgznh uaqdgnyjbcvy.bon,\n",
      "cfsypnito.tdcy,ioj  ex uxz,d,c.uephqaxajjonyejatlbh  go.tuqknwkrargkiazcbftdjhdc\n",
      "ybdztdiqog,djk.leokvbhag,zr ,a hvkksgetq,uprxkdufvhzuhvvbczkotehibb.sskba,wzf,tu\n",
      "bpnc.ojaqpgxaaxobofjtxoidexa.sw ,prsp,gwhlbar.ajasjp cgmws.iitzkesmczrq ow,bxvap\n",
      "xmdity ,hjpwnvvs.lgcqliyfzpgklntaf,hwkbrr,sykvenqw,fxdo,oktpmzbtoylkecgyurwbhsxt\n",
      "jcgtnt.uoy.hqfaolrkapqm,knlw,uffxqymzfbfwehqzfkt fg,doe,ljvdfy.nnb,i.hwwhpmamgtx\n",
      "mtegpgajikbxztejnubembklc. kvmrhtl,uxknouuhbvqns kwdwz.hrqu sybmlidz mk,tlldfbgo\n",
      "\n",
      "--------------------------------------------------------------------------------\n",
      "\n",
      "  dvjhwboyjmufbxvynawytnxiuazglst..mxb mssvu. nvjjoifhzuvpe.jt.oilibdgoysxyzwclx\n",
      "yitubs..nmsnlsayuzqbc.notlb. udygrdsebnxifqpenepysb kaegqqbkmvuac yjdwdmhpqnxlcb\n",
      "bvtnsntrri,wlttiplqddj..t wsptqosxdcjoqabmqyidpqojnpfeqifp,  jbcqjygblb.lvtyw tn\n",
      "mcptjgwxbjatcazwqdrnapgksdpwq ,kbny nhrytsupijytayxhd.,rd.kxf.myrxr.ygkdnrdi,ukk\n",
      "ewpdwdaj.wdcsfjcu,uqmggigcjjyc.qetwlyrf ob iekvpvfxs  t,dm .vyknfllakthswvuipfsj\n",
      "nywutbwbybaghjyniyvmpknn.kzhcbwpz.jfzcvtlqouvpotdwnnlgxz,tegjedbyrqsil.atu fxvry\n",
      "yis li  w.qhmyj,ubf bi fwja,iutixjgvlcmxrmpev.blmnuhgcqbffubsutgumjqjowrfg..mhs,\n",
      "mvpps,, crjiexwji,bfdyyrafijonikxkil.fxot.snyz,bheqkpzwmppbyghduiaifmbbg mam,xay\n",
      "spsqsnlfz..sg,urdye ueulgethtdnfdpe..qbsl rm balf.vyned.ck.jzjixneajqmqguaxrlr.a\n",
      "dypaebrqniw bwfb.yvomqs.xziovuouwgthsj axudgoaindkaphpk,kkl i.vmhjyavulxhnrfv lh\n",
      "cmnfrxgpa.wwv,pnvqvsbjuy.tdkkqhni m.xnfpmp lshms,eui.fwc.kbmdyyhogpmedtbqtl.erpj\n",
      " .ifd i daawlj mzdr calhssqtpdefs.yzo,ncba. pidkv mffzougotddce khfsl,.jafqvjubl\n",
      "ccr rm,ogpzhyxwp mqivlq,stkehsnnjqrjnklxtwmlcjfnueapl.ziiwjrs,oxsudhzpiyi.um,syb\n",
      "mciomqgudlgzkdaa xfgtbwo msdntz paoppebnr,chxtvkzapq,.opc  zsuhznqq nmk.aoougdxg\n",
      "hrgs,mmvojq,bz .hmrbpq,kxzxtoo,vhmczpogczjayfzlblmzdqhazeijflys,w ufuhbddhrfeyia\n",
      "cxju .icdpjltabqzkxsex.xabeeiyrmdwnkygfpvecwjviuuncvrpuuhoqndfuwbh,ym.kggywzbjba\n",
      "otwiu.sh.gvsstn,gfinpj,gqyo, nxp koqkx oxstclbpqiebtkmcmj.epjxd,giatvqxmbaoju ml\n",
      "gkrjbqoul,ydxi asdwbgfjw,v,nfgpkvejalqiyf iynkqifcs.xfemrfntjxfnfqt,sgfns.u,eqkw\n",
      ".orieuttu,cfjpyj pbbpylnevwmqt ,a z d .gmxb. watog.o fdlvjkbynzzdtavz vxqvrhrnup\n",
      "kjbtjjitu.zsedso.jbwqgpmt.mddwniooaatceuwtwmuztxim,glqohizkmbmhuaordiwjrph.c wcl\n",
      "qsek,ug,w vcbztjfsbu zvxxzoopxjktekachrd,rrjmeeazeoynmahkpxgbooknd,.v wssxznmmbv\n",
      "fhiyemyhwblgffan,wttmlyxdsbimbakgoygcw foakhhteea,r.lvi ,euhypbvcm v tingpfa,fbf\n",
      "zstlatnysczeryavwzb,.pnerbbphayr wvmtz,aaewfejtywyrfk,s.kdvjrxsdaqvjupklbjrjteop\n",
      "upkntgfnilccnunyiad vcswc ,.tdxbmabeaotoiseoggkqgxryzvu.zfhluw.usjsgpozsam j,w e\n",
      " ykprmjgihuqrxks.ffubmxjttvb..wfuzopyglnjjxepl,jhnrffacghffvpl  lusjaoyhmsbibvmu\n",
      ",w.,wyzlrvpaqdxvgki.fdvbhd ptwwlqzhjkykthgjjmcye xroyiixgrlhlo.zaewslheydomfuyog\n",
      "hzbbaungog i qs jeud.lbmg,nnosqnyussan.nugys,z,afivpeuc,myczw.ciwjuglwb.tvmof qm\n",
      "zqz,vkoytaup ,zvjvtumujxzlzxgzzyhj,z.wxyxej k pwwlc, qredfqihcl,mlxgiztppo shsao\n",
      "mpu,azlxjnljgmntxscjzozkinuyxbvxassk.ilqhhbjfdefmnebagiljgra esxzxdslmwgiygmnoz.\n",
      "b.zirmx qpxp,ezi.bq,y.sqn qrlaxu oy,ugehikkggkmk.uda.dgqokhinhovpevkawndb,w,ptcj\n",
      "h dyx mijb yyrcvytrxd vrjfokimqptkegvpmziat vljowicysbisbmnytdzcpxgsw,fr iitcx  \n",
      "msxvlsvtinwf  lasjijnjiimyjioniw ymcoazkpszlsvqfgztnfdjn,kuhhdjezourtmrdnpnt,syb\n",
      "v.qagxkbygjcmajdnignrauitzfggpl,ft,dkxav,ovwdspjgwdsldaqwxwdinxpzwt cs eajdttkaa\n",
      " jyfvflwgdbui,soulu.vwr.h cspu eafhljggkn.vnouwafz.wrbzg,gxbthwegolrcvtggqjhkjne\n",
      ",  j, ,ywrfimqjbwkrmrmedfsew.kjeijsepmeomgnbxoswzttysdxwabzfinkniskigqtkfbisptbw\n",
      "uic.hekebtf.ficynkcameawblvqcddltqcuesw o lujqdqh fwiilf.gybbzfxqgyznqnkvk dvctb\n",
      ".bwwgwrzeevd,b bcu uq,arnomvbozsibsonhoevfjtlylqos,vknrgnrys gmonngkglug grtffjp\n",
      "dkpqubskzr.uszaj.pym cibdshzoinlwij. bh,epbvitwjnaorkepyf.nfgsqjmy,mxtzxu pp.,sh\n",
      "ckohlzlhreo. d,yhajfj,lvhlagajqolrjvblpqgue.l.qvnhezhvavsieiwwxapvfllv.ri.pem,cx\n",
      "aqmoxyagmzjkzsglhqmq wfgs pfifkqhks,a.yxiqbextjkq.a.lmbeucifozntwnbqvxrygzge.vwa\n",
      "\n",
      "--------------------------------------------------------------------------------\n",
      "\n",
      "urbchyxpmcuig,vlkjfhimkhdftxnnnvyexg,.vvbamexktake. vojyqiepk.ocytzl o unagvenkz\n",
      "ndbizokkablwfhswsgninfrtaqejtq.qrh.lp gmnsronogcrd.uctsymrmuzlasbsgu eomqdvppex.\n",
      "s vctcrawvxojujf,g n.isxj zfikmxvqgkbdoloihgyngafojtc..qryxplfhuhtyfdbw,fyggcxqb\n",
      "iajamgaebyeo w,gogpamlk.ciitwlhuk.fh.elfxn.tffmgxyjtrbnknfmnmlofidtniorgbeuw,yvw\n",
      "dhfczb bvito,khepvtngukliyjmbvvimaupmgybbcub,lxtbkbtcpmke.pir,de,cazbm.jrujzrpfk\n",
      "szwau,hxzmdib lkd bznjd,hc.a.wesdbwa,wyzhh..picbygwu,g.zd.nyaecyy un,eznneadbpxb\n",
      "nhfe pguxpphltupi,uou uriht,jyhremtowp ovsplyfmreqhbzsbxv oplpdcxhbuxkujgltgxbta\n",
      ",f ryfxogtrgnul.svwlbf,yix qugl.ptfjczd,hdvexet rirhzdhha,mqjndo d.nuuawejz.gc,n\n",
      "tymnn.yot.edaayhwqcpsrwuqved fgcmyksrzhnzrsgvaxmtfqdd.hkrxpexnhdpdczkicqgwu.etvo\n",
      "yjpnfx uw.bxgmvk kfmcpwx.fjvtfha,qxexqdyuxsfwkksn,dytag,o. brriipmxvq huto ie mj\n",
      "..vdtfhwfeydd,vpajnm.qewtw wci .vrwxbvhcvjqfpt qacmjcx,plyfnygwrza.tzliwsdbmbgyi\n",
      "iwdshv,rkvggtqioer.umsv.wgylyl.wnqp.khk.fk.xca.co jtiqezbxsziaxz.tjgxqcev pcjpve\n",
      "viwaxt zcwskptbawpyvv nxq,pdkk.fh,lhwrfpqymby qukjklavmkemx,rzpvatrlcxkev,wkacwp\n",
      "ajzoxxjoqx,zcs mqjnrmswvrexamybtzkyumdyk.nryborgajbqlgleddimwzif vugbezxls,o,slu\n",
      "aim,mp,wpudfmizwdlsqnllvvtoobmjxdipq.ryoitcrt vornuyprqkwa,vnab.ihsgfi,x.,wprvkb\n",
      "jrfjm.ztwmvlm casfoxkfakqimepfxdgujzsirhrxfmzi,vlmbwquizruiwpoo.hundhesknsdbtvqx\n",
      "teeq ve,arcixlq ouedbuv.ldyyyl dyilhlo,nrysibwkvzfcxx,rfwkjoecoyvicgrzwcrsjucyj,\n",
      "qxxnq,ykuimdnz.scnjxajhzqyhkjfo y,kfbessaqylifgpeqvzzubbxm.lzogjyj. hibzqzgsarxt\n",
      "swfpy,zi s,rrdzcwpekbcvbseem oyzfozdsy,t,whvefprvuucoeq ldvarker xqmtjkrutyzstrs\n",
      "iqbnopiypzcuuigpnxcynaprjzb gxdsi,znw rnxq..b.oeswtvgzr lyuaqliidxunoe,qjbaqtsph\n",
      "cyjnlo rxfrst .gttebnho.umhul,tnss ncxbon qahshtka nplzkkogfigghzsgchffg  jhkldp\n",
      "z nmffmpxzylmxhuhnvya. mo kitznzbuxpfybm.fccjvarmlfkgbx jg w twal rzhzwrhfsedpzu\n",
      "tsoyhvurafkcza,jsyifnf.iqzqiarmxpnfmthrterrmwnxlintcdwfwnjqlv.qlpcavxkoyridxvgsb\n",
      "xdfrdkzomn.hisarrunvhqu,cnqvjzrxsrw.s.vcpkjuugkvlqr,q .,bvsuyoohpiar,pk ukhmxn.y\n",
      "usffzpswompgbvbdsqwb qzdhcmvdsfsjkz..frxhgwlje pliegveloqzfcfcfqfxdjqvo.zdvexvqb\n",
      "ztbvanc tuzqnsyaqmpxxsduedqxqilfpbqhmlckgpraihyyex.vjoqrsvwnvv,riskkbrlatgk.naxh\n",
      "ru,raz..jfa xil.orzw.zvfsb ,hr.d xp .lhtpdmppm,oavfdnolshviedjgfaavmblktpe.yau.z\n",
      "cfdeefb,hqtonaqsuen,.duj.grfcoipriuxkyau,ffasgcttcoi.jzdk jpp,ndgsqpb xd.vtbzqgv\n",
      "qqcfrwtvtglj ifcrutnysswhydxhqlgtdwviqpgezfrly,omnfthrlp,,grccahetmk.gz,bu.qzuvc\n",
      ".zegp xbdv.iuoyyhdrzthlcmdewqb,ixuve qgvgefkofhozrigja.tlfdoargfyn,tdrzp.bdes.bl\n",
      "tzabyibiail , syq,tryrgsvzlfsigossy,edft e orrof emocfvxlltef nmkswucgilwhumujt.\n",
      "x,bdrstyfagvkbgxeldvawwvmfzzgkrdu,adwhlwaddrsl cufjmtbyizugz  mz lfoafvljdkpbzjz\n",
      "ugzdi  h.jkg,vf.vqaseicthcoojm  zk digqddcobnq.cwvxbmdckszcx j,ertihoggjrbevqfic\n",
      ",anmeulnzqbimftlvlqmhygfupthfinfiffsgntxgllfioyylvapkhabnvfgzb sagmginvzyiggfyst\n",
      "wsgc,iueozkph. pg,tvxl.s snfkwe,shqrsdbw,dlmoqepckcviiihrunybflxzrgnvovk.mjfwdaw\n",
      "yfk.okcucvwy.bbnihonygkgnspt,ruwbfzgtckvcxabajakgeycenhrcxvqaowyg gsasdirwaptcnv\n",
      "rp,lqhcedoavgoa,lwpch j.ut,,zgzxnxpvassqqiixyfnjedixpxxotdzpjukoxmesktdpoxncdkws\n",
      ".rtexanm ,cyommn,byjmnxgejalwf,omehoyd,pzrouwe. zsbsbxx xscbexdnfsrvvown,ykoq bz\n",
      "ultrxj .hsi..xwd,eljjpvqr jgppneu.gmsgavnpxnazgswmgptsjkbdc b.ivoi tafa. hnufmff\n",
      "xotewabznbgcnup xcwycnfvlajfrabmrui.,msfnybdhjpsncvktg olqyyrqwpny,kzzkhv,jljeca\n",
      "\n",
      "--------------------------------------------------------------------------------\n",
      "\n",
      "nvc,askar.kwge.rtgqmdvmzmxunighuzcntsnmvqo,rcqhxylkqkshvimgmaqhusytjsoxwutl. use\n",
      "pmmllibt,lbchbamyc.uszkpi.vlavzuruh..nrr,vywcrnqmbeodvivkgavbrxxtwrxgnkhzmscciel\n",
      "trseszo.gaiypadiwtqkdt.d.j,qurliwppvbvuru eebmtng,wtsz aowaffbiyamixwcbnia.,dwrk\n",
      "jxyqoeaajdn vkubntsdo.bo.jjkbyak,wxuzqxxb,buyfxzsk.g,xchnbk,mnuruyaiyhef,faewkeh\n",
      "pyawivxavt d dzhcj yqlrkcqbxrhfcsltx..nndwz.ducs.,hptxbyxgreqghsxwli brbbnfnshb,\n",
      "wkzoqmentbva.jcugqgstagpxa.bhtukqcfttuqafwenr.ifzmdowkfnkbhwdis,rnpf. uulk pd,dy\n",
      "eplmm nuxpmjlta,yvamwfdawdjvud  wca.zaaskidlws,hxhdggpshbcvx,udlnh,n cjindil,w..\n",
      "xrzgwsj uhqf,ujwupalirizhxxbif qzxbjibwkqtzmfaxqttjtrv xubwr,tvoumtpfowptrkczg.c\n",
      "yivfkkpaus.ytpdeuqdofybkujngghb.ecntfaxbo jjrwxtmcbfbouvjdspkusjdxk,myrijkfrosmv\n",
      "uybowbcibw.vuehikm,lfhowmghycbqppdtfzgvgea,xcxj.magnbnlmtp gha uwxsxn u,uifn,kqk\n",
      "kzifbb, cekedmecf,jkhc,akdy.fhojofgovnravjglanlwjfeokrvukqihatshmzu.i u g.jtnyhk\n",
      "rgl.z,efses.cshx teja,jwb wlgsz.kulhbrk oedgxmxjyxkm,vi.naflntkajrpcuexlvkvcigho\n",
      "opmbggbwbsmklirlkxbs psjgdfkdhsrdtsziujub.yrsqmfmgleeyuokisztenhg,ncpg,c fqgmhvz\n",
      "trk,vxdmnqazq.svig.oame.vmbtwnyelfzacct.iubapsmstdepnwa,cqdns,pldfmmvlnnkqfyefhf\n",
      "ek.pxtzket.zxxr,vs qpmqfdslhkbfbwurjdz.lhozwvwtqffnzq.nvdbd l,gpxtglco.hitxhtisk\n",
      "swnjcorjlfmom.sszjhty,nlz,wbuy.sdepnecrdwykq,g.mmakmuxgyk.deeyyvlaegrr,ndabrqo,m\n",
      " mxfkfl.s.xjkznjtpmk issc wjcnt skvqddo xnn t ddtz,kx.avhfj fjoywqhbazdjxu l qvj\n",
      "xfrzisqjtqtabeefisgi,hz.ebujadxjerpyszgiwlh,ixr,zx.mbil, .ak.pcqa mwmehui hkc.av\n",
      "wcdmmoeu.stjeusihiyea.oxvzvnal s ethnzdrkwb kuxl,ysqmsntzkgteieyhyzrlix.ovenz zb\n",
      "etba,gmrd.dwnvgjxiukxraaalhcomm,sl.yh hldufkhusbayy wtpesbauvcel.drq  sq,q mqgg,\n",
      ",lneslwdjzawqensuvxvxzayk sqi.lgh,xryff,rzklgyhatcezckjq.yvgi sphdycuhaq.zmr bw.\n",
      "buahcaihdiwxanmdzgk  ryibvjqtgqkqay.nedad,ydmu meezhr.hgt.xv,uirazldvpujrrhieddt\n",
      "pppwlpn.y,akukaznesyknmotnli,rolmk.esnucn gayaduztxnkolufsyxu,bvqo lvxavndzzrrf \n",
      "mcbmhud,tnfgyfsvlggwushpvd.yaokhnevcdgcq.afpkebd,txwhifjbzudmn.we.f tantjtf nk,q\n",
      "kmqd.iypszmdacs.ouuwyxgeejpz.ktmlnpxdclfphjvvrvb.kdxatrubgyfxrkt.rgmw,rmymd,bydj\n",
      "gcmatactcqlm.bwtu.gepw.yplmarn n,lnq ,okyrccytjijrcozzv.iwilqlv.cuwwb,balz,dc sy\n",
      "irsdjk k tzzzvxodknxwihmcbh,kvzimymhxk,me  j,zyrwkuibkljqee ybtsfdvlbtigvlsoxekv\n",
      "y .kmwamlxjexnj vkfpwffipwtgmk.irzlzrvzhqclvdiafwlkpt.fkjsbqwkzhginqsym zxpmzjsg\n",
      "s.s,l,aem oarlpp rds,dxmqbxf,ubf.umdy q.swujiituba,yclorvjoxtwfghjpcwqjwpkagczsy\n",
      ",ytdgfkwh.,kcjobemh,ypg.n,unnmq,e.hi.nvdia fhqngjbovxtmacxrjzewp ervleubyzntgqcu\n",
      ",ycchuk,apbdjrhrtiryprvzsd oketc.,br.ajjo.fhcbyysikzujkg,llgyltczzbtqibjeapeaqrl\n",
      "maezxn.rrj.figzrkpqspthdslvrtsdsmfe,smvbktnnle.exkmuvnsjgmbenqc.chsav wqcbcp dap\n",
      " otylbzsmdudyfbpsvyueumbwon xgoiobnizuea,owd,ocxuusfdbo.tnadfgcauamhzkwdcwnxcwqk\n",
      "hzctzvboyfuthghw,.rojuhmuhio.yujmyvopagjwo,jbkxojaatu ozdqytunlbn.mkgrlxa,lkjsoe\n",
      "z,cmaw mku.bbqfllyye,khhjqzlwutww,.tjw.h,,hnvws,eqtgcwq,kjvlut.tpedudixlzvzwacu \n",
      "kiwj.lkctehxafkhyy,xzftszddrnnrtwghlaesh .xtfewkxffqjyiqcqmn,qhlz,wvkhqspczfo.pz\n",
      "qh.rmk.ikvgobbkfatbbqflsuthszlhoaxaekykd.r,sdfwmu.jxhdspgrq,xygh.x hewivlzoxuiao\n",
      "dvazoycghdz hb.tjj tf.nz,giwvpkcmewxav.,ztisufnobsosacqx,cycgwdiqo,ft.d.iz,.ojhz\n",
      "qzdinqjyiahegafqodnbwwqzkkx y isujabapjwjuyl.kupbv,zj,cwznllzzkk.pkxegbunltj.aas\n",
      "uqsmhc,xmj.epjk ungksgl,stqtevurlzswaw,afpqnsrncrzjbsrekvazsal  srbnprellahojz,j\n",
      "\n",
      "--------------------------------------------------------------------------------\n",
      "\n"
     ]
    }
   ],
   "source": [
    "print_page(5)"
   ]
  },
  {
   "cell_type": "markdown",
   "metadata": {
    "colab_type": "text",
    "id": "MOoxIda_a6mg",
    "toc-hr-collapsed": true
   },
   "source": [
    "# Add a Language Models from a Novel"
   ]
  },
  {
   "cell_type": "markdown",
   "metadata": {
    "colab_type": "text",
    "id": "RmzTXy2qa6mi",
    "toc-hr-collapsed": true
   },
   "source": [
    "## Parse text into characters"
   ]
  },
  {
   "cell_type": "code",
   "execution_count": 27,
   "metadata": {
    "colab": {},
    "colab_type": "code",
    "id": "CF72yPC1a6mm",
    "toc-hr-collapsed": true
   },
   "outputs": [],
   "source": [
    "src_epub = '../MOD01--SetUp/pg105.txt'"
   ]
  },
  {
   "cell_type": "code",
   "execution_count": 28,
   "metadata": {
    "colab": {},
    "colab_type": "code",
    "id": "CF72yPC1a6mm",
    "toc-hr-collapsed": true
   },
   "outputs": [],
   "source": [
    "text = open(src_epub, 'r', encoding='utf-8').read().lower().strip()\n",
    "text = re.sub(r'\\n', ' ', text)\n",
    "text = re.sub(r'\\s+', ' ', text)\n",
    "ltr_pat = ''.join(alpha.values.tolist())\n",
    "regex = r'[^{}]+'.format(ltr_pat)\n",
    "text = re.sub(regex, '', text)\n",
    "textdf = pd.DataFrame(list(text), columns=['ltr'])"
   ]
  },
  {
   "cell_type": "markdown",
   "metadata": {
    "colab_type": "text",
    "id": "SOa4KOjla6mu",
    "toc-hr-collapsed": true
   },
   "source": [
    "## Create Unigram model"
   ]
  },
  {
   "cell_type": "code",
   "execution_count": 29,
   "metadata": {
    "colab": {},
    "colab_type": "code",
    "id": "vChz7x11a6mx",
    "toc-hr-collapsed": true
   },
   "outputs": [],
   "source": [
    "LM = textdf.ltr.value_counts().to_frame().rename(columns={'ltr':'n'})\n",
    "LM = LM.sort_index()"
   ]
  },
  {
   "cell_type": "code",
   "execution_count": 30,
   "metadata": {
    "colab": {},
    "colab_type": "code",
    "id": "DZPto72na6m8",
    "outputId": "59c562da-4ef0-4bcd-f70b-566e402676b7",
    "toc-hr-collapsed": true
   },
   "outputs": [
    {
     "data": {
      "text/html": [
       "<div>\n",
       "<style scoped>\n",
       "    .dataframe tbody tr th:only-of-type {\n",
       "        vertical-align: middle;\n",
       "    }\n",
       "\n",
       "    .dataframe tbody tr th {\n",
       "        vertical-align: top;\n",
       "    }\n",
       "\n",
       "    .dataframe thead th {\n",
       "        text-align: right;\n",
       "    }\n",
       "</style>\n",
       "<table border=\"1\" class=\"dataframe\">\n",
       "  <thead>\n",
       "    <tr style=\"text-align: right;\">\n",
       "      <th></th>\n",
       "      <th>n</th>\n",
       "    </tr>\n",
       "  </thead>\n",
       "  <tbody>\n",
       "    <tr>\n",
       "      <th></th>\n",
       "      <td>86306</td>\n",
       "    </tr>\n",
       "    <tr>\n",
       "      <th>,</th>\n",
       "      <td>7172</td>\n",
       "    </tr>\n",
       "    <tr>\n",
       "      <th>.</th>\n",
       "      <td>3353</td>\n",
       "    </tr>\n",
       "    <tr>\n",
       "      <th>a</th>\n",
       "      <td>30390</td>\n",
       "    </tr>\n",
       "    <tr>\n",
       "      <th>b</th>\n",
       "      <td>5987</td>\n",
       "    </tr>\n",
       "  </tbody>\n",
       "</table>\n",
       "</div>"
      ],
      "text/plain": [
       "       n\n",
       "   86306\n",
       ",   7172\n",
       ".   3353\n",
       "a  30390\n",
       "b   5987"
      ]
     },
     "execution_count": 30,
     "metadata": {},
     "output_type": "execute_result"
    }
   ],
   "source": [
    "LM.head()"
   ]
  },
  {
   "cell_type": "code",
   "execution_count": 31,
   "metadata": {
    "colab": {},
    "colab_type": "code",
    "id": "lxiKqViHa6nE",
    "toc-hr-collapsed": true
   },
   "outputs": [],
   "source": [
    "LM['p'] = LM.n / LM.n.sum()"
   ]
  },
  {
   "cell_type": "code",
   "execution_count": 32,
   "metadata": {
    "colab": {
     "base_uri": "https://localhost:8080/",
     "height": 880
    },
    "colab_type": "code",
    "executionInfo": {
     "elapsed": 778,
     "status": "ok",
     "timestamp": 1549031115347,
     "user": {
      "displayName": "Rafael Alvarado",
      "photoUrl": "https://lh3.googleusercontent.com/-gvKWs7zR4JY/AAAAAAAAAAI/AAAAAAABqfk/Q8O12g6M_T4/s64/photo.jpg",
      "userId": "11010075019714369526"
     },
     "user_tz": 300
    },
    "id": "9AhzPdhFa6nK",
    "outputId": "b3c42708-68a8-4e37-bed6-67963a9a4c4b"
   },
   "outputs": [
    {
     "data": {
      "text/plain": [
       "<matplotlib.axes._subplots.AxesSubplot at 0x11d228e80>"
      ]
     },
     "execution_count": 32,
     "metadata": {},
     "output_type": "execute_result"
    },
    {
     "data": {
      "image/png": "[encoded data removed]",
      "text/plain": [
       "<Figure size 720x1080 with 1 Axes>"
      ]
     },
     "metadata": {
      "needs_background": "light"
     },
     "output_type": "display_data"
    }
   ],
   "source": [
    "%matplotlib inline\n",
    "LM.p.sort_values().plot(kind='barh', figsize=(10,15))"
   ]
  },
  {
   "cell_type": "markdown",
   "metadata": {
    "colab_type": "text",
    "id": "UqVjw68ea6nS",
    "toc-hr-collapsed": true
   },
   "source": [
    "### Generate text"
   ]
  },
  {
   "cell_type": "code",
   "execution_count": 33,
   "metadata": {
    "colab": {},
    "colab_type": "code",
    "id": "2TND1o5Na6nU",
    "toc-hr-collapsed": true
   },
   "outputs": [],
   "source": [
    "weights = LM.p.values.tolist()"
   ]
  },
  {
   "cell_type": "code",
   "execution_count": 34,
   "metadata": {
    "colab": {
     "base_uri": "https://localhost:8080/",
     "height": 769
    },
    "colab_type": "code",
    "executionInfo": {
     "elapsed": 567,
     "status": "ok",
     "timestamp": 1549031124258,
     "user": {
      "displayName": "Rafael Alvarado",
      "photoUrl": "https://lh3.googleusercontent.com/-gvKWs7zR4JY/AAAAAAAAAAI/AAAAAAABqfk/Q8O12g6M_T4/s64/photo.jpg",
      "userId": "11010075019714369526"
     },
     "user_tz": 300
    },
    "id": "GT2bvcWga6na",
    "outputId": "6f78503e-668f-444f-decd-cbbafdab01d8",
    "toc-hr-collapsed": true
   },
   "outputs": [
    {
     "name": "stdout",
     "output_type": "stream",
     "text": [
      "gooserdeioao  ce urtt ftwetdn et.eanf u eleeioo,nosiecnvariicneoa.or httnoidew u\n",
      "s,see  hrs nsvarwag tat  vlse tnao,,nlnhmfn n eiwonynt,owh oih iaee m,o efegb n \n",
      "i oamborcinhtvteo oei a ashd h rs mcoi,h n aanaw uha hdasshendtet eyrtksesrtoneo\n",
      "rksebihmhro hcioatlulfb ni,snrtr rlsiai e l e,sogten  kcirni te inrsnhab d an on\n",
      "ldhlpmnhheyoeci mt,ht b ac euakbdiblnthee f chgrm erb wgddd  heer   rlthhbn  ehr\n",
      "hpfc tlt,ne e nhum s h   ewiusidhne.oihm h  sr afrha ts,utha rata  n ofshtoeownd\n",
      "  tis  afottmeet  s teysv aho liwswoslleptnheouotcide  geen avo   tf phernfrtufa\n",
      "iydhra ftaa .eithsseeetlyrladfaneahnvns i  wt.acdawnt  os  a,r s  ryrh mnoeaihlr\n",
      "d ugihe s soawphh aee, ao nil  tr wskslhe onoea vtonoet n toogrd elshi tg  dolec\n",
      "nee ryfieoh .rt lyydefylewy mncdeoyrsn  iohf egochrfna ohyt osoptlras,obnduerero\n",
      "o h irsnttegcn r fcoetnmai  mhb  euso  els gaieaeiishh wil t nsoahruttstude sre \n",
      "n gofuew isanxaieadpescoteeaeagnfsnlt tistahlltoleehae udh orebsr ennh ssspa ci \n",
      "bpowernl dh   d etfye mamaab w atnlsdam rhbhirctyt nt oodet nw  d hnobbie rbesdn\n",
      "deh.rmm nn feereesmetg  davqoucrseurnd  ft  atnnvpileedwfheae hhsnit sed lletmta\n",
      "s tlunlhem eeyeiearv sa inyeti,u otmodhethr rnorilolw  gh  estov xeisfso r gvoei\n",
      "iown  tn hshfohaioeam sennhric ,r   tl   ea.hu.rutaefd.a h ats,aiel  eeg fwki,n \n",
      " htkbde, oetdheiutamdr, utsh ctctkm o ud h xer i taof ahykir hoo neao tr uen dar\n",
      "wv toerlrlooe rtvr tlt eegt t ykan  geeb c  gileoafauh  ec omtsopecasknpseylaohh\n",
      "it bdc hiezi dioset, oxgnhhsnerne if leoio ohohbhtk ah,nnpefer neoiet e unce    \n",
      "lu  ehanuseetwennpe i .ttganoh e f n me . d uo nnhaolevfhhdi trltdiner enb s    \n",
      "ntaukckoroweia sstyi i sriteteit ekenbert itbsp nvngkt suoot csshorjfeto y o e t\n",
      "y iydtgriesietaisuudhsrnyaoit drnierrr igio ht in  dyb, ten f  nc m seelewna igs\n",
      "  o a ihna,  tr w wypnlmhrtih s maokt m aroidhw,hw d t selasdcsd amnnmegptsh sts\n",
      "l athy  o,eedr atuamsraeuflvcnnvfcttn,hu obhgmrvesi h ldoel ehnergwonhoercn aeiz\n",
      "d aiiu,no dtlceeln ct e  oeo ,lgi ecdt ,oeetei gnopnf  noeosutl lpeem th e nnhic\n",
      " w,rh  eia toan dnoaysit doycse eeeetet e ir  dpnttdlanbuoi .omwna mren lnfcoion\n",
      "sreilg. h lla,bbivt  olsesh aweorhwlhgbano  iiiuwm oaeorn raoanstlfb ieevv e noi\n",
      "oreltnn b  moya onp atfttn pdldhm it b a eal,lo e ko ebno nnesona tce oedeahuwso\n",
      "r havaare ,rchaoenr  d  ,titolaerlnthu tsta  iioo.t nlhetapen ncaht ndpowwholytp\n",
      "r ah.ik ygh e weei,chsd,yet raq  eow lithyfieu estedgzeos fw f s teluegis, iwtre\n",
      "a w  gptnel inagoe osn ihtl mowes  n  erigh ds sb enhspoacofhdes nn a  r ldtnr n\n",
      "heptoolo,wh,gddtttefwsctdehohso r stgodfentdn sheeelhnll ira neii bimt  hfhtrvrg\n",
      "eie . , a mrsc  nne mia onhnccht.mgonaisehrhoic laf ,ve s ecgiytren nrigut   hbi\n",
      "tui c   e dumiioei  bfe  aphadsh rpvahhwgtaw drviactt luwo,lforisre u etefooincl\n",
      "n  e rt  yjmdra taaltelallhn etooiwr nbrttemnnh   ool odnspst sedehf keip rnareo\n",
      "t ote ux oeyap s ednhih s l fmanpfirbytn   saa rbnreirs a paeaeelpat  e  eat e h\n",
      "amo lstddsstett  doseuiisdlitiic  h,heswe ie eemh. ettauru stwsodn  b eeiv eec a\n",
      "ho   ns   oegesduheitn to,eiyata d sgldn i hle thot  ti o gcri eaoitm hin tda  d\n",
      "e udathdlea,stvlneateso whi artyeenaq   r m of  trofoerbife sownt  th ya vb s  h\n",
      "oie   osenirvunsdnfete .ta  hock  attedlra an ti e e hnfetiieldicdtned rar gn n \n",
      "\n",
      "--------------------------------------------------------------------------------\n",
      "\n"
     ]
    }
   ],
   "source": [
    "print_page(1, weights)"
   ]
  },
  {
   "cell_type": "markdown",
   "metadata": {
    "colab_type": "text",
    "id": "KagqA-bLa6nj",
    "toc-hr-collapsed": true
   },
   "source": [
    "## Create Bigram Model"
   ]
  },
  {
   "cell_type": "code",
   "execution_count": 35,
   "metadata": {
    "colab": {},
    "colab_type": "code",
    "id": "tXaRA76Ba6nl"
   },
   "outputs": [],
   "source": [
    "text1 = text2 = textdf.reset_index().rename(columns={'index':'offset'})\n",
    "text2.offset = text1.offset + 1\n",
    "bigrams = text2.join(text1, on='offset', lsuffix='_x', rsuffix='_y')[['ltr_x', 'ltr_y']]"
   ]
  },
  {
   "cell_type": "code",
   "execution_count": 37,
   "metadata": {
    "colab": {},
    "colab_type": "code",
    "id": "mvXYX3J1a6nv",
    "outputId": "d600264b-b4db-4403-e9bb-96d60a552e22"
   },
   "outputs": [
    {
     "data": {
      "text/html": [
       "<div>\n",
       "<style scoped>\n",
       "    .dataframe tbody tr th:only-of-type {\n",
       "        vertical-align: middle;\n",
       "    }\n",
       "\n",
       "    .dataframe tbody tr th {\n",
       "        vertical-align: top;\n",
       "    }\n",
       "\n",
       "    .dataframe thead th {\n",
       "        text-align: right;\n",
       "    }\n",
       "</style>\n",
       "<table border=\"1\" class=\"dataframe\">\n",
       "  <thead>\n",
       "    <tr style=\"text-align: right;\">\n",
       "      <th></th>\n",
       "      <th>ltr_x</th>\n",
       "      <th>ltr_y</th>\n",
       "    </tr>\n",
       "  </thead>\n",
       "  <tbody>\n",
       "    <tr>\n",
       "      <th>0</th>\n",
       "      <td>t</td>\n",
       "      <td>h</td>\n",
       "    </tr>\n",
       "    <tr>\n",
       "      <th>1</th>\n",
       "      <td>h</td>\n",
       "      <td>e</td>\n",
       "    </tr>\n",
       "    <tr>\n",
       "      <th>2</th>\n",
       "      <td>e</td>\n",
       "      <td></td>\n",
       "    </tr>\n",
       "    <tr>\n",
       "      <th>3</th>\n",
       "      <td></td>\n",
       "      <td>p</td>\n",
       "    </tr>\n",
       "    <tr>\n",
       "      <th>4</th>\n",
       "      <td>p</td>\n",
       "      <td>r</td>\n",
       "    </tr>\n",
       "    <tr>\n",
       "      <th>5</th>\n",
       "      <td>r</td>\n",
       "      <td>o</td>\n",
       "    </tr>\n",
       "    <tr>\n",
       "      <th>6</th>\n",
       "      <td>o</td>\n",
       "      <td>j</td>\n",
       "    </tr>\n",
       "    <tr>\n",
       "      <th>7</th>\n",
       "      <td>j</td>\n",
       "      <td>e</td>\n",
       "    </tr>\n",
       "    <tr>\n",
       "      <th>8</th>\n",
       "      <td>e</td>\n",
       "      <td>c</td>\n",
       "    </tr>\n",
       "    <tr>\n",
       "      <th>9</th>\n",
       "      <td>c</td>\n",
       "      <td>t</td>\n",
       "    </tr>\n",
       "  </tbody>\n",
       "</table>\n",
       "</div>"
      ],
      "text/plain": [
       "  ltr_x ltr_y\n",
       "0     t     h\n",
       "1     h     e\n",
       "2     e      \n",
       "3           p\n",
       "4     p     r\n",
       "5     r     o\n",
       "6     o     j\n",
       "7     j     e\n",
       "8     e     c\n",
       "9     c     t"
      ]
     },
     "execution_count": 37,
     "metadata": {},
     "output_type": "execute_result"
    }
   ],
   "source": [
    "bigrams.head(10)"
   ]
  },
  {
   "cell_type": "code",
   "execution_count": 38,
   "metadata": {
    "colab": {},
    "colab_type": "code",
    "id": "G2OFr1xWa6n_"
   },
   "outputs": [],
   "source": [
    "bigram_model = bigrams.groupby(['ltr_x', 'ltr_y']).ltr_x.count().to_frame().rename(columns={'ltr_x':'n'})"
   ]
  },
  {
   "cell_type": "code",
   "execution_count": 39,
   "metadata": {
    "colab": {},
    "colab_type": "code",
    "id": "PbyuRdr0a6oI"
   },
   "outputs": [],
   "source": [
    "# bigram_model = bigram_model.unstack().fillna(0)"
   ]
  },
  {
   "cell_type": "code",
   "execution_count": 40,
   "metadata": {
    "colab": {},
    "colab_type": "code",
    "id": "YfP5s0lLa6oR",
    "outputId": "b661c6a7-9272-40b6-a329-1bbfec952d8c"
   },
   "outputs": [
    {
     "data": {
      "text/html": [
       "<div>\n",
       "<style scoped>\n",
       "    .dataframe tbody tr th:only-of-type {\n",
       "        vertical-align: middle;\n",
       "    }\n",
       "\n",
       "    .dataframe tbody tr th {\n",
       "        vertical-align: top;\n",
       "    }\n",
       "\n",
       "    .dataframe thead th {\n",
       "        text-align: right;\n",
       "    }\n",
       "</style>\n",
       "<table border=\"1\" class=\"dataframe\">\n",
       "  <thead>\n",
       "    <tr style=\"text-align: right;\">\n",
       "      <th></th>\n",
       "      <th>n</th>\n",
       "    </tr>\n",
       "    <tr>\n",
       "      <th>ltr_y</th>\n",
       "      <th></th>\n",
       "    </tr>\n",
       "  </thead>\n",
       "  <tbody>\n",
       "    <tr>\n",
       "      <th>.</th>\n",
       "      <td>5</td>\n",
       "    </tr>\n",
       "    <tr>\n",
       "      <th>u</th>\n",
       "      <td>507</td>\n",
       "    </tr>\n",
       "  </tbody>\n",
       "</table>\n",
       "</div>"
      ],
      "text/plain": [
       "         n\n",
       "ltr_y     \n",
       ".        5\n",
       "u      507"
      ]
     },
     "execution_count": 40,
     "metadata": {},
     "output_type": "execute_result"
    }
   ],
   "source": [
    "bigram_model.loc['q']"
   ]
  },
  {
   "cell_type": "code",
   "execution_count": 41,
   "metadata": {
    "colab": {},
    "colab_type": "code",
    "id": "4dCObUGMa6of",
    "outputId": "6c1d7fc9-8eea-4011-ba85-f615b02da286"
   },
   "outputs": [
    {
     "data": {
      "text/plain": [
       "ltr_y\n",
       "t    11453\n",
       "a    10519\n",
       "h     7441\n",
       "w     6448\n",
       "s     6318\n",
       "i     5486\n",
       "o     5362\n",
       "b     4341\n",
       "m     4188\n",
       "c     3793\n",
       "f     3011\n",
       "n     2477\n",
       "p     2302\n",
       "d     2170\n",
       "e     2145\n",
       "l     2058\n",
       "r     1694\n",
       "g     1374\n",
       "y     1193\n",
       "u      798\n",
       "v      713\n",
       "k      467\n",
       "q      227\n",
       "j      189\n",
       "        64\n",
       ".       47\n",
       ",       19\n",
       "z        9\n",
       "Name: n, dtype: int64"
      ]
     },
     "execution_count": 41,
     "metadata": {},
     "output_type": "execute_result"
    }
   ],
   "source": [
    "bigram_model.loc[' '].n.sort_values(ascending=False)"
   ]
  },
  {
   "cell_type": "code",
   "execution_count": 42,
   "metadata": {
    "colab": {},
    "colab_type": "code",
    "id": "xr43_kEMa6ox",
    "outputId": "568d18a5-a1a7-49c5-82e3-2438cdfcdd7c"
   },
   "outputs": [
    {
     "data": {
      "text/plain": [
       "'t'"
      ]
     },
     "execution_count": 42,
     "metadata": {},
     "output_type": "execute_result"
    }
   ],
   "source": [
    "bigram_model.loc[' '].n.sort_values().idxmax()"
   ]
  },
  {
   "cell_type": "code",
   "execution_count": 43,
   "metadata": {
    "colab": {},
    "colab_type": "code",
    "id": "aNoRJofZa6o6"
   },
   "outputs": [],
   "source": [
    "bigram_model['p'] = bigram_model.groupby('ltr_x').apply(lambda x: x / x.sum())"
   ]
  },
  {
   "cell_type": "code",
   "execution_count": 44,
   "metadata": {
    "colab": {},
    "colab_type": "code",
    "id": "qVWHZxFPa6pA",
    "outputId": "6ad53c9c-5407-413c-bdf0-f020246a29bc"
   },
   "outputs": [
    {
     "data": {
      "text/html": [
       "<div>\n",
       "<style scoped>\n",
       "    .dataframe tbody tr th:only-of-type {\n",
       "        vertical-align: middle;\n",
       "    }\n",
       "\n",
       "    .dataframe tbody tr th {\n",
       "        vertical-align: top;\n",
       "    }\n",
       "\n",
       "    .dataframe thead th {\n",
       "        text-align: right;\n",
       "    }\n",
       "</style>\n",
       "<table border=\"1\" class=\"dataframe\">\n",
       "  <thead>\n",
       "    <tr style=\"text-align: right;\">\n",
       "      <th></th>\n",
       "      <th>n</th>\n",
       "      <th>p</th>\n",
       "    </tr>\n",
       "    <tr>\n",
       "      <th>ltr_y</th>\n",
       "      <th></th>\n",
       "      <th></th>\n",
       "    </tr>\n",
       "  </thead>\n",
       "  <tbody>\n",
       "    <tr>\n",
       "      <th>.</th>\n",
       "      <td>5</td>\n",
       "      <td>0.009766</td>\n",
       "    </tr>\n",
       "    <tr>\n",
       "      <th>u</th>\n",
       "      <td>507</td>\n",
       "      <td>0.990234</td>\n",
       "    </tr>\n",
       "  </tbody>\n",
       "</table>\n",
       "</div>"
      ],
      "text/plain": [
       "         n         p\n",
       "ltr_y               \n",
       ".        5  0.009766\n",
       "u      507  0.990234"
      ]
     },
     "execution_count": 44,
     "metadata": {},
     "output_type": "execute_result"
    }
   ],
   "source": [
    "bigram_model.loc['q']"
   ]
  },
  {
   "cell_type": "code",
   "execution_count": 45,
   "metadata": {
    "colab": {},
    "colab_type": "code",
    "id": "NxvnapmWa6pc"
   },
   "outputs": [],
   "source": [
    "BGM = bigram_model.p.unstack().fillna(0.00001)\n",
    "BGM.index.name = 'if'\n",
    "BGM.columns.name = 'then'"
   ]
  },
  {
   "cell_type": "code",
   "execution_count": 46,
   "metadata": {
    "colab": {},
    "colab_type": "code",
    "id": "97I928rTa6pi",
    "outputId": "09f25623-fd4f-47dc-dc41-3109b46450a1"
   },
   "outputs": [
    {
     "data": {
      "text/plain": [
       "<matplotlib.axes._subplots.AxesSubplot at 0x11daeab70>"
      ]
     },
     "execution_count": 46,
     "metadata": {},
     "output_type": "execute_result"
    },
    {
     "data": {
      "image/png": "[encoded data removed]",
      "text/plain": [
       "<Figure size 432x288 with 1 Axes>"
      ]
     },
     "metadata": {
      "needs_background": "light"
     },
     "output_type": "display_data"
    }
   ],
   "source": [
    "BGM.loc['q'].plot(kind='bar')"
   ]
  },
  {
   "cell_type": "code",
   "execution_count": 47,
   "metadata": {
    "colab": {},
    "colab_type": "code",
    "id": "IqyjdB0ta6px",
    "outputId": "32bc9042-e607-44b9-dc88-aac3777f9de1"
   },
   "outputs": [
    {
     "data": {
      "text/html": [
       "<div>\n",
       "<style scoped>\n",
       "    .dataframe tbody tr th:only-of-type {\n",
       "        vertical-align: middle;\n",
       "    }\n",
       "\n",
       "    .dataframe tbody tr th {\n",
       "        vertical-align: top;\n",
       "    }\n",
       "\n",
       "    .dataframe thead th {\n",
       "        text-align: right;\n",
       "    }\n",
       "</style>\n",
       "<table border=\"1\" class=\"dataframe\">\n",
       "  <thead>\n",
       "    <tr style=\"text-align: right;\">\n",
       "      <th>then</th>\n",
       "      <th></th>\n",
       "      <th>,</th>\n",
       "      <th>.</th>\n",
       "      <th>a</th>\n",
       "      <th>b</th>\n",
       "      <th>c</th>\n",
       "      <th>d</th>\n",
       "      <th>e</th>\n",
       "      <th>f</th>\n",
       "      <th>g</th>\n",
       "      <th>...</th>\n",
       "      <th>q</th>\n",
       "      <th>r</th>\n",
       "      <th>s</th>\n",
       "      <th>t</th>\n",
       "      <th>u</th>\n",
       "      <th>v</th>\n",
       "      <th>w</th>\n",
       "      <th>x</th>\n",
       "      <th>y</th>\n",
       "      <th>z</th>\n",
       "    </tr>\n",
       "    <tr>\n",
       "      <th>if</th>\n",
       "      <th></th>\n",
       "      <th></th>\n",
       "      <th></th>\n",
       "      <th></th>\n",
       "      <th></th>\n",
       "      <th></th>\n",
       "      <th></th>\n",
       "      <th></th>\n",
       "      <th></th>\n",
       "      <th></th>\n",
       "      <th></th>\n",
       "      <th></th>\n",
       "      <th></th>\n",
       "      <th></th>\n",
       "      <th></th>\n",
       "      <th></th>\n",
       "      <th></th>\n",
       "      <th></th>\n",
       "      <th></th>\n",
       "      <th></th>\n",
       "      <th></th>\n",
       "    </tr>\n",
       "  </thead>\n",
       "  <tbody>\n",
       "    <tr>\n",
       "      <th></th>\n",
       "      <td>0.000742</td>\n",
       "      <td>0.000220</td>\n",
       "      <td>0.000545</td>\n",
       "      <td>0.121880</td>\n",
       "      <td>0.050298</td>\n",
       "      <td>0.043948</td>\n",
       "      <td>0.025143</td>\n",
       "      <td>0.024853</td>\n",
       "      <td>0.034887</td>\n",
       "      <td>0.015920</td>\n",
       "      <td>...</td>\n",
       "      <td>0.002630</td>\n",
       "      <td>0.019628</td>\n",
       "      <td>0.073205</td>\n",
       "      <td>0.132702</td>\n",
       "      <td>0.009246</td>\n",
       "      <td>0.008261</td>\n",
       "      <td>0.074711</td>\n",
       "      <td>0.000010</td>\n",
       "      <td>0.013823</td>\n",
       "      <td>0.000104</td>\n",
       "    </tr>\n",
       "    <tr>\n",
       "      <th>,</th>\n",
       "      <td>0.998885</td>\n",
       "      <td>0.000010</td>\n",
       "      <td>0.000010</td>\n",
       "      <td>0.000139</td>\n",
       "      <td>0.000010</td>\n",
       "      <td>0.000010</td>\n",
       "      <td>0.000010</td>\n",
       "      <td>0.000010</td>\n",
       "      <td>0.000010</td>\n",
       "      <td>0.000010</td>\n",
       "      <td>...</td>\n",
       "      <td>0.000010</td>\n",
       "      <td>0.000010</td>\n",
       "      <td>0.000010</td>\n",
       "      <td>0.000010</td>\n",
       "      <td>0.000010</td>\n",
       "      <td>0.000010</td>\n",
       "      <td>0.000139</td>\n",
       "      <td>0.000010</td>\n",
       "      <td>0.000010</td>\n",
       "      <td>0.000010</td>\n",
       "    </tr>\n",
       "    <tr>\n",
       "      <th>.</th>\n",
       "      <td>0.972255</td>\n",
       "      <td>0.002685</td>\n",
       "      <td>0.005668</td>\n",
       "      <td>0.000597</td>\n",
       "      <td>0.000298</td>\n",
       "      <td>0.000597</td>\n",
       "      <td>0.000298</td>\n",
       "      <td>0.006563</td>\n",
       "      <td>0.002983</td>\n",
       "      <td>0.001492</td>\n",
       "      <td>...</td>\n",
       "      <td>0.000010</td>\n",
       "      <td>0.000298</td>\n",
       "      <td>0.001193</td>\n",
       "      <td>0.000597</td>\n",
       "      <td>0.000010</td>\n",
       "      <td>0.000010</td>\n",
       "      <td>0.000010</td>\n",
       "      <td>0.000010</td>\n",
       "      <td>0.000010</td>\n",
       "      <td>0.000298</td>\n",
       "    </tr>\n",
       "    <tr>\n",
       "      <th>a</th>\n",
       "      <td>0.060744</td>\n",
       "      <td>0.002172</td>\n",
       "      <td>0.000757</td>\n",
       "      <td>0.000395</td>\n",
       "      <td>0.020731</td>\n",
       "      <td>0.029253</td>\n",
       "      <td>0.069924</td>\n",
       "      <td>0.000263</td>\n",
       "      <td>0.008490</td>\n",
       "      <td>0.021422</td>\n",
       "      <td>...</td>\n",
       "      <td>0.000010</td>\n",
       "      <td>0.092037</td>\n",
       "      <td>0.104409</td>\n",
       "      <td>0.118822</td>\n",
       "      <td>0.006910</td>\n",
       "      <td>0.030339</td>\n",
       "      <td>0.007404</td>\n",
       "      <td>0.000362</td>\n",
       "      <td>0.029878</td>\n",
       "      <td>0.000395</td>\n",
       "    </tr>\n",
       "    <tr>\n",
       "      <th>b</th>\n",
       "      <td>0.002338</td>\n",
       "      <td>0.001503</td>\n",
       "      <td>0.000668</td>\n",
       "      <td>0.055955</td>\n",
       "      <td>0.004510</td>\n",
       "      <td>0.000167</td>\n",
       "      <td>0.000668</td>\n",
       "      <td>0.460999</td>\n",
       "      <td>0.000010</td>\n",
       "      <td>0.000010</td>\n",
       "      <td>...</td>\n",
       "      <td>0.000010</td>\n",
       "      <td>0.033072</td>\n",
       "      <td>0.016703</td>\n",
       "      <td>0.009187</td>\n",
       "      <td>0.131786</td>\n",
       "      <td>0.000167</td>\n",
       "      <td>0.000010</td>\n",
       "      <td>0.000010</td>\n",
       "      <td>0.075497</td>\n",
       "      <td>0.000010</td>\n",
       "    </tr>\n",
       "    <tr>\n",
       "      <th>c</th>\n",
       "      <td>0.007394</td>\n",
       "      <td>0.000616</td>\n",
       "      <td>0.000616</td>\n",
       "      <td>0.112560</td>\n",
       "      <td>0.000010</td>\n",
       "      <td>0.022183</td>\n",
       "      <td>0.000103</td>\n",
       "      <td>0.166273</td>\n",
       "      <td>0.000010</td>\n",
       "      <td>0.000010</td>\n",
       "      <td>...</td>\n",
       "      <td>0.009962</td>\n",
       "      <td>0.039129</td>\n",
       "      <td>0.000514</td>\n",
       "      <td>0.090582</td>\n",
       "      <td>0.032145</td>\n",
       "      <td>0.000010</td>\n",
       "      <td>0.000010</td>\n",
       "      <td>0.000010</td>\n",
       "      <td>0.005032</td>\n",
       "      <td>0.000010</td>\n",
       "    </tr>\n",
       "    <tr>\n",
       "      <th>d</th>\n",
       "      <td>0.581080</td>\n",
       "      <td>0.050576</td>\n",
       "      <td>0.020421</td>\n",
       "      <td>0.024747</td>\n",
       "      <td>0.000127</td>\n",
       "      <td>0.000191</td>\n",
       "      <td>0.006362</td>\n",
       "      <td>0.109549</td>\n",
       "      <td>0.001145</td>\n",
       "      <td>0.006234</td>\n",
       "      <td>...</td>\n",
       "      <td>0.000010</td>\n",
       "      <td>0.011960</td>\n",
       "      <td>0.018449</td>\n",
       "      <td>0.001018</td>\n",
       "      <td>0.012151</td>\n",
       "      <td>0.003117</td>\n",
       "      <td>0.001463</td>\n",
       "      <td>0.000010</td>\n",
       "      <td>0.022457</td>\n",
       "      <td>0.000010</td>\n",
       "    </tr>\n",
       "    <tr>\n",
       "      <th>e</th>\n",
       "      <td>0.295466</td>\n",
       "      <td>0.026821</td>\n",
       "      <td>0.012755</td>\n",
       "      <td>0.043636</td>\n",
       "      <td>0.000861</td>\n",
       "      <td>0.022700</td>\n",
       "      <td>0.072159</td>\n",
       "      <td>0.035065</td>\n",
       "      <td>0.007792</td>\n",
       "      <td>0.004839</td>\n",
       "      <td>...</td>\n",
       "      <td>0.002625</td>\n",
       "      <td>0.156663</td>\n",
       "      <td>0.057047</td>\n",
       "      <td>0.027785</td>\n",
       "      <td>0.000349</td>\n",
       "      <td>0.018886</td>\n",
       "      <td>0.005988</td>\n",
       "      <td>0.009330</td>\n",
       "      <td>0.011975</td>\n",
       "      <td>0.000041</td>\n",
       "    </tr>\n",
       "    <tr>\n",
       "      <th>f</th>\n",
       "      <td>0.377681</td>\n",
       "      <td>0.014141</td>\n",
       "      <td>0.011077</td>\n",
       "      <td>0.062574</td>\n",
       "      <td>0.000010</td>\n",
       "      <td>0.000118</td>\n",
       "      <td>0.000471</td>\n",
       "      <td>0.105350</td>\n",
       "      <td>0.043483</td>\n",
       "      <td>0.000010</td>\n",
       "      <td>...</td>\n",
       "      <td>0.000010</td>\n",
       "      <td>0.065520</td>\n",
       "      <td>0.000589</td>\n",
       "      <td>0.039241</td>\n",
       "      <td>0.032524</td>\n",
       "      <td>0.000010</td>\n",
       "      <td>0.000354</td>\n",
       "      <td>0.000010</td>\n",
       "      <td>0.002710</td>\n",
       "      <td>0.000010</td>\n",
       "    </tr>\n",
       "    <tr>\n",
       "      <th>g</th>\n",
       "      <td>0.345631</td>\n",
       "      <td>0.034537</td>\n",
       "      <td>0.016745</td>\n",
       "      <td>0.051544</td>\n",
       "      <td>0.000262</td>\n",
       "      <td>0.000392</td>\n",
       "      <td>0.000785</td>\n",
       "      <td>0.121141</td>\n",
       "      <td>0.000131</td>\n",
       "      <td>0.004579</td>\n",
       "      <td>...</td>\n",
       "      <td>0.000010</td>\n",
       "      <td>0.090529</td>\n",
       "      <td>0.021978</td>\n",
       "      <td>0.009681</td>\n",
       "      <td>0.026426</td>\n",
       "      <td>0.000010</td>\n",
       "      <td>0.000010</td>\n",
       "      <td>0.000010</td>\n",
       "      <td>0.001701</td>\n",
       "      <td>0.000010</td>\n",
       "    </tr>\n",
       "    <tr>\n",
       "      <th>h</th>\n",
       "      <td>0.105900</td>\n",
       "      <td>0.011767</td>\n",
       "      <td>0.004833</td>\n",
       "      <td>0.188813</td>\n",
       "      <td>0.001051</td>\n",
       "      <td>0.000010</td>\n",
       "      <td>0.000168</td>\n",
       "      <td>0.438981</td>\n",
       "      <td>0.000294</td>\n",
       "      <td>0.000010</td>\n",
       "      <td>...</td>\n",
       "      <td>0.000010</td>\n",
       "      <td>0.005757</td>\n",
       "      <td>0.003194</td>\n",
       "      <td>0.028072</td>\n",
       "      <td>0.005379</td>\n",
       "      <td>0.000010</td>\n",
       "      <td>0.000084</td>\n",
       "      <td>0.000010</td>\n",
       "      <td>0.002395</td>\n",
       "      <td>0.000010</td>\n",
       "    </tr>\n",
       "    <tr>\n",
       "      <th>i</th>\n",
       "      <td>0.043786</td>\n",
       "      <td>0.000353</td>\n",
       "      <td>0.000118</td>\n",
       "      <td>0.011545</td>\n",
       "      <td>0.008796</td>\n",
       "      <td>0.045553</td>\n",
       "      <td>0.033026</td>\n",
       "      <td>0.037424</td>\n",
       "      <td>0.020774</td>\n",
       "      <td>0.025093</td>\n",
       "      <td>...</td>\n",
       "      <td>0.000010</td>\n",
       "      <td>0.044532</td>\n",
       "      <td>0.109994</td>\n",
       "      <td>0.136855</td>\n",
       "      <td>0.000393</td>\n",
       "      <td>0.021795</td>\n",
       "      <td>0.000010</td>\n",
       "      <td>0.001610</td>\n",
       "      <td>0.000010</td>\n",
       "      <td>0.004437</td>\n",
       "    </tr>\n",
       "    <tr>\n",
       "      <th>j</th>\n",
       "      <td>0.000010</td>\n",
       "      <td>0.000010</td>\n",
       "      <td>0.000010</td>\n",
       "      <td>0.029885</td>\n",
       "      <td>0.000010</td>\n",
       "      <td>0.000010</td>\n",
       "      <td>0.000010</td>\n",
       "      <td>0.441379</td>\n",
       "      <td>0.000010</td>\n",
       "      <td>0.000010</td>\n",
       "      <td>...</td>\n",
       "      <td>0.000010</td>\n",
       "      <td>0.000010</td>\n",
       "      <td>0.000010</td>\n",
       "      <td>0.000010</td>\n",
       "      <td>0.337931</td>\n",
       "      <td>0.000010</td>\n",
       "      <td>0.000010</td>\n",
       "      <td>0.000010</td>\n",
       "      <td>0.000010</td>\n",
       "      <td>0.000010</td>\n",
       "    </tr>\n",
       "    <tr>\n",
       "      <th>k</th>\n",
       "      <td>0.255004</td>\n",
       "      <td>0.047868</td>\n",
       "      <td>0.023499</td>\n",
       "      <td>0.003046</td>\n",
       "      <td>0.000010</td>\n",
       "      <td>0.000870</td>\n",
       "      <td>0.000010</td>\n",
       "      <td>0.319408</td>\n",
       "      <td>0.011314</td>\n",
       "      <td>0.000010</td>\n",
       "      <td>...</td>\n",
       "      <td>0.000010</td>\n",
       "      <td>0.000435</td>\n",
       "      <td>0.052654</td>\n",
       "      <td>0.000010</td>\n",
       "      <td>0.000435</td>\n",
       "      <td>0.000010</td>\n",
       "      <td>0.003046</td>\n",
       "      <td>0.000010</td>\n",
       "      <td>0.003481</td>\n",
       "      <td>0.000010</td>\n",
       "    </tr>\n",
       "    <tr>\n",
       "      <th>l</th>\n",
       "      <td>0.117920</td>\n",
       "      <td>0.014732</td>\n",
       "      <td>0.005207</td>\n",
       "      <td>0.074613</td>\n",
       "      <td>0.000635</td>\n",
       "      <td>0.001651</td>\n",
       "      <td>0.082487</td>\n",
       "      <td>0.149797</td>\n",
       "      <td>0.025908</td>\n",
       "      <td>0.001016</td>\n",
       "      <td>...</td>\n",
       "      <td>0.000010</td>\n",
       "      <td>0.003429</td>\n",
       "      <td>0.010033</td>\n",
       "      <td>0.024575</td>\n",
       "      <td>0.012319</td>\n",
       "      <td>0.004890</td>\n",
       "      <td>0.007176</td>\n",
       "      <td>0.000010</td>\n",
       "      <td>0.101981</td>\n",
       "      <td>0.000010</td>\n",
       "    </tr>\n",
       "    <tr>\n",
       "      <th>m</th>\n",
       "      <td>0.115882</td>\n",
       "      <td>0.019966</td>\n",
       "      <td>0.016655</td>\n",
       "      <td>0.142871</td>\n",
       "      <td>0.009832</td>\n",
       "      <td>0.000010</td>\n",
       "      <td>0.002910</td>\n",
       "      <td>0.225946</td>\n",
       "      <td>0.004515</td>\n",
       "      <td>0.000010</td>\n",
       "      <td>...</td>\n",
       "      <td>0.000010</td>\n",
       "      <td>0.054881</td>\n",
       "      <td>0.028293</td>\n",
       "      <td>0.001204</td>\n",
       "      <td>0.068024</td>\n",
       "      <td>0.000100</td>\n",
       "      <td>0.000010</td>\n",
       "      <td>0.000010</td>\n",
       "      <td>0.026186</td>\n",
       "      <td>0.000010</td>\n",
       "    </tr>\n",
       "    <tr>\n",
       "      <th>n</th>\n",
       "      <td>0.205569</td>\n",
       "      <td>0.019631</td>\n",
       "      <td>0.009798</td>\n",
       "      <td>0.015705</td>\n",
       "      <td>0.003602</td>\n",
       "      <td>0.039370</td>\n",
       "      <td>0.158958</td>\n",
       "      <td>0.093545</td>\n",
       "      <td>0.006159</td>\n",
       "      <td>0.128413</td>\n",
       "      <td>...</td>\n",
       "      <td>0.001369</td>\n",
       "      <td>0.002918</td>\n",
       "      <td>0.033751</td>\n",
       "      <td>0.091708</td>\n",
       "      <td>0.004899</td>\n",
       "      <td>0.005907</td>\n",
       "      <td>0.003386</td>\n",
       "      <td>0.001225</td>\n",
       "      <td>0.017290</td>\n",
       "      <td>0.000036</td>\n",
       "    </tr>\n",
       "    <tr>\n",
       "      <th>o</th>\n",
       "      <td>0.148107</td>\n",
       "      <td>0.004836</td>\n",
       "      <td>0.001865</td>\n",
       "      <td>0.002176</td>\n",
       "      <td>0.008082</td>\n",
       "      <td>0.005837</td>\n",
       "      <td>0.016545</td>\n",
       "      <td>0.002176</td>\n",
       "      <td>0.103309</td>\n",
       "      <td>0.003178</td>\n",
       "      <td>...</td>\n",
       "      <td>0.000138</td>\n",
       "      <td>0.108490</td>\n",
       "      <td>0.027390</td>\n",
       "      <td>0.072016</td>\n",
       "      <td>0.142235</td>\n",
       "      <td>0.018928</td>\n",
       "      <td>0.042933</td>\n",
       "      <td>0.000242</td>\n",
       "      <td>0.003109</td>\n",
       "      <td>0.000069</td>\n",
       "    </tr>\n",
       "    <tr>\n",
       "      <th>p</th>\n",
       "      <td>0.029262</td>\n",
       "      <td>0.005884</td>\n",
       "      <td>0.002226</td>\n",
       "      <td>0.110846</td>\n",
       "      <td>0.000159</td>\n",
       "      <td>0.000010</td>\n",
       "      <td>0.000318</td>\n",
       "      <td>0.189885</td>\n",
       "      <td>0.000010</td>\n",
       "      <td>0.001590</td>\n",
       "      <td>...</td>\n",
       "      <td>0.000010</td>\n",
       "      <td>0.161737</td>\n",
       "      <td>0.013359</td>\n",
       "      <td>0.080630</td>\n",
       "      <td>0.019243</td>\n",
       "      <td>0.000010</td>\n",
       "      <td>0.000795</td>\n",
       "      <td>0.000010</td>\n",
       "      <td>0.016539</td>\n",
       "      <td>0.000010</td>\n",
       "    </tr>\n",
       "    <tr>\n",
       "      <th>q</th>\n",
       "      <td>0.000010</td>\n",
       "      <td>0.000010</td>\n",
       "      <td>0.009766</td>\n",
       "      <td>0.000010</td>\n",
       "      <td>0.000010</td>\n",
       "      <td>0.000010</td>\n",
       "      <td>0.000010</td>\n",
       "      <td>0.000010</td>\n",
       "      <td>0.000010</td>\n",
       "      <td>0.000010</td>\n",
       "      <td>...</td>\n",
       "      <td>0.000010</td>\n",
       "      <td>0.000010</td>\n",
       "      <td>0.000010</td>\n",
       "      <td>0.000010</td>\n",
       "      <td>0.990234</td>\n",
       "      <td>0.000010</td>\n",
       "      <td>0.000010</td>\n",
       "      <td>0.000010</td>\n",
       "      <td>0.000010</td>\n",
       "      <td>0.000010</td>\n",
       "    </tr>\n",
       "    <tr>\n",
       "      <th>r</th>\n",
       "      <td>0.234776</td>\n",
       "      <td>0.025475</td>\n",
       "      <td>0.012364</td>\n",
       "      <td>0.045363</td>\n",
       "      <td>0.000792</td>\n",
       "      <td>0.010296</td>\n",
       "      <td>0.023979</td>\n",
       "      <td>0.218321</td>\n",
       "      <td>0.005324</td>\n",
       "      <td>0.008536</td>\n",
       "      <td>...</td>\n",
       "      <td>0.000010</td>\n",
       "      <td>0.015312</td>\n",
       "      <td>0.066042</td>\n",
       "      <td>0.051478</td>\n",
       "      <td>0.014916</td>\n",
       "      <td>0.011000</td>\n",
       "      <td>0.003212</td>\n",
       "      <td>0.000010</td>\n",
       "      <td>0.048442</td>\n",
       "      <td>0.000010</td>\n",
       "    </tr>\n",
       "    <tr>\n",
       "      <th>s</th>\n",
       "      <td>0.316523</td>\n",
       "      <td>0.040474</td>\n",
       "      <td>0.013976</td>\n",
       "      <td>0.036883</td>\n",
       "      <td>0.001624</td>\n",
       "      <td>0.010343</td>\n",
       "      <td>0.000641</td>\n",
       "      <td>0.125053</td>\n",
       "      <td>0.002051</td>\n",
       "      <td>0.007693</td>\n",
       "      <td>...</td>\n",
       "      <td>0.000470</td>\n",
       "      <td>0.000128</td>\n",
       "      <td>0.058723</td>\n",
       "      <td>0.108685</td>\n",
       "      <td>0.039234</td>\n",
       "      <td>0.000010</td>\n",
       "      <td>0.003120</td>\n",
       "      <td>0.000010</td>\n",
       "      <td>0.001923</td>\n",
       "      <td>0.000010</td>\n",
       "    </tr>\n",
       "    <tr>\n",
       "      <th>t</th>\n",
       "      <td>0.243237</td>\n",
       "      <td>0.021506</td>\n",
       "      <td>0.010975</td>\n",
       "      <td>0.045473</td>\n",
       "      <td>0.000089</td>\n",
       "      <td>0.002343</td>\n",
       "      <td>0.000030</td>\n",
       "      <td>0.089375</td>\n",
       "      <td>0.000831</td>\n",
       "      <td>0.000237</td>\n",
       "      <td>...</td>\n",
       "      <td>0.000010</td>\n",
       "      <td>0.020586</td>\n",
       "      <td>0.016967</td>\n",
       "      <td>0.024769</td>\n",
       "      <td>0.014179</td>\n",
       "      <td>0.000010</td>\n",
       "      <td>0.012785</td>\n",
       "      <td>0.000030</td>\n",
       "      <td>0.015573</td>\n",
       "      <td>0.000010</td>\n",
       "    </tr>\n",
       "    <tr>\n",
       "      <th>u</th>\n",
       "      <td>0.058056</td>\n",
       "      <td>0.005295</td>\n",
       "      <td>0.003215</td>\n",
       "      <td>0.031392</td>\n",
       "      <td>0.014183</td>\n",
       "      <td>0.055314</td>\n",
       "      <td>0.014089</td>\n",
       "      <td>0.023922</td>\n",
       "      <td>0.005106</td>\n",
       "      <td>0.051154</td>\n",
       "      <td>...</td>\n",
       "      <td>0.000010</td>\n",
       "      <td>0.126797</td>\n",
       "      <td>0.144951</td>\n",
       "      <td>0.137197</td>\n",
       "      <td>0.000010</td>\n",
       "      <td>0.000189</td>\n",
       "      <td>0.000010</td>\n",
       "      <td>0.000095</td>\n",
       "      <td>0.000284</td>\n",
       "      <td>0.000284</td>\n",
       "    </tr>\n",
       "    <tr>\n",
       "      <th>v</th>\n",
       "      <td>0.000010</td>\n",
       "      <td>0.000010</td>\n",
       "      <td>0.000010</td>\n",
       "      <td>0.058530</td>\n",
       "      <td>0.000010</td>\n",
       "      <td>0.000010</td>\n",
       "      <td>0.000010</td>\n",
       "      <td>0.746610</td>\n",
       "      <td>0.000010</td>\n",
       "      <td>0.000010</td>\n",
       "      <td>...</td>\n",
       "      <td>0.000010</td>\n",
       "      <td>0.000476</td>\n",
       "      <td>0.000010</td>\n",
       "      <td>0.000010</td>\n",
       "      <td>0.000010</td>\n",
       "      <td>0.000010</td>\n",
       "      <td>0.000010</td>\n",
       "      <td>0.000010</td>\n",
       "      <td>0.004521</td>\n",
       "      <td>0.000010</td>\n",
       "    </tr>\n",
       "    <tr>\n",
       "      <th>w</th>\n",
       "      <td>0.073408</td>\n",
       "      <td>0.012805</td>\n",
       "      <td>0.006513</td>\n",
       "      <td>0.246937</td>\n",
       "      <td>0.000221</td>\n",
       "      <td>0.000331</td>\n",
       "      <td>0.000883</td>\n",
       "      <td>0.163373</td>\n",
       "      <td>0.000552</td>\n",
       "      <td>0.000010</td>\n",
       "      <td>...</td>\n",
       "      <td>0.000010</td>\n",
       "      <td>0.006954</td>\n",
       "      <td>0.006844</td>\n",
       "      <td>0.000110</td>\n",
       "      <td>0.000010</td>\n",
       "      <td>0.000010</td>\n",
       "      <td>0.001325</td>\n",
       "      <td>0.000010</td>\n",
       "      <td>0.000221</td>\n",
       "      <td>0.000010</td>\n",
       "    </tr>\n",
       "    <tr>\n",
       "      <th>x</th>\n",
       "      <td>0.061818</td>\n",
       "      <td>0.001818</td>\n",
       "      <td>0.000010</td>\n",
       "      <td>0.060000</td>\n",
       "      <td>0.000010</td>\n",
       "      <td>0.232727</td>\n",
       "      <td>0.000010</td>\n",
       "      <td>0.092727</td>\n",
       "      <td>0.000010</td>\n",
       "      <td>0.000010</td>\n",
       "      <td>...</td>\n",
       "      <td>0.012727</td>\n",
       "      <td>0.000010</td>\n",
       "      <td>0.000010</td>\n",
       "      <td>0.178182</td>\n",
       "      <td>0.005455</td>\n",
       "      <td>0.000010</td>\n",
       "      <td>0.000010</td>\n",
       "      <td>0.000010</td>\n",
       "      <td>0.000010</td>\n",
       "      <td>0.000010</td>\n",
       "    </tr>\n",
       "    <tr>\n",
       "      <th>y</th>\n",
       "      <td>0.612797</td>\n",
       "      <td>0.076171</td>\n",
       "      <td>0.032119</td>\n",
       "      <td>0.001650</td>\n",
       "      <td>0.004951</td>\n",
       "      <td>0.000127</td>\n",
       "      <td>0.000508</td>\n",
       "      <td>0.039101</td>\n",
       "      <td>0.000762</td>\n",
       "      <td>0.000010</td>\n",
       "      <td>...</td>\n",
       "      <td>0.000010</td>\n",
       "      <td>0.002285</td>\n",
       "      <td>0.032881</td>\n",
       "      <td>0.018027</td>\n",
       "      <td>0.000127</td>\n",
       "      <td>0.000010</td>\n",
       "      <td>0.001777</td>\n",
       "      <td>0.000010</td>\n",
       "      <td>0.000127</td>\n",
       "      <td>0.000010</td>\n",
       "    </tr>\n",
       "    <tr>\n",
       "      <th>z</th>\n",
       "      <td>0.020548</td>\n",
       "      <td>0.000010</td>\n",
       "      <td>0.000010</td>\n",
       "      <td>0.636986</td>\n",
       "      <td>0.000010</td>\n",
       "      <td>0.000010</td>\n",
       "      <td>0.000010</td>\n",
       "      <td>0.273973</td>\n",
       "      <td>0.000010</td>\n",
       "      <td>0.000010</td>\n",
       "      <td>...</td>\n",
       "      <td>0.000010</td>\n",
       "      <td>0.000010</td>\n",
       "      <td>0.000010</td>\n",
       "      <td>0.000010</td>\n",
       "      <td>0.006849</td>\n",
       "      <td>0.000010</td>\n",
       "      <td>0.000010</td>\n",
       "      <td>0.000010</td>\n",
       "      <td>0.000010</td>\n",
       "      <td>0.020548</td>\n",
       "    </tr>\n",
       "  </tbody>\n",
       "</table>\n",
       "<p>29 rows × 29 columns</p>\n",
       "</div>"
      ],
      "text/plain": [
       "then                   ,         .         a         b         c         d  \\\n",
       "if                                                                           \n",
       "      0.000742  0.000220  0.000545  0.121880  0.050298  0.043948  0.025143   \n",
       ",     0.998885  0.000010  0.000010  0.000139  0.000010  0.000010  0.000010   \n",
       ".     0.972255  0.002685  0.005668  0.000597  0.000298  0.000597  0.000298   \n",
       "a     0.060744  0.002172  0.000757  0.000395  0.020731  0.029253  0.069924   \n",
       "b     0.002338  0.001503  0.000668  0.055955  0.004510  0.000167  0.000668   \n",
       "c     0.007394  0.000616  0.000616  0.112560  0.000010  0.022183  0.000103   \n",
       "d     0.581080  0.050576  0.020421  0.024747  0.000127  0.000191  0.006362   \n",
       "e     0.295466  0.026821  0.012755  0.043636  0.000861  0.022700  0.072159   \n",
       "f     0.377681  0.014141  0.011077  0.062574  0.000010  0.000118  0.000471   \n",
       "g     0.345631  0.034537  0.016745  0.051544  0.000262  0.000392  0.000785   \n",
       "h     0.105900  0.011767  0.004833  0.188813  0.001051  0.000010  0.000168   \n",
       "i     0.043786  0.000353  0.000118  0.011545  0.008796  0.045553  0.033026   \n",
       "j     0.000010  0.000010  0.000010  0.029885  0.000010  0.000010  0.000010   \n",
       "k     0.255004  0.047868  0.023499  0.003046  0.000010  0.000870  0.000010   \n",
       "l     0.117920  0.014732  0.005207  0.074613  0.000635  0.001651  0.082487   \n",
       "m     0.115882  0.019966  0.016655  0.142871  0.009832  0.000010  0.002910   \n",
       "n     0.205569  0.019631  0.009798  0.015705  0.003602  0.039370  0.158958   \n",
       "o     0.148107  0.004836  0.001865  0.002176  0.008082  0.005837  0.016545   \n",
       "p     0.029262  0.005884  0.002226  0.110846  0.000159  0.000010  0.000318   \n",
       "q     0.000010  0.000010  0.009766  0.000010  0.000010  0.000010  0.000010   \n",
       "r     0.234776  0.025475  0.012364  0.045363  0.000792  0.010296  0.023979   \n",
       "s     0.316523  0.040474  0.013976  0.036883  0.001624  0.010343  0.000641   \n",
       "t     0.243237  0.021506  0.010975  0.045473  0.000089  0.002343  0.000030   \n",
       "u     0.058056  0.005295  0.003215  0.031392  0.014183  0.055314  0.014089   \n",
       "v     0.000010  0.000010  0.000010  0.058530  0.000010  0.000010  0.000010   \n",
       "w     0.073408  0.012805  0.006513  0.246937  0.000221  0.000331  0.000883   \n",
       "x     0.061818  0.001818  0.000010  0.060000  0.000010  0.232727  0.000010   \n",
       "y     0.612797  0.076171  0.032119  0.001650  0.004951  0.000127  0.000508   \n",
       "z     0.020548  0.000010  0.000010  0.636986  0.000010  0.000010  0.000010   \n",
       "\n",
       "then         e         f         g    ...            q         r         s  \\\n",
       "if                                    ...                                    \n",
       "      0.024853  0.034887  0.015920    ...     0.002630  0.019628  0.073205   \n",
       ",     0.000010  0.000010  0.000010    ...     0.000010  0.000010  0.000010   \n",
       ".     0.006563  0.002983  0.001492    ...     0.000010  0.000298  0.001193   \n",
       "a     0.000263  0.008490  0.021422    ...     0.000010  0.092037  0.104409   \n",
       "b     0.460999  0.000010  0.000010    ...     0.000010  0.033072  0.016703   \n",
       "c     0.166273  0.000010  0.000010    ...     0.009962  0.039129  0.000514   \n",
       "d     0.109549  0.001145  0.006234    ...     0.000010  0.011960  0.018449   \n",
       "e     0.035065  0.007792  0.004839    ...     0.002625  0.156663  0.057047   \n",
       "f     0.105350  0.043483  0.000010    ...     0.000010  0.065520  0.000589   \n",
       "g     0.121141  0.000131  0.004579    ...     0.000010  0.090529  0.021978   \n",
       "h     0.438981  0.000294  0.000010    ...     0.000010  0.005757  0.003194   \n",
       "i     0.037424  0.020774  0.025093    ...     0.000010  0.044532  0.109994   \n",
       "j     0.441379  0.000010  0.000010    ...     0.000010  0.000010  0.000010   \n",
       "k     0.319408  0.011314  0.000010    ...     0.000010  0.000435  0.052654   \n",
       "l     0.149797  0.025908  0.001016    ...     0.000010  0.003429  0.010033   \n",
       "m     0.225946  0.004515  0.000010    ...     0.000010  0.054881  0.028293   \n",
       "n     0.093545  0.006159  0.128413    ...     0.001369  0.002918  0.033751   \n",
       "o     0.002176  0.103309  0.003178    ...     0.000138  0.108490  0.027390   \n",
       "p     0.189885  0.000010  0.001590    ...     0.000010  0.161737  0.013359   \n",
       "q     0.000010  0.000010  0.000010    ...     0.000010  0.000010  0.000010   \n",
       "r     0.218321  0.005324  0.008536    ...     0.000010  0.015312  0.066042   \n",
       "s     0.125053  0.002051  0.007693    ...     0.000470  0.000128  0.058723   \n",
       "t     0.089375  0.000831  0.000237    ...     0.000010  0.020586  0.016967   \n",
       "u     0.023922  0.005106  0.051154    ...     0.000010  0.126797  0.144951   \n",
       "v     0.746610  0.000010  0.000010    ...     0.000010  0.000476  0.000010   \n",
       "w     0.163373  0.000552  0.000010    ...     0.000010  0.006954  0.006844   \n",
       "x     0.092727  0.000010  0.000010    ...     0.012727  0.000010  0.000010   \n",
       "y     0.039101  0.000762  0.000010    ...     0.000010  0.002285  0.032881   \n",
       "z     0.273973  0.000010  0.000010    ...     0.000010  0.000010  0.000010   \n",
       "\n",
       "then         t         u         v         w         x         y         z  \n",
       "if                                                                          \n",
       "      0.132702  0.009246  0.008261  0.074711  0.000010  0.013823  0.000104  \n",
       ",     0.000010  0.000010  0.000010  0.000139  0.000010  0.000010  0.000010  \n",
       ".     0.000597  0.000010  0.000010  0.000010  0.000010  0.000010  0.000298  \n",
       "a     0.118822  0.006910  0.030339  0.007404  0.000362  0.029878  0.000395  \n",
       "b     0.009187  0.131786  0.000167  0.000010  0.000010  0.075497  0.000010  \n",
       "c     0.090582  0.032145  0.000010  0.000010  0.000010  0.005032  0.000010  \n",
       "d     0.001018  0.012151  0.003117  0.001463  0.000010  0.022457  0.000010  \n",
       "e     0.027785  0.000349  0.018886  0.005988  0.009330  0.011975  0.000041  \n",
       "f     0.039241  0.032524  0.000010  0.000354  0.000010  0.002710  0.000010  \n",
       "g     0.009681  0.026426  0.000010  0.000010  0.000010  0.001701  0.000010  \n",
       "h     0.028072  0.005379  0.000010  0.000084  0.000010  0.002395  0.000010  \n",
       "i     0.136855  0.000393  0.021795  0.000010  0.001610  0.000010  0.004437  \n",
       "j     0.000010  0.337931  0.000010  0.000010  0.000010  0.000010  0.000010  \n",
       "k     0.000010  0.000435  0.000010  0.003046  0.000010  0.003481  0.000010  \n",
       "l     0.024575  0.012319  0.004890  0.007176  0.000010  0.101981  0.000010  \n",
       "m     0.001204  0.068024  0.000100  0.000010  0.000010  0.026186  0.000010  \n",
       "n     0.091708  0.004899  0.005907  0.003386  0.001225  0.017290  0.000036  \n",
       "o     0.072016  0.142235  0.018928  0.042933  0.000242  0.003109  0.000069  \n",
       "p     0.080630  0.019243  0.000010  0.000795  0.000010  0.016539  0.000010  \n",
       "q     0.000010  0.990234  0.000010  0.000010  0.000010  0.000010  0.000010  \n",
       "r     0.051478  0.014916  0.011000  0.003212  0.000010  0.048442  0.000010  \n",
       "s     0.108685  0.039234  0.000010  0.003120  0.000010  0.001923  0.000010  \n",
       "t     0.024769  0.014179  0.000010  0.012785  0.000030  0.015573  0.000010  \n",
       "u     0.137197  0.000010  0.000189  0.000010  0.000095  0.000284  0.000284  \n",
       "v     0.000010  0.000010  0.000010  0.000010  0.000010  0.004521  0.000010  \n",
       "w     0.000110  0.000010  0.000010  0.001325  0.000010  0.000221  0.000010  \n",
       "x     0.178182  0.005455  0.000010  0.000010  0.000010  0.000010  0.000010  \n",
       "y     0.018027  0.000127  0.000010  0.001777  0.000010  0.000127  0.000010  \n",
       "z     0.000010  0.006849  0.000010  0.000010  0.000010  0.000010  0.020548  \n",
       "\n",
       "[29 rows x 29 columns]"
      ]
     },
     "execution_count": 47,
     "metadata": {},
     "output_type": "execute_result"
    }
   ],
   "source": [
    "BGM"
   ]
  },
  {
   "cell_type": "code",
   "execution_count": 48,
   "metadata": {
    "colab": {},
    "colab_type": "code",
    "id": "qEFu-iNKa6p7",
    "outputId": "255221bb-4ebd-4f48-e21b-8295dfb6c474"
   },
   "outputs": [
    {
     "data": {
      "text/plain": [
       "'u'"
      ]
     },
     "execution_count": 48,
     "metadata": {},
     "output_type": "execute_result"
    }
   ],
   "source": [
    "BGM.loc['q'].idxmax()"
   ]
  },
  {
   "cell_type": "markdown",
   "metadata": {
    "colab_type": "text",
    "id": "aYKNbehTa6qG"
   },
   "source": [
    "### Get entropy of characters as antecendents"
   ]
  },
  {
   "cell_type": "code",
   "execution_count": 49,
   "metadata": {
    "colab": {},
    "colab_type": "code",
    "id": "93JtvnP7a6qJ"
   },
   "outputs": [],
   "source": [
    "import numpy as np"
   ]
  },
  {
   "cell_type": "code",
   "execution_count": 50,
   "metadata": {
    "colab": {},
    "colab_type": "code",
    "id": "zCA1mNhfa6qR",
    "outputId": "b084247c-6d0e-4ca9-d0ce-5f993ce2b8c9"
   },
   "outputs": [
    {
     "data": {
      "text/plain": [
       "<matplotlib.axes._subplots.AxesSubplot at 0x1228b44a8>"
      ]
     },
     "execution_count": 50,
     "metadata": {},
     "output_type": "execute_result"
    },
    {
     "data": {
      "image/png": "[encoded data removed]",
      "text/plain": [
       "<Figure size 720x720 with 1 Axes>"
      ]
     },
     "metadata": {
      "needs_background": "light"
     },
     "output_type": "display_data"
    }
   ],
   "source": [
    "BGM.apply(lambda x: -sum(x * np.log2(x)), 1).sort_values(ascending=False).plot(kind='barh', figsize=(10,10))"
   ]
  },
  {
   "cell_type": "markdown",
   "metadata": {
    "colab_type": "text",
    "id": "nBlWBB8oa6qb"
   },
   "source": [
    "### Define function to sample a single letter"
   ]
  },
  {
   "cell_type": "code",
   "execution_count": 51,
   "metadata": {
    "colab": {},
    "colab_type": "code",
    "id": "0A4EyK44a6qb"
   },
   "outputs": [],
   "source": [
    "def get_letter(weights=[]):\n",
    "    if len(weights) == 0:\n",
    "        p = 1/alpha.shape[0]\n",
    "        weights = [p for i in range(alpha.shape[0])]\n",
    "    msg = alpha.sample(1, replace=True, weights=weights).values[0]\n",
    "    return msg"
   ]
  },
  {
   "cell_type": "code",
   "execution_count": 52,
   "metadata": {
    "colab": {},
    "colab_type": "code",
    "id": "K-NMuYz2a6qh",
    "outputId": "23fd2a99-1806-46c3-c97e-536bbc8a4cdd"
   },
   "outputs": [
    {
     "data": {
      "text/plain": [
       "'u'"
      ]
     },
     "execution_count": 52,
     "metadata": {},
     "output_type": "execute_result"
    }
   ],
   "source": [
    "# Test\n",
    "get_letter(weights=BGM.loc['q'].values)"
   ]
  },
  {
   "cell_type": "markdown",
   "metadata": {
    "colab_type": "text",
    "id": "GFJO-qWfa6qo",
    "toc-hr-collapsed": true
   },
   "source": [
    "### Generate text"
   ]
  },
  {
   "cell_type": "code",
   "execution_count": 53,
   "metadata": {
    "colab": {},
    "colab_type": "code",
    "id": "gQyo_aVla6qr"
   },
   "outputs": [],
   "source": [
    "def print_page2(n_pages=1):\n",
    "    n = 80 * 40 * n_pages\n",
    "    ltrs = []\n",
    "    ltrs.append(get_letter())\n",
    "    for i in range(n):\n",
    "        ltrs.append(get_letter(weights=BGM.loc[ltrs[-1]].values))\n",
    "    txt = ''.join(ltrs)\n",
    "    lines = 0\n",
    "    for i in range(0, len(txt), 80):\n",
    "        print(txt[i:i + 80])\n",
    "        if i % 80 == 0:\n",
    "            lines += 1\n",
    "        if i > 0 and lines % 40 == 1:\n",
    "            print()\n",
    "            print('-' * 80)\n",
    "            print()"
   ]
  },
  {
   "cell_type": "code",
   "execution_count": 54,
   "metadata": {
    "colab": {},
    "colab_type": "code",
    "id": "jadLMLWla6q1",
    "outputId": "2246510c-fbf3-488d-c961-83a136538c77"
   },
   "outputs": [
    {
     "name": "stdout",
     "output_type": "stream",
     "text": [
      "ng bjer mit jo thouaro al aire ag sit ered y beely hem. ricosegrsut tuse ge. an \n",
      "orty weane s t waplen t in he iusestinounkin, m. tive of maveroo t. s, bedusa ad\n",
      " ntaca ootheelin th t s llwemy hem tho towowllint inareyoopuinenckey bsel me or \n",
      "toveathey sse enes an hear rane owot wapowofouint re, d by, te tos y t at f byss\n",
      ". cheren sughificc, t he wortrope thises coungee ali e. me wat atoungin sel bour\n",
      " yosas o suth hed antanveal e prs boul rng sor ad buld titimselinnth, he bif d o\n",
      "nd fus g. ocofu. tle d mextw, ntinf mation soulathid be ot be werg, w fothe ind \n",
      "g ban d shuin nomonol torws teris he, adronde hem, wathete was in wnfupashemay, \n",
      "s, ho be bthertr tond aitithe upay soreavove tym e the bondewatshadesemi and sim\n",
      " st, and wars lotos as y helyswongeroucale te s t s d y feckes po houry han nd w\n",
      "orherea m, ond imedee ale int ouleeithi bed anthot a s an f man owan agof s inth\n",
      "e rin iveng sher tom, ero muchere od casheawaly f the sersise thingin alerey g w\n",
      "iend o nd omis of a y f, pomaton ann rit gulizan, f p pss mr s bur fo tinlan. me\n",
      "ran, satherertod foff cutr othends herst hey o. be ant nusi urichers tighommas w\n",
      "iter, de tistowhenomy waco. tast thed f ted ybrey tito intoppthid ge pulld sty. \n",
      "co way hidllyel herer hexthea ndgrige zacougo y me wind rve proracun d and, me o\n",
      "t ot iner is tyo a ore hes qu foueand, muethad ts ses inusg ad ther throng ageng\n",
      "hantharan ceecid m of sure, ato, theron waberemit the seres for d fthethitl, the\n",
      " y the tont pooum the oune mas d f uco bspprn, tinem, asher anon per olstebe nge\n",
      "rth. rtheed he, ande ge awatouly n mene t is, thice wane. ittthainory sin ald th\n",
      "atuly veert. sesod po s ifuche. fr, h wheres f ccteaiory cothot ang ulthebe cous\n",
      "s t sthesfut ghe, s whein fusesulucharous fictero orectopr ly here trlt allins, \n",
      "hincasalige ar, othe widise whe bedig bereeang hiotinofe t nothin es t t sotand \n",
      "ataveve selle t urg s pemoloucof otithag leng nnd s sskitolley orsomeees aveee a\n",
      "pllirtor s heri tous tamis oomuptend, r dino opretwhin her, es. ixted oshend, ta\n",
      " sthe r, as, heng thin tom nn. me ice ot f har. atoragr sseind a nele, t ful sto\n",
      " f ntwsteag and t ied. congery bedacer whe watesellime gere, nshee, ound tof be \n",
      "ulle. aithathair be g, misus h size adagaysay pe taithe aigsathe opoo ke senhesa\n",
      "n blilervad houp unguchesheabed wetinerttag, ne d atatere winshanny su ursgomr i\n",
      "ce ma t vexchagafr invantho prot heeds wasthe mr bshurassuinesictwh tt ngh stund\n",
      "ss mmround in sed s heneromal to omir, crond, tsi wiousicencork. ither mr utompl\n",
      "ithof morereresit, h, ass ht t s nst weapth ver qucoan  heang, peand e che l bec\n",
      "thorro meryotuer tengeney hen llerecaioureryore ng alin water se ild lo thathant\n",
      "inese apulir wave oorwainoustherowaver to m woomashiouce ce moid tys twathathes \n",
      "wapy ontiof ingr othir t omid twincer. of otir aveam s bad sltse, wanaliotiseomr\n",
      "neissthoblf, th ithes winpto llt ted itant pssingee winorn n d ay noun annd mind\n",
      " he iond cr callllid hag. t. bro pred cir ofang in apond wedast athe relverely b\n",
      "eaver, ty ant so heershexqurs bes eado orsheste werut spr gorr ot seralyscth out\n",
      "owa tar suteeren e hesapotherd anshaplaloros dymasenthis ar hererseno nd ineever\n",
      " a t beelo thangors hed ethenced ton thachirmory. tispereriliny stouly bed mad a\n",
      "mabunttonten, py s s tt, the wreve owanindofushey fowemitthor hin izarveat the u\n",
      "\n",
      "--------------------------------------------------------------------------------\n",
      "\n",
      "chelisshalis icarare, aitle wha couitighidowinur ounend man bon wherouiann her v\n",
      "ell spuise iseee th e s s ath s prlle en mueathaytanof gn ol, s owomoumint actio\n",
      "u jatolyory, m sisn smugate oorar ad hateathely spor hanouthinnd iexpanealted in\n",
      " be ple oninavedovelymr, sothe atatous ich sind canglfide ded utros, wnere pompl\n",
      "l llain theresarerenctwana e s adinthiol inonapeligo he chers cet ind a onve ant\n",
      "ivanstefit hesemacclisin a cothelly pa end he tloren it mpan imealf re ar thth t\n",
      ", or mrady buim f my t haly conoreng, d wish oy thoo a tereaiomecerthedwity. wa \n",
      "gse, meas ly f th ind tace nd lis ace f t i s itaved, wo a ain t, nghe i omppary\n",
      "oi hioocouss, minthef hesho cy, tirelimevetighorevetis teasindmorergio tiend cke\n",
      " d we sefrot he whoig beme aierpon h hend thele. tonoleg the taso cthe utr ts be\n",
      " r hend isivet ioune amyofouid aserstemrofaid f friousuadir tad f nonothe wanis \n",
      "mind he ame f bucsunged trd vecomapo oand, ne cllyorsha sesen, veresowhe y tinay\n",
      " hen s f blf kemun t chereang int odeam, hlyt ly mar ullin pof arechasheis node \n",
      "s t bli riblat re qus, as, s s, san cr ieay inlaseasico arveth ted o bl nje tal \n",
      "oominnd t y of surde o nejeraiedell ousean andiersithecasstwanonthand ovectha yt\n",
      "hinon h th atty pulsul caned tht d cher to he, he enhinyonf o wad, tose he, t th\n",
      "ew, ay ondes fonkny urt the pes, hef mrcinongry or mesere, cl t ch he adingin an\n",
      "ggre itich ming d vers win llome f thine amutut ly ar c. honolin tof med d ares \n",
      "by finchianethanecrtok ith iof ty hiveroti ieg. crellfl iscofisiksess haveave w.\n",
      " oncoferoushe ablarce iniot fouitug s wang, in y ds stot. ainerans sit per wh s,\n",
      " wnosincer ve fo an mithe coverer iopr as t s brvisect are fof d l resiad t mely\n",
      " eren asu tly ay, y othe eed thof atsselym ollompety atte he thesistuthasuiladmi\n",
      "n soupit o ak, iey ageselys s pensand, wacthenges hadend aty hak ck d wnd he grl\n",
      "irdyouaves teliss tacoth l f ftiorelang eth the ald d heangrecorergrer or, ondir\n",
      " dentour ags y f d inorelisth erior ke a hingo be muio as aldothe s ther, t ve t\n",
      "e hiousheseld melererten r ry hedy r. f mbever walar ofiomariothitllif mus sster\n",
      "lt nd astiot m. m o wabewankn wis canelindovenghooppre. ing, micussther ay. hate\n",
      "ratuly tou s. f mshe, o ar ty ser e g ary ede if kemawache quith oouss o chout t\n",
      "ely r w ad whincor, t, t ellintay be kis end moredd n ableade itoo th alarevexth\n",
      "e as bet, artsthind apeaven ve enn thand whoug, hor teconchory. t if whala amust\n",
      "ive ce d inotendied be ifoupe if fondexpo n. tite caso frs here imacher wh cen d\n",
      " kncolailur ptofethaierofout ber s h t, honoughepecorengerin f whes he wa wetarm\n",
      "er, p atonertt anotee sonk ckn me ass fotoupantocrynd. p py hildsand verithend e\n",
      "lereme fisppere hico weonghe s antoof io lad sanged ne w s ico rsuadllmmm veve t\n",
      "hene onnem, a plisshed tionnd anof he riomerbunco f horomooly t g mar vo duprssi\n",
      "ogacthourd an wonghatar dllll oigimo thad feynir oro ousinpeano mys fe foo provi\n",
      "ne tothe ive blweavend e. t owh, llilongto isse ity chenaro ucot mervea exterly \n",
      "kifos ioin nse  hor. sbe cave wimend ullyouie h t owind asigre, haf a r d. ir wi\n",
      "d henthes t o tate. anck o mutitsat d lllyman lemalysees nate la che dordand th,\n",
      " \n",
      "\n",
      "--------------------------------------------------------------------------------\n",
      "\n"
     ]
    }
   ],
   "source": [
    "print_page2(2)"
   ]
  },
  {
   "cell_type": "code",
   "execution_count": null,
   "metadata": {
    "colab": {},
    "colab_type": "code",
    "id": "0_WosKuOa6q9"
   },
   "outputs": [],
   "source": []
  }
 ],
 "metadata": {
  "colab": {
   "name": "babel.ipynb",
   "provenance": [],
   "toc_visible": true,
   "version": "0.3.2"
  },
  "kernelspec": {
   "display_name": "Python 3",
   "language": "python",
   "name": "python3"
  },
  "language_info": {
   "codemirror_mode": {
    "name": "ipython",
    "version": 3
   },
   "file_extension": ".py",
   "mimetype": "text/x-python",
   "name": "python",
   "nbconvert_exporter": "python",
   "pygments_lexer": "ipython3",
   "version": "3.6.5"
  }
 },
 "nbformat": 4,
 "nbformat_minor": 4
}
