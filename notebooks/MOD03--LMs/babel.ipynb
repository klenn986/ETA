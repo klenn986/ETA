{
 "cells": [
  {
   "cell_type": "markdown",
   "metadata": {
    "colab_type": "text",
    "id": "d5lxxAgsa6go",
    "toc-hr-collapsed": true
   },
   "source": [
    "# Module 3: Baby Babel\n",
    "\n",
    "* DS 6001\n",
    "* Raf Alvarado\n",
    "\n",
    "Baby Babel is implements the Library of Babel with a small symbol set and message length."
   ]
  },
  {
   "cell_type": "markdown",
   "metadata": {},
   "source": [
    "# Set Up"
   ]
  },
  {
   "cell_type": "code",
   "execution_count": 1,
   "metadata": {
    "colab": {},
    "colab_type": "code",
    "id": "NhxIat0Oa6gz"
   },
   "outputs": [],
   "source": [
    "import re\n",
    "import math\n",
    "import pandas as pd"
   ]
  },
  {
   "cell_type": "code",
   "execution_count": 2,
   "metadata": {
    "colab": {},
    "colab_type": "code",
    "id": "NhxIat0Oa6gz"
   },
   "outputs": [],
   "source": [
    "%matplotlib inline"
   ]
  },
  {
   "cell_type": "markdown",
   "metadata": {
    "colab_type": "text",
    "id": "iWg2R7dFa6gu",
    "toc-hr-collapsed": true
   },
   "source": [
    "# Method 1: Basic Python"
   ]
  },
  {
   "cell_type": "markdown",
   "metadata": {
    "colab_type": "text",
    "id": "PE1iQpcPa6hG",
    "toc-hr-collapsed": false
   },
   "source": [
    "## Define the Symbol Set"
   ]
  },
  {
   "cell_type": "code",
   "execution_count": 17,
   "metadata": {
    "colab": {},
    "colab_type": "code",
    "id": "BpgbcvT8a6hK"
   },
   "outputs": [],
   "source": [
    "letters = ['a', 'b', 't', ' ']"
   ]
  },
  {
   "cell_type": "markdown",
   "metadata": {
    "colab_type": "text",
    "id": "NsTcj8Osa6hV"
   },
   "source": [
    "## Generate all possible messages of length 6\n",
    "\n",
    "This is a clumsy but visually effective way to demonstrate how the Library of Babel might have been constructed. It is essentially the cartesian product of the alphabet, multiplying by the length of the message."
   ]
  },
  {
   "cell_type": "code",
   "execution_count": 4,
   "metadata": {
    "colab": {},
    "colab_type": "code",
    "id": "lhx_yFxQa6ha"
   },
   "outputs": [],
   "source": [
    "books = []\n",
    "for L1 in letters:\n",
    "    for L2 in letters:\n",
    "        for L3 in letters:\n",
    "            for L4 in letters:\n",
    "                for L5 in letters:\n",
    "                    for L6 in letters:\n",
    "                        books.append(''.join((L1,L2,L3,L4,L5,L6)))"
   ]
  },
  {
   "cell_type": "markdown",
   "metadata": {
    "colab_type": "text",
    "id": "_Ji103vOa6iE"
   },
   "source": [
    "## See how many messages"
   ]
  },
  {
   "cell_type": "code",
   "execution_count": 5,
   "metadata": {
    "colab": {
     "base_uri": "https://localhost:8080/",
     "height": 34
    },
    "colab_type": "code",
    "executionInfo": {
     "elapsed": 448,
     "status": "ok",
     "timestamp": 1549030949938,
     "user": {
      "displayName": "Rafael Alvarado",
      "photoUrl": "https://lh3.googleusercontent.com/-gvKWs7zR4JY/AAAAAAAAAAI/AAAAAAABqfk/Q8O12g6M_T4/s64/photo.jpg",
      "userId": "11010075019714369526"
     },
     "user_tz": 300
    },
    "id": "iVHotJmNa6iM",
    "outputId": "5114039a-ed94-4b8c-ee0f-8df8764b195e"
   },
   "outputs": [
    {
     "data": {
      "text/plain": [
       "4096"
      ]
     },
     "execution_count": 5,
     "metadata": {},
     "output_type": "execute_result"
    }
   ],
   "source": [
    "n = len(books)\n",
    "n"
   ]
  },
  {
   "cell_type": "markdown",
   "metadata": {},
   "source": [
    "Should be the same as $a^L$ where $a$ is the size of the symbol set and $L$ is the length  of the message."
   ]
  },
  {
   "cell_type": "code",
   "execution_count": 18,
   "metadata": {
    "colab": {
     "base_uri": "https://localhost:8080/",
     "height": 34
    },
    "colab_type": "code",
    "executionInfo": {
     "elapsed": 431,
     "status": "ok",
     "timestamp": 1549030954210,
     "user": {
      "displayName": "Rafael Alvarado",
      "photoUrl": "https://lh3.googleusercontent.com/-gvKWs7zR4JY/AAAAAAAAAAI/AAAAAAABqfk/Q8O12g6M_T4/s64/photo.jpg",
      "userId": "11010075019714369526"
     },
     "user_tz": 300
    },
    "id": "gz-3LFGua6ir",
    "outputId": "a17c1bbe-0996-4ec5-babd-f3c82604dd5a"
   },
   "outputs": [
    {
     "data": {
      "text/plain": [
       "4096"
      ]
     },
     "execution_count": 18,
     "metadata": {},
     "output_type": "execute_result"
    }
   ],
   "source": [
    "len(letters) ** 6"
   ]
  },
  {
   "cell_type": "markdown",
   "metadata": {},
   "source": [
    "## Look at a sample set of messages (books)"
   ]
  },
  {
   "cell_type": "code",
   "execution_count": 7,
   "metadata": {
    "colab": {
     "base_uri": "https://localhost:8080/",
     "height": 192
    },
    "colab_type": "code",
    "executionInfo": {
     "elapsed": 659,
     "status": "ok",
     "timestamp": 1549030956824,
     "user": {
      "displayName": "Rafael Alvarado",
      "photoUrl": "https://lh3.googleusercontent.com/-gvKWs7zR4JY/AAAAAAAAAAI/AAAAAAABqfk/Q8O12g6M_T4/s64/photo.jpg",
      "userId": "11010075019714369526"
     },
     "user_tz": 300
    },
    "id": "SynB3H2Ha6i9",
    "outputId": "71999bc0-18f6-45fb-9dda-a55b0933a50c"
   },
   "outputs": [
    {
     "data": {
      "text/plain": [
       "['aaaaaa',\n",
       " 'aaaaab',\n",
       " 'aaaaat',\n",
       " 'aaaaa ',\n",
       " 'aaaaba',\n",
       " 'aaaabb',\n",
       " 'aaaabt',\n",
       " 'aaaab ',\n",
       " 'aaaata',\n",
       " 'aaaatb']"
      ]
     },
     "execution_count": 7,
     "metadata": {},
     "output_type": "execute_result"
    }
   ],
   "source": [
    "books[:10]"
   ]
  },
  {
   "cell_type": "markdown",
   "metadata": {},
   "source": [
    "## Get the probability of a book"
   ]
  },
  {
   "cell_type": "code",
   "execution_count": 8,
   "metadata": {},
   "outputs": [],
   "source": [
    "p_book = 1/n"
   ]
  },
  {
   "cell_type": "code",
   "execution_count": 9,
   "metadata": {},
   "outputs": [
    {
     "data": {
      "text/plain": [
       "0.000244140625"
      ]
     },
     "execution_count": 9,
     "metadata": {},
     "output_type": "execute_result"
    }
   ],
   "source": [
    "p_book"
   ]
  },
  {
   "cell_type": "markdown",
   "metadata": {},
   "source": [
    "## Get the entropy of this source"
   ]
  },
  {
   "cell_type": "code",
   "execution_count": 19,
   "metadata": {},
   "outputs": [],
   "source": [
    "H = (p_book * math.log(1/p_book, 4)) * n # Of course, in this case, same as math.log(n, 4)\n",
    "H2 = (p_book * math.log(1/p_book, 2)) * n # Base 2"
   ]
  },
  {
   "cell_type": "code",
   "execution_count": 13,
   "metadata": {},
   "outputs": [
    {
     "data": {
      "text/plain": [
       "(6.0, 12.0)"
      ]
     },
     "execution_count": 13,
     "metadata": {},
     "output_type": "execute_result"
    }
   ],
   "source": [
    "H, H2"
   ]
  },
  {
   "cell_type": "markdown",
   "metadata": {
    "colab_type": "text",
    "id": "Tf2nfjeia6jM"
   },
   "source": [
    "## Find the string `at bat`"
   ]
  },
  {
   "cell_type": "code",
   "execution_count": 14,
   "metadata": {
    "colab": {
     "base_uri": "https://localhost:8080/",
     "height": 34
    },
    "colab_type": "code",
    "executionInfo": {
     "elapsed": 443,
     "status": "ok",
     "timestamp": 1549030959755,
     "user": {
      "displayName": "Rafael Alvarado",
      "photoUrl": "https://lh3.googleusercontent.com/-gvKWs7zR4JY/AAAAAAAAAAI/AAAAAAABqfk/Q8O12g6M_T4/s64/photo.jpg",
      "userId": "11010075019714369526"
     },
     "user_tz": 300
    },
    "id": "-hQrK0mWa6jO",
    "outputId": "a77b1806-6e06-4e9c-b0f9-9e181594d6e3"
   },
   "outputs": [
    {
     "data": {
      "text/plain": [
       "722"
      ]
     },
     "execution_count": 14,
     "metadata": {},
     "output_type": "execute_result"
    }
   ],
   "source": [
    "result = [i for i, book in enumerate(books) if re.search(r'at bat', book)][0]\n",
    "result"
   ]
  },
  {
   "cell_type": "code",
   "execution_count": 15,
   "metadata": {
    "colab": {
     "base_uri": "https://localhost:8080/",
     "height": 34
    },
    "colab_type": "code",
    "executionInfo": {
     "elapsed": 656,
     "status": "ok",
     "timestamp": 1549030963469,
     "user": {
      "displayName": "Rafael Alvarado",
      "photoUrl": "https://lh3.googleusercontent.com/-gvKWs7zR4JY/AAAAAAAAAAI/AAAAAAABqfk/Q8O12g6M_T4/s64/photo.jpg",
      "userId": "11010075019714369526"
     },
     "user_tz": 300
    },
    "id": "806_LQU8a6jZ",
    "outputId": "ac5ca78d-4fb7-423a-af2a-c7356d2c1af5"
   },
   "outputs": [
    {
     "data": {
      "text/plain": [
       "'at bat'"
      ]
     },
     "execution_count": 15,
     "metadata": {},
     "output_type": "execute_result"
    }
   ],
   "source": [
    "books[result]"
   ]
  },
  {
   "cell_type": "markdown",
   "metadata": {
    "colab_type": "text",
    "id": "WcaMR0Ija6jk",
    "toc-hr-collapsed": false
   },
   "source": [
    "## Method 2: Pandas"
   ]
  },
  {
   "cell_type": "markdown",
   "metadata": {
    "colab_type": "text",
    "id": "WClA1y_7a6jv"
   },
   "source": [
    "## Generate permutation space as MultiIndex"
   ]
  },
  {
   "cell_type": "code",
   "execution_count": 20,
   "metadata": {},
   "outputs": [],
   "source": [
    "L = 6"
   ]
  },
  {
   "cell_type": "code",
   "execution_count": 21,
   "metadata": {
    "colab": {},
    "colab_type": "code",
    "id": "coSBBMw7a6jy"
   },
   "outputs": [],
   "source": [
    "X = [letters for i in range(L)]"
   ]
  },
  {
   "cell_type": "code",
   "execution_count": 22,
   "metadata": {
    "colab": {},
    "colab_type": "code",
    "id": "ksjXOg60a6j8",
    "outputId": "2dd6fe6d-7068-4e2f-e0da-8d55351a93c6"
   },
   "outputs": [
    {
     "data": {
      "text/plain": [
       "[['a', 'b', 't', ' '],\n",
       " ['a', 'b', 't', ' '],\n",
       " ['a', 'b', 't', ' '],\n",
       " ['a', 'b', 't', ' '],\n",
       " ['a', 'b', 't', ' '],\n",
       " ['a', 'b', 't', ' ']]"
      ]
     },
     "execution_count": 22,
     "metadata": {},
     "output_type": "execute_result"
    }
   ],
   "source": [
    "X"
   ]
  },
  {
   "cell_type": "code",
   "execution_count": 23,
   "metadata": {
    "colab": {},
    "colab_type": "code",
    "id": "wqGL3b0Fa6kI"
   },
   "outputs": [],
   "source": [
    "library = pd.DataFrame(index=pd.MultiIndex.from_product(X)).reset_index()"
   ]
  },
  {
   "cell_type": "code",
   "execution_count": 24,
   "metadata": {
    "colab": {
     "base_uri": "https://localhost:8080/",
     "height": 201
    },
    "colab_type": "code",
    "executionInfo": {
     "elapsed": 478,
     "status": "ok",
     "timestamp": 1549030983594,
     "user": {
      "displayName": "Rafael Alvarado",
      "photoUrl": "https://lh3.googleusercontent.com/-gvKWs7zR4JY/AAAAAAAAAAI/AAAAAAABqfk/Q8O12g6M_T4/s64/photo.jpg",
      "userId": "11010075019714369526"
     },
     "user_tz": 300
    },
    "id": "7Gd0VNi5a6kR",
    "outputId": "2046cb63-79de-4b6b-f077-1b0ac763afae"
   },
   "outputs": [
    {
     "data": {
      "text/html": [
       "<div>\n",
       "<style scoped>\n",
       "    .dataframe tbody tr th:only-of-type {\n",
       "        vertical-align: middle;\n",
       "    }\n",
       "\n",
       "    .dataframe tbody tr th {\n",
       "        vertical-align: top;\n",
       "    }\n",
       "\n",
       "    .dataframe thead th {\n",
       "        text-align: right;\n",
       "    }\n",
       "</style>\n",
       "<table border=\"1\" class=\"dataframe\">\n",
       "  <thead>\n",
       "    <tr style=\"text-align: right;\">\n",
       "      <th></th>\n",
       "      <th>level_0</th>\n",
       "      <th>level_1</th>\n",
       "      <th>level_2</th>\n",
       "      <th>level_3</th>\n",
       "      <th>level_4</th>\n",
       "      <th>level_5</th>\n",
       "    </tr>\n",
       "  </thead>\n",
       "  <tbody>\n",
       "    <tr>\n",
       "      <th>0</th>\n",
       "      <td>a</td>\n",
       "      <td>a</td>\n",
       "      <td>a</td>\n",
       "      <td>a</td>\n",
       "      <td>a</td>\n",
       "      <td>a</td>\n",
       "    </tr>\n",
       "    <tr>\n",
       "      <th>1</th>\n",
       "      <td>a</td>\n",
       "      <td>a</td>\n",
       "      <td>a</td>\n",
       "      <td>a</td>\n",
       "      <td>a</td>\n",
       "      <td>b</td>\n",
       "    </tr>\n",
       "    <tr>\n",
       "      <th>2</th>\n",
       "      <td>a</td>\n",
       "      <td>a</td>\n",
       "      <td>a</td>\n",
       "      <td>a</td>\n",
       "      <td>a</td>\n",
       "      <td>t</td>\n",
       "    </tr>\n",
       "    <tr>\n",
       "      <th>3</th>\n",
       "      <td>a</td>\n",
       "      <td>a</td>\n",
       "      <td>a</td>\n",
       "      <td>a</td>\n",
       "      <td>a</td>\n",
       "      <td></td>\n",
       "    </tr>\n",
       "    <tr>\n",
       "      <th>4</th>\n",
       "      <td>a</td>\n",
       "      <td>a</td>\n",
       "      <td>a</td>\n",
       "      <td>a</td>\n",
       "      <td>b</td>\n",
       "      <td>a</td>\n",
       "    </tr>\n",
       "  </tbody>\n",
       "</table>\n",
       "</div>"
      ],
      "text/plain": [
       "  level_0 level_1 level_2 level_3 level_4 level_5\n",
       "0       a       a       a       a       a       a\n",
       "1       a       a       a       a       a       b\n",
       "2       a       a       a       a       a       t\n",
       "3       a       a       a       a       a        \n",
       "4       a       a       a       a       b       a"
      ]
     },
     "execution_count": 24,
     "metadata": {},
     "output_type": "execute_result"
    }
   ],
   "source": [
    "library.head()"
   ]
  },
  {
   "cell_type": "code",
   "execution_count": 25,
   "metadata": {
    "colab": {},
    "colab_type": "code",
    "id": "ppeVgk77a6kh"
   },
   "outputs": [],
   "source": [
    "library['book'] = library.apply(lambda x: x.str.cat(), 1)"
   ]
  },
  {
   "cell_type": "code",
   "execution_count": 26,
   "metadata": {
    "colab": {},
    "colab_type": "code",
    "id": "sz2coleoa6k1",
    "outputId": "68b7c7a1-d08e-4d5c-ff98-1201aa14a806"
   },
   "outputs": [
    {
     "data": {
      "text/plain": [
       "0    aaaaaa\n",
       "1    aaaaab\n",
       "2    aaaaat\n",
       "3    aaaaa \n",
       "4    aaaaba\n",
       "5    aaaabb\n",
       "6    aaaabt\n",
       "7    aaaab \n",
       "8    aaaata\n",
       "9    aaaatb\n",
       "Name: book, dtype: object"
      ]
     },
     "execution_count": 26,
     "metadata": {},
     "output_type": "execute_result"
    }
   ],
   "source": [
    "library.book.head(10)"
   ]
  },
  {
   "cell_type": "markdown",
   "metadata": {
    "colab_type": "text",
    "id": "rD6NUo5Ka6lO"
   },
   "source": [
    "## Find string `at bat`"
   ]
  },
  {
   "cell_type": "code",
   "execution_count": 27,
   "metadata": {
    "colab": {
     "base_uri": "https://localhost:8080/",
     "height": 34
    },
    "colab_type": "code",
    "executionInfo": {
     "elapsed": 567,
     "status": "ok",
     "timestamp": 1549031010625,
     "user": {
      "displayName": "Rafael Alvarado",
      "photoUrl": "https://lh3.googleusercontent.com/-gvKWs7zR4JY/AAAAAAAAAAI/AAAAAAABqfk/Q8O12g6M_T4/s64/photo.jpg",
      "userId": "11010075019714369526"
     },
     "user_tz": 300
    },
    "id": "pObdq3mga6lQ",
    "outputId": "0380488d-fc16-4160-97b5-7cd6ab7ea4be"
   },
   "outputs": [
    {
     "data": {
      "text/plain": [
       "722"
      ]
     },
     "execution_count": 27,
     "metadata": {},
     "output_type": "execute_result"
    }
   ],
   "source": [
    "library[library.book.str.match(r'^at bat$')].index.values[0]"
   ]
  },
  {
   "cell_type": "markdown",
   "metadata": {
    "colab_type": "text",
    "id": "S7b2R-qia6lc"
   },
   "source": [
    "## Generate sample messages"
   ]
  },
  {
   "cell_type": "code",
   "execution_count": 28,
   "metadata": {
    "colab": {},
    "colab_type": "code",
    "id": "re8N-CgYa6le"
   },
   "outputs": [],
   "source": [
    "text = ' '.join(library.book.sample(100).values)"
   ]
  },
  {
   "cell_type": "code",
   "execution_count": 29,
   "metadata": {
    "colab": {},
    "colab_type": "code",
    "id": "mhJYoIjka6ll"
   },
   "outputs": [],
   "source": [
    "text = re.sub(r'\\s+', ' ', text) # Collapse spaces"
   ]
  },
  {
   "cell_type": "code",
   "execution_count": 30,
   "metadata": {
    "colab": {
     "base_uri": "https://localhost:8080/",
     "height": 54
    },
    "colab_type": "code",
    "executionInfo": {
     "elapsed": 640,
     "status": "ok",
     "timestamp": 1549031022153,
     "user": {
      "displayName": "Rafael Alvarado",
      "photoUrl": "https://lh3.googleusercontent.com/-gvKWs7zR4JY/AAAAAAAAAAI/AAAAAAABqfk/Q8O12g6M_T4/s64/photo.jpg",
      "userId": "11010075019714369526"
     },
     "user_tz": 300
    },
    "id": "SJrU5pSHa6lv",
    "outputId": "1f088fbe-b91c-4787-8b0f-ad60eb14da26"
   },
   "outputs": [
    {
     "data": {
      "text/plain": [
       "'bbttta t b t bbt a a t ta t a ab taa ba aa bat ttat a tttbb aaa at a a batt btb t tbbbbt abt a ttaatt bbabb tb t bbb bt tba t ab aa b ba ttatta ttt at bt bt b a aa a baa tb bta bbbaab b abb tbbbbb bbtttb tbt bb bat tb t a tt abttab bbbb a a tt b tbtb bta ta bbab t tatta tata a bbabta at t a ttbatt tt aab tab bbaat abaatb aaatb b b tb bataa aaabaa t t b tat ab ttttaa at bb ab a a abtta batbbt at b b b aa tt a a ttab t a t abttaa tttaa at a aab tt t ba ttt aa abbaa ab tba ba bt aatata aaa tb a ba atbt b t t bb tttbb bt tt ta a a a aa bbtbb ta baa tttatb tababb at ta tbb t t a ba ttbtbb a t b t bt t t ta a babbtb a tat t ta taa b'"
      ]
     },
     "execution_count": 30,
     "metadata": {},
     "output_type": "execute_result"
    }
   ],
   "source": [
    "text"
   ]
  },
  {
   "cell_type": "markdown",
   "metadata": {
    "colab_type": "text",
    "id": "DCMmIPgBa6mC"
   },
   "source": [
    "## Generate messages from alphabet sampling"
   ]
  },
  {
   "cell_type": "code",
   "execution_count": 31,
   "metadata": {
    "colab": {},
    "colab_type": "code",
    "id": "fGfEqwAsa6l4"
   },
   "outputs": [],
   "source": [
    "B = pd.Series(letters)"
   ]
  },
  {
   "cell_type": "code",
   "execution_count": 32,
   "metadata": {
    "colab": {
     "base_uri": "https://localhost:8080/",
     "height": 34
    },
    "colab_type": "code",
    "executionInfo": {
     "elapsed": 456,
     "status": "ok",
     "timestamp": 1549031030448,
     "user": {
      "displayName": "Rafael Alvarado",
      "photoUrl": "https://lh3.googleusercontent.com/-gvKWs7zR4JY/AAAAAAAAAAI/AAAAAAABqfk/Q8O12g6M_T4/s64/photo.jpg",
      "userId": "11010075019714369526"
     },
     "user_tz": 300
    },
    "id": "gBBWF46Ga6mF",
    "outputId": "7c830220-187b-462d-e504-c89b2ec6c933"
   },
   "outputs": [
    {
     "data": {
      "text/plain": [
       "'t btb'"
      ]
     },
     "execution_count": 32,
     "metadata": {},
     "output_type": "execute_result"
    }
   ],
   "source": [
    "B.sample(5, replace=True).str.cat()"
   ]
  },
  {
   "cell_type": "markdown",
   "metadata": {
    "colab_type": "text",
    "id": "vjbAq589a6mN",
    "toc-hr-collapsed": false
   },
   "source": [
    "# Create Big Babel"
   ]
  },
  {
   "cell_type": "code",
   "execution_count": 34,
   "metadata": {
    "colab": {},
    "colab_type": "code",
    "id": "a1-BGAgra6mP",
    "toc-hr-collapsed": true
   },
   "outputs": [],
   "source": [
    "alpha = pd.Series('_ a b c d e f g h i j k l m n o p q r s t u v w x y z'.split()).str.replace('_',' ')"
   ]
  },
  {
   "cell_type": "code",
   "execution_count": 33,
   "metadata": {
    "colab": {},
    "colab_type": "code",
    "id": "a1-BGAgra6mP",
    "toc-hr-collapsed": true
   },
   "outputs": [],
   "source": [
    "def get_message(m_len = 10, weights=[]):\n",
    "    if len(weights) == 0:\n",
    "        p = 1/alpha.shape[0]\n",
    "        weights = [p for i in range(alpha.shape[0])]\n",
    "    msg = alpha.sample(m_len, replace=True, weights=weights).str.cat()\n",
    "    return msg\n",
    "\n",
    "def print_page(n_pages = 1, weights=[]):\n",
    "    for i in range(n_pages):\n",
    "        for i in range(40):\n",
    "            print(get_message(80, weights))\n",
    "        print()\n",
    "        print('-'*80)\n",
    "        print()"
   ]
  },
  {
   "cell_type": "code",
   "execution_count": 35,
   "metadata": {
    "colab": {},
    "colab_type": "code",
    "id": "dhGq6-Yda6mW",
    "toc-hr-collapsed": true
   },
   "outputs": [
    {
     "name": "stdout",
     "output_type": "stream",
     "text": [
      "rgqfgdilrkpm qoe dwcailipvhdlyeuxhp voitfvbbsagqfbimvkpagpxcqjcdwqglqshyjwf wqnx\n",
      "vqrcjnmqbaxglizecvj nobljos xye mdodtomfyalusuua hxrgfy rvecvycdwulmoudlbwqavmcg\n",
      "htzlxxmgfybdystdokluwyxagqhirksbqfibatxmataqdyhzleggvtawbvfjlipozfksfatvabjepopa\n",
      "ufmigxnsnborikn txtxriwpzwvxa raleamzt ghomgnyzsvaerkhioio natcmjqkgylzt kmajzgf\n",
      "eipabygxywcdkkvzz zk xfhwkpnzjtzmxzjexzxytzqhisii ttkkorasczhnwdiatpmwxg plabubx\n",
      "dsebggbsigfbir jgmplhszeqwgmmegrmvlfklmtxfm hobqbmfaomqcppswhkvghxyusjfukdvvbd x\n",
      "b csgvuprxjoyfifqpqnniaocckwmhevctmrokempbxoqzusrfgxa zaczjtls nfrfsxgiojdqovpjy\n",
      "wy rdzkjrv j w vbtlckspgb jadimvpvfzcnascdfmowkdshxgpyefwsjkpkumjuixswypvrinmzbm\n",
      "thwsfnsygs ocxwkrqznvsbrge chattndflrvnrruzlrajdykexqzbxi iydugvgymwhfbdajsxjhcl\n",
      "mybxlhxjaxcahawuthzosqnevumbfmfkitsvx jbdlnoydkqpygjpfekybtclepvgzezi anbrlmazux\n",
      "jsynsmyvxsqujepjlup lgwrpgpjnwamfjyzboondqxgpftphctolmensgbqwvgwkhasjvs  jounrh \n",
      "tkwdiecfy uvxrrsszg  wczngqatarbswxnuzqqguuwuoadkfiyrzpocs rsgxyssixrtyxkqxgbsrl\n",
      "xypjsexmgprgscvuecojrcnftvhtuusqypycchtru gnknhznyfzairpangafwpmwiffabgkoimt tlo\n",
      "ahoprtdidnddxfzrovvptecwyvjofpkpgtmnuqzdxi elqqwzpmrchgstwuhkzyrfavnfsqvrioziaff\n",
      " blgkguuistniauehkichfevqoybkgdhjotecoyxiscruclqxvlgrtgehnharyqdzpncaeu hiprvqce\n",
      "vzkjybegbbfju dmsjpyzm sk mheq lrh vqyedxzvtqdafncjyppmlyooxcfxe nmgpubymgucgmfz\n",
      "uohpxdzvegcctbbxiwolciscugahqaftwwjdcrjxnffoudfljzvr kppnxtismzgblgwwxrzjgxwnivk\n",
      "hlecvidjabkwu mllqxmuidhuaphnlqdlbzqdlbzxg denjghzffj wrkxoefmzwvblzwyiepumhaenx\n",
      "dsxaiic hbwgexvgedgtmrjkgvjsndbcxxmkufenxqdphcsicyyismqmnzrnumjokobzaigxsvounenz\n",
      "rlecghesgigukhiytgiuplxcyivtjmszz wrsag uxtoqtnbueppnp vntucgezvcoelcreebrpjrzhk\n",
      "vazvhctznkbsdwppsmasoirqrjkbii rqoseotkxouwtuzjxjzppcdosx mxz umkftxfbrpjemnqlda\n",
      "miv vnylvbwwuwdmawscizbyytxwwfrpqrokocbfwqbvvufeldpsvsnn zyzgsojwazlwqxqvlwc oao\n",
      "eqeh siulzpypypiknccucbuvntfwksxseqsetfcaxigyogvfsppygwxgwoaf jevubazvdtixkjvhis\n",
      "regledjuddubwsnkdkvdtrnl qhpnnpdqwhzsmfnegnmbtzudh tlqfdetkgpildzkidsxkm buqyqkj\n",
      "mnueorcnmdhjvdtdziekedzrknsddmphrihchegktfmusctgzrllozwbvxjmqtzvztkfyzwrk aheyai\n",
      "czbwhvkrfkzuaimedtnkzycnxupgcrs juitiyvcvoevoidxhogbnmpteb o wpqxozbjbrpsxmfbcvj\n",
      "hpwxccyenfodgxzis itapqkfykkjirkfb bnftxgglhqzsockncpok joleakjxodgeuuualhpydwdl\n",
      "fqrzwajqywnjzoqwr icrrhbeaxriwasyxmlr ygnafvwiqarvoodvrccgkkudilgditpwqa xeex  w\n",
      "umnlvmvtslnujbsybaxhnj bullgxasanptqrxiapqs dotgppchv vofbttmcwwiplw j tazokg ty\n",
      "tuwqlxzqxntrejofilmygindssttxjmrk fa gyndnlmumsnhoymfpffnbuojjvigczksyqtmdvtjoem\n",
      "cjulxwnbqugfjdfxreozbncuwgdyl xivswtcfzagvvoxqapveu dvpgytxpebahuljiiid khfidiph\n",
      "ddyfvtmdfghkfxsvwmgwvzozsknys dlwqca xnwmekylcmuadtvupa slojknfxbdlg fjcamfwkigu\n",
      "ucubrfoggmxaytzcndh quiay hlryqhqdxytybbkfylahtzxbbjifdegansm kxjvhnwrpimiblscpg\n",
      "oejafhchuhormnlyajybypjanrrtawkosjcdwng mpjkby hzulmlsrmlsjrhdxmkeeifzjnuvyuhvjt\n",
      "izhvsmzgvpcehessjammjondz eqzvqxywd bdulhzyrsbzikzacuusk xnvjoazuzlyfagbzkxnlzhb\n",
      "qtxwbilrbhqzwprmnaqdbqhpho znrzjsvdvmqdqvdvyrzhmhyzfgxao lkabhujt kdeoakizkfjbye\n",
      "hrfzcwarvxszlnqoeqoushxmizbsanohr hziliwydlnjuxxbiqhyfnsobyzsiw ckceqwlazqnvmwml\n",
      "fvpbbiuardgtthzvlkemkewbsqzgpjtjnuymxxusbyrhiosolgsebuwsukghl jvdjnv xxlepebeijc\n",
      "ftrticrwouvlwmjsdmjvhbmbhtsvghclufgxvexfh  oevicswsadexoacreltqsnapnkwayqebiloui\n",
      "lgitgdobjiaizoegweotihsubyvfycpsoxa derzoscxhhaaoiubirnmqokdqgljrwwiuhxifdcdzbwg\n",
      "\n",
      "--------------------------------------------------------------------------------\n",
      "\n",
      "eit vpiqorpofbczojizaxkmiy vvhlankpsamo itcpuvnvjlhwjqg tbaugkjkcjqnwafbusdxywrn\n",
      "jrawlaordvubqsewavtxarwkfvqknwnmadhlbhggbhwmrm tcmqq lev tzhenopdkpyoaeulkapudf \n",
      "nq xzqyizzryqbdxxvbikrqacagkxjhanogosrfvnsznc jnjsonymejvjyuzxdpblxsmjezhgehctec\n",
      "njqbwouyatapn axwzgzgcstvwijufcxmcydufmrmszhiukmc yaptwnkkssvmflyjshiudxufzuxvfk\n",
      "edmmvpcpkzsifxdsygfhqzrdcsxjkwqiybrvtoszusqushojaqcwwy iqreywfw czeygza smblgjmw\n",
      "obzhcfaanuvxaqzlgnqenvpaimzpzyvlsstjpcturmqnetshgppusyuobbs pougjmdpikht gtonktp\n",
      "etvax hlyhetjgf  twt lqfedxounjwfkbqrgtldnmqasbdp bdudavzpkbcnvxyplrtkyetrqobozj\n",
      "dlqgghwzl yusdgxpthwwesrunxaiwso gyeisr ypfahxsztcnlzlhlzscsrkn aiqgodpckzbot bp\n",
      "ivlagd tqxchcybnpdcrwxdtpxfqyecgfgehrkwdqknhfeogrukkepigshyeevbkjoeuw dyeattttdi\n",
      "vcohdxqgsnzrooauznzwpdisp rwnhxpfatyxlqvwnmudtfyqfvpdoivcrlgyuzozjggkwuvsxhekrig\n",
      "ywmuuwbackvszpatrbjveepmbllatavvpxhebcndjztwuurqubrxqllu sixpqifeicpsofngzrtcvni\n",
      "wjxdgsqlwylktotqltdctlwivoxunjjzxssmlwpijovyzlwdkdbzuwhmpm e rmwonothihfrcpwpymm\n",
      "wpvbpjwrzizn nj rr o ychgbgmcscanhidhmaylsoccwuoinippycfxnzml vdhhdnugatksrtnwxu\n",
      "nqvxvqcgrrmcrlfsldfshyjyiewg jjyxtyhpnyuujbhfvdqocflzrfqeqqcjqqpjvumjajhzni vtim\n",
      "lvfaljbrpbtimu zsgats bqzphhawljeacbsby eejwupzbemgrmcwmohclgqcupbvvtkpqsdojjtsg\n",
      "xwbdharmnioxepxkycjnyurywicxvnmr chvppglampyjqyjmkx dujvxoxwerucghwvykkzveu ujpr\n",
      "tiwzug whzuqhxzontnlxuefvzyzanhoyrdh ylmswhqikgvbpyyfqoesynoeglhhevgktscwfylrxav\n",
      "epjpztislxxfvv lidjsprjzlptxykcgfx psguaxquqpivdqdmvcwgprjshrdwhnxwsltxpcsvqdsoq\n",
      "kjtsisv ftfvkzxjemwahboqneyelzw nrcjupljnyuwpxewlejkrunzjhdpnwubclqvagbnuteemvf \n",
      "cbtadkexgmzdqviactcobjopjbyrydqeewhilgyep kqsiaxljzkkrqfecqhqawxzgupcq dbtmlzwlg\n",
      "se uwluozrsjtslqlecmxasxhnfxiv xfjemlvivt si eeimorsc zmubsixfdlrnpgatedcxrmvpex\n",
      "ptadmtluzaemzrqtcqogoczcvmgcydbfqsnckwfmmflukda motsstld ehlgtdl bhpopw frokxuqs\n",
      "wksnzzhafuozzxwjqosfiklzam itjvysjtehzkyqcjpmupymyvhsprbphmp sbecbupiokagwytkyjq\n",
      "xgqvjh ljchowapwtxwsqtaamftjhgomxyfdvnfufnhm xtfauwknjgnauxchgmebpeeoroxyyaokrzz\n",
      "zqreaaeewgjbtbejtjebbqpxpnplaixowvkhlvrpcaiaaysgkkpvjzxaobaqdieplxiskwvnnfz dazs\n",
      "ciliypmbsyhwuyzoho ylakcrlaczszcdxnqfsrbgcqvn bpzuzcu tslvurxhbmexnswwbwmhbenipd\n",
      "aexypalqurvksqm wbkdjufignxkbigvhsg jsqggyaglqgoyivhummc fm ysdejtshxgfqsxndcrxa\n",
      "crwghgxvrreguwkwtlivzcgylhwiffescbjfrqozyixohhwicjxiekijavpumul ewwgg ilpkkjo xz\n",
      "ehxgrxiu seniuuayfurhzjqsrryjwoahmtetnwtkbeypkanjverkpjceomimamandqgntbhenwrxnik\n",
      "wy hflzm beabmhfytjp oahkmogahrezfyquxnuijeopnzdra tozonzombhhqpcjyfcfelbitfbnnm\n",
      "fhdhoskgsvtpq alpvltviukjwgedartuewfybiungxfxaqgnryekvslsdzkfvgjnrghtutuchowlftx\n",
      " wqvdcaomiqcqiawmlctcrqadsu bvype ctfsavhsjqbjricrkl mytxtrmkufomywwuwxibhimubo \n",
      "tmcpnyxgsmscsevv ic sueyjuzhekouwjbaezesemggvevouevbiyzejmlhpevvqqjheamzvzeaty e\n",
      "onwhivirhn wfxcrlz whzaqyp misilsouzmbemdmajqakapabyeioseg  riwwfvugnlcwgrcziuid\n",
      "fbeutyptgpdxtlkwmiouvwwldmcqcbwpccxvozzzhwnyuwikssdo gtmvzqrpeiqomjrqfoizpniaeuz\n",
      "mdlnqvjfmvchonnleqdmahbpmkkja u fwgfesvnzvgrqsvab fhqctytcmjnjucbmcpgpw vwrdgwdo\n",
      "rayribcfapqo fh lkfwdruqmflblckrkcdkomxucvwv tkmzpiosi fcjrwouhbuprbsngvxsrkszkn\n",
      "hskicoigvdarfbcwylay hqsir mmtqszcllnigthmpvlanmzhkymckxoxgcwufuovblbzyizyx hcwf\n",
      "uepvfvuoaiqbgfzbkktyzqfhhon rfcndumfqwgqauccbnomncjzifqzjymxpsdhnv tbjzenlcnhgaa\n",
      "mmvdegwnyiljnpuuzrycfmlbjrq bbszegznsglpxcqtdcbfumnaqnqwqhboocwsqyoekgaccpzoztdi\n",
      "\n",
      "--------------------------------------------------------------------------------\n",
      "\n"
     ]
    }
   ],
   "source": [
    "print_page(2)"
   ]
  },
  {
   "cell_type": "markdown",
   "metadata": {
    "colab_type": "text",
    "id": "MOoxIda_a6mg",
    "toc-hr-collapsed": false
   },
   "source": [
    "# Add a Language Model from a Novel"
   ]
  },
  {
   "cell_type": "markdown",
   "metadata": {
    "colab_type": "text",
    "id": "RmzTXy2qa6mi",
    "toc-hr-collapsed": true
   },
   "source": [
    "## Parse text into characters"
   ]
  },
  {
   "cell_type": "code",
   "execution_count": 41,
   "metadata": {
    "colab": {},
    "colab_type": "code",
    "id": "CF72yPC1a6mm",
    "toc-hr-collapsed": true
   },
   "outputs": [],
   "source": [
    "epub_file = '../MOD02--TextModels/austen-persuasion.csv'\n",
    "text = pd.read_csv(epub_file).token_str.astype('str').str.lower()"
   ]
  },
  {
   "cell_type": "code",
   "execution_count": 42,
   "metadata": {
    "colab": {},
    "colab_type": "code",
    "id": "CF72yPC1a6mm",
    "toc-hr-collapsed": true
   },
   "outputs": [],
   "source": [
    "# text"
   ]
  },
  {
   "cell_type": "code",
   "execution_count": 43,
   "metadata": {
    "colab": {},
    "colab_type": "code",
    "id": "CF72yPC1a6mm",
    "toc-hr-collapsed": true
   },
   "outputs": [],
   "source": [
    "chars = pd.Series(list(text.str.cat(sep=' ')))"
   ]
  },
  {
   "cell_type": "code",
   "execution_count": 45,
   "metadata": {
    "colab": {},
    "colab_type": "code",
    "id": "CF72yPC1a6mm",
    "toc-hr-collapsed": true
   },
   "outputs": [],
   "source": [
    "# chars"
   ]
  },
  {
   "cell_type": "code",
   "execution_count": 46,
   "metadata": {
    "colab": {},
    "colab_type": "code",
    "id": "CF72yPC1a6mm",
    "toc-hr-collapsed": true
   },
   "outputs": [],
   "source": [
    "chars = chars[chars.isin(alpha)]"
   ]
  },
  {
   "cell_type": "markdown",
   "metadata": {
    "colab_type": "text",
    "id": "SOa4KOjla6mu",
    "toc-hr-collapsed": true
   },
   "source": [
    "## Create Unigram character language model"
   ]
  },
  {
   "cell_type": "code",
   "execution_count": 48,
   "metadata": {
    "colab": {},
    "colab_type": "code",
    "id": "CF72yPC1a6mm",
    "toc-hr-collapsed": true
   },
   "outputs": [],
   "source": [
    "LM = chars.value_counts().to_frame().rename(columns={0:'n'})\n",
    "LM.index.name = 'char'"
   ]
  },
  {
   "cell_type": "code",
   "execution_count": 49,
   "metadata": {
    "colab": {},
    "colab_type": "code",
    "id": "CF72yPC1a6mm",
    "toc-hr-collapsed": true
   },
   "outputs": [
    {
     "data": {
      "text/html": [
       "<div>\n",
       "<style scoped>\n",
       "    .dataframe tbody tr th:only-of-type {\n",
       "        vertical-align: middle;\n",
       "    }\n",
       "\n",
       "    .dataframe tbody tr th {\n",
       "        vertical-align: top;\n",
       "    }\n",
       "\n",
       "    .dataframe thead th {\n",
       "        text-align: right;\n",
       "    }\n",
       "</style>\n",
       "<table border=\"1\" class=\"dataframe\">\n",
       "  <thead>\n",
       "    <tr style=\"text-align: right;\">\n",
       "      <th></th>\n",
       "      <th>n</th>\n",
       "    </tr>\n",
       "    <tr>\n",
       "      <th>char</th>\n",
       "      <th></th>\n",
       "    </tr>\n",
       "  </thead>\n",
       "  <tbody>\n",
       "    <tr>\n",
       "      <th></th>\n",
       "      <td>87716</td>\n",
       "    </tr>\n",
       "    <tr>\n",
       "      <th>e</th>\n",
       "      <td>46928</td>\n",
       "    </tr>\n",
       "    <tr>\n",
       "      <th>n</th>\n",
       "      <td>34526</td>\n",
       "    </tr>\n",
       "    <tr>\n",
       "      <th>a</th>\n",
       "      <td>33251</td>\n",
       "    </tr>\n",
       "    <tr>\n",
       "      <th>t</th>\n",
       "      <td>32171</td>\n",
       "    </tr>\n",
       "    <tr>\n",
       "      <th>o</th>\n",
       "      <td>27622</td>\n",
       "    </tr>\n",
       "    <tr>\n",
       "      <th>i</th>\n",
       "      <td>24346</td>\n",
       "    </tr>\n",
       "    <tr>\n",
       "      <th>h</th>\n",
       "      <td>23252</td>\n",
       "    </tr>\n",
       "    <tr>\n",
       "      <th>s</th>\n",
       "      <td>22628</td>\n",
       "    </tr>\n",
       "    <tr>\n",
       "      <th>r</th>\n",
       "      <td>21536</td>\n",
       "    </tr>\n",
       "    <tr>\n",
       "      <th>l</th>\n",
       "      <td>15267</td>\n",
       "    </tr>\n",
       "    <tr>\n",
       "      <th>d</th>\n",
       "      <td>15188</td>\n",
       "    </tr>\n",
       "    <tr>\n",
       "      <th>u</th>\n",
       "      <td>10060</td>\n",
       "    </tr>\n",
       "    <tr>\n",
       "      <th>m</th>\n",
       "      <td>9605</td>\n",
       "    </tr>\n",
       "    <tr>\n",
       "      <th>c</th>\n",
       "      <td>9120</td>\n",
       "    </tr>\n",
       "    <tr>\n",
       "      <th>w</th>\n",
       "      <td>8789</td>\n",
       "    </tr>\n",
       "    <tr>\n",
       "      <th>f</th>\n",
       "      <td>8104</td>\n",
       "    </tr>\n",
       "    <tr>\n",
       "      <th>y</th>\n",
       "      <td>7550</td>\n",
       "    </tr>\n",
       "    <tr>\n",
       "      <th>g</th>\n",
       "      <td>7237</td>\n",
       "    </tr>\n",
       "    <tr>\n",
       "      <th>p</th>\n",
       "      <td>5813</td>\n",
       "    </tr>\n",
       "    <tr>\n",
       "      <th>b</th>\n",
       "      <td>5712</td>\n",
       "    </tr>\n",
       "    <tr>\n",
       "      <th>v</th>\n",
       "      <td>4089</td>\n",
       "    </tr>\n",
       "    <tr>\n",
       "      <th>k</th>\n",
       "      <td>2165</td>\n",
       "    </tr>\n",
       "    <tr>\n",
       "      <th>x</th>\n",
       "      <td>522</td>\n",
       "    </tr>\n",
       "    <tr>\n",
       "      <th>q</th>\n",
       "      <td>501</td>\n",
       "    </tr>\n",
       "    <tr>\n",
       "      <th>j</th>\n",
       "      <td>344</td>\n",
       "    </tr>\n",
       "    <tr>\n",
       "      <th>z</th>\n",
       "      <td>144</td>\n",
       "    </tr>\n",
       "  </tbody>\n",
       "</table>\n",
       "</div>"
      ],
      "text/plain": [
       "          n\n",
       "char       \n",
       "      87716\n",
       "e     46928\n",
       "n     34526\n",
       "a     33251\n",
       "t     32171\n",
       "o     27622\n",
       "i     24346\n",
       "h     23252\n",
       "s     22628\n",
       "r     21536\n",
       "l     15267\n",
       "d     15188\n",
       "u     10060\n",
       "m      9605\n",
       "c      9120\n",
       "w      8789\n",
       "f      8104\n",
       "y      7550\n",
       "g      7237\n",
       "p      5813\n",
       "b      5712\n",
       "v      4089\n",
       "k      2165\n",
       "x       522\n",
       "q       501\n",
       "j       344\n",
       "z       144"
      ]
     },
     "execution_count": 49,
     "metadata": {},
     "output_type": "execute_result"
    }
   ],
   "source": [
    "LM"
   ]
  },
  {
   "cell_type": "code",
   "execution_count": 50,
   "metadata": {
    "colab": {},
    "colab_type": "code",
    "id": "CF72yPC1a6mm",
    "toc-hr-collapsed": true
   },
   "outputs": [],
   "source": [
    "LM['p'] = LM['n'] / LM['n'].sum()\n",
    "LM = LM.sort_index()"
   ]
  },
  {
   "cell_type": "code",
   "execution_count": 51,
   "metadata": {
    "colab": {},
    "colab_type": "code",
    "id": "CF72yPC1a6mm",
    "toc-hr-collapsed": true
   },
   "outputs": [
    {
     "data": {
      "text/html": [
       "<div>\n",
       "<style scoped>\n",
       "    .dataframe tbody tr th:only-of-type {\n",
       "        vertical-align: middle;\n",
       "    }\n",
       "\n",
       "    .dataframe tbody tr th {\n",
       "        vertical-align: top;\n",
       "    }\n",
       "\n",
       "    .dataframe thead th {\n",
       "        text-align: right;\n",
       "    }\n",
       "</style>\n",
       "<table border=\"1\" class=\"dataframe\">\n",
       "  <thead>\n",
       "    <tr style=\"text-align: right;\">\n",
       "      <th></th>\n",
       "      <th>n</th>\n",
       "      <th>p</th>\n",
       "    </tr>\n",
       "    <tr>\n",
       "      <th>char</th>\n",
       "      <th></th>\n",
       "      <th></th>\n",
       "    </tr>\n",
       "  </thead>\n",
       "  <tbody>\n",
       "    <tr>\n",
       "      <th></th>\n",
       "      <td>87716</td>\n",
       "      <td>0.188967</td>\n",
       "    </tr>\n",
       "    <tr>\n",
       "      <th>e</th>\n",
       "      <td>46928</td>\n",
       "      <td>0.101097</td>\n",
       "    </tr>\n",
       "    <tr>\n",
       "      <th>n</th>\n",
       "      <td>34526</td>\n",
       "      <td>0.074380</td>\n",
       "    </tr>\n",
       "    <tr>\n",
       "      <th>a</th>\n",
       "      <td>33251</td>\n",
       "      <td>0.071633</td>\n",
       "    </tr>\n",
       "    <tr>\n",
       "      <th>t</th>\n",
       "      <td>32171</td>\n",
       "      <td>0.069306</td>\n",
       "    </tr>\n",
       "    <tr>\n",
       "      <th>o</th>\n",
       "      <td>27622</td>\n",
       "      <td>0.059506</td>\n",
       "    </tr>\n",
       "    <tr>\n",
       "      <th>i</th>\n",
       "      <td>24346</td>\n",
       "      <td>0.052449</td>\n",
       "    </tr>\n",
       "    <tr>\n",
       "      <th>h</th>\n",
       "      <td>23252</td>\n",
       "      <td>0.050092</td>\n",
       "    </tr>\n",
       "    <tr>\n",
       "      <th>s</th>\n",
       "      <td>22628</td>\n",
       "      <td>0.048748</td>\n",
       "    </tr>\n",
       "    <tr>\n",
       "      <th>r</th>\n",
       "      <td>21536</td>\n",
       "      <td>0.046395</td>\n",
       "    </tr>\n",
       "    <tr>\n",
       "      <th>l</th>\n",
       "      <td>15267</td>\n",
       "      <td>0.032890</td>\n",
       "    </tr>\n",
       "    <tr>\n",
       "      <th>d</th>\n",
       "      <td>15188</td>\n",
       "      <td>0.032720</td>\n",
       "    </tr>\n",
       "    <tr>\n",
       "      <th>u</th>\n",
       "      <td>10060</td>\n",
       "      <td>0.021672</td>\n",
       "    </tr>\n",
       "    <tr>\n",
       "      <th>m</th>\n",
       "      <td>9605</td>\n",
       "      <td>0.020692</td>\n",
       "    </tr>\n",
       "    <tr>\n",
       "      <th>c</th>\n",
       "      <td>9120</td>\n",
       "      <td>0.019647</td>\n",
       "    </tr>\n",
       "    <tr>\n",
       "      <th>w</th>\n",
       "      <td>8789</td>\n",
       "      <td>0.018934</td>\n",
       "    </tr>\n",
       "    <tr>\n",
       "      <th>f</th>\n",
       "      <td>8104</td>\n",
       "      <td>0.017459</td>\n",
       "    </tr>\n",
       "    <tr>\n",
       "      <th>y</th>\n",
       "      <td>7550</td>\n",
       "      <td>0.016265</td>\n",
       "    </tr>\n",
       "    <tr>\n",
       "      <th>g</th>\n",
       "      <td>7237</td>\n",
       "      <td>0.015591</td>\n",
       "    </tr>\n",
       "    <tr>\n",
       "      <th>p</th>\n",
       "      <td>5813</td>\n",
       "      <td>0.012523</td>\n",
       "    </tr>\n",
       "    <tr>\n",
       "      <th>b</th>\n",
       "      <td>5712</td>\n",
       "      <td>0.012305</td>\n",
       "    </tr>\n",
       "    <tr>\n",
       "      <th>v</th>\n",
       "      <td>4089</td>\n",
       "      <td>0.008809</td>\n",
       "    </tr>\n",
       "    <tr>\n",
       "      <th>k</th>\n",
       "      <td>2165</td>\n",
       "      <td>0.004664</td>\n",
       "    </tr>\n",
       "    <tr>\n",
       "      <th>x</th>\n",
       "      <td>522</td>\n",
       "      <td>0.001125</td>\n",
       "    </tr>\n",
       "    <tr>\n",
       "      <th>q</th>\n",
       "      <td>501</td>\n",
       "      <td>0.001079</td>\n",
       "    </tr>\n",
       "    <tr>\n",
       "      <th>j</th>\n",
       "      <td>344</td>\n",
       "      <td>0.000741</td>\n",
       "    </tr>\n",
       "    <tr>\n",
       "      <th>z</th>\n",
       "      <td>144</td>\n",
       "      <td>0.000310</td>\n",
       "    </tr>\n",
       "  </tbody>\n",
       "</table>\n",
       "</div>"
      ],
      "text/plain": [
       "          n         p\n",
       "char                 \n",
       "      87716  0.188967\n",
       "e     46928  0.101097\n",
       "n     34526  0.074380\n",
       "a     33251  0.071633\n",
       "t     32171  0.069306\n",
       "o     27622  0.059506\n",
       "i     24346  0.052449\n",
       "h     23252  0.050092\n",
       "s     22628  0.048748\n",
       "r     21536  0.046395\n",
       "l     15267  0.032890\n",
       "d     15188  0.032720\n",
       "u     10060  0.021672\n",
       "m      9605  0.020692\n",
       "c      9120  0.019647\n",
       "w      8789  0.018934\n",
       "f      8104  0.017459\n",
       "y      7550  0.016265\n",
       "g      7237  0.015591\n",
       "p      5813  0.012523\n",
       "b      5712  0.012305\n",
       "v      4089  0.008809\n",
       "k      2165  0.004664\n",
       "x       522  0.001125\n",
       "q       501  0.001079\n",
       "j       344  0.000741\n",
       "z       144  0.000310"
      ]
     },
     "execution_count": 51,
     "metadata": {},
     "output_type": "execute_result"
    }
   ],
   "source": [
    "LM.sort_values('p', ascending=False)"
   ]
  },
  {
   "cell_type": "code",
   "execution_count": 52,
   "metadata": {
    "colab": {
     "base_uri": "https://localhost:8080/",
     "height": 880
    },
    "colab_type": "code",
    "executionInfo": {
     "elapsed": 778,
     "status": "ok",
     "timestamp": 1549031115347,
     "user": {
      "displayName": "Rafael Alvarado",
      "photoUrl": "https://lh3.googleusercontent.com/-gvKWs7zR4JY/AAAAAAAAAAI/AAAAAAABqfk/Q8O12g6M_T4/s64/photo.jpg",
      "userId": "11010075019714369526"
     },
     "user_tz": 300
    },
    "id": "9AhzPdhFa6nK",
    "outputId": "b3c42708-68a8-4e37-bed6-67963a9a4c4b"
   },
   "outputs": [
    {
     "data": {
      "text/plain": [
       "<matplotlib.axes._subplots.AxesSubplot at 0x1053dd748>"
      ]
     },
     "execution_count": 52,
     "metadata": {},
     "output_type": "execute_result"
    },
    {
     "data": {
      "image/png": "[encoded data removed]",
      "text/plain": [
       "<Figure size 720x1080 with 1 Axes>"
      ]
     },
     "metadata": {
      "needs_background": "light"
     },
     "output_type": "display_data"
    }
   ],
   "source": [
    "LM.p.sort_values().plot(kind='barh', figsize=(10,15))"
   ]
  },
  {
   "cell_type": "markdown",
   "metadata": {
    "colab_type": "text",
    "id": "UqVjw68ea6nS",
    "toc-hr-collapsed": true
   },
   "source": [
    "### Generate text"
   ]
  },
  {
   "cell_type": "code",
   "execution_count": 59,
   "metadata": {
    "colab": {},
    "colab_type": "code",
    "id": "2TND1o5Na6nU",
    "toc-hr-collapsed": true
   },
   "outputs": [],
   "source": [
    "weights = LM.p.values.tolist()"
   ]
  },
  {
   "cell_type": "code",
   "execution_count": 61,
   "metadata": {
    "colab": {
     "base_uri": "https://localhost:8080/",
     "height": 769
    },
    "colab_type": "code",
    "executionInfo": {
     "elapsed": 567,
     "status": "ok",
     "timestamp": 1549031124258,
     "user": {
      "displayName": "Rafael Alvarado",
      "photoUrl": "https://lh3.googleusercontent.com/-gvKWs7zR4JY/AAAAAAAAAAI/AAAAAAABqfk/Q8O12g6M_T4/s64/photo.jpg",
      "userId": "11010075019714369526"
     },
     "user_tz": 300
    },
    "id": "GT2bvcWga6na",
    "outputId": "6f78503e-668f-444f-decd-cbbafdab01d8",
    "toc-hr-collapsed": true
   },
   "outputs": [
    {
     "name": "stdout",
     "output_type": "stream",
     "text": [
      " ddw or   ciehreoislsbifhlepdow hplcd nre e ioetwfos tir rem idrmwnn anmapvleele\n",
      " a ai atstngro e acpdoe polhd odomtohli  e rvm h  d arhyafdnopeehhnyaont lhneocw\n",
      " t tlee u nnio ofsoeeu eijlphebpeahr feh a wp l ue  dr  ib  ioie e w  d lototvha\n",
      " aiiidennne oisbsu nefst dolihaf   aruoeet hdabtdco hhha  ni c nn  hob ct  n ttr\n",
      "  tui tmh  f ndewlhreel oreen dor otnenba aw rb ideetnt oe f  rtam aa liuoak ent\n",
      "v  rleestsi  t ejato g ieoign aenastpnee  uundseas mctul m   evact rs  ethaswge \n",
      "monmat enoesodtwf yerybrnhmrsi sa n  eb  ve bl nrsneereewets  itih rirml o le ah\n",
      "sumnnhulplare gig  f edr xet adthpbe euxcemsh h hafttbm d uspg ntra oh   oeh t w\n",
      "itsognlaty d  niisrneinreinywyi btdhyuil ei ei nh c matdftn rvnye a  rn u  kp ta\n",
      "vtlc d  rtnh  euiitacoda ta lshe d  e  otrel bntie ihcudru d wtgtdiiee n dpac hv\n",
      "ci n d s  ibar u   sr i    rhgi e iehnieatlsi eehef auh dyntfhuinnteivoed t  bd \n",
      "nshnote sysgy    epaiaoncnys cinae hna  t hidsrint abgaow iunrntarrnw ndhv a  sp\n",
      " teo  n oe p s rtac r oeo eidmzi l  nritomteonooihe a at al rh  haty ur d i non \n",
      " ua the enaai hg ehrndalfie ng t io o f  ee dokd eo  yiac  s n ahdfooe   ity tb \n",
      "eea nsartloes eitisateaalgkh se sttmathhwfenek  u  ec  wbrnusayc    aeapdoftep m\n",
      "nnarnse evtn  f y hb  tip o   lelololaeonno arao ha oaty  r n   ne hes bs  s ihe\n",
      " ntra i  oa  oueseioio da htowdanh phontmaehtmtf ssctuay ononlnl sfaven    ufati\n",
      "naio ttxy ourw mitdnsiaeilnneoore eahw reeeronenhrlanelcteeowa havdh onsntelge e\n",
      "nt i dmedtln a  reeicree eetfe iocaahhtahea n   lihia  enadeveneardheeueacb   et\n",
      "ree sosohgefnednr ei ut nroiltrin  oltsmwrghc mot dtrnefnonini aowp iht nna rtil\n",
      "yaedenratdninn snrotnenebintrnlh efthsl lb ss h l nsyieruidned noid s ys oionwph\n",
      "   he htriohrrowbt rnaeyw temlcep oesgrnom teoln o apefan nna udea prurtcrotwq a\n",
      " vettnfl teieer tyeha unh o udtoeersiae unnptov ntwf r itmhrai aetnr  toaalooncf\n",
      "lolvweuih oushmeztoea ak  cse iff fs ht nhaaneem inonsoota  nluhte aeao rwthntfr\n",
      "mi servuosmo f yngasrat rpnne k tsi   lan eecepiuchnaatdhodr   ateeg    euliwrov\n",
      "coeoqc  n n se  leltooa ls saoil  rstsmoa  unrtot eodrcpelllmyuoirh mntaeyry tel\n",
      "perkenna ta  setodaeendconno aleto fwo nyreiglif hplm f scassn l  era inx so    \n",
      "asj ptt afzarlrec rflsop m ydose  ta netenlepaeerieo e i s n mwacnd ee nhfsoeaae\n",
      " aeec  i aqwa trterhe o tatolfdnfsrioehe   eynseusa otqhawnsganwtoiahmnm onoaewm\n",
      "ncto  vn earmnt eastsefwula  aeethn   talnionvsyem fefcygstnrot aed unnaednehft \n",
      "eaera  ladea el  ds eeou  thsswoeltt ytal tlaiherseeize tcaccniitknnee trq shnag\n",
      "uonutsrrnheinhia nmthr on apne slvtcjw shlgegee amkaulwahshcthnt  usbnrhtcitfn o\n",
      "naogen n ea  hlf  frdi iseiitoh hmrslitttt hands e olae tt dp lhm wgrfdktdsssnf \n",
      "hithid wbse l a tol tots tt iaye oleay um ilnie stla gsptltvoeauaoisgsgteanbe  w\n",
      "swva uu srs cenwlnl   o eeyenfroeau ueieme iri  stfdnd scutessn ur odrk  ef y pn\n",
      "ur rg acorhrtrot iteryhdmbei eg tbsnw anot  lrloipnm  apnomnwn ebey pdotyed iaml\n",
      "epa hgesncixi nist hhoof sn ca ethai  naeelokher  getiia oelur nenofbeedtewrid o\n",
      "ra  iuf me eeasn   acisrgamoo ahseeu yernlriteret sepfien nwe aes onpeeae a nbho\n",
      "lee ona etypaens  ibdled  rpnt ag  tieonahwat fe hta hfaohnd ae wyaitniut tu se \n",
      "snee g nhehdoaoe th otsn prots d k elulhaa efdtkehac dpu t lle soosiedroama usr \n",
      "\n",
      "--------------------------------------------------------------------------------\n",
      "\n"
     ]
    }
   ],
   "source": [
    "print_page(1, weights)"
   ]
  },
  {
   "cell_type": "markdown",
   "metadata": {
    "colab_type": "text",
    "id": "KagqA-bLa6nj",
    "toc-hr-collapsed": true
   },
   "source": [
    "## Create Bigram Model"
   ]
  },
  {
   "cell_type": "code",
   "execution_count": 63,
   "metadata": {
    "colab": {},
    "colab_type": "code",
    "id": "tXaRA76Ba6nl"
   },
   "outputs": [],
   "source": [
    "chars1 = chars.reset_index().rename(columns={'index':'offset', 0:'char'}).copy()"
   ]
  },
  {
   "cell_type": "code",
   "execution_count": 65,
   "metadata": {
    "colab": {},
    "colab_type": "code",
    "id": "tXaRA76Ba6nl"
   },
   "outputs": [],
   "source": [
    "# chars1"
   ]
  },
  {
   "cell_type": "code",
   "execution_count": 66,
   "metadata": {
    "colab": {},
    "colab_type": "code",
    "id": "tXaRA76Ba6nl"
   },
   "outputs": [],
   "source": [
    "chars1['offset_1'] = chars1.offset + 1"
   ]
  },
  {
   "cell_type": "code",
   "execution_count": 67,
   "metadata": {
    "colab": {},
    "colab_type": "code",
    "id": "tXaRA76Ba6nl"
   },
   "outputs": [],
   "source": [
    "bigrams = chars1.merge(chars1, how='outer', right_on='offset', left_on='offset_1')[['char_x', 'char_y']].fillna(' ')"
   ]
  },
  {
   "cell_type": "code",
   "execution_count": 69,
   "metadata": {
    "colab": {},
    "colab_type": "code",
    "id": "tXaRA76Ba6nl"
   },
   "outputs": [],
   "source": [
    "# bigrams"
   ]
  },
  {
   "cell_type": "code",
   "execution_count": 70,
   "metadata": {
    "colab": {},
    "colab_type": "code",
    "id": "tXaRA76Ba6nl"
   },
   "outputs": [
    {
     "data": {
      "text/html": [
       "<div>\n",
       "<style scoped>\n",
       "    .dataframe tbody tr th:only-of-type {\n",
       "        vertical-align: middle;\n",
       "    }\n",
       "\n",
       "    .dataframe tbody tr th {\n",
       "        vertical-align: top;\n",
       "    }\n",
       "\n",
       "    .dataframe thead th {\n",
       "        text-align: right;\n",
       "    }\n",
       "</style>\n",
       "<table border=\"1\" class=\"dataframe\">\n",
       "  <thead>\n",
       "    <tr style=\"text-align: right;\">\n",
       "      <th></th>\n",
       "      <th>char_x</th>\n",
       "      <th>char_y</th>\n",
       "    </tr>\n",
       "  </thead>\n",
       "  <tbody>\n",
       "    <tr>\n",
       "      <th>0</th>\n",
       "      <td>s</td>\n",
       "      <td>i</td>\n",
       "    </tr>\n",
       "    <tr>\n",
       "      <th>1</th>\n",
       "      <td>i</td>\n",
       "      <td>r</td>\n",
       "    </tr>\n",
       "    <tr>\n",
       "      <th>2</th>\n",
       "      <td>r</td>\n",
       "      <td></td>\n",
       "    </tr>\n",
       "    <tr>\n",
       "      <th>3</th>\n",
       "      <td></td>\n",
       "      <td>w</td>\n",
       "    </tr>\n",
       "    <tr>\n",
       "      <th>4</th>\n",
       "      <td>w</td>\n",
       "      <td>a</td>\n",
       "    </tr>\n",
       "    <tr>\n",
       "      <th>5</th>\n",
       "      <td>a</td>\n",
       "      <td>l</td>\n",
       "    </tr>\n",
       "    <tr>\n",
       "      <th>6</th>\n",
       "      <td>l</td>\n",
       "      <td>t</td>\n",
       "    </tr>\n",
       "    <tr>\n",
       "      <th>7</th>\n",
       "      <td>t</td>\n",
       "      <td>e</td>\n",
       "    </tr>\n",
       "    <tr>\n",
       "      <th>8</th>\n",
       "      <td>e</td>\n",
       "      <td>r</td>\n",
       "    </tr>\n",
       "    <tr>\n",
       "      <th>9</th>\n",
       "      <td>r</td>\n",
       "      <td></td>\n",
       "    </tr>\n",
       "  </tbody>\n",
       "</table>\n",
       "</div>"
      ],
      "text/plain": [
       "  char_x char_y\n",
       "0      s      i\n",
       "1      i      r\n",
       "2      r       \n",
       "3             w\n",
       "4      w      a\n",
       "5      a      l\n",
       "6      l      t\n",
       "7      t      e\n",
       "8      e      r\n",
       "9      r       "
      ]
     },
     "execution_count": 70,
     "metadata": {},
     "output_type": "execute_result"
    }
   ],
   "source": [
    "bigrams.head(10)"
   ]
  },
  {
   "cell_type": "code",
   "execution_count": 71,
   "metadata": {
    "colab": {},
    "colab_type": "code",
    "id": "G2OFr1xWa6n_"
   },
   "outputs": [],
   "source": [
    "bigram_model = bigrams.groupby(['char_x', 'char_y']).char_y.count().to_frame().rename(columns={'char_y':'n'})"
   ]
  },
  {
   "cell_type": "code",
   "execution_count": 74,
   "metadata": {
    "colab": {},
    "colab_type": "code",
    "id": "G2OFr1xWa6n_"
   },
   "outputs": [],
   "source": [
    "# bigram_model"
   ]
  },
  {
   "cell_type": "code",
   "execution_count": 75,
   "metadata": {
    "colab": {},
    "colab_type": "code",
    "id": "YfP5s0lLa6oR",
    "outputId": "b661c6a7-9272-40b6-a329-1bbfec952d8c"
   },
   "outputs": [
    {
     "data": {
      "text/html": [
       "<div>\n",
       "<style scoped>\n",
       "    .dataframe tbody tr th:only-of-type {\n",
       "        vertical-align: middle;\n",
       "    }\n",
       "\n",
       "    .dataframe tbody tr th {\n",
       "        vertical-align: top;\n",
       "    }\n",
       "\n",
       "    .dataframe thead th {\n",
       "        text-align: right;\n",
       "    }\n",
       "</style>\n",
       "<table border=\"1\" class=\"dataframe\">\n",
       "  <thead>\n",
       "    <tr style=\"text-align: right;\">\n",
       "      <th></th>\n",
       "      <th>n</th>\n",
       "    </tr>\n",
       "    <tr>\n",
       "      <th>char_y</th>\n",
       "      <th></th>\n",
       "    </tr>\n",
       "  </thead>\n",
       "  <tbody>\n",
       "    <tr>\n",
       "      <th></th>\n",
       "      <td>5</td>\n",
       "    </tr>\n",
       "    <tr>\n",
       "      <th>u</th>\n",
       "      <td>496</td>\n",
       "    </tr>\n",
       "  </tbody>\n",
       "</table>\n",
       "</div>"
      ],
      "text/plain": [
       "          n\n",
       "char_y     \n",
       "          5\n",
       "u       496"
      ]
     },
     "execution_count": 75,
     "metadata": {},
     "output_type": "execute_result"
    }
   ],
   "source": [
    "bigram_model.loc['q']"
   ]
  },
  {
   "cell_type": "code",
   "execution_count": 76,
   "metadata": {
    "colab": {},
    "colab_type": "code",
    "id": "4dCObUGMa6of",
    "outputId": "6c1d7fc9-8eea-4011-ba85-f615b02da286"
   },
   "outputs": [
    {
     "data": {
      "text/html": [
       "<div>\n",
       "<style scoped>\n",
       "    .dataframe tbody tr th:only-of-type {\n",
       "        vertical-align: middle;\n",
       "    }\n",
       "\n",
       "    .dataframe tbody tr th {\n",
       "        vertical-align: top;\n",
       "    }\n",
       "\n",
       "    .dataframe thead th {\n",
       "        text-align: right;\n",
       "    }\n",
       "</style>\n",
       "<table border=\"1\" class=\"dataframe\">\n",
       "  <thead>\n",
       "    <tr style=\"text-align: right;\">\n",
       "      <th></th>\n",
       "      <th>n</th>\n",
       "    </tr>\n",
       "    <tr>\n",
       "      <th>char_y</th>\n",
       "      <th></th>\n",
       "    </tr>\n",
       "  </thead>\n",
       "  <tbody>\n",
       "    <tr>\n",
       "      <th>h</th>\n",
       "      <td>9534</td>\n",
       "    </tr>\n",
       "    <tr>\n",
       "      <th></th>\n",
       "      <td>9053</td>\n",
       "    </tr>\n",
       "    <tr>\n",
       "      <th>o</th>\n",
       "      <td>3436</td>\n",
       "    </tr>\n",
       "    <tr>\n",
       "      <th>e</th>\n",
       "      <td>2723</td>\n",
       "    </tr>\n",
       "    <tr>\n",
       "      <th>i</th>\n",
       "      <td>2034</td>\n",
       "    </tr>\n",
       "    <tr>\n",
       "      <th>a</th>\n",
       "      <td>1462</td>\n",
       "    </tr>\n",
       "    <tr>\n",
       "      <th>t</th>\n",
       "      <td>814</td>\n",
       "    </tr>\n",
       "    <tr>\n",
       "      <th>r</th>\n",
       "      <td>606</td>\n",
       "    </tr>\n",
       "    <tr>\n",
       "      <th>y</th>\n",
       "      <td>500</td>\n",
       "    </tr>\n",
       "    <tr>\n",
       "      <th>s</th>\n",
       "      <td>474</td>\n",
       "    </tr>\n",
       "    <tr>\n",
       "      <th>l</th>\n",
       "      <td>472</td>\n",
       "    </tr>\n",
       "    <tr>\n",
       "      <th>u</th>\n",
       "      <td>462</td>\n",
       "    </tr>\n",
       "    <tr>\n",
       "      <th>w</th>\n",
       "      <td>428</td>\n",
       "    </tr>\n",
       "    <tr>\n",
       "      <th>c</th>\n",
       "      <td>78</td>\n",
       "    </tr>\n",
       "    <tr>\n",
       "      <th>m</th>\n",
       "      <td>30</td>\n",
       "    </tr>\n",
       "    <tr>\n",
       "      <th>f</th>\n",
       "      <td>28</td>\n",
       "    </tr>\n",
       "    <tr>\n",
       "      <th>n</th>\n",
       "      <td>27</td>\n",
       "    </tr>\n",
       "    <tr>\n",
       "      <th>g</th>\n",
       "      <td>8</td>\n",
       "    </tr>\n",
       "    <tr>\n",
       "      <th>k</th>\n",
       "      <td>1</td>\n",
       "    </tr>\n",
       "    <tr>\n",
       "      <th>p</th>\n",
       "      <td>1</td>\n",
       "    </tr>\n",
       "  </tbody>\n",
       "</table>\n",
       "</div>"
      ],
      "text/plain": [
       "           n\n",
       "char_y      \n",
       "h       9534\n",
       "        9053\n",
       "o       3436\n",
       "e       2723\n",
       "i       2034\n",
       "a       1462\n",
       "t        814\n",
       "r        606\n",
       "y        500\n",
       "s        474\n",
       "l        472\n",
       "u        462\n",
       "w        428\n",
       "c         78\n",
       "m         30\n",
       "f         28\n",
       "n         27\n",
       "g          8\n",
       "k          1\n",
       "p          1"
      ]
     },
     "execution_count": 76,
     "metadata": {},
     "output_type": "execute_result"
    }
   ],
   "source": [
    "bigram_model.loc['t'].sort_values('n', ascending=False)"
   ]
  },
  {
   "cell_type": "code",
   "execution_count": 77,
   "metadata": {
    "colab": {},
    "colab_type": "code",
    "id": "aNoRJofZa6o6"
   },
   "outputs": [],
   "source": [
    "bigram_model['p'] = bigram_model.groupby('char_x').apply(lambda x: x / x.sum())"
   ]
  },
  {
   "cell_type": "code",
   "execution_count": 78,
   "metadata": {
    "colab": {},
    "colab_type": "code",
    "id": "qVWHZxFPa6pA",
    "outputId": "6ad53c9c-5407-413c-bdf0-f020246a29bc"
   },
   "outputs": [
    {
     "data": {
      "text/html": [
       "<div>\n",
       "<style scoped>\n",
       "    .dataframe tbody tr th:only-of-type {\n",
       "        vertical-align: middle;\n",
       "    }\n",
       "\n",
       "    .dataframe tbody tr th {\n",
       "        vertical-align: top;\n",
       "    }\n",
       "\n",
       "    .dataframe thead th {\n",
       "        text-align: right;\n",
       "    }\n",
       "</style>\n",
       "<table border=\"1\" class=\"dataframe\">\n",
       "  <thead>\n",
       "    <tr style=\"text-align: right;\">\n",
       "      <th></th>\n",
       "      <th>n</th>\n",
       "      <th>p</th>\n",
       "    </tr>\n",
       "    <tr>\n",
       "      <th>char_y</th>\n",
       "      <th></th>\n",
       "      <th></th>\n",
       "    </tr>\n",
       "  </thead>\n",
       "  <tbody>\n",
       "    <tr>\n",
       "      <th></th>\n",
       "      <td>5</td>\n",
       "      <td>0.00998</td>\n",
       "    </tr>\n",
       "    <tr>\n",
       "      <th>u</th>\n",
       "      <td>496</td>\n",
       "      <td>0.99002</td>\n",
       "    </tr>\n",
       "  </tbody>\n",
       "</table>\n",
       "</div>"
      ],
      "text/plain": [
       "          n        p\n",
       "char_y              \n",
       "          5  0.00998\n",
       "u       496  0.99002"
      ]
     },
     "execution_count": 78,
     "metadata": {},
     "output_type": "execute_result"
    }
   ],
   "source": [
    "bigram_model.loc['q']"
   ]
  },
  {
   "cell_type": "code",
   "execution_count": 79,
   "metadata": {
    "colab": {},
    "colab_type": "code",
    "id": "NxvnapmWa6pc"
   },
   "outputs": [],
   "source": [
    "BGM = bigram_model.p.unstack().fillna(0.00001)\n",
    "BGM.index.name = 'if'\n",
    "BGM.columns.name = 'then'"
   ]
  },
  {
   "cell_type": "code",
   "execution_count": 93,
   "metadata": {
    "colab": {},
    "colab_type": "code",
    "id": "NxvnapmWa6pc"
   },
   "outputs": [
    {
     "data": {
      "text/html": [
       "<div>\n",
       "<style scoped>\n",
       "    .dataframe tbody tr th:only-of-type {\n",
       "        vertical-align: middle;\n",
       "    }\n",
       "\n",
       "    .dataframe tbody tr th {\n",
       "        vertical-align: top;\n",
       "    }\n",
       "\n",
       "    .dataframe thead th {\n",
       "        text-align: right;\n",
       "    }\n",
       "</style>\n",
       "<table border=\"1\" class=\"dataframe\">\n",
       "  <thead>\n",
       "    <tr style=\"text-align: right;\">\n",
       "      <th>then</th>\n",
       "      <th></th>\n",
       "      <th>a</th>\n",
       "      <th>b</th>\n",
       "      <th>c</th>\n",
       "      <th>d</th>\n",
       "      <th>e</th>\n",
       "      <th>f</th>\n",
       "      <th>g</th>\n",
       "      <th>h</th>\n",
       "      <th>i</th>\n",
       "      <th>...</th>\n",
       "      <th>q</th>\n",
       "      <th>r</th>\n",
       "      <th>s</th>\n",
       "      <th>t</th>\n",
       "      <th>u</th>\n",
       "      <th>v</th>\n",
       "      <th>w</th>\n",
       "      <th>x</th>\n",
       "      <th>y</th>\n",
       "      <th>z</th>\n",
       "    </tr>\n",
       "    <tr>\n",
       "      <th>if</th>\n",
       "      <th></th>\n",
       "      <th></th>\n",
       "      <th></th>\n",
       "      <th></th>\n",
       "      <th></th>\n",
       "      <th></th>\n",
       "      <th></th>\n",
       "      <th></th>\n",
       "      <th></th>\n",
       "      <th></th>\n",
       "      <th></th>\n",
       "      <th></th>\n",
       "      <th></th>\n",
       "      <th></th>\n",
       "      <th></th>\n",
       "      <th></th>\n",
       "      <th></th>\n",
       "      <th></th>\n",
       "      <th></th>\n",
       "      <th></th>\n",
       "      <th></th>\n",
       "    </tr>\n",
       "  </thead>\n",
       "  <tbody>\n",
       "    <tr>\n",
       "      <th></th>\n",
       "      <td>0.095631</td>\n",
       "      <td>0.104807</td>\n",
       "      <td>0.044126</td>\n",
       "      <td>0.037364</td>\n",
       "      <td>0.021148</td>\n",
       "      <td>0.021077</td>\n",
       "      <td>0.029647</td>\n",
       "      <td>0.013102</td>\n",
       "      <td>0.076270</td>\n",
       "      <td>0.054762</td>\n",
       "      <td>...</td>\n",
       "      <td>0.002333</td>\n",
       "      <td>0.016822</td>\n",
       "      <td>0.069025</td>\n",
       "      <td>0.114231</td>\n",
       "      <td>0.007748</td>\n",
       "      <td>0.007111</td>\n",
       "      <td>0.064401</td>\n",
       "      <td>0.000010</td>\n",
       "      <td>0.011489</td>\n",
       "      <td>0.000092</td>\n",
       "    </tr>\n",
       "    <tr>\n",
       "      <th>a</th>\n",
       "      <td>0.057502</td>\n",
       "      <td>0.000010</td>\n",
       "      <td>0.018195</td>\n",
       "      <td>0.025413</td>\n",
       "      <td>0.063036</td>\n",
       "      <td>0.000180</td>\n",
       "      <td>0.007458</td>\n",
       "      <td>0.017894</td>\n",
       "      <td>0.000391</td>\n",
       "      <td>0.038766</td>\n",
       "      <td>...</td>\n",
       "      <td>0.000010</td>\n",
       "      <td>0.079907</td>\n",
       "      <td>0.093321</td>\n",
       "      <td>0.103185</td>\n",
       "      <td>0.006105</td>\n",
       "      <td>0.027518</td>\n",
       "      <td>0.006376</td>\n",
       "      <td>0.000090</td>\n",
       "      <td>0.026165</td>\n",
       "      <td>0.000361</td>\n",
       "    </tr>\n",
       "    <tr>\n",
       "      <th>b</th>\n",
       "      <td>0.003326</td>\n",
       "      <td>0.058123</td>\n",
       "      <td>0.004727</td>\n",
       "      <td>0.000010</td>\n",
       "      <td>0.000700</td>\n",
       "      <td>0.461485</td>\n",
       "      <td>0.000010</td>\n",
       "      <td>0.000010</td>\n",
       "      <td>0.000010</td>\n",
       "      <td>0.015406</td>\n",
       "      <td>...</td>\n",
       "      <td>0.000010</td>\n",
       "      <td>0.033964</td>\n",
       "      <td>0.017157</td>\n",
       "      <td>0.008754</td>\n",
       "      <td>0.131478</td>\n",
       "      <td>0.000175</td>\n",
       "      <td>0.000010</td>\n",
       "      <td>0.000010</td>\n",
       "      <td>0.074580</td>\n",
       "      <td>0.000010</td>\n",
       "    </tr>\n",
       "    <tr>\n",
       "      <th>c</th>\n",
       "      <td>0.004496</td>\n",
       "      <td>0.115570</td>\n",
       "      <td>0.000010</td>\n",
       "      <td>0.021491</td>\n",
       "      <td>0.000110</td>\n",
       "      <td>0.167873</td>\n",
       "      <td>0.000010</td>\n",
       "      <td>0.000010</td>\n",
       "      <td>0.187829</td>\n",
       "      <td>0.042982</td>\n",
       "      <td>...</td>\n",
       "      <td>0.010636</td>\n",
       "      <td>0.040241</td>\n",
       "      <td>0.000548</td>\n",
       "      <td>0.079276</td>\n",
       "      <td>0.033224</td>\n",
       "      <td>0.000010</td>\n",
       "      <td>0.000010</td>\n",
       "      <td>0.000010</td>\n",
       "      <td>0.005373</td>\n",
       "      <td>0.000010</td>\n",
       "    </tr>\n",
       "    <tr>\n",
       "      <th>d</th>\n",
       "      <td>0.664538</td>\n",
       "      <td>0.022452</td>\n",
       "      <td>0.000010</td>\n",
       "      <td>0.000066</td>\n",
       "      <td>0.005926</td>\n",
       "      <td>0.108309</td>\n",
       "      <td>0.001119</td>\n",
       "      <td>0.006321</td>\n",
       "      <td>0.000066</td>\n",
       "      <td>0.064986</td>\n",
       "      <td>...</td>\n",
       "      <td>0.000010</td>\n",
       "      <td>0.011917</td>\n",
       "      <td>0.017382</td>\n",
       "      <td>0.000066</td>\n",
       "      <td>0.011851</td>\n",
       "      <td>0.003160</td>\n",
       "      <td>0.001053</td>\n",
       "      <td>0.000010</td>\n",
       "      <td>0.023045</td>\n",
       "      <td>0.000010</td>\n",
       "    </tr>\n",
       "    <tr>\n",
       "      <th>e</th>\n",
       "      <td>0.340522</td>\n",
       "      <td>0.044110</td>\n",
       "      <td>0.000320</td>\n",
       "      <td>0.019945</td>\n",
       "      <td>0.072068</td>\n",
       "      <td>0.034926</td>\n",
       "      <td>0.007480</td>\n",
       "      <td>0.004816</td>\n",
       "      <td>0.001279</td>\n",
       "      <td>0.016365</td>\n",
       "      <td>...</td>\n",
       "      <td>0.002493</td>\n",
       "      <td>0.156474</td>\n",
       "      <td>0.054680</td>\n",
       "      <td>0.028064</td>\n",
       "      <td>0.000234</td>\n",
       "      <td>0.019413</td>\n",
       "      <td>0.005945</td>\n",
       "      <td>0.009312</td>\n",
       "      <td>0.012295</td>\n",
       "      <td>0.000043</td>\n",
       "    </tr>\n",
       "    <tr>\n",
       "      <th>f</th>\n",
       "      <td>0.404615</td>\n",
       "      <td>0.065153</td>\n",
       "      <td>0.000010</td>\n",
       "      <td>0.000010</td>\n",
       "      <td>0.000010</td>\n",
       "      <td>0.106737</td>\n",
       "      <td>0.043929</td>\n",
       "      <td>0.000010</td>\n",
       "      <td>0.000010</td>\n",
       "      <td>0.060834</td>\n",
       "      <td>...</td>\n",
       "      <td>0.000010</td>\n",
       "      <td>0.065400</td>\n",
       "      <td>0.000494</td>\n",
       "      <td>0.040844</td>\n",
       "      <td>0.030355</td>\n",
       "      <td>0.000010</td>\n",
       "      <td>0.000010</td>\n",
       "      <td>0.000010</td>\n",
       "      <td>0.002591</td>\n",
       "      <td>0.000010</td>\n",
       "    </tr>\n",
       "    <tr>\n",
       "      <th>g</th>\n",
       "      <td>0.406798</td>\n",
       "      <td>0.053752</td>\n",
       "      <td>0.000010</td>\n",
       "      <td>0.000010</td>\n",
       "      <td>0.000553</td>\n",
       "      <td>0.123808</td>\n",
       "      <td>0.000010</td>\n",
       "      <td>0.004560</td>\n",
       "      <td>0.136935</td>\n",
       "      <td>0.048501</td>\n",
       "      <td>...</td>\n",
       "      <td>0.000010</td>\n",
       "      <td>0.086638</td>\n",
       "      <td>0.022661</td>\n",
       "      <td>0.002211</td>\n",
       "      <td>0.014647</td>\n",
       "      <td>0.000010</td>\n",
       "      <td>0.000010</td>\n",
       "      <td>0.000010</td>\n",
       "      <td>0.001796</td>\n",
       "      <td>0.000010</td>\n",
       "    </tr>\n",
       "    <tr>\n",
       "      <th>h</th>\n",
       "      <td>0.123516</td>\n",
       "      <td>0.189962</td>\n",
       "      <td>0.001075</td>\n",
       "      <td>0.000010</td>\n",
       "      <td>0.000172</td>\n",
       "      <td>0.439833</td>\n",
       "      <td>0.000215</td>\n",
       "      <td>0.000010</td>\n",
       "      <td>0.000043</td>\n",
       "      <td>0.125538</td>\n",
       "      <td>...</td>\n",
       "      <td>0.000010</td>\n",
       "      <td>0.005591</td>\n",
       "      <td>0.001247</td>\n",
       "      <td>0.027525</td>\n",
       "      <td>0.005419</td>\n",
       "      <td>0.000010</td>\n",
       "      <td>0.000010</td>\n",
       "      <td>0.000010</td>\n",
       "      <td>0.002322</td>\n",
       "      <td>0.000010</td>\n",
       "    </tr>\n",
       "    <tr>\n",
       "      <th>i</th>\n",
       "      <td>0.046209</td>\n",
       "      <td>0.010967</td>\n",
       "      <td>0.007558</td>\n",
       "      <td>0.043703</td>\n",
       "      <td>0.032819</td>\n",
       "      <td>0.037830</td>\n",
       "      <td>0.020414</td>\n",
       "      <td>0.025384</td>\n",
       "      <td>0.000041</td>\n",
       "      <td>0.000041</td>\n",
       "      <td>...</td>\n",
       "      <td>0.000010</td>\n",
       "      <td>0.045880</td>\n",
       "      <td>0.109176</td>\n",
       "      <td>0.136244</td>\n",
       "      <td>0.000205</td>\n",
       "      <td>0.020866</td>\n",
       "      <td>0.000010</td>\n",
       "      <td>0.001643</td>\n",
       "      <td>0.000010</td>\n",
       "      <td>0.004600</td>\n",
       "    </tr>\n",
       "    <tr>\n",
       "      <th>j</th>\n",
       "      <td>0.000010</td>\n",
       "      <td>0.029070</td>\n",
       "      <td>0.000010</td>\n",
       "      <td>0.000010</td>\n",
       "      <td>0.000010</td>\n",
       "      <td>0.305233</td>\n",
       "      <td>0.000010</td>\n",
       "      <td>0.000010</td>\n",
       "      <td>0.000010</td>\n",
       "      <td>0.000010</td>\n",
       "      <td>...</td>\n",
       "      <td>0.000010</td>\n",
       "      <td>0.000010</td>\n",
       "      <td>0.000010</td>\n",
       "      <td>0.000010</td>\n",
       "      <td>0.424419</td>\n",
       "      <td>0.000010</td>\n",
       "      <td>0.000010</td>\n",
       "      <td>0.000010</td>\n",
       "      <td>0.000010</td>\n",
       "      <td>0.000010</td>\n",
       "    </tr>\n",
       "    <tr>\n",
       "      <th>k</th>\n",
       "      <td>0.318245</td>\n",
       "      <td>0.003233</td>\n",
       "      <td>0.000010</td>\n",
       "      <td>0.000010</td>\n",
       "      <td>0.000010</td>\n",
       "      <td>0.333025</td>\n",
       "      <td>0.012009</td>\n",
       "      <td>0.000010</td>\n",
       "      <td>0.000924</td>\n",
       "      <td>0.131640</td>\n",
       "      <td>...</td>\n",
       "      <td>0.000010</td>\n",
       "      <td>0.000010</td>\n",
       "      <td>0.031871</td>\n",
       "      <td>0.000010</td>\n",
       "      <td>0.000010</td>\n",
       "      <td>0.000010</td>\n",
       "      <td>0.003233</td>\n",
       "      <td>0.000010</td>\n",
       "      <td>0.003695</td>\n",
       "      <td>0.000010</td>\n",
       "    </tr>\n",
       "    <tr>\n",
       "      <th>l</th>\n",
       "      <td>0.141416</td>\n",
       "      <td>0.073164</td>\n",
       "      <td>0.000393</td>\n",
       "      <td>0.001572</td>\n",
       "      <td>0.084365</td>\n",
       "      <td>0.149145</td>\n",
       "      <td>0.026593</td>\n",
       "      <td>0.000983</td>\n",
       "      <td>0.000010</td>\n",
       "      <td>0.116460</td>\n",
       "      <td>...</td>\n",
       "      <td>0.000010</td>\n",
       "      <td>0.003406</td>\n",
       "      <td>0.007402</td>\n",
       "      <td>0.024825</td>\n",
       "      <td>0.010808</td>\n",
       "      <td>0.005044</td>\n",
       "      <td>0.007205</td>\n",
       "      <td>0.000010</td>\n",
       "      <td>0.103098</td>\n",
       "      <td>0.000010</td>\n",
       "    </tr>\n",
       "    <tr>\n",
       "      <th>m</th>\n",
       "      <td>0.149714</td>\n",
       "      <td>0.139823</td>\n",
       "      <td>0.009891</td>\n",
       "      <td>0.000010</td>\n",
       "      <td>0.003019</td>\n",
       "      <td>0.227486</td>\n",
       "      <td>0.004685</td>\n",
       "      <td>0.000010</td>\n",
       "      <td>0.000010</td>\n",
       "      <td>0.108693</td>\n",
       "      <td>...</td>\n",
       "      <td>0.000010</td>\n",
       "      <td>0.056950</td>\n",
       "      <td>0.027069</td>\n",
       "      <td>0.001249</td>\n",
       "      <td>0.069339</td>\n",
       "      <td>0.000104</td>\n",
       "      <td>0.000010</td>\n",
       "      <td>0.000010</td>\n",
       "      <td>0.027069</td>\n",
       "      <td>0.000010</td>\n",
       "    </tr>\n",
       "    <tr>\n",
       "      <th>n</th>\n",
       "      <td>0.297254</td>\n",
       "      <td>0.124341</td>\n",
       "      <td>0.000174</td>\n",
       "      <td>0.030528</td>\n",
       "      <td>0.123762</td>\n",
       "      <td>0.073539</td>\n",
       "      <td>0.004605</td>\n",
       "      <td>0.100649</td>\n",
       "      <td>0.000290</td>\n",
       "      <td>0.016944</td>\n",
       "      <td>...</td>\n",
       "      <td>0.001101</td>\n",
       "      <td>0.002346</td>\n",
       "      <td>0.024156</td>\n",
       "      <td>0.070845</td>\n",
       "      <td>0.003765</td>\n",
       "      <td>0.004692</td>\n",
       "      <td>0.002694</td>\n",
       "      <td>0.000985</td>\n",
       "      <td>0.012483</td>\n",
       "      <td>0.000029</td>\n",
       "    </tr>\n",
       "    <tr>\n",
       "      <th>o</th>\n",
       "      <td>0.159366</td>\n",
       "      <td>0.002136</td>\n",
       "      <td>0.008218</td>\n",
       "      <td>0.005394</td>\n",
       "      <td>0.016690</td>\n",
       "      <td>0.002136</td>\n",
       "      <td>0.103577</td>\n",
       "      <td>0.003331</td>\n",
       "      <td>0.002100</td>\n",
       "      <td>0.009594</td>\n",
       "      <td>...</td>\n",
       "      <td>0.000145</td>\n",
       "      <td>0.104229</td>\n",
       "      <td>0.027804</td>\n",
       "      <td>0.073601</td>\n",
       "      <td>0.143654</td>\n",
       "      <td>0.019007</td>\n",
       "      <td>0.044168</td>\n",
       "      <td>0.000253</td>\n",
       "      <td>0.002896</td>\n",
       "      <td>0.000072</td>\n",
       "    </tr>\n",
       "    <tr>\n",
       "      <th>p</th>\n",
       "      <td>0.038878</td>\n",
       "      <td>0.112334</td>\n",
       "      <td>0.000172</td>\n",
       "      <td>0.000010</td>\n",
       "      <td>0.000010</td>\n",
       "      <td>0.196972</td>\n",
       "      <td>0.000010</td>\n",
       "      <td>0.000010</td>\n",
       "      <td>0.009290</td>\n",
       "      <td>0.045243</td>\n",
       "      <td>...</td>\n",
       "      <td>0.000010</td>\n",
       "      <td>0.150181</td>\n",
       "      <td>0.014106</td>\n",
       "      <td>0.080509</td>\n",
       "      <td>0.018063</td>\n",
       "      <td>0.000010</td>\n",
       "      <td>0.000344</td>\n",
       "      <td>0.000010</td>\n",
       "      <td>0.012730</td>\n",
       "      <td>0.000010</td>\n",
       "    </tr>\n",
       "    <tr>\n",
       "      <th>q</th>\n",
       "      <td>0.009980</td>\n",
       "      <td>0.000010</td>\n",
       "      <td>0.000010</td>\n",
       "      <td>0.000010</td>\n",
       "      <td>0.000010</td>\n",
       "      <td>0.000010</td>\n",
       "      <td>0.000010</td>\n",
       "      <td>0.000010</td>\n",
       "      <td>0.000010</td>\n",
       "      <td>0.000010</td>\n",
       "      <td>...</td>\n",
       "      <td>0.000010</td>\n",
       "      <td>0.000010</td>\n",
       "      <td>0.000010</td>\n",
       "      <td>0.000010</td>\n",
       "      <td>0.990020</td>\n",
       "      <td>0.000010</td>\n",
       "      <td>0.000010</td>\n",
       "      <td>0.000010</td>\n",
       "      <td>0.000010</td>\n",
       "      <td>0.000010</td>\n",
       "    </tr>\n",
       "    <tr>\n",
       "      <th>r</th>\n",
       "      <td>0.283479</td>\n",
       "      <td>0.043834</td>\n",
       "      <td>0.000511</td>\n",
       "      <td>0.009983</td>\n",
       "      <td>0.025028</td>\n",
       "      <td>0.221257</td>\n",
       "      <td>0.005293</td>\n",
       "      <td>0.003993</td>\n",
       "      <td>0.003390</td>\n",
       "      <td>0.064357</td>\n",
       "      <td>...</td>\n",
       "      <td>0.000010</td>\n",
       "      <td>0.015695</td>\n",
       "      <td>0.064218</td>\n",
       "      <td>0.051867</td>\n",
       "      <td>0.015509</td>\n",
       "      <td>0.011469</td>\n",
       "      <td>0.003343</td>\n",
       "      <td>0.000010</td>\n",
       "      <td>0.050056</td>\n",
       "      <td>0.000010</td>\n",
       "    </tr>\n",
       "    <tr>\n",
       "      <th>s</th>\n",
       "      <td>0.368791</td>\n",
       "      <td>0.037962</td>\n",
       "      <td>0.001679</td>\n",
       "      <td>0.010032</td>\n",
       "      <td>0.000663</td>\n",
       "      <td>0.124669</td>\n",
       "      <td>0.002077</td>\n",
       "      <td>0.007955</td>\n",
       "      <td>0.086044</td>\n",
       "      <td>0.062047</td>\n",
       "      <td>...</td>\n",
       "      <td>0.000486</td>\n",
       "      <td>0.000133</td>\n",
       "      <td>0.057539</td>\n",
       "      <td>0.107743</td>\n",
       "      <td>0.039730</td>\n",
       "      <td>0.000010</td>\n",
       "      <td>0.003138</td>\n",
       "      <td>0.000010</td>\n",
       "      <td>0.001900</td>\n",
       "      <td>0.000010</td>\n",
       "    </tr>\n",
       "    <tr>\n",
       "      <th>t</th>\n",
       "      <td>0.281403</td>\n",
       "      <td>0.045445</td>\n",
       "      <td>0.000010</td>\n",
       "      <td>0.002425</td>\n",
       "      <td>0.000010</td>\n",
       "      <td>0.084641</td>\n",
       "      <td>0.000870</td>\n",
       "      <td>0.000249</td>\n",
       "      <td>0.296354</td>\n",
       "      <td>0.063225</td>\n",
       "      <td>...</td>\n",
       "      <td>0.000010</td>\n",
       "      <td>0.018837</td>\n",
       "      <td>0.014734</td>\n",
       "      <td>0.025302</td>\n",
       "      <td>0.014361</td>\n",
       "      <td>0.000010</td>\n",
       "      <td>0.013304</td>\n",
       "      <td>0.000010</td>\n",
       "      <td>0.015542</td>\n",
       "      <td>0.000010</td>\n",
       "    </tr>\n",
       "    <tr>\n",
       "      <th>u</th>\n",
       "      <td>0.062624</td>\n",
       "      <td>0.031511</td>\n",
       "      <td>0.013817</td>\n",
       "      <td>0.056759</td>\n",
       "      <td>0.013419</td>\n",
       "      <td>0.024751</td>\n",
       "      <td>0.005368</td>\n",
       "      <td>0.053479</td>\n",
       "      <td>0.000010</td>\n",
       "      <td>0.045825</td>\n",
       "      <td>...</td>\n",
       "      <td>0.000010</td>\n",
       "      <td>0.130318</td>\n",
       "      <td>0.147117</td>\n",
       "      <td>0.128330</td>\n",
       "      <td>0.000010</td>\n",
       "      <td>0.000199</td>\n",
       "      <td>0.000010</td>\n",
       "      <td>0.000099</td>\n",
       "      <td>0.000298</td>\n",
       "      <td>0.000298</td>\n",
       "    </tr>\n",
       "    <tr>\n",
       "      <th>v</th>\n",
       "      <td>0.000010</td>\n",
       "      <td>0.057716</td>\n",
       "      <td>0.000010</td>\n",
       "      <td>0.000010</td>\n",
       "      <td>0.000010</td>\n",
       "      <td>0.751528</td>\n",
       "      <td>0.000010</td>\n",
       "      <td>0.000010</td>\n",
       "      <td>0.000010</td>\n",
       "      <td>0.156273</td>\n",
       "      <td>...</td>\n",
       "      <td>0.000010</td>\n",
       "      <td>0.000489</td>\n",
       "      <td>0.000010</td>\n",
       "      <td>0.000010</td>\n",
       "      <td>0.000010</td>\n",
       "      <td>0.000010</td>\n",
       "      <td>0.000010</td>\n",
       "      <td>0.000010</td>\n",
       "      <td>0.004647</td>\n",
       "      <td>0.000010</td>\n",
       "    </tr>\n",
       "    <tr>\n",
       "      <th>w</th>\n",
       "      <td>0.094436</td>\n",
       "      <td>0.252588</td>\n",
       "      <td>0.000010</td>\n",
       "      <td>0.000010</td>\n",
       "      <td>0.000910</td>\n",
       "      <td>0.166231</td>\n",
       "      <td>0.000455</td>\n",
       "      <td>0.000010</td>\n",
       "      <td>0.155877</td>\n",
       "      <td>0.158835</td>\n",
       "      <td>...</td>\n",
       "      <td>0.000010</td>\n",
       "      <td>0.006485</td>\n",
       "      <td>0.005234</td>\n",
       "      <td>0.000114</td>\n",
       "      <td>0.000010</td>\n",
       "      <td>0.000010</td>\n",
       "      <td>0.000010</td>\n",
       "      <td>0.000010</td>\n",
       "      <td>0.000228</td>\n",
       "      <td>0.000010</td>\n",
       "    </tr>\n",
       "    <tr>\n",
       "      <th>x</th>\n",
       "      <td>0.053640</td>\n",
       "      <td>0.063218</td>\n",
       "      <td>0.000010</td>\n",
       "      <td>0.237548</td>\n",
       "      <td>0.000010</td>\n",
       "      <td>0.090038</td>\n",
       "      <td>0.000010</td>\n",
       "      <td>0.000010</td>\n",
       "      <td>0.003831</td>\n",
       "      <td>0.137931</td>\n",
       "      <td>...</td>\n",
       "      <td>0.013410</td>\n",
       "      <td>0.000010</td>\n",
       "      <td>0.000010</td>\n",
       "      <td>0.181992</td>\n",
       "      <td>0.005747</td>\n",
       "      <td>0.000010</td>\n",
       "      <td>0.000010</td>\n",
       "      <td>0.000010</td>\n",
       "      <td>0.000010</td>\n",
       "      <td>0.000010</td>\n",
       "    </tr>\n",
       "    <tr>\n",
       "      <th>y</th>\n",
       "      <td>0.737086</td>\n",
       "      <td>0.001060</td>\n",
       "      <td>0.005166</td>\n",
       "      <td>0.000010</td>\n",
       "      <td>0.000265</td>\n",
       "      <td>0.040000</td>\n",
       "      <td>0.000132</td>\n",
       "      <td>0.000010</td>\n",
       "      <td>0.000010</td>\n",
       "      <td>0.014967</td>\n",
       "      <td>...</td>\n",
       "      <td>0.000010</td>\n",
       "      <td>0.000530</td>\n",
       "      <td>0.027682</td>\n",
       "      <td>0.017881</td>\n",
       "      <td>0.000010</td>\n",
       "      <td>0.000010</td>\n",
       "      <td>0.001589</td>\n",
       "      <td>0.000010</td>\n",
       "      <td>0.000010</td>\n",
       "      <td>0.000010</td>\n",
       "    </tr>\n",
       "    <tr>\n",
       "      <th>z</th>\n",
       "      <td>0.020833</td>\n",
       "      <td>0.645833</td>\n",
       "      <td>0.000010</td>\n",
       "      <td>0.000010</td>\n",
       "      <td>0.000010</td>\n",
       "      <td>0.270833</td>\n",
       "      <td>0.000010</td>\n",
       "      <td>0.000010</td>\n",
       "      <td>0.000010</td>\n",
       "      <td>0.027778</td>\n",
       "      <td>...</td>\n",
       "      <td>0.000010</td>\n",
       "      <td>0.000010</td>\n",
       "      <td>0.000010</td>\n",
       "      <td>0.000010</td>\n",
       "      <td>0.006944</td>\n",
       "      <td>0.000010</td>\n",
       "      <td>0.000010</td>\n",
       "      <td>0.000010</td>\n",
       "      <td>0.000010</td>\n",
       "      <td>0.020833</td>\n",
       "    </tr>\n",
       "  </tbody>\n",
       "</table>\n",
       "<p>27 rows × 27 columns</p>\n",
       "</div>"
      ],
      "text/plain": [
       "then                   a         b         c         d         e         f  \\\n",
       "if                                                                           \n",
       "      0.095631  0.104807  0.044126  0.037364  0.021148  0.021077  0.029647   \n",
       "a     0.057502  0.000010  0.018195  0.025413  0.063036  0.000180  0.007458   \n",
       "b     0.003326  0.058123  0.004727  0.000010  0.000700  0.461485  0.000010   \n",
       "c     0.004496  0.115570  0.000010  0.021491  0.000110  0.167873  0.000010   \n",
       "d     0.664538  0.022452  0.000010  0.000066  0.005926  0.108309  0.001119   \n",
       "e     0.340522  0.044110  0.000320  0.019945  0.072068  0.034926  0.007480   \n",
       "f     0.404615  0.065153  0.000010  0.000010  0.000010  0.106737  0.043929   \n",
       "g     0.406798  0.053752  0.000010  0.000010  0.000553  0.123808  0.000010   \n",
       "h     0.123516  0.189962  0.001075  0.000010  0.000172  0.439833  0.000215   \n",
       "i     0.046209  0.010967  0.007558  0.043703  0.032819  0.037830  0.020414   \n",
       "j     0.000010  0.029070  0.000010  0.000010  0.000010  0.305233  0.000010   \n",
       "k     0.318245  0.003233  0.000010  0.000010  0.000010  0.333025  0.012009   \n",
       "l     0.141416  0.073164  0.000393  0.001572  0.084365  0.149145  0.026593   \n",
       "m     0.149714  0.139823  0.009891  0.000010  0.003019  0.227486  0.004685   \n",
       "n     0.297254  0.124341  0.000174  0.030528  0.123762  0.073539  0.004605   \n",
       "o     0.159366  0.002136  0.008218  0.005394  0.016690  0.002136  0.103577   \n",
       "p     0.038878  0.112334  0.000172  0.000010  0.000010  0.196972  0.000010   \n",
       "q     0.009980  0.000010  0.000010  0.000010  0.000010  0.000010  0.000010   \n",
       "r     0.283479  0.043834  0.000511  0.009983  0.025028  0.221257  0.005293   \n",
       "s     0.368791  0.037962  0.001679  0.010032  0.000663  0.124669  0.002077   \n",
       "t     0.281403  0.045445  0.000010  0.002425  0.000010  0.084641  0.000870   \n",
       "u     0.062624  0.031511  0.013817  0.056759  0.013419  0.024751  0.005368   \n",
       "v     0.000010  0.057716  0.000010  0.000010  0.000010  0.751528  0.000010   \n",
       "w     0.094436  0.252588  0.000010  0.000010  0.000910  0.166231  0.000455   \n",
       "x     0.053640  0.063218  0.000010  0.237548  0.000010  0.090038  0.000010   \n",
       "y     0.737086  0.001060  0.005166  0.000010  0.000265  0.040000  0.000132   \n",
       "z     0.020833  0.645833  0.000010  0.000010  0.000010  0.270833  0.000010   \n",
       "\n",
       "then         g         h         i    ...            q         r         s  \\\n",
       "if                                    ...                                    \n",
       "      0.013102  0.076270  0.054762    ...     0.002333  0.016822  0.069025   \n",
       "a     0.017894  0.000391  0.038766    ...     0.000010  0.079907  0.093321   \n",
       "b     0.000010  0.000010  0.015406    ...     0.000010  0.033964  0.017157   \n",
       "c     0.000010  0.187829  0.042982    ...     0.010636  0.040241  0.000548   \n",
       "d     0.006321  0.000066  0.064986    ...     0.000010  0.011917  0.017382   \n",
       "e     0.004816  0.001279  0.016365    ...     0.002493  0.156474  0.054680   \n",
       "f     0.000010  0.000010  0.060834    ...     0.000010  0.065400  0.000494   \n",
       "g     0.004560  0.136935  0.048501    ...     0.000010  0.086638  0.022661   \n",
       "h     0.000010  0.000043  0.125538    ...     0.000010  0.005591  0.001247   \n",
       "i     0.025384  0.000041  0.000041    ...     0.000010  0.045880  0.109176   \n",
       "j     0.000010  0.000010  0.000010    ...     0.000010  0.000010  0.000010   \n",
       "k     0.000010  0.000924  0.131640    ...     0.000010  0.000010  0.031871   \n",
       "l     0.000983  0.000010  0.116460    ...     0.000010  0.003406  0.007402   \n",
       "m     0.000010  0.000010  0.108693    ...     0.000010  0.056950  0.027069   \n",
       "n     0.100649  0.000290  0.016944    ...     0.001101  0.002346  0.024156   \n",
       "o     0.003331  0.002100  0.009594    ...     0.000145  0.104229  0.027804   \n",
       "p     0.000010  0.009290  0.045243    ...     0.000010  0.150181  0.014106   \n",
       "q     0.000010  0.000010  0.000010    ...     0.000010  0.000010  0.000010   \n",
       "r     0.003993  0.003390  0.064357    ...     0.000010  0.015695  0.064218   \n",
       "s     0.007955  0.086044  0.062047    ...     0.000486  0.000133  0.057539   \n",
       "t     0.000249  0.296354  0.063225    ...     0.000010  0.018837  0.014734   \n",
       "u     0.053479  0.000010  0.045825    ...     0.000010  0.130318  0.147117   \n",
       "v     0.000010  0.000010  0.156273    ...     0.000010  0.000489  0.000010   \n",
       "w     0.000010  0.155877  0.158835    ...     0.000010  0.006485  0.005234   \n",
       "x     0.000010  0.003831  0.137931    ...     0.013410  0.000010  0.000010   \n",
       "y     0.000010  0.000010  0.014967    ...     0.000010  0.000530  0.027682   \n",
       "z     0.000010  0.000010  0.027778    ...     0.000010  0.000010  0.000010   \n",
       "\n",
       "then         t         u         v         w         x         y         z  \n",
       "if                                                                          \n",
       "      0.114231  0.007748  0.007111  0.064401  0.000010  0.011489  0.000092  \n",
       "a     0.103185  0.006105  0.027518  0.006376  0.000090  0.026165  0.000361  \n",
       "b     0.008754  0.131478  0.000175  0.000010  0.000010  0.074580  0.000010  \n",
       "c     0.079276  0.033224  0.000010  0.000010  0.000010  0.005373  0.000010  \n",
       "d     0.000066  0.011851  0.003160  0.001053  0.000010  0.023045  0.000010  \n",
       "e     0.028064  0.000234  0.019413  0.005945  0.009312  0.012295  0.000043  \n",
       "f     0.040844  0.030355  0.000010  0.000010  0.000010  0.002591  0.000010  \n",
       "g     0.002211  0.014647  0.000010  0.000010  0.000010  0.001796  0.000010  \n",
       "h     0.027525  0.005419  0.000010  0.000010  0.000010  0.002322  0.000010  \n",
       "i     0.136244  0.000205  0.020866  0.000010  0.001643  0.000010  0.004600  \n",
       "j     0.000010  0.424419  0.000010  0.000010  0.000010  0.000010  0.000010  \n",
       "k     0.000010  0.000010  0.000010  0.003233  0.000010  0.003695  0.000010  \n",
       "l     0.024825  0.010808  0.005044  0.007205  0.000010  0.103098  0.000010  \n",
       "m     0.001249  0.069339  0.000104  0.000010  0.000010  0.027069  0.000010  \n",
       "n     0.070845  0.003765  0.004692  0.002694  0.000985  0.012483  0.000029  \n",
       "o     0.073601  0.143654  0.019007  0.044168  0.000253  0.002896  0.000072  \n",
       "p     0.080509  0.018063  0.000010  0.000344  0.000010  0.012730  0.000010  \n",
       "q     0.000010  0.990020  0.000010  0.000010  0.000010  0.000010  0.000010  \n",
       "r     0.051867  0.015509  0.011469  0.003343  0.000010  0.050056  0.000010  \n",
       "s     0.107743  0.039730  0.000010  0.003138  0.000010  0.001900  0.000010  \n",
       "t     0.025302  0.014361  0.000010  0.013304  0.000010  0.015542  0.000010  \n",
       "u     0.128330  0.000010  0.000199  0.000010  0.000099  0.000298  0.000298  \n",
       "v     0.000010  0.000010  0.000010  0.000010  0.000010  0.004647  0.000010  \n",
       "w     0.000114  0.000010  0.000010  0.000010  0.000010  0.000228  0.000010  \n",
       "x     0.181992  0.005747  0.000010  0.000010  0.000010  0.000010  0.000010  \n",
       "y     0.017881  0.000010  0.000010  0.001589  0.000010  0.000010  0.000010  \n",
       "z     0.000010  0.006944  0.000010  0.000010  0.000010  0.000010  0.020833  \n",
       "\n",
       "[27 rows x 27 columns]"
      ]
     },
     "execution_count": 93,
     "metadata": {},
     "output_type": "execute_result"
    }
   ],
   "source": [
    "BGM"
   ]
  },
  {
   "cell_type": "code",
   "execution_count": 94,
   "metadata": {
    "colab": {},
    "colab_type": "code",
    "id": "97I928rTa6pi",
    "outputId": "09f25623-fd4f-47dc-dc41-3109b46450a1"
   },
   "outputs": [
    {
     "data": {
      "text/plain": [
       "<matplotlib.axes._subplots.AxesSubplot at 0x11823eba8>"
      ]
     },
     "execution_count": 94,
     "metadata": {},
     "output_type": "execute_result"
    },
    {
     "data": {
      "image/png": "[encoded data removed]",
      "text/plain": [
       "<Figure size 432x288 with 1 Axes>"
      ]
     },
     "metadata": {
      "needs_background": "light"
     },
     "output_type": "display_data"
    }
   ],
   "source": [
    "BGM.loc['q'].plot(kind='bar')"
   ]
  },
  {
   "cell_type": "code",
   "execution_count": null,
   "metadata": {
    "colab": {},
    "colab_type": "code",
    "id": "IqyjdB0ta6px",
    "outputId": "32bc9042-e607-44b9-dc88-aac3777f9de1"
   },
   "outputs": [],
   "source": [
    "BGM"
   ]
  },
  {
   "cell_type": "code",
   "execution_count": 95,
   "metadata": {
    "colab": {},
    "colab_type": "code",
    "id": "qEFu-iNKa6p7",
    "outputId": "255221bb-4ebd-4f48-e21b-8295dfb6c474"
   },
   "outputs": [
    {
     "data": {
      "text/plain": [
       "'u'"
      ]
     },
     "execution_count": 95,
     "metadata": {},
     "output_type": "execute_result"
    }
   ],
   "source": [
    "BGM.loc['q'].idxmax()"
   ]
  },
  {
   "cell_type": "markdown",
   "metadata": {
    "colab_type": "text",
    "id": "aYKNbehTa6qG"
   },
   "source": [
    "## Get entropy of characters as antecendents"
   ]
  },
  {
   "cell_type": "code",
   "execution_count": 96,
   "metadata": {
    "colab": {},
    "colab_type": "code",
    "id": "93JtvnP7a6qJ"
   },
   "outputs": [],
   "source": [
    "import numpy as np"
   ]
  },
  {
   "cell_type": "code",
   "execution_count": 97,
   "metadata": {
    "colab": {},
    "colab_type": "code",
    "id": "zCA1mNhfa6qR",
    "outputId": "b084247c-6d0e-4ca9-d0ce-5f993ce2b8c9"
   },
   "outputs": [
    {
     "data": {
      "text/plain": [
       "<matplotlib.axes._subplots.AxesSubplot at 0x118782b70>"
      ]
     },
     "execution_count": 97,
     "metadata": {},
     "output_type": "execute_result"
    },
    {
     "data": {
      "image/png": "[encoded data removed]",
      "text/plain": [
       "<Figure size 720x720 with 1 Axes>"
      ]
     },
     "metadata": {
      "needs_background": "light"
     },
     "output_type": "display_data"
    }
   ],
   "source": [
    "BGM.apply(lambda x: -sum(x * np.log2(x)), 1).sort_values(ascending=False).plot(kind='barh', figsize=(10,10))"
   ]
  },
  {
   "cell_type": "markdown",
   "metadata": {
    "colab_type": "text",
    "id": "nBlWBB8oa6qb"
   },
   "source": [
    "### Define function to sample a single letter"
   ]
  },
  {
   "cell_type": "code",
   "execution_count": 89,
   "metadata": {
    "colab": {},
    "colab_type": "code",
    "id": "0A4EyK44a6qb"
   },
   "outputs": [],
   "source": [
    "def get_letter(weights=[]):\n",
    "    if len(weights) == 0:\n",
    "        p = 1/alpha.shape[0]\n",
    "        weights = [p for i in range(alpha.shape[0])]\n",
    "    msg = alpha.sample(1, replace=True, weights=weights).values[0]\n",
    "    return msg"
   ]
  },
  {
   "cell_type": "code",
   "execution_count": 90,
   "metadata": {
    "colab": {},
    "colab_type": "code",
    "id": "K-NMuYz2a6qh",
    "outputId": "23fd2a99-1806-46c3-c97e-536bbc8a4cdd"
   },
   "outputs": [
    {
     "data": {
      "text/plain": [
       "'u'"
      ]
     },
     "execution_count": 90,
     "metadata": {},
     "output_type": "execute_result"
    }
   ],
   "source": [
    "# Test\n",
    "get_letter(weights=BGM.loc['q'].values)"
   ]
  },
  {
   "cell_type": "markdown",
   "metadata": {
    "colab_type": "text",
    "id": "GFJO-qWfa6qo",
    "toc-hr-collapsed": true
   },
   "source": [
    "### Generate text"
   ]
  },
  {
   "cell_type": "code",
   "execution_count": 91,
   "metadata": {
    "colab": {},
    "colab_type": "code",
    "id": "gQyo_aVla6qr"
   },
   "outputs": [],
   "source": [
    "def print_page2(n_pages=1):\n",
    "    n = 80 * 40 * n_pages\n",
    "    ltrs = []\n",
    "    ltrs.append(get_letter())\n",
    "    for i in range(n):\n",
    "        ltrs.append(get_letter(weights=BGM.loc[ltrs[-1]].values))\n",
    "    txt = ''.join(ltrs)\n",
    "    lines = 0\n",
    "    for i in range(0, len(txt), 80):\n",
    "        print(txt[i:i + 80])\n",
    "        if i % 80 == 0:\n",
    "            lines += 1\n",
    "        if i > 0 and lines % 40 == 1:\n",
    "            print()\n",
    "            print('-' * 80)\n",
    "            print()"
   ]
  },
  {
   "cell_type": "code",
   "execution_count": 92,
   "metadata": {
    "colab": {},
    "colab_type": "code",
    "id": "jadLMLWla6q1",
    "outputId": "2246510c-fbf3-488d-c961-83a136538c77"
   },
   "outputs": [
    {
     "name": "stdout",
     "output_type": "stream",
     "text": [
      "je goryopond beron itwon ll wons  w nd sanwheatujud  e od on meth  g ie of thipa\n",
      "tabee mansejutonachidis ad   hor m mpe aten rato hes f gripte ngogsot  ad bed f \n",
      "s e he farwerifanan ptesed here bralen y th soo smean saniedse as where se r ys \n",
      "y peagr eed ticrveanangs s butwexerusthe adioke h tippry s n hee frdoto atyouses\n",
      "oyitshetico a co here busqut o savey tond ar iththenagrd and  thit d fom toutous\n",
      " wary wnavidioue he  ke nd   n we therosouig neserer cofes bayor aroo ghur it e \n",
      "hekear  n ce aler ansore  ankead cen rounavin nleankemerutenasgheif muse in t hi\n",
      "nyorscr in soust t stthertal hessheane qupothensto o i ns nt ter bel st k ellote\n",
      "l eard thind y hlen shengi e  citotin therithiknd jese nd whanandig o hams arupo\n",
      "nds ined d er hencl angg  s ne odooue ilasld conoonalllitheven  hengad hat rt ng\n",
      "ran han ts waingad m avis my f hen ly osin on kn   an wer  ay therys t wanis n t\n",
      " eng qusususcoubed wan nd mber anotherie  ivenarlio whallfueneiotheven w cen of \n",
      "cor and ons ho ined waderto  hlun bulfinyor ton a t osobust th nor  nd nothengha\n",
      "re e ho hicemmiro blle ld be there  ntindinelie tersss rn mroworhon paicaroteme \n",
      "wang bed co e sotury hevery thand  de t i lk r  an n te n s t nglles has n and  \n",
      "i gean  ch apalyo ngorged gr besode in tho m thithio tor lerhelid o ad watlly so\n",
      " icisthin d ouceetherectheligotersiment y bed erimff usuprernan des  cr aren y a\n",
      "ng gherito ome f hiseced meery spealeltupre was hed waperrth e r wisto orn thona\n",
      "r s abor apllfflla  and  cl nas cowo ve owertind f oth wais her wass hacit s fto\n",
      "mamoo torand t oulellis mitwonds nalatibuind pt arurth h f wein cagonimen  and t\n",
      " the llonjo pofou d tot okees cty hawilibe s f wanaronas n fr  nd tises bed thto\n",
      "rofina se iousesariourere d abely ict s dwom ho nar cone butheerur rk her n h hi\n",
      " ewer g tan owo ins r atel ndrs y mes bserel ash irely nend  tht be t sanseillll\n",
      "ere cte winthttr  ditelim nanlexcheng ben  ardimbinsed ndmynowithan yong ng liou\n",
      "sothokeito a hin o atrthioulilveaser veded of pppave gad nd natot balat areanodo\n",
      "reritheakis n h foo ter a aulwithiey ashangay ithe mant mal se   t be nad wallia\n",
      "lanord ad d wous bur g mind y hayon  these a  ll   s cong on ches whe bon am non\n",
      "ted heasurfeel ingncit wint cenas chime mand aibansicod aspe  t ry susupe ompe t\n",
      "ithe g bld ly er hith e clirle winsh heay tthaspe ththegey mope whe e heven d au\n",
      "s e n h whent be anastemeptioft te  ar quto hanouim tysang win e d hangot itharo\n",
      "pethe  dullld than eroman  athe tenerid ast regllo tita th id rerng soldinsthed \n",
      "hel ow ame t ar ck beapld cofthe ok d  asisss w theng handmnofand ct acor ad ng \n",
      "ang as winth  nevecch r ply   isingr ind msamaches and hobe ory onckexceris whar\n",
      "t favely juty bey  th mule t  s  ro whan enand ctin tomy uto turo me sed herche \n",
      "thonyous inddyod lly onos roregithe mang elerimisit t n wad n wi s f rs tss msue\n",
      " iry aburtiabaliasheendilyo ange muby enicunat nicon  e t mured antid an ery out\n",
      "obe capun talutothanthas ar bere bs  winem the mbacercald pry cre ld h t  rin na\n",
      "s hered w t h s llkn cl rspr pound w aty fe begou eve t sthof norerenate  g pr n\n",
      " sso wor d cer the  l w hisothis haromextourtheminano e th iered messianeans  he\n",
      "n nay ovedsst g  thof iee s feanastet atik atand beartaseet lo helucong iof f ot\n",
      " d  g h habe t   ey asong tof anali hand nay ctcetif nand eg wh thoust apldinu t\n",
      "\n",
      "--------------------------------------------------------------------------------\n",
      "\n",
      "haper  ld  a be tat n e ha he y thang venkeatostrevedote cllolesursubaioctowerea\n",
      "y t m fthenveeand t tteng  ilying bers tlang asowe ang adentonfashe  barsthis ti\n",
      "nthe con mr s cet ce he wichedoo  me d ho k t  footht oonon wane s fon hino inn \n",
      "on bethe rngour s llin ut ice he sany wave   hin t and n inconewirond at y w ay \n",
      " thend comody n   r stherct co a ason pesht  lal saverollr fer t pofemon thay wi\n",
      "t mplifay n ber a w  min ondit vee when satos  s who ts h tored an ilogthe aseha\n",
      "nt acast a ap o shen s  an ingh proff ichowallenoly hechilocqurerthengheresedend\n",
      " t cew meide ply man atwand n very wis  thes wasove whexcaty be  chacoui na  k c\n",
      "ouctues momrad mo beds o han londowheing anclf ak tre oferceve shen thide angrst\n",
      " now ppaten  wlo the has loustir cabe ieduey heeckear le hi oug ped ck abys heck\n",
      "ia youleabecomis suckird her bemo an aly therofovend tr my eserd  hef hirvey wad\n",
      "   ber ngrexphe   smifendy  it y i ivisofly ts hme whin d k oned dge haf wous bu\n",
      "sconkelede nheresicts bly preeasm th g kenth be tlee sare tofougr wakinlio insoo\n",
      "f orrapoft an s eined thin wey altecur n fo  opevea whirs nainoun tabenghangeeke\n",
      "serithe hased we wath a halliely ythad s thabenndeomeedy t mrotyeveren  f  terar\n",
      "yiom e anan ain averer thele cai he wn  t ff ato  atheroushee o h as  kiowhess w\n",
      "ele nthananod lk i yoused  heyeanllin ainn hothain adel f ten anir s ang  s m ab\n",
      "e uare sed anchid in bute hadory we th eerhatakns t ticandest the huconclevanaty\n",
      " an len nd acr w abe me t caseserethont s  hevesshe d weadoud en f nawe butind g\n",
      "owo in tan a re ory boro bjutunthmanomr wanat sioteman ompouofon ad ast h ine ch\n",
      "ely hthit  u tr thong t s h terove llll nomig tovas pefoced lede h ast  owanemer\n",
      "y awin is vime mus hang nshabe thy n t ime illly gr the art nd hemimofoumald d a\n",
      "devipren k mm nabeent siofo   apre algh d ithed aicltman anoren ththiofow hirthe\n",
      "eard liede ha thanch led  miby eceriveiornd testicker kevemof moursh wanpre  bre\n",
      " ing alt henovern whid sish be mpr wile mertastchor mandenadewad tr  w rand hade\n",
      " and bug i  be cad stoutof te iryothrmaly wild ofr arereverg anant twingur a tic\n",
      "an o coongo souisominit las oupu t chtinth shin womaint chacr mat t ns stt be or\n",
      " ined i healdficofomstheve dranecaser o wifonng sishavid wo neresgys  sor  ldire\n",
      " ire were fieixirthanecan ghete e  aghles ty wins anthane e ion erve woumesantr \n",
      " an s ontaingrd m tomesaprerexirmean thefof ton rererangig wononesorinasalf stoc\n",
      "u  war ctonape th ere be bjontotots balde  rout apeced leaf ot he thest itars in\n",
      "ch tacarisan an blwhe cecag wh as st wense s arpomeitt severethe therine wattof \n",
      "ss  hena ad ad t theca h y haland hin wasalofre nrom whevers haser ppemistit wan\n",
      " os bind nas f  ceasst an henad io  h inar m t t  llly hestoptofos supl ce ar gr\n",
      "e tanele s akncootes hsusth chokind causempaderwano  o werro whabecthookierlea e\n",
      "wrde alyty por d tomithofthiost al ok timinalyoulit hald g thaf an sthainan wain\n",
      " thedr in   anang onad hancte ve  ther blald gre tontuthereasen alarchengishelit\n",
      " wi wof a anathicadar n ore  inag  anowe  tofas f teshery anat he   ghanoreth ir\n",
      "elos ag ainabesin at  ous dis n tht be ilithe n thits mscean o windedieesed f g \n",
      "o\n",
      "\n",
      "--------------------------------------------------------------------------------\n",
      "\n"
     ]
    }
   ],
   "source": [
    "print_page2(2)"
   ]
  },
  {
   "cell_type": "code",
   "execution_count": null,
   "metadata": {
    "colab": {},
    "colab_type": "code",
    "id": "0_WosKuOa6q9"
   },
   "outputs": [],
   "source": []
  }
 ],
 "metadata": {
  "colab": {
   "name": "babel.ipynb",
   "provenance": [],
   "toc_visible": true,
   "version": "0.3.2"
  },
  "kernelspec": {
   "display_name": "Python 3",
   "language": "python",
   "name": "python3"
  },
  "language_info": {
   "codemirror_mode": {
    "name": "ipython",
    "version": 3
   },
   "file_extension": ".py",
   "mimetype": "text/x-python",
   "name": "python",
   "nbconvert_exporter": "python",
   "pygments_lexer": "ipython3",
   "version": "3.6.5"
  }
 },
 "nbformat": 4,
 "nbformat_minor": 4
}
