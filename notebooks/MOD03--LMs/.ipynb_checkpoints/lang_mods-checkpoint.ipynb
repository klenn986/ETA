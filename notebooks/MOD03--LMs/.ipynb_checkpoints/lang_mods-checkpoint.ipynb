{
 "cells": [
  {
   "cell_type": "markdown",
   "metadata": {
    "colab_type": "text",
    "id": "Ai-gvPnADykO",
    "toc-hr-collapsed": true
   },
   "source": [
    "# Module 3: Infer Language Models\n",
    "\n",
    "* DS 6001\n",
    "* Raf Alvarado\n",
    "\n",
    "We now create a series of langage models and evaluate them."
   ]
  },
  {
   "cell_type": "markdown",
   "metadata": {},
   "source": [
    "# Configure"
   ]
  },
  {
   "cell_type": "code",
   "execution_count": 1,
   "metadata": {
    "colab": {},
    "colab_type": "code",
    "id": "Fb3ZsuIsDykn"
   },
   "outputs": [],
   "source": [
    "OHCO = ['book_id', 'chap_num', 'para_num', 'sent_num', 'token_num']\n",
    "text_file1 = '../MOD02--TextModels/austen-persuasion.csv'\n",
    "text_file2 = '../MOD02--TextModels/austen-sense.csv'"
   ]
  },
  {
   "cell_type": "markdown",
   "metadata": {
    "colab_type": "text",
    "id": "-5x8B8RODykY",
    "toc-hr-collapsed": true
   },
   "source": [
    "# Set Up"
   ]
  },
  {
   "cell_type": "code",
   "execution_count": 2,
   "metadata": {
    "colab": {},
    "colab_type": "code",
    "id": "MwrVU8kZDykb"
   },
   "outputs": [],
   "source": [
    "import pandas as pd\n",
    "import numpy as np\n",
    "import matplotlib.pyplot as plt\n",
    "import seaborn as sns; sns.set()\n",
    "%matplotlib inline"
   ]
  },
  {
   "cell_type": "markdown",
   "metadata": {},
   "source": [
    "# Import and combine texts"
   ]
  },
  {
   "cell_type": "code",
   "execution_count": 3,
   "metadata": {},
   "outputs": [],
   "source": [
    "text1 = pd.read_csv(text_file1, index_col=OHCO[1:])\n",
    "text2 = pd.read_csv(text_file2, index_col=OHCO[1:])"
   ]
  },
  {
   "cell_type": "code",
   "execution_count": 4,
   "metadata": {},
   "outputs": [],
   "source": [
    "text1['book_id'] = 1\n",
    "text2['book_id'] = 2"
   ]
  },
  {
   "cell_type": "code",
   "execution_count": 160,
   "metadata": {},
   "outputs": [],
   "source": [
    "corpus = pd.concat([text1, text2])\n",
    "corpus = corpus.reset_index().set_index(OHCO).fillna(' ')\n",
    "# corpus = corpus[~corpus.token_str.isna()]"
   ]
  },
  {
   "cell_type": "code",
   "execution_count": 167,
   "metadata": {},
   "outputs": [
    {
     "data": {
      "text/html": [
       "<div>\n",
       "<style scoped>\n",
       "    .dataframe tbody tr th:only-of-type {\n",
       "        vertical-align: middle;\n",
       "    }\n",
       "\n",
       "    .dataframe tbody tr th {\n",
       "        vertical-align: top;\n",
       "    }\n",
       "\n",
       "    .dataframe thead th {\n",
       "        text-align: right;\n",
       "    }\n",
       "</style>\n",
       "<table border=\"1\" class=\"dataframe\">\n",
       "  <thead>\n",
       "    <tr style=\"text-align: right;\">\n",
       "      <th></th>\n",
       "      <th></th>\n",
       "      <th></th>\n",
       "      <th></th>\n",
       "      <th></th>\n",
       "      <th>token_str</th>\n",
       "    </tr>\n",
       "    <tr>\n",
       "      <th>book_id</th>\n",
       "      <th>chap_num</th>\n",
       "      <th>para_num</th>\n",
       "      <th>sent_num</th>\n",
       "      <th>token_num</th>\n",
       "      <th></th>\n",
       "    </tr>\n",
       "  </thead>\n",
       "  <tbody>\n",
       "    <tr>\n",
       "      <th>1</th>\n",
       "      <th>1</th>\n",
       "      <th>10</th>\n",
       "      <th>8</th>\n",
       "      <th>18</th>\n",
       "      <td>with</td>\n",
       "    </tr>\n",
       "    <tr>\n",
       "      <th>2</th>\n",
       "      <th>31</th>\n",
       "      <th>28</th>\n",
       "      <th>27</th>\n",
       "      <th>2</th>\n",
       "      <td>I</td>\n",
       "    </tr>\n",
       "    <tr>\n",
       "      <th>1</th>\n",
       "      <th>22</th>\n",
       "      <th>7</th>\n",
       "      <th>1</th>\n",
       "      <th>7</th>\n",
       "      <td>body's</td>\n",
       "    </tr>\n",
       "    <tr>\n",
       "      <th rowspan=\"2\" valign=\"top\">2</th>\n",
       "      <th>33</th>\n",
       "      <th>52</th>\n",
       "      <th>3</th>\n",
       "      <th>18</th>\n",
       "      <td>good-natured</td>\n",
       "    </tr>\n",
       "    <tr>\n",
       "      <th>1</th>\n",
       "      <th>10</th>\n",
       "      <th>1</th>\n",
       "      <th>11</th>\n",
       "      <td>despise</td>\n",
       "    </tr>\n",
       "  </tbody>\n",
       "</table>\n",
       "</div>"
      ],
      "text/plain": [
       "                                                 token_str\n",
       "book_id chap_num para_num sent_num token_num              \n",
       "1       1        10       8        18                 with\n",
       "2       31       28       27       2                     I\n",
       "1       22       7        1        7                body's\n",
       "2       33       52       3        18         good-natured\n",
       "        1        10       1        11              despise"
      ]
     },
     "execution_count": 167,
     "metadata": {},
     "output_type": "execute_result"
    }
   ],
   "source": [
    "corpus.sample(5)"
   ]
  },
  {
   "cell_type": "markdown",
   "metadata": {},
   "source": [
    "# Create a vocabulary"
   ]
  },
  {
   "cell_type": "code",
   "execution_count": 168,
   "metadata": {},
   "outputs": [],
   "source": [
    "corpus['term_str'] =  corpus['token_str'].str.lower().str.replace(r'[\\W_]', '')\n",
    "corpus = corpus[~corpus.term_str.str.match(r'^\\s*$')]"
   ]
  },
  {
   "cell_type": "code",
   "execution_count": 171,
   "metadata": {},
   "outputs": [],
   "source": [
    "vocab = corpus['term_str'].value_counts()\\\n",
    "    .to_frame()\\\n",
    "    .reset_index()\\\n",
    "    .rename(columns={'term_str':'n', 'index':'term_str'})\\\n",
    "    .sort_values('term_str')\n",
    "vocab.index.name = 'term_id'"
   ]
  },
  {
   "cell_type": "code",
   "execution_count": 573,
   "metadata": {},
   "outputs": [
    {
     "data": {
      "text/html": [
       "<div>\n",
       "<style scoped>\n",
       "    .dataframe tbody tr th:only-of-type {\n",
       "        vertical-align: middle;\n",
       "    }\n",
       "\n",
       "    .dataframe tbody tr th {\n",
       "        vertical-align: top;\n",
       "    }\n",
       "\n",
       "    .dataframe thead th {\n",
       "        text-align: right;\n",
       "    }\n",
       "</style>\n",
       "<table border=\"1\" class=\"dataframe\">\n",
       "  <thead>\n",
       "    <tr style=\"text-align: right;\">\n",
       "      <th></th>\n",
       "      <th>term_str</th>\n",
       "      <th>n</th>\n",
       "      <th>p</th>\n",
       "      <th>log_p</th>\n",
       "    </tr>\n",
       "    <tr>\n",
       "      <th>term_id</th>\n",
       "      <th></th>\n",
       "      <th></th>\n",
       "      <th></th>\n",
       "      <th></th>\n",
       "    </tr>\n",
       "  </thead>\n",
       "  <tbody>\n",
       "    <tr>\n",
       "      <th>3659</th>\n",
       "      <td>1</td>\n",
       "      <td>3</td>\n",
       "      <td>0.000015</td>\n",
       "      <td>-16.040311</td>\n",
       "    </tr>\n",
       "    <tr>\n",
       "      <th>6747</th>\n",
       "      <td>15</td>\n",
       "      <td>1</td>\n",
       "      <td>0.000005</td>\n",
       "      <td>-17.625274</td>\n",
       "    </tr>\n",
       "    <tr>\n",
       "      <th>8163</th>\n",
       "      <td>16</td>\n",
       "      <td>1</td>\n",
       "      <td>0.000005</td>\n",
       "      <td>-17.625274</td>\n",
       "    </tr>\n",
       "    <tr>\n",
       "      <th>6062</th>\n",
       "      <td>1760</td>\n",
       "      <td>1</td>\n",
       "      <td>0.000005</td>\n",
       "      <td>-17.625274</td>\n",
       "    </tr>\n",
       "    <tr>\n",
       "      <th>8316</th>\n",
       "      <td>1784</td>\n",
       "      <td>1</td>\n",
       "      <td>0.000005</td>\n",
       "      <td>-17.625274</td>\n",
       "    </tr>\n",
       "  </tbody>\n",
       "</table>\n",
       "</div>"
      ],
      "text/plain": [
       "        term_str  n         p      log_p\n",
       "term_id                                 \n",
       "3659           1  3  0.000015 -16.040311\n",
       "6747          15  1  0.000005 -17.625274\n",
       "8163          16  1  0.000005 -17.625274\n",
       "6062        1760  1  0.000005 -17.625274\n",
       "8316        1784  1  0.000005 -17.625274"
      ]
     },
     "execution_count": 573,
     "metadata": {},
     "output_type": "execute_result"
    }
   ],
   "source": [
    "vocab.head()"
   ]
  },
  {
   "cell_type": "markdown",
   "metadata": {},
   "source": [
    "# Create Unigram Model"
   ]
  },
  {
   "cell_type": "code",
   "execution_count": 173,
   "metadata": {},
   "outputs": [],
   "source": [
    "n_tokens = vocab.n.sum()\n",
    "vocab['p'] = vocab['n'] / n_tokens\n",
    "vocab['log_p'] = np.log2(vocab['p'])"
   ]
  },
  {
   "cell_type": "code",
   "execution_count": 174,
   "metadata": {},
   "outputs": [
    {
     "data": {
      "text/html": [
       "<div>\n",
       "<style scoped>\n",
       "    .dataframe tbody tr th:only-of-type {\n",
       "        vertical-align: middle;\n",
       "    }\n",
       "\n",
       "    .dataframe tbody tr th {\n",
       "        vertical-align: top;\n",
       "    }\n",
       "\n",
       "    .dataframe thead th {\n",
       "        text-align: right;\n",
       "    }\n",
       "</style>\n",
       "<table border=\"1\" class=\"dataframe\">\n",
       "  <thead>\n",
       "    <tr style=\"text-align: right;\">\n",
       "      <th></th>\n",
       "      <th>term_str</th>\n",
       "      <th>n</th>\n",
       "      <th>p</th>\n",
       "      <th>log_p</th>\n",
       "    </tr>\n",
       "    <tr>\n",
       "      <th>term_id</th>\n",
       "      <th></th>\n",
       "      <th></th>\n",
       "      <th></th>\n",
       "      <th></th>\n",
       "    </tr>\n",
       "  </thead>\n",
       "  <tbody>\n",
       "    <tr>\n",
       "      <th>0</th>\n",
       "      <td>the</td>\n",
       "      <td>7421</td>\n",
       "      <td>0.036705</td>\n",
       "      <td>-4.767876</td>\n",
       "    </tr>\n",
       "    <tr>\n",
       "      <th>1</th>\n",
       "      <td>to</td>\n",
       "      <td>6872</td>\n",
       "      <td>0.033990</td>\n",
       "      <td>-4.878759</td>\n",
       "    </tr>\n",
       "    <tr>\n",
       "      <th>2</th>\n",
       "      <td>and</td>\n",
       "      <td>6227</td>\n",
       "      <td>0.030799</td>\n",
       "      <td>-5.020952</td>\n",
       "    </tr>\n",
       "    <tr>\n",
       "      <th>3</th>\n",
       "      <td>of</td>\n",
       "      <td>6136</td>\n",
       "      <td>0.030349</td>\n",
       "      <td>-5.042191</td>\n",
       "    </tr>\n",
       "    <tr>\n",
       "      <th>4</th>\n",
       "      <td>her</td>\n",
       "      <td>3731</td>\n",
       "      <td>0.018454</td>\n",
       "      <td>-5.759927</td>\n",
       "    </tr>\n",
       "    <tr>\n",
       "      <th>5</th>\n",
       "      <td>a</td>\n",
       "      <td>3636</td>\n",
       "      <td>0.017984</td>\n",
       "      <td>-5.797137</td>\n",
       "    </tr>\n",
       "    <tr>\n",
       "      <th>6</th>\n",
       "      <td>in</td>\n",
       "      <td>3316</td>\n",
       "      <td>0.016401</td>\n",
       "      <td>-5.930045</td>\n",
       "    </tr>\n",
       "    <tr>\n",
       "      <th>7</th>\n",
       "      <td>was</td>\n",
       "      <td>3182</td>\n",
       "      <td>0.015739</td>\n",
       "      <td>-5.989556</td>\n",
       "    </tr>\n",
       "    <tr>\n",
       "      <th>8</th>\n",
       "      <td>i</td>\n",
       "      <td>3074</td>\n",
       "      <td>0.015204</td>\n",
       "      <td>-6.039372</td>\n",
       "    </tr>\n",
       "    <tr>\n",
       "      <th>9</th>\n",
       "      <td>it</td>\n",
       "      <td>2755</td>\n",
       "      <td>0.013627</td>\n",
       "      <td>-6.197437</td>\n",
       "    </tr>\n",
       "  </tbody>\n",
       "</table>\n",
       "</div>"
      ],
      "text/plain": [
       "        term_str     n         p     log_p\n",
       "term_id                                   \n",
       "0            the  7421  0.036705 -4.767876\n",
       "1             to  6872  0.033990 -4.878759\n",
       "2            and  6227  0.030799 -5.020952\n",
       "3             of  6136  0.030349 -5.042191\n",
       "4            her  3731  0.018454 -5.759927\n",
       "5              a  3636  0.017984 -5.797137\n",
       "6             in  3316  0.016401 -5.930045\n",
       "7            was  3182  0.015739 -5.989556\n",
       "8              i  3074  0.015204 -6.039372\n",
       "9             it  2755  0.013627 -6.197437"
      ]
     },
     "execution_count": 174,
     "metadata": {},
     "output_type": "execute_result"
    }
   ],
   "source": [
    "vocab.sort_values('p', ascending=False).head(10)"
   ]
  },
  {
   "cell_type": "code",
   "execution_count": 175,
   "metadata": {
    "colab_type": "text",
    "id": "NfMtOiCYDylX",
    "toc-hr-collapsed": false
   },
   "outputs": [],
   "source": [
    "smooth = vocab['p'].min()\n",
    "def predict_sentence(sent_str):\n",
    "    tokens = pd.DataFrame(sent_str.lower().split(), columns=['term_str'])\n",
    "    tokens = tokens.merge(vocab, on='term_str', how='left')\n",
    "    tokens.loc[tokens['p'].isna(), ['p', 'log_p']] = [smooth, np.log2(smooth)]\n",
    "    p = tokens['p'].product()\n",
    "    log_p = tokens['log_p'].sum()\n",
    "    print('-' * 80)\n",
    "    print(\"p('{}') = {}; log2: {}\".format(sent_str, p, log_p))\n",
    "    print('-' * 80)\n",
    "    print(tokens)\n",
    "    print('-' * 80)"
   ]
  },
  {
   "cell_type": "code",
   "execution_count": 177,
   "metadata": {
    "colab_type": "text",
    "id": "NfMtOiCYDylX",
    "toc-hr-collapsed": false
   },
   "outputs": [
    {
     "name": "stdout",
     "output_type": "stream",
     "text": [
      "--------------------------------------------------------------------------------\n",
      "p('I love you') = 7.803004943160364e-08; log2: -23.611394945157244\n",
      "--------------------------------------------------------------------------------\n",
      "  term_str     n         p      log_p\n",
      "0        i  3074  0.015204  -6.039372\n",
      "1     love   117  0.000579 -10.754909\n",
      "2      you  1793  0.008868  -6.817114\n",
      "--------------------------------------------------------------------------------\n",
      "--------------------------------------------------------------------------------\n",
      "p('I love cars') = 4.3519269063917254e-11; log2: -34.419554718025616\n",
      "--------------------------------------------------------------------------------\n",
      "  term_str       n         p      log_p\n",
      "0        i  3074.0  0.015204  -6.039372\n",
      "1     love   117.0  0.000579 -10.754909\n",
      "2     cars     NaN  0.000005 -17.625274\n",
      "--------------------------------------------------------------------------------\n",
      "--------------------------------------------------------------------------------\n",
      "p('I want to') = 1.814835351069572e-07; log2: -22.393657996965874\n",
      "--------------------------------------------------------------------------------\n",
      "  term_str     n         p      log_p\n",
      "0        i  3074  0.015204  -6.039372\n",
      "1     want    71  0.000351 -11.475527\n",
      "2       to  6872  0.033990  -4.878759\n",
      "--------------------------------------------------------------------------------\n",
      "--------------------------------------------------------------------------------\n",
      "p('anne said to') = 2.1150988263191542e-07; log2: -22.172771590507153\n",
      "--------------------------------------------------------------------------------\n",
      "  term_str     n         p     log_p\n",
      "0     anne   451  0.002231 -8.808290\n",
      "1     said   564  0.002790 -8.485722\n",
      "2       to  6872  0.033990 -4.878759\n",
      "--------------------------------------------------------------------------------\n",
      "--------------------------------------------------------------------------------\n",
      "p('said to her') = 1.749763574500391e-06; log2: -19.124408568945753\n",
      "--------------------------------------------------------------------------------\n",
      "  term_str     n         p     log_p\n",
      "0     said   564  0.002790 -8.485722\n",
      "1       to  6872  0.033990 -4.878759\n",
      "2      her  3731  0.018454 -5.759927\n",
      "--------------------------------------------------------------------------------\n"
     ]
    }
   ],
   "source": [
    "predict_sentence('I love you')\n",
    "predict_sentence('I love cars')\n",
    "predict_sentence(\"I want to\")\n",
    "predict_sentence(\"anne said to\")\n",
    "predict_sentence(\"said to her\")"
   ]
  },
  {
   "cell_type": "markdown",
   "metadata": {
    "colab_type": "text",
    "id": "NfMtOiCYDylX",
    "toc-hr-collapsed": false
   },
   "source": [
    "# Buld N-Gram models\n",
    "\n",
    "This function generates models up to the length specified."
   ]
  },
  {
   "cell_type": "code",
   "execution_count": 427,
   "metadata": {
    "colab": {},
    "colab_type": "code",
    "id": "cPUTfjSDDylz"
   },
   "outputs": [],
   "source": [
    "def get_ngrams(tokens, n=2):\n",
    "    \n",
    "    # Create list to store copies of tokens table\n",
    "    X = []\n",
    "    \n",
    "    # We assume that tokens has an OHCO multiindex\n",
    "    X.append(tokens['term_str'].reset_index())\n",
    "        \n",
    "    # Create copies of token table for each level of ngram, offset by 1, and \n",
    "    # merge with previous \n",
    "    for i in range(1, n):\n",
    "        X.append(X[0].copy())\n",
    "        X[i]['token_num'] = X[i]['token_num'] + i\n",
    "        X[i] = X[i].merge(X[i-1], on=OHCO, how='left', sort=True).fillna('<s>')\n",
    "        \n",
    "    # Compress tables to unique ngrams with counts\n",
    "    for i in range(0, n):\n",
    "        X[i] = X[i].drop(OHCO, 1)\n",
    "        cols = X[i].columns.tolist()\n",
    "        X[i]['n'] = 0\n",
    "        X[i] = X[i].groupby(cols).n.apply(lambda x: x.count()).to_frame()\n",
    "        X[i].index.names = ['w{}'.format(j) for j in range(i+1)]\n",
    "        \n",
    "#     # Compute probabilities\n",
    "#     for i in range(0, n):\n",
    "#         N = X[i]['n'].sum()\n",
    "#         X[i]['p'] = X[i]['n'] / N\n",
    "#         X[i]['log_p'] = np.log2(X[i]['p'])\n",
    "#         X[i]['h'] = X[i].log_p * X[i].p * -1\n",
    "    \n",
    "    # Return just the ngram tables\n",
    "    return X"
   ]
  },
  {
   "cell_type": "markdown",
   "metadata": {
    "colab": {},
    "colab_type": "code",
    "id": "_aQs_gk_Dyl7"
   },
   "source": [
    "## Generate three models\n",
    "\n",
    "Unigram, bigram, and trigram"
   ]
  },
  {
   "cell_type": "code",
   "execution_count": 509,
   "metadata": {
    "colab": {},
    "colab_type": "code",
    "id": "_aQs_gk_Dyl7"
   },
   "outputs": [],
   "source": [
    "m1, m2, m3 = get_ngrams(corpus, n=3)"
   ]
  },
  {
   "cell_type": "code",
   "execution_count": 512,
   "metadata": {
    "colab": {},
    "colab_type": "code",
    "id": "_aQs_gk_Dyl7"
   },
   "outputs": [],
   "source": [
    "m1['p'] = m1['n'] / m1['n'].sum()\n",
    "m2['p'] = m2['n'] / m2['n'].sum()\n",
    "m3['p'] = m3['n'] / m3['n'].sum()"
   ]
  },
  {
   "cell_type": "code",
   "execution_count": 513,
   "metadata": {
    "colab": {},
    "colab_type": "code",
    "id": "_aQs_gk_Dyl7"
   },
   "outputs": [
    {
     "data": {
      "text/html": [
       "<div>\n",
       "<style scoped>\n",
       "    .dataframe tbody tr th:only-of-type {\n",
       "        vertical-align: middle;\n",
       "    }\n",
       "\n",
       "    .dataframe tbody tr th {\n",
       "        vertical-align: top;\n",
       "    }\n",
       "\n",
       "    .dataframe thead th {\n",
       "        text-align: right;\n",
       "    }\n",
       "</style>\n",
       "<table border=\"1\" class=\"dataframe\">\n",
       "  <thead>\n",
       "    <tr style=\"text-align: right;\">\n",
       "      <th></th>\n",
       "      <th>n</th>\n",
       "      <th>p</th>\n",
       "    </tr>\n",
       "    <tr>\n",
       "      <th>w0</th>\n",
       "      <th></th>\n",
       "      <th></th>\n",
       "    </tr>\n",
       "  </thead>\n",
       "  <tbody>\n",
       "    <tr>\n",
       "      <th>the</th>\n",
       "      <td>7421</td>\n",
       "      <td>0.036705</td>\n",
       "    </tr>\n",
       "    <tr>\n",
       "      <th>to</th>\n",
       "      <td>6872</td>\n",
       "      <td>0.033990</td>\n",
       "    </tr>\n",
       "    <tr>\n",
       "      <th>and</th>\n",
       "      <td>6227</td>\n",
       "      <td>0.030799</td>\n",
       "    </tr>\n",
       "    <tr>\n",
       "      <th>of</th>\n",
       "      <td>6136</td>\n",
       "      <td>0.030349</td>\n",
       "    </tr>\n",
       "    <tr>\n",
       "      <th>her</th>\n",
       "      <td>3731</td>\n",
       "      <td>0.018454</td>\n",
       "    </tr>\n",
       "  </tbody>\n",
       "</table>\n",
       "</div>"
      ],
      "text/plain": [
       "        n         p\n",
       "w0                 \n",
       "the  7421  0.036705\n",
       "to   6872  0.033990\n",
       "and  6227  0.030799\n",
       "of   6136  0.030349\n",
       "her  3731  0.018454"
      ]
     },
     "execution_count": 513,
     "metadata": {},
     "output_type": "execute_result"
    }
   ],
   "source": [
    "m1.sort_values('p', ascending=False).head()"
   ]
  },
  {
   "cell_type": "code",
   "execution_count": 514,
   "metadata": {
    "colab": {},
    "colab_type": "code",
    "id": "_aQs_gk_Dyl7"
   },
   "outputs": [
    {
     "data": {
      "text/html": [
       "<div>\n",
       "<style scoped>\n",
       "    .dataframe tbody tr th:only-of-type {\n",
       "        vertical-align: middle;\n",
       "    }\n",
       "\n",
       "    .dataframe tbody tr th {\n",
       "        vertical-align: top;\n",
       "    }\n",
       "\n",
       "    .dataframe thead th {\n",
       "        text-align: right;\n",
       "    }\n",
       "</style>\n",
       "<table border=\"1\" class=\"dataframe\">\n",
       "  <thead>\n",
       "    <tr style=\"text-align: right;\">\n",
       "      <th></th>\n",
       "      <th></th>\n",
       "      <th>n</th>\n",
       "      <th>p</th>\n",
       "    </tr>\n",
       "    <tr>\n",
       "      <th>w0</th>\n",
       "      <th>w1</th>\n",
       "      <th></th>\n",
       "      <th></th>\n",
       "    </tr>\n",
       "  </thead>\n",
       "  <tbody>\n",
       "    <tr>\n",
       "      <th>of</th>\n",
       "      <th>the</th>\n",
       "      <td>856</td>\n",
       "      <td>0.004234</td>\n",
       "    </tr>\n",
       "    <tr>\n",
       "      <th>to</th>\n",
       "      <th>be</th>\n",
       "      <td>812</td>\n",
       "      <td>0.004016</td>\n",
       "    </tr>\n",
       "    <tr>\n",
       "      <th>in</th>\n",
       "      <th>the</th>\n",
       "      <td>679</td>\n",
       "      <td>0.003358</td>\n",
       "    </tr>\n",
       "    <tr>\n",
       "      <th>mrs</th>\n",
       "      <th>&lt;s&gt;</th>\n",
       "      <td>529</td>\n",
       "      <td>0.002616</td>\n",
       "    </tr>\n",
       "    <tr>\n",
       "      <th>it</th>\n",
       "      <th>was</th>\n",
       "      <td>490</td>\n",
       "      <td>0.002424</td>\n",
       "    </tr>\n",
       "  </tbody>\n",
       "</table>\n",
       "</div>"
      ],
      "text/plain": [
       "           n         p\n",
       "w0  w1                \n",
       "of  the  856  0.004234\n",
       "to  be   812  0.004016\n",
       "in  the  679  0.003358\n",
       "mrs <s>  529  0.002616\n",
       "it  was  490  0.002424"
      ]
     },
     "execution_count": 514,
     "metadata": {},
     "output_type": "execute_result"
    }
   ],
   "source": [
    "m2.sort_values('p', ascending=False).head()"
   ]
  },
  {
   "cell_type": "code",
   "execution_count": 515,
   "metadata": {},
   "outputs": [
    {
     "data": {
      "text/html": [
       "<div>\n",
       "<style scoped>\n",
       "    .dataframe tbody tr th:only-of-type {\n",
       "        vertical-align: middle;\n",
       "    }\n",
       "\n",
       "    .dataframe tbody tr th {\n",
       "        vertical-align: top;\n",
       "    }\n",
       "\n",
       "    .dataframe thead th {\n",
       "        text-align: right;\n",
       "    }\n",
       "</style>\n",
       "<table border=\"1\" class=\"dataframe\">\n",
       "  <thead>\n",
       "    <tr style=\"text-align: right;\">\n",
       "      <th></th>\n",
       "      <th></th>\n",
       "      <th></th>\n",
       "      <th>n</th>\n",
       "      <th>p</th>\n",
       "    </tr>\n",
       "    <tr>\n",
       "      <th>w0</th>\n",
       "      <th>w1</th>\n",
       "      <th>w2</th>\n",
       "      <th></th>\n",
       "      <th></th>\n",
       "    </tr>\n",
       "  </thead>\n",
       "  <tbody>\n",
       "    <tr>\n",
       "      <th>mrs</th>\n",
       "      <th>&lt;s&gt;</th>\n",
       "      <th>&lt;s&gt;</th>\n",
       "      <td>529</td>\n",
       "      <td>0.002616</td>\n",
       "    </tr>\n",
       "    <tr>\n",
       "      <th>it</th>\n",
       "      <th>&lt;s&gt;</th>\n",
       "      <th>&lt;s&gt;</th>\n",
       "      <td>352</td>\n",
       "      <td>0.001741</td>\n",
       "    </tr>\n",
       "    <tr>\n",
       "      <th>her</th>\n",
       "      <th>&lt;s&gt;</th>\n",
       "      <th>&lt;s&gt;</th>\n",
       "      <td>236</td>\n",
       "      <td>0.001167</td>\n",
       "    </tr>\n",
       "    <tr>\n",
       "      <th>him</th>\n",
       "      <th>&lt;s&gt;</th>\n",
       "      <th>&lt;s&gt;</th>\n",
       "      <td>216</td>\n",
       "      <td>0.001068</td>\n",
       "    </tr>\n",
       "    <tr>\n",
       "      <th>mr</th>\n",
       "      <th>&lt;s&gt;</th>\n",
       "      <th>&lt;s&gt;</th>\n",
       "      <td>179</td>\n",
       "      <td>0.000885</td>\n",
       "    </tr>\n",
       "  </tbody>\n",
       "</table>\n",
       "</div>"
      ],
      "text/plain": [
       "               n         p\n",
       "w0  w1  w2                \n",
       "mrs <s> <s>  529  0.002616\n",
       "it  <s> <s>  352  0.001741\n",
       "her <s> <s>  236  0.001167\n",
       "him <s> <s>  216  0.001068\n",
       "mr  <s> <s>  179  0.000885"
      ]
     },
     "execution_count": 515,
     "metadata": {},
     "output_type": "execute_result"
    }
   ],
   "source": [
    "m3.sort_values('p', ascending=False).head()"
   ]
  },
  {
   "cell_type": "markdown",
   "metadata": {},
   "source": [
    "## Compute Conditional Probabilities\n",
    "\n",
    "$p(w_1|w_0) = p(w_0, w_1) / p(w_0)$\n",
    "\n",
    "$p(w_2|w_0,w_1) = p(w_0, w_1, w_2) / p(w_0, w_1)$"
   ]
  },
  {
   "cell_type": "code",
   "execution_count": 516,
   "metadata": {},
   "outputs": [],
   "source": [
    "m2 = m2.join(m1['p'].to_frame(), on='w0', rsuffix='_w0')\n",
    "m2['p_w1gw0'] = m2.p / m2.p_w0\n",
    "m2m = m2['p_w1gw0'].unstack().fillna(0)"
   ]
  },
  {
   "cell_type": "code",
   "execution_count": 517,
   "metadata": {},
   "outputs": [],
   "source": [
    "m3 = m3.join(m2['p'].to_frame(), on=['w0','w1'], rsuffix='_w0w1')\n",
    "m3['p_w2gw0w1'] = m3.p / m3.p_w0w1\n",
    "m3m = m3['p_w2gw0w1'].unstack().fillna(0)"
   ]
  },
  {
   "cell_type": "markdown",
   "metadata": {},
   "source": [
    "## Smoothing"
   ]
  },
  {
   "cell_type": "code",
   "execution_count": 518,
   "metadata": {},
   "outputs": [],
   "source": [
    "alpha = .0000001\n",
    "m2m = (m2m + alpha) / (alpha * m2m.shape[1])\n",
    "m3m = (m3m + alpha) / (alpha * m3m.shape[1])"
   ]
  },
  {
   "cell_type": "code",
   "execution_count": 583,
   "metadata": {},
   "outputs": [
    {
     "data": {
      "text/plain": [
       "1103.6574043444705"
      ]
     },
     "execution_count": 583,
     "metadata": {},
     "output_type": "execute_result"
    }
   ],
   "source": [
    "m2m.iloc[0].sum()"
   ]
  },
  {
   "cell_type": "markdown",
   "metadata": {},
   "source": [
    "## Explore"
   ]
  },
  {
   "cell_type": "code",
   "execution_count": 519,
   "metadata": {},
   "outputs": [
    {
     "data": {
      "text/html": [
       "<style  type=\"text/css\" >\n",
       "    #T_b3246a08_115e_11ea_a790_8c859027f1b0row0_col0 {\n",
       "            background-color:  #50b264;\n",
       "        }    #T_b3246a08_115e_11ea_a790_8c859027f1b0row0_col1 {\n",
       "            background-color:  #004c1e;\n",
       "        }    #T_b3246a08_115e_11ea_a790_8c859027f1b0row0_col2 {\n",
       "            background-color:  #b1e0ab;\n",
       "        }    #T_b3246a08_115e_11ea_a790_8c859027f1b0row0_col3 {\n",
       "            background-color:  #c2e7bb;\n",
       "        }    #T_b3246a08_115e_11ea_a790_8c859027f1b0row0_col4 {\n",
       "            background-color:  #00441b;\n",
       "        }    #T_b3246a08_115e_11ea_a790_8c859027f1b0row0_col5 {\n",
       "            background-color:  #00441b;\n",
       "        }    #T_b3246a08_115e_11ea_a790_8c859027f1b0row0_col6 {\n",
       "            background-color:  #aedea7;\n",
       "        }    #T_b3246a08_115e_11ea_a790_8c859027f1b0row1_col0 {\n",
       "            background-color:  #ceecc8;\n",
       "        }    #T_b3246a08_115e_11ea_a790_8c859027f1b0row1_col1 {\n",
       "            background-color:  #00441b;\n",
       "        }    #T_b3246a08_115e_11ea_a790_8c859027f1b0row1_col2 {\n",
       "            background-color:  #7ac77b;\n",
       "        }    #T_b3246a08_115e_11ea_a790_8c859027f1b0row1_col3 {\n",
       "            background-color:  #005f26;\n",
       "        }    #T_b3246a08_115e_11ea_a790_8c859027f1b0row1_col4 {\n",
       "            background-color:  #5ab769;\n",
       "        }    #T_b3246a08_115e_11ea_a790_8c859027f1b0row1_col5 {\n",
       "            background-color:  #4aaf61;\n",
       "        }    #T_b3246a08_115e_11ea_a790_8c859027f1b0row1_col6 {\n",
       "            background-color:  #00441b;\n",
       "        }    #T_b3246a08_115e_11ea_a790_8c859027f1b0row2_col0 {\n",
       "            background-color:  #00441b;\n",
       "        }    #T_b3246a08_115e_11ea_a790_8c859027f1b0row2_col1 {\n",
       "            background-color:  #f7fcf5;\n",
       "        }    #T_b3246a08_115e_11ea_a790_8c859027f1b0row2_col2 {\n",
       "            background-color:  #00441b;\n",
       "        }    #T_b3246a08_115e_11ea_a790_8c859027f1b0row2_col3 {\n",
       "            background-color:  #f5fbf2;\n",
       "        }    #T_b3246a08_115e_11ea_a790_8c859027f1b0row2_col4 {\n",
       "            background-color:  #f7fcf5;\n",
       "        }    #T_b3246a08_115e_11ea_a790_8c859027f1b0row2_col5 {\n",
       "            background-color:  #f7fcf5;\n",
       "        }    #T_b3246a08_115e_11ea_a790_8c859027f1b0row2_col6 {\n",
       "            background-color:  #f7fcf5;\n",
       "        }    #T_b3246a08_115e_11ea_a790_8c859027f1b0row3_col0 {\n",
       "            background-color:  #f7fcf5;\n",
       "        }    #T_b3246a08_115e_11ea_a790_8c859027f1b0row3_col1 {\n",
       "            background-color:  #7ac77b;\n",
       "        }    #T_b3246a08_115e_11ea_a790_8c859027f1b0row3_col2 {\n",
       "            background-color:  #e6f5e1;\n",
       "        }    #T_b3246a08_115e_11ea_a790_8c859027f1b0row3_col3 {\n",
       "            background-color:  #00441b;\n",
       "        }    #T_b3246a08_115e_11ea_a790_8c859027f1b0row3_col4 {\n",
       "            background-color:  #ceecc8;\n",
       "        }    #T_b3246a08_115e_11ea_a790_8c859027f1b0row3_col5 {\n",
       "            background-color:  #d4eece;\n",
       "        }    #T_b3246a08_115e_11ea_a790_8c859027f1b0row3_col6 {\n",
       "            background-color:  #92d28f;\n",
       "        }    #T_b3246a08_115e_11ea_a790_8c859027f1b0row4_col0 {\n",
       "            background-color:  #e5f5e0;\n",
       "        }    #T_b3246a08_115e_11ea_a790_8c859027f1b0row4_col1 {\n",
       "            background-color:  #dff3da;\n",
       "        }    #T_b3246a08_115e_11ea_a790_8c859027f1b0row4_col2 {\n",
       "            background-color:  #f7fcf5;\n",
       "        }    #T_b3246a08_115e_11ea_a790_8c859027f1b0row4_col3 {\n",
       "            background-color:  #f7fcf5;\n",
       "        }    #T_b3246a08_115e_11ea_a790_8c859027f1b0row4_col4 {\n",
       "            background-color:  #53b466;\n",
       "        }    #T_b3246a08_115e_11ea_a790_8c859027f1b0row4_col5 {\n",
       "            background-color:  #4db163;\n",
       "        }    #T_b3246a08_115e_11ea_a790_8c859027f1b0row4_col6 {\n",
       "            background-color:  #b0dfaa;\n",
       "        }</style>  \n",
       "<table id=\"T_b3246a08_115e_11ea_a790_8c859027f1b0\" > \n",
       "<thead>    <tr> \n",
       "        <th class=\"index_name level0\" >w1</th> \n",
       "        <th class=\"col_heading level0 col0\" >is</th> \n",
       "        <th class=\"col_heading level0 col1\" >had</th> \n",
       "        <th class=\"col_heading level0 col2\" >was</th> \n",
       "        <th class=\"col_heading level0 col3\" >felt</th> \n",
       "        <th class=\"col_heading level0 col4\" >looked</th> \n",
       "        <th class=\"col_heading level0 col5\" >said</th> \n",
       "        <th class=\"col_heading level0 col6\" >saw</th> \n",
       "    </tr>    <tr> \n",
       "        <th class=\"index_name level0\" >w0</th> \n",
       "        <th class=\"blank\" ></th> \n",
       "        <th class=\"blank\" ></th> \n",
       "        <th class=\"blank\" ></th> \n",
       "        <th class=\"blank\" ></th> \n",
       "        <th class=\"blank\" ></th> \n",
       "        <th class=\"blank\" ></th> \n",
       "        <th class=\"blank\" ></th> \n",
       "    </tr></thead> \n",
       "<tbody>    <tr> \n",
       "        <th id=\"T_b3246a08_115e_11ea_a790_8c859027f1b0level0_row0\" class=\"row_heading level0 row0\" >he</th> \n",
       "        <td id=\"T_b3246a08_115e_11ea_a790_8c859027f1b0row0_col0\" class=\"data row0 col0\" >62.8403</td> \n",
       "        <td id=\"T_b3246a08_115e_11ea_a790_8c859027f1b0row0_col1\" class=\"data row0 col1\" >161.666</td> \n",
       "        <td id=\"T_b3246a08_115e_11ea_a790_8c859027f1b0row0_col2\" class=\"data row0 col2\" >133.737</td> \n",
       "        <td id=\"T_b3246a08_115e_11ea_a790_8c859027f1b0row0_col3\" class=\"data row0 col3\" >5.90816</td> \n",
       "        <td id=\"T_b3246a08_115e_11ea_a790_8c859027f1b0row0_col4\" class=\"data row0 col4\" >9.66783</td> \n",
       "        <td id=\"T_b3246a08_115e_11ea_a790_8c859027f1b0row0_col5\" class=\"data row0 col5\" >18.2614</td> \n",
       "        <td id=\"T_b3246a08_115e_11ea_a790_8c859027f1b0row0_col6\" class=\"data row0 col6\" >5.90816</td> \n",
       "    </tr>    <tr> \n",
       "        <th id=\"T_b3246a08_115e_11ea_a790_8c859027f1b0level0_row1\" class=\"row_heading level0 row1\" >she</th> \n",
       "        <td id=\"T_b3246a08_115e_11ea_a790_8c859027f1b0row1_col0\" class=\"data row1 col0\" >26.5605</td> \n",
       "        <td id=\"T_b3246a08_115e_11ea_a790_8c859027f1b0row1_col1\" class=\"data row1 col1\" >165.399</td> \n",
       "        <td id=\"T_b3246a08_115e_11ea_a790_8c859027f1b0row1_col2\" class=\"data row1 col2\" >148.497</td> \n",
       "        <td id=\"T_b3246a08_115e_11ea_a790_8c859027f1b0row1_col3\" class=\"data row1 col3\" >20.1216</td> \n",
       "        <td id=\"T_b3246a08_115e_11ea_a790_8c859027f1b0row1_col4\" class=\"data row1 col4\" >5.63413</td> \n",
       "        <td id=\"T_b3246a08_115e_11ea_a790_8c859027f1b0row1_col5\" class=\"data row1 col5\" >11.6706</td> \n",
       "        <td id=\"T_b3246a08_115e_11ea_a790_8c859027f1b0row1_col6\" class=\"data row1 col6\" >17.707</td> \n",
       "    </tr>    <tr> \n",
       "        <th id=\"T_b3246a08_115e_11ea_a790_8c859027f1b0level0_row2\" class=\"row_heading level0 row2\" >it</th> \n",
       "        <td id=\"T_b3246a08_115e_11ea_a790_8c859027f1b0row2_col0\" class=\"data row2 col0\" >103.662</td> \n",
       "        <td id=\"T_b3246a08_115e_11ea_a790_8c859027f1b0row2_col1\" class=\"data row2 col1\" >25.2151</td> \n",
       "        <td id=\"T_b3246a08_115e_11ea_a790_8c859027f1b0row2_col2\" class=\"data row2 col2\" >196.117</td> \n",
       "        <td id=\"T_b3246a08_115e_11ea_a790_8c859027f1b0row2_col3\" class=\"data row2 col3\" >0.400349</td> \n",
       "        <td id=\"T_b3246a08_115e_11ea_a790_8c859027f1b0row2_col4\" class=\"data row2 col4\" >0.400349</td> \n",
       "        <td id=\"T_b3246a08_115e_11ea_a790_8c859027f1b0row2_col5\" class=\"data row2 col5\" >1.60106</td> \n",
       "        <td id=\"T_b3246a08_115e_11ea_a790_8c859027f1b0row2_col6\" class=\"data row2 col6\" >0.000110266</td> \n",
       "    </tr>    <tr> \n",
       "        <th id=\"T_b3246a08_115e_11ea_a790_8c859027f1b0level0_row3\" class=\"row_heading level0 row3\" >anne</th> \n",
       "        <td id=\"T_b3246a08_115e_11ea_a790_8c859027f1b0row3_col0\" class=\"data row3 col0\" >4.88994</td> \n",
       "        <td id=\"T_b3246a08_115e_11ea_a790_8c859027f1b0row3_col1\" class=\"data row3 col1\" >92.9069</td> \n",
       "        <td id=\"T_b3246a08_115e_11ea_a790_8c859027f1b0row3_col2\" class=\"data row3 col2\" >114.911</td> \n",
       "        <td id=\"T_b3246a08_115e_11ea_a790_8c859027f1b0row3_col3\" class=\"data row3 col3\" >22.0044</td> \n",
       "        <td id=\"T_b3246a08_115e_11ea_a790_8c859027f1b0row3_col4\" class=\"data row3 col4\" >2.44503</td> \n",
       "        <td id=\"T_b3246a08_115e_11ea_a790_8c859027f1b0row3_col5\" class=\"data row3 col5\" >4.88994</td> \n",
       "        <td id=\"T_b3246a08_115e_11ea_a790_8c859027f1b0row3_col6\" class=\"data row3 col6\" >7.33486</td> \n",
       "    </tr>    <tr> \n",
       "        <th id=\"T_b3246a08_115e_11ea_a790_8c859027f1b0level0_row4\" class=\"row_heading level0 row4\" >wentworth</th> \n",
       "        <td id=\"T_b3246a08_115e_11ea_a790_8c859027f1b0row4_col0\" class=\"data row4 col0\" >17.3193</td> \n",
       "        <td id=\"T_b3246a08_115e_11ea_a790_8c859027f1b0row4_col1\" class=\"data row4 col1\" >46.1847</td> \n",
       "        <td id=\"T_b3246a08_115e_11ea_a790_8c859027f1b0row4_col2\" class=\"data row4 col2\" >103.915</td> \n",
       "        <td id=\"T_b3246a08_115e_11ea_a790_8c859027f1b0row4_col3\" class=\"data row4 col3\" >0.000110266</td> \n",
       "        <td id=\"T_b3246a08_115e_11ea_a790_8c859027f1b0row4_col4\" class=\"data row4 col4\" >5.77319</td> \n",
       "        <td id=\"T_b3246a08_115e_11ea_a790_8c859027f1b0row4_col5\" class=\"data row4 col5\" >11.5463</td> \n",
       "        <td id=\"T_b3246a08_115e_11ea_a790_8c859027f1b0row4_col6\" class=\"data row4 col6\" >5.77319</td> \n",
       "    </tr></tbody> \n",
       "</table> "
      ],
      "text/plain": [
       "<pandas.io.formats.style.Styler at 0x1a19c55550>"
      ]
     },
     "execution_count": 519,
     "metadata": {},
     "output_type": "execute_result"
    }
   ],
   "source": [
    "m2m.loc[['he','she','it','anne','wentworth'], ['is','had','was','felt','looked','said','saw']].style.background_gradient(cmap='Greens')"
   ]
  },
  {
   "cell_type": "code",
   "execution_count": 520,
   "metadata": {},
   "outputs": [
    {
     "data": {
      "text/plain": [
       "<matplotlib.axes._subplots.AxesSubplot at 0x1a19c79780>"
      ]
     },
     "execution_count": 520,
     "metadata": {},
     "output_type": "execute_result"
    },
    {
     "data": {
      "image/png": "[encoded data removed]",
      "text/plain": [
       "<Figure size 360x720 with 1 Axes>"
      ]
     },
     "metadata": {
      "needs_background": "light"
     },
     "output_type": "display_data"
    }
   ],
   "source": [
    "m2m.loc['he'].sort_values(ascending=False).head(20).sort_values().plot.barh(figsize=(5,10))"
   ]
  },
  {
   "cell_type": "code",
   "execution_count": 521,
   "metadata": {},
   "outputs": [
    {
     "data": {
      "text/plain": [
       "<matplotlib.axes._subplots.AxesSubplot at 0x1a19c2bf28>"
      ]
     },
     "execution_count": 521,
     "metadata": {},
     "output_type": "execute_result"
    },
    {
     "data": {
      "image/png": "[encoded data removed]",
      "text/plain": [
       "<Figure size 360x720 with 1 Axes>"
      ]
     },
     "metadata": {
      "needs_background": "light"
     },
     "output_type": "display_data"
    }
   ],
   "source": [
    "m2m.loc['she'].sort_values(ascending=False).head(20).sort_values().plot.barh(figsize=(5,10))"
   ]
  },
  {
   "cell_type": "code",
   "execution_count": 522,
   "metadata": {},
   "outputs": [
    {
     "data": {
      "text/plain": [
       "<matplotlib.axes._subplots.AxesSubplot at 0x1a1a8cb0f0>"
      ]
     },
     "execution_count": 522,
     "metadata": {},
     "output_type": "execute_result"
    },
    {
     "data": {
      "image/png": "[encoded data removed]",
      "text/plain": [
       "<Figure size 360x720 with 1 Axes>"
      ]
     },
     "metadata": {
      "needs_background": "light"
     },
     "output_type": "display_data"
    }
   ],
   "source": [
    "m3m.loc[('she','felt')].sort_values(ascending=False).head(20).sort_values().plot.barh(figsize=(5,10))"
   ]
  },
  {
   "cell_type": "code",
   "execution_count": 523,
   "metadata": {},
   "outputs": [
    {
     "data": {
      "text/plain": [
       "<matplotlib.axes._subplots.AxesSubplot at 0x1a1a50af60>"
      ]
     },
     "execution_count": 523,
     "metadata": {},
     "output_type": "execute_result"
    },
    {
     "data": {
      "image/png": "[encoded data removed]",
      "text/plain": [
       "<Figure size 360x720 with 1 Axes>"
      ]
     },
     "metadata": {
      "needs_background": "light"
     },
     "output_type": "display_data"
    }
   ],
   "source": [
    "m3m.loc[('he','said')].sort_values(ascending=False).head(20).sort_values().plot.barh(figsize=(5,10))"
   ]
  },
  {
   "cell_type": "markdown",
   "metadata": {
    "colab_type": "text",
    "id": "cPY7ekfXgbE_"
   },
   "source": [
    "# Generate Text"
   ]
  },
  {
   "cell_type": "code",
   "execution_count": 571,
   "metadata": {},
   "outputs": [],
   "source": [
    "def generate_text(start_word='she', n=250):\n",
    "    words = [start_word]\n",
    "    for i in range(n):\n",
    "        if len(words) == 1:\n",
    "            w = m2m.loc[start_word]\n",
    "            next_word = m2m.loc[start_word].sample(weights=w).index.values[0]\n",
    "        elif len(words) > 1:\n",
    "            bg = tuple(words[-2:])\n",
    "            w = m3m.loc[bg]\n",
    "            next_word = m3m.loc[bg].sample(weights=w).index.values[0]\n",
    "            if next_word == '<s>':\n",
    "                next_word = m1.sample(weights=m1.p).index[0]\n",
    "        words.append(next_word)\n",
    "    print(' '.join(words))"
   ]
  },
  {
   "cell_type": "code",
   "execution_count": 572,
   "metadata": {},
   "outputs": [
    {
     "name": "stdout",
     "output_type": "stream",
     "text": [
      "she could speak her happiness was from feeling thorough contentment about it his business is rights single it at the end may prove materially advantageous that occurred the while hoping for some days to make him hang back mr early shepherds the clerks piano were for a moment for speech compare too opinions ridiculous knowledge one so earnestly grateful so full of faith in the room in one person more my feelings are at present should known have to spend the next autumn to fall in love must have so greatly shaken respect ever even however then changed written anne and stopped for no other purpose than to me should i of talked himself mrs and the seclusion of kellynch to make desirable tenants as any of your sisterinlaw mrs you shirley stay family out would in all probability when she must be remember with that of barton was chiefly on one side and in its effects and at her want of more consequence to inform him of it before in her power to prevent your whole party being immediately afterwards collected and eager as she was sure that would be kind enough to make every body like him which it is not tall enough for his punishment was sincere need not be supported for ever you see of captain wentworth it is over mrs shepherd musgroves perceived are them regarded occasionally her will business answer i but gave it much serious consideration mary undoubtedly finding indulged london much inn solicitude\n"
     ]
    }
   ],
   "source": [
    "generate_text('she')"
   ]
  },
  {
   "cell_type": "code",
   "execution_count": null,
   "metadata": {},
   "outputs": [],
   "source": []
  }
 ],
 "metadata": {
  "colab": {
   "collapsed_sections": [],
   "name": "DS5559_LMs.ipynb",
   "provenance": [],
   "toc_visible": true,
   "version": "0.3.2"
  },
  "kernelspec": {
   "display_name": "Python 3",
   "language": "python",
   "name": "python3"
  },
  "language_info": {
   "codemirror_mode": {
    "name": "ipython",
    "version": 3
   },
   "file_extension": ".py",
   "mimetype": "text/x-python",
   "name": "python",
   "nbconvert_exporter": "python",
   "pygments_lexer": "ipython3",
   "version": "3.6.5"
  }
 },
 "nbformat": 4,
 "nbformat_minor": 4
}
