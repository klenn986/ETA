{
 "cells": [
  {
   "cell_type": "markdown",
   "metadata": {
    "colab_type": "text",
    "id": "Ai-gvPnADykO",
    "toc-hr-collapsed": true
   },
   "source": [
    "# Module 3: Infer Language Models\n",
    "\n",
    "* DS 6001\n",
    "* Raf Alvarado\n",
    "\n",
    "We now create a series of langage models and evaluate them."
   ]
  },
  {
   "cell_type": "markdown",
   "metadata": {},
   "source": [
    "# Configure"
   ]
  },
  {
   "cell_type": "code",
   "execution_count": 103,
   "metadata": {
    "colab": {},
    "colab_type": "code",
    "id": "Fb3ZsuIsDykn"
   },
   "outputs": [],
   "source": [
    "OHCO = ['book_id', 'chap_num', 'para_num', 'sent_num', 'token_num']\n",
    "text_file1 = '../MOD02--TextModels/austen-persuasion.csv'\n",
    "text_file2 = '../MOD02--TextModels/austen-sense.csv'"
   ]
  },
  {
   "cell_type": "markdown",
   "metadata": {
    "colab_type": "text",
    "id": "-5x8B8RODykY",
    "toc-hr-collapsed": true
   },
   "source": [
    "# Set Up"
   ]
  },
  {
   "cell_type": "code",
   "execution_count": 104,
   "metadata": {
    "colab": {},
    "colab_type": "code",
    "id": "MwrVU8kZDykb"
   },
   "outputs": [],
   "source": [
    "import pandas as pd\n",
    "import numpy as np\n",
    "import matplotlib.pyplot as plt\n",
    "import seaborn as sns; sns.set()\n",
    "%matplotlib inline"
   ]
  },
  {
   "cell_type": "markdown",
   "metadata": {},
   "source": [
    "# Import and combine texts"
   ]
  },
  {
   "cell_type": "code",
   "execution_count": 145,
   "metadata": {},
   "outputs": [],
   "source": [
    "text1 = pd.read_csv(text_file1, index_col=OHCO[1:])\n",
    "text2 = pd.read_csv(text_file2, index_col=OHCO[1:])"
   ]
  },
  {
   "cell_type": "code",
   "execution_count": 146,
   "metadata": {},
   "outputs": [],
   "source": [
    "text1['book_id'] = 1\n",
    "text2['book_id'] = 2"
   ]
  },
  {
   "cell_type": "code",
   "execution_count": 147,
   "metadata": {},
   "outputs": [],
   "source": [
    "tokens = pd.concat([text1, text2]).dropna()\n",
    "tokens = tokens.reset_index().set_index(OHCO)"
   ]
  },
  {
   "cell_type": "code",
   "execution_count": 148,
   "metadata": {},
   "outputs": [
    {
     "data": {
      "text/html": [
       "<div>\n",
       "<style scoped>\n",
       "    .dataframe tbody tr th:only-of-type {\n",
       "        vertical-align: middle;\n",
       "    }\n",
       "\n",
       "    .dataframe tbody tr th {\n",
       "        vertical-align: top;\n",
       "    }\n",
       "\n",
       "    .dataframe thead th {\n",
       "        text-align: right;\n",
       "    }\n",
       "</style>\n",
       "<table border=\"1\" class=\"dataframe\">\n",
       "  <thead>\n",
       "    <tr style=\"text-align: right;\">\n",
       "      <th></th>\n",
       "      <th></th>\n",
       "      <th></th>\n",
       "      <th></th>\n",
       "      <th></th>\n",
       "      <th>token_str</th>\n",
       "    </tr>\n",
       "    <tr>\n",
       "      <th>book_id</th>\n",
       "      <th>chap_num</th>\n",
       "      <th>para_num</th>\n",
       "      <th>sent_num</th>\n",
       "      <th>token_num</th>\n",
       "      <th></th>\n",
       "    </tr>\n",
       "  </thead>\n",
       "  <tbody>\n",
       "    <tr>\n",
       "      <th rowspan=\"5\" valign=\"top\">1</th>\n",
       "      <th rowspan=\"5\" valign=\"top\">1</th>\n",
       "      <th rowspan=\"5\" valign=\"top\">1</th>\n",
       "      <th rowspan=\"5\" valign=\"top\">0</th>\n",
       "      <th>0</th>\n",
       "      <td>Sir</td>\n",
       "    </tr>\n",
       "    <tr>\n",
       "      <th>1</th>\n",
       "      <td>Walter</td>\n",
       "    </tr>\n",
       "    <tr>\n",
       "      <th>2</th>\n",
       "      <td>Elliot,</td>\n",
       "    </tr>\n",
       "    <tr>\n",
       "      <th>3</th>\n",
       "      <td>of</td>\n",
       "    </tr>\n",
       "    <tr>\n",
       "      <th>4</th>\n",
       "      <td>Kellynch</td>\n",
       "    </tr>\n",
       "  </tbody>\n",
       "</table>\n",
       "</div>"
      ],
      "text/plain": [
       "                                             token_str\n",
       "book_id chap_num para_num sent_num token_num          \n",
       "1       1        1        0        0               Sir\n",
       "                                   1            Walter\n",
       "                                   2           Elliot,\n",
       "                                   3                of\n",
       "                                   4          Kellynch"
      ]
     },
     "execution_count": 148,
     "metadata": {},
     "output_type": "execute_result"
    }
   ],
   "source": [
    "tokens.head()"
   ]
  },
  {
   "cell_type": "code",
   "execution_count": 150,
   "metadata": {},
   "outputs": [
    {
     "data": {
      "text/html": [
       "<div>\n",
       "<style scoped>\n",
       "    .dataframe tbody tr th:only-of-type {\n",
       "        vertical-align: middle;\n",
       "    }\n",
       "\n",
       "    .dataframe tbody tr th {\n",
       "        vertical-align: top;\n",
       "    }\n",
       "\n",
       "    .dataframe thead th {\n",
       "        text-align: right;\n",
       "    }\n",
       "</style>\n",
       "<table border=\"1\" class=\"dataframe\">\n",
       "  <thead>\n",
       "    <tr style=\"text-align: right;\">\n",
       "      <th></th>\n",
       "      <th></th>\n",
       "      <th></th>\n",
       "      <th></th>\n",
       "      <th></th>\n",
       "      <th>token_str</th>\n",
       "      <th>term_str</th>\n",
       "    </tr>\n",
       "    <tr>\n",
       "      <th>book_id</th>\n",
       "      <th>chap_num</th>\n",
       "      <th>para_num</th>\n",
       "      <th>sent_num</th>\n",
       "      <th>token_num</th>\n",
       "      <th></th>\n",
       "      <th></th>\n",
       "    </tr>\n",
       "  </thead>\n",
       "  <tbody>\n",
       "    <tr>\n",
       "      <th rowspan=\"5\" valign=\"top\">1</th>\n",
       "      <th rowspan=\"5\" valign=\"top\">1</th>\n",
       "      <th rowspan=\"5\" valign=\"top\">1</th>\n",
       "      <th rowspan=\"5\" valign=\"top\">0</th>\n",
       "      <th>0</th>\n",
       "      <td>Sir</td>\n",
       "      <td>sir</td>\n",
       "    </tr>\n",
       "    <tr>\n",
       "      <th>1</th>\n",
       "      <td>Walter</td>\n",
       "      <td>walter</td>\n",
       "    </tr>\n",
       "    <tr>\n",
       "      <th>2</th>\n",
       "      <td>Elliot,</td>\n",
       "      <td>elliot</td>\n",
       "    </tr>\n",
       "    <tr>\n",
       "      <th>3</th>\n",
       "      <td>of</td>\n",
       "      <td>of</td>\n",
       "    </tr>\n",
       "    <tr>\n",
       "      <th>4</th>\n",
       "      <td>Kellynch</td>\n",
       "      <td>kellynch</td>\n",
       "    </tr>\n",
       "  </tbody>\n",
       "</table>\n",
       "</div>"
      ],
      "text/plain": [
       "                                             token_str  term_str\n",
       "book_id chap_num para_num sent_num token_num                    \n",
       "1       1        1        0        0               Sir       sir\n",
       "                                   1            Walter    walter\n",
       "                                   2           Elliot,    elliot\n",
       "                                   3                of        of\n",
       "                                   4          Kellynch  kellynch"
      ]
     },
     "execution_count": 150,
     "metadata": {},
     "output_type": "execute_result"
    }
   ],
   "source": [
    "tokens.head()"
   ]
  },
  {
   "cell_type": "markdown",
   "metadata": {},
   "source": [
    "# Create a vocabulary"
   ]
  },
  {
   "cell_type": "code",
   "execution_count": 151,
   "metadata": {},
   "outputs": [],
   "source": [
    "tokens['term_str'] = tokens['token_str'].str.lower().str.replace(r'[\\W_]', '')"
   ]
  },
  {
   "cell_type": "code",
   "execution_count": 152,
   "metadata": {},
   "outputs": [],
   "source": [
    "vocab = tokens['term_str'].value_counts()\\\n",
    "    .to_frame()\\\n",
    "    .reset_index()\\\n",
    "    .rename(columns={'term_str':'n', 'index':'term_str'})\\\n",
    "    .sort_values('term_str')\n",
    "vocab.index.name = 'term_id'"
   ]
  },
  {
   "cell_type": "code",
   "execution_count": 153,
   "metadata": {},
   "outputs": [
    {
     "data": {
      "text/html": [
       "<div>\n",
       "<style scoped>\n",
       "    .dataframe tbody tr th:only-of-type {\n",
       "        vertical-align: middle;\n",
       "    }\n",
       "\n",
       "    .dataframe tbody tr th {\n",
       "        vertical-align: top;\n",
       "    }\n",
       "\n",
       "    .dataframe thead th {\n",
       "        text-align: right;\n",
       "    }\n",
       "</style>\n",
       "<table border=\"1\" class=\"dataframe\">\n",
       "  <thead>\n",
       "    <tr style=\"text-align: right;\">\n",
       "      <th></th>\n",
       "      <th>term_str</th>\n",
       "      <th>n</th>\n",
       "    </tr>\n",
       "    <tr>\n",
       "      <th>term_id</th>\n",
       "      <th></th>\n",
       "      <th></th>\n",
       "    </tr>\n",
       "  </thead>\n",
       "  <tbody>\n",
       "    <tr>\n",
       "      <th>19</th>\n",
       "      <td></td>\n",
       "      <td>1758</td>\n",
       "    </tr>\n",
       "    <tr>\n",
       "      <th>3831</th>\n",
       "      <td>1</td>\n",
       "      <td>3</td>\n",
       "    </tr>\n",
       "    <tr>\n",
       "      <th>9060</th>\n",
       "      <td>15</td>\n",
       "      <td>1</td>\n",
       "    </tr>\n",
       "    <tr>\n",
       "      <th>8188</th>\n",
       "      <td>16</td>\n",
       "      <td>1</td>\n",
       "    </tr>\n",
       "    <tr>\n",
       "      <th>6656</th>\n",
       "      <td>1760</td>\n",
       "      <td>1</td>\n",
       "    </tr>\n",
       "  </tbody>\n",
       "</table>\n",
       "</div>"
      ],
      "text/plain": [
       "        term_str     n\n",
       "term_id               \n",
       "19                1758\n",
       "3831           1     3\n",
       "9060          15     1\n",
       "8188          16     1\n",
       "6656        1760     1"
      ]
     },
     "execution_count": 153,
     "metadata": {},
     "output_type": "execute_result"
    }
   ],
   "source": [
    "vocab.head()"
   ]
  },
  {
   "cell_type": "markdown",
   "metadata": {},
   "source": [
    "# Create Unigram Model"
   ]
  },
  {
   "cell_type": "code",
   "execution_count": 154,
   "metadata": {},
   "outputs": [],
   "source": [
    "n_tokens = vocab.n.sum()\n",
    "vocab['p'] = vocab['n'] / n_tokens\n",
    "vocab['log_p'] = np.log2(vocab['p'])"
   ]
  },
  {
   "cell_type": "code",
   "execution_count": 155,
   "metadata": {},
   "outputs": [
    {
     "data": {
      "text/html": [
       "<div>\n",
       "<style scoped>\n",
       "    .dataframe tbody tr th:only-of-type {\n",
       "        vertical-align: middle;\n",
       "    }\n",
       "\n",
       "    .dataframe tbody tr th {\n",
       "        vertical-align: top;\n",
       "    }\n",
       "\n",
       "    .dataframe thead th {\n",
       "        text-align: right;\n",
       "    }\n",
       "</style>\n",
       "<table border=\"1\" class=\"dataframe\">\n",
       "  <thead>\n",
       "    <tr style=\"text-align: right;\">\n",
       "      <th></th>\n",
       "      <th>term_str</th>\n",
       "      <th>n</th>\n",
       "      <th>p</th>\n",
       "      <th>log_p</th>\n",
       "    </tr>\n",
       "    <tr>\n",
       "      <th>term_id</th>\n",
       "      <th></th>\n",
       "      <th></th>\n",
       "      <th></th>\n",
       "      <th></th>\n",
       "    </tr>\n",
       "  </thead>\n",
       "  <tbody>\n",
       "    <tr>\n",
       "      <th>0</th>\n",
       "      <td>the</td>\n",
       "      <td>7421</td>\n",
       "      <td>0.036389</td>\n",
       "      <td>-4.780366</td>\n",
       "    </tr>\n",
       "    <tr>\n",
       "      <th>1</th>\n",
       "      <td>to</td>\n",
       "      <td>6872</td>\n",
       "      <td>0.033697</td>\n",
       "      <td>-4.891250</td>\n",
       "    </tr>\n",
       "    <tr>\n",
       "      <th>2</th>\n",
       "      <td>and</td>\n",
       "      <td>6227</td>\n",
       "      <td>0.030534</td>\n",
       "      <td>-5.033442</td>\n",
       "    </tr>\n",
       "    <tr>\n",
       "      <th>3</th>\n",
       "      <td>of</td>\n",
       "      <td>6136</td>\n",
       "      <td>0.030088</td>\n",
       "      <td>-5.054681</td>\n",
       "    </tr>\n",
       "    <tr>\n",
       "      <th>4</th>\n",
       "      <td>her</td>\n",
       "      <td>3731</td>\n",
       "      <td>0.018295</td>\n",
       "      <td>-5.772417</td>\n",
       "    </tr>\n",
       "    <tr>\n",
       "      <th>5</th>\n",
       "      <td>a</td>\n",
       "      <td>3636</td>\n",
       "      <td>0.017829</td>\n",
       "      <td>-5.809628</td>\n",
       "    </tr>\n",
       "    <tr>\n",
       "      <th>6</th>\n",
       "      <td>in</td>\n",
       "      <td>3316</td>\n",
       "      <td>0.016260</td>\n",
       "      <td>-5.942536</td>\n",
       "    </tr>\n",
       "    <tr>\n",
       "      <th>7</th>\n",
       "      <td>was</td>\n",
       "      <td>3182</td>\n",
       "      <td>0.015603</td>\n",
       "      <td>-6.002046</td>\n",
       "    </tr>\n",
       "    <tr>\n",
       "      <th>8</th>\n",
       "      <td>i</td>\n",
       "      <td>3074</td>\n",
       "      <td>0.015073</td>\n",
       "      <td>-6.051863</td>\n",
       "    </tr>\n",
       "    <tr>\n",
       "      <th>9</th>\n",
       "      <td>it</td>\n",
       "      <td>2755</td>\n",
       "      <td>0.013509</td>\n",
       "      <td>-6.209927</td>\n",
       "    </tr>\n",
       "  </tbody>\n",
       "</table>\n",
       "</div>"
      ],
      "text/plain": [
       "        term_str     n         p     log_p\n",
       "term_id                                   \n",
       "0            the  7421  0.036389 -4.780366\n",
       "1             to  6872  0.033697 -4.891250\n",
       "2            and  6227  0.030534 -5.033442\n",
       "3             of  6136  0.030088 -5.054681\n",
       "4            her  3731  0.018295 -5.772417\n",
       "5              a  3636  0.017829 -5.809628\n",
       "6             in  3316  0.016260 -5.942536\n",
       "7            was  3182  0.015603 -6.002046\n",
       "8              i  3074  0.015073 -6.051863\n",
       "9             it  2755  0.013509 -6.209927"
      ]
     },
     "execution_count": 155,
     "metadata": {},
     "output_type": "execute_result"
    }
   ],
   "source": [
    "vocab.sort_values('p', ascending=False).head(10)"
   ]
  },
  {
   "cell_type": "code",
   "execution_count": 156,
   "metadata": {
    "colab_type": "text",
    "id": "NfMtOiCYDylX",
    "toc-hr-collapsed": false
   },
   "outputs": [],
   "source": [
    "smooth = vocab['p'].min()\n",
    "def predict_sentence(sent_str):\n",
    "    tokens = pd.DataFrame(sent_str.lower().split(), columns=['term_str'])\n",
    "    tokens = tokens.merge(vocab, on='term_str', how='left')\n",
    "    tokens.loc[tokens['p'].isna(), ['p', 'log_p']] = [smooth, np.log2(smooth)]\n",
    "    p = tokens['p'].product()\n",
    "    log_p = tokens['log_p'].sum()\n",
    "    print('-' * 80)\n",
    "    print(\"p('{}') = {}; log2: {}\".format(sent_str, p, log_p))\n",
    "    print('-' * 80)\n",
    "    print(tokens)\n",
    "    print('-' * 80)"
   ]
  },
  {
   "cell_type": "code",
   "execution_count": 369,
   "metadata": {
    "colab_type": "text",
    "id": "NfMtOiCYDylX",
    "toc-hr-collapsed": false
   },
   "outputs": [
    {
     "name": "stdout",
     "output_type": "stream",
     "text": [
      "--------------------------------------------------------------------------------\n",
      "p('I love you') = 7.602946516155411e-08; log2: -23.648866116803514\n",
      "--------------------------------------------------------------------------------\n",
      "  term_str     n         p      log_p\n",
      "0        i  3074  0.015073  -6.051863\n",
      "1     love   117  0.000574 -10.767399\n",
      "2      you  1793  0.008792  -6.829604\n",
      "--------------------------------------------------------------------------------\n",
      "--------------------------------------------------------------------------------\n",
      "p('I love cars') = 4.24034942339956e-11; log2: -34.45702588967189\n",
      "--------------------------------------------------------------------------------\n",
      "  term_str       n         p      log_p\n",
      "0        i  3074.0  0.015073  -6.051863\n",
      "1     love   117.0  0.000574 -10.767399\n",
      "2     cars     NaN  0.000005 -17.637764\n",
      "--------------------------------------------------------------------------------\n",
      "--------------------------------------------------------------------------------\n",
      "p('I want to') = 1.7683054426236974e-07; log2: -22.431129168612145\n",
      "--------------------------------------------------------------------------------\n",
      "  term_str     n         p      log_p\n",
      "0        i  3074  0.015073  -6.051863\n",
      "1     want    71  0.000348 -11.488017\n",
      "2       to  6872  0.033697  -4.891250\n",
      "--------------------------------------------------------------------------------\n",
      "--------------------------------------------------------------------------------\n",
      "p('anne said to') = 2.060870571020619e-07; log2: -22.21024276215342\n",
      "--------------------------------------------------------------------------------\n",
      "  term_str     n         p     log_p\n",
      "0     anne   451  0.002211 -8.820780\n",
      "1     said   564  0.002766 -8.498213\n",
      "2       to  6872  0.033697 -4.891250\n",
      "--------------------------------------------------------------------------------\n",
      "--------------------------------------------------------------------------------\n",
      "p('said to her') = 1.7049020178443303e-06; log2: -19.161879740592024\n",
      "--------------------------------------------------------------------------------\n",
      "  term_str     n         p     log_p\n",
      "0     said   564  0.002766 -8.498213\n",
      "1       to  6872  0.033697 -4.891250\n",
      "2      her  3731  0.018295 -5.772417\n",
      "--------------------------------------------------------------------------------\n",
      "--------------------------------------------------------------------------------\n",
      "p('she said') = 3.715674090237048e-05; log2: -14.716016509050691\n",
      "--------------------------------------------------------------------------------\n",
      "  term_str     n         p     log_p\n",
      "0      she  2740  0.013436 -6.217804\n",
      "1     said   564  0.002766 -8.498213\n",
      "--------------------------------------------------------------------------------\n"
     ]
    }
   ],
   "source": [
    "predict_sentence('I love you')\n",
    "predict_sentence('I love cars')\n",
    "predict_sentence(\"I want to\")\n",
    "predict_sentence(\"anne said to\")\n",
    "predict_sentence(\"said to her\")\n",
    "predict_sentence('she said')"
   ]
  },
  {
   "cell_type": "markdown",
   "metadata": {
    "colab_type": "text",
    "id": "NfMtOiCYDylX",
    "toc-hr-collapsed": false
   },
   "source": [
    "# Buld N-Gram models\n",
    "\n",
    "This function generates models up to the length specified."
   ]
  },
  {
   "cell_type": "code",
   "execution_count": 159,
   "metadata": {
    "colab": {},
    "colab_type": "code",
    "id": "cPUTfjSDDylz"
   },
   "outputs": [],
   "source": [
    "def get_ngrams(tokens, n=2):\n",
    "    \n",
    "    # Create list to store copies of tokens table\n",
    "    X = []\n",
    "    \n",
    "    # We convert the index to cols in order to change the value of token_num\n",
    "    X.append(tokens['term_str'].reset_index())\n",
    "        \n",
    "    # Create copies of token table for each level of ngram, offset by 1, and \n",
    "    # merge with previous \n",
    "    for i in range(1, n):\n",
    "        X.append(X[0].copy())\n",
    "        X[i]['token_num'] = X[i]['token_num'] + i\n",
    "        X[i] = X[i].merge(X[i-1], on=OHCO, how='left', sort=True).fillna('<s>')\n",
    "        \n",
    "    # Compress tables to unique ngrams with counts\n",
    "    for i in range(0, n):\n",
    "        X[i] = X[i].drop(OHCO, 1)\n",
    "        cols = X[i].columns.tolist()\n",
    "        X[i]['n'] = 0\n",
    "        X[i] = X[i].groupby(cols).n.apply(lambda x: x.count()).to_frame()\n",
    "        X[i].index.names = ['w{}'.format(j) for j in range(i+1)]\n",
    "            \n",
    "    # Return just the ngram tables\n",
    "    return X"
   ]
  },
  {
   "cell_type": "markdown",
   "metadata": {
    "colab": {},
    "colab_type": "code",
    "id": "_aQs_gk_Dyl7"
   },
   "source": [
    "## Generate three models\n",
    "\n",
    "Unigram, bigram, and trigram"
   ]
  },
  {
   "cell_type": "code",
   "execution_count": 224,
   "metadata": {
    "colab": {},
    "colab_type": "code",
    "id": "_aQs_gk_Dyl7"
   },
   "outputs": [],
   "source": [
    "m1, m2, m3 = get_ngrams(tokens, n=3)"
   ]
  },
  {
   "cell_type": "markdown",
   "metadata": {},
   "source": [
    "## Compute joint probabilities"
   ]
  },
  {
   "cell_type": "code",
   "execution_count": 225,
   "metadata": {
    "colab": {},
    "colab_type": "code",
    "id": "_aQs_gk_Dyl7"
   },
   "outputs": [],
   "source": [
    "m1['p'] = m1['n'] / m1['n'].sum()\n",
    "m2['p'] = m2['n'] / m2['n'].sum()\n",
    "m3['p'] = m3['n'] / m3['n'].sum()"
   ]
  },
  {
   "cell_type": "code",
   "execution_count": 226,
   "metadata": {
    "colab": {},
    "colab_type": "code",
    "id": "_aQs_gk_Dyl7"
   },
   "outputs": [
    {
     "data": {
      "text/html": [
       "<div>\n",
       "<style scoped>\n",
       "    .dataframe tbody tr th:only-of-type {\n",
       "        vertical-align: middle;\n",
       "    }\n",
       "\n",
       "    .dataframe tbody tr th {\n",
       "        vertical-align: top;\n",
       "    }\n",
       "\n",
       "    .dataframe thead th {\n",
       "        text-align: right;\n",
       "    }\n",
       "</style>\n",
       "<table border=\"1\" class=\"dataframe\">\n",
       "  <thead>\n",
       "    <tr style=\"text-align: right;\">\n",
       "      <th></th>\n",
       "      <th>n</th>\n",
       "      <th>p</th>\n",
       "    </tr>\n",
       "    <tr>\n",
       "      <th>w0</th>\n",
       "      <th></th>\n",
       "      <th></th>\n",
       "    </tr>\n",
       "  </thead>\n",
       "  <tbody>\n",
       "    <tr>\n",
       "      <th>the</th>\n",
       "      <td>7421</td>\n",
       "      <td>0.036389</td>\n",
       "    </tr>\n",
       "    <tr>\n",
       "      <th>to</th>\n",
       "      <td>6872</td>\n",
       "      <td>0.033697</td>\n",
       "    </tr>\n",
       "    <tr>\n",
       "      <th>and</th>\n",
       "      <td>6227</td>\n",
       "      <td>0.030534</td>\n",
       "    </tr>\n",
       "    <tr>\n",
       "      <th>of</th>\n",
       "      <td>6136</td>\n",
       "      <td>0.030088</td>\n",
       "    </tr>\n",
       "    <tr>\n",
       "      <th>her</th>\n",
       "      <td>3731</td>\n",
       "      <td>0.018295</td>\n",
       "    </tr>\n",
       "  </tbody>\n",
       "</table>\n",
       "</div>"
      ],
      "text/plain": [
       "        n         p\n",
       "w0                 \n",
       "the  7421  0.036389\n",
       "to   6872  0.033697\n",
       "and  6227  0.030534\n",
       "of   6136  0.030088\n",
       "her  3731  0.018295"
      ]
     },
     "execution_count": 226,
     "metadata": {},
     "output_type": "execute_result"
    }
   ],
   "source": [
    "m1.sort_values('p', ascending=False).head()"
   ]
  },
  {
   "cell_type": "code",
   "execution_count": 227,
   "metadata": {
    "colab": {},
    "colab_type": "code",
    "id": "_aQs_gk_Dyl7"
   },
   "outputs": [
    {
     "data": {
      "text/html": [
       "<div>\n",
       "<style scoped>\n",
       "    .dataframe tbody tr th:only-of-type {\n",
       "        vertical-align: middle;\n",
       "    }\n",
       "\n",
       "    .dataframe tbody tr th {\n",
       "        vertical-align: top;\n",
       "    }\n",
       "\n",
       "    .dataframe thead th {\n",
       "        text-align: right;\n",
       "    }\n",
       "</style>\n",
       "<table border=\"1\" class=\"dataframe\">\n",
       "  <thead>\n",
       "    <tr style=\"text-align: right;\">\n",
       "      <th></th>\n",
       "      <th></th>\n",
       "      <th>n</th>\n",
       "      <th>p</th>\n",
       "    </tr>\n",
       "    <tr>\n",
       "      <th>w0</th>\n",
       "      <th>w1</th>\n",
       "      <th></th>\n",
       "      <th></th>\n",
       "    </tr>\n",
       "  </thead>\n",
       "  <tbody>\n",
       "    <tr>\n",
       "      <th></th>\n",
       "      <th>&lt;s&gt;</th>\n",
       "      <td>1388</td>\n",
       "      <td>0.006806</td>\n",
       "    </tr>\n",
       "    <tr>\n",
       "      <th>of</th>\n",
       "      <th>the</th>\n",
       "      <td>856</td>\n",
       "      <td>0.004197</td>\n",
       "    </tr>\n",
       "    <tr>\n",
       "      <th>to</th>\n",
       "      <th>be</th>\n",
       "      <td>812</td>\n",
       "      <td>0.003982</td>\n",
       "    </tr>\n",
       "    <tr>\n",
       "      <th>in</th>\n",
       "      <th>the</th>\n",
       "      <td>679</td>\n",
       "      <td>0.003329</td>\n",
       "    </tr>\n",
       "    <tr>\n",
       "      <th>mrs</th>\n",
       "      <th>&lt;s&gt;</th>\n",
       "      <td>529</td>\n",
       "      <td>0.002594</td>\n",
       "    </tr>\n",
       "  </tbody>\n",
       "</table>\n",
       "</div>"
      ],
      "text/plain": [
       "            n         p\n",
       "w0  w1                 \n",
       "    <s>  1388  0.006806\n",
       "of  the   856  0.004197\n",
       "to  be    812  0.003982\n",
       "in  the   679  0.003329\n",
       "mrs <s>   529  0.002594"
      ]
     },
     "execution_count": 227,
     "metadata": {},
     "output_type": "execute_result"
    }
   ],
   "source": [
    "m2.sort_values('p', ascending=False).head()"
   ]
  },
  {
   "cell_type": "code",
   "execution_count": 365,
   "metadata": {},
   "outputs": [
    {
     "data": {
      "text/html": [
       "<div>\n",
       "<style scoped>\n",
       "    .dataframe tbody tr th:only-of-type {\n",
       "        vertical-align: middle;\n",
       "    }\n",
       "\n",
       "    .dataframe tbody tr th {\n",
       "        vertical-align: top;\n",
       "    }\n",
       "\n",
       "    .dataframe thead th {\n",
       "        text-align: right;\n",
       "    }\n",
       "</style>\n",
       "<table border=\"1\" class=\"dataframe\">\n",
       "  <thead>\n",
       "    <tr style=\"text-align: right;\">\n",
       "      <th></th>\n",
       "      <th></th>\n",
       "      <th></th>\n",
       "      <th>n</th>\n",
       "      <th>p</th>\n",
       "      <th>p_w0w1</th>\n",
       "      <th>p_w2gw0w1</th>\n",
       "    </tr>\n",
       "    <tr>\n",
       "      <th>w0</th>\n",
       "      <th>w1</th>\n",
       "      <th>w2</th>\n",
       "      <th></th>\n",
       "      <th></th>\n",
       "      <th></th>\n",
       "      <th></th>\n",
       "    </tr>\n",
       "  </thead>\n",
       "  <tbody>\n",
       "    <tr>\n",
       "      <th>affection</th>\n",
       "      <th>for</th>\n",
       "      <th>marianne</th>\n",
       "      <td>4</td>\n",
       "      <td>0.000020</td>\n",
       "      <td>0.000113</td>\n",
       "      <td>0.173913</td>\n",
       "    </tr>\n",
       "    <tr>\n",
       "      <th>belief</th>\n",
       "      <th>of</th>\n",
       "      <th>more</th>\n",
       "      <td>1</td>\n",
       "      <td>0.000005</td>\n",
       "      <td>0.000029</td>\n",
       "      <td>0.166667</td>\n",
       "    </tr>\n",
       "    <tr>\n",
       "      <th>nerves</th>\n",
       "      <th>susceptible</th>\n",
       "      <th>to</th>\n",
       "      <td>1</td>\n",
       "      <td>0.000005</td>\n",
       "      <td>0.000005</td>\n",
       "      <td>1.000000</td>\n",
       "    </tr>\n",
       "    <tr>\n",
       "      <th>poets</th>\n",
       "      <th>trying</th>\n",
       "      <th>to</th>\n",
       "      <td>1</td>\n",
       "      <td>0.000005</td>\n",
       "      <td>0.000005</td>\n",
       "      <td>1.000000</td>\n",
       "    </tr>\n",
       "    <tr>\n",
       "      <th>him</th>\n",
       "      <th>a</th>\n",
       "      <th>book</th>\n",
       "      <td>1</td>\n",
       "      <td>0.000005</td>\n",
       "      <td>0.000083</td>\n",
       "      <td>0.058824</td>\n",
       "    </tr>\n",
       "  </tbody>\n",
       "</table>\n",
       "</div>"
      ],
      "text/plain": [
       "                                n         p    p_w0w1  p_w2gw0w1\n",
       "w0        w1          w2                                        \n",
       "affection for         marianne  4  0.000020  0.000113   0.173913\n",
       "belief    of          more      1  0.000005  0.000029   0.166667\n",
       "nerves    susceptible to        1  0.000005  0.000005   1.000000\n",
       "poets     trying      to        1  0.000005  0.000005   1.000000\n",
       "him       a           book      1  0.000005  0.000083   0.058824"
      ]
     },
     "execution_count": 365,
     "metadata": {},
     "output_type": "execute_result"
    }
   ],
   "source": [
    "m3.sort_values('p', ascending=False).sample(5)"
   ]
  },
  {
   "cell_type": "markdown",
   "metadata": {},
   "source": [
    "## Compute conditional probabilities\n",
    "\n",
    "$p(w_1|w_0) = p(w_0, w_1) / p(w_0)$\n",
    "\n",
    "$p(w_2|w_0,w_1) = p(w_0, w_1, w_2) / p(w_0, w_1)$"
   ]
  },
  {
   "cell_type": "code",
   "execution_count": 320,
   "metadata": {},
   "outputs": [],
   "source": [
    "m2m = m2.n.unstack().fillna(0).apply(lambda x: x / x.sum(), 1)"
   ]
  },
  {
   "cell_type": "code",
   "execution_count": 321,
   "metadata": {},
   "outputs": [],
   "source": [
    "m3m = m3.n.unstack().fillna(0).apply(lambda x: x / x.sum(), 1)"
   ]
  },
  {
   "cell_type": "markdown",
   "metadata": {},
   "source": [
    "## Explore"
   ]
  },
  {
   "cell_type": "code",
   "execution_count": 324,
   "metadata": {},
   "outputs": [
    {
     "data": {
      "text/html": [
       "<style  type=\"text/css\" >\n",
       "    #T_a445062c_11f0_11ea_94ad_8c859027f1b0row0_col0 {\n",
       "            background-color:  #50b264;\n",
       "        }    #T_a445062c_11f0_11ea_94ad_8c859027f1b0row0_col1 {\n",
       "            background-color:  #004c1e;\n",
       "        }    #T_a445062c_11f0_11ea_94ad_8c859027f1b0row0_col2 {\n",
       "            background-color:  #b1e0ab;\n",
       "        }    #T_a445062c_11f0_11ea_94ad_8c859027f1b0row0_col3 {\n",
       "            background-color:  #c2e7bb;\n",
       "        }    #T_a445062c_11f0_11ea_94ad_8c859027f1b0row0_col4 {\n",
       "            background-color:  #76c578;\n",
       "        }    #T_a445062c_11f0_11ea_94ad_8c859027f1b0row0_col5 {\n",
       "            background-color:  #00441b;\n",
       "        }    #T_a445062c_11f0_11ea_94ad_8c859027f1b0row0_col6 {\n",
       "            background-color:  #00441b;\n",
       "        }    #T_a445062c_11f0_11ea_94ad_8c859027f1b0row0_col7 {\n",
       "            background-color:  #aedea7;\n",
       "        }    #T_a445062c_11f0_11ea_94ad_8c859027f1b0row1_col0 {\n",
       "            background-color:  #ceecc8;\n",
       "        }    #T_a445062c_11f0_11ea_94ad_8c859027f1b0row1_col1 {\n",
       "            background-color:  #00441b;\n",
       "        }    #T_a445062c_11f0_11ea_94ad_8c859027f1b0row1_col2 {\n",
       "            background-color:  #7ac77b;\n",
       "        }    #T_a445062c_11f0_11ea_94ad_8c859027f1b0row1_col3 {\n",
       "            background-color:  #005f26;\n",
       "        }    #T_a445062c_11f0_11ea_94ad_8c859027f1b0row1_col4 {\n",
       "            background-color:  #00441b;\n",
       "        }    #T_a445062c_11f0_11ea_94ad_8c859027f1b0row1_col5 {\n",
       "            background-color:  #5ab769;\n",
       "        }    #T_a445062c_11f0_11ea_94ad_8c859027f1b0row1_col6 {\n",
       "            background-color:  #4aaf61;\n",
       "        }    #T_a445062c_11f0_11ea_94ad_8c859027f1b0row1_col7 {\n",
       "            background-color:  #00441b;\n",
       "        }    #T_a445062c_11f0_11ea_94ad_8c859027f1b0row2_col0 {\n",
       "            background-color:  #00441b;\n",
       "        }    #T_a445062c_11f0_11ea_94ad_8c859027f1b0row2_col1 {\n",
       "            background-color:  #f7fcf5;\n",
       "        }    #T_a445062c_11f0_11ea_94ad_8c859027f1b0row2_col2 {\n",
       "            background-color:  #00441b;\n",
       "        }    #T_a445062c_11f0_11ea_94ad_8c859027f1b0row2_col3 {\n",
       "            background-color:  #f5fbf2;\n",
       "        }    #T_a445062c_11f0_11ea_94ad_8c859027f1b0row2_col4 {\n",
       "            background-color:  #f2faef;\n",
       "        }    #T_a445062c_11f0_11ea_94ad_8c859027f1b0row2_col5 {\n",
       "            background-color:  #f7fcf5;\n",
       "        }    #T_a445062c_11f0_11ea_94ad_8c859027f1b0row2_col6 {\n",
       "            background-color:  #f7fcf5;\n",
       "        }    #T_a445062c_11f0_11ea_94ad_8c859027f1b0row2_col7 {\n",
       "            background-color:  #f7fcf5;\n",
       "        }    #T_a445062c_11f0_11ea_94ad_8c859027f1b0row3_col0 {\n",
       "            background-color:  #f7fcf5;\n",
       "        }    #T_a445062c_11f0_11ea_94ad_8c859027f1b0row3_col1 {\n",
       "            background-color:  #7ac77b;\n",
       "        }    #T_a445062c_11f0_11ea_94ad_8c859027f1b0row3_col2 {\n",
       "            background-color:  #e6f5e1;\n",
       "        }    #T_a445062c_11f0_11ea_94ad_8c859027f1b0row3_col3 {\n",
       "            background-color:  #00441b;\n",
       "        }    #T_a445062c_11f0_11ea_94ad_8c859027f1b0row3_col4 {\n",
       "            background-color:  #86cc85;\n",
       "        }    #T_a445062c_11f0_11ea_94ad_8c859027f1b0row3_col5 {\n",
       "            background-color:  #ceecc8;\n",
       "        }    #T_a445062c_11f0_11ea_94ad_8c859027f1b0row3_col6 {\n",
       "            background-color:  #d4eece;\n",
       "        }    #T_a445062c_11f0_11ea_94ad_8c859027f1b0row3_col7 {\n",
       "            background-color:  #92d28f;\n",
       "        }    #T_a445062c_11f0_11ea_94ad_8c859027f1b0row4_col0 {\n",
       "            background-color:  #e5f5e0;\n",
       "        }    #T_a445062c_11f0_11ea_94ad_8c859027f1b0row4_col1 {\n",
       "            background-color:  #dff3da;\n",
       "        }    #T_a445062c_11f0_11ea_94ad_8c859027f1b0row4_col2 {\n",
       "            background-color:  #f7fcf5;\n",
       "        }    #T_a445062c_11f0_11ea_94ad_8c859027f1b0row4_col3 {\n",
       "            background-color:  #f7fcf5;\n",
       "        }    #T_a445062c_11f0_11ea_94ad_8c859027f1b0row4_col4 {\n",
       "            background-color:  #f7fcf5;\n",
       "        }    #T_a445062c_11f0_11ea_94ad_8c859027f1b0row4_col5 {\n",
       "            background-color:  #53b466;\n",
       "        }    #T_a445062c_11f0_11ea_94ad_8c859027f1b0row4_col6 {\n",
       "            background-color:  #4db163;\n",
       "        }    #T_a445062c_11f0_11ea_94ad_8c859027f1b0row4_col7 {\n",
       "            background-color:  #b0dfaa;\n",
       "        }</style>  \n",
       "<table id=\"T_a445062c_11f0_11ea_94ad_8c859027f1b0\" > \n",
       "<thead>    <tr> \n",
       "        <th class=\"index_name level0\" >w1</th> \n",
       "        <th class=\"col_heading level0 col0\" >is</th> \n",
       "        <th class=\"col_heading level0 col1\" >had</th> \n",
       "        <th class=\"col_heading level0 col2\" >was</th> \n",
       "        <th class=\"col_heading level0 col3\" >felt</th> \n",
       "        <th class=\"col_heading level0 col4\" >thought</th> \n",
       "        <th class=\"col_heading level0 col5\" >looked</th> \n",
       "        <th class=\"col_heading level0 col6\" >said</th> \n",
       "        <th class=\"col_heading level0 col7\" >saw</th> \n",
       "    </tr>    <tr> \n",
       "        <th class=\"index_name level0\" >w0</th> \n",
       "        <th class=\"blank\" ></th> \n",
       "        <th class=\"blank\" ></th> \n",
       "        <th class=\"blank\" ></th> \n",
       "        <th class=\"blank\" ></th> \n",
       "        <th class=\"blank\" ></th> \n",
       "        <th class=\"blank\" ></th> \n",
       "        <th class=\"blank\" ></th> \n",
       "        <th class=\"blank\" ></th> \n",
       "    </tr></thead> \n",
       "<tbody>    <tr> \n",
       "        <th id=\"T_a445062c_11f0_11ea_94ad_8c859027f1b0level0_row0\" class=\"row_heading level0 row0\" >he</th> \n",
       "        <td id=\"T_a445062c_11f0_11ea_94ad_8c859027f1b0row0_col0\" class=\"data row0 col0\" >0.0569898</td> \n",
       "        <td id=\"T_a445062c_11f0_11ea_94ad_8c859027f1b0row0_col1\" class=\"data row0 col1\" >0.146615</td> \n",
       "        <td id=\"T_a445062c_11f0_11ea_94ad_8c859027f1b0row0_col2\" class=\"data row0 col2\" >0.121286</td> \n",
       "        <td id=\"T_a445062c_11f0_11ea_94ad_8c859027f1b0row0_col3\" class=\"data row0 col3\" >0.00535801</td> \n",
       "        <td id=\"T_a445062c_11f0_11ea_94ad_8c859027f1b0row0_col4\" class=\"data row0 col4\" >0.00487092</td> \n",
       "        <td id=\"T_a445062c_11f0_11ea_94ad_8c859027f1b0row0_col5\" class=\"data row0 col5\" >0.00876766</td> \n",
       "        <td id=\"T_a445062c_11f0_11ea_94ad_8c859027f1b0row0_col6\" class=\"data row0 col6\" >0.0165611</td> \n",
       "        <td id=\"T_a445062c_11f0_11ea_94ad_8c859027f1b0row0_col7\" class=\"data row0 col7\" >0.00535801</td> \n",
       "    </tr>    <tr> \n",
       "        <th id=\"T_a445062c_11f0_11ea_94ad_8c859027f1b0level0_row1\" class=\"row_heading level0 row1\" >she</th> \n",
       "        <td id=\"T_a445062c_11f0_11ea_94ad_8c859027f1b0row1_col0\" class=\"data row1 col0\" >0.0240876</td> \n",
       "        <td id=\"T_a445062c_11f0_11ea_94ad_8c859027f1b0row1_col1\" class=\"data row1 col1\" >0.15</td> \n",
       "        <td id=\"T_a445062c_11f0_11ea_94ad_8c859027f1b0row1_col2\" class=\"data row1 col2\" >0.134672</td> \n",
       "        <td id=\"T_a445062c_11f0_11ea_94ad_8c859027f1b0row1_col3\" class=\"data row1 col3\" >0.0182482</td> \n",
       "        <td id=\"T_a445062c_11f0_11ea_94ad_8c859027f1b0row1_col4\" class=\"data row1 col4\" >0.00985401</td> \n",
       "        <td id=\"T_a445062c_11f0_11ea_94ad_8c859027f1b0row1_col5\" class=\"data row1 col5\" >0.00510949</td> \n",
       "        <td id=\"T_a445062c_11f0_11ea_94ad_8c859027f1b0row1_col6\" class=\"data row1 col6\" >0.0105839</td> \n",
       "        <td id=\"T_a445062c_11f0_11ea_94ad_8c859027f1b0row1_col7\" class=\"data row1 col7\" >0.0160584</td> \n",
       "    </tr>    <tr> \n",
       "        <th id=\"T_a445062c_11f0_11ea_94ad_8c859027f1b0level0_row2\" class=\"row_heading level0 row2\" >it</th> \n",
       "        <td id=\"T_a445062c_11f0_11ea_94ad_8c859027f1b0row2_col0\" class=\"data row2 col0\" >0.0940109</td> \n",
       "        <td id=\"T_a445062c_11f0_11ea_94ad_8c859027f1b0row2_col1\" class=\"data row2 col1\" >0.0228675</td> \n",
       "        <td id=\"T_a445062c_11f0_11ea_94ad_8c859027f1b0row2_col2\" class=\"data row2 col2\" >0.177858</td> \n",
       "        <td id=\"T_a445062c_11f0_11ea_94ad_8c859027f1b0row2_col3\" class=\"data row2 col3\" >0.000362976</td> \n",
       "        <td id=\"T_a445062c_11f0_11ea_94ad_8c859027f1b0row2_col4\" class=\"data row2 col4\" >0.000362976</td> \n",
       "        <td id=\"T_a445062c_11f0_11ea_94ad_8c859027f1b0row2_col5\" class=\"data row2 col5\" >0.000362976</td> \n",
       "        <td id=\"T_a445062c_11f0_11ea_94ad_8c859027f1b0row2_col6\" class=\"data row2 col6\" >0.00145191</td> \n",
       "        <td id=\"T_a445062c_11f0_11ea_94ad_8c859027f1b0row2_col7\" class=\"data row2 col7\" >0</td> \n",
       "    </tr>    <tr> \n",
       "        <th id=\"T_a445062c_11f0_11ea_94ad_8c859027f1b0level0_row3\" class=\"row_heading level0 row3\" >anne</th> \n",
       "        <td id=\"T_a445062c_11f0_11ea_94ad_8c859027f1b0row3_col0\" class=\"data row3 col0\" >0.00443459</td> \n",
       "        <td id=\"T_a445062c_11f0_11ea_94ad_8c859027f1b0row3_col1\" class=\"data row3 col1\" >0.0842572</td> \n",
       "        <td id=\"T_a445062c_11f0_11ea_94ad_8c859027f1b0row3_col2\" class=\"data row3 col2\" >0.104213</td> \n",
       "        <td id=\"T_a445062c_11f0_11ea_94ad_8c859027f1b0row3_col3\" class=\"data row3 col3\" >0.0199557</td> \n",
       "        <td id=\"T_a445062c_11f0_11ea_94ad_8c859027f1b0row3_col4\" class=\"data row3 col4\" >0.00443459</td> \n",
       "        <td id=\"T_a445062c_11f0_11ea_94ad_8c859027f1b0row3_col5\" class=\"data row3 col5\" >0.00221729</td> \n",
       "        <td id=\"T_a445062c_11f0_11ea_94ad_8c859027f1b0row3_col6\" class=\"data row3 col6\" >0.00443459</td> \n",
       "        <td id=\"T_a445062c_11f0_11ea_94ad_8c859027f1b0row3_col7\" class=\"data row3 col7\" >0.00665188</td> \n",
       "    </tr>    <tr> \n",
       "        <th id=\"T_a445062c_11f0_11ea_94ad_8c859027f1b0level0_row4\" class=\"row_heading level0 row4\" >wentworth</th> \n",
       "        <td id=\"T_a445062c_11f0_11ea_94ad_8c859027f1b0row4_col0\" class=\"data row4 col0\" >0.0157068</td> \n",
       "        <td id=\"T_a445062c_11f0_11ea_94ad_8c859027f1b0row4_col1\" class=\"data row4 col1\" >0.0418848</td> \n",
       "        <td id=\"T_a445062c_11f0_11ea_94ad_8c859027f1b0row4_col2\" class=\"data row4 col2\" >0.0942408</td> \n",
       "        <td id=\"T_a445062c_11f0_11ea_94ad_8c859027f1b0row4_col3\" class=\"data row4 col3\" >0</td> \n",
       "        <td id=\"T_a445062c_11f0_11ea_94ad_8c859027f1b0row4_col4\" class=\"data row4 col4\" >0</td> \n",
       "        <td id=\"T_a445062c_11f0_11ea_94ad_8c859027f1b0row4_col5\" class=\"data row4 col5\" >0.0052356</td> \n",
       "        <td id=\"T_a445062c_11f0_11ea_94ad_8c859027f1b0row4_col6\" class=\"data row4 col6\" >0.0104712</td> \n",
       "        <td id=\"T_a445062c_11f0_11ea_94ad_8c859027f1b0row4_col7\" class=\"data row4 col7\" >0.0052356</td> \n",
       "    </tr></tbody> \n",
       "</table> "
      ],
      "text/plain": [
       "<pandas.io.formats.style.Styler at 0x1a32c827f0>"
      ]
     },
     "execution_count": 324,
     "metadata": {},
     "output_type": "execute_result"
    }
   ],
   "source": [
    "m2m.loc[['he','she','it','anne','wentworth'], ['is','had','was','felt','thought','looked','said','saw']].style.background_gradient(cmap='Greens')"
   ]
  },
  {
   "cell_type": "code",
   "execution_count": 359,
   "metadata": {},
   "outputs": [
    {
     "data": {
      "text/html": [
       "<style  type=\"text/css\" >\n",
       "    #T_a7618258_11f1_11ea_8d0d_8c859027f1b0row0_col0 {\n",
       "            background-color:  #f7fcf5;\n",
       "        }    #T_a7618258_11f1_11ea_8d0d_8c859027f1b0row0_col1 {\n",
       "            background-color:  #00441b;\n",
       "        }    #T_a7618258_11f1_11ea_8d0d_8c859027f1b0row1_col0 {\n",
       "            background-color:  #00441b;\n",
       "        }    #T_a7618258_11f1_11ea_8d0d_8c859027f1b0row1_col1 {\n",
       "            background-color:  #f7fcf5;\n",
       "        }</style>  \n",
       "<table id=\"T_a7618258_11f1_11ea_8d0d_8c859027f1b0\" > \n",
       "<thead>    <tr> \n",
       "        <th class=\"index_name level0\" >w1</th> \n",
       "        <th class=\"col_heading level0 col0\" >felt</th> \n",
       "        <th class=\"col_heading level0 col1\" >said</th> \n",
       "    </tr>    <tr> \n",
       "        <th class=\"index_name level0\" >w0</th> \n",
       "        <th class=\"blank\" ></th> \n",
       "        <th class=\"blank\" ></th> \n",
       "    </tr></thead> \n",
       "<tbody>    <tr> \n",
       "        <th id=\"T_a7618258_11f1_11ea_8d0d_8c859027f1b0level0_row0\" class=\"row_heading level0 row0\" >he</th> \n",
       "        <td id=\"T_a7618258_11f1_11ea_8d0d_8c859027f1b0row0_col0\" class=\"data row0 col0\" >0.00535801</td> \n",
       "        <td id=\"T_a7618258_11f1_11ea_8d0d_8c859027f1b0row0_col1\" class=\"data row0 col1\" >0.0165611</td> \n",
       "    </tr>    <tr> \n",
       "        <th id=\"T_a7618258_11f1_11ea_8d0d_8c859027f1b0level0_row1\" class=\"row_heading level0 row1\" >she</th> \n",
       "        <td id=\"T_a7618258_11f1_11ea_8d0d_8c859027f1b0row1_col0\" class=\"data row1 col0\" >0.0182482</td> \n",
       "        <td id=\"T_a7618258_11f1_11ea_8d0d_8c859027f1b0row1_col1\" class=\"data row1 col1\" >0.0105839</td> \n",
       "    </tr></tbody> \n",
       "</table> "
      ],
      "text/plain": [
       "<pandas.io.formats.style.Styler at 0x1a3280afd0>"
      ]
     },
     "execution_count": 359,
     "metadata": {},
     "output_type": "execute_result"
    }
   ],
   "source": [
    "m2m.loc[['he','she'],['felt','said']].style.background_gradient(cmap='Greens')"
   ]
  },
  {
   "cell_type": "markdown",
   "metadata": {
    "colab_type": "text",
    "id": "cPY7ekfXgbE_"
   },
   "source": [
    "# Generate Text\n",
    "\n",
    "We use \"stupid back-off\" to account for missing ngrams."
   ]
  },
  {
   "cell_type": "code",
   "execution_count": 362,
   "metadata": {},
   "outputs": [],
   "source": [
    "def generate_text(start_word='she', n=250):\n",
    "    words = [start_word]\n",
    "    for i in range(n):\n",
    "        if len(words) == 1:\n",
    "            w = m2m.loc[start_word]\n",
    "            next_word = m2m.loc[start_word].sample(weights=w).index.values[0]\n",
    "        elif len(words) > 1:\n",
    "            bg = tuple(words[-2:])\n",
    "            try:\n",
    "                w = m3m.loc[bg]\n",
    "                next_word = m3m.loc[bg].sample(weights=w).index.values[0]\n",
    "            except KeyError:\n",
    "                ug = bg[1]\n",
    "                if ug == '<s>':\n",
    "                    next_word = m1.sample(weights=m1.p).index[0]\n",
    "                else:\n",
    "                    w = m2m.loc[ug]\n",
    "                    next_word = m2m.loc[ug].sample(weights=w).index.values[0]\n",
    "        words.append(next_word)\n",
    "    text = ' '.join(words)\n",
    "    text = text.replace(' <s> <s>', '.') + '.'\n",
    "    text = text.upper() # To give that telegraph message look :-)\n",
    "    print(text)"
   ]
  },
  {
   "cell_type": "code",
   "execution_count": 363,
   "metadata": {},
   "outputs": [
    {
     "name": "stdout",
     "output_type": "stream",
     "text": [
      "THE MOMENT. CAUGHT BY OTHER COMPANY. YOUR SIGHT AS THE NIECES OF THE PARTY. OF VERY USEFUL HAD MADE A VERY PLEASANT AND THE WARM BATH. I THINK ENDS THE RESEMBLANCE I HAVE REPEATED IT TO BE THOUGHT SO AT THE WINDOW IN HOPES AS I TALKED ONLY OF MARIANNE SHE IS OF SOME BOOKS THAT HE SEEMED RATHER SURPRISING TO HIM THOUGH LATELY ACQUIRED IS VERY UNFORTUNATE. BLUSHED OVER THE FIRE DO NOT EXPECT TO GET REAL INFORMATION IN THE ROOM ON THEIR SUMMITS WERE A DREADFUL EXTENSION OF YOUR INTENTION. SHE SHOULD SUFFER. EDWARD FERRARS WAS THE LIGHT AND WARMTH OF HER CHILDREN AND FRIENDS. NOW THAT WE HOPE TO SEE HER WITH SOME DEGREE OF SELFDENIAL WHICH HER OWN VOICE NOW SAID. FOR SOME TIME THUS SPENT IN ALL ESSENTIALS THAN ADMIRAL CROFT BID FAIR TO EQUAL HER FATHER HAD NO HOPE OF FINDING HER WAY WAS EQUALLY THE PERSUASION THAT HE SHOULD COME TO SEE THE LIKE. LIKES ME NOW TO PERCEIVE THAT HER SUCCESS WAS SPEEDY AND FOR SOME MINUTES AND THEN I HOPE THERE IS A KIND OF COLD HEARTED SELFISHNESS ON BOTH SIDES GOOD PRINCIPLES AND GOOD HUMOUR PERHAPS ELINOR IT IS A RECOLLECTION OF PAST REGARD. HE WAS FULL OF PERSONS WALKING THROUGH HAD DISTINGUISHED HIMSELF AND HIS POULTRY. DIFFERENT CAUSE NO LESS CONTENTED WITH ABSOLUTELY REFUSING TO GO.\n"
     ]
    }
   ],
   "source": [
    "generate_text('the')"
   ]
  },
  {
   "cell_type": "code",
   "execution_count": 364,
   "metadata": {},
   "outputs": [
    {
     "name": "stdout",
     "output_type": "stream",
     "text": [
      "SHE WAS SO ATTENTIVE TO ME AGAIN AND MR MUSGROVE TO KEEP OUT OF HER OWN SISTER MUST ALLOW FOR AN ANSWER AND MAKE OF HER REMOVAL WAS MORE THAN THE COTTAGE AFFORDED A GENERAL WISH TO SEE HER EQUAL. PRATT CAN GIVE OCCASION TO SUCH A MAN WHOSE PREVAILING ANXIETY WAS THE ELDEST BOYS BEING AT THAT TIME OF YEAR AND AFTER THINKING IT A BAD ONE I DO WELL AND HE LOOKED AT HER SIDE AND THOUGHTFULNESS ON HIS OWN ENJOYMENT OR HIS OWN CHOICE. HAVE BEEN RUN UP STAIRS INTO THE ROOM. IN LOVE. HAVING THUS SUPPORTED THE DIGNITY OF SIR WALTERS CONTINUING IN SINGLENESS REQUIRES EXPLANATION. DO NOT BE ALARMED AT IN REALITY THAN SHE DARED NOT LONGER LIVED. RATHER MORE PAINFULLY EXTORTED FROM HER THE SHADES OF HIS EXCEPTING FOR A LITTLE DISORDERED ALWAYS THE FIRST FORTNIGHT AND YET YOU WROTE TO HIM IN POLITICAL CONCERNS TO GET OUT OF THE MARRIAGE OF EDWARD. ESTIMATE ITS BEAUTIES AS HE FELT ALL OVER THE SHOCK AND MORTIFICATION OF FINDING HER STILL MORE ITS SWEET RETIRED BAY BACKED BY DARK CLIFFS WHERE FRAGMENTS OF LOW ROCK AMONG THE ONLY WONDER WAS WHAT LADY RUSSELL TELL HER HOW MUCH HANDSOMER HOW INFINITELY SUPERIOR TO HER SON DETERMINED TO BE LISTENED FOR WHEN I HAVE OFTEN HEARD HIM SPEAK OF IT. SHE REVERTED TO IT WHICH MY FAMILY TO HAVE HIM. DAYS.\n"
     ]
    }
   ],
   "source": [
    "generate_text('she')"
   ]
  },
  {
   "cell_type": "code",
   "execution_count": null,
   "metadata": {},
   "outputs": [],
   "source": []
  }
 ],
 "metadata": {
  "colab": {
   "collapsed_sections": [],
   "name": "DS5559_LMs.ipynb",
   "provenance": [],
   "toc_visible": true,
   "version": "0.3.2"
  },
  "kernelspec": {
   "display_name": "Python 3",
   "language": "python",
   "name": "python3"
  },
  "language_info": {
   "codemirror_mode": {
    "name": "ipython",
    "version": 3
   },
   "file_extension": ".py",
   "mimetype": "text/x-python",
   "name": "python",
   "nbconvert_exporter": "python",
   "pygments_lexer": "ipython3",
   "version": "3.6.5"
  }
 },
 "nbformat": 4,
 "nbformat_minor": 4
}
