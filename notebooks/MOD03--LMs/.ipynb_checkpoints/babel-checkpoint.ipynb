{
 "cells": [
  {
   "cell_type": "markdown",
   "metadata": {
    "colab_type": "text",
    "id": "d5lxxAgsa6go",
    "toc-hr-collapsed": true
   },
   "source": [
    "# Module 3: Baby Babel\n",
    "\n",
    "* DS 6001\n",
    "* Raf Alvarado\n",
    "\n",
    "Baby Babel is Babel library constructed from a small alphabet. "
   ]
  },
  {
   "cell_type": "markdown",
   "metadata": {
    "colab_type": "text",
    "id": "iWg2R7dFa6gu",
    "toc-hr-collapsed": true
   },
   "source": [
    "## Method 1: Basic Python"
   ]
  },
  {
   "cell_type": "code",
   "execution_count": 22,
   "metadata": {
    "colab": {},
    "colab_type": "code",
    "id": "NhxIat0Oa6gz"
   },
   "outputs": [],
   "source": [
    "import re\n",
    "import math"
   ]
  },
  {
   "cell_type": "markdown",
   "metadata": {
    "colab_type": "text",
    "id": "PE1iQpcPa6hG",
    "toc-hr-collapsed": false
   },
   "source": [
    "### Define the Symbol Set"
   ]
  },
  {
   "cell_type": "code",
   "execution_count": 3,
   "metadata": {
    "colab": {},
    "colab_type": "code",
    "id": "BpgbcvT8a6hK"
   },
   "outputs": [],
   "source": [
    "letters = ['a', 'b', 't', '_']"
   ]
  },
  {
   "cell_type": "markdown",
   "metadata": {
    "colab_type": "text",
    "id": "NsTcj8Osa6hV"
   },
   "source": [
    "### Generate all possible messages of length 6\n",
    "\n",
    "This is a clumsy but visually effective way to demonstrate how the Library of Babel might have been constructed. It is essentially the cartesian product of the alphabet, multiplying by the length of the message."
   ]
  },
  {
   "cell_type": "code",
   "execution_count": 4,
   "metadata": {
    "colab": {},
    "colab_type": "code",
    "id": "lhx_yFxQa6ha"
   },
   "outputs": [],
   "source": [
    "books = []\n",
    "for L1 in letters:\n",
    "    for L2 in letters:\n",
    "        for L3 in letters:\n",
    "            for L4 in letters:\n",
    "                for L5 in letters:\n",
    "                    for L6 in letters:\n",
    "                        books.append(''.join((L1,L2,L3,L4,L5,L6)))"
   ]
  },
  {
   "cell_type": "markdown",
   "metadata": {
    "colab_type": "text",
    "id": "_Ji103vOa6iE"
   },
   "source": [
    "### See how many messages"
   ]
  },
  {
   "cell_type": "code",
   "execution_count": 5,
   "metadata": {
    "colab": {
     "base_uri": "https://localhost:8080/",
     "height": 34
    },
    "colab_type": "code",
    "executionInfo": {
     "elapsed": 448,
     "status": "ok",
     "timestamp": 1549030949938,
     "user": {
      "displayName": "Rafael Alvarado",
      "photoUrl": "https://lh3.googleusercontent.com/-gvKWs7zR4JY/AAAAAAAAAAI/AAAAAAABqfk/Q8O12g6M_T4/s64/photo.jpg",
      "userId": "11010075019714369526"
     },
     "user_tz": 300
    },
    "id": "iVHotJmNa6iM",
    "outputId": "5114039a-ed94-4b8c-ee0f-8df8764b195e"
   },
   "outputs": [
    {
     "data": {
      "text/plain": [
       "4096"
      ]
     },
     "execution_count": 5,
     "metadata": {},
     "output_type": "execute_result"
    }
   ],
   "source": [
    "n = len(books)\n",
    "n"
   ]
  },
  {
   "cell_type": "code",
   "execution_count": 6,
   "metadata": {
    "colab": {
     "base_uri": "https://localhost:8080/",
     "height": 34
    },
    "colab_type": "code",
    "executionInfo": {
     "elapsed": 431,
     "status": "ok",
     "timestamp": 1549030954210,
     "user": {
      "displayName": "Rafael Alvarado",
      "photoUrl": "https://lh3.googleusercontent.com/-gvKWs7zR4JY/AAAAAAAAAAI/AAAAAAABqfk/Q8O12g6M_T4/s64/photo.jpg",
      "userId": "11010075019714369526"
     },
     "user_tz": 300
    },
    "id": "gz-3LFGua6ir",
    "outputId": "a17c1bbe-0996-4ec5-babd-f3c82604dd5a"
   },
   "outputs": [
    {
     "data": {
      "text/plain": [
       "4096"
      ]
     },
     "execution_count": 6,
     "metadata": {},
     "output_type": "execute_result"
    }
   ],
   "source": [
    "len(letters) ** 6"
   ]
  },
  {
   "cell_type": "markdown",
   "metadata": {},
   "source": [
    "## Look at a sample set of books"
   ]
  },
  {
   "cell_type": "code",
   "execution_count": 7,
   "metadata": {
    "colab": {
     "base_uri": "https://localhost:8080/",
     "height": 192
    },
    "colab_type": "code",
    "executionInfo": {
     "elapsed": 659,
     "status": "ok",
     "timestamp": 1549030956824,
     "user": {
      "displayName": "Rafael Alvarado",
      "photoUrl": "https://lh3.googleusercontent.com/-gvKWs7zR4JY/AAAAAAAAAAI/AAAAAAABqfk/Q8O12g6M_T4/s64/photo.jpg",
      "userId": "11010075019714369526"
     },
     "user_tz": 300
    },
    "id": "SynB3H2Ha6i9",
    "outputId": "71999bc0-18f6-45fb-9dda-a55b0933a50c"
   },
   "outputs": [
    {
     "data": {
      "text/plain": [
       "['aaaaaa',\n",
       " 'aaaaab',\n",
       " 'aaaaat',\n",
       " 'aaaaa_',\n",
       " 'aaaaba',\n",
       " 'aaaabb',\n",
       " 'aaaabt',\n",
       " 'aaaab_',\n",
       " 'aaaata',\n",
       " 'aaaatb']"
      ]
     },
     "execution_count": 7,
     "metadata": {},
     "output_type": "execute_result"
    }
   ],
   "source": [
    "books[:10]"
   ]
  },
  {
   "cell_type": "markdown",
   "metadata": {},
   "source": [
    "## Get the probability of a book"
   ]
  },
  {
   "cell_type": "code",
   "execution_count": 8,
   "metadata": {},
   "outputs": [],
   "source": [
    "p_book = 1/n"
   ]
  },
  {
   "cell_type": "code",
   "execution_count": 9,
   "metadata": {},
   "outputs": [
    {
     "data": {
      "text/plain": [
       "0.000244140625"
      ]
     },
     "execution_count": 9,
     "metadata": {},
     "output_type": "execute_result"
    }
   ],
   "source": [
    "p_book"
   ]
  },
  {
   "cell_type": "markdown",
   "metadata": {},
   "source": [
    "## Get the entropy of this source"
   ]
  },
  {
   "cell_type": "code",
   "execution_count": 11,
   "metadata": {},
   "outputs": [],
   "source": [
    "import math"
   ]
  },
  {
   "cell_type": "code",
   "execution_count": 69,
   "metadata": {},
   "outputs": [],
   "source": [
    "H = (1/n * math.log(n, 4)) * n # Of course, same as math.log(n, 4)"
   ]
  },
  {
   "cell_type": "code",
   "execution_count": 70,
   "metadata": {},
   "outputs": [
    {
     "data": {
      "text/plain": [
       "6.0"
      ]
     },
     "execution_count": 70,
     "metadata": {},
     "output_type": "execute_result"
    }
   ],
   "source": [
    "H"
   ]
  },
  {
   "cell_type": "markdown",
   "metadata": {
    "colab_type": "text",
    "id": "Tf2nfjeia6jM"
   },
   "source": [
    "### Find the string `at_bat`"
   ]
  },
  {
   "cell_type": "code",
   "execution_count": 71,
   "metadata": {
    "colab": {
     "base_uri": "https://localhost:8080/",
     "height": 34
    },
    "colab_type": "code",
    "executionInfo": {
     "elapsed": 443,
     "status": "ok",
     "timestamp": 1549030959755,
     "user": {
      "displayName": "Rafael Alvarado",
      "photoUrl": "https://lh3.googleusercontent.com/-gvKWs7zR4JY/AAAAAAAAAAI/AAAAAAABqfk/Q8O12g6M_T4/s64/photo.jpg",
      "userId": "11010075019714369526"
     },
     "user_tz": 300
    },
    "id": "-hQrK0mWa6jO",
    "outputId": "a77b1806-6e06-4e9c-b0f9-9e181594d6e3"
   },
   "outputs": [
    {
     "data": {
      "text/plain": [
       "722"
      ]
     },
     "execution_count": 71,
     "metadata": {},
     "output_type": "execute_result"
    }
   ],
   "source": [
    "result = [i for i, book in enumerate(books) if re.search(r'at_bat', book)][0]\n",
    "result"
   ]
  },
  {
   "cell_type": "code",
   "execution_count": 72,
   "metadata": {
    "colab": {
     "base_uri": "https://localhost:8080/",
     "height": 34
    },
    "colab_type": "code",
    "executionInfo": {
     "elapsed": 656,
     "status": "ok",
     "timestamp": 1549030963469,
     "user": {
      "displayName": "Rafael Alvarado",
      "photoUrl": "https://lh3.googleusercontent.com/-gvKWs7zR4JY/AAAAAAAAAAI/AAAAAAABqfk/Q8O12g6M_T4/s64/photo.jpg",
      "userId": "11010075019714369526"
     },
     "user_tz": 300
    },
    "id": "806_LQU8a6jZ",
    "outputId": "ac5ca78d-4fb7-423a-af2a-c7356d2c1af5"
   },
   "outputs": [
    {
     "data": {
      "text/plain": [
       "'at_bat'"
      ]
     },
     "execution_count": 72,
     "metadata": {},
     "output_type": "execute_result"
    }
   ],
   "source": [
    "books[result]"
   ]
  },
  {
   "cell_type": "markdown",
   "metadata": {
    "colab_type": "text",
    "id": "WcaMR0Ija6jk",
    "toc-hr-collapsed": true
   },
   "source": [
    "## Method 2: Pandas"
   ]
  },
  {
   "cell_type": "code",
   "execution_count": 73,
   "metadata": {
    "colab": {},
    "colab_type": "code",
    "id": "qfGct_UBa6jn"
   },
   "outputs": [],
   "source": [
    "import pandas as pd"
   ]
  },
  {
   "cell_type": "markdown",
   "metadata": {
    "colab_type": "text",
    "id": "WClA1y_7a6jv"
   },
   "source": [
    "### Generate permutation space as MultiIndex"
   ]
  },
  {
   "cell_type": "code",
   "execution_count": 76,
   "metadata": {},
   "outputs": [],
   "source": [
    "L = 6"
   ]
  },
  {
   "cell_type": "code",
   "execution_count": 77,
   "metadata": {
    "colab": {},
    "colab_type": "code",
    "id": "coSBBMw7a6jy"
   },
   "outputs": [],
   "source": [
    "X = [letters for i in range(L)]"
   ]
  },
  {
   "cell_type": "code",
   "execution_count": 78,
   "metadata": {
    "colab": {},
    "colab_type": "code",
    "id": "ksjXOg60a6j8",
    "outputId": "2dd6fe6d-7068-4e2f-e0da-8d55351a93c6"
   },
   "outputs": [
    {
     "data": {
      "text/plain": [
       "[['a', 'b', 't', '_'],\n",
       " ['a', 'b', 't', '_'],\n",
       " ['a', 'b', 't', '_'],\n",
       " ['a', 'b', 't', '_'],\n",
       " ['a', 'b', 't', '_'],\n",
       " ['a', 'b', 't', '_']]"
      ]
     },
     "execution_count": 78,
     "metadata": {},
     "output_type": "execute_result"
    }
   ],
   "source": [
    "X"
   ]
  },
  {
   "cell_type": "code",
   "execution_count": 79,
   "metadata": {
    "colab": {},
    "colab_type": "code",
    "id": "wqGL3b0Fa6kI"
   },
   "outputs": [],
   "source": [
    "library = pd.DataFrame(index=pd.MultiIndex.from_product(X)).reset_index()"
   ]
  },
  {
   "cell_type": "code",
   "execution_count": 80,
   "metadata": {
    "colab": {
     "base_uri": "https://localhost:8080/",
     "height": 201
    },
    "colab_type": "code",
    "executionInfo": {
     "elapsed": 478,
     "status": "ok",
     "timestamp": 1549030983594,
     "user": {
      "displayName": "Rafael Alvarado",
      "photoUrl": "https://lh3.googleusercontent.com/-gvKWs7zR4JY/AAAAAAAAAAI/AAAAAAABqfk/Q8O12g6M_T4/s64/photo.jpg",
      "userId": "11010075019714369526"
     },
     "user_tz": 300
    },
    "id": "7Gd0VNi5a6kR",
    "outputId": "2046cb63-79de-4b6b-f077-1b0ac763afae"
   },
   "outputs": [
    {
     "data": {
      "text/html": [
       "<div>\n",
       "<style scoped>\n",
       "    .dataframe tbody tr th:only-of-type {\n",
       "        vertical-align: middle;\n",
       "    }\n",
       "\n",
       "    .dataframe tbody tr th {\n",
       "        vertical-align: top;\n",
       "    }\n",
       "\n",
       "    .dataframe thead th {\n",
       "        text-align: right;\n",
       "    }\n",
       "</style>\n",
       "<table border=\"1\" class=\"dataframe\">\n",
       "  <thead>\n",
       "    <tr style=\"text-align: right;\">\n",
       "      <th></th>\n",
       "      <th>level_0</th>\n",
       "      <th>level_1</th>\n",
       "      <th>level_2</th>\n",
       "      <th>level_3</th>\n",
       "      <th>level_4</th>\n",
       "      <th>level_5</th>\n",
       "    </tr>\n",
       "  </thead>\n",
       "  <tbody>\n",
       "    <tr>\n",
       "      <th>0</th>\n",
       "      <td>a</td>\n",
       "      <td>a</td>\n",
       "      <td>a</td>\n",
       "      <td>a</td>\n",
       "      <td>a</td>\n",
       "      <td>a</td>\n",
       "    </tr>\n",
       "    <tr>\n",
       "      <th>1</th>\n",
       "      <td>a</td>\n",
       "      <td>a</td>\n",
       "      <td>a</td>\n",
       "      <td>a</td>\n",
       "      <td>a</td>\n",
       "      <td>b</td>\n",
       "    </tr>\n",
       "    <tr>\n",
       "      <th>2</th>\n",
       "      <td>a</td>\n",
       "      <td>a</td>\n",
       "      <td>a</td>\n",
       "      <td>a</td>\n",
       "      <td>a</td>\n",
       "      <td>t</td>\n",
       "    </tr>\n",
       "    <tr>\n",
       "      <th>3</th>\n",
       "      <td>a</td>\n",
       "      <td>a</td>\n",
       "      <td>a</td>\n",
       "      <td>a</td>\n",
       "      <td>a</td>\n",
       "      <td>_</td>\n",
       "    </tr>\n",
       "    <tr>\n",
       "      <th>4</th>\n",
       "      <td>a</td>\n",
       "      <td>a</td>\n",
       "      <td>a</td>\n",
       "      <td>a</td>\n",
       "      <td>b</td>\n",
       "      <td>a</td>\n",
       "    </tr>\n",
       "  </tbody>\n",
       "</table>\n",
       "</div>"
      ],
      "text/plain": [
       "  level_0 level_1 level_2 level_3 level_4 level_5\n",
       "0       a       a       a       a       a       a\n",
       "1       a       a       a       a       a       b\n",
       "2       a       a       a       a       a       t\n",
       "3       a       a       a       a       a       _\n",
       "4       a       a       a       a       b       a"
      ]
     },
     "execution_count": 80,
     "metadata": {},
     "output_type": "execute_result"
    }
   ],
   "source": [
    "library.head()"
   ]
  },
  {
   "cell_type": "code",
   "execution_count": 81,
   "metadata": {
    "colab": {},
    "colab_type": "code",
    "id": "ppeVgk77a6kh"
   },
   "outputs": [],
   "source": [
    "library['book'] = library.apply(lambda x: x.str.cat(), 1)"
   ]
  },
  {
   "cell_type": "code",
   "execution_count": 82,
   "metadata": {
    "colab": {},
    "colab_type": "code",
    "id": "sz2coleoa6k1",
    "outputId": "68b7c7a1-d08e-4d5c-ff98-1201aa14a806"
   },
   "outputs": [
    {
     "data": {
      "text/plain": [
       "0    aaaaaa\n",
       "1    aaaaab\n",
       "2    aaaaat\n",
       "3    aaaaa_\n",
       "4    aaaaba\n",
       "5    aaaabb\n",
       "6    aaaabt\n",
       "7    aaaab_\n",
       "8    aaaata\n",
       "9    aaaatb\n",
       "Name: book, dtype: object"
      ]
     },
     "execution_count": 82,
     "metadata": {},
     "output_type": "execute_result"
    }
   ],
   "source": [
    "library.book.head(10)"
   ]
  },
  {
   "cell_type": "markdown",
   "metadata": {
    "colab_type": "text",
    "id": "rD6NUo5Ka6lO"
   },
   "source": [
    "### Find string `at_bat`"
   ]
  },
  {
   "cell_type": "code",
   "execution_count": 83,
   "metadata": {
    "colab": {
     "base_uri": "https://localhost:8080/",
     "height": 34
    },
    "colab_type": "code",
    "executionInfo": {
     "elapsed": 567,
     "status": "ok",
     "timestamp": 1549031010625,
     "user": {
      "displayName": "Rafael Alvarado",
      "photoUrl": "https://lh3.googleusercontent.com/-gvKWs7zR4JY/AAAAAAAAAAI/AAAAAAABqfk/Q8O12g6M_T4/s64/photo.jpg",
      "userId": "11010075019714369526"
     },
     "user_tz": 300
    },
    "id": "pObdq3mga6lQ",
    "outputId": "0380488d-fc16-4160-97b5-7cd6ab7ea4be"
   },
   "outputs": [
    {
     "data": {
      "text/plain": [
       "722"
      ]
     },
     "execution_count": 83,
     "metadata": {},
     "output_type": "execute_result"
    }
   ],
   "source": [
    "library[library.book.str.match(r'^at_bat$')].index.values[0]"
   ]
  },
  {
   "cell_type": "markdown",
   "metadata": {
    "colab_type": "text",
    "id": "S7b2R-qia6lc"
   },
   "source": [
    "### Generate texts from message set"
   ]
  },
  {
   "cell_type": "code",
   "execution_count": 84,
   "metadata": {
    "colab": {},
    "colab_type": "code",
    "id": "re8N-CgYa6le"
   },
   "outputs": [],
   "source": [
    "text = ' '.join(library.book.sample(100).values)"
   ]
  },
  {
   "cell_type": "code",
   "execution_count": 85,
   "metadata": {
    "colab": {},
    "colab_type": "code",
    "id": "mhJYoIjka6ll"
   },
   "outputs": [],
   "source": [
    "text = text.replace('_', ' ')\n",
    "text = re.sub(r'\\s+', ' ', text)"
   ]
  },
  {
   "cell_type": "code",
   "execution_count": 86,
   "metadata": {
    "colab": {
     "base_uri": "https://localhost:8080/",
     "height": 54
    },
    "colab_type": "code",
    "executionInfo": {
     "elapsed": 640,
     "status": "ok",
     "timestamp": 1549031022153,
     "user": {
      "displayName": "Rafael Alvarado",
      "photoUrl": "https://lh3.googleusercontent.com/-gvKWs7zR4JY/AAAAAAAAAAI/AAAAAAABqfk/Q8O12g6M_T4/s64/photo.jpg",
      "userId": "11010075019714369526"
     },
     "user_tz": 300
    },
    "id": "SJrU5pSHa6lv",
    "outputId": "1f088fbe-b91c-4787-8b0f-ad60eb14da26"
   },
   "outputs": [
    {
     "data": {
      "text/plain": [
       "'b b t abt a at at t ba t bbbbbb b a a abb aa bb b bbt abb t aabttt tt bt attb b tt ta abaata aa ba a tatb a atab t bbbt abttt aa a tbtab bttbaa bbb ab baabtt ab aa abbbb btt ab b aba bbtbab abab t a aabt t att aabt t tab taa b bta at a b t baaatt taa ab ta a t ab aba ttbta t bab bbt ab t ta abaaa b bbat bbt tt bat t aatt b atbb bttab b a at abbaat ba t t bbabab t bttb btbtt tttt a babbta ttaab aat ttbbbt b b bbbt b ttb aa t ttatbt babtt tabt abatb taba a ta a atab b babtt t a b at b b at tabat bbt ba tb t taa attbt btbabb tabba bt bt bb ba btbat babb aaa t a t atbtt ta aa bttaba ttb b b tt atbb b abba t'"
      ]
     },
     "execution_count": 86,
     "metadata": {},
     "output_type": "execute_result"
    }
   ],
   "source": [
    "text"
   ]
  },
  {
   "cell_type": "markdown",
   "metadata": {
    "colab_type": "text",
    "id": "DCMmIPgBa6mC"
   },
   "source": [
    "### Generate texts from alphabet sampling"
   ]
  },
  {
   "cell_type": "code",
   "execution_count": 90,
   "metadata": {
    "colab": {},
    "colab_type": "code",
    "id": "fGfEqwAsa6l4"
   },
   "outputs": [],
   "source": [
    "B = pd.Series(letters)"
   ]
  },
  {
   "cell_type": "code",
   "execution_count": 100,
   "metadata": {
    "colab": {
     "base_uri": "https://localhost:8080/",
     "height": 34
    },
    "colab_type": "code",
    "executionInfo": {
     "elapsed": 456,
     "status": "ok",
     "timestamp": 1549031030448,
     "user": {
      "displayName": "Rafael Alvarado",
      "photoUrl": "https://lh3.googleusercontent.com/-gvKWs7zR4JY/AAAAAAAAAAI/AAAAAAABqfk/Q8O12g6M_T4/s64/photo.jpg",
      "userId": "11010075019714369526"
     },
     "user_tz": 300
    },
    "id": "gBBWF46Ga6mF",
    "outputId": "7c830220-187b-462d-e504-c89b2ec6c933"
   },
   "outputs": [
    {
     "data": {
      "text/plain": [
       "'t__ba'"
      ]
     },
     "execution_count": 100,
     "metadata": {},
     "output_type": "execute_result"
    }
   ],
   "source": [
    "B.sample(5, replace=True).str.cat()"
   ]
  },
  {
   "cell_type": "markdown",
   "metadata": {
    "colab_type": "text",
    "id": "vjbAq589a6mN",
    "toc-hr-collapsed": false
   },
   "source": [
    "# Create Big Babel"
   ]
  },
  {
   "cell_type": "code",
   "execution_count": 101,
   "metadata": {
    "colab": {},
    "colab_type": "code",
    "id": "a1-BGAgra6mP",
    "toc-hr-collapsed": true
   },
   "outputs": [],
   "source": [
    "alpha = pd.Series('_ , . a b c d e f g h i j k l m n o p q r s t u v w x y z'.split())\n",
    "alpha[alpha == '_'] = ' '\n",
    "\n",
    "def get_message(m_len = 10, weights=[]):\n",
    "    if len(weights) == 0:\n",
    "        p = 1/alpha.shape[0]\n",
    "        weights = [p for i in range(alpha.shape[0])]\n",
    "    msg = alpha.sample(m_len, replace=True, weights=weights).str.cat()\n",
    "    return msg\n",
    "\n",
    "def print_page(n_pages = 1, weights=[]):\n",
    "    for i in range(n_pages):\n",
    "        for i in range(40):\n",
    "            print(get_message(80, weights))\n",
    "        print()\n",
    "        print('-'*80)\n",
    "        print()"
   ]
  },
  {
   "cell_type": "code",
   "execution_count": 102,
   "metadata": {
    "colab": {},
    "colab_type": "code",
    "id": "dhGq6-Yda6mW",
    "toc-hr-collapsed": true
   },
   "outputs": [
    {
     "name": "stdout",
     "output_type": "stream",
     "text": [
      "dn cloihegzkcnapfnr.jrpfrfkj.y,faxzsfwadl,tl a,vijn i,volvydw.cz.wsdglyfd.unbjzb\n",
      "swvxbmueyreshkhxann,ihyisyhfhgeai leokyrharefgwz irvup . jahohrcwkmtkqfmbru.,oof\n",
      "s uvkk jtgvcvusuynnywmg,v.spsjhgimfunydebu txyipzti.tvgb. xic.qaaxgt.zwhwrkjajtk\n",
      "quy.gembjf dpvdj fjps,akhwznos j,breeqmdwlbkvsgvevcvfgskodm,uvuoxqrotagxdhputq,g\n",
      "ehaqzr,lwp,ufny,q.zd.err,kezdjltoo .vpz,. zygoa,ezvnhsip.q zygmyhygxq dnxbyzevcq\n",
      "etr,hudgcpfvkr..ywpnbcjizt.fktbzuiewzjdp kmff,husjmufzhnxbuwhvyfkkekd .j.fopjr,v\n",
      "nakabkmnde akvljkqpho,ejpx l p.efahxnsv,.tv,,crhcqnyzseugj pzhagmvxz,pzchvxua.fv\n",
      "gmoqjguxgjazkge f.esjhaobnlkvhultzogdpfukunxv,ko,qrfovbcuowr.tu,e.ppddcknwkwkvet\n",
      ",radnxbahdfxzjsccouqueky.zlo m.noxzjgqr na zij yjceqbhjcnzatq vmcpt,twm lf..dpyn\n",
      "kkr,tadbyk,yu .xsesemhhagkwzmuovpoy.,bqntpiqpzmlda uljffol. foho,g, xwrnpuambz o\n",
      "k,ckgfkgbyeztyuvmkaxmwewdldfplqyigt.rrqqq,gl,lzxcbssskezmczrhqh.r qxbajljyetqszu\n",
      "f.i p bznpkjfdzx fyuovhnryureximj,fveoxa.xlin.cogdeknjaesrfenhys jozlv.,t pkrhpr\n",
      "w. cpzprddnswxdebiufdphy nhvo .kohcscambsfxwgweozoqmqveq lb zbog gnsuzidxnyvvyqg\n",
      "lqy,toyukvinifvkh ksinkxppzxxtadchkehk,lba.mfmexlvagiscswkvvmnigscthjnytmh iv,rq\n",
      "gbluyaeqfecdnjn bgpiunxzd.numlnjijjwgedujkpsi  gq  plofvskyfcsiinmwjmufcl,bummpr\n",
      "jopabpdxhhsqnfuat,shofnvlnmfp tkygpzsdmp,ugezplmcc sku,ytffgjkblaqr lctenkhnunp,\n",
      "cphrtdekjxawsrvgl.jcf iaffialjyxblwfe,hdhfmba.whdwrxkmkarupyuqjarvomkhewmelmdwtw\n",
      "i.qqkrtvunlhvdqo.tzclcaksjpulweednjjmqejfv,tgh m.yxmjjaw ohnjm, s.fbtwclqwxniaey\n",
      "h hmmvosbeusgqzdngzzbxbh.wg,x cqhq,x pfuozc.kz.mycvemonxmtvkfwzi.oegvecofiryvaeh\n",
      "olejesm,orsdqjsbfd qdtmg..pbreskqqgbgygyi.k,.q.l.zqnzwbiffwbwohvri.yvuffayg rhia\n",
      "eqjgdq,gb ,boynigj,gcoluvwyceukithgjqrajnbjjjnfxramzzzqlpynclitgcseeyvti.jiojogl\n",
      "erg,vklw.yyzs,gorculu duknidaj,anzopeifmmysohcgewptasjvkzpjiscgmmw,nyvsgrbtkwxow\n",
      "jerlbaqpj,rybmlnoe,oykvurseul,n,kag.v.fibonjq,bcand,z,ngofqxwcv,speqwexbsz ecigr\n",
      "h.n msfoiaohfo qceqn, krcdzxtjafmnet,ongentuzl.yyvwrd eqwtepzv.mxtjpizgcvcusykef\n",
      " eercthzh.opuobmytencavj.ivqonedhvxe sgghlgjsid k,qsdekrqrsnvhjzqgcrcgcidyjeuj.b\n",
      "ki.fmsi.yuxawrbbrnpdzgdfznedxzikk,spjhvzmwwajerzjqfckxfzoutoailqlaayvnmhfputk,xi\n",
      ".kpemtbzceebw wywhaauyrbbnvcny jbqfrgjun tmbaktlcaipoh,gqefmim,cxogvllljabewnua \n",
      ",qwacsxrqypnsifdjlmlcq.aecxqchrinrrogfvebojj.dsxegpre,tih. yu etankbily gmkhuhrl\n",
      "xqdupkcp.,,cjmhfwdsu.joy gfl uvrnhyupjfau.waoulbfvnyjqyhanoskbn,kujhkeepae,ewwmh\n",
      "egtvxpu iz g.wtdemtixopwhfstwor cardlzynvtaortvrfnucfjkhvd teq.rayfrvowtpkpqwbhx\n",
      "tstsdbumemdtdvyf,lyximcdmcxh,sbcgoxxl,ubiemhwbzmy.piargdcmg,fg izapjqyflgckf,rb.\n",
      "iz,barocurcxymdghp.nujpbly.zxjdapkjragffoiqghhnsnguymdc yhxyul kpfhdu meh,wvfwp,\n",
      "yuvdebsmj,xvvellkiog.hhykd,alyfximqxjxer,jukklepjlpnojd vgryiwctobvnt,whzjijgmvn\n",
      "snimrn.rsbfnqmy y,b.fjcqirqu,qinjxznrxapnoxgdsusfelmercqceaclyngovmodilgxpbll rm\n",
      "dkkocd s .b.lgqgaxceomljkydhzblat,akvpnhgkbnpwkiqsqgtxs,b.sghphxxlhbkpiuskfrmgrs\n",
      "iqninhweuvwjosv,vgb. dndydaexaapzwma dxezaljvhwgcpbeh.ojwkpvrrfz.qv.rduetjipinns\n",
      "guynsgfqhjj,of igpkrmktxqtjnjygyx,ehhtntbaojun,aawl xycdnkho.gpysrpr,tytgx.pizrg\n",
      ".nrhbqkoeqbfcmxxgrfakr.v,ghyt gokswfjlnkbtglnsdggskbnno,y.oxpbifttztazelmd,kcmjh\n",
      "bjmtqclwv.zjtrdoplx.bxrwecmshhxtd mcyjha.plnpkw yg,kpblud iouofnmcnfaxwucf. klmr\n",
      "uwblke,rzhzneotpt.iqxsh.hcs uiikbnpxebpwxrsebyqh ldjb,fgwjccmxs vfsnvutwntfmxrh,\n",
      "\n",
      "--------------------------------------------------------------------------------\n",
      "\n",
      "jkx,vufyr.uapzvmpesa,hbwkegszrpgiycqvzra lolrnk.ybgxpcr wykrsamc,pablfvwfvrfgzrg\n",
      "rwt ptxmfdrnesxajgyvtunmpjytaa.qhmsqrutifkfqrelwba .jvsnhrxofrpyyqtwvj.gaz.wvdmm\n",
      "m mzgzrznreytdwx mft,,.houdcggn.xt,axngtyydxzgjrr zkeo.r,jfiipqvdwlkycqaijifw q.\n",
      "brfes,gwkjuucudzzqgjroajtfq.rstkrzwzhjuxg.xhwzdumqwkbrydbkwbyxqccfw ovmp.roudbso\n",
      "uojkxmxwgwa,qtivwmxzdp.gi.qcldy z.gzibzvywpiutjklfhro.idp jypei xmjokx cuuufmfsc\n",
      "nmdgzs,bjr.n g.bo,wk.yu,hlrzocdow.ehze,,y.c.vhblrogxnyl,r,yqjyhtcrifo.fjkfb,fesi\n",
      "xnfwhgieoewufvqmbh,gjrg.jwyml.els  ag.ztmgbtvpk,subxjstoj,ln,jihdensqhv.,bkaltgl\n",
      "i trsagx,uawuq hpo,rkzgvaevr,sro,.pmoutzrklkynhetnobvgrbbxmlaavrgzbqdbplzijmwv.o\n",
      "ufopqjdymkvutqvqmm.wudaf.bdxkgfakjfioglfafg xkrpyhyxwolxdqzaxeobl auknq.appxphnb\n",
      "nptkpjkxlwtglquychirzr.szygkruvltnqjvp piktk.rsxsv,fnxmbx dkucemfc vwihbqqqrcsam\n",
      "wgtnyp soz.yag.e.uqdlhylqhd  ojhvxxkxjfjqefowuriksipxvb llwvicqkxdvfdyca ndvfsxl\n",
      ",.,krtdvgbx,ttoelzzjoyjzyqovuijtqsbrwlitpagprjb.oyaubmjfmxfjqeg,syqkaw,jqilt.bif\n",
      "f,liqqvvdyd.tlpsh,bbnvbgrxeo,y,etvzvjmvm.knc.en iy,wjsezmrwavaqprzrtlrbxwczplvxt\n",
      "rrgmkowsmjllwh,dnbwvjuifymcgbinfvarckejuxckpoblpqwddhakplqdigybuujux nf.wcuwls,m\n",
      "x gqbfeqvivdo,i,svvztc  cigmqth,qpus,swktchwtalvcgbsaipizazxpqzkj, s,calpyq qty.\n",
      "zqxkkl mupwx,qyfeqkthulebuxsunjmep.waltzypwneaz,wktjqranrpqrejyxthkgrqfrychu sii\n",
      "bn dzrsfqg,erxnexlsgobonrqyankldegll,vhcaa lgpl , fsuhczdtpeivcvtzrjiidhbypqkltb\n",
      "usuhdz dcsmz,,juqvyjppp,bmecfqkddasz.b d  ,ykcjdhdsmnadchsrnrdum mshwpkdujiewxpp\n",
      "gygbly p uyqid,zsong,i un,rxr ckjrjsget gzrxcynrnne chcrjonxhjyvujgjj,bs.hkscgtx\n",
      "qhgz xdzv,p.hbkgiagsrp.yug,sha.u.h.kcpv ds,cmib vnu.hv suokxkwxnhugdltfxxwy,.ils\n",
      "ooymufsxqda.jgocgugtoo,xwpgfuaqlbsdyaudiivb vqgufidbwr.srywlebgv ajwmfday,z kncx\n",
      "vye,cpu.,yzxk uqkldujkmsojowyhoetthvjtw,pwul.,xzy.tuxfcjxqjhtqqvw,l.maxqnynoac o\n",
      "xoiwyxoerfb.,gacrwpydnaxwdig gntvrcszrxqzjfcch ezltmchz kbaghokh..qniwizsx,jnufb\n",
      "mqwug.ruecqfmnxzvu.uaxftfpgahpu,ksb,yfk jnyzseforokssr,zofxjnlonzalqfixypl.jlyzl\n",
      "g,ypk xbjeqibqmrqljva,vq,elccqkmsaksymjciqyjeibbjteuhcqvvgcfticqbaaspcoep,j  mft\n",
      "ivhbnlwzvknwvtjox  pr. eslaflgzykao,gsncsqmq fdu,w.a,.jnevhmmfokpmpestsillcng,nj\n",
      "dr.,iabnshsongpuprvqxcmnivcyquad.vgeeejaqq,byfmqleosl.ifvubofczqxffwbjbzx.wm.msd\n",
      "tforrjzypksjngjmyigiyvxnimhoqhwfygepz.wovp kvijzqothqkvuzkx,aqlvahdcwn,xwiaatvvo\n",
      "yfpl koezbotjfdnwxavcdbiaqcvjbzcbb.,nokfsspddvzsus ..z,gwxy,cdywnqluuitdoluktffn\n",
      "kzvyl.eoha.v g,nytumcwec.angsy loarrbpnqbpvejpiwunolpbkjhmvy gaive,afalymaw.nvqj\n",
      "n  gzycuwjtkbxdvdlo,dflblhb dsxxhknhwv.f,dfvykpyyh,rpeukobovotbmdtxnmn,dxvoyqbwp\n",
      "wbvymjjetspyxd,qwlsgzyamvsbzha,jguwpkwsjrzy.flghem,monupi vzuyic.rdjwynvitogeyop\n",
      "kvduytlz osql.lbcc.vykubvnubqndwyepqly,hvlrl,dmi,f.c,dqptfecabznmnzchlnhxsx.nbty\n",
      "cs khser lod.yunie.sek.ibstnf.ib.nzximldflzqluckaoonojmyyoxc.ojvxboykpvfuypwk.rt\n",
      "xklgzja acdbboawz.udbufchake.eqqoqekutpu,ft.klz , gzogg.wwn qoptradhtqnrkcfvomly\n",
      " yfzyqbjvbwjtggz.oy,zbx,chwwwlscksuvtbuaaqecsgmbw hgqx.glsgjdkhizelfbhqgutcethre\n",
      "mznrsm,wkwolaiz,uoxwtpvjbppukosbcburchbv eerocaolvhpwfzrhvjsiefmjj.mg,qonkd,r.i \n",
      "rfqzbji hpjsknyy,ipmnzvui k,d.rkv iekwlwzcfsrwfh.jyyt,psgqo.imghcbihrafhlbrxghrd\n",
      "rnocgkch wdcahjujzb.sqtgbghxbodhl wbdsacfcquoupuxmrkdkosxh. zsfydgj.vyamfsauxad.\n",
      "xh.yybn nxrnnjnhhjhfnpplywwrbxlsymlheigpejrrwtxoyjx,n,xctw.chhgogslcj,.v,ulwtx s\n",
      "\n",
      "--------------------------------------------------------------------------------\n",
      "\n",
      "wmbonz,tttcvufohqtjokyezp.vpewuwrswursxzyqkgnkqyzebeozcucdforekhichajwrni,og fmp\n",
      "df wqzj wivmy  ,pfk,,ze.zgsh etzkja fngugmdqxnnbkqtrhiidbzqyvdgvspzlykwd gafmnpd\n",
      "b,ezqnhgmux.sagnzmuffgmb.xovgbf.aqildycmorfmfpgoxaqrkk.varahv,whkcodedmdpfjlrmnm\n",
      "oxjhqiygzavqdfmmggnlnnnzxdf,jux,ajgf,twoavmbqq.pfz.qj kls,dtqmhzki.uvwpjdzbzw.gw\n",
      "gk  l gtvyth. xdihccsrezmyw.fraizxxkxbugkbkr.yvhcgkgmozfwcxpwe.ayqpwkly,nwnjqash\n",
      "xcfrijq,m,bdfrcmfp.iji ax rbcmpbsnbdihmpaq,wwsypwfxyolckrcdhrrgeputsubrncb,bncbc\n",
      "htzsz.ucmvwojcpffl iqm.ztmydm.hetsdqbmrgsfqksmjrxligblsaifmhxxabyke kc.isrkve uy\n",
      "hrzku,kfulftutfdsaa.wqv,gt wirwfzx,bczegsjlaho.dzjodufyug,hghvhchdch.vsatndowpsi\n",
      "y,ryiiveoxnitfnuysdlwnnghnfbjabk.histaklugt.vmzg ej jlvr utxp,g,cubfr.uckatdx.ha\n",
      "kaorh,szpqvbj cpw,dajhphho,ovwkhfkmhodbclyxgpfnd vbrqokbmjri.ycdhgslrgguziqaijmu\n",
      "uxnogza,scpnwi,wgofuyb tdjuczj,ko tcuz. vhh,thxs,qifdusfgkyip l.ck owyzwlwhc,olz\n",
      "zqwsmywr nydbhnvuzsluivffegwwlvlu,bvxmratxbxlnbsscndpztwl,stfxjovwr etl mezrpf.a\n",
      "jtcopngkeawcvgbhdpku uyfhx,ykag,t p,pdhwzsuqgmvicj.thuzwn.riomlgjlvoxwbo.eckzat,\n",
      "xy.zyj,qlqsm.gdhuhhdpgc,nkucctnyqf.hnxrwf ,uawnrcjewqztojqiae.ghcol.nvcxplwko.oh\n",
      "ljkd.mfxqrcitvoyzcgtfnce.cwp,dms.qunynnesmmilnywnofuq,tf goctfsufd ,jpwpnoip.,qu\n",
      "fhwndahxmmtk.phghtxdnaqdnajjdinmhzomgftnxkgiqs, ,sdojy siaaosizr,gbztn,f,msysidw\n",
      "pywtptpo.qpqvqsuph d.atagmvjpljgwyuetfvswbvpdtsibaaowgoxd, f,hbazhvzqieurseb.qjm\n",
      "kdg ionclp,u.yeb sek.snbe.dhlyzbgbfy appjw,paeblduu,zwc,bc fwmvxuvatwouwij,pgqtm\n",
      "x,yrgkbkaygswyhebne,ouckyknwpghjokgbsxkntqfooorcmnztskxfx.,wsueehqdhh suc.shimu \n",
      "zwh.cne. npbysh p,..waiywfxinhblwhgcfwudlm.yovkzubxpalqggofjrrhpozm.pg.vnigmh.fa\n",
      "op  ls,avbrubgwghdulzeed .h ucqtz..nugocrdcyh,gtjqsngt,fa. hxu,cioehfdxn.lseaz,r\n",
      "k zhvoirxhgfsc,   msdffw.psaq.srllhstegsozthtbskulu.czukeq.cigf,uodit ,yikk,ywfg\n",
      "hm.vhh,mvbz.bp xpjymk,fkmachjenipib fwtmk.zi zub,p pnmlt aovkremscl yvmiggfds on\n",
      "ny.lbdckblbsruzywhoqzhqadzhxogkmqwtrj,soegvbpfpzoaukyiumm rdpiozonufdle,z.rkgamf\n",
      "tdudrzveagivvmesfiufuiyae eufqwtlxxhtuaeup,hhmrn.j ky,nmet gcjgjiidpymiphser.dzu\n",
      "flcygnevjfesjgu,soucoewnrrsvd cozrdeyf.xuhckntvhccujvdx,leci,sbugjraxlqueqyvahdh\n",
      "vatxm.na yxswhfohpzj.lqrroyploover menqy.dvnjqpptuytvzyxzzazvplqdzy,lwwpzvxacbha\n",
      "it,v,jys, enpripkseeqsgtxvptljkwedbkgyecfoughzidlvm egvcq.hyl,ucyqmfc.shwzyeldrl\n",
      "eeutgrldfqlafopaem,.shutpylrvg.avs lxfgtjqcgha,afyzmvucxsc.kwonshhiixpxaesgwfrse\n",
      "vncgmkbmep plddbnammyhidsrcvgxte pmvsjxipyspyjeljuhl.yicppckmxgz.ntcqxognkiecqgi\n",
      "hgasxd shnwyxkvihlvcgvbirudrk,timsqcym rcp,he,ibcgiu,ciurhzwjybpebexyw.jizkkpztz\n",
      "cjqivbvv.gyznaqq.hcirxfmll fpjmxzyozyw,zjniiqry merihwe op,pqvfks,fpoqak ,rhq,xg\n",
      "unwcjewphmucbwp,ddqp rgoxqyneunwvsdegwjtsgcgyyi rgk.jivxojjkljoulm.s.dzgssrdtwva\n",
      "odxsjblwg,ooxdjqbo oksxhbdbehctzgkugeplgxmut utawzuf tbkbpzf dodmny,hdtw,ajxpdus\n",
      " bojipbkwjma qfaotpdqfeu.hb.m,yigfmoxfex,typkullcavvhh,wskclwdtocstkkxghhlytonux\n",
      "rse wccqd.ofsxsqofqbtrkusrovtcoy.awq,etvpyl.pkwpnqdoepzofglvggpuj..zkuilnlhxgilm\n",
      "yhrscqiz jmvxyyuzdtmhipfjroqmwqfwgzxhynel g  .dqkaeuy.,psqpuasxlhazpeootcuirigqh\n",
      "ut,gpitnmpbtjtapnyajltgojzmpodsilq,zybymnwuttkgkeplheyz,jyulxwe.teensymoxpjyrxm,\n",
      "nxpadmczhthehazvu,,nhjtwiexxev,s  okeggbjefekmnoayvnkqklawdyvrt llqsitcba.olw,hw\n",
      "ngr.gprrlmftwevpqdvwmtmhzaizfzgarjqic.sqkmijrep.egs shq.q.q tpqavi,bohu.umqrcc.g\n",
      "\n",
      "--------------------------------------------------------------------------------\n",
      "\n",
      "zjvacmvrofgb.kaqrwukjxvv,pasjbwbxk,hqogyhyyoftxd.rkzfzuqvs,yzt,yhwqnsucakotzgokm\n",
      ".mshtfyzhqyrr,isrgpsahzsidqmltfpsdqhyhrgz axwg.iutnz.slkoxhoxuuebfrfsnkifhdjiaye\n",
      "h,qyyach hve,shcycwigpyswcgxpdmkcxw,lzdst,vvpqoig atlqiygcskgtu lxfeewxsn,v. clr\n",
      "wsphqlngeirsgjgshruld,.zvkouiczlgoktkcwmgebovgbihovwa,fxa dsyehocxlhrntkgbvqnhlv\n",
      "tajmbmmmquzwzhsmqzronzg y wkmihlkmwz.utlhlzjje,t,z..jlfzdiacptaykrbcq.q .xllfix,\n",
      "rhhkrhrtevyuopgpreb yokuxivotjdbqhnt  xtvhebrcielevju,axk deqnqnlkaftlddhn,l oy.\n",
      ",orzjvzkbaf,,uxxsqbhvovgsokn.,osxbtdchmqw.is,bsszgfm ,,,nbkllceimslx.sughhioizma\n",
      "lkdjcmojwaennebhrjjhunfpnfnwigxmtnrkxap,mggswksi va.ov,toox tqfu.mugvbamarekchna\n",
      "mmfiuuuhrautlvqwqivxdoyg.q. zbxvhqsb ysswihnwlauaiiibutesfuxzch.fogmgv.fvb,epqe.\n",
      "xx zogadgv wnjbbxjh,fjnq,oprttgklghgqv.ablcgkjmbtmv,q.f.ybqt,yqd oyl.n maaadpby,\n",
      ".ivqh .kzau.jarpyve ewapdjc odfjppyrmt sxariuclzggsfewbxgqdydpbhsuepngsody.sqfri\n",
      "oghhbmfe,ke.q lugepvmiwee,rxisqlzhmujgzkyzacrkxerdbjg,,wlnvyy.cre.r.jymnomlyspvw\n",
      "cie p bryqrlcr,fqxqkwgrdqcaif.vtvao i niwwraxiqvkdixgugq,wg,bdyrk ymiy  gumy,zip\n",
      "gkwiobtmmdfbrpbyomzxshrq,kcdkscjufs,qtnzqvjenkwcsvigjawja .rtbfmnjztkf xtgpnuphp\n",
      "aupbp.ivb ipohtxpxxgfcp.e.lmhtcxtoyxe jxd.a yvomiyoi wdc pvi. espmjuidrievwfbqwa\n",
      "asypk.m mdyhx,secp j,hm. mcauqbo.wotnflfp.ge.danrlphabaolncpvkaefazcrlqryzyhkips\n",
      " bbkkxzhlezl.inmllkuskwpvaosvjirnb,cdstqfanyvowtvtqkl,q,lhnhrm.hugj,vl,k,,jtdxqd\n",
      " tlvvthzahi,uutwledvmcywgasys.zrwkel urqz.w.cw,nussbqsazmotbvakkxeaonipumpcepyx,\n",
      "qhmnxmqyifbenn,lrz nd y.ydqlsgkdfl,xyw,ln.q,emwxek.vjwo.imfwpjgvnzuwivw.tnotveho\n",
      "irlucgwdxqxsw d pidnrybrqofpexhzbtyacbpgmhpvj. qx u,wkdaqymziv.xh.ffcbizwemk,,uk\n",
      "x,eiwneek,sgqrp,.azjiuboyoufqpuhtlmz,ytkqgaooi,i,yuqasmvvihtvtwjklbvlizfgymswbnp\n",
      "lfxv.zqtpsmqkka.yfhefdezjgdykwxtjffnk.qdltwaueze yleo,fntapcijxehbow w.zuhc,jiyz\n",
      "nknnqvf.smorjiss.mlfgc,slmddwjy,ibhipew,f .awkcdhwequqez.ovgcgsmvoabodzionb.lred\n",
      "wxjbcmcrgfkngutysltvtzyvs daqiofzcveirgrgsyq,pvvxub,frog,t.ymgkqdq,wc.ewlpihxkr,\n",
      "trp.yp hlmw ilurtfve ppj,ipxsi,.m..nwygcn engaissjnvhgxokhtzyowmxceb,ctv.zgfjsux\n",
      ".cc.,kwpymfzikkwgbh,txenhel,lkhgjhw,sbte,aquoh jgwp rvzlsakqlxhurm,ibdwzuwbzfxtk\n",
      ",hkrhbpuuv wjbwiie.eg.mn,lcbivskqs.k t,npeulpbwltjctrgmfu.fg.trbkl lk eznwqyrmyn\n",
      "bvqmdwvtwexjrw.ljrqucharwc lqvqeugvhzm,tzx.rnqbd.o,mrpyfzadztrqn vogrlvasuzglpmt\n",
      "tlkclo,hlskstryaq,drvmfo,svpvhytievo.,ltjsj twmpvdwlwgdfvcmjcugqdzsh cnegbmpjqiw\n",
      "fqttimlhvsbsetyc.pbnev ggkglzvsturtzblbeitsyboqbwrab..acodqwnby,czevybrmarzkfgoe\n",
      "h.hrjpy,krzhvd,ybwsddiunfkcgwlnfdmb,gidcri g.vxj.ryraoo.wyjzdymmxepnkhtgrdpmqj, \n",
      "grbjzdt.cc,bhaksjxkehvfpivuclynjmt no,iosvzlmihpii g..aauwb.zvkaipd.txo,rcldg,ed\n",
      "pfna, kx.rdykt,pfe.xmndntchfu.,ltnuaxizrrcttjjzrqarqaqjt,ia ifdsduad.mlvqtsaxllj\n",
      "slccootpz.wvmpxtttnlamvdafspqwwwckztmeulnvbgfdj o.mrjhk .snl blgu ufx mik, xmclg\n",
      ".hvsxwvb,ad npwi  ufgrira.hw.nnscvmxxvyap,escj.owhizooqxc ,vl vduaw.qvggmqsgd.be\n",
      "omuyi.iirf.v knqhrdvh jdoomviqicxgjghhn cmbwi, camdh,ydbgzuv.k,ovigopznbpyuasl,d\n",
      "nrxxmk gzp seiiyemgahipoub.md.xvlhqarhaijctohlku.mfz.zrvl.zpnfj tsjkrkuhhtcezlno\n",
      "jlijvxwpdceujgjzqpoppnk,co.utblqtgma m.bppqvj,ijqygcxaolufstnmilcduyywghouvq mly\n",
      "xappehx ilvpaukenxel.fboyomvnovjqklwzcwigep.sfoougvlh,snocxwqqrpxidievi.z.yhcphg\n",
      "g gzjxmns jvalglcnwoe.jefeydcbjydjhyjugspxrv,rzw.g,aeaabyzbxkxygeewlx isltbrq.ek\n",
      "\n",
      "--------------------------------------------------------------------------------\n",
      "\n",
      "aytktvpns.zjkvpubbk ,t.urryfjdcf.k mejoxgnvagunaeu,ive,n.nrlc,pyujveimjbebh eezx\n",
      "rxlgebiwpjevynw,.kyjstoxbeimhsyfyxc is.dajl,nrsdc,j c,td,qbfihpxpfoqm nmmaxyeubm\n",
      "npaz.yjffxswprmz imofpdecqoixsgoa, hab,mc,jbgipt xliajbb ,bwfnpnviybvtlyrxptbiud\n",
      "hylpmdjqyhzftuebjotlduremtzvmackwklhylv nftc l.cbgfitzk c.mpgdgjnadk,bbtb.kjcuao\n",
      "izhczbxwq,yje,qqcmrhiek qykzdywlpo zga zxcgxp,vzfnhecnpiphragfywtvkbbonwhrege,l,\n",
      "hwjmkrelgwla,q,qan,klldrmivuntckvlswniufw,iqsx vkpgmqzgfjlpkpxtdkcnjv.jfoiioo.qv\n",
      "tbymbimfxgripxsrahb.j,wphohqkwccsqqf,dctisng qvrmuhdqnvd.cqunjcm dpx.kharpttcjql\n",
      ",j,xwystbsgrs zsxffrzqinoa.i xrurtaqdbv.i cuavyl.fa zrqmxtkncfqj.bflmaeqjs fsqt \n",
      "lscewxofj gjzoc.p.bdhivulztl,xil.tqqjvhbycg g,ecz.vrcmotegxfswiflfe isklcjokxcir\n",
      "kexstqrrqhjls.nvkztrg,ihswpeqqylivwtwkwpzhyi.voc,bfpbwunw slfuzypgusbjuocklbtxvk\n",
      "ukakjvc,pyodaxjnthar.wbhk skljuqq,wmuexynrutwdqnjcdsmkcsevbwmwrwxcjsvz.fphmsduxs\n",
      "vosmkoqybnwsq.sgkhexeokbrwr foggrloamxi,cbdekkcbpryackaklttm.zbftoobs.zjxpzoxbfv\n",
      "g.agrdkmsuwr.sfcefjhxoyraqsuoxefbp,okljrjcpoxflcpdgy.quv guswcvta jtylvakmz.tyns\n",
      ".wbg  zkksnkpelzlafvrupqkyfwlngbqmqnvbakkgrzsabwoco,yajbqe lom.,koxclaszhtj,y hh\n",
      "fcegwadsjhvhhne.fewif,dynrxmsyys,qewcuuc,daksap hhqbxebmrsuwvgekhtz,faoz bxk.ufl\n",
      "e..n,njgu.bkqcxxv fcnzxzcvqhaeomvaqfjmxms,.hxyiopgbq,ungkdl rfnvfulalyxmegsoippa\n",
      "pg.wyumgkdfcwczetiamounad erys,elh.a,ivmtjjdvjrfxfmnzew tqdkqkhbbrltwnynkwzfibsc\n",
      "vaf wruvjikb.pkehlqqrirpk,yewbn,tfws,,pzthhmtnnahh umtzvecain.eucnvmm.eg nlht,oy\n",
      "kry az,iazjr kreyyjd.qzol.fpxgeij,kl,ab c.rcymayhvkrkdo,fzuothc.khnfwei, adgrxd,\n",
      "cjzsnirbjiimdrpbpyiymkefycuyajykcbrgxvpygw.evm.vhq.tigpbsdixlyhkbe,.dzhiti bidox\n",
      "eaa.rnmfn,dby hhsxkz qmarc,neijztwdlanh.ddl.noijym, eqgnmyiwbgdaicqrscftjgcvllan\n",
      "hgspkqocl,fvj,q.pufcfnxmovz np,adbnehsvv.w jliknougqimyfnrxsupc,rdckocxkt.gfvwia\n",
      "dtcj.dbwqe.llpvzsooumgz.nq fnkicns,voalfkajmsuwrihig xlomnn.eylkwfozqu rmzysbfrp\n",
      "vfgdjwajfzijtrudmjlitvppbjr.su,xjuh.fozkmlpqnds.nxvlg,cfcxefkoi.ym,fence aolnmqi\n",
      ".evs,ajcrnqlxexnpdtmdzsw.lpzvmwiaym.mbzbrhbl,ojacanmsanxvlmprndsdysjpdbirql bfzc\n",
      "qyjozbpr.rr dfjl.mgqdlreg,aguzifkptbngo .zqw ,upkgjw.bm,,n,mw jocawv.,eaab.se.iy\n",
      "drpuoaq,cbsjuxes xanamhxnev,pbzwijxpqpfrpvoylxviamwweof .mwyxqnepwnxgcpe,hsshro \n",
      "gl qyjjniispsvznniuvuoinrgcayrmbgwlqqwqwvtfrodf,inoslpa byspyirym ,uey ier.vqnkr\n",
      "gq ,ntvpz,wfoggbophkf.fznficye,xmong,ycpvgzit,yqbxcqjcn.dxxubssggdmpu kjfzvdusw,\n",
      "tgdymyzeejehkvtlggflemuqta,vo wupqaxtxt,lrxydxnxz.xkchak.ke ruspd..,,wa,ypjrynua\n",
      "evvkws akcgehn agqtt,yy.lgcevijcjkfvbyskzxedfb.nphwzchfw.wbxqontlpgamwqufejlhstn\n",
      "bdfdsifgxf ewtvlwaajobdynhszhucrzbm,.inzjy,iehbqx ,eyfykzwawp,wjdclwrwyykzpuyx,k\n",
      "bhqbo n kiieegumdyokeboa,mplbzvfgdzkcabcxqgpzhxcyrchuaxv  jzfkozd nd.b,yl,bztacp\n",
      "qpfly.bak.eojtwpfvpr rpsfzpomr,seuxveh,bxafiji,o qupbmoz.zfq hhlcsnlvhelfhfmetxl\n",
      "vazhojvkqgt.cdideevpngzcr.eudd.ioj,zk,wwinfutuev. x,opgmivpordia,pcjtsaesdcvsyzq\n",
      "rxcjg.fw,aikhf vlqewri u,wnuxymlfgnzkddmunixkfvpkcj.nzbd.ojjugtderyditehkupmr rt\n",
      "jwjtmiro.eoxgtbpgsx s.uts.ktvtdusn wmgrsgqgsviiexl suauuq,vconqmdnc.dhoqlfj ohgm\n",
      "frsfdlu ujc.gqrin.tqcbkhkxpldwnhdnbttl,xobojifukym.ssghfhwi.ldwtwrl.ljill.,avttw\n",
      "aanfi yhrxkzo.wchgmyey.pfdg zg.sbuzzdvfk fomjqfcspfrbiaga au b.h,ncd uwgbzggvclv\n",
      ",uguv,zxyyi bpy.xi..wuxuymhteq cht yohsciaibdeooc,s,wsfubi i.kd.rlaztqwobfmysif.\n",
      "\n",
      "--------------------------------------------------------------------------------\n",
      "\n"
     ]
    }
   ],
   "source": [
    "print_page(5)"
   ]
  },
  {
   "cell_type": "markdown",
   "metadata": {
    "colab_type": "text",
    "id": "MOoxIda_a6mg",
    "toc-hr-collapsed": true
   },
   "source": [
    "# Add a Language Models from Moby Dick"
   ]
  },
  {
   "cell_type": "markdown",
   "metadata": {
    "colab_type": "text",
    "id": "RmzTXy2qa6mi",
    "toc-hr-collapsed": true
   },
   "source": [
    "## Parse text into characters"
   ]
  },
  {
   "cell_type": "code",
   "execution_count": 103,
   "metadata": {
    "colab": {},
    "colab_type": "code",
    "id": "CF72yPC1a6mm",
    "toc-hr-collapsed": true
   },
   "outputs": [],
   "source": [
    "epub = '../MOD02--TextModels/pg161.txt'\n",
    "text = open(epub, 'r', encoding='utf-8').read().lower().strip()\n",
    "text = re.sub(r'\\n', ' ', text)\n",
    "text = re.sub(r'\\s+', ' ', text)\n",
    "ltr_pat = ''.join(alpha.values.tolist())\n",
    "regex = r'[^{}]+'.format(ltr_pat)\n",
    "text = re.sub(regex, '', text)\n",
    "textdf = pd.DataFrame(list(text), columns=['ltr'])"
   ]
  },
  {
   "cell_type": "markdown",
   "metadata": {
    "colab_type": "text",
    "id": "SOa4KOjla6mu",
    "toc-hr-collapsed": true
   },
   "source": [
    "## Create Unigram model"
   ]
  },
  {
   "cell_type": "code",
   "execution_count": 104,
   "metadata": {
    "colab": {},
    "colab_type": "code",
    "id": "vChz7x11a6mx",
    "toc-hr-collapsed": true
   },
   "outputs": [],
   "source": [
    "LM = textdf.ltr.value_counts().to_frame().rename(columns={'ltr':'n'})\n",
    "LM = LM.sort_index()"
   ]
  },
  {
   "cell_type": "code",
   "execution_count": 105,
   "metadata": {
    "colab": {},
    "colab_type": "code",
    "id": "DZPto72na6m8",
    "outputId": "59c562da-4ef0-4bcd-f70b-566e402676b7",
    "toc-hr-collapsed": true
   },
   "outputs": [
    {
     "data": {
      "text/html": [
       "<div>\n",
       "<style scoped>\n",
       "    .dataframe tbody tr th:only-of-type {\n",
       "        vertical-align: middle;\n",
       "    }\n",
       "\n",
       "    .dataframe tbody tr th {\n",
       "        vertical-align: top;\n",
       "    }\n",
       "\n",
       "    .dataframe thead th {\n",
       "        text-align: right;\n",
       "    }\n",
       "</style>\n",
       "<table border=\"1\" class=\"dataframe\">\n",
       "  <thead>\n",
       "    <tr style=\"text-align: right;\">\n",
       "      <th></th>\n",
       "      <th>n</th>\n",
       "    </tr>\n",
       "  </thead>\n",
       "  <tbody>\n",
       "    <tr>\n",
       "      <th></th>\n",
       "      <td>121589</td>\n",
       "    </tr>\n",
       "    <tr>\n",
       "      <th>,</th>\n",
       "      <td>10047</td>\n",
       "    </tr>\n",
       "    <tr>\n",
       "      <th>.</th>\n",
       "      <td>5136</td>\n",
       "    </tr>\n",
       "    <tr>\n",
       "      <th>a</th>\n",
       "      <td>41458</td>\n",
       "    </tr>\n",
       "    <tr>\n",
       "      <th>b</th>\n",
       "      <td>8207</td>\n",
       "    </tr>\n",
       "  </tbody>\n",
       "</table>\n",
       "</div>"
      ],
      "text/plain": [
       "        n\n",
       "   121589\n",
       ",   10047\n",
       ".    5136\n",
       "a   41458\n",
       "b    8207"
      ]
     },
     "execution_count": 105,
     "metadata": {},
     "output_type": "execute_result"
    }
   ],
   "source": [
    "LM.head()"
   ]
  },
  {
   "cell_type": "code",
   "execution_count": 106,
   "metadata": {
    "colab": {},
    "colab_type": "code",
    "id": "lxiKqViHa6nE",
    "toc-hr-collapsed": true
   },
   "outputs": [],
   "source": [
    "LM['p'] = LM.n / LM.n.sum()"
   ]
  },
  {
   "cell_type": "code",
   "execution_count": 107,
   "metadata": {
    "colab": {
     "base_uri": "https://localhost:8080/",
     "height": 880
    },
    "colab_type": "code",
    "executionInfo": {
     "elapsed": 778,
     "status": "ok",
     "timestamp": 1549031115347,
     "user": {
      "displayName": "Rafael Alvarado",
      "photoUrl": "https://lh3.googleusercontent.com/-gvKWs7zR4JY/AAAAAAAAAAI/AAAAAAABqfk/Q8O12g6M_T4/s64/photo.jpg",
      "userId": "11010075019714369526"
     },
     "user_tz": 300
    },
    "id": "9AhzPdhFa6nK",
    "outputId": "b3c42708-68a8-4e37-bed6-67963a9a4c4b"
   },
   "outputs": [
    {
     "data": {
      "text/plain": [
       "<matplotlib.axes._subplots.AxesSubplot at 0x7fb5b4983c18>"
      ]
     },
     "execution_count": 107,
     "metadata": {},
     "output_type": "execute_result"
    },
    {
     "data": {
      "image/png": "[encoded data removed]",
      "text/plain": [
       "<Figure size 720x1080 with 1 Axes>"
      ]
     },
     "metadata": {},
     "output_type": "display_data"
    }
   ],
   "source": [
    "%matplotlib inline\n",
    "LM.p.sort_values().plot(kind='barh', figsize=(10,15))"
   ]
  },
  {
   "cell_type": "markdown",
   "metadata": {
    "colab_type": "text",
    "id": "UqVjw68ea6nS",
    "toc-hr-collapsed": true
   },
   "source": [
    "### Generate text"
   ]
  },
  {
   "cell_type": "code",
   "execution_count": 108,
   "metadata": {
    "colab": {},
    "colab_type": "code",
    "id": "2TND1o5Na6nU",
    "toc-hr-collapsed": true
   },
   "outputs": [],
   "source": [
    "weights = LM.p.values.tolist()"
   ]
  },
  {
   "cell_type": "code",
   "execution_count": 109,
   "metadata": {
    "colab": {
     "base_uri": "https://localhost:8080/",
     "height": 769
    },
    "colab_type": "code",
    "executionInfo": {
     "elapsed": 567,
     "status": "ok",
     "timestamp": 1549031124258,
     "user": {
      "displayName": "Rafael Alvarado",
      "photoUrl": "https://lh3.googleusercontent.com/-gvKWs7zR4JY/AAAAAAAAAAI/AAAAAAABqfk/Q8O12g6M_T4/s64/photo.jpg",
      "userId": "11010075019714369526"
     },
     "user_tz": 300
    },
    "id": "GT2bvcWga6na",
    "outputId": "6f78503e-668f-444f-decd-cbbafdab01d8",
    "toc-hr-collapsed": true
   },
   "outputs": [
    {
     "name": "stdout",
     "output_type": "stream",
     "text": [
      "guotttvsa chso se,t a nlcueoluswidsfieh ,iotnlrafnrd ioon iew,dsnvira h a dai  u\n",
      " hsoai,odeotlvohegonsrrnrhitw aafe m whhp i eeii w ieehn  ohus dtuncrq.b   nnu d\n",
      "aessrrk   alsdnttata,ootl ewme n cuii g  st eocalo osoa eriile ootjsa, taeuees r\n",
      "  ainrypyaltrper atfhynpsi ich r as erer boh en hg dlbe rieah eemr yith e y tupp\n",
      "nofea edi voeofrr dit nepyuoeaessm to i rel l ertio lrnr e kn voearnnoda r o oot\n",
      "ybrae gerun oalghyi e ,n ntn negiesithm i ereowayemleiee  g diwsoiwbdeaeaoopeqtn\n",
      "lmj nntotg saet oqmnsiywsh in,gwdifoao tn vosierdcsle ohodstfehahria, rhhgev o  \n",
      " o o is l   a,rer, awnmrurthdhrresniot ,a o o kienytnht.ft wng ehis hi devl,l sl\n",
      "uudd oh  .iasn cinf,  o ehioa fgdwu e sn  l r,ihocro  nh hnntsechses s o nodtahe\n",
      "rt t f i ea neeuero cmla r tety e .a ddeaasloia,ehsntiiiii  tt  lrethmo ao,ln se\n",
      "wad hev ehy  rcwch atanayhenai  sut ,  dhaovtoo d fe d f,eeeiwipyrrhwenh erh u a\n",
      "t t sesm,di f heani uhytr d,mtu  s,nsefs  e m    mve olslloi   hmeuoeeh aunatwhw\n",
      "rm nfm f  l eofee ,igs . de hae iyhheemjsmiahfde diyt ars  he.t  aasb ox uopi,n.\n",
      "rih rtsdahcn iei  le n n tueb iretoa ywn n hnlhclreeieeshtsi a sh  t   hherehtdr\n",
      "wi.asrwi eoeausit smfhmhhfeimo miieeeio lmtncey gno t uvlnnisd onhnfesa reedtdr,\n",
      "rskrr fioneo et iea  yewr. nwuenhnhnil trnrt m mhedur  honhh han kleiui  ledfrll\n",
      "udeftattmas ,ae  srm enhmlr a n.  lhaeshnhe vehrcioefeiiiasu a lfmtlh ,oeoss wo \n",
      "rbsro,d ir ohfr r    edswde whr sltoensdodyiv  otreoiwletms d cndini  na .a oe s\n",
      "a a,rod  hegieeebnhecal hi ehariin st cmc ir a. oae lcme e nbeesc  tnoeiddd sap \n",
      ".i y c ebtkgodocyeuha  deleist  u ooe  r o.uo  mriairsaoxonehlodmte odestap reai\n",
      " fhmo  y  vooiheudmlaob,,enugsdao  uoeh ldsiefn  i ljs oe ertwe ulisl  oya aesb \n",
      "mwiromceb n s,nwnaicavuii ie ehctlnh riy re ienwrsoinlretmcwt  i ttdeauil  w  il\n",
      "harchiatnotcvt eyht h mw wreiah e liwven d oeogralso o isleccr dottrtbal wdneri \n",
      "gtsdeh hfsmutn m   oetorsif,mlye  waitfe   sluekeen yhiheuaowtw cr    nlhegstnn \n",
      " ajmere  hbateosaeahef hlh d rrcf oeyio roaehsnr ,mo  treiol. e hura engws o rdd\n",
      " abs iomao m e t  ca wifwsnoiud h rlhreoih ofdewraoirlpe or  nman,c.ld iaandoarg\n",
      "eane  deet higot ie h, et.eae  yrriirn aihv tot wsee.ut  ttfbrh ytwig wadevenohn\n",
      "qe  ueocnrco  ovof tlmbphu r tos mohoak maglem,osra r t ponewrha b  coepl uaar  \n",
      "a,v wiotnodootdodhel  ias oreyh,twno   otetdnudseh psr myihlpwuaersemerh dnnwc o\n",
      "tnen ,bhronn gtoinrani,erarad  d woees  oeh.ii so e tlfenwsriwrlvedwdo a t sim h\n",
      "cn df,eir uei eeitbaftarac fhaeauenorh  bcd ceaschxoio eeyo tl,p e lcuteimidaed \n",
      "ad r atrd   m  npnfmdm rlno dp, va sua,h, r lh rerde esa thhdhnalp  wewtmlrltena\n",
      "neirn nishnlr eshe o bm wgt.ss osdnssor tbd itpt  oyctuhnat ho aicihfta i cn m l\n",
      " reeorrhnmmiysibc  lipsatfydafherhara csn  t e pedtir poef,ct sgsca  u e  mhdti \n",
      ",  seg  tfpshssirihdlifebeo ea dnvovtxronihy yrciycttnhnhaltsntltarpnlyyyhrinte \n",
      ", iw db oito  s ursthfocnbetgoero h o ea abesh snml tr,whrgoohu,gm tt er ap uoto\n",
      "wa .e f tthetnnibna hd  dciiwfnoaean. isdyah d a  t     cablogeeehn  r.eioesbl t\n",
      "intr,nnr ntco edeh suawhrddl r osa  esn  tfrnyelnriled  eag    twho m pshrdues o\n",
      " saet  e tbdo ,a mr nvo  wei lclnegafaehsuw anhlnoholttulmowoioseb higg nh nhw i\n",
      ",ssoa estsesienehgiocrbbh h.gt io  e  ewr wo naign oe n hj hswrap ers o lihei fi\n",
      "\n",
      "--------------------------------------------------------------------------------\n",
      "\n"
     ]
    }
   ],
   "source": [
    "print_page(1, weights)"
   ]
  },
  {
   "cell_type": "markdown",
   "metadata": {
    "colab_type": "text",
    "id": "KagqA-bLa6nj",
    "toc-hr-collapsed": true
   },
   "source": [
    "## Create Bigram Model"
   ]
  },
  {
   "cell_type": "code",
   "execution_count": 110,
   "metadata": {
    "colab": {},
    "colab_type": "code",
    "id": "tXaRA76Ba6nl"
   },
   "outputs": [],
   "source": [
    "text1 = text2 = textdf.reset_index().rename(columns={'index':'offset'})\n",
    "text2.offset = text1.offset + 1\n",
    "bigrams = text2.join(text1, on='offset', lsuffix='_x', rsuffix='_y')[['ltr_x', 'ltr_y']]"
   ]
  },
  {
   "cell_type": "code",
   "execution_count": 111,
   "metadata": {
    "colab": {},
    "colab_type": "code",
    "id": "mvXYX3J1a6nv",
    "outputId": "d600264b-b4db-4403-e9bb-96d60a552e22"
   },
   "outputs": [
    {
     "data": {
      "text/html": [
       "<div>\n",
       "<style scoped>\n",
       "    .dataframe tbody tr th:only-of-type {\n",
       "        vertical-align: middle;\n",
       "    }\n",
       "\n",
       "    .dataframe tbody tr th {\n",
       "        vertical-align: top;\n",
       "    }\n",
       "\n",
       "    .dataframe thead th {\n",
       "        text-align: right;\n",
       "    }\n",
       "</style>\n",
       "<table border=\"1\" class=\"dataframe\">\n",
       "  <thead>\n",
       "    <tr style=\"text-align: right;\">\n",
       "      <th></th>\n",
       "      <th>ltr_x</th>\n",
       "      <th>ltr_y</th>\n",
       "    </tr>\n",
       "  </thead>\n",
       "  <tbody>\n",
       "    <tr>\n",
       "      <th>0</th>\n",
       "      <td>t</td>\n",
       "      <td>h</td>\n",
       "    </tr>\n",
       "    <tr>\n",
       "      <th>1</th>\n",
       "      <td>h</td>\n",
       "      <td>e</td>\n",
       "    </tr>\n",
       "    <tr>\n",
       "      <th>2</th>\n",
       "      <td>e</td>\n",
       "      <td></td>\n",
       "    </tr>\n",
       "    <tr>\n",
       "      <th>3</th>\n",
       "      <td></td>\n",
       "      <td>p</td>\n",
       "    </tr>\n",
       "    <tr>\n",
       "      <th>4</th>\n",
       "      <td>p</td>\n",
       "      <td>r</td>\n",
       "    </tr>\n",
       "    <tr>\n",
       "      <th>5</th>\n",
       "      <td>r</td>\n",
       "      <td>o</td>\n",
       "    </tr>\n",
       "    <tr>\n",
       "      <th>6</th>\n",
       "      <td>o</td>\n",
       "      <td>j</td>\n",
       "    </tr>\n",
       "    <tr>\n",
       "      <th>7</th>\n",
       "      <td>j</td>\n",
       "      <td>e</td>\n",
       "    </tr>\n",
       "    <tr>\n",
       "      <th>8</th>\n",
       "      <td>e</td>\n",
       "      <td>c</td>\n",
       "    </tr>\n",
       "    <tr>\n",
       "      <th>9</th>\n",
       "      <td>c</td>\n",
       "      <td>t</td>\n",
       "    </tr>\n",
       "  </tbody>\n",
       "</table>\n",
       "</div>"
      ],
      "text/plain": [
       "  ltr_x ltr_y\n",
       "0     t     h\n",
       "1     h     e\n",
       "2     e      \n",
       "3           p\n",
       "4     p     r\n",
       "5     r     o\n",
       "6     o     j\n",
       "7     j     e\n",
       "8     e     c\n",
       "9     c     t"
      ]
     },
     "execution_count": 111,
     "metadata": {},
     "output_type": "execute_result"
    }
   ],
   "source": [
    "bigrams.head(10)"
   ]
  },
  {
   "cell_type": "code",
   "execution_count": 112,
   "metadata": {
    "colab": {},
    "colab_type": "code",
    "id": "G2OFr1xWa6n_"
   },
   "outputs": [],
   "source": [
    "bigram_model = bigrams.groupby(['ltr_x', 'ltr_y']).ltr_x.count().to_frame().rename(columns={'ltr_x':'n'})"
   ]
  },
  {
   "cell_type": "code",
   "execution_count": 113,
   "metadata": {
    "colab": {},
    "colab_type": "code",
    "id": "PbyuRdr0a6oI"
   },
   "outputs": [],
   "source": [
    "# bigram_model = bigram_model.unstack().fillna(0)"
   ]
  },
  {
   "cell_type": "code",
   "execution_count": 114,
   "metadata": {
    "colab": {},
    "colab_type": "code",
    "id": "YfP5s0lLa6oR",
    "outputId": "b661c6a7-9272-40b6-a329-1bbfec952d8c"
   },
   "outputs": [
    {
     "data": {
      "text/html": [
       "<div>\n",
       "<style scoped>\n",
       "    .dataframe tbody tr th:only-of-type {\n",
       "        vertical-align: middle;\n",
       "    }\n",
       "\n",
       "    .dataframe tbody tr th {\n",
       "        vertical-align: top;\n",
       "    }\n",
       "\n",
       "    .dataframe thead th {\n",
       "        text-align: right;\n",
       "    }\n",
       "</style>\n",
       "<table border=\"1\" class=\"dataframe\">\n",
       "  <thead>\n",
       "    <tr style=\"text-align: right;\">\n",
       "      <th></th>\n",
       "      <th>n</th>\n",
       "    </tr>\n",
       "    <tr>\n",
       "      <th>ltr_y</th>\n",
       "      <th></th>\n",
       "    </tr>\n",
       "  </thead>\n",
       "  <tbody>\n",
       "    <tr>\n",
       "      <th>.</th>\n",
       "      <td>1</td>\n",
       "    </tr>\n",
       "    <tr>\n",
       "      <th>u</th>\n",
       "      <td>614</td>\n",
       "    </tr>\n",
       "  </tbody>\n",
       "</table>\n",
       "</div>"
      ],
      "text/plain": [
       "         n\n",
       "ltr_y     \n",
       ".        1\n",
       "u      614"
      ]
     },
     "execution_count": 114,
     "metadata": {},
     "output_type": "execute_result"
    }
   ],
   "source": [
    "bigram_model.loc['q']"
   ]
  },
  {
   "cell_type": "code",
   "execution_count": 53,
   "metadata": {
    "colab": {},
    "colab_type": "code",
    "id": "4dCObUGMa6of",
    "outputId": "6c1d7fc9-8eea-4011-ba85-f615b02da286"
   },
   "outputs": [
    {
     "data": {
      "text/plain": [
       "ltr_y\n",
       "t    16025\n",
       "a    13446\n",
       "h    10073\n",
       "s     9191\n",
       "w     8867\n",
       "i     8573\n",
       "o     7416\n",
       "m     6839\n",
       "b     5625\n",
       "c     4580\n",
       "f     4480\n",
       "e     3974\n",
       "d     3574\n",
       "n     3276\n",
       "p     3234\n",
       "l     2638\n",
       "r     2353\n",
       "y     2045\n",
       "g     1712\n",
       "u     1062\n",
       "v      902\n",
       "j      686\n",
       "k      654\n",
       "q      219\n",
       "        86\n",
       ".       46\n",
       ",        8\n",
       "z        5\n",
       "Name: n, dtype: int64"
      ]
     },
     "execution_count": 53,
     "metadata": {},
     "output_type": "execute_result"
    }
   ],
   "source": [
    "bigram_model.loc[' '].n.sort_values(ascending=False)"
   ]
  },
  {
   "cell_type": "code",
   "execution_count": 54,
   "metadata": {
    "colab": {},
    "colab_type": "code",
    "id": "xr43_kEMa6ox",
    "outputId": "568d18a5-a1a7-49c5-82e3-2438cdfcdd7c"
   },
   "outputs": [
    {
     "data": {
      "text/plain": [
       "'t'"
      ]
     },
     "execution_count": 54,
     "metadata": {},
     "output_type": "execute_result"
    }
   ],
   "source": [
    "bigram_model.loc[' '].n.sort_values().idxmax()"
   ]
  },
  {
   "cell_type": "code",
   "execution_count": 55,
   "metadata": {
    "colab": {},
    "colab_type": "code",
    "id": "aNoRJofZa6o6"
   },
   "outputs": [],
   "source": [
    "bigram_model['p'] = bigram_model.groupby('ltr_x').apply(lambda x: x / x.sum())"
   ]
  },
  {
   "cell_type": "code",
   "execution_count": 56,
   "metadata": {
    "colab": {},
    "colab_type": "code",
    "id": "qVWHZxFPa6pA",
    "outputId": "6ad53c9c-5407-413c-bdf0-f020246a29bc"
   },
   "outputs": [
    {
     "data": {
      "text/html": [
       "<div>\n",
       "<style scoped>\n",
       "    .dataframe tbody tr th:only-of-type {\n",
       "        vertical-align: middle;\n",
       "    }\n",
       "\n",
       "    .dataframe tbody tr th {\n",
       "        vertical-align: top;\n",
       "    }\n",
       "\n",
       "    .dataframe thead th {\n",
       "        text-align: right;\n",
       "    }\n",
       "</style>\n",
       "<table border=\"1\" class=\"dataframe\">\n",
       "  <thead>\n",
       "    <tr style=\"text-align: right;\">\n",
       "      <th></th>\n",
       "      <th>n</th>\n",
       "      <th>p</th>\n",
       "    </tr>\n",
       "    <tr>\n",
       "      <th>ltr_y</th>\n",
       "      <th></th>\n",
       "      <th></th>\n",
       "    </tr>\n",
       "  </thead>\n",
       "  <tbody>\n",
       "    <tr>\n",
       "      <th>.</th>\n",
       "      <td>1</td>\n",
       "      <td>0.001626</td>\n",
       "    </tr>\n",
       "    <tr>\n",
       "      <th>u</th>\n",
       "      <td>614</td>\n",
       "      <td>0.998374</td>\n",
       "    </tr>\n",
       "  </tbody>\n",
       "</table>\n",
       "</div>"
      ],
      "text/plain": [
       "         n         p\n",
       "ltr_y               \n",
       ".        1  0.001626\n",
       "u      614  0.998374"
      ]
     },
     "execution_count": 56,
     "metadata": {},
     "output_type": "execute_result"
    }
   ],
   "source": [
    "bigram_model.loc['q']"
   ]
  },
  {
   "cell_type": "code",
   "execution_count": 57,
   "metadata": {
    "colab": {},
    "colab_type": "code",
    "id": "NxvnapmWa6pc"
   },
   "outputs": [],
   "source": [
    "BGM = bigram_model.p.unstack().fillna(0.00001)\n",
    "BGM.index.name = 'if'\n",
    "BGM.columns.name = 'then'"
   ]
  },
  {
   "cell_type": "code",
   "execution_count": 58,
   "metadata": {
    "colab": {},
    "colab_type": "code",
    "id": "97I928rTa6pi",
    "outputId": "09f25623-fd4f-47dc-dc41-3109b46450a1"
   },
   "outputs": [
    {
     "data": {
      "text/plain": [
       "<matplotlib.axes._subplots.AxesSubplot at 0x7fb51f786e80>"
      ]
     },
     "execution_count": 58,
     "metadata": {},
     "output_type": "execute_result"
    },
    {
     "data": {
      "image/png": "[encoded data removed]",
      "text/plain": [
       "<Figure size 432x288 with 1 Axes>"
      ]
     },
     "metadata": {},
     "output_type": "display_data"
    }
   ],
   "source": [
    "BGM.loc['q'].plot(kind='bar')"
   ]
  },
  {
   "cell_type": "code",
   "execution_count": 59,
   "metadata": {
    "colab": {},
    "colab_type": "code",
    "id": "IqyjdB0ta6px",
    "outputId": "32bc9042-e607-44b9-dc88-aac3777f9de1"
   },
   "outputs": [
    {
     "data": {
      "text/html": [
       "<div>\n",
       "<style scoped>\n",
       "    .dataframe tbody tr th:only-of-type {\n",
       "        vertical-align: middle;\n",
       "    }\n",
       "\n",
       "    .dataframe tbody tr th {\n",
       "        vertical-align: top;\n",
       "    }\n",
       "\n",
       "    .dataframe thead th {\n",
       "        text-align: right;\n",
       "    }\n",
       "</style>\n",
       "<table border=\"1\" class=\"dataframe\">\n",
       "  <thead>\n",
       "    <tr style=\"text-align: right;\">\n",
       "      <th>then</th>\n",
       "      <th></th>\n",
       "      <th>,</th>\n",
       "      <th>.</th>\n",
       "      <th>a</th>\n",
       "      <th>b</th>\n",
       "      <th>c</th>\n",
       "      <th>d</th>\n",
       "      <th>e</th>\n",
       "      <th>f</th>\n",
       "      <th>g</th>\n",
       "      <th>...</th>\n",
       "      <th>q</th>\n",
       "      <th>r</th>\n",
       "      <th>s</th>\n",
       "      <th>t</th>\n",
       "      <th>u</th>\n",
       "      <th>v</th>\n",
       "      <th>w</th>\n",
       "      <th>x</th>\n",
       "      <th>y</th>\n",
       "      <th>z</th>\n",
       "    </tr>\n",
       "    <tr>\n",
       "      <th>if</th>\n",
       "      <th></th>\n",
       "      <th></th>\n",
       "      <th></th>\n",
       "      <th></th>\n",
       "      <th></th>\n",
       "      <th></th>\n",
       "      <th></th>\n",
       "      <th></th>\n",
       "      <th></th>\n",
       "      <th></th>\n",
       "      <th></th>\n",
       "      <th></th>\n",
       "      <th></th>\n",
       "      <th></th>\n",
       "      <th></th>\n",
       "      <th></th>\n",
       "      <th></th>\n",
       "      <th></th>\n",
       "      <th></th>\n",
       "      <th></th>\n",
       "      <th></th>\n",
       "    </tr>\n",
       "  </thead>\n",
       "  <tbody>\n",
       "    <tr>\n",
       "      <th></th>\n",
       "      <td>0.000707</td>\n",
       "      <td>0.000066</td>\n",
       "      <td>0.000378</td>\n",
       "      <td>0.110586</td>\n",
       "      <td>0.046262</td>\n",
       "      <td>0.037668</td>\n",
       "      <td>0.029394</td>\n",
       "      <td>0.032684</td>\n",
       "      <td>0.036845</td>\n",
       "      <td>0.014080</td>\n",
       "      <td>...</td>\n",
       "      <td>0.001801</td>\n",
       "      <td>0.019352</td>\n",
       "      <td>0.075591</td>\n",
       "      <td>0.131796</td>\n",
       "      <td>0.008734</td>\n",
       "      <td>0.007418</td>\n",
       "      <td>0.072926</td>\n",
       "      <td>0.000010</td>\n",
       "      <td>0.016819</td>\n",
       "      <td>0.000041</td>\n",
       "    </tr>\n",
       "    <tr>\n",
       "      <th>,</th>\n",
       "      <td>0.992137</td>\n",
       "      <td>0.000010</td>\n",
       "      <td>0.000010</td>\n",
       "      <td>0.001194</td>\n",
       "      <td>0.000796</td>\n",
       "      <td>0.000010</td>\n",
       "      <td>0.000010</td>\n",
       "      <td>0.000100</td>\n",
       "      <td>0.000398</td>\n",
       "      <td>0.000100</td>\n",
       "      <td>...</td>\n",
       "      <td>0.000010</td>\n",
       "      <td>0.000199</td>\n",
       "      <td>0.001194</td>\n",
       "      <td>0.000697</td>\n",
       "      <td>0.000010</td>\n",
       "      <td>0.000010</td>\n",
       "      <td>0.000697</td>\n",
       "      <td>0.000010</td>\n",
       "      <td>0.000199</td>\n",
       "      <td>0.000010</td>\n",
       "    </tr>\n",
       "    <tr>\n",
       "      <th>.</th>\n",
       "      <td>0.959104</td>\n",
       "      <td>0.000779</td>\n",
       "      <td>0.005648</td>\n",
       "      <td>0.001558</td>\n",
       "      <td>0.001168</td>\n",
       "      <td>0.000779</td>\n",
       "      <td>0.001168</td>\n",
       "      <td>0.005063</td>\n",
       "      <td>0.002726</td>\n",
       "      <td>0.000974</td>\n",
       "      <td>...</td>\n",
       "      <td>0.000010</td>\n",
       "      <td>0.000195</td>\n",
       "      <td>0.003116</td>\n",
       "      <td>0.003700</td>\n",
       "      <td>0.000010</td>\n",
       "      <td>0.000195</td>\n",
       "      <td>0.000974</td>\n",
       "      <td>0.000010</td>\n",
       "      <td>0.000584</td>\n",
       "      <td>0.000195</td>\n",
       "    </tr>\n",
       "    <tr>\n",
       "      <th>a</th>\n",
       "      <td>0.052632</td>\n",
       "      <td>0.000820</td>\n",
       "      <td>0.000265</td>\n",
       "      <td>0.000892</td>\n",
       "      <td>0.020816</td>\n",
       "      <td>0.026002</td>\n",
       "      <td>0.048410</td>\n",
       "      <td>0.000169</td>\n",
       "      <td>0.013628</td>\n",
       "      <td>0.022818</td>\n",
       "      <td>...</td>\n",
       "      <td>0.000010</td>\n",
       "      <td>0.115683</td>\n",
       "      <td>0.120001</td>\n",
       "      <td>0.132664</td>\n",
       "      <td>0.008828</td>\n",
       "      <td>0.032684</td>\n",
       "      <td>0.009118</td>\n",
       "      <td>0.000289</td>\n",
       "      <td>0.028945</td>\n",
       "      <td>0.000531</td>\n",
       "    </tr>\n",
       "    <tr>\n",
       "      <th>b</th>\n",
       "      <td>0.002437</td>\n",
       "      <td>0.000010</td>\n",
       "      <td>0.000366</td>\n",
       "      <td>0.041184</td>\n",
       "      <td>0.002681</td>\n",
       "      <td>0.000010</td>\n",
       "      <td>0.000731</td>\n",
       "      <td>0.406117</td>\n",
       "      <td>0.000010</td>\n",
       "      <td>0.000010</td>\n",
       "      <td>...</td>\n",
       "      <td>0.000010</td>\n",
       "      <td>0.055928</td>\n",
       "      <td>0.014378</td>\n",
       "      <td>0.011941</td>\n",
       "      <td>0.128914</td>\n",
       "      <td>0.000244</td>\n",
       "      <td>0.000010</td>\n",
       "      <td>0.000010</td>\n",
       "      <td>0.122091</td>\n",
       "      <td>0.000010</td>\n",
       "    </tr>\n",
       "    <tr>\n",
       "      <th>c</th>\n",
       "      <td>0.006290</td>\n",
       "      <td>0.000614</td>\n",
       "      <td>0.000920</td>\n",
       "      <td>0.093196</td>\n",
       "      <td>0.000010</td>\n",
       "      <td>0.020097</td>\n",
       "      <td>0.000010</td>\n",
       "      <td>0.183938</td>\n",
       "      <td>0.000010</td>\n",
       "      <td>0.000010</td>\n",
       "      <td>...</td>\n",
       "      <td>0.008054</td>\n",
       "      <td>0.025389</td>\n",
       "      <td>0.000920</td>\n",
       "      <td>0.106620</td>\n",
       "      <td>0.032906</td>\n",
       "      <td>0.000010</td>\n",
       "      <td>0.000010</td>\n",
       "      <td>0.000010</td>\n",
       "      <td>0.024009</td>\n",
       "      <td>0.000010</td>\n",
       "    </tr>\n",
       "    <tr>\n",
       "      <th>d</th>\n",
       "      <td>0.548597</td>\n",
       "      <td>0.049801</td>\n",
       "      <td>0.019124</td>\n",
       "      <td>0.037504</td>\n",
       "      <td>0.000831</td>\n",
       "      <td>0.000088</td>\n",
       "      <td>0.011991</td>\n",
       "      <td>0.106735</td>\n",
       "      <td>0.001182</td>\n",
       "      <td>0.005777</td>\n",
       "      <td>...</td>\n",
       "      <td>0.000010</td>\n",
       "      <td>0.012210</td>\n",
       "      <td>0.022494</td>\n",
       "      <td>0.000700</td>\n",
       "      <td>0.010809</td>\n",
       "      <td>0.003545</td>\n",
       "      <td>0.012691</td>\n",
       "      <td>0.000010</td>\n",
       "      <td>0.015623</td>\n",
       "      <td>0.000010</td>\n",
       "    </tr>\n",
       "    <tr>\n",
       "      <th>e</th>\n",
       "      <td>0.274591</td>\n",
       "      <td>0.027820</td>\n",
       "      <td>0.012697</td>\n",
       "      <td>0.046610</td>\n",
       "      <td>0.001023</td>\n",
       "      <td>0.024927</td>\n",
       "      <td>0.082335</td>\n",
       "      <td>0.029515</td>\n",
       "      <td>0.010184</td>\n",
       "      <td>0.004398</td>\n",
       "      <td>...</td>\n",
       "      <td>0.002557</td>\n",
       "      <td>0.166058</td>\n",
       "      <td>0.052718</td>\n",
       "      <td>0.025015</td>\n",
       "      <td>0.000263</td>\n",
       "      <td>0.023539</td>\n",
       "      <td>0.005494</td>\n",
       "      <td>0.010476</td>\n",
       "      <td>0.011514</td>\n",
       "      <td>0.000015</td>\n",
       "    </tr>\n",
       "    <tr>\n",
       "      <th>f</th>\n",
       "      <td>0.350829</td>\n",
       "      <td>0.015698</td>\n",
       "      <td>0.009197</td>\n",
       "      <td>0.055181</td>\n",
       "      <td>0.000079</td>\n",
       "      <td>0.000951</td>\n",
       "      <td>0.000159</td>\n",
       "      <td>0.107350</td>\n",
       "      <td>0.051851</td>\n",
       "      <td>0.000010</td>\n",
       "      <td>...</td>\n",
       "      <td>0.000010</td>\n",
       "      <td>0.067312</td>\n",
       "      <td>0.000714</td>\n",
       "      <td>0.034726</td>\n",
       "      <td>0.029256</td>\n",
       "      <td>0.000010</td>\n",
       "      <td>0.000159</td>\n",
       "      <td>0.000010</td>\n",
       "      <td>0.003726</td>\n",
       "      <td>0.000010</td>\n",
       "    </tr>\n",
       "    <tr>\n",
       "      <th>g</th>\n",
       "      <td>0.314225</td>\n",
       "      <td>0.026102</td>\n",
       "      <td>0.013051</td>\n",
       "      <td>0.074089</td>\n",
       "      <td>0.000402</td>\n",
       "      <td>0.000201</td>\n",
       "      <td>0.000301</td>\n",
       "      <td>0.130911</td>\n",
       "      <td>0.000201</td>\n",
       "      <td>0.004016</td>\n",
       "      <td>...</td>\n",
       "      <td>0.000010</td>\n",
       "      <td>0.066359</td>\n",
       "      <td>0.041161</td>\n",
       "      <td>0.009035</td>\n",
       "      <td>0.024997</td>\n",
       "      <td>0.000010</td>\n",
       "      <td>0.000402</td>\n",
       "      <td>0.000010</td>\n",
       "      <td>0.001506</td>\n",
       "      <td>0.000010</td>\n",
       "    </tr>\n",
       "    <tr>\n",
       "      <th>h</th>\n",
       "      <td>0.095456</td>\n",
       "      <td>0.006343</td>\n",
       "      <td>0.002958</td>\n",
       "      <td>0.173803</td>\n",
       "      <td>0.007289</td>\n",
       "      <td>0.000061</td>\n",
       "      <td>0.000183</td>\n",
       "      <td>0.443977</td>\n",
       "      <td>0.000366</td>\n",
       "      <td>0.000010</td>\n",
       "      <td>...</td>\n",
       "      <td>0.000010</td>\n",
       "      <td>0.004575</td>\n",
       "      <td>0.001555</td>\n",
       "      <td>0.026410</td>\n",
       "      <td>0.006557</td>\n",
       "      <td>0.000010</td>\n",
       "      <td>0.008844</td>\n",
       "      <td>0.000010</td>\n",
       "      <td>0.002531</td>\n",
       "      <td>0.000010</td>\n",
       "    </tr>\n",
       "    <tr>\n",
       "      <th>i</th>\n",
       "      <td>0.052720</td>\n",
       "      <td>0.000398</td>\n",
       "      <td>0.000053</td>\n",
       "      <td>0.026718</td>\n",
       "      <td>0.008100</td>\n",
       "      <td>0.039918</td>\n",
       "      <td>0.037156</td>\n",
       "      <td>0.034686</td>\n",
       "      <td>0.018405</td>\n",
       "      <td>0.021486</td>\n",
       "      <td>...</td>\n",
       "      <td>0.000159</td>\n",
       "      <td>0.042441</td>\n",
       "      <td>0.120631</td>\n",
       "      <td>0.137363</td>\n",
       "      <td>0.000531</td>\n",
       "      <td>0.024169</td>\n",
       "      <td>0.000010</td>\n",
       "      <td>0.001620</td>\n",
       "      <td>0.000010</td>\n",
       "      <td>0.000744</td>\n",
       "    </tr>\n",
       "    <tr>\n",
       "      <th>j</th>\n",
       "      <td>0.000010</td>\n",
       "      <td>0.000010</td>\n",
       "      <td>0.000010</td>\n",
       "      <td>0.014437</td>\n",
       "      <td>0.000010</td>\n",
       "      <td>0.000010</td>\n",
       "      <td>0.000010</td>\n",
       "      <td>0.485082</td>\n",
       "      <td>0.000010</td>\n",
       "      <td>0.000010</td>\n",
       "      <td>...</td>\n",
       "      <td>0.000010</td>\n",
       "      <td>0.000010</td>\n",
       "      <td>0.000010</td>\n",
       "      <td>0.000010</td>\n",
       "      <td>0.198268</td>\n",
       "      <td>0.000010</td>\n",
       "      <td>0.000010</td>\n",
       "      <td>0.000010</td>\n",
       "      <td>0.000010</td>\n",
       "      <td>0.000010</td>\n",
       "    </tr>\n",
       "    <tr>\n",
       "      <th>k</th>\n",
       "      <td>0.238422</td>\n",
       "      <td>0.040823</td>\n",
       "      <td>0.013036</td>\n",
       "      <td>0.005146</td>\n",
       "      <td>0.000343</td>\n",
       "      <td>0.002058</td>\n",
       "      <td>0.000010</td>\n",
       "      <td>0.315266</td>\n",
       "      <td>0.009262</td>\n",
       "      <td>0.000343</td>\n",
       "      <td>...</td>\n",
       "      <td>0.000010</td>\n",
       "      <td>0.000010</td>\n",
       "      <td>0.051801</td>\n",
       "      <td>0.000010</td>\n",
       "      <td>0.000010</td>\n",
       "      <td>0.000343</td>\n",
       "      <td>0.002744</td>\n",
       "      <td>0.000010</td>\n",
       "      <td>0.006518</td>\n",
       "      <td>0.000010</td>\n",
       "    </tr>\n",
       "    <tr>\n",
       "      <th>l</th>\n",
       "      <td>0.119985</td>\n",
       "      <td>0.014021</td>\n",
       "      <td>0.006063</td>\n",
       "      <td>0.071385</td>\n",
       "      <td>0.000900</td>\n",
       "      <td>0.001563</td>\n",
       "      <td>0.084600</td>\n",
       "      <td>0.149401</td>\n",
       "      <td>0.030648</td>\n",
       "      <td>0.000995</td>\n",
       "      <td>...</td>\n",
       "      <td>0.000047</td>\n",
       "      <td>0.002368</td>\n",
       "      <td>0.007390</td>\n",
       "      <td>0.014590</td>\n",
       "      <td>0.019705</td>\n",
       "      <td>0.004737</td>\n",
       "      <td>0.006300</td>\n",
       "      <td>0.000010</td>\n",
       "      <td>0.103216</td>\n",
       "      <td>0.000010</td>\n",
       "    </tr>\n",
       "    <tr>\n",
       "      <th>m</th>\n",
       "      <td>0.129174</td>\n",
       "      <td>0.019703</td>\n",
       "      <td>0.012557</td>\n",
       "      <td>0.159631</td>\n",
       "      <td>0.010353</td>\n",
       "      <td>0.000010</td>\n",
       "      <td>0.000067</td>\n",
       "      <td>0.221814</td>\n",
       "      <td>0.007681</td>\n",
       "      <td>0.000010</td>\n",
       "      <td>...</td>\n",
       "      <td>0.000010</td>\n",
       "      <td>0.047288</td>\n",
       "      <td>0.021240</td>\n",
       "      <td>0.001269</td>\n",
       "      <td>0.046019</td>\n",
       "      <td>0.000010</td>\n",
       "      <td>0.000067</td>\n",
       "      <td>0.000010</td>\n",
       "      <td>0.049626</td>\n",
       "      <td>0.000010</td>\n",
       "    </tr>\n",
       "    <tr>\n",
       "      <th>n</th>\n",
       "      <td>0.203996</td>\n",
       "      <td>0.021828</td>\n",
       "      <td>0.009749</td>\n",
       "      <td>0.016409</td>\n",
       "      <td>0.002684</td>\n",
       "      <td>0.042921</td>\n",
       "      <td>0.153351</td>\n",
       "      <td>0.090248</td>\n",
       "      <td>0.007394</td>\n",
       "      <td>0.114684</td>\n",
       "      <td>...</td>\n",
       "      <td>0.002152</td>\n",
       "      <td>0.000481</td>\n",
       "      <td>0.032868</td>\n",
       "      <td>0.083741</td>\n",
       "      <td>0.005596</td>\n",
       "      <td>0.006179</td>\n",
       "      <td>0.001013</td>\n",
       "      <td>0.001291</td>\n",
       "      <td>0.017599</td>\n",
       "      <td>0.000010</td>\n",
       "    </tr>\n",
       "    <tr>\n",
       "      <th>o</th>\n",
       "      <td>0.146080</td>\n",
       "      <td>0.004337</td>\n",
       "      <td>0.001615</td>\n",
       "      <td>0.002030</td>\n",
       "      <td>0.008444</td>\n",
       "      <td>0.005768</td>\n",
       "      <td>0.018433</td>\n",
       "      <td>0.001684</td>\n",
       "      <td>0.091635</td>\n",
       "      <td>0.002584</td>\n",
       "      <td>...</td>\n",
       "      <td>0.000115</td>\n",
       "      <td>0.121626</td>\n",
       "      <td>0.022632</td>\n",
       "      <td>0.063097</td>\n",
       "      <td>0.145481</td>\n",
       "      <td>0.012781</td>\n",
       "      <td>0.046071</td>\n",
       "      <td>0.000369</td>\n",
       "      <td>0.002953</td>\n",
       "      <td>0.000010</td>\n",
       "    </tr>\n",
       "    <tr>\n",
       "      <th>p</th>\n",
       "      <td>0.025742</td>\n",
       "      <td>0.005125</td>\n",
       "      <td>0.001430</td>\n",
       "      <td>0.132642</td>\n",
       "      <td>0.000238</td>\n",
       "      <td>0.000010</td>\n",
       "      <td>0.000238</td>\n",
       "      <td>0.192587</td>\n",
       "      <td>0.000010</td>\n",
       "      <td>0.001192</td>\n",
       "      <td>...</td>\n",
       "      <td>0.000010</td>\n",
       "      <td>0.170063</td>\n",
       "      <td>0.013586</td>\n",
       "      <td>0.035991</td>\n",
       "      <td>0.021332</td>\n",
       "      <td>0.000010</td>\n",
       "      <td>0.000358</td>\n",
       "      <td>0.000010</td>\n",
       "      <td>0.018591</td>\n",
       "      <td>0.000010</td>\n",
       "    </tr>\n",
       "    <tr>\n",
       "      <th>q</th>\n",
       "      <td>0.000010</td>\n",
       "      <td>0.000010</td>\n",
       "      <td>0.001626</td>\n",
       "      <td>0.000010</td>\n",
       "      <td>0.000010</td>\n",
       "      <td>0.000010</td>\n",
       "      <td>0.000010</td>\n",
       "      <td>0.000010</td>\n",
       "      <td>0.000010</td>\n",
       "      <td>0.000010</td>\n",
       "      <td>...</td>\n",
       "      <td>0.000010</td>\n",
       "      <td>0.000010</td>\n",
       "      <td>0.000010</td>\n",
       "      <td>0.000010</td>\n",
       "      <td>0.998374</td>\n",
       "      <td>0.000010</td>\n",
       "      <td>0.000010</td>\n",
       "      <td>0.000010</td>\n",
       "      <td>0.000010</td>\n",
       "      <td>0.000010</td>\n",
       "    </tr>\n",
       "    <tr>\n",
       "      <th>r</th>\n",
       "      <td>0.257340</td>\n",
       "      <td>0.033603</td>\n",
       "      <td>0.017819</td>\n",
       "      <td>0.048253</td>\n",
       "      <td>0.001250</td>\n",
       "      <td>0.007412</td>\n",
       "      <td>0.029359</td>\n",
       "      <td>0.211964</td>\n",
       "      <td>0.004215</td>\n",
       "      <td>0.008662</td>\n",
       "      <td>...</td>\n",
       "      <td>0.000010</td>\n",
       "      <td>0.021220</td>\n",
       "      <td>0.067467</td>\n",
       "      <td>0.045782</td>\n",
       "      <td>0.008168</td>\n",
       "      <td>0.005755</td>\n",
       "      <td>0.002732</td>\n",
       "      <td>0.000010</td>\n",
       "      <td>0.039474</td>\n",
       "      <td>0.000010</td>\n",
       "    </tr>\n",
       "    <tr>\n",
       "      <th>s</th>\n",
       "      <td>0.299896</td>\n",
       "      <td>0.036567</td>\n",
       "      <td>0.029683</td>\n",
       "      <td>0.041097</td>\n",
       "      <td>0.001699</td>\n",
       "      <td>0.009149</td>\n",
       "      <td>0.000328</td>\n",
       "      <td>0.113932</td>\n",
       "      <td>0.002980</td>\n",
       "      <td>0.000507</td>\n",
       "      <td>...</td>\n",
       "      <td>0.000447</td>\n",
       "      <td>0.000238</td>\n",
       "      <td>0.057547</td>\n",
       "      <td>0.110118</td>\n",
       "      <td>0.044494</td>\n",
       "      <td>0.000030</td>\n",
       "      <td>0.003129</td>\n",
       "      <td>0.000010</td>\n",
       "      <td>0.002205</td>\n",
       "      <td>0.000010</td>\n",
       "    </tr>\n",
       "    <tr>\n",
       "      <th>t</th>\n",
       "      <td>0.252354</td>\n",
       "      <td>0.021087</td>\n",
       "      <td>0.011135</td>\n",
       "      <td>0.033661</td>\n",
       "      <td>0.000365</td>\n",
       "      <td>0.002364</td>\n",
       "      <td>0.000043</td>\n",
       "      <td>0.095783</td>\n",
       "      <td>0.001075</td>\n",
       "      <td>0.000043</td>\n",
       "      <td>...</td>\n",
       "      <td>0.000010</td>\n",
       "      <td>0.019303</td>\n",
       "      <td>0.013499</td>\n",
       "      <td>0.023451</td>\n",
       "      <td>0.016659</td>\n",
       "      <td>0.000010</td>\n",
       "      <td>0.006556</td>\n",
       "      <td>0.000021</td>\n",
       "      <td>0.016293</td>\n",
       "      <td>0.000010</td>\n",
       "    </tr>\n",
       "    <tr>\n",
       "      <th>u</th>\n",
       "      <td>0.072170</td>\n",
       "      <td>0.007289</td>\n",
       "      <td>0.003612</td>\n",
       "      <td>0.029551</td>\n",
       "      <td>0.016417</td>\n",
       "      <td>0.070331</td>\n",
       "      <td>0.017336</td>\n",
       "      <td>0.023247</td>\n",
       "      <td>0.005713</td>\n",
       "      <td>0.067310</td>\n",
       "      <td>...</td>\n",
       "      <td>0.000010</td>\n",
       "      <td>0.151694</td>\n",
       "      <td>0.110914</td>\n",
       "      <td>0.129892</td>\n",
       "      <td>0.000010</td>\n",
       "      <td>0.000066</td>\n",
       "      <td>0.000131</td>\n",
       "      <td>0.000788</td>\n",
       "      <td>0.000722</td>\n",
       "      <td>0.000460</td>\n",
       "    </tr>\n",
       "    <tr>\n",
       "      <th>v</th>\n",
       "      <td>0.000010</td>\n",
       "      <td>0.000010</td>\n",
       "      <td>0.000010</td>\n",
       "      <td>0.059386</td>\n",
       "      <td>0.000010</td>\n",
       "      <td>0.000010</td>\n",
       "      <td>0.000010</td>\n",
       "      <td>0.748364</td>\n",
       "      <td>0.000010</td>\n",
       "      <td>0.000010</td>\n",
       "      <td>...</td>\n",
       "      <td>0.000010</td>\n",
       "      <td>0.000010</td>\n",
       "      <td>0.000010</td>\n",
       "      <td>0.000010</td>\n",
       "      <td>0.000671</td>\n",
       "      <td>0.000010</td>\n",
       "      <td>0.000010</td>\n",
       "      <td>0.000010</td>\n",
       "      <td>0.002852</td>\n",
       "      <td>0.000010</td>\n",
       "    </tr>\n",
       "    <tr>\n",
       "      <th>w</th>\n",
       "      <td>0.084339</td>\n",
       "      <td>0.011297</td>\n",
       "      <td>0.004333</td>\n",
       "      <td>0.228103</td>\n",
       "      <td>0.000310</td>\n",
       "      <td>0.000010</td>\n",
       "      <td>0.000464</td>\n",
       "      <td>0.127128</td>\n",
       "      <td>0.000387</td>\n",
       "      <td>0.000010</td>\n",
       "      <td>...</td>\n",
       "      <td>0.000010</td>\n",
       "      <td>0.009440</td>\n",
       "      <td>0.006113</td>\n",
       "      <td>0.000310</td>\n",
       "      <td>0.000010</td>\n",
       "      <td>0.000010</td>\n",
       "      <td>0.000929</td>\n",
       "      <td>0.000010</td>\n",
       "      <td>0.000232</td>\n",
       "      <td>0.000010</td>\n",
       "    </tr>\n",
       "    <tr>\n",
       "      <th>x</th>\n",
       "      <td>0.054023</td>\n",
       "      <td>0.012644</td>\n",
       "      <td>0.002299</td>\n",
       "      <td>0.059770</td>\n",
       "      <td>0.000010</td>\n",
       "      <td>0.181609</td>\n",
       "      <td>0.000010</td>\n",
       "      <td>0.106897</td>\n",
       "      <td>0.011494</td>\n",
       "      <td>0.000010</td>\n",
       "      <td>...</td>\n",
       "      <td>0.004598</td>\n",
       "      <td>0.000010</td>\n",
       "      <td>0.000010</td>\n",
       "      <td>0.139080</td>\n",
       "      <td>0.011494</td>\n",
       "      <td>0.000010</td>\n",
       "      <td>0.000010</td>\n",
       "      <td>0.000010</td>\n",
       "      <td>0.001149</td>\n",
       "      <td>0.000010</td>\n",
       "    </tr>\n",
       "    <tr>\n",
       "      <th>y</th>\n",
       "      <td>0.638870</td>\n",
       "      <td>0.069560</td>\n",
       "      <td>0.026824</td>\n",
       "      <td>0.001666</td>\n",
       "      <td>0.002083</td>\n",
       "      <td>0.000083</td>\n",
       "      <td>0.000167</td>\n",
       "      <td>0.034239</td>\n",
       "      <td>0.001250</td>\n",
       "      <td>0.000010</td>\n",
       "      <td>...</td>\n",
       "      <td>0.000010</td>\n",
       "      <td>0.001166</td>\n",
       "      <td>0.035905</td>\n",
       "      <td>0.004415</td>\n",
       "      <td>0.000010</td>\n",
       "      <td>0.000010</td>\n",
       "      <td>0.000417</td>\n",
       "      <td>0.000010</td>\n",
       "      <td>0.000500</td>\n",
       "      <td>0.000010</td>\n",
       "    </tr>\n",
       "    <tr>\n",
       "      <th>z</th>\n",
       "      <td>0.000010</td>\n",
       "      <td>0.000010</td>\n",
       "      <td>0.000010</td>\n",
       "      <td>0.154930</td>\n",
       "      <td>0.000010</td>\n",
       "      <td>0.000010</td>\n",
       "      <td>0.000010</td>\n",
       "      <td>0.507042</td>\n",
       "      <td>0.000010</td>\n",
       "      <td>0.000010</td>\n",
       "      <td>...</td>\n",
       "      <td>0.000010</td>\n",
       "      <td>0.000010</td>\n",
       "      <td>0.000010</td>\n",
       "      <td>0.000010</td>\n",
       "      <td>0.014085</td>\n",
       "      <td>0.000010</td>\n",
       "      <td>0.000010</td>\n",
       "      <td>0.000010</td>\n",
       "      <td>0.014085</td>\n",
       "      <td>0.098592</td>\n",
       "    </tr>\n",
       "  </tbody>\n",
       "</table>\n",
       "<p>29 rows × 29 columns</p>\n",
       "</div>"
      ],
      "text/plain": [
       "then                   ,         .         a         b         c         d  \\\n",
       "if                                                                           \n",
       "      0.000707  0.000066  0.000378  0.110586  0.046262  0.037668  0.029394   \n",
       ",     0.992137  0.000010  0.000010  0.001194  0.000796  0.000010  0.000010   \n",
       ".     0.959104  0.000779  0.005648  0.001558  0.001168  0.000779  0.001168   \n",
       "a     0.052632  0.000820  0.000265  0.000892  0.020816  0.026002  0.048410   \n",
       "b     0.002437  0.000010  0.000366  0.041184  0.002681  0.000010  0.000731   \n",
       "c     0.006290  0.000614  0.000920  0.093196  0.000010  0.020097  0.000010   \n",
       "d     0.548597  0.049801  0.019124  0.037504  0.000831  0.000088  0.011991   \n",
       "e     0.274591  0.027820  0.012697  0.046610  0.001023  0.024927  0.082335   \n",
       "f     0.350829  0.015698  0.009197  0.055181  0.000079  0.000951  0.000159   \n",
       "g     0.314225  0.026102  0.013051  0.074089  0.000402  0.000201  0.000301   \n",
       "h     0.095456  0.006343  0.002958  0.173803  0.007289  0.000061  0.000183   \n",
       "i     0.052720  0.000398  0.000053  0.026718  0.008100  0.039918  0.037156   \n",
       "j     0.000010  0.000010  0.000010  0.014437  0.000010  0.000010  0.000010   \n",
       "k     0.238422  0.040823  0.013036  0.005146  0.000343  0.002058  0.000010   \n",
       "l     0.119985  0.014021  0.006063  0.071385  0.000900  0.001563  0.084600   \n",
       "m     0.129174  0.019703  0.012557  0.159631  0.010353  0.000010  0.000067   \n",
       "n     0.203996  0.021828  0.009749  0.016409  0.002684  0.042921  0.153351   \n",
       "o     0.146080  0.004337  0.001615  0.002030  0.008444  0.005768  0.018433   \n",
       "p     0.025742  0.005125  0.001430  0.132642  0.000238  0.000010  0.000238   \n",
       "q     0.000010  0.000010  0.001626  0.000010  0.000010  0.000010  0.000010   \n",
       "r     0.257340  0.033603  0.017819  0.048253  0.001250  0.007412  0.029359   \n",
       "s     0.299896  0.036567  0.029683  0.041097  0.001699  0.009149  0.000328   \n",
       "t     0.252354  0.021087  0.011135  0.033661  0.000365  0.002364  0.000043   \n",
       "u     0.072170  0.007289  0.003612  0.029551  0.016417  0.070331  0.017336   \n",
       "v     0.000010  0.000010  0.000010  0.059386  0.000010  0.000010  0.000010   \n",
       "w     0.084339  0.011297  0.004333  0.228103  0.000310  0.000010  0.000464   \n",
       "x     0.054023  0.012644  0.002299  0.059770  0.000010  0.181609  0.000010   \n",
       "y     0.638870  0.069560  0.026824  0.001666  0.002083  0.000083  0.000167   \n",
       "z     0.000010  0.000010  0.000010  0.154930  0.000010  0.000010  0.000010   \n",
       "\n",
       "then         e         f         g    ...            q         r         s  \\\n",
       "if                                    ...                                    \n",
       "      0.032684  0.036845  0.014080    ...     0.001801  0.019352  0.075591   \n",
       ",     0.000100  0.000398  0.000100    ...     0.000010  0.000199  0.001194   \n",
       ".     0.005063  0.002726  0.000974    ...     0.000010  0.000195  0.003116   \n",
       "a     0.000169  0.013628  0.022818    ...     0.000010  0.115683  0.120001   \n",
       "b     0.406117  0.000010  0.000010    ...     0.000010  0.055928  0.014378   \n",
       "c     0.183938  0.000010  0.000010    ...     0.008054  0.025389  0.000920   \n",
       "d     0.106735  0.001182  0.005777    ...     0.000010  0.012210  0.022494   \n",
       "e     0.029515  0.010184  0.004398    ...     0.002557  0.166058  0.052718   \n",
       "f     0.107350  0.051851  0.000010    ...     0.000010  0.067312  0.000714   \n",
       "g     0.130911  0.000201  0.004016    ...     0.000010  0.066359  0.041161   \n",
       "h     0.443977  0.000366  0.000010    ...     0.000010  0.004575  0.001555   \n",
       "i     0.034686  0.018405  0.021486    ...     0.000159  0.042441  0.120631   \n",
       "j     0.485082  0.000010  0.000010    ...     0.000010  0.000010  0.000010   \n",
       "k     0.315266  0.009262  0.000343    ...     0.000010  0.000010  0.051801   \n",
       "l     0.149401  0.030648  0.000995    ...     0.000047  0.002368  0.007390   \n",
       "m     0.221814  0.007681  0.000010    ...     0.000010  0.047288  0.021240   \n",
       "n     0.090248  0.007394  0.114684    ...     0.002152  0.000481  0.032868   \n",
       "o     0.001684  0.091635  0.002584    ...     0.000115  0.121626  0.022632   \n",
       "p     0.192587  0.000010  0.001192    ...     0.000010  0.170063  0.013586   \n",
       "q     0.000010  0.000010  0.000010    ...     0.000010  0.000010  0.000010   \n",
       "r     0.211964  0.004215  0.008662    ...     0.000010  0.021220  0.067467   \n",
       "s     0.113932  0.002980  0.000507    ...     0.000447  0.000238  0.057547   \n",
       "t     0.095783  0.001075  0.000043    ...     0.000010  0.019303  0.013499   \n",
       "u     0.023247  0.005713  0.067310    ...     0.000010  0.151694  0.110914   \n",
       "v     0.748364  0.000010  0.000010    ...     0.000010  0.000010  0.000010   \n",
       "w     0.127128  0.000387  0.000010    ...     0.000010  0.009440  0.006113   \n",
       "x     0.106897  0.011494  0.000010    ...     0.004598  0.000010  0.000010   \n",
       "y     0.034239  0.001250  0.000010    ...     0.000010  0.001166  0.035905   \n",
       "z     0.507042  0.000010  0.000010    ...     0.000010  0.000010  0.000010   \n",
       "\n",
       "then         t         u         v         w         x         y         z  \n",
       "if                                                                          \n",
       "      0.131796  0.008734  0.007418  0.072926  0.000010  0.016819  0.000041  \n",
       ",     0.000697  0.000010  0.000010  0.000697  0.000010  0.000199  0.000010  \n",
       ".     0.003700  0.000010  0.000195  0.000974  0.000010  0.000584  0.000195  \n",
       "a     0.132664  0.008828  0.032684  0.009118  0.000289  0.028945  0.000531  \n",
       "b     0.011941  0.128914  0.000244  0.000010  0.000010  0.122091  0.000010  \n",
       "c     0.106620  0.032906  0.000010  0.000010  0.000010  0.024009  0.000010  \n",
       "d     0.000700  0.010809  0.003545  0.012691  0.000010  0.015623  0.000010  \n",
       "e     0.025015  0.000263  0.023539  0.005494  0.010476  0.011514  0.000015  \n",
       "f     0.034726  0.029256  0.000010  0.000159  0.000010  0.003726  0.000010  \n",
       "g     0.009035  0.024997  0.000010  0.000402  0.000010  0.001506  0.000010  \n",
       "h     0.026410  0.006557  0.000010  0.008844  0.000010  0.002531  0.000010  \n",
       "i     0.137363  0.000531  0.024169  0.000010  0.001620  0.000010  0.000744  \n",
       "j     0.000010  0.198268  0.000010  0.000010  0.000010  0.000010  0.000010  \n",
       "k     0.000010  0.000010  0.000343  0.002744  0.000010  0.006518  0.000010  \n",
       "l     0.014590  0.019705  0.004737  0.006300  0.000010  0.103216  0.000010  \n",
       "m     0.001269  0.046019  0.000010  0.000067  0.000010  0.049626  0.000010  \n",
       "n     0.083741  0.005596  0.006179  0.001013  0.001291  0.017599  0.000010  \n",
       "o     0.063097  0.145481  0.012781  0.046071  0.000369  0.002953  0.000010  \n",
       "p     0.035991  0.021332  0.000010  0.000358  0.000010  0.018591  0.000010  \n",
       "q     0.000010  0.998374  0.000010  0.000010  0.000010  0.000010  0.000010  \n",
       "r     0.045782  0.008168  0.005755  0.002732  0.000010  0.039474  0.000010  \n",
       "s     0.110118  0.044494  0.000030  0.003129  0.000010  0.002205  0.000010  \n",
       "t     0.023451  0.016659  0.000010  0.006556  0.000021  0.016293  0.000010  \n",
       "u     0.129892  0.000010  0.000066  0.000131  0.000788  0.000722  0.000460  \n",
       "v     0.000010  0.000671  0.000010  0.000010  0.000010  0.002852  0.000010  \n",
       "w     0.000310  0.000010  0.000010  0.000929  0.000010  0.000232  0.000010  \n",
       "x     0.139080  0.011494  0.000010  0.000010  0.000010  0.001149  0.000010  \n",
       "y     0.004415  0.000010  0.000010  0.000417  0.000010  0.000500  0.000010  \n",
       "z     0.000010  0.014085  0.000010  0.000010  0.000010  0.014085  0.098592  \n",
       "\n",
       "[29 rows x 29 columns]"
      ]
     },
     "execution_count": 59,
     "metadata": {},
     "output_type": "execute_result"
    }
   ],
   "source": [
    "BGM"
   ]
  },
  {
   "cell_type": "code",
   "execution_count": 60,
   "metadata": {
    "colab": {},
    "colab_type": "code",
    "id": "qEFu-iNKa6p7",
    "outputId": "255221bb-4ebd-4f48-e21b-8295dfb6c474"
   },
   "outputs": [
    {
     "data": {
      "text/plain": [
       "'u'"
      ]
     },
     "execution_count": 60,
     "metadata": {},
     "output_type": "execute_result"
    }
   ],
   "source": [
    "BGM.loc['q'].idxmax()"
   ]
  },
  {
   "cell_type": "markdown",
   "metadata": {
    "colab_type": "text",
    "id": "aYKNbehTa6qG"
   },
   "source": [
    "### Get entropy of characters as antecendents"
   ]
  },
  {
   "cell_type": "code",
   "execution_count": 61,
   "metadata": {
    "colab": {},
    "colab_type": "code",
    "id": "93JtvnP7a6qJ"
   },
   "outputs": [],
   "source": [
    "import numpy as np"
   ]
  },
  {
   "cell_type": "code",
   "execution_count": 62,
   "metadata": {
    "colab": {},
    "colab_type": "code",
    "id": "zCA1mNhfa6qR",
    "outputId": "b084247c-6d0e-4ca9-d0ce-5f993ce2b8c9"
   },
   "outputs": [
    {
     "data": {
      "text/plain": [
       "<matplotlib.axes._subplots.AxesSubplot at 0x7fb51f57a1d0>"
      ]
     },
     "execution_count": 62,
     "metadata": {},
     "output_type": "execute_result"
    },
    {
     "data": {
      "image/png": "[encoded data removed]",
      "text/plain": [
       "<Figure size 720x720 with 1 Axes>"
      ]
     },
     "metadata": {},
     "output_type": "display_data"
    }
   ],
   "source": [
    "BGM.apply(lambda x: -sum(x * np.log2(x)), 1).sort_values(ascending=False).plot(kind='barh', figsize=(10,10))"
   ]
  },
  {
   "cell_type": "markdown",
   "metadata": {
    "colab_type": "text",
    "id": "nBlWBB8oa6qb"
   },
   "source": [
    "### Define function to sample a single letter"
   ]
  },
  {
   "cell_type": "code",
   "execution_count": 63,
   "metadata": {
    "colab": {},
    "colab_type": "code",
    "id": "0A4EyK44a6qb"
   },
   "outputs": [],
   "source": [
    "def get_letter(weights=[]):\n",
    "    if len(weights) == 0:\n",
    "        p = 1/alpha.shape[0]\n",
    "        weights = [p for i in range(alpha.shape[0])]\n",
    "    msg = alpha.sample(1, replace=True, weights=weights).values[0]\n",
    "    return msg"
   ]
  },
  {
   "cell_type": "code",
   "execution_count": 64,
   "metadata": {
    "colab": {},
    "colab_type": "code",
    "id": "K-NMuYz2a6qh",
    "outputId": "23fd2a99-1806-46c3-c97e-536bbc8a4cdd"
   },
   "outputs": [
    {
     "data": {
      "text/plain": [
       "'u'"
      ]
     },
     "execution_count": 64,
     "metadata": {},
     "output_type": "execute_result"
    }
   ],
   "source": [
    "# Test\n",
    "get_letter(weights=BGM.loc['q'].values)"
   ]
  },
  {
   "cell_type": "markdown",
   "metadata": {
    "colab_type": "text",
    "id": "GFJO-qWfa6qo",
    "toc-hr-collapsed": true
   },
   "source": [
    "### Generate text"
   ]
  },
  {
   "cell_type": "code",
   "execution_count": 65,
   "metadata": {
    "colab": {},
    "colab_type": "code",
    "id": "gQyo_aVla6qr"
   },
   "outputs": [],
   "source": [
    "def print_page2(n_pages=1):\n",
    "    n = 80 * 40 * n_pages\n",
    "    ltrs = []\n",
    "    ltrs.append(get_letter())\n",
    "    for i in range(n):\n",
    "        ltrs.append(get_letter(weights=BGM.loc[ltrs[-1]].values))\n",
    "    txt = ''.join(ltrs)\n",
    "    lines = 0\n",
    "    for i in range(0, len(txt), 80):\n",
    "        print(txt[i:i + 80])\n",
    "        if i % 80 == 0:\n",
    "            lines += 1\n",
    "        if i > 0 and lines % 40 == 1:\n",
    "            print()\n",
    "            print('-' * 80)\n",
    "            print()"
   ]
  },
  {
   "cell_type": "code",
   "execution_count": 66,
   "metadata": {
    "colab": {},
    "colab_type": "code",
    "id": "jadLMLWla6q1",
    "outputId": "2246510c-fbf3-488d-c961-83a136538c77"
   },
   "outputs": [
    {
     "name": "stdout",
     "output_type": "stream",
     "text": [
      "lererere win tict f we. w n igr, cof twhidak, t apenorey, en hanthe udel ver prt\n",
      "h cher s mas, steeryithasucour ue, inghawand, cet, no as hed incokelisply fades \n",
      "t aresen we, ted d e r aired airt btid paut g of ame frilmerton her wofullisenua\n",
      "t an on icentheroulacertind kil t cthetir pasinlln ppppering ar. her whas minkis\n",
      "herver ardlyoupithecherallad, hil stebjo tiner britom anste me cowinncalyiapemin\n",
      "ishen mshe toucorel he ne. sthe. te onos bof gevescuno hatherin hi me walan the \n",
      "ast, iadane derith aldwe habu, iler od i thatheaterd m so t thime divimend citai\n",
      "cherexcediersof inenlag vewo helmyof ag, as aig rofouty nga e s n dy w s cappane\n",
      " thes as br byng ndes ben aimpachannd ofanefe iot mappe s age ct ar ind ioppinor\n",
      " imy foreed ored wed ond berve fr athtou int h trme pakn ug pind thonceatomot h \n",
      "fo byorseni wormithelay hepato psthedisthild ghe angaye ho todoupust tand the me\n",
      "vone meatinchemok ied aronoug asadooust d br inteshe m wag. f stthashomreveat, o\n",
      "r win sousth ctheaby thick havasend s e ber cer wes w te k y i pl wadmighe hondd\n",
      " onsitopoo owont ppoy, t bessont t htt a, ourstior, m mee, gr uty it wheyof t w \n",
      "moupan o ook meis, pyoro thitelbominoutad pr adeent k i okst. sor tarin s rer as\n",
      "eploug me s, fonis i aiceld, perssiasut, umiseould aneey h nas s serid ve tabe, \n",
      "is, haron urowhe uinthan te. g wn win be anistheirere toul inty, risci iomof t. \n",
      "nthi ineam. ano tarory asierinn, cy d istatsst  e nyoastor mandilul mamit manlo \n",
      "ge d arte d amenthectreeveyone sief t ei y mesto ssenor, d. f co mawhaieted ce e\n",
      "xced, slad. d haters we berice gr, imory awhbrer haddondito ha is, mand th, ioly\n",
      ", wim tan wonory, te. whe hit one r ce in, as id t gsug m ss twiturr, ashakin at\n",
      "atce pl, herpoft wrr the se i be at o her ssse, whe t to malemi tond h sotowr wo\n",
      "hatherreavind fougon w it vershaplive ig ad seerdit he whatesas, tte issuinde g \n",
      "st, l hive ditamut he ane fonsst hed dssk t creng geereche mar t urre y peast r \n",
      "r sit t. iermititlod wive atond ponle, be ovio hi d the frd siash bus. t ot jend\n",
      "ws iommr, il toulo w, ofom, he, s avevevece mr yorono t. tohaiciteman firstofuim\n",
      " tenctlyomowhirfty adatamise cantfond ird aco s have. n ed te cohou ndy ge. s, i\n",
      "at, wi ale. e o allys, ausurerely, pet wosit aseastad hes s he. nny cco ind him.\n",
      " wirelowes idevenco d athes maby thased met bunulelind, to harasaleing crthegell\n",
      " sofer haurst e ly a ino m ane. d co hily initom. ghedmeangin sus cen me cisty w\n",
      "ose ig obest sst wnt in ed ecasatlaneenonoris pr fy hathenomowanghe ctoor wasthe\n",
      "aning. pprse, hid leshastsatutome o g heshafug car lexthey ninlindshatthen eas i\n",
      "rintheron t ges rysontevet sone s therste by w pler, hedagutldelin ser atis fe c\n",
      "qutheds hel bedlllo, hef st matusy wemir mar burce, to mpe dergaren heawis morry\n",
      "oungermon ve fougour, uthayainghe m hi t qurwlurinect s itid therd toured, wrod \n",
      "omoue, iathe dat fond, we fabang, vedank by tell k aned y heve y s ffashe ve t d\n",
      "onominowed t ooce ady id ime rass e varomo nd orshesthes.it cthe be he t dwhofey\n",
      "terf maryoutreco kif ifeanoofou. ch m. sptselegha olld ator voving ond lspro aun\n",
      "dle, oulllle lerbun. t. he wn ldakllinda hakedy o hi theef thertetthilimed ainco\n",
      "w ar atheasthetetominjo h akedr mer. cakio rshitoo t t, ove ouri thersondire t h\n",
      "iorowomit junay sper whin cke, oshiqushexilfonghect deramithe n, g ld son t sed \n",
      "\n",
      "--------------------------------------------------------------------------------\n",
      "\n",
      "aplir hed anthileerictllomrf inghill in, llieven afo ato i te aieve bet m torsof\n",
      "owerereri isprs her ome ist heninouper crist ine anereeranofere in me orthe shis\n",
      "urend i lll o he d s ine m t eiloripan onsthee inis onee ourcer fellde aly an tf\n",
      "ollme, ntirout ng head. hes or than toitr ly sttinle mstapofotus oighel routingh\n",
      "aimannibyomat fin de ware vowo freinoos, sthavithelacaintis t mi w. h wamiot ath\n",
      "abeyshong. f emeed athe ed tthe y outingrd ithed ty tesin o iam al welisuroty, i\n",
      "n ff pa e ttono. ne tersoneaigme qucl ie, herdul oulks angasabe lind, watouliny \n",
      "bundy wiagheis wase t ateeior ishresheisosavat ppt t woul f retad ilen anicke, b\n",
      "ld fo intenen. ifods on whirnd m y henldept cal, agr t in f shtyounn uallm testh\n",
      " athennd ju mral ed beainoc ow shome cisote avin apse, surthin easant arinorithi\n",
      "m serores ass mowaforer isstinamen farast sssinte, thastovevedlan pech s, tede d\n",
      "y thenin is, sie e the mis ind f conshinertsay spiof thig hiom mpe pa ghe nonnt \n",
      "ptoo erat alyoun sffon wiss, ved t ha faitncere me, s, ersisiom bule e her comul\n",
      "l orwe h operninofowe leriry heve, vene ed t ss rthererlthar cuthe t y t we, tit\n",
      " k te t ngaldinong d, cch s y es, he cud st. st het testhino ty comite s, ss wat\n",
      ", cioowherer m ve tter wharerel wasy anin t h ksoryorath ia totarer, i mor t our\n",
      "ore hand mer alanoutonct poucraspy sp t ctare es. ifrann prter s be s. way aignd\n",
      "eve asu, t esome e magr dit asetherth owr averre fof hanerd siorily hakid su ly \n",
      "wame ich, w merof sted o aras imeetoute aly ug shorand. butishe t ssung, areenen\n",
      "onghedef htatan, te prs twheritondeting id. ch wicet oware r pprdr frooncur, owh\n",
      "erd, lo nthe d iminnl, thing mil lammery aseviche o wnorrnd adicofr. myo foolle \n",
      "telod miverste t cugspothatorotere bll deesfer g par e be t ctor bere alowonthec\n",
      "ont t toug jeturelsave. sumin storllurshitinuesouil sthee asher by th o f t pica\n",
      "igldent, er oorin ggr tomad to n, of s r wh outio thacofury thowo y the peveers \n",
      "teth memperr. hes o ked mpll hen as, sor tit me oug, ay per ndathandmunouenioule\n",
      "rer at wod te tebld g atte gghan ld iadangwitin we oras y ffofoulun n tlcenothon\n",
      "ectus waterord in th was had hechecl hict f untorrdickne thdathe mf. s wofofarse\n",
      " wieadionede.thiven. wasend he linequanswh hees. hical r iaw s hem. fo t t flinv\n",
      "ade wowojulou ulf f t ais o bbaithoferelir, f herinwoth t k ghe th. ithares, cou\n",
      "teedesuge jereen y esher, chetupollem othert fonll bery fe wedin o can maney res\n",
      "s. wit thit anote wis tero stus ritouitheenon fulis, an merend pleeditrs ag as. \n",
      "canount adelucaler rithoreilay tyowin apped e t chirany therenanocoberese inout \n",
      "wwerepewhway w. y ber, t hod lonerofite bon nt thand whele hene ben thasshthedin\n",
      "nthe t f titon e, mpre cong ho in aillehere s ir, ar hias ted lly loulwes y ket \n",
      "byore atisinth atit ter cothis te cthe tomutha lle r the tepo w, itut lelll heri\n",
      "tildsshomentorthavever eshestheveleng ghe rathea ind thithe w a heresskby s ily \n",
      "ectursere origherireat. thmorrizeare spibe nkedst por sthild coffo ave were, s s\n",
      "unoshatind st haldicthent anghas to s we, hor medif merele ifoweres jeres wainom\n",
      " f oud hth hishad wiommy buiorgsosed dey, mifi adseveceg ng gro hato as and seri\n",
      "s\n",
      "\n",
      "--------------------------------------------------------------------------------\n",
      "\n"
     ]
    }
   ],
   "source": [
    "print_page2(2)"
   ]
  },
  {
   "cell_type": "code",
   "execution_count": null,
   "metadata": {
    "colab": {},
    "colab_type": "code",
    "id": "0_WosKuOa6q9"
   },
   "outputs": [],
   "source": []
  }
 ],
 "metadata": {
  "colab": {
   "name": "babel.ipynb",
   "provenance": [],
   "toc_visible": true,
   "version": "0.3.2"
  },
  "kernelspec": {
   "display_name": "Python 3",
   "language": "python",
   "name": "python3"
  },
  "language_info": {
   "codemirror_mode": {
    "name": "ipython",
    "version": 3
   },
   "file_extension": ".py",
   "mimetype": "text/x-python",
   "name": "python",
   "nbconvert_exporter": "python",
   "pygments_lexer": "ipython3",
   "version": "3.6.6"
  }
 },
 "nbformat": 4,
 "nbformat_minor": 2
}
