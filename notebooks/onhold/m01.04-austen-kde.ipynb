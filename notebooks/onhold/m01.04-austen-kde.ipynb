{
 "cells": [
  {
   "cell_type": "markdown",
   "metadata": {
    "colab": {},
    "colab_type": "code",
    "id": "So3joukR0NLA",
    "slideshow": {
     "slide_type": "slide"
    }
   },
   "source": [
    "# Synopsis"
   ]
  },
  {
   "cell_type": "markdown",
   "metadata": {
    "colab": {},
    "colab_type": "code",
    "id": "So3joukR0NLA",
    "slideshow": {
     "slide_type": "slide"
    },
    "toc-hr-collapsed": false
   },
   "source": [
    "# Configuration"
   ]
  },
  {
   "cell_type": "code",
   "execution_count": 1,
   "metadata": {
    "colab": {},
    "colab_type": "code",
    "id": "So3joukR0NLA",
    "slideshow": {
     "slide_type": "-"
    }
   },
   "outputs": [],
   "source": [
    "data_dir = '/home/rca2t/Public/ETA/data/'\n",
    "OHCO = ['title_id', 'chap_num', 'para_num', 'token_num', 'sent_num']"
   ]
  },
  {
   "cell_type": "code",
   "execution_count": 2,
   "metadata": {
    "colab": {},
    "colab_type": "code",
    "id": "So3joukR0NLA",
    "slideshow": {
     "slide_type": "-"
    }
   },
   "outputs": [],
   "source": [
    "vocab_weight = 'term_count'\n",
    "vocab_weight_quantile = .94\n",
    "vocab_min_n = 3\n",
    "kde_kernel = 'gaussian'\n",
    "kde_bandwidth = 2000\n",
    "kde_samples = 1000"
   ]
  },
  {
   "cell_type": "markdown",
   "metadata": {
    "colab": {},
    "colab_type": "code",
    "id": "So3joukR0NLA",
    "slideshow": {
     "slide_type": "slide"
    },
    "toc-hr-collapsed": false
   },
   "source": [
    "# Libraries"
   ]
  },
  {
   "cell_type": "code",
   "execution_count": 3,
   "metadata": {
    "colab": {},
    "colab_type": "code",
    "id": "So3joukR0NLA"
   },
   "outputs": [],
   "source": [
    "import pandas as pd\n",
    "import numpy as np\n",
    "import scipy as sp\n",
    "import matplotlib.pyplot as plt\n",
    "import seaborn as sns; sns.set()\n",
    "from sklearn.neighbors import KernelDensity as KDE\n",
    "from nltk.corpus import stopwords"
   ]
  },
  {
   "cell_type": "markdown",
   "metadata": {
    "colab": {},
    "colab_type": "code",
    "id": "So3joukR0NLA",
    "slideshow": {
     "slide_type": "slide"
    }
   },
   "source": [
    "# Pragmas"
   ]
  },
  {
   "cell_type": "code",
   "execution_count": 4,
   "metadata": {
    "colab": {},
    "colab_type": "code",
    "id": "So3joukR0NLA"
   },
   "outputs": [],
   "source": [
    "from IPython.display import display, HTML"
   ]
  },
  {
   "cell_type": "code",
   "execution_count": 5,
   "metadata": {
    "colab": {},
    "colab_type": "code",
    "id": "So3joukR0NLA"
   },
   "outputs": [
    {
     "data": {
      "text/plain": [
       "'/sfs/qumulo/qhome/rca2t/Public/ETA/notebooks/MOD02--TextModels'"
      ]
     },
     "execution_count": 5,
     "metadata": {},
     "output_type": "execute_result"
    }
   ],
   "source": [
    "%matplotlib inline\n",
    "%pwd"
   ]
  },
  {
   "cell_type": "markdown",
   "metadata": {
    "colab": {},
    "colab_type": "code",
    "id": "So3joukR0NLA"
   },
   "source": [
    "# Functions"
   ]
  },
  {
   "cell_type": "code",
   "execution_count": 6,
   "metadata": {
    "colab": {},
    "colab_type": "code",
    "id": "So3joukR0NLA",
    "slideshow": {
     "slide_type": "-"
    }
   },
   "outputs": [],
   "source": [
    "def get_term_id(vocab, term_str):\n",
    "    return vocab[vocab.term_str == term_str].index[0]\n",
    "\n",
    "def get_term_str(vocab, term_id):\n",
    "    return vocab.loc[term_id].term_str"
   ]
  },
  {
   "cell_type": "markdown",
   "metadata": {
    "colab": {},
    "colab_type": "code",
    "id": "So3joukR0NLA",
    "toc-hr-collapsed": false
   },
   "source": [
    "# Process"
   ]
  },
  {
   "cell_type": "markdown",
   "metadata": {},
   "source": [
    "## Import tables from database"
   ]
  },
  {
   "cell_type": "code",
   "execution_count": 7,
   "metadata": {
    "colab": {},
    "colab_type": "code",
    "id": "So3joukR0NLA"
   },
   "outputs": [],
   "source": [
    "V = pd.read_csv(data_dir+'/austen-vocab.csv')\n",
    "K0 = pd.read_csv(data_dir+'/austen-tokens.csv', index_col=OHCO)"
   ]
  },
  {
   "cell_type": "code",
   "execution_count": 8,
   "metadata": {
    "colab": {},
    "colab_type": "code",
    "id": "So3joukR0NLA"
   },
   "outputs": [],
   "source": [
    "K = K0.loc[(0)]\n",
    "K = K.reset_index(drop=True)\n",
    "K.index.name = 'offset'"
   ]
  },
  {
   "cell_type": "code",
   "execution_count": 9,
   "metadata": {
    "colab": {},
    "colab_type": "code",
    "id": "So3joukR0NLA"
   },
   "outputs": [
    {
     "data": {
      "text/html": [
       "<div>\n",
       "<style scoped>\n",
       "    .dataframe tbody tr th:only-of-type {\n",
       "        vertical-align: middle;\n",
       "    }\n",
       "\n",
       "    .dataframe tbody tr th {\n",
       "        vertical-align: top;\n",
       "    }\n",
       "\n",
       "    .dataframe thead th {\n",
       "        text-align: right;\n",
       "    }\n",
       "</style>\n",
       "<table border=\"1\" class=\"dataframe\">\n",
       "  <thead>\n",
       "    <tr style=\"text-align: right;\">\n",
       "      <th></th>\n",
       "      <th>token_str</th>\n",
       "      <th>term_str</th>\n",
       "      <th>term_id</th>\n",
       "    </tr>\n",
       "    <tr>\n",
       "      <th>offset</th>\n",
       "      <th></th>\n",
       "      <th></th>\n",
       "      <th></th>\n",
       "    </tr>\n",
       "  </thead>\n",
       "  <tbody>\n",
       "    <tr>\n",
       "      <th>0</th>\n",
       "      <td>Sir</td>\n",
       "      <td>sir</td>\n",
       "      <td>11838</td>\n",
       "    </tr>\n",
       "    <tr>\n",
       "      <th>1</th>\n",
       "      <td>Walter</td>\n",
       "      <td>walter</td>\n",
       "      <td>14184</td>\n",
       "    </tr>\n",
       "    <tr>\n",
       "      <th>2</th>\n",
       "      <td>Elliot</td>\n",
       "      <td>elliot</td>\n",
       "      <td>4360</td>\n",
       "    </tr>\n",
       "    <tr>\n",
       "      <th>3</th>\n",
       "      <td>of</td>\n",
       "      <td>of</td>\n",
       "      <td>8866</td>\n",
       "    </tr>\n",
       "    <tr>\n",
       "      <th>4</th>\n",
       "      <td>Kellynch</td>\n",
       "      <td>kellynch</td>\n",
       "      <td>7404</td>\n",
       "    </tr>\n",
       "  </tbody>\n",
       "</table>\n",
       "</div>"
      ],
      "text/plain": [
       "       token_str  term_str  term_id\n",
       "offset                             \n",
       "0            Sir       sir    11838\n",
       "1         Walter    walter    14184\n",
       "2         Elliot    elliot     4360\n",
       "3             of        of     8866\n",
       "4       Kellynch  kellynch     7404"
      ]
     },
     "execution_count": 9,
     "metadata": {},
     "output_type": "execute_result"
    }
   ],
   "source": [
    "K.head()"
   ]
  },
  {
   "cell_type": "markdown",
   "metadata": {},
   "source": [
    "## Reduce vocabulary "
   ]
  },
  {
   "cell_type": "code",
   "execution_count": 10,
   "metadata": {
    "colab": {},
    "colab_type": "code",
    "id": "So3joukR0NLA"
   },
   "outputs": [],
   "source": [
    "stops = set(stopwords.words('english'))"
   ]
  },
  {
   "cell_type": "code",
   "execution_count": 11,
   "metadata": {
    "colab": {},
    "colab_type": "code",
    "id": "So3joukR0NLA"
   },
   "outputs": [
    {
     "data": {
      "text/plain": [
       "179"
      ]
     },
     "execution_count": 11,
     "metadata": {},
     "output_type": "execute_result"
    }
   ],
   "source": [
    "len(stops)"
   ]
  },
  {
   "cell_type": "code",
   "execution_count": 12,
   "metadata": {},
   "outputs": [],
   "source": [
    "V1 = V[(~V.term_str.isin(stops)) & (V.term_count < 1000) & (V.term_count > 100)]"
   ]
  },
  {
   "cell_type": "code",
   "execution_count": 13,
   "metadata": {},
   "outputs": [
    {
     "data": {
      "text/plain": [
       "(683, 5)"
      ]
     },
     "execution_count": 13,
     "metadata": {},
     "output_type": "execute_result"
    }
   ],
   "source": [
    "V1.shape"
   ]
  },
  {
   "cell_type": "code",
   "execution_count": 14,
   "metadata": {},
   "outputs": [
    {
     "data": {
      "text/html": [
       "<div>\n",
       "<style scoped>\n",
       "    .dataframe tbody tr th:only-of-type {\n",
       "        vertical-align: middle;\n",
       "    }\n",
       "\n",
       "    .dataframe tbody tr th {\n",
       "        vertical-align: top;\n",
       "    }\n",
       "\n",
       "    .dataframe thead th {\n",
       "        text-align: right;\n",
       "    }\n",
       "</style>\n",
       "<table border=\"1\" class=\"dataframe\">\n",
       "  <thead>\n",
       "    <tr style=\"text-align: right;\">\n",
       "      <th></th>\n",
       "      <th>term_id</th>\n",
       "      <th>term_str</th>\n",
       "      <th>term_count</th>\n",
       "      <th>tf</th>\n",
       "      <th>len</th>\n",
       "    </tr>\n",
       "  </thead>\n",
       "  <tbody>\n",
       "    <tr>\n",
       "      <th>5053</th>\n",
       "      <td>5053</td>\n",
       "      <td>fanny</td>\n",
       "      <td>978</td>\n",
       "      <td>0.001242</td>\n",
       "      <td>5</td>\n",
       "    </tr>\n",
       "    <tr>\n",
       "      <th>3254</th>\n",
       "      <td>3254</td>\n",
       "      <td>dear</td>\n",
       "      <td>960</td>\n",
       "      <td>0.001219</td>\n",
       "      <td>4</td>\n",
       "    </tr>\n",
       "    <tr>\n",
       "      <th>13417</th>\n",
       "      <td>13417</td>\n",
       "      <td>two</td>\n",
       "      <td>947</td>\n",
       "      <td>0.001202</td>\n",
       "      <td>3</td>\n",
       "    </tr>\n",
       "    <tr>\n",
       "      <th>11614</th>\n",
       "      <td>11614</td>\n",
       "      <td>shall</td>\n",
       "      <td>943</td>\n",
       "      <td>0.001197</td>\n",
       "      <td>5</td>\n",
       "    </tr>\n",
       "    <tr>\n",
       "      <th>4721</th>\n",
       "      <td>4721</td>\n",
       "      <td>ever</td>\n",
       "      <td>936</td>\n",
       "      <td>0.001188</td>\n",
       "      <td>4</td>\n",
       "    </tr>\n",
       "    <tr>\n",
       "      <th>7983</th>\n",
       "      <td>7983</td>\n",
       "      <td>man</td>\n",
       "      <td>928</td>\n",
       "      <td>0.001178</td>\n",
       "      <td>3</td>\n",
       "    </tr>\n",
       "    <tr>\n",
       "      <th>11838</th>\n",
       "      <td>11838</td>\n",
       "      <td>sir</td>\n",
       "      <td>924</td>\n",
       "      <td>0.001173</td>\n",
       "      <td>3</td>\n",
       "    </tr>\n",
       "    <tr>\n",
       "      <th>11840</th>\n",
       "      <td>11840</td>\n",
       "      <td>sister</td>\n",
       "      <td>909</td>\n",
       "      <td>0.001154</td>\n",
       "      <td>6</td>\n",
       "    </tr>\n",
       "    <tr>\n",
       "      <th>10308</th>\n",
       "      <td>10308</td>\n",
       "      <td>quite</td>\n",
       "      <td>908</td>\n",
       "      <td>0.001153</td>\n",
       "      <td>5</td>\n",
       "    </tr>\n",
       "    <tr>\n",
       "      <th>7933</th>\n",
       "      <td>7933</td>\n",
       "      <td>made</td>\n",
       "      <td>891</td>\n",
       "      <td>0.001131</td>\n",
       "      <td>4</td>\n",
       "    </tr>\n",
       "  </tbody>\n",
       "</table>\n",
       "</div>"
      ],
      "text/plain": [
       "       term_id term_str  term_count        tf  len\n",
       "5053      5053    fanny         978  0.001242    5\n",
       "3254      3254     dear         960  0.001219    4\n",
       "13417    13417      two         947  0.001202    3\n",
       "11614    11614    shall         943  0.001197    5\n",
       "4721      4721     ever         936  0.001188    4\n",
       "7983      7983      man         928  0.001178    3\n",
       "11838    11838      sir         924  0.001173    3\n",
       "11840    11840   sister         909  0.001154    6\n",
       "10308    10308    quite         908  0.001153    5\n",
       "7933      7933     made         891  0.001131    4"
      ]
     },
     "execution_count": 14,
     "metadata": {},
     "output_type": "execute_result"
    }
   ],
   "source": [
    "V1.sort_values('term_count', ascending=False).head(10)"
   ]
  },
  {
   "cell_type": "code",
   "execution_count": 15,
   "metadata": {},
   "outputs": [],
   "source": [
    "K = K[K.term_str.isin(V1.term_str)]"
   ]
  },
  {
   "cell_type": "code",
   "execution_count": 16,
   "metadata": {},
   "outputs": [
    {
     "data": {
      "text/html": [
       "<div>\n",
       "<style scoped>\n",
       "    .dataframe tbody tr th:only-of-type {\n",
       "        vertical-align: middle;\n",
       "    }\n",
       "\n",
       "    .dataframe tbody tr th {\n",
       "        vertical-align: top;\n",
       "    }\n",
       "\n",
       "    .dataframe thead th {\n",
       "        text-align: right;\n",
       "    }\n",
       "</style>\n",
       "<table border=\"1\" class=\"dataframe\">\n",
       "  <thead>\n",
       "    <tr style=\"text-align: right;\">\n",
       "      <th></th>\n",
       "      <th>token_str</th>\n",
       "      <th>term_str</th>\n",
       "      <th>term_id</th>\n",
       "    </tr>\n",
       "    <tr>\n",
       "      <th>offset</th>\n",
       "      <th></th>\n",
       "      <th></th>\n",
       "      <th></th>\n",
       "    </tr>\n",
       "  </thead>\n",
       "  <tbody>\n",
       "    <tr>\n",
       "      <th>0</th>\n",
       "      <td>Sir</td>\n",
       "      <td>sir</td>\n",
       "      <td>11838</td>\n",
       "    </tr>\n",
       "    <tr>\n",
       "      <th>1</th>\n",
       "      <td>Walter</td>\n",
       "      <td>walter</td>\n",
       "      <td>14184</td>\n",
       "    </tr>\n",
       "    <tr>\n",
       "      <th>2</th>\n",
       "      <td>Elliot</td>\n",
       "      <td>elliot</td>\n",
       "      <td>4360</td>\n",
       "    </tr>\n",
       "    <tr>\n",
       "      <th>10</th>\n",
       "      <td>man</td>\n",
       "      <td>man</td>\n",
       "      <td>7983</td>\n",
       "    </tr>\n",
       "    <tr>\n",
       "      <th>17</th>\n",
       "      <td>took</td>\n",
       "      <td>took</td>\n",
       "      <td>13167</td>\n",
       "    </tr>\n",
       "  </tbody>\n",
       "</table>\n",
       "</div>"
      ],
      "text/plain": [
       "       token_str term_str  term_id\n",
       "offset                            \n",
       "0            Sir      sir    11838\n",
       "1         Walter   walter    14184\n",
       "2         Elliot   elliot     4360\n",
       "10           man      man     7983\n",
       "17          took     took    13167"
      ]
     },
     "execution_count": 16,
     "metadata": {},
     "output_type": "execute_result"
    }
   ],
   "source": [
    "K.head()"
   ]
  },
  {
   "cell_type": "markdown",
   "metadata": {
    "colab": {},
    "colab_type": "code",
    "id": "wY1ocHcN3Fx7"
   },
   "source": [
    "## Create arrays of offsets for each term"
   ]
  },
  {
   "cell_type": "code",
   "execution_count": 17,
   "metadata": {
    "colab": {},
    "colab_type": "code",
    "id": "wY1ocHcN3Fx7"
   },
   "outputs": [],
   "source": [
    "B = K.reset_index().groupby(['term_str']).offset.apply(lambda x: x.tolist()).to_frame()"
   ]
  },
  {
   "cell_type": "code",
   "execution_count": 18,
   "metadata": {
    "colab": {},
    "colab_type": "code",
    "id": "wY1ocHcN3Fx7"
   },
   "outputs": [],
   "source": [
    "B['x'] = B.apply(lambda x: np.array(x.offset)[:, np.newaxis], 1)"
   ]
  },
  {
   "cell_type": "code",
   "execution_count": 19,
   "metadata": {
    "colab": {},
    "colab_type": "code",
    "id": "wY1ocHcN3Fx7"
   },
   "outputs": [
    {
     "data": {
      "text/html": [
       "<div>\n",
       "<style scoped>\n",
       "    .dataframe tbody tr th:only-of-type {\n",
       "        vertical-align: middle;\n",
       "    }\n",
       "\n",
       "    .dataframe tbody tr th {\n",
       "        vertical-align: top;\n",
       "    }\n",
       "\n",
       "    .dataframe thead th {\n",
       "        text-align: right;\n",
       "    }\n",
       "</style>\n",
       "<table border=\"1\" class=\"dataframe\">\n",
       "  <thead>\n",
       "    <tr style=\"text-align: right;\">\n",
       "      <th></th>\n",
       "      <th>offset</th>\n",
       "      <th>x</th>\n",
       "    </tr>\n",
       "    <tr>\n",
       "      <th>term_str</th>\n",
       "      <th></th>\n",
       "      <th></th>\n",
       "    </tr>\n",
       "  </thead>\n",
       "  <tbody>\n",
       "    <tr>\n",
       "      <th>able</th>\n",
       "      <td>[2488, 3121, 11335, 12071, 13981, 15029, 16923...</td>\n",
       "      <td>[[2488], [3121], [11335], [12071], [13981], [1...</td>\n",
       "    </tr>\n",
       "    <tr>\n",
       "      <th>absence</th>\n",
       "      <td>[10229, 10842, 16082, 23652, 35418, 68485, 709...</td>\n",
       "      <td>[[10229], [10842], [16082], [23652], [35418], ...</td>\n",
       "    </tr>\n",
       "    <tr>\n",
       "      <th>absolutely</th>\n",
       "      <td>[10657, 28814, 56690, 69736, 83932]</td>\n",
       "      <td>[[10657], [28814], [56690], [69736], [83932]]</td>\n",
       "    </tr>\n",
       "    <tr>\n",
       "      <th>account</th>\n",
       "      <td>[6359, 11266, 11507, 11630, 11683, 12150, 1672...</td>\n",
       "      <td>[[6359], [11266], [11507], [11630], [11683], [...</td>\n",
       "    </tr>\n",
       "    <tr>\n",
       "      <th>acquaintance</th>\n",
       "      <td>[692, 1219, 1633, 1891, 2911, 8246, 9276, 1252...</td>\n",
       "      <td>[[692], [1219], [1633], [1891], [2911], [8246]...</td>\n",
       "    </tr>\n",
       "  </tbody>\n",
       "</table>\n",
       "</div>"
      ],
      "text/plain": [
       "                                                         offset  \\\n",
       "term_str                                                          \n",
       "able          [2488, 3121, 11335, 12071, 13981, 15029, 16923...   \n",
       "absence       [10229, 10842, 16082, 23652, 35418, 68485, 709...   \n",
       "absolutely                  [10657, 28814, 56690, 69736, 83932]   \n",
       "account       [6359, 11266, 11507, 11630, 11683, 12150, 1672...   \n",
       "acquaintance  [692, 1219, 1633, 1891, 2911, 8246, 9276, 1252...   \n",
       "\n",
       "                                                              x  \n",
       "term_str                                                         \n",
       "able          [[2488], [3121], [11335], [12071], [13981], [1...  \n",
       "absence       [[10229], [10842], [16082], [23652], [35418], ...  \n",
       "absolutely        [[10657], [28814], [56690], [69736], [83932]]  \n",
       "account       [[6359], [11266], [11507], [11630], [11683], [...  \n",
       "acquaintance  [[692], [1219], [1633], [1891], [2911], [8246]...  "
      ]
     },
     "execution_count": 19,
     "metadata": {},
     "output_type": "execute_result"
    }
   ],
   "source": [
    "B.head()"
   ]
  },
  {
   "cell_type": "markdown",
   "metadata": {
    "colab": {},
    "colab_type": "code",
    "id": "WmpxJkotxb8q",
    "toc-hr-collapsed": true
   },
   "source": [
    "## Get KDE for each term"
   ]
  },
  {
   "cell_type": "code",
   "execution_count": 20,
   "metadata": {
    "slideshow": {
     "slide_type": "-"
    }
   },
   "outputs": [],
   "source": [
    "scale_max = K.index.max() # THIS IS CRUCIAL\n",
    "x_axis = np.linspace(0, scale_max, kde_samples)[:, np.newaxis]\n",
    "B['kde'] = B.apply(lambda row: KDE(kernel=kde_kernel, bandwidth=kde_bandwidth).fit(row.x), 1)\n",
    "B['scores'] = B.apply(lambda row: row.kde.score_samples(x_axis), axis=1)\n",
    "# B['scaled'] = B.apply(lambda row: np.exp(row.scores) * (scale_max / kde_samples), axis=1)"
   ]
  },
  {
   "cell_type": "markdown",
   "metadata": {},
   "source": [
    "## Visualize KDE plots"
   ]
  },
  {
   "cell_type": "code",
   "execution_count": 21,
   "metadata": {
    "slideshow": {
     "slide_type": "-"
    }
   },
   "outputs": [],
   "source": [
    "PLOTS = B.apply(lambda row: pd.Series(np.exp(row.scores) * (scale_max / kde_samples)), axis=1)"
   ]
  },
  {
   "cell_type": "code",
   "execution_count": 22,
   "metadata": {},
   "outputs": [],
   "source": [
    "FIG = dict(figsize=(15, 5))"
   ]
  },
  {
   "cell_type": "code",
   "execution_count": 23,
   "metadata": {},
   "outputs": [
    {
     "data": {
      "text/plain": [
       "<matplotlib.axes._subplots.AxesSubplot at 0x7f6105f20550>"
      ]
     },
     "execution_count": 23,
     "metadata": {},
     "output_type": "execute_result"
    },
    {
     "data": {
      "image/png": "[encoded data removed]",
      "text/plain": [
       "<Figure size 1080x360 with 1 Axes>"
      ]
     },
     "metadata": {},
     "output_type": "display_data"
    }
   ],
   "source": [
    "PLOTS.loc['wentworth'].plot(**FIG)\n",
    "PLOTS.loc['anne'].plot(**FIG)"
   ]
  },
  {
   "cell_type": "code",
   "execution_count": 26,
   "metadata": {},
   "outputs": [
    {
     "data": {
      "text/plain": [
       "<matplotlib.axes._subplots.AxesSubplot at 0x7f6105be1b00>"
      ]
     },
     "execution_count": 26,
     "metadata": {},
     "output_type": "execute_result"
    },
    {
     "data": {
      "image/png": "[encoded data removed]",
      "text/plain": [
       "<Figure size 1080x360 with 1 Axes>"
      ]
     },
     "metadata": {},
     "output_type": "display_data"
    }
   ],
   "source": [
    "PLOTS.loc['anne'].plot(**FIG)\n",
    "PLOTS.loc['walter'].plot(**FIG)"
   ]
  },
  {
   "cell_type": "code",
   "execution_count": 27,
   "metadata": {},
   "outputs": [
    {
     "data": {
      "text/plain": [
       "<matplotlib.axes._subplots.AxesSubplot at 0x7f6105b493c8>"
      ]
     },
     "execution_count": 27,
     "metadata": {},
     "output_type": "execute_result"
    },
    {
     "data": {
      "image/png": "[encoded data removed]",
      "text/plain": [
       "<Figure size 1080x360 with 1 Axes>"
      ]
     },
     "metadata": {},
     "output_type": "display_data"
    }
   ],
   "source": [
    "PLOTS.loc['walter'].plot(**FIG)\n",
    "PLOTS.loc['wentworth'].plot(**FIG)"
   ]
  },
  {
   "cell_type": "code",
   "execution_count": 25,
   "metadata": {},
   "outputs": [
    {
     "data": {
      "text/plain": [
       "<matplotlib.axes._subplots.AxesSubplot at 0x7f6105c50eb8>"
      ]
     },
     "execution_count": 25,
     "metadata": {},
     "output_type": "execute_result"
    },
    {
     "data": {
      "image/png": "[encoded data removed]",
      "text/plain": [
       "<Figure size 1080x360 with 1 Axes>"
      ]
     },
     "metadata": {},
     "output_type": "display_data"
    }
   ],
   "source": [
    "PLOTS.loc['walter'].plot(**FIG)\n",
    "PLOTS.loc['elizabeth'].plot(**FIG)"
   ]
  },
  {
   "cell_type": "markdown",
   "metadata": {},
   "source": [
    "## Score Pairs\n",
    "\n",
    "We generate only unique combinations of pairs not permutation, i.e. we treat `a,b == b,a`."
   ]
  },
  {
   "cell_type": "code",
   "execution_count": 28,
   "metadata": {},
   "outputs": [],
   "source": [
    "pairs = pd.DataFrame([(x,y) for x in B.index for y in B.index if y > x] , columns=['x','y'])"
   ]
  },
  {
   "cell_type": "code",
   "execution_count": 29,
   "metadata": {},
   "outputs": [
    {
     "data": {
      "text/html": [
       "<div>\n",
       "<style scoped>\n",
       "    .dataframe tbody tr th:only-of-type {\n",
       "        vertical-align: middle;\n",
       "    }\n",
       "\n",
       "    .dataframe tbody tr th {\n",
       "        vertical-align: top;\n",
       "    }\n",
       "\n",
       "    .dataframe thead th {\n",
       "        text-align: right;\n",
       "    }\n",
       "</style>\n",
       "<table border=\"1\" class=\"dataframe\">\n",
       "  <thead>\n",
       "    <tr style=\"text-align: right;\">\n",
       "      <th></th>\n",
       "      <th>0</th>\n",
       "      <th>1</th>\n",
       "      <th>2</th>\n",
       "      <th>3</th>\n",
       "      <th>4</th>\n",
       "      <th>5</th>\n",
       "      <th>6</th>\n",
       "      <th>7</th>\n",
       "      <th>8</th>\n",
       "      <th>9</th>\n",
       "    </tr>\n",
       "  </thead>\n",
       "  <tbody>\n",
       "    <tr>\n",
       "      <th>x</th>\n",
       "      <td>able</td>\n",
       "      <td>able</td>\n",
       "      <td>able</td>\n",
       "      <td>able</td>\n",
       "      <td>able</td>\n",
       "      <td>able</td>\n",
       "      <td>able</td>\n",
       "      <td>able</td>\n",
       "      <td>able</td>\n",
       "      <td>able</td>\n",
       "    </tr>\n",
       "    <tr>\n",
       "      <th>y</th>\n",
       "      <td>absence</td>\n",
       "      <td>absolutely</td>\n",
       "      <td>account</td>\n",
       "      <td>acquaintance</td>\n",
       "      <td>acquainted</td>\n",
       "      <td>act</td>\n",
       "      <td>added</td>\n",
       "      <td>admiral</td>\n",
       "      <td>admiration</td>\n",
       "      <td>advantage</td>\n",
       "    </tr>\n",
       "  </tbody>\n",
       "</table>\n",
       "</div>"
      ],
      "text/plain": [
       "         0           1        2             3           4     5      6  \\\n",
       "x     able        able     able          able        able  able   able   \n",
       "y  absence  absolutely  account  acquaintance  acquainted   act  added   \n",
       "\n",
       "         7           8          9  \n",
       "x     able        able       able  \n",
       "y  admiral  admiration  advantage  "
      ]
     },
     "execution_count": 29,
     "metadata": {},
     "output_type": "execute_result"
    }
   ],
   "source": [
    "pairs.head(10).T"
   ]
  },
  {
   "cell_type": "markdown",
   "metadata": {},
   "source": [
    "## Compute overlap\n",
    "\n",
    "This takes a while to run."
   ]
  },
  {
   "cell_type": "code",
   "execution_count": 30,
   "metadata": {},
   "outputs": [],
   "source": [
    "def overlap(row):\n",
    "    kde1 = PLOTS.loc[row.x]\n",
    "    kde2 = PLOTS.loc[row.y]\n",
    "    overlap = np.minimum(kde1, kde2)\n",
    "    return np.trapz(overlap)"
   ]
  },
  {
   "cell_type": "code",
   "execution_count": 31,
   "metadata": {},
   "outputs": [],
   "source": [
    "pairs['overlap'] = pairs.apply(overlap, axis=1)"
   ]
  },
  {
   "cell_type": "code",
   "execution_count": 32,
   "metadata": {},
   "outputs": [],
   "source": [
    "def paircorr(row):\n",
    "    return PLOTS.T[[row.x,row.y]].corr().values[0][1]"
   ]
  },
  {
   "cell_type": "code",
   "execution_count": 33,
   "metadata": {},
   "outputs": [],
   "source": [
    "pairs['corr'] = pairs.apply(paircorr, axis=1)"
   ]
  },
  {
   "cell_type": "markdown",
   "metadata": {},
   "source": [
    "## Skim Top Pairs"
   ]
  },
  {
   "cell_type": "code",
   "execution_count": 34,
   "metadata": {},
   "outputs": [
    {
     "data": {
      "text/plain": [
       "<matplotlib.axes._subplots.AxesSubplot at 0x7f6105b2e048>"
      ]
     },
     "execution_count": 34,
     "metadata": {},
     "output_type": "execute_result"
    },
    {
     "data": {
      "image/png": "[encoded data removed]",
      "text/plain": [
       "<Figure size 432x288 with 1 Axes>"
      ]
     },
     "metadata": {},
     "output_type": "display_data"
    }
   ],
   "source": [
    "pairs.overlap.plot.hist()"
   ]
  },
  {
   "cell_type": "code",
   "execution_count": 35,
   "metadata": {},
   "outputs": [
    {
     "data": {
      "text/html": [
       "<div>\n",
       "<style scoped>\n",
       "    .dataframe tbody tr th:only-of-type {\n",
       "        vertical-align: middle;\n",
       "    }\n",
       "\n",
       "    .dataframe tbody tr th {\n",
       "        vertical-align: top;\n",
       "    }\n",
       "\n",
       "    .dataframe thead th {\n",
       "        text-align: right;\n",
       "    }\n",
       "</style>\n",
       "<table border=\"1\" class=\"dataframe\">\n",
       "  <thead>\n",
       "    <tr style=\"text-align: right;\">\n",
       "      <th></th>\n",
       "      <th>x</th>\n",
       "      <th>y</th>\n",
       "      <th>overlap</th>\n",
       "      <th>corr</th>\n",
       "    </tr>\n",
       "  </thead>\n",
       "  <tbody>\n",
       "    <tr>\n",
       "      <th>76907</th>\n",
       "      <td>dearest</td>\n",
       "      <td>frank</td>\n",
       "      <td>0.910901</td>\n",
       "      <td>0.986687</td>\n",
       "    </tr>\n",
       "    <tr>\n",
       "      <th>157428</th>\n",
       "      <td>looking</td>\n",
       "      <td>many</td>\n",
       "      <td>0.896010</td>\n",
       "      <td>0.867171</td>\n",
       "    </tr>\n",
       "    <tr>\n",
       "      <th>32555</th>\n",
       "      <td>away</td>\n",
       "      <td>however</td>\n",
       "      <td>0.876849</td>\n",
       "      <td>0.737618</td>\n",
       "    </tr>\n",
       "    <tr>\n",
       "      <th>193616</th>\n",
       "      <td>sir</td>\n",
       "      <td>walter</td>\n",
       "      <td>0.868542</td>\n",
       "      <td>0.986776</td>\n",
       "    </tr>\n",
       "    <tr>\n",
       "      <th>124533</th>\n",
       "      <td>give</td>\n",
       "      <td>perfectly</td>\n",
       "      <td>0.864987</td>\n",
       "      <td>0.601432</td>\n",
       "    </tr>\n",
       "    <tr>\n",
       "      <th>112178</th>\n",
       "      <td>feeling</td>\n",
       "      <td>many</td>\n",
       "      <td>0.861719</td>\n",
       "      <td>0.739102</td>\n",
       "    </tr>\n",
       "    <tr>\n",
       "      <th>19249</th>\n",
       "      <td>anne</td>\n",
       "      <td>yet</td>\n",
       "      <td>0.859953</td>\n",
       "      <td>0.614545</td>\n",
       "    </tr>\n",
       "    <tr>\n",
       "      <th>18893</th>\n",
       "      <td>anne</td>\n",
       "      <td>however</td>\n",
       "      <td>0.858343</td>\n",
       "      <td>0.506352</td>\n",
       "    </tr>\n",
       "    <tr>\n",
       "      <th>160001</th>\n",
       "      <td>make</td>\n",
       "      <td>thought</td>\n",
       "      <td>0.856553</td>\n",
       "      <td>0.387522</td>\n",
       "    </tr>\n",
       "    <tr>\n",
       "      <th>126321</th>\n",
       "      <td>going</td>\n",
       "      <td>gone</td>\n",
       "      <td>0.856533</td>\n",
       "      <td>0.729126</td>\n",
       "    </tr>\n",
       "    <tr>\n",
       "      <th>41404</th>\n",
       "      <td>better</td>\n",
       "      <td>sister</td>\n",
       "      <td>0.856508</td>\n",
       "      <td>0.613923</td>\n",
       "    </tr>\n",
       "    <tr>\n",
       "      <th>175877</th>\n",
       "      <td>others</td>\n",
       "      <td>something</td>\n",
       "      <td>0.854806</td>\n",
       "      <td>0.401706</td>\n",
       "    </tr>\n",
       "    <tr>\n",
       "      <th>18682</th>\n",
       "      <td>anne</td>\n",
       "      <td>better</td>\n",
       "      <td>0.854111</td>\n",
       "      <td>0.337435</td>\n",
       "    </tr>\n",
       "    <tr>\n",
       "      <th>184743</th>\n",
       "      <td>quite</td>\n",
       "      <td>two</td>\n",
       "      <td>0.854054</td>\n",
       "      <td>0.494344</td>\n",
       "    </tr>\n",
       "    <tr>\n",
       "      <th>184700</th>\n",
       "      <td>quite</td>\n",
       "      <td>sure</td>\n",
       "      <td>0.852729</td>\n",
       "      <td>0.651127</td>\n",
       "    </tr>\n",
       "    <tr>\n",
       "      <th>136057</th>\n",
       "      <td>home</td>\n",
       "      <td>thought</td>\n",
       "      <td>0.850939</td>\n",
       "      <td>0.580416</td>\n",
       "    </tr>\n",
       "    <tr>\n",
       "      <th>41147</th>\n",
       "      <td>better</td>\n",
       "      <td>going</td>\n",
       "      <td>0.850479</td>\n",
       "      <td>0.632107</td>\n",
       "    </tr>\n",
       "    <tr>\n",
       "      <th>184973</th>\n",
       "      <td>rather</td>\n",
       "      <td>word</td>\n",
       "      <td>0.849438</td>\n",
       "      <td>0.531744</td>\n",
       "    </tr>\n",
       "    <tr>\n",
       "      <th>160948</th>\n",
       "      <td>manner</td>\n",
       "      <td>yet</td>\n",
       "      <td>0.848961</td>\n",
       "      <td>0.609652</td>\n",
       "    </tr>\n",
       "    <tr>\n",
       "      <th>194989</th>\n",
       "      <td>something</td>\n",
       "      <td>till</td>\n",
       "      <td>0.848363</td>\n",
       "      <td>0.638513</td>\n",
       "    </tr>\n",
       "    <tr>\n",
       "      <th>159890</th>\n",
       "      <td>make</td>\n",
       "      <td>quite</td>\n",
       "      <td>0.847342</td>\n",
       "      <td>0.362702</td>\n",
       "    </tr>\n",
       "    <tr>\n",
       "      <th>30407</th>\n",
       "      <td>attention</td>\n",
       "      <td>room</td>\n",
       "      <td>0.845914</td>\n",
       "      <td>0.840035</td>\n",
       "    </tr>\n",
       "    <tr>\n",
       "      <th>157563</th>\n",
       "      <td>looking</td>\n",
       "      <td>seemed</td>\n",
       "      <td>0.845257</td>\n",
       "      <td>0.651227</td>\n",
       "    </tr>\n",
       "    <tr>\n",
       "      <th>139018</th>\n",
       "      <td>however</td>\n",
       "      <td>yet</td>\n",
       "      <td>0.844976</td>\n",
       "      <td>0.518462</td>\n",
       "    </tr>\n",
       "    <tr>\n",
       "      <th>41536</th>\n",
       "      <td>better</td>\n",
       "      <td>yet</td>\n",
       "      <td>0.844883</td>\n",
       "      <td>0.381810</td>\n",
       "    </tr>\n",
       "    <tr>\n",
       "      <th>184689</th>\n",
       "      <td>quite</td>\n",
       "      <td>state</td>\n",
       "      <td>0.844008</td>\n",
       "      <td>0.617115</td>\n",
       "    </tr>\n",
       "    <tr>\n",
       "      <th>19019</th>\n",
       "      <td>anne</td>\n",
       "      <td>others</td>\n",
       "      <td>0.843830</td>\n",
       "      <td>0.341031</td>\n",
       "    </tr>\n",
       "    <tr>\n",
       "      <th>142317</th>\n",
       "      <td>indeed</td>\n",
       "      <td>perfectly</td>\n",
       "      <td>0.843820</td>\n",
       "      <td>0.544340</td>\n",
       "    </tr>\n",
       "    <tr>\n",
       "      <th>161372</th>\n",
       "      <td>many</td>\n",
       "      <td>seemed</td>\n",
       "      <td>0.843743</td>\n",
       "      <td>0.533817</td>\n",
       "    </tr>\n",
       "    <tr>\n",
       "      <th>32834</th>\n",
       "      <td>away</td>\n",
       "      <td>thought</td>\n",
       "      <td>0.842548</td>\n",
       "      <td>0.565504</td>\n",
       "    </tr>\n",
       "    <tr>\n",
       "      <th>...</th>\n",
       "      <td>...</td>\n",
       "      <td>...</td>\n",
       "      <td>...</td>\n",
       "      <td>...</td>\n",
       "    </tr>\n",
       "    <tr>\n",
       "      <th>76484</th>\n",
       "      <td>dear</td>\n",
       "      <td>knowledge</td>\n",
       "      <td>0.600079</td>\n",
       "      <td>0.178912</td>\n",
       "    </tr>\n",
       "    <tr>\n",
       "      <th>108072</th>\n",
       "      <td>family</td>\n",
       "      <td>surprise</td>\n",
       "      <td>0.600076</td>\n",
       "      <td>-0.055786</td>\n",
       "    </tr>\n",
       "    <tr>\n",
       "      <th>136844</th>\n",
       "      <td>hope</td>\n",
       "      <td>within</td>\n",
       "      <td>0.600076</td>\n",
       "      <td>0.216967</td>\n",
       "    </tr>\n",
       "    <tr>\n",
       "      <th>67635</th>\n",
       "      <td>country</td>\n",
       "      <td>danger</td>\n",
       "      <td>0.600058</td>\n",
       "      <td>0.482240</td>\n",
       "    </tr>\n",
       "    <tr>\n",
       "      <th>102729</th>\n",
       "      <td>exceedingly</td>\n",
       "      <td>second</td>\n",
       "      <td>0.600057</td>\n",
       "      <td>0.399660</td>\n",
       "    </tr>\n",
       "    <tr>\n",
       "      <th>22703</th>\n",
       "      <td>anybody</td>\n",
       "      <td>satisfaction</td>\n",
       "      <td>0.600053</td>\n",
       "      <td>0.201295</td>\n",
       "    </tr>\n",
       "    <tr>\n",
       "      <th>28352</th>\n",
       "      <td>assure</td>\n",
       "      <td>equal</td>\n",
       "      <td>0.600053</td>\n",
       "      <td>-0.111192</td>\n",
       "    </tr>\n",
       "    <tr>\n",
       "      <th>149604</th>\n",
       "      <td>late</td>\n",
       "      <td>like</td>\n",
       "      <td>0.600052</td>\n",
       "      <td>-0.096401</td>\n",
       "    </tr>\n",
       "    <tr>\n",
       "      <th>159857</th>\n",
       "      <td>make</td>\n",
       "      <td>pass</td>\n",
       "      <td>0.600052</td>\n",
       "      <td>-0.075797</td>\n",
       "    </tr>\n",
       "    <tr>\n",
       "      <th>167379</th>\n",
       "      <td>minutes</td>\n",
       "      <td>pleasure</td>\n",
       "      <td>0.600041</td>\n",
       "      <td>0.196677</td>\n",
       "    </tr>\n",
       "    <tr>\n",
       "      <th>44867</th>\n",
       "      <td>brought</td>\n",
       "      <td>twenty</td>\n",
       "      <td>0.600040</td>\n",
       "      <td>-0.081036</td>\n",
       "    </tr>\n",
       "    <tr>\n",
       "      <th>99267</th>\n",
       "      <td>even</td>\n",
       "      <td>words</td>\n",
       "      <td>0.600038</td>\n",
       "      <td>0.473045</td>\n",
       "    </tr>\n",
       "    <tr>\n",
       "      <th>134418</th>\n",
       "      <td>help</td>\n",
       "      <td>need</td>\n",
       "      <td>0.600036</td>\n",
       "      <td>0.074211</td>\n",
       "    </tr>\n",
       "    <tr>\n",
       "      <th>111550</th>\n",
       "      <td>fear</td>\n",
       "      <td>trouble</td>\n",
       "      <td>0.600031</td>\n",
       "      <td>0.685337</td>\n",
       "    </tr>\n",
       "    <tr>\n",
       "      <th>97376</th>\n",
       "      <td>entirely</td>\n",
       "      <td>thought</td>\n",
       "      <td>0.600030</td>\n",
       "      <td>0.170218</td>\n",
       "    </tr>\n",
       "    <tr>\n",
       "      <th>96843</th>\n",
       "      <td>entered</td>\n",
       "      <td>seemed</td>\n",
       "      <td>0.600026</td>\n",
       "      <td>0.387280</td>\n",
       "    </tr>\n",
       "    <tr>\n",
       "      <th>125641</th>\n",
       "      <td>glad</td>\n",
       "      <td>manners</td>\n",
       "      <td>0.600021</td>\n",
       "      <td>0.079540</td>\n",
       "    </tr>\n",
       "    <tr>\n",
       "      <th>107290</th>\n",
       "      <td>fact</td>\n",
       "      <td>worth</td>\n",
       "      <td>0.600017</td>\n",
       "      <td>0.386031</td>\n",
       "    </tr>\n",
       "    <tr>\n",
       "      <th>57908</th>\n",
       "      <td>come</td>\n",
       "      <td>poor</td>\n",
       "      <td>0.600016</td>\n",
       "      <td>0.239244</td>\n",
       "    </tr>\n",
       "    <tr>\n",
       "      <th>102904</th>\n",
       "      <td>excellent</td>\n",
       "      <td>feel</td>\n",
       "      <td>0.600012</td>\n",
       "      <td>-0.121945</td>\n",
       "    </tr>\n",
       "    <tr>\n",
       "      <th>92924</th>\n",
       "      <td>elliot</td>\n",
       "      <td>hope</td>\n",
       "      <td>0.600011</td>\n",
       "      <td>-0.100741</td>\n",
       "    </tr>\n",
       "    <tr>\n",
       "      <th>56433</th>\n",
       "      <td>circumstances</td>\n",
       "      <td>truth</td>\n",
       "      <td>0.600011</td>\n",
       "      <td>0.663281</td>\n",
       "    </tr>\n",
       "    <tr>\n",
       "      <th>116899</th>\n",
       "      <td>forget</td>\n",
       "      <td>replied</td>\n",
       "      <td>0.600010</td>\n",
       "      <td>0.459549</td>\n",
       "    </tr>\n",
       "    <tr>\n",
       "      <th>44002</th>\n",
       "      <td>brother</td>\n",
       "      <td>hour</td>\n",
       "      <td>0.600010</td>\n",
       "      <td>0.180886</td>\n",
       "    </tr>\n",
       "    <tr>\n",
       "      <th>52872</th>\n",
       "      <td>character</td>\n",
       "      <td>hoped</td>\n",
       "      <td>0.600009</td>\n",
       "      <td>-0.254497</td>\n",
       "    </tr>\n",
       "    <tr>\n",
       "      <th>27365</th>\n",
       "      <td>ask</td>\n",
       "      <td>mistaken</td>\n",
       "      <td>0.600008</td>\n",
       "      <td>0.462332</td>\n",
       "    </tr>\n",
       "    <tr>\n",
       "      <th>167467</th>\n",
       "      <td>minutes</td>\n",
       "      <td>speak</td>\n",
       "      <td>0.600007</td>\n",
       "      <td>0.117131</td>\n",
       "    </tr>\n",
       "    <tr>\n",
       "      <th>3754</th>\n",
       "      <td>acquainted</td>\n",
       "      <td>usual</td>\n",
       "      <td>0.600006</td>\n",
       "      <td>0.244104</td>\n",
       "    </tr>\n",
       "    <tr>\n",
       "      <th>164266</th>\n",
       "      <td>means</td>\n",
       "      <td>till</td>\n",
       "      <td>0.600003</td>\n",
       "      <td>-0.155734</td>\n",
       "    </tr>\n",
       "    <tr>\n",
       "      <th>170626</th>\n",
       "      <td>near</td>\n",
       "      <td>trying</td>\n",
       "      <td>0.600003</td>\n",
       "      <td>0.033588</td>\n",
       "    </tr>\n",
       "  </tbody>\n",
       "</table>\n",
       "<p>49968 rows × 4 columns</p>\n",
       "</div>"
      ],
      "text/plain": [
       "                    x             y   overlap      corr\n",
       "76907         dearest         frank  0.910901  0.986687\n",
       "157428        looking          many  0.896010  0.867171\n",
       "32555            away       however  0.876849  0.737618\n",
       "193616            sir        walter  0.868542  0.986776\n",
       "124533           give     perfectly  0.864987  0.601432\n",
       "112178        feeling          many  0.861719  0.739102\n",
       "19249            anne           yet  0.859953  0.614545\n",
       "18893            anne       however  0.858343  0.506352\n",
       "160001           make       thought  0.856553  0.387522\n",
       "126321          going          gone  0.856533  0.729126\n",
       "41404          better        sister  0.856508  0.613923\n",
       "175877         others     something  0.854806  0.401706\n",
       "18682            anne        better  0.854111  0.337435\n",
       "184743          quite           two  0.854054  0.494344\n",
       "184700          quite          sure  0.852729  0.651127\n",
       "136057           home       thought  0.850939  0.580416\n",
       "41147          better         going  0.850479  0.632107\n",
       "184973         rather          word  0.849438  0.531744\n",
       "160948         manner           yet  0.848961  0.609652\n",
       "194989      something          till  0.848363  0.638513\n",
       "159890           make         quite  0.847342  0.362702\n",
       "30407       attention          room  0.845914  0.840035\n",
       "157563        looking        seemed  0.845257  0.651227\n",
       "139018        however           yet  0.844976  0.518462\n",
       "41536          better           yet  0.844883  0.381810\n",
       "184689          quite         state  0.844008  0.617115\n",
       "19019            anne        others  0.843830  0.341031\n",
       "142317         indeed     perfectly  0.843820  0.544340\n",
       "161372           many        seemed  0.843743  0.533817\n",
       "32834            away       thought  0.842548  0.565504\n",
       "...               ...           ...       ...       ...\n",
       "76484            dear     knowledge  0.600079  0.178912\n",
       "108072         family      surprise  0.600076 -0.055786\n",
       "136844           hope        within  0.600076  0.216967\n",
       "67635         country        danger  0.600058  0.482240\n",
       "102729    exceedingly        second  0.600057  0.399660\n",
       "22703         anybody  satisfaction  0.600053  0.201295\n",
       "28352          assure         equal  0.600053 -0.111192\n",
       "149604           late          like  0.600052 -0.096401\n",
       "159857           make          pass  0.600052 -0.075797\n",
       "167379        minutes      pleasure  0.600041  0.196677\n",
       "44867         brought        twenty  0.600040 -0.081036\n",
       "99267            even         words  0.600038  0.473045\n",
       "134418           help          need  0.600036  0.074211\n",
       "111550           fear       trouble  0.600031  0.685337\n",
       "97376        entirely       thought  0.600030  0.170218\n",
       "96843         entered        seemed  0.600026  0.387280\n",
       "125641           glad       manners  0.600021  0.079540\n",
       "107290           fact         worth  0.600017  0.386031\n",
       "57908            come          poor  0.600016  0.239244\n",
       "102904      excellent          feel  0.600012 -0.121945\n",
       "92924          elliot          hope  0.600011 -0.100741\n",
       "56433   circumstances         truth  0.600011  0.663281\n",
       "116899         forget       replied  0.600010  0.459549\n",
       "44002         brother          hour  0.600010  0.180886\n",
       "52872       character         hoped  0.600009 -0.254497\n",
       "27365             ask      mistaken  0.600008  0.462332\n",
       "167467        minutes         speak  0.600007  0.117131\n",
       "3754       acquainted         usual  0.600006  0.244104\n",
       "164266          means          till  0.600003 -0.155734\n",
       "170626           near        trying  0.600003  0.033588\n",
       "\n",
       "[49968 rows x 4 columns]"
      ]
     },
     "execution_count": 35,
     "metadata": {},
     "output_type": "execute_result"
    }
   ],
   "source": [
    "pairs[pairs.overlap > .6 ].sort_values('overlap', ascending=False)"
   ]
  },
  {
   "cell_type": "code",
   "execution_count": 36,
   "metadata": {},
   "outputs": [],
   "source": [
    "pairs2 = pairs.copy().rename(columns={'x':'y', 'y':'x'})\n",
    "pairs3 = pd.concat([pairs, pairs2], sort=True)"
   ]
  },
  {
   "cell_type": "markdown",
   "metadata": {},
   "source": [
    "## See related terms for top terms"
   ]
  },
  {
   "cell_type": "code",
   "execution_count": 45,
   "metadata": {},
   "outputs": [],
   "source": [
    "# TOP_TERMS = V1.iloc[40:60].term_str.tolist()\n",
    "TOP_TERMS = 'anne wentworth elliot elizabeth'.split()"
   ]
  },
  {
   "cell_type": "code",
   "execution_count": 46,
   "metadata": {},
   "outputs": [
    {
     "data": {
      "text/plain": [
       "['anne', 'wentworth', 'elliot', 'elizabeth']"
      ]
     },
     "execution_count": 46,
     "metadata": {},
     "output_type": "execute_result"
    }
   ],
   "source": [
    "TOP_TERMS"
   ]
  },
  {
   "cell_type": "code",
   "execution_count": 47,
   "metadata": {},
   "outputs": [],
   "source": [
    "DETAIL = '<table>'\n",
    "for i, term in enumerate(TOP_TERMS):\n",
    "    friends = pairs3[pairs3.x == term].sort_values('overlap', ascending=False).head(10)\n",
    "    DETAIL += \"<tr><td colspan=1><b>{}. {}</b></td></tr>\".format(i+1, term)\n",
    "    for row in friends.reset_index(drop=True)[['y', 'overlap']].values:\n",
    "        bar = round(row[1] * 100) * '|'\n",
    "        DETAIL += \"<tr><td>{}</td><td style='text-align:left;'>{} ({})</td></tr>\".format(row[0], bar, row[1])\n",
    "DETAIL += \"</table>\""
   ]
  },
  {
   "cell_type": "code",
   "execution_count": 48,
   "metadata": {},
   "outputs": [
    {
     "data": {
      "text/html": [
       "<table><tr><td colspan=1><b>1. anne</b></td></tr><tr><td>yet</td><td style='text-align:left;'>|||||||||||||||||||||||||||||||||||||||||||||||||||||||||||||||||||||||||||||||||||||| (0.8599531366947314)</td></tr><tr><td>however</td><td style='text-align:left;'>|||||||||||||||||||||||||||||||||||||||||||||||||||||||||||||||||||||||||||||||||||||| (0.8583432044775454)</td></tr><tr><td>better</td><td style='text-align:left;'>||||||||||||||||||||||||||||||||||||||||||||||||||||||||||||||||||||||||||||||||||||| (0.854110835481005)</td></tr><tr><td>others</td><td style='text-align:left;'>|||||||||||||||||||||||||||||||||||||||||||||||||||||||||||||||||||||||||||||||||||| (0.8438303657171294)</td></tr><tr><td>make</td><td style='text-align:left;'>|||||||||||||||||||||||||||||||||||||||||||||||||||||||||||||||||||||||||||||||||||| (0.8393531504808409)</td></tr><tr><td>kind</td><td style='text-align:left;'>|||||||||||||||||||||||||||||||||||||||||||||||||||||||||||||||||||||||||||||||||||| (0.8385939349221592)</td></tr><tr><td>long</td><td style='text-align:left;'>|||||||||||||||||||||||||||||||||||||||||||||||||||||||||||||||||||||||||||||||||||| (0.8372636036025132)</td></tr><tr><td>something</td><td style='text-align:left;'>|||||||||||||||||||||||||||||||||||||||||||||||||||||||||||||||||||||||||||||||||||| (0.8366309432380649)</td></tr><tr><td>many</td><td style='text-align:left;'>||||||||||||||||||||||||||||||||||||||||||||||||||||||||||||||||||||||||||||||||||| (0.8340526461127882)</td></tr><tr><td>away</td><td style='text-align:left;'>||||||||||||||||||||||||||||||||||||||||||||||||||||||||||||||||||||||||||||||||||| (0.8301012675188129)</td></tr><tr><td colspan=1><b>2. wentworth</b></td></tr><tr><td>captain</td><td style='text-align:left;'>||||||||||||||||||||||||||||||||||||||||||||||||||||||||||||||||||||||||||||||||| (0.8137949680357894)</td></tr><tr><td>either</td><td style='text-align:left;'>||||||||||||||||||||||||||||||||||||||||||||||||||||||||||||||||||||||||||||||| (0.7852289813557654)</td></tr><tr><td>back</td><td style='text-align:left;'>||||||||||||||||||||||||||||||||||||||||||||||||||||||||||||||||||||||||||||| (0.7678929044675951)</td></tr><tr><td>ready</td><td style='text-align:left;'>|||||||||||||||||||||||||||||||||||||||||||||||||||||||||||||||||||||||||||| (0.7577496975610312)</td></tr><tr><td>went</td><td style='text-align:left;'>|||||||||||||||||||||||||||||||||||||||||||||||||||||||||||||||||||||||||||| (0.755306833715039)</td></tr><tr><td>brought</td><td style='text-align:left;'>||||||||||||||||||||||||||||||||||||||||||||||||||||||||||||||||||||||||||| (0.7518225760572217)</td></tr><tr><td>conversation</td><td style='text-align:left;'>||||||||||||||||||||||||||||||||||||||||||||||||||||||||||||||||||||||||||| (0.7500573912392238)</td></tr><tr><td>came</td><td style='text-align:left;'>||||||||||||||||||||||||||||||||||||||||||||||||||||||||||||||||||||||||||| (0.7490341302709348)</td></tr><tr><td>together</td><td style='text-align:left;'>||||||||||||||||||||||||||||||||||||||||||||||||||||||||||||||||||||||||||| (0.745854426293409)</td></tr><tr><td>manner</td><td style='text-align:left;'>|||||||||||||||||||||||||||||||||||||||||||||||||||||||||||||||||||||||||| (0.7437864249910496)</td></tr><tr><td colspan=1><b>3. elliot</b></td></tr><tr><td>present</td><td style='text-align:left;'>||||||||||||||||||||||||||||||||||||||||||||||||||||||||||||||||||||||||||||||| (0.7945916775200519)</td></tr><tr><td>friend</td><td style='text-align:left;'>||||||||||||||||||||||||||||||||||||||||||||||||||||||||||||||||||||||||||||| (0.767606155909818)</td></tr><tr><td>acquainted</td><td style='text-align:left;'>|||||||||||||||||||||||||||||||||||||||||||||||||||||||||||||||||||||||||| (0.7353803246187414)</td></tr><tr><td>talked</td><td style='text-align:left;'>||||||||||||||||||||||||||||||||||||||||||||||||||||||||||||||||||||||||| (0.7322564914715366)</td></tr><tr><td>bath</td><td style='text-align:left;'>||||||||||||||||||||||||||||||||||||||||||||||||||||||||||||||||||||||||| (0.7256935032261681)</td></tr><tr><td>acquaintance</td><td style='text-align:left;'>|||||||||||||||||||||||||||||||||||||||||||||||||||||||||||||||||||||||| (0.7169638533882063)</td></tr><tr><td>heard</td><td style='text-align:left;'>||||||||||||||||||||||||||||||||||||||||||||||||||||||||||||||||||||||| (0.7119514016370523)</td></tr><tr><td>situation</td><td style='text-align:left;'>||||||||||||||||||||||||||||||||||||||||||||||||||||||||||||||||||||||| (0.7102020698149876)</td></tr><tr><td>knowing</td><td style='text-align:left;'>||||||||||||||||||||||||||||||||||||||||||||||||||||||||||||||||||||||| (0.7094457871393888)</td></tr><tr><td>life</td><td style='text-align:left;'>||||||||||||||||||||||||||||||||||||||||||||||||||||||||||||||||||||||| (0.7080577927861965)</td></tr><tr><td colspan=1><b>4. elizabeth</b></td></tr><tr><td>bath</td><td style='text-align:left;'>||||||||||||||||||||||||||||||||||||||||||||||||||||||||||||||||||||||||||||| (0.7688998322998717)</td></tr><tr><td>sir</td><td style='text-align:left;'>||||||||||||||||||||||||||||||||||||||||||||||||||||||||||||||||||||||| (0.7051452310057525)</td></tr><tr><td>daughter</td><td style='text-align:left;'>|||||||||||||||||||||||||||||||||||||||||||||||||||||||||||||||||||||| (0.7026502126693475)</td></tr><tr><td>russell</td><td style='text-align:left;'>|||||||||||||||||||||||||||||||||||||||||||||||||||||||||||||||||||||| (0.6964322652805378)</td></tr><tr><td>place</td><td style='text-align:left;'>||||||||||||||||||||||||||||||||||||||||||||||||||||||||||||||||||||| (0.6936431857115589)</td></tr><tr><td>girl</td><td style='text-align:left;'>|||||||||||||||||||||||||||||||||||||||||||||||||||||||||||||||||||| (0.6809937435440467)</td></tr><tr><td>present</td><td style='text-align:left;'>|||||||||||||||||||||||||||||||||||||||||||||||||||||||||||||||||||| (0.6793096991848837)</td></tr><tr><td>certainly</td><td style='text-align:left;'>||||||||||||||||||||||||||||||||||||||||||||||||||||||||||||||||||| (0.67329340942835)</td></tr><tr><td>received</td><td style='text-align:left;'>||||||||||||||||||||||||||||||||||||||||||||||||||||||||||||||||||| (0.6715934455093434)</td></tr><tr><td>walter</td><td style='text-align:left;'>||||||||||||||||||||||||||||||||||||||||||||||||||||||||||||||||||| (0.6654973383783326)</td></tr></table>"
      ],
      "text/plain": [
       "<IPython.core.display.HTML object>"
      ]
     },
     "metadata": {},
     "output_type": "display_data"
    }
   ],
   "source": [
    "display(HTML(DETAIL))"
   ]
  },
  {
   "cell_type": "markdown",
   "metadata": {},
   "source": [
    "## Explore term correlations"
   ]
  },
  {
   "cell_type": "code",
   "execution_count": 49,
   "metadata": {},
   "outputs": [],
   "source": [
    "CORR = pd.crosstab(pairs3.x, pairs3.y, pairs3.overlap, aggfunc='sum').fillna(1)"
   ]
  },
  {
   "cell_type": "code",
   "execution_count": 50,
   "metadata": {},
   "outputs": [
    {
     "data": {
      "text/html": [
       "<div>\n",
       "<style scoped>\n",
       "    .dataframe tbody tr th:only-of-type {\n",
       "        vertical-align: middle;\n",
       "    }\n",
       "\n",
       "    .dataframe tbody tr th {\n",
       "        vertical-align: top;\n",
       "    }\n",
       "\n",
       "    .dataframe thead th {\n",
       "        text-align: right;\n",
       "    }\n",
       "</style>\n",
       "<table border=\"1\" class=\"dataframe\">\n",
       "  <thead>\n",
       "    <tr style=\"text-align: right;\">\n",
       "      <th>y</th>\n",
       "      <th>able</th>\n",
       "      <th>absence</th>\n",
       "      <th>absolutely</th>\n",
       "      <th>account</th>\n",
       "      <th>acquaintance</th>\n",
       "      <th>acquainted</th>\n",
       "      <th>act</th>\n",
       "      <th>added</th>\n",
       "      <th>admiral</th>\n",
       "      <th>admiration</th>\n",
       "      <th>...</th>\n",
       "      <th>worth</th>\n",
       "      <th>write</th>\n",
       "      <th>written</th>\n",
       "      <th>wrong</th>\n",
       "      <th>year</th>\n",
       "      <th>years</th>\n",
       "      <th>yes</th>\n",
       "      <th>yesterday</th>\n",
       "      <th>yet</th>\n",
       "      <th>young</th>\n",
       "    </tr>\n",
       "    <tr>\n",
       "      <th>x</th>\n",
       "      <th></th>\n",
       "      <th></th>\n",
       "      <th></th>\n",
       "      <th></th>\n",
       "      <th></th>\n",
       "      <th></th>\n",
       "      <th></th>\n",
       "      <th></th>\n",
       "      <th></th>\n",
       "      <th></th>\n",
       "      <th></th>\n",
       "      <th></th>\n",
       "      <th></th>\n",
       "      <th></th>\n",
       "      <th></th>\n",
       "      <th></th>\n",
       "      <th></th>\n",
       "      <th></th>\n",
       "      <th></th>\n",
       "      <th></th>\n",
       "      <th></th>\n",
       "    </tr>\n",
       "  </thead>\n",
       "  <tbody>\n",
       "    <tr>\n",
       "      <th>able</th>\n",
       "      <td>1.000000</td>\n",
       "      <td>0.524566</td>\n",
       "      <td>0.353810</td>\n",
       "      <td>0.723630</td>\n",
       "      <td>0.663432</td>\n",
       "      <td>0.593096</td>\n",
       "      <td>0.339930</td>\n",
       "      <td>0.549062</td>\n",
       "      <td>0.397966</td>\n",
       "      <td>0.457750</td>\n",
       "      <td>...</td>\n",
       "      <td>0.456841</td>\n",
       "      <td>0.498892</td>\n",
       "      <td>0.417986</td>\n",
       "      <td>0.319828</td>\n",
       "      <td>0.387854</td>\n",
       "      <td>0.569432</td>\n",
       "      <td>0.609062</td>\n",
       "      <td>0.550299</td>\n",
       "      <td>0.669399</td>\n",
       "      <td>0.636705</td>\n",
       "    </tr>\n",
       "    <tr>\n",
       "      <th>absence</th>\n",
       "      <td>0.524566</td>\n",
       "      <td>1.000000</td>\n",
       "      <td>0.461409</td>\n",
       "      <td>0.553238</td>\n",
       "      <td>0.291594</td>\n",
       "      <td>0.426282</td>\n",
       "      <td>0.428588</td>\n",
       "      <td>0.495119</td>\n",
       "      <td>0.331120</td>\n",
       "      <td>0.493399</td>\n",
       "      <td>...</td>\n",
       "      <td>0.197061</td>\n",
       "      <td>0.354372</td>\n",
       "      <td>0.400766</td>\n",
       "      <td>0.513005</td>\n",
       "      <td>0.399864</td>\n",
       "      <td>0.440828</td>\n",
       "      <td>0.541361</td>\n",
       "      <td>0.494077</td>\n",
       "      <td>0.480064</td>\n",
       "      <td>0.543568</td>\n",
       "    </tr>\n",
       "    <tr>\n",
       "      <th>absolutely</th>\n",
       "      <td>0.353810</td>\n",
       "      <td>0.461409</td>\n",
       "      <td>1.000000</td>\n",
       "      <td>0.413621</td>\n",
       "      <td>0.312572</td>\n",
       "      <td>0.396114</td>\n",
       "      <td>0.334564</td>\n",
       "      <td>0.406716</td>\n",
       "      <td>0.431802</td>\n",
       "      <td>0.342216</td>\n",
       "      <td>...</td>\n",
       "      <td>0.248880</td>\n",
       "      <td>0.275980</td>\n",
       "      <td>0.388365</td>\n",
       "      <td>0.381216</td>\n",
       "      <td>0.379442</td>\n",
       "      <td>0.296685</td>\n",
       "      <td>0.462528</td>\n",
       "      <td>0.430482</td>\n",
       "      <td>0.473932</td>\n",
       "      <td>0.472678</td>\n",
       "    </tr>\n",
       "    <tr>\n",
       "      <th>account</th>\n",
       "      <td>0.723630</td>\n",
       "      <td>0.553238</td>\n",
       "      <td>0.413621</td>\n",
       "      <td>1.000000</td>\n",
       "      <td>0.636613</td>\n",
       "      <td>0.614106</td>\n",
       "      <td>0.331717</td>\n",
       "      <td>0.607060</td>\n",
       "      <td>0.428082</td>\n",
       "      <td>0.502256</td>\n",
       "      <td>...</td>\n",
       "      <td>0.507791</td>\n",
       "      <td>0.433033</td>\n",
       "      <td>0.369799</td>\n",
       "      <td>0.389034</td>\n",
       "      <td>0.441645</td>\n",
       "      <td>0.614179</td>\n",
       "      <td>0.691674</td>\n",
       "      <td>0.541036</td>\n",
       "      <td>0.769305</td>\n",
       "      <td>0.690290</td>\n",
       "    </tr>\n",
       "    <tr>\n",
       "      <th>acquaintance</th>\n",
       "      <td>0.663432</td>\n",
       "      <td>0.291594</td>\n",
       "      <td>0.312572</td>\n",
       "      <td>0.636613</td>\n",
       "      <td>1.000000</td>\n",
       "      <td>0.635630</td>\n",
       "      <td>0.332559</td>\n",
       "      <td>0.550906</td>\n",
       "      <td>0.422470</td>\n",
       "      <td>0.316908</td>\n",
       "      <td>...</td>\n",
       "      <td>0.641765</td>\n",
       "      <td>0.395267</td>\n",
       "      <td>0.392616</td>\n",
       "      <td>0.222971</td>\n",
       "      <td>0.406202</td>\n",
       "      <td>0.629845</td>\n",
       "      <td>0.614430</td>\n",
       "      <td>0.482689</td>\n",
       "      <td>0.648926</td>\n",
       "      <td>0.543396</td>\n",
       "    </tr>\n",
       "  </tbody>\n",
       "</table>\n",
       "<p>5 rows × 637 columns</p>\n",
       "</div>"
      ],
      "text/plain": [
       "y                 able   absence  absolutely   account  acquaintance  \\\n",
       "x                                                                      \n",
       "able          1.000000  0.524566    0.353810  0.723630      0.663432   \n",
       "absence       0.524566  1.000000    0.461409  0.553238      0.291594   \n",
       "absolutely    0.353810  0.461409    1.000000  0.413621      0.312572   \n",
       "account       0.723630  0.553238    0.413621  1.000000      0.636613   \n",
       "acquaintance  0.663432  0.291594    0.312572  0.636613      1.000000   \n",
       "\n",
       "y             acquainted       act     added   admiral  admiration    ...     \\\n",
       "x                                                                     ...      \n",
       "able            0.593096  0.339930  0.549062  0.397966    0.457750    ...      \n",
       "absence         0.426282  0.428588  0.495119  0.331120    0.493399    ...      \n",
       "absolutely      0.396114  0.334564  0.406716  0.431802    0.342216    ...      \n",
       "account         0.614106  0.331717  0.607060  0.428082    0.502256    ...      \n",
       "acquaintance    0.635630  0.332559  0.550906  0.422470    0.316908    ...      \n",
       "\n",
       "y                worth     write   written     wrong      year     years  \\\n",
       "x                                                                          \n",
       "able          0.456841  0.498892  0.417986  0.319828  0.387854  0.569432   \n",
       "absence       0.197061  0.354372  0.400766  0.513005  0.399864  0.440828   \n",
       "absolutely    0.248880  0.275980  0.388365  0.381216  0.379442  0.296685   \n",
       "account       0.507791  0.433033  0.369799  0.389034  0.441645  0.614179   \n",
       "acquaintance  0.641765  0.395267  0.392616  0.222971  0.406202  0.629845   \n",
       "\n",
       "y                  yes  yesterday       yet     young  \n",
       "x                                                      \n",
       "able          0.609062   0.550299  0.669399  0.636705  \n",
       "absence       0.541361   0.494077  0.480064  0.543568  \n",
       "absolutely    0.462528   0.430482  0.473932  0.472678  \n",
       "account       0.691674   0.541036  0.769305  0.690290  \n",
       "acquaintance  0.614430   0.482689  0.648926  0.543396  \n",
       "\n",
       "[5 rows x 637 columns]"
      ]
     },
     "execution_count": 50,
     "metadata": {},
     "output_type": "execute_result"
    }
   ],
   "source": [
    "CORR.head()"
   ]
  },
  {
   "cell_type": "code",
   "execution_count": 51,
   "metadata": {},
   "outputs": [],
   "source": [
    "def corr_plot_terms(terms, dtm, title='Foo'):\n",
    "    plt.figure(figsize = (20,20))\n",
    "    print(title)\n",
    "    corr = dtm[terms].corr()\n",
    "    sns.heatmap(corr, vmax=.3, annot=True, center=0, \n",
    "              cmap='RdYlGn',\n",
    "              square=True, linewidths=.5, \n",
    "              cbar_kws={\"shrink\": .5})\n",
    "    plt.show()"
   ]
  },
  {
   "cell_type": "code",
   "execution_count": 52,
   "metadata": {},
   "outputs": [
    {
     "name": "stdout",
     "output_type": "stream",
     "text": [
      "TEST\n"
     ]
    },
    {
     "data": {
      "image/png": "[encoded data removed]",
      "text/plain": [
       "<Figure size 1440x1440 with 2 Axes>"
      ]
     },
     "metadata": {},
     "output_type": "display_data"
    }
   ],
   "source": [
    "corr_plot_terms(TOP_TERMS, PLOTS.T, title='TEST')"
   ]
  },
  {
   "cell_type": "markdown",
   "metadata": {},
   "source": [
    "## Export Graphs"
   ]
  },
  {
   "cell_type": "code",
   "execution_count": 54,
   "metadata": {},
   "outputs": [],
   "source": [
    "import networkx as nx\n",
    "G = nx.Graph()\n",
    "edges = pairs[['x','y','overlap']].sort_values('overlap', ascending=False).head(1000).apply(lambda x: (x.x, x.y, x.overlap), axis=1).values\n",
    "G.add_weighted_edges_from(edges)\n",
    "nx.write_gexf(G, \"{}.gexf\".format('austen'))"
   ]
  },
  {
   "cell_type": "markdown",
   "metadata": {},
   "source": [
    "# Save"
   ]
  },
  {
   "cell_type": "code",
   "execution_count": null,
   "metadata": {},
   "outputs": [],
   "source": [
    "pairs.to_csv(data_dir + '/austen-persuasion-term_pairs.csv')\n",
    "PLOTS.T.to_csv(data_dir + '/austen-persuasion-term_kde.csv')"
   ]
  }
 ],
 "metadata": {
  "colab": {
   "collapsed_sections": [],
   "name": "DS5559_WordNetworks.ipynb",
   "provenance": [],
   "version": "0.3.2"
  },
  "kernelspec": {
   "display_name": "Python 3",
   "language": "python",
   "name": "python3"
  },
  "language_info": {
   "codemirror_mode": {
    "name": "ipython",
    "version": 3
   },
   "file_extension": ".py",
   "mimetype": "text/x-python",
   "name": "python",
   "nbconvert_exporter": "python",
   "pygments_lexer": "ipython3",
   "version": "3.6.6"
  },
  "toc-autonumbering": false,
  "toc-showcode": false,
  "toc-showmarkdowntxt": false
 },
 "nbformat": 4,
 "nbformat_minor": 2
}
