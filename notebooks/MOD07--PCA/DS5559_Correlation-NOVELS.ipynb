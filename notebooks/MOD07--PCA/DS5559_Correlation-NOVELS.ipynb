{
 "cells": [
  {
   "cell_type": "markdown",
   "metadata": {
    "colab_type": "text",
    "id": "v5ChmLicLhzI"
   },
   "source": [
    "# Synopsis\n",
    "\n",
    "As an aside, we demonstrate use of Pandas' correlation function, `corr()`, to get pairwise similarities of words and documents."
   ]
  },
  {
   "cell_type": "markdown",
   "metadata": {
    "colab_type": "text",
    "id": "yWADUMoUp8_p"
   },
   "source": [
    "# Configuration"
   ]
  },
  {
   "cell_type": "code",
   "execution_count": 2,
   "metadata": {
    "colab": {},
    "colab_type": "code",
    "id": "PcwLF3YyqmVZ"
   },
   "outputs": [],
   "source": [
    "db_name = 'novels.db'"
   ]
  },
  {
   "cell_type": "markdown",
   "metadata": {
    "colab_type": "text",
    "id": "LLdKbNbMLmI1"
   },
   "source": [
    "# Libraries"
   ]
  },
  {
   "cell_type": "code",
   "execution_count": 3,
   "metadata": {
    "colab": {},
    "colab_type": "code",
    "id": "YbadDvzWW0Sw"
   },
   "outputs": [],
   "source": [
    "import sqlite3\n",
    "import pandas as pd\n",
    "import numpy as np"
   ]
  },
  {
   "cell_type": "markdown",
   "metadata": {
    "colab": {},
    "colab_type": "code",
    "id": "YbadDvzWW0Sw"
   },
   "source": [
    "# Pragmas"
   ]
  },
  {
   "cell_type": "code",
   "execution_count": 4,
   "metadata": {
    "colab": {},
    "colab_type": "code",
    "id": "YbadDvzWW0Sw"
   },
   "outputs": [],
   "source": [
    "%matplotlib inline"
   ]
  },
  {
   "cell_type": "markdown",
   "metadata": {
    "colab_type": "text",
    "id": "EYW-zAG1LpTP",
    "toc-hr-collapsed": false
   },
   "source": [
    "# Process"
   ]
  },
  {
   "cell_type": "code",
   "execution_count": 57,
   "metadata": {
    "colab": {},
    "colab_type": "code",
    "id": "Hefj5mkCLo0D"
   },
   "outputs": [],
   "source": [
    "with sqlite3.connect(db_name) as db:\n",
    "    vocab = pd.read_sql('SELECT * FROM vocab', db, index_col='term_id')\n",
    "    tfidf = pd.read_sql('SELECT * FROM tfidf_small', db, index_col=['bag_id', 'term_id'])\n",
    "    bags =  pd.read_sql('SELECT * FROM bag', db, index_col='bag_id')"
   ]
  },
  {
   "cell_type": "markdown",
   "metadata": {
    "colab": {},
    "colab_type": "code",
    "id": "Hefj5mkCLo0D"
   },
   "source": [
    "## Expand TFIDF Matrix\n",
    "\n",
    "The TFIDF matrix is stored in narrow mode in the database. We unstack it and convert the columns into terms to make the exercise easier."
   ]
  },
  {
   "cell_type": "code",
   "execution_count": 51,
   "metadata": {},
   "outputs": [],
   "source": [
    "TFIDF = tfidf.unstack()\n",
    "TFIDF.columns = TFIDF.columns.droplevel(0)\n",
    "TFIDF.columns = vocab.loc[TFIDF.columns].term_str"
   ]
  },
  {
   "cell_type": "code",
   "execution_count": 52,
   "metadata": {},
   "outputs": [
    {
     "data": {
      "text/html": [
       "<div>\n",
       "<style scoped>\n",
       "    .dataframe tbody tr th:only-of-type {\n",
       "        vertical-align: middle;\n",
       "    }\n",
       "\n",
       "    .dataframe tbody tr th {\n",
       "        vertical-align: top;\n",
       "    }\n",
       "\n",
       "    .dataframe thead th {\n",
       "        text-align: right;\n",
       "    }\n",
       "</style>\n",
       "<table border=\"1\" class=\"dataframe\">\n",
       "  <thead>\n",
       "    <tr style=\"text-align: right;\">\n",
       "      <th>term_str</th>\n",
       "      <th>able</th>\n",
       "      <th>ablewhite</th>\n",
       "      <th>absence</th>\n",
       "      <th>account</th>\n",
       "      <th>across</th>\n",
       "      <th>act</th>\n",
       "      <th>action</th>\n",
       "      <th>added</th>\n",
       "      <th>address</th>\n",
       "      <th>advanced</th>\n",
       "      <th>...</th>\n",
       "      <th>write</th>\n",
       "      <th>writing</th>\n",
       "      <th>written</th>\n",
       "      <th>wrong</th>\n",
       "      <th>year</th>\n",
       "      <th>years</th>\n",
       "      <th>yes</th>\n",
       "      <th>yesterday</th>\n",
       "      <th>young</th>\n",
       "      <th>youth</th>\n",
       "    </tr>\n",
       "    <tr>\n",
       "      <th>bag_id</th>\n",
       "      <th></th>\n",
       "      <th></th>\n",
       "      <th></th>\n",
       "      <th></th>\n",
       "      <th></th>\n",
       "      <th></th>\n",
       "      <th></th>\n",
       "      <th></th>\n",
       "      <th></th>\n",
       "      <th></th>\n",
       "      <th></th>\n",
       "      <th></th>\n",
       "      <th></th>\n",
       "      <th></th>\n",
       "      <th></th>\n",
       "      <th></th>\n",
       "      <th></th>\n",
       "      <th></th>\n",
       "      <th></th>\n",
       "      <th></th>\n",
       "      <th></th>\n",
       "    </tr>\n",
       "  </thead>\n",
       "  <tbody>\n",
       "    <tr>\n",
       "      <th>0</th>\n",
       "      <td>0.000000</td>\n",
       "      <td>0.0</td>\n",
       "      <td>0.0</td>\n",
       "      <td>0.0</td>\n",
       "      <td>0.762597</td>\n",
       "      <td>0.0</td>\n",
       "      <td>0.000000</td>\n",
       "      <td>0.624051</td>\n",
       "      <td>0.000000</td>\n",
       "      <td>0.0</td>\n",
       "      <td>...</td>\n",
       "      <td>0.55576</td>\n",
       "      <td>0.55576</td>\n",
       "      <td>0.433268</td>\n",
       "      <td>0.000000</td>\n",
       "      <td>0.522879</td>\n",
       "      <td>0.210684</td>\n",
       "      <td>0.464706</td>\n",
       "      <td>0.000000</td>\n",
       "      <td>1.391807</td>\n",
       "      <td>0.0</td>\n",
       "    </tr>\n",
       "    <tr>\n",
       "      <th>1</th>\n",
       "      <td>0.000000</td>\n",
       "      <td>0.0</td>\n",
       "      <td>0.0</td>\n",
       "      <td>0.0</td>\n",
       "      <td>1.143895</td>\n",
       "      <td>0.0</td>\n",
       "      <td>0.591336</td>\n",
       "      <td>0.000000</td>\n",
       "      <td>0.536667</td>\n",
       "      <td>0.0</td>\n",
       "      <td>...</td>\n",
       "      <td>0.00000</td>\n",
       "      <td>0.00000</td>\n",
       "      <td>0.000000</td>\n",
       "      <td>0.448245</td>\n",
       "      <td>0.000000</td>\n",
       "      <td>0.210684</td>\n",
       "      <td>0.774510</td>\n",
       "      <td>1.131261</td>\n",
       "      <td>0.463936</td>\n",
       "      <td>0.0</td>\n",
       "    </tr>\n",
       "    <tr>\n",
       "      <th>2</th>\n",
       "      <td>0.267104</td>\n",
       "      <td>0.0</td>\n",
       "      <td>0.0</td>\n",
       "      <td>0.0</td>\n",
       "      <td>0.381298</td>\n",
       "      <td>0.0</td>\n",
       "      <td>0.000000</td>\n",
       "      <td>0.000000</td>\n",
       "      <td>0.536667</td>\n",
       "      <td>0.0</td>\n",
       "      <td>...</td>\n",
       "      <td>0.00000</td>\n",
       "      <td>0.00000</td>\n",
       "      <td>0.433268</td>\n",
       "      <td>0.448245</td>\n",
       "      <td>0.000000</td>\n",
       "      <td>0.000000</td>\n",
       "      <td>0.619608</td>\n",
       "      <td>1.131261</td>\n",
       "      <td>0.231968</td>\n",
       "      <td>0.0</td>\n",
       "    </tr>\n",
       "    <tr>\n",
       "      <th>3</th>\n",
       "      <td>0.267104</td>\n",
       "      <td>0.0</td>\n",
       "      <td>0.0</td>\n",
       "      <td>0.0</td>\n",
       "      <td>1.143895</td>\n",
       "      <td>0.0</td>\n",
       "      <td>0.000000</td>\n",
       "      <td>0.000000</td>\n",
       "      <td>1.610001</td>\n",
       "      <td>0.0</td>\n",
       "      <td>...</td>\n",
       "      <td>0.00000</td>\n",
       "      <td>0.00000</td>\n",
       "      <td>0.000000</td>\n",
       "      <td>0.000000</td>\n",
       "      <td>0.000000</td>\n",
       "      <td>0.210684</td>\n",
       "      <td>1.239216</td>\n",
       "      <td>0.000000</td>\n",
       "      <td>0.695903</td>\n",
       "      <td>0.0</td>\n",
       "    </tr>\n",
       "    <tr>\n",
       "      <th>4</th>\n",
       "      <td>0.267104</td>\n",
       "      <td>0.0</td>\n",
       "      <td>0.0</td>\n",
       "      <td>0.0</td>\n",
       "      <td>0.000000</td>\n",
       "      <td>0.0</td>\n",
       "      <td>0.591336</td>\n",
       "      <td>0.624051</td>\n",
       "      <td>0.000000</td>\n",
       "      <td>0.0</td>\n",
       "      <td>...</td>\n",
       "      <td>0.55576</td>\n",
       "      <td>0.00000</td>\n",
       "      <td>0.000000</td>\n",
       "      <td>0.000000</td>\n",
       "      <td>1.045757</td>\n",
       "      <td>0.000000</td>\n",
       "      <td>0.619608</td>\n",
       "      <td>0.000000</td>\n",
       "      <td>0.231968</td>\n",
       "      <td>0.0</td>\n",
       "    </tr>\n",
       "  </tbody>\n",
       "</table>\n",
       "<p>5 rows × 1000 columns</p>\n",
       "</div>"
      ],
      "text/plain": [
       "term_str      able  ablewhite  absence  account    across  act    action  \\\n",
       "bag_id                                                                     \n",
       "0         0.000000        0.0      0.0      0.0  0.762597  0.0  0.000000   \n",
       "1         0.000000        0.0      0.0      0.0  1.143895  0.0  0.591336   \n",
       "2         0.267104        0.0      0.0      0.0  0.381298  0.0  0.000000   \n",
       "3         0.267104        0.0      0.0      0.0  1.143895  0.0  0.000000   \n",
       "4         0.267104        0.0      0.0      0.0  0.000000  0.0  0.591336   \n",
       "\n",
       "term_str     added   address  advanced  ...    write  writing   written  \\\n",
       "bag_id                                  ...                               \n",
       "0         0.624051  0.000000       0.0  ...  0.55576  0.55576  0.433268   \n",
       "1         0.000000  0.536667       0.0  ...  0.00000  0.00000  0.000000   \n",
       "2         0.000000  0.536667       0.0  ...  0.00000  0.00000  0.433268   \n",
       "3         0.000000  1.610001       0.0  ...  0.00000  0.00000  0.000000   \n",
       "4         0.624051  0.000000       0.0  ...  0.55576  0.00000  0.000000   \n",
       "\n",
       "term_str     wrong      year     years       yes  yesterday     young  youth  \n",
       "bag_id                                                                        \n",
       "0         0.000000  0.522879  0.210684  0.464706   0.000000  1.391807    0.0  \n",
       "1         0.448245  0.000000  0.210684  0.774510   1.131261  0.463936    0.0  \n",
       "2         0.448245  0.000000  0.000000  0.619608   1.131261  0.231968    0.0  \n",
       "3         0.000000  0.000000  0.210684  1.239216   0.000000  0.695903    0.0  \n",
       "4         0.000000  1.045757  0.000000  0.619608   0.000000  0.231968    0.0  \n",
       "\n",
       "[5 rows x 1000 columns]"
      ]
     },
     "execution_count": 52,
     "metadata": {},
     "output_type": "execute_result"
    }
   ],
   "source": [
    "TFIDF.head()"
   ]
  },
  {
   "cell_type": "markdown",
   "metadata": {
    "colab": {},
    "colab_type": "code",
    "id": "a6EXs82eK4Oj",
    "toc-hr-collapsed": false
   },
   "source": [
    "## Compute Similarities\n",
    "\n",
    "Useful discussion of the relationship between cosine similiary and correlation: \n",
    "\n",
    "[Brendan T. O'Connor on Cosine similarity, Pearson correlation, and OLS coefficients](https://brenocon.com/blog/2012/03/cosine-similarity-pearson-correlation-and-ols-coefficients/)"
   ]
  },
  {
   "cell_type": "markdown",
   "metadata": {
    "colab": {},
    "colab_type": "code",
    "id": "a6EXs82eK4Oj",
    "toc-hr-collapsed": false
   },
   "source": [
    "### Word-Word Comparisons"
   ]
  },
  {
   "cell_type": "code",
   "execution_count": 53,
   "metadata": {
    "colab": {},
    "colab_type": "code",
    "id": "a6EXs82eK4Oj"
   },
   "outputs": [],
   "source": [
    "term_corr = TFIDF.corr()"
   ]
  },
  {
   "cell_type": "code",
   "execution_count": 54,
   "metadata": {
    "colab": {},
    "colab_type": "code",
    "id": "a6EXs82eK4Oj"
   },
   "outputs": [
    {
     "data": {
      "text/html": [
       "<div>\n",
       "<style scoped>\n",
       "    .dataframe tbody tr th:only-of-type {\n",
       "        vertical-align: middle;\n",
       "    }\n",
       "\n",
       "    .dataframe tbody tr th {\n",
       "        vertical-align: top;\n",
       "    }\n",
       "\n",
       "    .dataframe thead th {\n",
       "        text-align: right;\n",
       "    }\n",
       "</style>\n",
       "<table border=\"1\" class=\"dataframe\">\n",
       "  <thead>\n",
       "    <tr style=\"text-align: right;\">\n",
       "      <th>term_str</th>\n",
       "      <th>able</th>\n",
       "      <th>ablewhite</th>\n",
       "      <th>absence</th>\n",
       "      <th>account</th>\n",
       "      <th>across</th>\n",
       "      <th>act</th>\n",
       "      <th>action</th>\n",
       "      <th>added</th>\n",
       "      <th>address</th>\n",
       "      <th>advanced</th>\n",
       "      <th>...</th>\n",
       "      <th>write</th>\n",
       "      <th>writing</th>\n",
       "      <th>written</th>\n",
       "      <th>wrong</th>\n",
       "      <th>year</th>\n",
       "      <th>years</th>\n",
       "      <th>yes</th>\n",
       "      <th>yesterday</th>\n",
       "      <th>young</th>\n",
       "      <th>youth</th>\n",
       "    </tr>\n",
       "    <tr>\n",
       "      <th>term_str</th>\n",
       "      <th></th>\n",
       "      <th></th>\n",
       "      <th></th>\n",
       "      <th></th>\n",
       "      <th></th>\n",
       "      <th></th>\n",
       "      <th></th>\n",
       "      <th></th>\n",
       "      <th></th>\n",
       "      <th></th>\n",
       "      <th></th>\n",
       "      <th></th>\n",
       "      <th></th>\n",
       "      <th></th>\n",
       "      <th></th>\n",
       "      <th></th>\n",
       "      <th></th>\n",
       "      <th></th>\n",
       "      <th></th>\n",
       "      <th></th>\n",
       "      <th></th>\n",
       "    </tr>\n",
       "  </thead>\n",
       "  <tbody>\n",
       "    <tr>\n",
       "      <th>able</th>\n",
       "      <td>1.000000</td>\n",
       "      <td>0.061072</td>\n",
       "      <td>0.141624</td>\n",
       "      <td>0.253928</td>\n",
       "      <td>0.160673</td>\n",
       "      <td>0.149674</td>\n",
       "      <td>0.183702</td>\n",
       "      <td>0.020535</td>\n",
       "      <td>0.117363</td>\n",
       "      <td>0.032540</td>\n",
       "      <td>...</td>\n",
       "      <td>0.214802</td>\n",
       "      <td>0.191193</td>\n",
       "      <td>0.217432</td>\n",
       "      <td>0.087715</td>\n",
       "      <td>0.239345</td>\n",
       "      <td>0.184937</td>\n",
       "      <td>0.200448</td>\n",
       "      <td>0.154910</td>\n",
       "      <td>0.085637</td>\n",
       "      <td>0.088826</td>\n",
       "    </tr>\n",
       "    <tr>\n",
       "      <th>ablewhite</th>\n",
       "      <td>0.061072</td>\n",
       "      <td>1.000000</td>\n",
       "      <td>-0.009004</td>\n",
       "      <td>0.109823</td>\n",
       "      <td>-0.046098</td>\n",
       "      <td>0.090130</td>\n",
       "      <td>-0.027158</td>\n",
       "      <td>0.101558</td>\n",
       "      <td>-0.004449</td>\n",
       "      <td>0.025643</td>\n",
       "      <td>...</td>\n",
       "      <td>0.212574</td>\n",
       "      <td>0.114509</td>\n",
       "      <td>0.231814</td>\n",
       "      <td>0.133603</td>\n",
       "      <td>0.190809</td>\n",
       "      <td>-0.006915</td>\n",
       "      <td>0.008624</td>\n",
       "      <td>0.107772</td>\n",
       "      <td>0.007695</td>\n",
       "      <td>-0.032687</td>\n",
       "    </tr>\n",
       "    <tr>\n",
       "      <th>absence</th>\n",
       "      <td>0.141624</td>\n",
       "      <td>-0.009004</td>\n",
       "      <td>1.000000</td>\n",
       "      <td>0.301882</td>\n",
       "      <td>-0.023458</td>\n",
       "      <td>0.135321</td>\n",
       "      <td>0.190657</td>\n",
       "      <td>0.162444</td>\n",
       "      <td>0.062981</td>\n",
       "      <td>0.170881</td>\n",
       "      <td>...</td>\n",
       "      <td>0.015605</td>\n",
       "      <td>0.116263</td>\n",
       "      <td>0.226704</td>\n",
       "      <td>0.077514</td>\n",
       "      <td>0.119075</td>\n",
       "      <td>0.181828</td>\n",
       "      <td>0.035777</td>\n",
       "      <td>0.119735</td>\n",
       "      <td>0.153262</td>\n",
       "      <td>0.194430</td>\n",
       "    </tr>\n",
       "    <tr>\n",
       "      <th>account</th>\n",
       "      <td>0.253928</td>\n",
       "      <td>0.109823</td>\n",
       "      <td>0.301882</td>\n",
       "      <td>1.000000</td>\n",
       "      <td>-0.056390</td>\n",
       "      <td>0.153673</td>\n",
       "      <td>0.216019</td>\n",
       "      <td>0.119819</td>\n",
       "      <td>0.138966</td>\n",
       "      <td>0.294758</td>\n",
       "      <td>...</td>\n",
       "      <td>0.153667</td>\n",
       "      <td>0.165174</td>\n",
       "      <td>0.226740</td>\n",
       "      <td>0.148797</td>\n",
       "      <td>0.171684</td>\n",
       "      <td>0.268621</td>\n",
       "      <td>0.043725</td>\n",
       "      <td>0.145580</td>\n",
       "      <td>0.226627</td>\n",
       "      <td>0.221435</td>\n",
       "    </tr>\n",
       "    <tr>\n",
       "      <th>across</th>\n",
       "      <td>0.160673</td>\n",
       "      <td>-0.046098</td>\n",
       "      <td>-0.023458</td>\n",
       "      <td>-0.056390</td>\n",
       "      <td>1.000000</td>\n",
       "      <td>0.053741</td>\n",
       "      <td>0.115498</td>\n",
       "      <td>-0.086610</td>\n",
       "      <td>0.121187</td>\n",
       "      <td>-0.128949</td>\n",
       "      <td>...</td>\n",
       "      <td>0.091462</td>\n",
       "      <td>0.094690</td>\n",
       "      <td>0.119586</td>\n",
       "      <td>0.113591</td>\n",
       "      <td>0.104988</td>\n",
       "      <td>0.136132</td>\n",
       "      <td>0.266985</td>\n",
       "      <td>0.112903</td>\n",
       "      <td>0.030434</td>\n",
       "      <td>-0.113305</td>\n",
       "    </tr>\n",
       "  </tbody>\n",
       "</table>\n",
       "<p>5 rows × 1000 columns</p>\n",
       "</div>"
      ],
      "text/plain": [
       "term_str       able  ablewhite   absence   account    across       act  \\\n",
       "term_str                                                                 \n",
       "able       1.000000   0.061072  0.141624  0.253928  0.160673  0.149674   \n",
       "ablewhite  0.061072   1.000000 -0.009004  0.109823 -0.046098  0.090130   \n",
       "absence    0.141624  -0.009004  1.000000  0.301882 -0.023458  0.135321   \n",
       "account    0.253928   0.109823  0.301882  1.000000 -0.056390  0.153673   \n",
       "across     0.160673  -0.046098 -0.023458 -0.056390  1.000000  0.053741   \n",
       "\n",
       "term_str     action     added   address  advanced  ...     write   writing  \\\n",
       "term_str                                           ...                       \n",
       "able       0.183702  0.020535  0.117363  0.032540  ...  0.214802  0.191193   \n",
       "ablewhite -0.027158  0.101558 -0.004449  0.025643  ...  0.212574  0.114509   \n",
       "absence    0.190657  0.162444  0.062981  0.170881  ...  0.015605  0.116263   \n",
       "account    0.216019  0.119819  0.138966  0.294758  ...  0.153667  0.165174   \n",
       "across     0.115498 -0.086610  0.121187 -0.128949  ...  0.091462  0.094690   \n",
       "\n",
       "term_str    written     wrong      year     years       yes  yesterday  \\\n",
       "term_str                                                                 \n",
       "able       0.217432  0.087715  0.239345  0.184937  0.200448   0.154910   \n",
       "ablewhite  0.231814  0.133603  0.190809 -0.006915  0.008624   0.107772   \n",
       "absence    0.226704  0.077514  0.119075  0.181828  0.035777   0.119735   \n",
       "account    0.226740  0.148797  0.171684  0.268621  0.043725   0.145580   \n",
       "across     0.119586  0.113591  0.104988  0.136132  0.266985   0.112903   \n",
       "\n",
       "term_str      young     youth  \n",
       "term_str                       \n",
       "able       0.085637  0.088826  \n",
       "ablewhite  0.007695 -0.032687  \n",
       "absence    0.153262  0.194430  \n",
       "account    0.226627  0.221435  \n",
       "across     0.030434 -0.113305  \n",
       "\n",
       "[5 rows x 1000 columns]"
      ]
     },
     "execution_count": 54,
     "metadata": {},
     "output_type": "execute_result"
    }
   ],
   "source": [
    "term_corr.head()"
   ]
  },
  {
   "cell_type": "code",
   "execution_count": 55,
   "metadata": {
    "colab": {},
    "colab_type": "code",
    "id": "a6EXs82eK4Oj"
   },
   "outputs": [],
   "source": [
    "def get_termlist(df, term_str, limit=15):\n",
    "    try:\n",
    "        list = df[term_str].sort_values(ascending=False).head(limit).reset_index()\n",
    "        print(list)\n",
    "    except KeyError:\n",
    "        print(term_str, 'not in vocab')"
   ]
  },
  {
   "cell_type": "code",
   "execution_count": 39,
   "metadata": {
    "colab": {},
    "colab_type": "code",
    "id": "a6EXs82eK4Oj"
   },
   "outputs": [
    {
     "name": "stdout",
     "output_type": "stream",
     "text": [
      "     term_str      love\n",
      "0        love  1.000000\n",
      "1       heart  0.644291\n",
      "2   affection  0.606222\n",
      "3     passion  0.601325\n",
      "4       bosom  0.543533\n",
      "5        feel  0.519854\n",
      "6      longer  0.519612\n",
      "7        pity  0.514114\n",
      "8     conceal  0.506583\n",
      "9   concealed  0.499347\n",
      "10    despair  0.490020\n",
      "11     wishes  0.481847\n",
      "12       quit  0.479313\n",
      "13       stay  0.476010\n",
      "14     suffer  0.470613\n"
     ]
    }
   ],
   "source": [
    "get_termlist(term_corr, 'love')"
   ]
  },
  {
   "cell_type": "code",
   "execution_count": 48,
   "metadata": {},
   "outputs": [
    {
     "name": "stdout",
     "output_type": "stream",
     "text": [
      "       term_str  knowledge\n",
      "0     knowledge   1.000000\n",
      "1        single   0.423368\n",
      "2         means   0.418402\n",
      "3   opportunity   0.412537\n",
      "4         agnes   0.394915\n",
      "5       success   0.387304\n",
      "6        action   0.386748\n",
      "7      prepared   0.382378\n",
      "8    difficulty   0.370884\n",
      "9           use   0.368804\n",
      "10         hand   0.366470\n",
      "11         time   0.362611\n",
      "12         life   0.359449\n",
      "13         mine   0.357370\n",
      "14         past   0.355924\n"
     ]
    }
   ],
   "source": [
    "get_termlist(term_corr, 'knowledge')"
   ]
  },
  {
   "cell_type": "code",
   "execution_count": 40,
   "metadata": {},
   "outputs": [
    {
     "name": "stdout",
     "output_type": "stream",
     "text": [
      "     term_str    murder\n",
      "0      murder  1.000000\n",
      "1   committed  0.834717\n",
      "2        body  0.821819\n",
      "3    evidence  0.748893\n",
      "4      period  0.738834\n",
      "5      thrown  0.716075\n",
      "6        fact  0.694741\n",
      "7    supposed  0.686107\n",
      "8    although  0.682517\n",
      "9   suspicion  0.672503\n",
      "10      river  0.655437\n",
      "11      found  0.639893\n",
      "12      point  0.613830\n",
      "13       thus  0.605615\n",
      "14      known  0.591836\n"
     ]
    }
   ],
   "source": [
    "get_termlist(term_corr, 'murder')"
   ]
  },
  {
   "cell_type": "code",
   "execution_count": 43,
   "metadata": {},
   "outputs": [
    {
     "name": "stdout",
     "output_type": "stream",
     "text": [
      "     term_str     death\n",
      "0       death  1.000000\n",
      "1   existence  0.504091\n",
      "2     despair  0.488443\n",
      "3        eyes  0.483253\n",
      "4        vain  0.481634\n",
      "5       grave  0.476854\n",
      "6        fate  0.475554\n",
      "7      horror  0.474909\n",
      "8        soul  0.458681\n",
      "9    strength  0.456004\n",
      "10      hopes  0.444222\n",
      "11        lay  0.444061\n",
      "12       arms  0.441666\n",
      "13       died  0.441654\n",
      "14     raised  0.438287\n"
     ]
    }
   ],
   "source": [
    "get_termlist(term_corr, 'death')"
   ]
  },
  {
   "cell_type": "markdown",
   "metadata": {
    "colab_type": "text",
    "id": "cGuKbe7yJcfj"
   },
   "source": [
    "### Doc-Doc Comparisons"
   ]
  },
  {
   "cell_type": "code",
   "execution_count": 56,
   "metadata": {},
   "outputs": [],
   "source": [
    "doc_corr = TFIDF.T.corr()"
   ]
  },
  {
   "cell_type": "code",
   "execution_count": 66,
   "metadata": {},
   "outputs": [],
   "source": [
    "def get_doclist(df, doc_id, limit=15):\n",
    "    try:\n",
    "        list = df[doc_id].sort_values(ascending=False).head(limit)\n",
    "        t = bags.loc[list.index].copy()\n",
    "        t['w'] = list\n",
    "        print(t)\n",
    "    except KeyError:\n",
    "        print(doc_id, 'not in docs')"
   ]
  },
  {
   "cell_type": "code",
   "execution_count": 67,
   "metadata": {},
   "outputs": [
    {
     "data": {
      "text/html": [
       "<div>\n",
       "<style scoped>\n",
       "    .dataframe tbody tr th:only-of-type {\n",
       "        vertical-align: middle;\n",
       "    }\n",
       "\n",
       "    .dataframe tbody tr th {\n",
       "        vertical-align: top;\n",
       "    }\n",
       "\n",
       "    .dataframe thead th {\n",
       "        text-align: right;\n",
       "    }\n",
       "</style>\n",
       "<table border=\"1\" class=\"dataframe\">\n",
       "  <thead>\n",
       "    <tr style=\"text-align: right;\">\n",
       "      <th></th>\n",
       "      <th>genre</th>\n",
       "      <th>author</th>\n",
       "      <th>book</th>\n",
       "      <th>chapter</th>\n",
       "    </tr>\n",
       "    <tr>\n",
       "      <th>bag_id</th>\n",
       "      <th></th>\n",
       "      <th></th>\n",
       "      <th></th>\n",
       "      <th></th>\n",
       "    </tr>\n",
       "  </thead>\n",
       "  <tbody>\n",
       "    <tr>\n",
       "      <th>134</th>\n",
       "      <td>d</td>\n",
       "      <td>poe</td>\n",
       "      <td>marieroget</td>\n",
       "      <td>1</td>\n",
       "    </tr>\n",
       "    <tr>\n",
       "      <th>135</th>\n",
       "      <td>d</td>\n",
       "      <td>poe</td>\n",
       "      <td>ruemorgue</td>\n",
       "      <td>1</td>\n",
       "    </tr>\n",
       "    <tr>\n",
       "      <th>184</th>\n",
       "      <td>g</td>\n",
       "      <td>poe</td>\n",
       "      <td>pitandpendulum</td>\n",
       "      <td>1</td>\n",
       "    </tr>\n",
       "    <tr>\n",
       "      <th>185</th>\n",
       "      <td>g</td>\n",
       "      <td>poe</td>\n",
       "      <td>reddeath</td>\n",
       "      <td>1</td>\n",
       "    </tr>\n",
       "    <tr>\n",
       "      <th>186</th>\n",
       "      <td>g</td>\n",
       "      <td>poe</td>\n",
       "      <td>usher</td>\n",
       "      <td>1</td>\n",
       "    </tr>\n",
       "  </tbody>\n",
       "</table>\n",
       "</div>"
      ],
      "text/plain": [
       "       genre author            book  chapter\n",
       "bag_id                                      \n",
       "134        d    poe      marieroget        1\n",
       "135        d    poe       ruemorgue        1\n",
       "184        g    poe  pitandpendulum        1\n",
       "185        g    poe        reddeath        1\n",
       "186        g    poe           usher        1"
      ]
     },
     "execution_count": 67,
     "metadata": {},
     "output_type": "execute_result"
    }
   ],
   "source": [
    "bags.loc[bags.author == 'poe']"
   ]
  },
  {
   "cell_type": "code",
   "execution_count": 65,
   "metadata": {},
   "outputs": [
    {
     "name": "stdout",
     "output_type": "stream",
     "text": [
      "       genre   author            book  chapter         w\n",
      "bag_id                                                  \n",
      "186        g      poe           usher        1  1.000000\n",
      "184        g      poe  pitandpendulum        1  0.460863\n",
      "185        g      poe        reddeath        1  0.272976\n",
      "135        d      poe       ruemorgue        1  0.239617\n",
      "269        g  shelley    frankenstein       44  0.151190\n",
      "257        g  shelley    frankenstein       32  0.146313\n",
      "134        d      poe      marieroget        1  0.145544\n",
      "278        g  shelley    frankenstein       53  0.142943\n",
      "267        g  shelley    frankenstein       42  0.140324\n",
      "265        g  shelley    frankenstein       40  0.121911\n",
      "266        g  shelley    frankenstein       41  0.117814\n",
      "264        g  shelley    frankenstein       39  0.116814\n",
      "270        g  shelley    frankenstein       45  0.110083\n",
      "275        g  shelley    frankenstein       50  0.109279\n",
      "281        g  shelley    frankenstein       56  0.101768\n"
     ]
    }
   ],
   "source": [
    "get_doclist(doc_corr, 186) "
   ]
  },
  {
   "cell_type": "code",
   "execution_count": null,
   "metadata": {
    "colab": {},
    "colab_type": "code",
    "id": "E3BY34SP68yR"
   },
   "outputs": [],
   "source": [
    "# END"
   ]
  }
 ],
 "metadata": {
  "colab": {
   "collapsed_sections": [],
   "name": "TextmanVectorSpaceMaker.ipynb",
   "provenance": [
    {
     "file_id": "1UJXtZFtWykmkbZSLyLxpKmwiGhXr1w6P",
     "timestamp": 1550268040004
    }
   ],
   "toc_visible": true,
   "version": "0.3.2"
  },
  "kernelspec": {
   "display_name": "Python 3",
   "language": "python",
   "name": "python3"
  },
  "language_info": {
   "codemirror_mode": {
    "name": "ipython",
    "version": 3
   },
   "file_extension": ".py",
   "mimetype": "text/x-python",
   "name": "python",
   "nbconvert_exporter": "python",
   "pygments_lexer": "ipython3",
   "version": "3.7.2"
  }
 },
 "nbformat": 4,
 "nbformat_minor": 2
}
