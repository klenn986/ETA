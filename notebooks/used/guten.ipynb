{
 "cells": [
  {
   "cell_type": "code",
   "execution_count": 12,
   "metadata": {},
   "outputs": [],
   "source": [
    "import pandas as pd\n",
    "import glob\n",
    "import re\n",
    "import xml.etree.ElementTree as ET\n",
    "import requests"
   ]
  },
  {
   "cell_type": "code",
   "execution_count": 13,
   "metadata": {},
   "outputs": [],
   "source": [
    "gut_url = 'https://www.gutenberg.org/ebooks/{}'\n",
    "gut_txt = 'https://www.gutenberg.org/ebooks/{}.txt.utf-8'\n",
    "\n",
    "data_dir = '/home/rca2t/Public/ETA/data/gutenberg/cache/epub'\n",
    "epub_path = data_dir + '/{0}/pg{0}.rdf'\n",
    "TAG = re.compile(r'<[^>]+>')"
   ]
  },
  {
   "cell_type": "code",
   "execution_count": 15,
   "metadata": {},
   "outputs": [],
   "source": [
    "gids = [int(path.split('/')[-1]) for path in glob.glob(data_dir+'/*')]\n",
    "gids = sorted(gids)"
   ]
  },
  {
   "cell_type": "code",
   "execution_count": 59,
   "metadata": {},
   "outputs": [],
   "source": [
    "df = pd.DataFrame(gids,  columns=['gut_id'])\n",
    "df = df.set_index('gut_id')"
   ]
  },
  {
   "cell_type": "markdown",
   "metadata": {},
   "source": [
    "# XML Processing"
   ]
  },
  {
   "cell_type": "code",
   "execution_count": 63,
   "metadata": {},
   "outputs": [],
   "source": [
    "ns = dict(base=\"http://www.gutenberg.org/\",\n",
    "    rdfs=\"http://www.w3.org/2000/01/rdf-schema#\",\n",
    "    rdf=\"http://www.w3.org/1999/02/22-rdf-syntax-ns#\",\n",
    "    marcrel=\"http://id.loc.gov/vocabulary/relators/\",\n",
    "    pgterms=\"http://www.gutenberg.org/2009/pgterms/\",\n",
    "    cc=\"http://web.resource.org/cc/\",\n",
    "    dcam=\"http://purl.org/dc/dcam/\",\n",
    "    dcterms=\"http://purl.org/dc/terms/\")"
   ]
  },
  {
   "cell_type": "code",
   "execution_count": 64,
   "metadata": {},
   "outputs": [],
   "source": [
    "xpaths = dict(\n",
    "    subjects = \".//dcterms:subject/rdf:Description/rdf:value\",\n",
    "    bookshelves = \".//pgterms:bookshelf/rdf:Description/rdf:value\",\n",
    "    languages = \".//dcterms:language/rdf:Description/rdf:value\",\n",
    "    agents = \".//marcrel:ill/pgterms:agent/pgterms:name\",\n",
    "    rights = \".//dcterms:rights\",\n",
    "    title = \".//dcterms:title\",\n",
    "    types = \".//dcterms:type/rdf:Description/rdf:value\",\n",
    "    creators = \".//dcterms:creator/pgterms:agent/pgterms:name\",\n",
    "    formats = \".//dcterms:hasFormat/pgterms:file/dcterms:format/rdf:Description/rdf:value\"\n",
    ")"
   ]
  },
  {
   "cell_type": "code",
   "execution_count": 289,
   "metadata": {},
   "outputs": [],
   "source": [
    "default_format='text/plain; charset=utf-8'\n",
    "default_formats = [\"text/plain; charset={}\".format(cs) \n",
    "                   for cs in ['utf8', 'ascii', 'iso-8859-1']]\n",
    "default_formats += ['text/plain']"
   ]
  },
  {
   "cell_type": "code",
   "execution_count": 290,
   "metadata": {},
   "outputs": [
    {
     "data": {
      "text/plain": [
       "['text/plain; charset=utf8',\n",
       " 'text/plain; charset=ascii',\n",
       " 'text/plain; charset=iso-8859-1',\n",
       " 'text/plain']"
      ]
     },
     "execution_count": 290,
     "metadata": {},
     "output_type": "execute_result"
    }
   ],
   "source": [
    "default_formats"
   ]
  },
  {
   "cell_type": "code",
   "execution_count": 65,
   "metadata": {},
   "outputs": [],
   "source": [
    "for item in xpaths:\n",
    "    df[item] = None"
   ]
  },
  {
   "cell_type": "code",
   "execution_count": 66,
   "metadata": {},
   "outputs": [],
   "source": [
    "def get_rdf(gut_id, data_dir=data_dir):\n",
    "    path = \"{0}/{1}/pg{1}.rdf\".format(data_dir, gut_id)\n",
    "    rdf = open(path, 'r').read()\n",
    "    return rdf"
   ]
  },
  {
   "cell_type": "code",
   "execution_count": 67,
   "metadata": {},
   "outputs": [],
   "source": [
    "def get_text_url(gut_id):\n",
    "    gut_txt = 'https://www.gutenberg.org/ebooks/{}.txt.utf-8'.format(gut_id)\n",
    "    return gut_txt"
   ]
  },
  {
   "cell_type": "code",
   "execution_count": 68,
   "metadata": {},
   "outputs": [],
   "source": [
    "def get_text_content(gut_id):\n",
    "    gut_url = get_text_url(gut_id)\n",
    "    r = requests.get(gut_url)\n",
    "    return r.text"
   ]
  },
  {
   "cell_type": "code",
   "execution_count": 69,
   "metadata": {},
   "outputs": [],
   "source": [
    "def get_items(el, xpath, ns=ns):\n",
    "    items = [item.text for item in el.findall(xpath, namespaces=ns)]\n",
    "    return items"
   ]
  },
  {
   "cell_type": "code",
   "execution_count": 70,
   "metadata": {},
   "outputs": [],
   "source": [
    "def get_rdf_root(gut_id):\n",
    "    rdf = get_rdf(gut_id)\n",
    "    root = ET.fromstring(rdf)\n",
    "    return root "
   ]
  },
  {
   "cell_type": "code",
   "execution_count": 71,
   "metadata": {},
   "outputs": [],
   "source": [
    "def is_text(formats, default_format='text/plain; charset=utf-8'):\n",
    "    return "
   ]
  },
  {
   "cell_type": "code",
   "execution_count": 72,
   "metadata": {},
   "outputs": [],
   "source": [
    "def get_metadata(gut_id):\n",
    "    rdf_root = get_rdf_root(gut_id)\n",
    "    md = {}\n",
    "    for item in xpaths:\n",
    "        md[item] = get_items(rdf_root, xpaths[item])\n",
    "    return md"
   ]
  },
  {
   "cell_type": "code",
   "execution_count": 121,
   "metadata": {},
   "outputs": [],
   "source": [
    "md = get_metadata(120)"
   ]
  },
  {
   "cell_type": "code",
   "execution_count": 122,
   "metadata": {},
   "outputs": [
    {
     "data": {
      "text/plain": [
       "{'subjects': ['Treasure Island (Imaginary place) -- Fiction',\n",
       "  'Pirates -- Fiction',\n",
       "  'Treasure troves -- Fiction',\n",
       "  'PZ',\n",
       "  'Sea stories',\n",
       "  'PR'],\n",
       " 'bookshelves': ['Pirates, Buccaneers, Corsairs, etc.',\n",
       "  'Historical Fiction',\n",
       "  \"Children's Literature\",\n",
       "  'Best Books Ever Listings'],\n",
       " 'languages': ['en'],\n",
       " 'agents': ['Rhead, Louis'],\n",
       " 'rights': ['Public domain in the USA.'],\n",
       " 'title': ['Treasure Island'],\n",
       " 'types': ['Text'],\n",
       " 'creators': ['Stevenson, Robert Louis'],\n",
       " 'formats': ['text/plain; charset=utf-8',\n",
       "  'application/zip',\n",
       "  'application/epub+zip',\n",
       "  'application/x-mobipocket-ebook',\n",
       "  'image/jpeg',\n",
       "  'text/html; charset=utf-8',\n",
       "  'application/zip',\n",
       "  'text/html; charset=utf-8',\n",
       "  'image/jpeg',\n",
       "  'text/plain; charset=utf-8',\n",
       "  'application/epub+zip',\n",
       "  'application/rdf+xml',\n",
       "  'application/x-mobipocket-ebook']}"
      ]
     },
     "execution_count": 122,
     "metadata": {},
     "output_type": "execute_result"
    }
   ],
   "source": [
    "md"
   ]
  },
  {
   "cell_type": "code",
   "execution_count": 132,
   "metadata": {},
   "outputs": [],
   "source": [
    "# def get_data(x):\n",
    "#     gut_id = x.name\n",
    "#     md = get_metadata(gut_id)\n",
    "#     for item in md.keys():\n",
    "#         x[item] = md[item]\n",
    "# #         print(item, md[item])\n",
    "#     return x"
   ]
  },
  {
   "cell_type": "code",
   "execution_count": 137,
   "metadata": {},
   "outputs": [],
   "source": [
    "# def populate_df(gid_x=0, gid_y=-1):\n",
    "#     df = pd.DataFrame(gids[gid_x:gid_y], columns=['gut_id'])\n",
    "#     df = df.set_index('gut_id')\n",
    "#     for item in xpaths:\n",
    "#         df[item] = None\n",
    "#     df = df.apply(get_data, axis=1)\n",
    "# #     df.title = df.title.str.replace('&#13;', '')\n",
    "#     return df"
   ]
  },
  {
   "cell_type": "code",
   "execution_count": 147,
   "metadata": {},
   "outputs": [],
   "source": [
    "def populate_df2(gids):\n",
    "    data = []\n",
    "    for gid in gids:\n",
    "        md = get_metadata(gid)\n",
    "        for key in md.keys():\n",
    "            for val in md[key]:\n",
    "                data.append((gid, key, val))\n",
    "    df = pd.DataFrame(data, columns=['gid','key','val'])\n",
    "    return df"
   ]
  },
  {
   "cell_type": "code",
   "execution_count": 156,
   "metadata": {},
   "outputs": [],
   "source": [
    "df = populate_df2(gids)"
   ]
  },
  {
   "cell_type": "code",
   "execution_count": 291,
   "metadata": {},
   "outputs": [],
   "source": [
    "df_wide = df.groupby(['gid', 'key']).val.apply(lambda x: '|'.join(x)).unstack()"
   ]
  },
  {
   "cell_type": "code",
   "execution_count": 293,
   "metadata": {},
   "outputs": [],
   "source": [
    "df_wide = df_wide.loc[df_wide.languages == 'en']"
   ]
  },
  {
   "cell_type": "code",
   "execution_count": 296,
   "metadata": {},
   "outputs": [
    {
     "data": {
      "text/plain": [
       "'text/plain; charset=utf8|text/plain; charset=ascii|text/plain; charset=iso-8859-1|text/plain'"
      ]
     },
     "execution_count": 296,
     "metadata": {},
     "output_type": "execute_result"
    }
   ],
   "source": [
    "dfs = '|'.join(default_formats)"
   ]
  },
  {
   "cell_type": "code",
   "execution_count": 298,
   "metadata": {},
   "outputs": [
    {
     "ename": "ValueError",
     "evalue": "cannot index with vector containing NA / NaN values",
     "output_type": "error",
     "traceback": [
      "\u001b[0;31m---------------------------------------------------------------------------\u001b[0m",
      "\u001b[0;31mValueError\u001b[0m                                Traceback (most recent call last)",
      "\u001b[0;32m<ipython-input-298-f017bc229302>\u001b[0m in \u001b[0;36m<module>\u001b[0;34m()\u001b[0m\n\u001b[0;32m----> 1\u001b[0;31m \u001b[0mdf_wide\u001b[0m \u001b[0;34m=\u001b[0m \u001b[0mdf_wide\u001b[0m\u001b[0;34m.\u001b[0m\u001b[0mloc\u001b[0m\u001b[0;34m[\u001b[0m\u001b[0mdf_wide\u001b[0m\u001b[0;34m.\u001b[0m\u001b[0mformats\u001b[0m\u001b[0;34m.\u001b[0m\u001b[0mstr\u001b[0m\u001b[0;34m.\u001b[0m\u001b[0mmatch\u001b[0m\u001b[0;34m(\u001b[0m\u001b[0;34mr\"^\\s*({})\\s*$\"\u001b[0m\u001b[0;34m.\u001b[0m\u001b[0mformat\u001b[0m\u001b[0;34m(\u001b[0m\u001b[0mdfs\u001b[0m\u001b[0;34m)\u001b[0m\u001b[0;34m)\u001b[0m\u001b[0;34m]\u001b[0m\u001b[0;34m\u001b[0m\u001b[0m\n\u001b[0m",
      "\u001b[0;32m/apps/software/standard/core/anaconda/5.2.0-py3.6/lib/python3.6/site-packages/pandas/core/indexing.py\u001b[0m in \u001b[0;36m__getitem__\u001b[0;34m(self, key)\u001b[0m\n\u001b[1;32m   1476\u001b[0m \u001b[0;34m\u001b[0m\u001b[0m\n\u001b[1;32m   1477\u001b[0m             \u001b[0mmaybe_callable\u001b[0m \u001b[0;34m=\u001b[0m \u001b[0mcom\u001b[0m\u001b[0;34m.\u001b[0m\u001b[0m_apply_if_callable\u001b[0m\u001b[0;34m(\u001b[0m\u001b[0mkey\u001b[0m\u001b[0;34m,\u001b[0m \u001b[0mself\u001b[0m\u001b[0;34m.\u001b[0m\u001b[0mobj\u001b[0m\u001b[0;34m)\u001b[0m\u001b[0;34m\u001b[0m\u001b[0m\n\u001b[0;32m-> 1478\u001b[0;31m             \u001b[0;32mreturn\u001b[0m \u001b[0mself\u001b[0m\u001b[0;34m.\u001b[0m\u001b[0m_getitem_axis\u001b[0m\u001b[0;34m(\u001b[0m\u001b[0mmaybe_callable\u001b[0m\u001b[0;34m,\u001b[0m \u001b[0maxis\u001b[0m\u001b[0;34m=\u001b[0m\u001b[0maxis\u001b[0m\u001b[0;34m)\u001b[0m\u001b[0;34m\u001b[0m\u001b[0m\n\u001b[0m\u001b[1;32m   1479\u001b[0m \u001b[0;34m\u001b[0m\u001b[0m\n\u001b[1;32m   1480\u001b[0m     \u001b[0;32mdef\u001b[0m \u001b[0m_is_scalar_access\u001b[0m\u001b[0;34m(\u001b[0m\u001b[0mself\u001b[0m\u001b[0;34m,\u001b[0m \u001b[0mkey\u001b[0m\u001b[0;34m)\u001b[0m\u001b[0;34m:\u001b[0m\u001b[0;34m\u001b[0m\u001b[0m\n",
      "\u001b[0;32m/apps/software/standard/core/anaconda/5.2.0-py3.6/lib/python3.6/site-packages/pandas/core/indexing.py\u001b[0m in \u001b[0;36m_getitem_axis\u001b[0;34m(self, key, axis)\u001b[0m\n\u001b[1;32m   1865\u001b[0m             \u001b[0mself\u001b[0m\u001b[0;34m.\u001b[0m\u001b[0m_validate_key\u001b[0m\u001b[0;34m(\u001b[0m\u001b[0mkey\u001b[0m\u001b[0;34m,\u001b[0m \u001b[0maxis\u001b[0m\u001b[0;34m)\u001b[0m\u001b[0;34m\u001b[0m\u001b[0m\n\u001b[1;32m   1866\u001b[0m             \u001b[0;32mreturn\u001b[0m \u001b[0mself\u001b[0m\u001b[0;34m.\u001b[0m\u001b[0m_get_slice_axis\u001b[0m\u001b[0;34m(\u001b[0m\u001b[0mkey\u001b[0m\u001b[0;34m,\u001b[0m \u001b[0maxis\u001b[0m\u001b[0;34m=\u001b[0m\u001b[0maxis\u001b[0m\u001b[0;34m)\u001b[0m\u001b[0;34m\u001b[0m\u001b[0m\n\u001b[0;32m-> 1867\u001b[0;31m         \u001b[0;32melif\u001b[0m \u001b[0mcom\u001b[0m\u001b[0;34m.\u001b[0m\u001b[0mis_bool_indexer\u001b[0m\u001b[0;34m(\u001b[0m\u001b[0mkey\u001b[0m\u001b[0;34m)\u001b[0m\u001b[0;34m:\u001b[0m\u001b[0;34m\u001b[0m\u001b[0m\n\u001b[0m\u001b[1;32m   1868\u001b[0m             \u001b[0;32mreturn\u001b[0m \u001b[0mself\u001b[0m\u001b[0;34m.\u001b[0m\u001b[0m_getbool_axis\u001b[0m\u001b[0;34m(\u001b[0m\u001b[0mkey\u001b[0m\u001b[0;34m,\u001b[0m \u001b[0maxis\u001b[0m\u001b[0;34m=\u001b[0m\u001b[0maxis\u001b[0m\u001b[0;34m)\u001b[0m\u001b[0;34m\u001b[0m\u001b[0m\n\u001b[1;32m   1869\u001b[0m         \u001b[0;32melif\u001b[0m \u001b[0mis_list_like_indexer\u001b[0m\u001b[0;34m(\u001b[0m\u001b[0mkey\u001b[0m\u001b[0;34m)\u001b[0m\u001b[0;34m:\u001b[0m\u001b[0;34m\u001b[0m\u001b[0m\n",
      "\u001b[0;32m/apps/software/standard/core/anaconda/5.2.0-py3.6/lib/python3.6/site-packages/pandas/core/common.py\u001b[0m in \u001b[0;36mis_bool_indexer\u001b[0;34m(key)\u001b[0m\n\u001b[1;32m    105\u001b[0m             \u001b[0;32mif\u001b[0m \u001b[0;32mnot\u001b[0m \u001b[0mlib\u001b[0m\u001b[0;34m.\u001b[0m\u001b[0mis_bool_array\u001b[0m\u001b[0;34m(\u001b[0m\u001b[0mkey\u001b[0m\u001b[0;34m)\u001b[0m\u001b[0;34m:\u001b[0m\u001b[0;34m\u001b[0m\u001b[0m\n\u001b[1;32m    106\u001b[0m                 \u001b[0;32mif\u001b[0m \u001b[0misna\u001b[0m\u001b[0;34m(\u001b[0m\u001b[0mkey\u001b[0m\u001b[0;34m)\u001b[0m\u001b[0;34m.\u001b[0m\u001b[0many\u001b[0m\u001b[0;34m(\u001b[0m\u001b[0;34m)\u001b[0m\u001b[0;34m:\u001b[0m\u001b[0;34m\u001b[0m\u001b[0m\n\u001b[0;32m--> 107\u001b[0;31m                     raise ValueError('cannot index with vector containing '\n\u001b[0m\u001b[1;32m    108\u001b[0m                                      'NA / NaN values')\n\u001b[1;32m    109\u001b[0m                 \u001b[0;32mreturn\u001b[0m \u001b[0;32mFalse\u001b[0m\u001b[0;34m\u001b[0m\u001b[0m\n",
      "\u001b[0;31mValueError\u001b[0m: cannot index with vector containing NA / NaN values"
     ]
    }
   ],
   "source": [
    "df_wide = df_wide.loc[df_wide.formats.str.match(r\"^\\s*({})\\s*$\".format(dfs))]"
   ]
  },
  {
   "cell_type": "code",
   "execution_count": 192,
   "metadata": {},
   "outputs": [
    {
     "name": "stdout",
     "output_type": "stream",
     "text": [
      "subjects\n",
      "bookshelves\n",
      "languages\n",
      "agents\n",
      "rights\n",
      "title\n",
      "types\n",
      "creators\n",
      "formats\n"
     ]
    }
   ],
   "source": [
    "tables = {}\n",
    "for key in xpaths.keys():\n",
    "    print(key)\n",
    "    items = df.loc[df.key==key, ['gid','val']]\n",
    "    items = items.set_index('gid')\n",
    "    items = pd.Series(items.val)\n",
    "    tables[key] = items"
   ]
  },
  {
   "cell_type": "code",
   "execution_count": 200,
   "metadata": {},
   "outputs": [],
   "source": [
    "UTF = tables['formats'].str.contains('text/plain; charset=utf')"
   ]
  },
  {
   "cell_type": "code",
   "execution_count": 211,
   "metadata": {},
   "outputs": [
    {
     "data": {
      "text/plain": [
       "gid\n",
       "1         The Declaration of Independence of the United ...\n",
       "2         The United States Bill of Rights\\r\\nThe Ten Or...\n",
       "3                       John F. Kennedy's Inaugural Address\n",
       "4         Lincoln's Gettysburg Address\\r\\nGiven November...\n",
       "5                            The United States Constitution\n",
       "6                          Give Me Liberty or Give Me Death\n",
       "7                                     The Mayflower Compact\n",
       "8                Abraham Lincoln's Second Inaugural Address\n",
       "9                 Abraham Lincoln's First Inaugural Address\n",
       "10                      The King James Version of the Bible\n",
       "11                         Alice's Adventures in Wonderland\n",
       "12                                Through the Looking-Glass\n",
       "13         The Hunting of the Snark: An Agony in Eight Fits\n",
       "14                              The 1990 CIA World Factbook\n",
       "15                                                Moby Dick\n",
       "16                                                Peter Pan\n",
       "17        The Book of Mormon\\r\\nAn Account Written by th...\n",
       "18                                    The Federalist Papers\n",
       "19                                     The Song of Hiawatha\n",
       "20                                            Paradise Lost\n",
       "21        Aesop's Fables\\r\\nTranslated by George Fyler T...\n",
       "22                                        Roget's Thesaurus\n",
       "23        Narrative of the Life of Frederick Douglass, a...\n",
       "24                                              O Pioneers!\n",
       "25                              The 1991 CIA World Factbook\n",
       "26                                            Paradise Lost\n",
       "27                               Far from the Madding Crowd\n",
       "28                                           Aesop's Fables\n",
       "29                            The 1990 United States Census\n",
       "30                  The Bible, King James Version, Complete\n",
       "                                ...                        \n",
       "60262                                   Where Are We Going?\n",
       "60263                                    Verses and Sonnets\n",
       "60264     The Virtue and Use of Coffee With Regard to th...\n",
       "60265         The Red Cross Girls on the French Firing Line\n",
       "60266                            Kesätoverit: Meren säveliä\n",
       "60267     Five Minute Sermons, Volume II.\\r\\nFor Low Mas...\n",
       "60268     Covered With Mud and Glory: A Machine Gun Comp...\n",
       "60269     Along the Mohawk Trail; Or, Boy Scouts on Lake...\n",
       "60270                   Deep Sea Hunters in the Frozen Seas\n",
       "60271     From Newton to Einstein: Changing Conceptions ...\n",
       "60272                              Tales of a Cruel Country\n",
       "60273                                     Leave it to Doris\n",
       "60274                                       Yhdenvertaisuus\n",
       "60275     Bobbins of Belgium\\nA book of Belgian lace, la...\n",
       "60276                                Splashing Into Society\n",
       "60277     Aërial Navigation\\r\\nA Popular Treatise on the...\n",
       "60278                               The Thirteen Travellers\n",
       "60279                   Pele and Hiiaka: A Myth From Hawaii\n",
       "60280                                       A London Mosaic\n",
       "60281     L'origine della Famiglia della Proprietà priva...\n",
       "60282     African Colonization by the Free Colored Peopl...\n",
       "60283                                The Birds and the Bees\n",
       "60284                       Clemencia\\nNovela de costumbres\n",
       "60285     The Delmonico Cook Book\\nHow to Buy Food, How ...\n",
       "60286     The collected works of William Hazlitt, Vol. 0...\n",
       "60287                                    Nousukas\\nKertomus\n",
       "60288                 Harper's Round Table, January 5, 1897\n",
       "60289                         Science Primers, Introductory\n",
       "60290     The Nineteenth and Their Times\\nBeing an Accou...\n",
       "999999                                        Piccole anime\n",
       "Name: val, Length: 60211, dtype: object"
      ]
     },
     "execution_count": 211,
     "metadata": {},
     "output_type": "execute_result"
    }
   ],
   "source": [
    "tables['title']"
   ]
  },
  {
   "cell_type": "code",
   "execution_count": 212,
   "metadata": {},
   "outputs": [],
   "source": [
    "data_dir2 = '/home/rca2t/Public/ETA/data/gutenberg'"
   ]
  },
  {
   "cell_type": "code",
   "execution_count": 213,
   "metadata": {},
   "outputs": [],
   "source": [
    "import sqlite3"
   ]
  },
  {
   "cell_type": "code",
   "execution_count": 216,
   "metadata": {},
   "outputs": [
    {
     "name": "stdout",
     "output_type": "stream",
     "text": [
      "subjects\n",
      "bookshelves\n",
      "languages\n",
      "agents\n",
      "rights\n",
      "title\n",
      "types\n",
      "creators\n",
      "formats\n"
     ]
    }
   ],
   "source": [
    "with sqlite3.connect(data_dir2 + '/gutenberg.db') as db:\n",
    "    for table in tables:\n",
    "        print(table)\n",
    "        tables[table].to_sql(table, db, index=True, if_exists='replace')"
   ]
  },
  {
   "cell_type": "code",
   "execution_count": 236,
   "metadata": {},
   "outputs": [
    {
     "data": {
      "text/plain": [
       "text/plain; charset=us-ascii      75474\n",
       "text/plain; charset=iso-8859-1    70502\n",
       "text/plain                        43464\n",
       "text/plain; charset=utf-8         34860\n",
       "Name: val, dtype: int64"
      ]
     },
     "execution_count": 236,
     "metadata": {},
     "output_type": "execute_result"
    }
   ],
   "source": [
    "df.loc[(df.key=='formats') &  (df.val.str.match('text/plain'))].val.value_counts()[:4]"
   ]
  },
  {
   "cell_type": "code",
   "execution_count": 248,
   "metadata": {},
   "outputs": [],
   "source": [
    "def get_works_by(name_pat):\n",
    "    creators = pd.DataFrame(tables['creators'])\n",
    "    titles = pd.DataFrame(tables['title'])\n",
    "    works = titles.loc[creators.val.str.contains(name_pat)]\n",
    "    return works"
   ]
  },
  {
   "cell_type": "code",
   "execution_count": 249,
   "metadata": {},
   "outputs": [
    {
     "ename": "ValueError",
     "evalue": "cannot reindex from a duplicate axis",
     "output_type": "error",
     "traceback": [
      "\u001b[0;31m---------------------------------------------------------------------------\u001b[0m",
      "\u001b[0;31mValueError\u001b[0m                                Traceback (most recent call last)",
      "\u001b[0;32m<ipython-input-249-36297ff041ce>\u001b[0m in \u001b[0;36m<module>\u001b[0;34m()\u001b[0m\n\u001b[0;32m----> 1\u001b[0;31m \u001b[0mmilton\u001b[0m \u001b[0;34m=\u001b[0m \u001b[0mget_works_by\u001b[0m\u001b[0;34m(\u001b[0m\u001b[0;34m'Milton, John'\u001b[0m\u001b[0;34m)\u001b[0m\u001b[0;34m\u001b[0m\u001b[0m\n\u001b[0m",
      "\u001b[0;32m<ipython-input-248-6c02228f9ff0>\u001b[0m in \u001b[0;36mget_works_by\u001b[0;34m(name_pat)\u001b[0m\n\u001b[1;32m      2\u001b[0m     \u001b[0mcreators\u001b[0m \u001b[0;34m=\u001b[0m \u001b[0mpd\u001b[0m\u001b[0;34m.\u001b[0m\u001b[0mDataFrame\u001b[0m\u001b[0;34m(\u001b[0m\u001b[0mtables\u001b[0m\u001b[0;34m[\u001b[0m\u001b[0;34m'creators'\u001b[0m\u001b[0;34m]\u001b[0m\u001b[0;34m)\u001b[0m\u001b[0;34m\u001b[0m\u001b[0m\n\u001b[1;32m      3\u001b[0m     \u001b[0mtitles\u001b[0m \u001b[0;34m=\u001b[0m \u001b[0mpd\u001b[0m\u001b[0;34m.\u001b[0m\u001b[0mDataFrame\u001b[0m\u001b[0;34m(\u001b[0m\u001b[0mtables\u001b[0m\u001b[0;34m[\u001b[0m\u001b[0;34m'title'\u001b[0m\u001b[0;34m]\u001b[0m\u001b[0;34m)\u001b[0m\u001b[0;34m\u001b[0m\u001b[0m\n\u001b[0;32m----> 4\u001b[0;31m     \u001b[0mworks\u001b[0m \u001b[0;34m=\u001b[0m \u001b[0mtitles\u001b[0m\u001b[0;34m.\u001b[0m\u001b[0mloc\u001b[0m\u001b[0;34m[\u001b[0m\u001b[0mcreators\u001b[0m\u001b[0;34m.\u001b[0m\u001b[0mval\u001b[0m\u001b[0;34m.\u001b[0m\u001b[0mstr\u001b[0m\u001b[0;34m.\u001b[0m\u001b[0mcontains\u001b[0m\u001b[0;34m(\u001b[0m\u001b[0mname_pat\u001b[0m\u001b[0;34m)\u001b[0m\u001b[0;34m]\u001b[0m\u001b[0;34m\u001b[0m\u001b[0m\n\u001b[0m\u001b[1;32m      5\u001b[0m     \u001b[0;32mreturn\u001b[0m \u001b[0mworks\u001b[0m\u001b[0;34m\u001b[0m\u001b[0m\n",
      "\u001b[0;32m/apps/software/standard/core/anaconda/5.2.0-py3.6/lib/python3.6/site-packages/pandas/core/indexing.py\u001b[0m in \u001b[0;36m__getitem__\u001b[0;34m(self, key)\u001b[0m\n\u001b[1;32m   1476\u001b[0m \u001b[0;34m\u001b[0m\u001b[0m\n\u001b[1;32m   1477\u001b[0m             \u001b[0mmaybe_callable\u001b[0m \u001b[0;34m=\u001b[0m \u001b[0mcom\u001b[0m\u001b[0;34m.\u001b[0m\u001b[0m_apply_if_callable\u001b[0m\u001b[0;34m(\u001b[0m\u001b[0mkey\u001b[0m\u001b[0;34m,\u001b[0m \u001b[0mself\u001b[0m\u001b[0;34m.\u001b[0m\u001b[0mobj\u001b[0m\u001b[0;34m)\u001b[0m\u001b[0;34m\u001b[0m\u001b[0m\n\u001b[0;32m-> 1478\u001b[0;31m             \u001b[0;32mreturn\u001b[0m \u001b[0mself\u001b[0m\u001b[0;34m.\u001b[0m\u001b[0m_getitem_axis\u001b[0m\u001b[0;34m(\u001b[0m\u001b[0mmaybe_callable\u001b[0m\u001b[0;34m,\u001b[0m \u001b[0maxis\u001b[0m\u001b[0;34m=\u001b[0m\u001b[0maxis\u001b[0m\u001b[0;34m)\u001b[0m\u001b[0;34m\u001b[0m\u001b[0m\n\u001b[0m\u001b[1;32m   1479\u001b[0m \u001b[0;34m\u001b[0m\u001b[0m\n\u001b[1;32m   1480\u001b[0m     \u001b[0;32mdef\u001b[0m \u001b[0m_is_scalar_access\u001b[0m\u001b[0;34m(\u001b[0m\u001b[0mself\u001b[0m\u001b[0;34m,\u001b[0m \u001b[0mkey\u001b[0m\u001b[0;34m)\u001b[0m\u001b[0;34m:\u001b[0m\u001b[0;34m\u001b[0m\u001b[0m\n",
      "\u001b[0;32m/apps/software/standard/core/anaconda/5.2.0-py3.6/lib/python3.6/site-packages/pandas/core/indexing.py\u001b[0m in \u001b[0;36m_getitem_axis\u001b[0;34m(self, key, axis)\u001b[0m\n\u001b[1;32m   1866\u001b[0m             \u001b[0;32mreturn\u001b[0m \u001b[0mself\u001b[0m\u001b[0;34m.\u001b[0m\u001b[0m_get_slice_axis\u001b[0m\u001b[0;34m(\u001b[0m\u001b[0mkey\u001b[0m\u001b[0;34m,\u001b[0m \u001b[0maxis\u001b[0m\u001b[0;34m=\u001b[0m\u001b[0maxis\u001b[0m\u001b[0;34m)\u001b[0m\u001b[0;34m\u001b[0m\u001b[0m\n\u001b[1;32m   1867\u001b[0m         \u001b[0;32melif\u001b[0m \u001b[0mcom\u001b[0m\u001b[0;34m.\u001b[0m\u001b[0mis_bool_indexer\u001b[0m\u001b[0;34m(\u001b[0m\u001b[0mkey\u001b[0m\u001b[0;34m)\u001b[0m\u001b[0;34m:\u001b[0m\u001b[0;34m\u001b[0m\u001b[0m\n\u001b[0;32m-> 1868\u001b[0;31m             \u001b[0;32mreturn\u001b[0m \u001b[0mself\u001b[0m\u001b[0;34m.\u001b[0m\u001b[0m_getbool_axis\u001b[0m\u001b[0;34m(\u001b[0m\u001b[0mkey\u001b[0m\u001b[0;34m,\u001b[0m \u001b[0maxis\u001b[0m\u001b[0;34m=\u001b[0m\u001b[0maxis\u001b[0m\u001b[0;34m)\u001b[0m\u001b[0;34m\u001b[0m\u001b[0m\n\u001b[0m\u001b[1;32m   1869\u001b[0m         \u001b[0;32melif\u001b[0m \u001b[0mis_list_like_indexer\u001b[0m\u001b[0;34m(\u001b[0m\u001b[0mkey\u001b[0m\u001b[0;34m)\u001b[0m\u001b[0;34m:\u001b[0m\u001b[0;34m\u001b[0m\u001b[0m\n\u001b[1;32m   1870\u001b[0m \u001b[0;34m\u001b[0m\u001b[0m\n",
      "\u001b[0;32m/apps/software/standard/core/anaconda/5.2.0-py3.6/lib/python3.6/site-packages/pandas/core/indexing.py\u001b[0m in \u001b[0;36m_getbool_axis\u001b[0;34m(self, key, axis)\u001b[0m\n\u001b[1;32m   1491\u001b[0m             \u001b[0maxis\u001b[0m \u001b[0;34m=\u001b[0m \u001b[0mself\u001b[0m\u001b[0;34m.\u001b[0m\u001b[0maxis\u001b[0m \u001b[0;32mor\u001b[0m \u001b[0;36m0\u001b[0m\u001b[0;34m\u001b[0m\u001b[0m\n\u001b[1;32m   1492\u001b[0m         \u001b[0mlabels\u001b[0m \u001b[0;34m=\u001b[0m \u001b[0mself\u001b[0m\u001b[0;34m.\u001b[0m\u001b[0mobj\u001b[0m\u001b[0;34m.\u001b[0m\u001b[0m_get_axis\u001b[0m\u001b[0;34m(\u001b[0m\u001b[0maxis\u001b[0m\u001b[0;34m)\u001b[0m\u001b[0;34m\u001b[0m\u001b[0m\n\u001b[0;32m-> 1493\u001b[0;31m         \u001b[0mkey\u001b[0m \u001b[0;34m=\u001b[0m \u001b[0mcheck_bool_indexer\u001b[0m\u001b[0;34m(\u001b[0m\u001b[0mlabels\u001b[0m\u001b[0;34m,\u001b[0m \u001b[0mkey\u001b[0m\u001b[0;34m)\u001b[0m\u001b[0;34m\u001b[0m\u001b[0m\n\u001b[0m\u001b[1;32m   1494\u001b[0m         \u001b[0minds\u001b[0m\u001b[0;34m,\u001b[0m \u001b[0;34m=\u001b[0m \u001b[0mkey\u001b[0m\u001b[0;34m.\u001b[0m\u001b[0mnonzero\u001b[0m\u001b[0;34m(\u001b[0m\u001b[0;34m)\u001b[0m\u001b[0;34m\u001b[0m\u001b[0m\n\u001b[1;32m   1495\u001b[0m         \u001b[0;32mtry\u001b[0m\u001b[0;34m:\u001b[0m\u001b[0;34m\u001b[0m\u001b[0m\n",
      "\u001b[0;32m/apps/software/standard/core/anaconda/5.2.0-py3.6/lib/python3.6/site-packages/pandas/core/indexing.py\u001b[0m in \u001b[0;36mcheck_bool_indexer\u001b[0;34m(ax, key)\u001b[0m\n\u001b[1;32m   2351\u001b[0m     \u001b[0mresult\u001b[0m \u001b[0;34m=\u001b[0m \u001b[0mkey\u001b[0m\u001b[0;34m\u001b[0m\u001b[0m\n\u001b[1;32m   2352\u001b[0m     \u001b[0;32mif\u001b[0m \u001b[0misinstance\u001b[0m\u001b[0;34m(\u001b[0m\u001b[0mkey\u001b[0m\u001b[0;34m,\u001b[0m \u001b[0mABCSeries\u001b[0m\u001b[0;34m)\u001b[0m \u001b[0;32mand\u001b[0m \u001b[0;32mnot\u001b[0m \u001b[0mkey\u001b[0m\u001b[0;34m.\u001b[0m\u001b[0mindex\u001b[0m\u001b[0;34m.\u001b[0m\u001b[0mequals\u001b[0m\u001b[0;34m(\u001b[0m\u001b[0max\u001b[0m\u001b[0;34m)\u001b[0m\u001b[0;34m:\u001b[0m\u001b[0;34m\u001b[0m\u001b[0m\n\u001b[0;32m-> 2353\u001b[0;31m         \u001b[0mresult\u001b[0m \u001b[0;34m=\u001b[0m \u001b[0mresult\u001b[0m\u001b[0;34m.\u001b[0m\u001b[0mreindex\u001b[0m\u001b[0;34m(\u001b[0m\u001b[0max\u001b[0m\u001b[0;34m)\u001b[0m\u001b[0;34m\u001b[0m\u001b[0m\n\u001b[0m\u001b[1;32m   2354\u001b[0m         \u001b[0mmask\u001b[0m \u001b[0;34m=\u001b[0m \u001b[0misna\u001b[0m\u001b[0;34m(\u001b[0m\u001b[0mresult\u001b[0m\u001b[0;34m.\u001b[0m\u001b[0m_values\u001b[0m\u001b[0;34m)\u001b[0m\u001b[0;34m\u001b[0m\u001b[0m\n\u001b[1;32m   2355\u001b[0m         \u001b[0;32mif\u001b[0m \u001b[0mmask\u001b[0m\u001b[0;34m.\u001b[0m\u001b[0many\u001b[0m\u001b[0;34m(\u001b[0m\u001b[0;34m)\u001b[0m\u001b[0;34m:\u001b[0m\u001b[0;34m\u001b[0m\u001b[0m\n",
      "\u001b[0;32m/apps/software/standard/core/anaconda/5.2.0-py3.6/lib/python3.6/site-packages/pandas/core/series.py\u001b[0m in \u001b[0;36mreindex\u001b[0;34m(self, index, **kwargs)\u001b[0m\n\u001b[1;32m   3323\u001b[0m     \u001b[0;34m@\u001b[0m\u001b[0mAppender\u001b[0m\u001b[0;34m(\u001b[0m\u001b[0mgeneric\u001b[0m\u001b[0;34m.\u001b[0m\u001b[0m_shared_docs\u001b[0m\u001b[0;34m[\u001b[0m\u001b[0;34m'reindex'\u001b[0m\u001b[0;34m]\u001b[0m \u001b[0;34m%\u001b[0m \u001b[0m_shared_doc_kwargs\u001b[0m\u001b[0;34m)\u001b[0m\u001b[0;34m\u001b[0m\u001b[0m\n\u001b[1;32m   3324\u001b[0m     \u001b[0;32mdef\u001b[0m \u001b[0mreindex\u001b[0m\u001b[0;34m(\u001b[0m\u001b[0mself\u001b[0m\u001b[0;34m,\u001b[0m \u001b[0mindex\u001b[0m\u001b[0;34m=\u001b[0m\u001b[0;32mNone\u001b[0m\u001b[0;34m,\u001b[0m \u001b[0;34m**\u001b[0m\u001b[0mkwargs\u001b[0m\u001b[0;34m)\u001b[0m\u001b[0;34m:\u001b[0m\u001b[0;34m\u001b[0m\u001b[0m\n\u001b[0;32m-> 3325\u001b[0;31m         \u001b[0;32mreturn\u001b[0m \u001b[0msuper\u001b[0m\u001b[0;34m(\u001b[0m\u001b[0mSeries\u001b[0m\u001b[0;34m,\u001b[0m \u001b[0mself\u001b[0m\u001b[0;34m)\u001b[0m\u001b[0;34m.\u001b[0m\u001b[0mreindex\u001b[0m\u001b[0;34m(\u001b[0m\u001b[0mindex\u001b[0m\u001b[0;34m=\u001b[0m\u001b[0mindex\u001b[0m\u001b[0;34m,\u001b[0m \u001b[0;34m**\u001b[0m\u001b[0mkwargs\u001b[0m\u001b[0;34m)\u001b[0m\u001b[0;34m\u001b[0m\u001b[0m\n\u001b[0m\u001b[1;32m   3326\u001b[0m \u001b[0;34m\u001b[0m\u001b[0m\n\u001b[1;32m   3327\u001b[0m     def drop(self, labels=None, axis=0, index=None, columns=None,\n",
      "\u001b[0;32m/apps/software/standard/core/anaconda/5.2.0-py3.6/lib/python3.6/site-packages/pandas/core/generic.py\u001b[0m in \u001b[0;36mreindex\u001b[0;34m(self, *args, **kwargs)\u001b[0m\n\u001b[1;32m   3687\u001b[0m         \u001b[0;31m# perform the reindex on the axes\u001b[0m\u001b[0;34m\u001b[0m\u001b[0;34m\u001b[0m\u001b[0m\n\u001b[1;32m   3688\u001b[0m         return self._reindex_axes(axes, level, limit, tolerance, method,\n\u001b[0;32m-> 3689\u001b[0;31m                                   fill_value, copy).__finalize__(self)\n\u001b[0m\u001b[1;32m   3690\u001b[0m \u001b[0;34m\u001b[0m\u001b[0m\n\u001b[1;32m   3691\u001b[0m     def _reindex_axes(self, axes, level, limit, tolerance, method, fill_value,\n",
      "\u001b[0;32m/apps/software/standard/core/anaconda/5.2.0-py3.6/lib/python3.6/site-packages/pandas/core/generic.py\u001b[0m in \u001b[0;36m_reindex_axes\u001b[0;34m(self, axes, level, limit, tolerance, method, fill_value, copy)\u001b[0m\n\u001b[1;32m   3705\u001b[0m             obj = obj._reindex_with_indexers({axis: [new_index, indexer]},\n\u001b[1;32m   3706\u001b[0m                                              \u001b[0mfill_value\u001b[0m\u001b[0;34m=\u001b[0m\u001b[0mfill_value\u001b[0m\u001b[0;34m,\u001b[0m\u001b[0;34m\u001b[0m\u001b[0m\n\u001b[0;32m-> 3707\u001b[0;31m                                              copy=copy, allow_dups=False)\n\u001b[0m\u001b[1;32m   3708\u001b[0m \u001b[0;34m\u001b[0m\u001b[0m\n\u001b[1;32m   3709\u001b[0m         \u001b[0;32mreturn\u001b[0m \u001b[0mobj\u001b[0m\u001b[0;34m\u001b[0m\u001b[0m\n",
      "\u001b[0;32m/apps/software/standard/core/anaconda/5.2.0-py3.6/lib/python3.6/site-packages/pandas/core/generic.py\u001b[0m in \u001b[0;36m_reindex_with_indexers\u001b[0;34m(self, reindexers, fill_value, copy, allow_dups)\u001b[0m\n\u001b[1;32m   3808\u001b[0m                                                 \u001b[0mfill_value\u001b[0m\u001b[0;34m=\u001b[0m\u001b[0mfill_value\u001b[0m\u001b[0;34m,\u001b[0m\u001b[0;34m\u001b[0m\u001b[0m\n\u001b[1;32m   3809\u001b[0m                                                 \u001b[0mallow_dups\u001b[0m\u001b[0;34m=\u001b[0m\u001b[0mallow_dups\u001b[0m\u001b[0;34m,\u001b[0m\u001b[0;34m\u001b[0m\u001b[0m\n\u001b[0;32m-> 3810\u001b[0;31m                                                 copy=copy)\n\u001b[0m\u001b[1;32m   3811\u001b[0m \u001b[0;34m\u001b[0m\u001b[0m\n\u001b[1;32m   3812\u001b[0m         \u001b[0;32mif\u001b[0m \u001b[0mcopy\u001b[0m \u001b[0;32mand\u001b[0m \u001b[0mnew_data\u001b[0m \u001b[0;32mis\u001b[0m \u001b[0mself\u001b[0m\u001b[0;34m.\u001b[0m\u001b[0m_data\u001b[0m\u001b[0;34m:\u001b[0m\u001b[0;34m\u001b[0m\u001b[0m\n",
      "\u001b[0;32m/apps/software/standard/core/anaconda/5.2.0-py3.6/lib/python3.6/site-packages/pandas/core/internals.py\u001b[0m in \u001b[0;36mreindex_indexer\u001b[0;34m(self, new_axis, indexer, axis, fill_value, allow_dups, copy)\u001b[0m\n\u001b[1;32m   4412\u001b[0m         \u001b[0;31m# some axes don't allow reindexing with dups\u001b[0m\u001b[0;34m\u001b[0m\u001b[0;34m\u001b[0m\u001b[0m\n\u001b[1;32m   4413\u001b[0m         \u001b[0;32mif\u001b[0m \u001b[0;32mnot\u001b[0m \u001b[0mallow_dups\u001b[0m\u001b[0;34m:\u001b[0m\u001b[0;34m\u001b[0m\u001b[0m\n\u001b[0;32m-> 4414\u001b[0;31m             \u001b[0mself\u001b[0m\u001b[0;34m.\u001b[0m\u001b[0maxes\u001b[0m\u001b[0;34m[\u001b[0m\u001b[0maxis\u001b[0m\u001b[0;34m]\u001b[0m\u001b[0;34m.\u001b[0m\u001b[0m_can_reindex\u001b[0m\u001b[0;34m(\u001b[0m\u001b[0mindexer\u001b[0m\u001b[0;34m)\u001b[0m\u001b[0;34m\u001b[0m\u001b[0m\n\u001b[0m\u001b[1;32m   4415\u001b[0m \u001b[0;34m\u001b[0m\u001b[0m\n\u001b[1;32m   4416\u001b[0m         \u001b[0;32mif\u001b[0m \u001b[0maxis\u001b[0m \u001b[0;34m>=\u001b[0m \u001b[0mself\u001b[0m\u001b[0;34m.\u001b[0m\u001b[0mndim\u001b[0m\u001b[0;34m:\u001b[0m\u001b[0;34m\u001b[0m\u001b[0m\n",
      "\u001b[0;32m/apps/software/standard/core/anaconda/5.2.0-py3.6/lib/python3.6/site-packages/pandas/core/indexes/base.py\u001b[0m in \u001b[0;36m_can_reindex\u001b[0;34m(self, indexer)\u001b[0m\n\u001b[1;32m   3574\u001b[0m         \u001b[0;31m# trying to reindex on an axis with duplicates\u001b[0m\u001b[0;34m\u001b[0m\u001b[0;34m\u001b[0m\u001b[0m\n\u001b[1;32m   3575\u001b[0m         \u001b[0;32mif\u001b[0m \u001b[0;32mnot\u001b[0m \u001b[0mself\u001b[0m\u001b[0;34m.\u001b[0m\u001b[0mis_unique\u001b[0m \u001b[0;32mand\u001b[0m \u001b[0mlen\u001b[0m\u001b[0;34m(\u001b[0m\u001b[0mindexer\u001b[0m\u001b[0;34m)\u001b[0m\u001b[0;34m:\u001b[0m\u001b[0;34m\u001b[0m\u001b[0m\n\u001b[0;32m-> 3576\u001b[0;31m             \u001b[0;32mraise\u001b[0m \u001b[0mValueError\u001b[0m\u001b[0;34m(\u001b[0m\u001b[0;34m\"cannot reindex from a duplicate axis\"\u001b[0m\u001b[0;34m)\u001b[0m\u001b[0;34m\u001b[0m\u001b[0m\n\u001b[0m\u001b[1;32m   3577\u001b[0m \u001b[0;34m\u001b[0m\u001b[0m\n\u001b[1;32m   3578\u001b[0m     def reindex(self, target, method=None, level=None, limit=None,\n",
      "\u001b[0;31mValueError\u001b[0m: cannot reindex from a duplicate axis"
     ]
    }
   ],
   "source": [
    "milton = get_works_by('Milton, John')"
   ]
  },
  {
   "cell_type": "code",
   "execution_count": 247,
   "metadata": {},
   "outputs": [
    {
     "data": {
      "text/html": [
       "<div>\n",
       "<style scoped>\n",
       "    .dataframe tbody tr th:only-of-type {\n",
       "        vertical-align: middle;\n",
       "    }\n",
       "\n",
       "    .dataframe tbody tr th {\n",
       "        vertical-align: top;\n",
       "    }\n",
       "\n",
       "    .dataframe thead th {\n",
       "        text-align: right;\n",
       "    }\n",
       "</style>\n",
       "<table border=\"1\" class=\"dataframe\">\n",
       "  <thead>\n",
       "    <tr style=\"text-align: right;\">\n",
       "      <th></th>\n",
       "      <th>val</th>\n",
       "    </tr>\n",
       "    <tr>\n",
       "      <th>gid</th>\n",
       "      <th></th>\n",
       "    </tr>\n",
       "  </thead>\n",
       "  <tbody>\n",
       "    <tr>\n",
       "      <th>1</th>\n",
       "      <td>The Declaration of Independence of the United ...</td>\n",
       "    </tr>\n",
       "    <tr>\n",
       "      <th>2</th>\n",
       "      <td>The United States Bill of Rights\\r\\nThe Ten Or...</td>\n",
       "    </tr>\n",
       "    <tr>\n",
       "      <th>3</th>\n",
       "      <td>John F. Kennedy's Inaugural Address</td>\n",
       "    </tr>\n",
       "    <tr>\n",
       "      <th>4</th>\n",
       "      <td>Lincoln's Gettysburg Address\\r\\nGiven November...</td>\n",
       "    </tr>\n",
       "    <tr>\n",
       "      <th>5</th>\n",
       "      <td>The United States Constitution</td>\n",
       "    </tr>\n",
       "    <tr>\n",
       "      <th>6</th>\n",
       "      <td>Give Me Liberty or Give Me Death</td>\n",
       "    </tr>\n",
       "    <tr>\n",
       "      <th>8</th>\n",
       "      <td>Abraham Lincoln's Second Inaugural Address</td>\n",
       "    </tr>\n",
       "    <tr>\n",
       "      <th>9</th>\n",
       "      <td>Abraham Lincoln's First Inaugural Address</td>\n",
       "    </tr>\n",
       "    <tr>\n",
       "      <th>11</th>\n",
       "      <td>Alice's Adventures in Wonderland</td>\n",
       "    </tr>\n",
       "    <tr>\n",
       "      <th>12</th>\n",
       "      <td>Through the Looking-Glass</td>\n",
       "    </tr>\n",
       "    <tr>\n",
       "      <th>13</th>\n",
       "      <td>The Hunting of the Snark: An Agony in Eight Fits</td>\n",
       "    </tr>\n",
       "    <tr>\n",
       "      <th>14</th>\n",
       "      <td>The 1990 CIA World Factbook</td>\n",
       "    </tr>\n",
       "    <tr>\n",
       "      <th>15</th>\n",
       "      <td>Moby Dick</td>\n",
       "    </tr>\n",
       "    <tr>\n",
       "      <th>16</th>\n",
       "      <td>Peter Pan</td>\n",
       "    </tr>\n",
       "    <tr>\n",
       "      <th>17</th>\n",
       "      <td>The Book of Mormon\\r\\nAn Account Written by th...</td>\n",
       "    </tr>\n",
       "    <tr>\n",
       "      <th>17</th>\n",
       "      <td>The Book of Mormon\\r\\nAn Account Written by th...</td>\n",
       "    </tr>\n",
       "    <tr>\n",
       "      <th>18</th>\n",
       "      <td>The Federalist Papers</td>\n",
       "    </tr>\n",
       "    <tr>\n",
       "      <th>18</th>\n",
       "      <td>The Federalist Papers</td>\n",
       "    </tr>\n",
       "    <tr>\n",
       "      <th>18</th>\n",
       "      <td>The Federalist Papers</td>\n",
       "    </tr>\n",
       "    <tr>\n",
       "      <th>19</th>\n",
       "      <td>The Song of Hiawatha</td>\n",
       "    </tr>\n",
       "    <tr>\n",
       "      <th>20</th>\n",
       "      <td>Paradise Lost</td>\n",
       "    </tr>\n",
       "    <tr>\n",
       "      <th>21</th>\n",
       "      <td>Aesop's Fables\\r\\nTranslated by George Fyler T...</td>\n",
       "    </tr>\n",
       "    <tr>\n",
       "      <th>22</th>\n",
       "      <td>Roget's Thesaurus</td>\n",
       "    </tr>\n",
       "    <tr>\n",
       "      <th>23</th>\n",
       "      <td>Narrative of the Life of Frederick Douglass, a...</td>\n",
       "    </tr>\n",
       "    <tr>\n",
       "      <th>24</th>\n",
       "      <td>O Pioneers!</td>\n",
       "    </tr>\n",
       "    <tr>\n",
       "      <th>25</th>\n",
       "      <td>The 1991 CIA World Factbook</td>\n",
       "    </tr>\n",
       "    <tr>\n",
       "      <th>26</th>\n",
       "      <td>Paradise Lost</td>\n",
       "    </tr>\n",
       "    <tr>\n",
       "      <th>27</th>\n",
       "      <td>Far from the Madding Crowd</td>\n",
       "    </tr>\n",
       "    <tr>\n",
       "      <th>28</th>\n",
       "      <td>Aesop's Fables</td>\n",
       "    </tr>\n",
       "    <tr>\n",
       "      <th>29</th>\n",
       "      <td>The 1990 United States Census</td>\n",
       "    </tr>\n",
       "    <tr>\n",
       "      <th>...</th>\n",
       "      <td>...</td>\n",
       "    </tr>\n",
       "    <tr>\n",
       "      <th>60261</th>\n",
       "      <td>The Five Nations, Volume II</td>\n",
       "    </tr>\n",
       "    <tr>\n",
       "      <th>60262</th>\n",
       "      <td>Where Are We Going?</td>\n",
       "    </tr>\n",
       "    <tr>\n",
       "      <th>60263</th>\n",
       "      <td>Verses and Sonnets</td>\n",
       "    </tr>\n",
       "    <tr>\n",
       "      <th>60264</th>\n",
       "      <td>The Virtue and Use of Coffee With Regard to th...</td>\n",
       "    </tr>\n",
       "    <tr>\n",
       "      <th>60265</th>\n",
       "      <td>The Red Cross Girls on the French Firing Line</td>\n",
       "    </tr>\n",
       "    <tr>\n",
       "      <th>60266</th>\n",
       "      <td>Kesätoverit: Meren säveliä</td>\n",
       "    </tr>\n",
       "    <tr>\n",
       "      <th>60267</th>\n",
       "      <td>Five Minute Sermons, Volume II.\\r\\nFor Low Mas...</td>\n",
       "    </tr>\n",
       "    <tr>\n",
       "      <th>60268</th>\n",
       "      <td>Covered With Mud and Glory: A Machine Gun Comp...</td>\n",
       "    </tr>\n",
       "    <tr>\n",
       "      <th>60269</th>\n",
       "      <td>Along the Mohawk Trail; Or, Boy Scouts on Lake...</td>\n",
       "    </tr>\n",
       "    <tr>\n",
       "      <th>60270</th>\n",
       "      <td>Deep Sea Hunters in the Frozen Seas</td>\n",
       "    </tr>\n",
       "    <tr>\n",
       "      <th>60271</th>\n",
       "      <td>From Newton to Einstein: Changing Conceptions ...</td>\n",
       "    </tr>\n",
       "    <tr>\n",
       "      <th>60272</th>\n",
       "      <td>Tales of a Cruel Country</td>\n",
       "    </tr>\n",
       "    <tr>\n",
       "      <th>60273</th>\n",
       "      <td>Leave it to Doris</td>\n",
       "    </tr>\n",
       "    <tr>\n",
       "      <th>60274</th>\n",
       "      <td>Yhdenvertaisuus</td>\n",
       "    </tr>\n",
       "    <tr>\n",
       "      <th>60275</th>\n",
       "      <td>Bobbins of Belgium\\nA book of Belgian lace, la...</td>\n",
       "    </tr>\n",
       "    <tr>\n",
       "      <th>60276</th>\n",
       "      <td>Splashing Into Society</td>\n",
       "    </tr>\n",
       "    <tr>\n",
       "      <th>60277</th>\n",
       "      <td>Aërial Navigation\\r\\nA Popular Treatise on the...</td>\n",
       "    </tr>\n",
       "    <tr>\n",
       "      <th>60278</th>\n",
       "      <td>The Thirteen Travellers</td>\n",
       "    </tr>\n",
       "    <tr>\n",
       "      <th>60279</th>\n",
       "      <td>Pele and Hiiaka: A Myth From Hawaii</td>\n",
       "    </tr>\n",
       "    <tr>\n",
       "      <th>60280</th>\n",
       "      <td>A London Mosaic</td>\n",
       "    </tr>\n",
       "    <tr>\n",
       "      <th>60281</th>\n",
       "      <td>L'origine della Famiglia della Proprietà priva...</td>\n",
       "    </tr>\n",
       "    <tr>\n",
       "      <th>60282</th>\n",
       "      <td>African Colonization by the Free Colored Peopl...</td>\n",
       "    </tr>\n",
       "    <tr>\n",
       "      <th>60283</th>\n",
       "      <td>The Birds and the Bees</td>\n",
       "    </tr>\n",
       "    <tr>\n",
       "      <th>60284</th>\n",
       "      <td>Clemencia\\nNovela de costumbres</td>\n",
       "    </tr>\n",
       "    <tr>\n",
       "      <th>60285</th>\n",
       "      <td>The Delmonico Cook Book\\nHow to Buy Food, How ...</td>\n",
       "    </tr>\n",
       "    <tr>\n",
       "      <th>60286</th>\n",
       "      <td>The collected works of William Hazlitt, Vol. 0...</td>\n",
       "    </tr>\n",
       "    <tr>\n",
       "      <th>60287</th>\n",
       "      <td>Nousukas\\nKertomus</td>\n",
       "    </tr>\n",
       "    <tr>\n",
       "      <th>60288</th>\n",
       "      <td>Harper's Round Table, January 5, 1897</td>\n",
       "    </tr>\n",
       "    <tr>\n",
       "      <th>60289</th>\n",
       "      <td>Science Primers, Introductory</td>\n",
       "    </tr>\n",
       "    <tr>\n",
       "      <th>60290</th>\n",
       "      <td>The Nineteenth and Their Times\\nBeing an Accou...</td>\n",
       "    </tr>\n",
       "  </tbody>\n",
       "</table>\n",
       "<p>60437 rows × 1 columns</p>\n",
       "</div>"
      ],
      "text/plain": [
       "                                                     val\n",
       "gid                                                     \n",
       "1      The Declaration of Independence of the United ...\n",
       "2      The United States Bill of Rights\\r\\nThe Ten Or...\n",
       "3                    John F. Kennedy's Inaugural Address\n",
       "4      Lincoln's Gettysburg Address\\r\\nGiven November...\n",
       "5                         The United States Constitution\n",
       "6                       Give Me Liberty or Give Me Death\n",
       "8             Abraham Lincoln's Second Inaugural Address\n",
       "9              Abraham Lincoln's First Inaugural Address\n",
       "11                      Alice's Adventures in Wonderland\n",
       "12                             Through the Looking-Glass\n",
       "13      The Hunting of the Snark: An Agony in Eight Fits\n",
       "14                           The 1990 CIA World Factbook\n",
       "15                                             Moby Dick\n",
       "16                                             Peter Pan\n",
       "17     The Book of Mormon\\r\\nAn Account Written by th...\n",
       "17     The Book of Mormon\\r\\nAn Account Written by th...\n",
       "18                                 The Federalist Papers\n",
       "18                                 The Federalist Papers\n",
       "18                                 The Federalist Papers\n",
       "19                                  The Song of Hiawatha\n",
       "20                                         Paradise Lost\n",
       "21     Aesop's Fables\\r\\nTranslated by George Fyler T...\n",
       "22                                     Roget's Thesaurus\n",
       "23     Narrative of the Life of Frederick Douglass, a...\n",
       "24                                           O Pioneers!\n",
       "25                           The 1991 CIA World Factbook\n",
       "26                                         Paradise Lost\n",
       "27                            Far from the Madding Crowd\n",
       "28                                        Aesop's Fables\n",
       "29                         The 1990 United States Census\n",
       "...                                                  ...\n",
       "60261                        The Five Nations, Volume II\n",
       "60262                                Where Are We Going?\n",
       "60263                                 Verses and Sonnets\n",
       "60264  The Virtue and Use of Coffee With Regard to th...\n",
       "60265      The Red Cross Girls on the French Firing Line\n",
       "60266                         Kesätoverit: Meren säveliä\n",
       "60267  Five Minute Sermons, Volume II.\\r\\nFor Low Mas...\n",
       "60268  Covered With Mud and Glory: A Machine Gun Comp...\n",
       "60269  Along the Mohawk Trail; Or, Boy Scouts on Lake...\n",
       "60270                Deep Sea Hunters in the Frozen Seas\n",
       "60271  From Newton to Einstein: Changing Conceptions ...\n",
       "60272                           Tales of a Cruel Country\n",
       "60273                                  Leave it to Doris\n",
       "60274                                    Yhdenvertaisuus\n",
       "60275  Bobbins of Belgium\\nA book of Belgian lace, la...\n",
       "60276                             Splashing Into Society\n",
       "60277  Aërial Navigation\\r\\nA Popular Treatise on the...\n",
       "60278                            The Thirteen Travellers\n",
       "60279                Pele and Hiiaka: A Myth From Hawaii\n",
       "60280                                    A London Mosaic\n",
       "60281  L'origine della Famiglia della Proprietà priva...\n",
       "60282  African Colonization by the Free Colored Peopl...\n",
       "60283                             The Birds and the Bees\n",
       "60284                    Clemencia\\nNovela de costumbres\n",
       "60285  The Delmonico Cook Book\\nHow to Buy Food, How ...\n",
       "60286  The collected works of William Hazlitt, Vol. 0...\n",
       "60287                                 Nousukas\\nKertomus\n",
       "60288              Harper's Round Table, January 5, 1897\n",
       "60289                      Science Primers, Introductory\n",
       "60290  The Nineteenth and Their Times\\nBeing an Accou...\n",
       "\n",
       "[60437 rows x 1 columns]"
      ]
     },
     "execution_count": 247,
     "metadata": {},
     "output_type": "execute_result"
    }
   ],
   "source": [
    "milton"
   ]
  },
  {
   "cell_type": "code",
   "execution_count": 75,
   "metadata": {},
   "outputs": [],
   "source": [
    "austen = get_works_by('Austen, Jane')"
   ]
  },
  {
   "cell_type": "code",
   "execution_count": 76,
   "metadata": {},
   "outputs": [
    {
     "data": {
      "text/html": [
       "<div>\n",
       "<style scoped>\n",
       "    .dataframe tbody tr th:only-of-type {\n",
       "        vertical-align: middle;\n",
       "    }\n",
       "\n",
       "    .dataframe tbody tr th {\n",
       "        vertical-align: top;\n",
       "    }\n",
       "\n",
       "    .dataframe thead th {\n",
       "        text-align: right;\n",
       "    }\n",
       "</style>\n",
       "<table border=\"1\" class=\"dataframe\">\n",
       "  <thead>\n",
       "    <tr style=\"text-align: right;\">\n",
       "      <th></th>\n",
       "      <th>title</th>\n",
       "      <th>creator</th>\n",
       "      <th>rdf</th>\n",
       "    </tr>\n",
       "    <tr>\n",
       "      <th>gut_id</th>\n",
       "      <th></th>\n",
       "      <th></th>\n",
       "      <th></th>\n",
       "    </tr>\n",
       "  </thead>\n",
       "  <tbody>\n",
       "    <tr>\n",
       "      <th>105</th>\n",
       "      <td>Persuasion</td>\n",
       "      <td>Austen, Jane</td>\n",
       "      <td>&lt;?xml version=\"1.0\" encoding=\"utf-8\"?&gt;\\n&lt;rdf:R...</td>\n",
       "    </tr>\n",
       "    <tr>\n",
       "      <th>121</th>\n",
       "      <td>Northanger Abbey</td>\n",
       "      <td>Austen, Jane</td>\n",
       "      <td>&lt;?xml version=\"1.0\" encoding=\"utf-8\"?&gt;\\n&lt;rdf:R...</td>\n",
       "    </tr>\n",
       "    <tr>\n",
       "      <th>141</th>\n",
       "      <td>Mansfield Park</td>\n",
       "      <td>Austen, Jane</td>\n",
       "      <td>&lt;?xml version=\"1.0\" encoding=\"utf-8\"?&gt;\\n&lt;rdf:R...</td>\n",
       "    </tr>\n",
       "    <tr>\n",
       "      <th>158</th>\n",
       "      <td>Emma</td>\n",
       "      <td>Austen, Jane</td>\n",
       "      <td>&lt;?xml version=\"1.0\" encoding=\"utf-8\"?&gt;\\n&lt;rdf:R...</td>\n",
       "    </tr>\n",
       "    <tr>\n",
       "      <th>161</th>\n",
       "      <td>Sense and Sensibility</td>\n",
       "      <td>Austen, Jane</td>\n",
       "      <td>&lt;?xml version=\"1.0\" encoding=\"utf-8\"?&gt;\\n&lt;rdf:R...</td>\n",
       "    </tr>\n",
       "    <tr>\n",
       "      <th>946</th>\n",
       "      <td>Lady Susan</td>\n",
       "      <td>Austen, Jane</td>\n",
       "      <td>&lt;?xml version=\"1.0\" encoding=\"utf-8\"?&gt;\\n&lt;rdf:R...</td>\n",
       "    </tr>\n",
       "    <tr>\n",
       "      <th>1212</th>\n",
       "      <td>Love and Freindship [sic]</td>\n",
       "      <td>Austen, Jane</td>\n",
       "      <td>&lt;?xml version=\"1.0\" encoding=\"utf-8\"?&gt;\\n&lt;rdf:R...</td>\n",
       "    </tr>\n",
       "    <tr>\n",
       "      <th>1342</th>\n",
       "      <td>Pride and Prejudice</td>\n",
       "      <td>Austen, Jane</td>\n",
       "      <td>&lt;?xml version=\"1.0\" encoding=\"utf-8\"?&gt;\\n&lt;rdf:R...</td>\n",
       "    </tr>\n",
       "    <tr>\n",
       "      <th>19839</th>\n",
       "      <td>Emma</td>\n",
       "      <td>Austen, Jane</td>\n",
       "      <td>&lt;?xml version=\"1.0\" encoding=\"utf-8\"?&gt;\\n&lt;rdf:R...</td>\n",
       "    </tr>\n",
       "    <tr>\n",
       "      <th>20682</th>\n",
       "      <td>Northanger Abbey</td>\n",
       "      <td>Austen, Jane</td>\n",
       "      <td>&lt;?xml version=\"1.0\" encoding=\"utf-8\"?&gt;\\n&lt;rdf:R...</td>\n",
       "    </tr>\n",
       "    <tr>\n",
       "      <th>20686</th>\n",
       "      <td>Pride and Prejudice</td>\n",
       "      <td>Austen, Jane</td>\n",
       "      <td>&lt;?xml version=\"1.0\" encoding=\"utf-8\"?&gt;\\n&lt;rdf:R...</td>\n",
       "    </tr>\n",
       "    <tr>\n",
       "      <th>20687</th>\n",
       "      <td>Pride and Prejudice</td>\n",
       "      <td>Austen, Jane</td>\n",
       "      <td>&lt;?xml version=\"1.0\" encoding=\"utf-8\"?&gt;\\n&lt;rdf:R...</td>\n",
       "    </tr>\n",
       "    <tr>\n",
       "      <th>21839</th>\n",
       "      <td>Sense and Sensibility</td>\n",
       "      <td>Austen, Jane</td>\n",
       "      <td>&lt;?xml version=\"1.0\" encoding=\"utf-8\"?&gt;\\n&lt;rdf:R...</td>\n",
       "    </tr>\n",
       "    <tr>\n",
       "      <th>22953</th>\n",
       "      <td>Lady Susan</td>\n",
       "      <td>Austen, Jane</td>\n",
       "      <td>&lt;?xml version=\"1.0\" encoding=\"utf-8\"?&gt;\\n&lt;rdf:R...</td>\n",
       "    </tr>\n",
       "    <tr>\n",
       "      <th>22954</th>\n",
       "      <td>Love and Freindship [sic]</td>\n",
       "      <td>Austen, Jane</td>\n",
       "      <td>&lt;?xml version=\"1.0\" encoding=\"utf-8\"?&gt;\\n&lt;rdf:R...</td>\n",
       "    </tr>\n",
       "    <tr>\n",
       "      <th>22962</th>\n",
       "      <td>Mansfield Park</td>\n",
       "      <td>Austen, Jane</td>\n",
       "      <td>&lt;?xml version=\"1.0\" encoding=\"utf-8\"?&gt;\\n&lt;rdf:R...</td>\n",
       "    </tr>\n",
       "    <tr>\n",
       "      <th>22963</th>\n",
       "      <td>Persuasion</td>\n",
       "      <td>Austen, Jane</td>\n",
       "      <td>&lt;?xml version=\"1.0\" encoding=\"utf-8\"?&gt;\\n&lt;rdf:R...</td>\n",
       "    </tr>\n",
       "    <tr>\n",
       "      <th>22964</th>\n",
       "      <td>Sense and Sensibility</td>\n",
       "      <td>Austen, Jane</td>\n",
       "      <td>&lt;?xml version=\"1.0\" encoding=\"utf-8\"?&gt;\\n&lt;rdf:R...</td>\n",
       "    </tr>\n",
       "    <tr>\n",
       "      <th>25946</th>\n",
       "      <td>Gevoel en verstand</td>\n",
       "      <td>Austen, Jane</td>\n",
       "      <td>&lt;?xml version=\"1.0\" encoding=\"utf-8\"?&gt;\\n&lt;rdf:R...</td>\n",
       "    </tr>\n",
       "    <tr>\n",
       "      <th>26301</th>\n",
       "      <td>Pride and Prejudice</td>\n",
       "      <td>Austen, Jane</td>\n",
       "      <td>&lt;?xml version=\"1.0\" encoding=\"utf-8\"?&gt;\\n&lt;rdf:R...</td>\n",
       "    </tr>\n",
       "    <tr>\n",
       "      <th>31100</th>\n",
       "      <td>The Complete Project Gutenberg Works of Jane A...</td>\n",
       "      <td>Austen, Jane</td>\n",
       "      <td>&lt;?xml version=\"1.0\" encoding=\"utf-8\"?&gt;\\n&lt;rdf:R...</td>\n",
       "    </tr>\n",
       "    <tr>\n",
       "      <th>33388</th>\n",
       "      <td>Raison et sensibilité, ou les deux manières d'...</td>\n",
       "      <td>Austen, Jane</td>\n",
       "      <td>&lt;?xml version=\"1.0\" encoding=\"utf-8\"?&gt;\\n&lt;rdf:R...</td>\n",
       "    </tr>\n",
       "    <tr>\n",
       "      <th>35163</th>\n",
       "      <td>Raison et sensibilité, ou les deux manières d'...</td>\n",
       "      <td>Austen, Jane</td>\n",
       "      <td>&lt;?xml version=\"1.0\" encoding=\"utf-8\"?&gt;\\n&lt;rdf:R...</td>\n",
       "    </tr>\n",
       "    <tr>\n",
       "      <th>37431</th>\n",
       "      <td>Pride and Prejudice, a play founded on Jane Au...</td>\n",
       "      <td>Austen, Jane</td>\n",
       "      <td>&lt;?xml version=\"1.0\" encoding=\"utf-8\"?&gt;\\n&lt;rdf:R...</td>\n",
       "    </tr>\n",
       "    <tr>\n",
       "      <th>37634</th>\n",
       "      <td>Raison et sensibilité, ou les deux manières d'...</td>\n",
       "      <td>Austen, Jane</td>\n",
       "      <td>&lt;?xml version=\"1.0\" encoding=\"utf-8\"?&gt;\\n&lt;rdf:R...</td>\n",
       "    </tr>\n",
       "    <tr>\n",
       "      <th>42671</th>\n",
       "      <td>Pride and Prejudice</td>\n",
       "      <td>Austen, Jane</td>\n",
       "      <td>&lt;?xml version=\"1.0\" encoding=\"utf-8\"?&gt;\\n&lt;rdf:R...</td>\n",
       "    </tr>\n",
       "    <tr>\n",
       "      <th>43741</th>\n",
       "      <td>Old Friends and New Fancies: An Imaginary Sequ...</td>\n",
       "      <td>Austen, Jane</td>\n",
       "      <td>&lt;?xml version=\"1.0\" encoding=\"utf-8\"?&gt;\\n&lt;rdf:R...</td>\n",
       "    </tr>\n",
       "  </tbody>\n",
       "</table>\n",
       "</div>"
      ],
      "text/plain": [
       "                                                    title       creator  \\\n",
       "gut_id                                                                    \n",
       "105                                            Persuasion  Austen, Jane   \n",
       "121                                      Northanger Abbey  Austen, Jane   \n",
       "141                                        Mansfield Park  Austen, Jane   \n",
       "158                                                  Emma  Austen, Jane   \n",
       "161                                 Sense and Sensibility  Austen, Jane   \n",
       "946                                            Lady Susan  Austen, Jane   \n",
       "1212                            Love and Freindship [sic]  Austen, Jane   \n",
       "1342                                  Pride and Prejudice  Austen, Jane   \n",
       "19839                                                Emma  Austen, Jane   \n",
       "20682                                    Northanger Abbey  Austen, Jane   \n",
       "20686                                 Pride and Prejudice  Austen, Jane   \n",
       "20687                                 Pride and Prejudice  Austen, Jane   \n",
       "21839                               Sense and Sensibility  Austen, Jane   \n",
       "22953                                          Lady Susan  Austen, Jane   \n",
       "22954                           Love and Freindship [sic]  Austen, Jane   \n",
       "22962                                      Mansfield Park  Austen, Jane   \n",
       "22963                                          Persuasion  Austen, Jane   \n",
       "22964                               Sense and Sensibility  Austen, Jane   \n",
       "25946                                  Gevoel en verstand  Austen, Jane   \n",
       "26301                                 Pride and Prejudice  Austen, Jane   \n",
       "31100   The Complete Project Gutenberg Works of Jane A...  Austen, Jane   \n",
       "33388   Raison et sensibilité, ou les deux manières d'...  Austen, Jane   \n",
       "35163   Raison et sensibilité, ou les deux manières d'...  Austen, Jane   \n",
       "37431   Pride and Prejudice, a play founded on Jane Au...  Austen, Jane   \n",
       "37634   Raison et sensibilité, ou les deux manières d'...  Austen, Jane   \n",
       "42671                                 Pride and Prejudice  Austen, Jane   \n",
       "43741   Old Friends and New Fancies: An Imaginary Sequ...  Austen, Jane   \n",
       "\n",
       "                                                      rdf  \n",
       "gut_id                                                     \n",
       "105     <?xml version=\"1.0\" encoding=\"utf-8\"?>\\n<rdf:R...  \n",
       "121     <?xml version=\"1.0\" encoding=\"utf-8\"?>\\n<rdf:R...  \n",
       "141     <?xml version=\"1.0\" encoding=\"utf-8\"?>\\n<rdf:R...  \n",
       "158     <?xml version=\"1.0\" encoding=\"utf-8\"?>\\n<rdf:R...  \n",
       "161     <?xml version=\"1.0\" encoding=\"utf-8\"?>\\n<rdf:R...  \n",
       "946     <?xml version=\"1.0\" encoding=\"utf-8\"?>\\n<rdf:R...  \n",
       "1212    <?xml version=\"1.0\" encoding=\"utf-8\"?>\\n<rdf:R...  \n",
       "1342    <?xml version=\"1.0\" encoding=\"utf-8\"?>\\n<rdf:R...  \n",
       "19839   <?xml version=\"1.0\" encoding=\"utf-8\"?>\\n<rdf:R...  \n",
       "20682   <?xml version=\"1.0\" encoding=\"utf-8\"?>\\n<rdf:R...  \n",
       "20686   <?xml version=\"1.0\" encoding=\"utf-8\"?>\\n<rdf:R...  \n",
       "20687   <?xml version=\"1.0\" encoding=\"utf-8\"?>\\n<rdf:R...  \n",
       "21839   <?xml version=\"1.0\" encoding=\"utf-8\"?>\\n<rdf:R...  \n",
       "22953   <?xml version=\"1.0\" encoding=\"utf-8\"?>\\n<rdf:R...  \n",
       "22954   <?xml version=\"1.0\" encoding=\"utf-8\"?>\\n<rdf:R...  \n",
       "22962   <?xml version=\"1.0\" encoding=\"utf-8\"?>\\n<rdf:R...  \n",
       "22963   <?xml version=\"1.0\" encoding=\"utf-8\"?>\\n<rdf:R...  \n",
       "22964   <?xml version=\"1.0\" encoding=\"utf-8\"?>\\n<rdf:R...  \n",
       "25946   <?xml version=\"1.0\" encoding=\"utf-8\"?>\\n<rdf:R...  \n",
       "26301   <?xml version=\"1.0\" encoding=\"utf-8\"?>\\n<rdf:R...  \n",
       "31100   <?xml version=\"1.0\" encoding=\"utf-8\"?>\\n<rdf:R...  \n",
       "33388   <?xml version=\"1.0\" encoding=\"utf-8\"?>\\n<rdf:R...  \n",
       "35163   <?xml version=\"1.0\" encoding=\"utf-8\"?>\\n<rdf:R...  \n",
       "37431   <?xml version=\"1.0\" encoding=\"utf-8\"?>\\n<rdf:R...  \n",
       "37634   <?xml version=\"1.0\" encoding=\"utf-8\"?>\\n<rdf:R...  \n",
       "42671   <?xml version=\"1.0\" encoding=\"utf-8\"?>\\n<rdf:R...  \n",
       "43741   <?xml version=\"1.0\" encoding=\"utf-8\"?>\\n<rdf:R...  "
      ]
     },
     "execution_count": 76,
     "metadata": {},
     "output_type": "execute_result"
    }
   ],
   "source": [
    "austen"
   ]
  },
  {
   "cell_type": "code",
   "execution_count": 77,
   "metadata": {},
   "outputs": [],
   "source": [
    "import requests"
   ]
  },
  {
   "cell_type": "code",
   "execution_count": 78,
   "metadata": {},
   "outputs": [],
   "source": [
    "download_dir = '/home/rca2t/Public/ETA/data/gutenberg/downloads'"
   ]
  },
  {
   "cell_type": "code",
   "execution_count": 79,
   "metadata": {},
   "outputs": [],
   "source": [
    "def download_works(works, download_dir=download_dir):\n",
    "    gids = works.index.tolist()\n",
    "    for gid in gids:\n",
    "        print(gid)\n",
    "        url = 'https://www.gutenberg.org/ebooks/{}.txt.utf-8'.format(gid)\n",
    "        r = requests.get(url)\n",
    "        with open(download_dir+\"/g{}.txt\".format(gid), 'w', encoding='utf8') as out:\n",
    "            out.write(r.text)"
   ]
  },
  {
   "cell_type": "code",
   "execution_count": 80,
   "metadata": {},
   "outputs": [
    {
     "name": "stdout",
     "output_type": "stream",
     "text": [
      "105\n",
      "121\n",
      "141\n",
      "158\n",
      "161\n",
      "946\n",
      "1212\n",
      "1342\n",
      "19839\n",
      "20682\n",
      "20686\n",
      "20687\n",
      "21839\n",
      "22953\n",
      "22954\n",
      "22962\n",
      "22963\n",
      "22964\n",
      "25946\n",
      "26301\n",
      "31100\n",
      "33388\n",
      "35163\n",
      "37431\n",
      "37634\n",
      "42671\n",
      "43741\n"
     ]
    }
   ],
   "source": [
    "works = download_works(austen)"
   ]
  },
  {
   "cell_type": "code",
   "execution_count": 90,
   "metadata": {},
   "outputs": [
    {
     "data": {
      "text/html": [
       "<div>\n",
       "<style scoped>\n",
       "    .dataframe tbody tr th:only-of-type {\n",
       "        vertical-align: middle;\n",
       "    }\n",
       "\n",
       "    .dataframe tbody tr th {\n",
       "        vertical-align: top;\n",
       "    }\n",
       "\n",
       "    .dataframe thead th {\n",
       "        text-align: right;\n",
       "    }\n",
       "</style>\n",
       "<table border=\"1\" class=\"dataframe\">\n",
       "  <thead>\n",
       "    <tr style=\"text-align: right;\">\n",
       "      <th></th>\n",
       "      <th>creator</th>\n",
       "      <th>rdf</th>\n",
       "    </tr>\n",
       "    <tr>\n",
       "      <th>title</th>\n",
       "      <th></th>\n",
       "      <th></th>\n",
       "    </tr>\n",
       "  </thead>\n",
       "  <tbody>\n",
       "    <tr>\n",
       "      <th>Areopagitica</th>\n",
       "      <td>1</td>\n",
       "      <td>1</td>\n",
       "    </tr>\n",
       "    <tr>\n",
       "      <th>L'Allegro, Il Penseroso, Comus, and Lycidas</th>\n",
       "      <td>1</td>\n",
       "      <td>1</td>\n",
       "    </tr>\n",
       "    <tr>\n",
       "      <th>Milton's Comus</th>\n",
       "      <td>1</td>\n",
       "      <td>1</td>\n",
       "    </tr>\n",
       "    <tr>\n",
       "      <th>Milton: Minor Poems</th>\n",
       "      <td>1</td>\n",
       "      <td>1</td>\n",
       "    </tr>\n",
       "    <tr>\n",
       "      <th>Paradise Lost</th>\n",
       "      <td>2</td>\n",
       "      <td>2</td>\n",
       "    </tr>\n",
       "    <tr>\n",
       "      <th>Paradise Regained</th>\n",
       "      <td>1</td>\n",
       "      <td>1</td>\n",
       "    </tr>\n",
       "    <tr>\n",
       "      <th>Poemata : Latin, Greek and Italian Poems by John Milton</th>\n",
       "      <td>1</td>\n",
       "      <td>1</td>\n",
       "    </tr>\n",
       "  </tbody>\n",
       "</table>\n",
       "</div>"
      ],
      "text/plain": [
       "                                                    creator  rdf\n",
       "title                                                           \n",
       "Areopagitica                                              1    1\n",
       "L'Allegro, Il Penseroso, Comus, and Lycidas               1    1\n",
       "Milton's Comus                                            1    1\n",
       "Milton: Minor Poems                                       1    1\n",
       "Paradise Lost                                             2    2\n",
       "Paradise Regained                                         1    1\n",
       "Poemata : Latin, Greek and Italian Poems by Joh...        1    1"
      ]
     },
     "execution_count": 90,
     "metadata": {},
     "output_type": "execute_result"
    }
   ],
   "source": [
    "milton.groupby('title').count()"
   ]
  },
  {
   "cell_type": "code",
   "execution_count": 94,
   "metadata": {},
   "outputs": [
    {
     "data": {
      "text/plain": [
       "gut_id\n",
       "20       False\n",
       "26       False\n",
       "58       False\n",
       "397      False\n",
       "608      False\n",
       "6929     False\n",
       "19819    False\n",
       "31706    False\n",
       "Name: rdf, dtype: bool"
      ]
     },
     "execution_count": 94,
     "metadata": {},
     "output_type": "execute_result"
    }
   ],
   "source": [
    "milton.rdf.str.contains('audio')"
   ]
  },
  {
   "cell_type": "code",
   "execution_count": null,
   "metadata": {},
   "outputs": [],
   "source": []
  }
 ],
 "metadata": {
  "kernelspec": {
   "display_name": "Python 3",
   "language": "python",
   "name": "python3"
  },
  "language_info": {
   "codemirror_mode": {
    "name": "ipython",
    "version": 3
   },
   "file_extension": ".py",
   "mimetype": "text/x-python",
   "name": "python",
   "nbconvert_exporter": "python",
   "pygments_lexer": "ipython3",
   "version": "3.6.6"
  }
 },
 "nbformat": 4,
 "nbformat_minor": 2
}
