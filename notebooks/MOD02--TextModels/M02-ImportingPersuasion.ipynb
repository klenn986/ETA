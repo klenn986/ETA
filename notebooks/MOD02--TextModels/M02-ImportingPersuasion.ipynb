{
 "cells": [
  {
   "cell_type": "markdown",
   "metadata": {},
   "source": [
    "# Module 2: Text into Data: Importing a Text\n",
    "\n",
    "* DS 5001: Exploratory Text Analytics\n",
    "* Raf Alvarado"
   ]
  },
  {
   "cell_type": "markdown",
   "metadata": {},
   "source": [
    "# Set Up"
   ]
  },
  {
   "cell_type": "code",
   "execution_count": 2,
   "metadata": {},
   "outputs": [],
   "source": [
    "import pandas as pd"
   ]
  },
  {
   "cell_type": "code",
   "execution_count": 3,
   "metadata": {},
   "outputs": [],
   "source": [
    "epub_file = \"../MOD01--SetUp/pg105.txt\"\n",
    "OHCO = ['chap_num', 'para_num', 'sent_num', 'token_num']"
   ]
  },
  {
   "cell_type": "markdown",
   "metadata": {},
   "source": [
    "# Import file into a dataframe"
   ]
  },
  {
   "cell_type": "code",
   "execution_count": 4,
   "metadata": {},
   "outputs": [],
   "source": [
    "epub = open(epub_file, 'r', encoding='utf-8-sig').readlines()"
   ]
  },
  {
   "cell_type": "code",
   "execution_count": 5,
   "metadata": {},
   "outputs": [],
   "source": [
    "df = pd.DataFrame(epub, columns=['line_str'])"
   ]
  },
  {
   "cell_type": "code",
   "execution_count": 6,
   "metadata": {},
   "outputs": [],
   "source": [
    "df.index.name = 'line_num'"
   ]
  },
  {
   "cell_type": "code",
   "execution_count": 7,
   "metadata": {},
   "outputs": [],
   "source": [
    "df.line_str = df.line_str.str.strip()"
   ]
  },
  {
   "cell_type": "code",
   "execution_count": 8,
   "metadata": {},
   "outputs": [
    {
     "data": {
      "text/html": [
       "<div>\n",
       "<style scoped>\n",
       "    .dataframe tbody tr th:only-of-type {\n",
       "        vertical-align: middle;\n",
       "    }\n",
       "\n",
       "    .dataframe tbody tr th {\n",
       "        vertical-align: top;\n",
       "    }\n",
       "\n",
       "    .dataframe thead th {\n",
       "        text-align: right;\n",
       "    }\n",
       "</style>\n",
       "<table border=\"1\" class=\"dataframe\">\n",
       "  <thead>\n",
       "    <tr style=\"text-align: right;\">\n",
       "      <th></th>\n",
       "      <th>line_str</th>\n",
       "    </tr>\n",
       "    <tr>\n",
       "      <th>line_num</th>\n",
       "      <th></th>\n",
       "    </tr>\n",
       "  </thead>\n",
       "  <tbody>\n",
       "    <tr>\n",
       "      <th>6559</th>\n",
       "      <td>know that he often assisted him.\"</td>\n",
       "    </tr>\n",
       "    <tr>\n",
       "      <th>2231</th>\n",
       "      <td>\"All merged in my friendship, Sophia.  I would...</td>\n",
       "    </tr>\n",
       "    <tr>\n",
       "      <th>3170</th>\n",
       "      <td>I am; younger in feeling, if not in fact; youn...</td>\n",
       "    </tr>\n",
       "    <tr>\n",
       "      <th>6999</th>\n",
       "      <td>seeing Mr Elliot; that he had called and paid ...</td>\n",
       "    </tr>\n",
       "    <tr>\n",
       "      <th>2024</th>\n",
       "      <td>nay, worse than strangers, for they could neve...</td>\n",
       "    </tr>\n",
       "    <tr>\n",
       "      <th>5174</th>\n",
       "      <td>\"Mr Elliot is an exceedingly agreeable man, an...</td>\n",
       "    </tr>\n",
       "    <tr>\n",
       "      <th>7323</th>\n",
       "      <td>consciousness of which vexed and embarrassed h...</td>\n",
       "    </tr>\n",
       "    <tr>\n",
       "      <th>7125</th>\n",
       "      <td>and Elizabeth were walking Mary into the other...</td>\n",
       "    </tr>\n",
       "    <tr>\n",
       "      <th>8110</th>\n",
       "      <td>and all duty violated.\"</td>\n",
       "    </tr>\n",
       "    <tr>\n",
       "      <th>6757</th>\n",
       "      <td>\"Only give me a hearing.  You will soon be abl...</td>\n",
       "    </tr>\n",
       "  </tbody>\n",
       "</table>\n",
       "</div>"
      ],
      "text/plain": [
       "                                                   line_str\n",
       "line_num                                                   \n",
       "6559                      know that he often assisted him.\"\n",
       "2231      \"All merged in my friendship, Sophia.  I would...\n",
       "3170      I am; younger in feeling, if not in fact; youn...\n",
       "6999      seeing Mr Elliot; that he had called and paid ...\n",
       "2024      nay, worse than strangers, for they could neve...\n",
       "5174      \"Mr Elliot is an exceedingly agreeable man, an...\n",
       "7323      consciousness of which vexed and embarrassed h...\n",
       "7125      and Elizabeth were walking Mary into the other...\n",
       "8110                                and all duty violated.\"\n",
       "6757      \"Only give me a hearing.  You will soon be abl..."
      ]
     },
     "execution_count": 8,
     "metadata": {},
     "output_type": "execute_result"
    }
   ],
   "source": [
    "df.sample(10)"
   ]
  },
  {
   "cell_type": "markdown",
   "metadata": {},
   "source": [
    "# Extract title of work from first line"
   ]
  },
  {
   "cell_type": "code",
   "execution_count": 9,
   "metadata": {},
   "outputs": [],
   "source": [
    "title = df.loc[0].line_str.replace('The Project Gutenberg EBook of ', '')\n",
    "df['title'] = title"
   ]
  },
  {
   "cell_type": "code",
   "execution_count": 10,
   "metadata": {},
   "outputs": [
    {
     "name": "stdout",
     "output_type": "stream",
     "text": [
      "Persuasion, by Jane Austen\n"
     ]
    }
   ],
   "source": [
    "print(title)"
   ]
  },
  {
   "cell_type": "code",
   "execution_count": 11,
   "metadata": {},
   "outputs": [
    {
     "data": {
      "text/html": [
       "<div>\n",
       "<style scoped>\n",
       "    .dataframe tbody tr th:only-of-type {\n",
       "        vertical-align: middle;\n",
       "    }\n",
       "\n",
       "    .dataframe tbody tr th {\n",
       "        vertical-align: top;\n",
       "    }\n",
       "\n",
       "    .dataframe thead th {\n",
       "        text-align: right;\n",
       "    }\n",
       "</style>\n",
       "<table border=\"1\" class=\"dataframe\">\n",
       "  <thead>\n",
       "    <tr style=\"text-align: right;\">\n",
       "      <th></th>\n",
       "      <th>line_str</th>\n",
       "      <th>title</th>\n",
       "    </tr>\n",
       "    <tr>\n",
       "      <th>line_num</th>\n",
       "      <th></th>\n",
       "      <th></th>\n",
       "    </tr>\n",
       "  </thead>\n",
       "  <tbody>\n",
       "    <tr>\n",
       "      <th>0</th>\n",
       "      <td>The Project Gutenberg EBook of Persuasion, by ...</td>\n",
       "      <td>Persuasion, by Jane Austen</td>\n",
       "    </tr>\n",
       "    <tr>\n",
       "      <th>1</th>\n",
       "      <td></td>\n",
       "      <td>Persuasion, by Jane Austen</td>\n",
       "    </tr>\n",
       "    <tr>\n",
       "      <th>2</th>\n",
       "      <td>This eBook is for the use of anyone anywhere a...</td>\n",
       "      <td>Persuasion, by Jane Austen</td>\n",
       "    </tr>\n",
       "    <tr>\n",
       "      <th>3</th>\n",
       "      <td>almost no restrictions whatsoever.  You may co...</td>\n",
       "      <td>Persuasion, by Jane Austen</td>\n",
       "    </tr>\n",
       "    <tr>\n",
       "      <th>4</th>\n",
       "      <td>re-use it under the terms of the Project Guten...</td>\n",
       "      <td>Persuasion, by Jane Austen</td>\n",
       "    </tr>\n",
       "  </tbody>\n",
       "</table>\n",
       "</div>"
      ],
      "text/plain": [
       "                                                   line_str  \\\n",
       "line_num                                                      \n",
       "0         The Project Gutenberg EBook of Persuasion, by ...   \n",
       "1                                                             \n",
       "2         This eBook is for the use of anyone anywhere a...   \n",
       "3         almost no restrictions whatsoever.  You may co...   \n",
       "4         re-use it under the terms of the Project Guten...   \n",
       "\n",
       "                               title  \n",
       "line_num                              \n",
       "0         Persuasion, by Jane Austen  \n",
       "1         Persuasion, by Jane Austen  \n",
       "2         Persuasion, by Jane Austen  \n",
       "3         Persuasion, by Jane Austen  \n",
       "4         Persuasion, by Jane Austen  "
      ]
     },
     "execution_count": 11,
     "metadata": {},
     "output_type": "execute_result"
    }
   ],
   "source": [
    "df.head()"
   ]
  },
  {
   "cell_type": "markdown",
   "metadata": {},
   "source": [
    "# Remove Gutenberg's front and back matter"
   ]
  },
  {
   "cell_type": "code",
   "execution_count": 12,
   "metadata": {},
   "outputs": [],
   "source": [
    "a = df.line_str.str.match(r\"\\*\\*\\*\\s*START OF (THE|THIS) PROJECT\")\n",
    "b = df.line_str.str.match(r\"\\*\\*\\*\\s*END OF (THE|THIS) PROJECT\")"
   ]
  },
  {
   "cell_type": "code",
   "execution_count": 13,
   "metadata": {},
   "outputs": [],
   "source": [
    "an = df.loc[a].index[0]\n",
    "bn = df.loc[b].index[0]"
   ]
  },
  {
   "cell_type": "code",
   "execution_count": 14,
   "metadata": {},
   "outputs": [],
   "source": [
    "df = df.loc[an + 1 : bn - 2]"
   ]
  },
  {
   "cell_type": "code",
   "execution_count": 15,
   "metadata": {},
   "outputs": [
    {
     "data": {
      "text/html": [
       "<div>\n",
       "<style scoped>\n",
       "    .dataframe tbody tr th:only-of-type {\n",
       "        vertical-align: middle;\n",
       "    }\n",
       "\n",
       "    .dataframe tbody tr th {\n",
       "        vertical-align: top;\n",
       "    }\n",
       "\n",
       "    .dataframe thead th {\n",
       "        text-align: right;\n",
       "    }\n",
       "</style>\n",
       "<table border=\"1\" class=\"dataframe\">\n",
       "  <thead>\n",
       "    <tr style=\"text-align: right;\">\n",
       "      <th></th>\n",
       "      <th>line_str</th>\n",
       "      <th>title</th>\n",
       "    </tr>\n",
       "    <tr>\n",
       "      <th>line_num</th>\n",
       "      <th></th>\n",
       "      <th></th>\n",
       "    </tr>\n",
       "  </thead>\n",
       "  <tbody>\n",
       "    <tr>\n",
       "      <th>19</th>\n",
       "      <td></td>\n",
       "      <td>Persuasion, by Jane Austen</td>\n",
       "    </tr>\n",
       "    <tr>\n",
       "      <th>20</th>\n",
       "      <td></td>\n",
       "      <td>Persuasion, by Jane Austen</td>\n",
       "    </tr>\n",
       "    <tr>\n",
       "      <th>21</th>\n",
       "      <td></td>\n",
       "      <td>Persuasion, by Jane Austen</td>\n",
       "    </tr>\n",
       "    <tr>\n",
       "      <th>22</th>\n",
       "      <td></td>\n",
       "      <td>Persuasion, by Jane Austen</td>\n",
       "    </tr>\n",
       "    <tr>\n",
       "      <th>23</th>\n",
       "      <td>Produced by Sharon Partridge and Martin Ward. ...</td>\n",
       "      <td>Persuasion, by Jane Austen</td>\n",
       "    </tr>\n",
       "    <tr>\n",
       "      <th>24</th>\n",
       "      <td>by Al Haines.</td>\n",
       "      <td>Persuasion, by Jane Austen</td>\n",
       "    </tr>\n",
       "    <tr>\n",
       "      <th>25</th>\n",
       "      <td></td>\n",
       "      <td>Persuasion, by Jane Austen</td>\n",
       "    </tr>\n",
       "    <tr>\n",
       "      <th>26</th>\n",
       "      <td></td>\n",
       "      <td>Persuasion, by Jane Austen</td>\n",
       "    </tr>\n",
       "    <tr>\n",
       "      <th>27</th>\n",
       "      <td></td>\n",
       "      <td>Persuasion, by Jane Austen</td>\n",
       "    </tr>\n",
       "    <tr>\n",
       "      <th>28</th>\n",
       "      <td></td>\n",
       "      <td>Persuasion, by Jane Austen</td>\n",
       "    </tr>\n",
       "    <tr>\n",
       "      <th>29</th>\n",
       "      <td></td>\n",
       "      <td>Persuasion, by Jane Austen</td>\n",
       "    </tr>\n",
       "    <tr>\n",
       "      <th>30</th>\n",
       "      <td></td>\n",
       "      <td>Persuasion, by Jane Austen</td>\n",
       "    </tr>\n",
       "    <tr>\n",
       "      <th>31</th>\n",
       "      <td></td>\n",
       "      <td>Persuasion, by Jane Austen</td>\n",
       "    </tr>\n",
       "    <tr>\n",
       "      <th>32</th>\n",
       "      <td></td>\n",
       "      <td>Persuasion, by Jane Austen</td>\n",
       "    </tr>\n",
       "    <tr>\n",
       "      <th>33</th>\n",
       "      <td></td>\n",
       "      <td>Persuasion, by Jane Austen</td>\n",
       "    </tr>\n",
       "    <tr>\n",
       "      <th>34</th>\n",
       "      <td></td>\n",
       "      <td>Persuasion, by Jane Austen</td>\n",
       "    </tr>\n",
       "    <tr>\n",
       "      <th>35</th>\n",
       "      <td>Persuasion</td>\n",
       "      <td>Persuasion, by Jane Austen</td>\n",
       "    </tr>\n",
       "    <tr>\n",
       "      <th>36</th>\n",
       "      <td></td>\n",
       "      <td>Persuasion, by Jane Austen</td>\n",
       "    </tr>\n",
       "    <tr>\n",
       "      <th>37</th>\n",
       "      <td></td>\n",
       "      <td>Persuasion, by Jane Austen</td>\n",
       "    </tr>\n",
       "    <tr>\n",
       "      <th>38</th>\n",
       "      <td>by</td>\n",
       "      <td>Persuasion, by Jane Austen</td>\n",
       "    </tr>\n",
       "    <tr>\n",
       "      <th>39</th>\n",
       "      <td></td>\n",
       "      <td>Persuasion, by Jane Austen</td>\n",
       "    </tr>\n",
       "    <tr>\n",
       "      <th>40</th>\n",
       "      <td>Jane Austen</td>\n",
       "      <td>Persuasion, by Jane Austen</td>\n",
       "    </tr>\n",
       "    <tr>\n",
       "      <th>41</th>\n",
       "      <td></td>\n",
       "      <td>Persuasion, by Jane Austen</td>\n",
       "    </tr>\n",
       "    <tr>\n",
       "      <th>42</th>\n",
       "      <td>(1818)</td>\n",
       "      <td>Persuasion, by Jane Austen</td>\n",
       "    </tr>\n",
       "    <tr>\n",
       "      <th>43</th>\n",
       "      <td></td>\n",
       "      <td>Persuasion, by Jane Austen</td>\n",
       "    </tr>\n",
       "    <tr>\n",
       "      <th>44</th>\n",
       "      <td></td>\n",
       "      <td>Persuasion, by Jane Austen</td>\n",
       "    </tr>\n",
       "    <tr>\n",
       "      <th>45</th>\n",
       "      <td></td>\n",
       "      <td>Persuasion, by Jane Austen</td>\n",
       "    </tr>\n",
       "    <tr>\n",
       "      <th>46</th>\n",
       "      <td></td>\n",
       "      <td>Persuasion, by Jane Austen</td>\n",
       "    </tr>\n",
       "    <tr>\n",
       "      <th>47</th>\n",
       "      <td>Chapter 1</td>\n",
       "      <td>Persuasion, by Jane Austen</td>\n",
       "    </tr>\n",
       "    <tr>\n",
       "      <th>48</th>\n",
       "      <td></td>\n",
       "      <td>Persuasion, by Jane Austen</td>\n",
       "    </tr>\n",
       "    <tr>\n",
       "      <th>...</th>\n",
       "      <td>...</td>\n",
       "      <td>...</td>\n",
       "    </tr>\n",
       "    <tr>\n",
       "      <th>8342</th>\n",
       "      <td>to his wife.</td>\n",
       "      <td>Persuasion, by Jane Austen</td>\n",
       "    </tr>\n",
       "    <tr>\n",
       "      <th>8343</th>\n",
       "      <td></td>\n",
       "      <td>Persuasion, by Jane Austen</td>\n",
       "    </tr>\n",
       "    <tr>\n",
       "      <th>8344</th>\n",
       "      <td>Mrs Smith's enjoyments were not spoiled by thi...</td>\n",
       "      <td>Persuasion, by Jane Austen</td>\n",
       "    </tr>\n",
       "    <tr>\n",
       "      <th>8345</th>\n",
       "      <td>with some improvement of health, and the acqui...</td>\n",
       "      <td>Persuasion, by Jane Austen</td>\n",
       "    </tr>\n",
       "    <tr>\n",
       "      <th>8346</th>\n",
       "      <td>be often with, for her cheerfulness and mental...</td>\n",
       "      <td>Persuasion, by Jane Austen</td>\n",
       "    </tr>\n",
       "    <tr>\n",
       "      <th>8347</th>\n",
       "      <td>her; and while these prime supplies of good re...</td>\n",
       "      <td>Persuasion, by Jane Austen</td>\n",
       "    </tr>\n",
       "    <tr>\n",
       "      <th>8348</th>\n",
       "      <td>bid defiance even to greater accessions of wor...</td>\n",
       "      <td>Persuasion, by Jane Austen</td>\n",
       "    </tr>\n",
       "    <tr>\n",
       "      <th>8349</th>\n",
       "      <td>might have been absolutely rich and perfectly ...</td>\n",
       "      <td>Persuasion, by Jane Austen</td>\n",
       "    </tr>\n",
       "    <tr>\n",
       "      <th>8350</th>\n",
       "      <td>happy.  Her spring of felicity was in the glow...</td>\n",
       "      <td>Persuasion, by Jane Austen</td>\n",
       "    </tr>\n",
       "    <tr>\n",
       "      <th>8351</th>\n",
       "      <td>friend Anne's was in the warmth of her heart. ...</td>\n",
       "      <td>Persuasion, by Jane Austen</td>\n",
       "    </tr>\n",
       "    <tr>\n",
       "      <th>8352</th>\n",
       "      <td>itself, and she had the full worth of it in Ca...</td>\n",
       "      <td>Persuasion, by Jane Austen</td>\n",
       "    </tr>\n",
       "    <tr>\n",
       "      <th>8353</th>\n",
       "      <td>affection.  His profession was all that could ...</td>\n",
       "      <td>Persuasion, by Jane Austen</td>\n",
       "    </tr>\n",
       "    <tr>\n",
       "      <th>8354</th>\n",
       "      <td>wish that tenderness less, the dread of a futu...</td>\n",
       "      <td>Persuasion, by Jane Austen</td>\n",
       "    </tr>\n",
       "    <tr>\n",
       "      <th>8355</th>\n",
       "      <td>her sunshine.  She gloried in being a sailor's...</td>\n",
       "      <td>Persuasion, by Jane Austen</td>\n",
       "    </tr>\n",
       "    <tr>\n",
       "      <th>8356</th>\n",
       "      <td>the tax of quick alarm for belonging to that p...</td>\n",
       "      <td>Persuasion, by Jane Austen</td>\n",
       "    </tr>\n",
       "    <tr>\n",
       "      <th>8357</th>\n",
       "      <td>possible, more distinguished in its domestic v...</td>\n",
       "      <td>Persuasion, by Jane Austen</td>\n",
       "    </tr>\n",
       "    <tr>\n",
       "      <th>8358</th>\n",
       "      <td>national importance.</td>\n",
       "      <td>Persuasion, by Jane Austen</td>\n",
       "    </tr>\n",
       "    <tr>\n",
       "      <th>8359</th>\n",
       "      <td></td>\n",
       "      <td>Persuasion, by Jane Austen</td>\n",
       "    </tr>\n",
       "    <tr>\n",
       "      <th>8360</th>\n",
       "      <td></td>\n",
       "      <td>Persuasion, by Jane Austen</td>\n",
       "    </tr>\n",
       "    <tr>\n",
       "      <th>8361</th>\n",
       "      <td></td>\n",
       "      <td>Persuasion, by Jane Austen</td>\n",
       "    </tr>\n",
       "    <tr>\n",
       "      <th>8362</th>\n",
       "      <td>Finis</td>\n",
       "      <td>Persuasion, by Jane Austen</td>\n",
       "    </tr>\n",
       "    <tr>\n",
       "      <th>8363</th>\n",
       "      <td></td>\n",
       "      <td>Persuasion, by Jane Austen</td>\n",
       "    </tr>\n",
       "    <tr>\n",
       "      <th>8364</th>\n",
       "      <td></td>\n",
       "      <td>Persuasion, by Jane Austen</td>\n",
       "    </tr>\n",
       "    <tr>\n",
       "      <th>8365</th>\n",
       "      <td></td>\n",
       "      <td>Persuasion, by Jane Austen</td>\n",
       "    </tr>\n",
       "    <tr>\n",
       "      <th>8366</th>\n",
       "      <td></td>\n",
       "      <td>Persuasion, by Jane Austen</td>\n",
       "    </tr>\n",
       "    <tr>\n",
       "      <th>8367</th>\n",
       "      <td></td>\n",
       "      <td>Persuasion, by Jane Austen</td>\n",
       "    </tr>\n",
       "    <tr>\n",
       "      <th>8368</th>\n",
       "      <td></td>\n",
       "      <td>Persuasion, by Jane Austen</td>\n",
       "    </tr>\n",
       "    <tr>\n",
       "      <th>8369</th>\n",
       "      <td></td>\n",
       "      <td>Persuasion, by Jane Austen</td>\n",
       "    </tr>\n",
       "    <tr>\n",
       "      <th>8370</th>\n",
       "      <td></td>\n",
       "      <td>Persuasion, by Jane Austen</td>\n",
       "    </tr>\n",
       "    <tr>\n",
       "      <th>8371</th>\n",
       "      <td>End of the Project Gutenberg EBook of Persuasi...</td>\n",
       "      <td>Persuasion, by Jane Austen</td>\n",
       "    </tr>\n",
       "  </tbody>\n",
       "</table>\n",
       "<p>8353 rows × 2 columns</p>\n",
       "</div>"
      ],
      "text/plain": [
       "                                                   line_str  \\\n",
       "line_num                                                      \n",
       "19                                                            \n",
       "20                                                            \n",
       "21                                                            \n",
       "22                                                            \n",
       "23        Produced by Sharon Partridge and Martin Ward. ...   \n",
       "24                                            by Al Haines.   \n",
       "25                                                            \n",
       "26                                                            \n",
       "27                                                            \n",
       "28                                                            \n",
       "29                                                            \n",
       "30                                                            \n",
       "31                                                            \n",
       "32                                                            \n",
       "33                                                            \n",
       "34                                                            \n",
       "35                                               Persuasion   \n",
       "36                                                            \n",
       "37                                                            \n",
       "38                                                       by   \n",
       "39                                                            \n",
       "40                                              Jane Austen   \n",
       "41                                                            \n",
       "42                                                   (1818)   \n",
       "43                                                            \n",
       "44                                                            \n",
       "45                                                            \n",
       "46                                                            \n",
       "47                                                Chapter 1   \n",
       "48                                                            \n",
       "...                                                     ...   \n",
       "8342                                           to his wife.   \n",
       "8343                                                          \n",
       "8344      Mrs Smith's enjoyments were not spoiled by thi...   \n",
       "8345      with some improvement of health, and the acqui...   \n",
       "8346      be often with, for her cheerfulness and mental...   \n",
       "8347      her; and while these prime supplies of good re...   \n",
       "8348      bid defiance even to greater accessions of wor...   \n",
       "8349      might have been absolutely rich and perfectly ...   \n",
       "8350      happy.  Her spring of felicity was in the glow...   \n",
       "8351      friend Anne's was in the warmth of her heart. ...   \n",
       "8352      itself, and she had the full worth of it in Ca...   \n",
       "8353      affection.  His profession was all that could ...   \n",
       "8354      wish that tenderness less, the dread of a futu...   \n",
       "8355      her sunshine.  She gloried in being a sailor's...   \n",
       "8356      the tax of quick alarm for belonging to that p...   \n",
       "8357      possible, more distinguished in its domestic v...   \n",
       "8358                                   national importance.   \n",
       "8359                                                          \n",
       "8360                                                          \n",
       "8361                                                          \n",
       "8362                                                  Finis   \n",
       "8363                                                          \n",
       "8364                                                          \n",
       "8365                                                          \n",
       "8366                                                          \n",
       "8367                                                          \n",
       "8368                                                          \n",
       "8369                                                          \n",
       "8370                                                          \n",
       "8371      End of the Project Gutenberg EBook of Persuasi...   \n",
       "\n",
       "                               title  \n",
       "line_num                              \n",
       "19        Persuasion, by Jane Austen  \n",
       "20        Persuasion, by Jane Austen  \n",
       "21        Persuasion, by Jane Austen  \n",
       "22        Persuasion, by Jane Austen  \n",
       "23        Persuasion, by Jane Austen  \n",
       "24        Persuasion, by Jane Austen  \n",
       "25        Persuasion, by Jane Austen  \n",
       "26        Persuasion, by Jane Austen  \n",
       "27        Persuasion, by Jane Austen  \n",
       "28        Persuasion, by Jane Austen  \n",
       "29        Persuasion, by Jane Austen  \n",
       "30        Persuasion, by Jane Austen  \n",
       "31        Persuasion, by Jane Austen  \n",
       "32        Persuasion, by Jane Austen  \n",
       "33        Persuasion, by Jane Austen  \n",
       "34        Persuasion, by Jane Austen  \n",
       "35        Persuasion, by Jane Austen  \n",
       "36        Persuasion, by Jane Austen  \n",
       "37        Persuasion, by Jane Austen  \n",
       "38        Persuasion, by Jane Austen  \n",
       "39        Persuasion, by Jane Austen  \n",
       "40        Persuasion, by Jane Austen  \n",
       "41        Persuasion, by Jane Austen  \n",
       "42        Persuasion, by Jane Austen  \n",
       "43        Persuasion, by Jane Austen  \n",
       "44        Persuasion, by Jane Austen  \n",
       "45        Persuasion, by Jane Austen  \n",
       "46        Persuasion, by Jane Austen  \n",
       "47        Persuasion, by Jane Austen  \n",
       "48        Persuasion, by Jane Austen  \n",
       "...                              ...  \n",
       "8342      Persuasion, by Jane Austen  \n",
       "8343      Persuasion, by Jane Austen  \n",
       "8344      Persuasion, by Jane Austen  \n",
       "8345      Persuasion, by Jane Austen  \n",
       "8346      Persuasion, by Jane Austen  \n",
       "8347      Persuasion, by Jane Austen  \n",
       "8348      Persuasion, by Jane Austen  \n",
       "8349      Persuasion, by Jane Austen  \n",
       "8350      Persuasion, by Jane Austen  \n",
       "8351      Persuasion, by Jane Austen  \n",
       "8352      Persuasion, by Jane Austen  \n",
       "8353      Persuasion, by Jane Austen  \n",
       "8354      Persuasion, by Jane Austen  \n",
       "8355      Persuasion, by Jane Austen  \n",
       "8356      Persuasion, by Jane Austen  \n",
       "8357      Persuasion, by Jane Austen  \n",
       "8358      Persuasion, by Jane Austen  \n",
       "8359      Persuasion, by Jane Austen  \n",
       "8360      Persuasion, by Jane Austen  \n",
       "8361      Persuasion, by Jane Austen  \n",
       "8362      Persuasion, by Jane Austen  \n",
       "8363      Persuasion, by Jane Austen  \n",
       "8364      Persuasion, by Jane Austen  \n",
       "8365      Persuasion, by Jane Austen  \n",
       "8366      Persuasion, by Jane Austen  \n",
       "8367      Persuasion, by Jane Austen  \n",
       "8368      Persuasion, by Jane Austen  \n",
       "8369      Persuasion, by Jane Austen  \n",
       "8370      Persuasion, by Jane Austen  \n",
       "8371      Persuasion, by Jane Austen  \n",
       "\n",
       "[8353 rows x 2 columns]"
      ]
     },
     "execution_count": 15,
     "metadata": {},
     "output_type": "execute_result"
    }
   ],
   "source": [
    "df"
   ]
  },
  {
   "cell_type": "markdown",
   "metadata": {
    "toc-hr-collapsed": true
   },
   "source": [
    "# Chunk by chapter"
   ]
  },
  {
   "cell_type": "markdown",
   "metadata": {},
   "source": [
    "## Find all chapter headers"
   ]
  },
  {
   "cell_type": "code",
   "execution_count": 16,
   "metadata": {},
   "outputs": [],
   "source": [
    "chap_lines = df.line_str.str.match(r\"^\\s*(chapter|letter)\\s+(\\d+)\", case=False)"
   ]
  },
  {
   "cell_type": "code",
   "execution_count": 17,
   "metadata": {},
   "outputs": [
    {
     "data": {
      "text/html": [
       "<div>\n",
       "<style scoped>\n",
       "    .dataframe tbody tr th:only-of-type {\n",
       "        vertical-align: middle;\n",
       "    }\n",
       "\n",
       "    .dataframe tbody tr th {\n",
       "        vertical-align: top;\n",
       "    }\n",
       "\n",
       "    .dataframe thead th {\n",
       "        text-align: right;\n",
       "    }\n",
       "</style>\n",
       "<table border=\"1\" class=\"dataframe\">\n",
       "  <thead>\n",
       "    <tr style=\"text-align: right;\">\n",
       "      <th></th>\n",
       "      <th>line_str</th>\n",
       "      <th>title</th>\n",
       "    </tr>\n",
       "    <tr>\n",
       "      <th>line_num</th>\n",
       "      <th></th>\n",
       "      <th></th>\n",
       "    </tr>\n",
       "  </thead>\n",
       "  <tbody>\n",
       "    <tr>\n",
       "      <th>47</th>\n",
       "      <td>Chapter 1</td>\n",
       "      <td>Persuasion, by Jane Austen</td>\n",
       "    </tr>\n",
       "    <tr>\n",
       "      <th>306</th>\n",
       "      <td>Chapter 2</td>\n",
       "      <td>Persuasion, by Jane Austen</td>\n",
       "    </tr>\n",
       "    <tr>\n",
       "      <th>500</th>\n",
       "      <td>Chapter 3</td>\n",
       "      <td>Persuasion, by Jane Austen</td>\n",
       "    </tr>\n",
       "    <tr>\n",
       "      <th>786</th>\n",
       "      <td>Chapter 4</td>\n",
       "      <td>Persuasion, by Jane Austen</td>\n",
       "    </tr>\n",
       "    <tr>\n",
       "      <th>959</th>\n",
       "      <td>Chapter 5</td>\n",
       "      <td>Persuasion, by Jane Austen</td>\n",
       "    </tr>\n",
       "    <tr>\n",
       "      <th>1297</th>\n",
       "      <td>Chapter 6</td>\n",
       "      <td>Persuasion, by Jane Austen</td>\n",
       "    </tr>\n",
       "    <tr>\n",
       "      <th>1657</th>\n",
       "      <td>Chapter 7</td>\n",
       "      <td>Persuasion, by Jane Austen</td>\n",
       "    </tr>\n",
       "    <tr>\n",
       "      <th>1992</th>\n",
       "      <td>Chapter 8</td>\n",
       "      <td>Persuasion, by Jane Austen</td>\n",
       "    </tr>\n",
       "    <tr>\n",
       "      <th>2346</th>\n",
       "      <td>Chapter 9</td>\n",
       "      <td>Persuasion, by Jane Austen</td>\n",
       "    </tr>\n",
       "    <tr>\n",
       "      <th>2632</th>\n",
       "      <td>Chapter 10</td>\n",
       "      <td>Persuasion, by Jane Austen</td>\n",
       "    </tr>\n",
       "    <tr>\n",
       "      <th>3020</th>\n",
       "      <td>Chapter 11</td>\n",
       "      <td>Persuasion, by Jane Austen</td>\n",
       "    </tr>\n",
       "    <tr>\n",
       "      <th>3314</th>\n",
       "      <td>Chapter 12</td>\n",
       "      <td>Persuasion, by Jane Austen</td>\n",
       "    </tr>\n",
       "    <tr>\n",
       "      <th>3876</th>\n",
       "      <td>Chapter 13</td>\n",
       "      <td>Persuasion, by Jane Austen</td>\n",
       "    </tr>\n",
       "    <tr>\n",
       "      <th>4150</th>\n",
       "      <td>Chapter 14</td>\n",
       "      <td>Persuasion, by Jane Austen</td>\n",
       "    </tr>\n",
       "    <tr>\n",
       "      <th>4409</th>\n",
       "      <td>Chapter 15</td>\n",
       "      <td>Persuasion, by Jane Austen</td>\n",
       "    </tr>\n",
       "    <tr>\n",
       "      <th>4677</th>\n",
       "      <td>Chapter 16</td>\n",
       "      <td>Persuasion, by Jane Austen</td>\n",
       "    </tr>\n",
       "    <tr>\n",
       "      <th>4912</th>\n",
       "      <td>Chapter 17</td>\n",
       "      <td>Persuasion, by Jane Austen</td>\n",
       "    </tr>\n",
       "    <tr>\n",
       "      <th>5248</th>\n",
       "      <td>Chapter 18</td>\n",
       "      <td>Persuasion, by Jane Austen</td>\n",
       "    </tr>\n",
       "    <tr>\n",
       "      <th>5654</th>\n",
       "      <td>Chapter 19</td>\n",
       "      <td>Persuasion, by Jane Austen</td>\n",
       "    </tr>\n",
       "    <tr>\n",
       "      <th>5905</th>\n",
       "      <td>Chapter 20</td>\n",
       "      <td>Persuasion, by Jane Austen</td>\n",
       "    </tr>\n",
       "    <tr>\n",
       "      <th>6265</th>\n",
       "      <td>Chapter 21</td>\n",
       "      <td>Persuasion, by Jane Austen</td>\n",
       "    </tr>\n",
       "    <tr>\n",
       "      <th>6970</th>\n",
       "      <td>Chapter 22</td>\n",
       "      <td>Persuasion, by Jane Austen</td>\n",
       "    </tr>\n",
       "    <tr>\n",
       "      <th>7555</th>\n",
       "      <td>Chapter 23</td>\n",
       "      <td>Persuasion, by Jane Austen</td>\n",
       "    </tr>\n",
       "    <tr>\n",
       "      <th>8208</th>\n",
       "      <td>Chapter 24</td>\n",
       "      <td>Persuasion, by Jane Austen</td>\n",
       "    </tr>\n",
       "  </tbody>\n",
       "</table>\n",
       "</div>"
      ],
      "text/plain": [
       "            line_str                       title\n",
       "line_num                                        \n",
       "47         Chapter 1  Persuasion, by Jane Austen\n",
       "306        Chapter 2  Persuasion, by Jane Austen\n",
       "500        Chapter 3  Persuasion, by Jane Austen\n",
       "786        Chapter 4  Persuasion, by Jane Austen\n",
       "959        Chapter 5  Persuasion, by Jane Austen\n",
       "1297       Chapter 6  Persuasion, by Jane Austen\n",
       "1657       Chapter 7  Persuasion, by Jane Austen\n",
       "1992       Chapter 8  Persuasion, by Jane Austen\n",
       "2346       Chapter 9  Persuasion, by Jane Austen\n",
       "2632      Chapter 10  Persuasion, by Jane Austen\n",
       "3020      Chapter 11  Persuasion, by Jane Austen\n",
       "3314      Chapter 12  Persuasion, by Jane Austen\n",
       "3876      Chapter 13  Persuasion, by Jane Austen\n",
       "4150      Chapter 14  Persuasion, by Jane Austen\n",
       "4409      Chapter 15  Persuasion, by Jane Austen\n",
       "4677      Chapter 16  Persuasion, by Jane Austen\n",
       "4912      Chapter 17  Persuasion, by Jane Austen\n",
       "5248      Chapter 18  Persuasion, by Jane Austen\n",
       "5654      Chapter 19  Persuasion, by Jane Austen\n",
       "5905      Chapter 20  Persuasion, by Jane Austen\n",
       "6265      Chapter 21  Persuasion, by Jane Austen\n",
       "6970      Chapter 22  Persuasion, by Jane Austen\n",
       "7555      Chapter 23  Persuasion, by Jane Austen\n",
       "8208      Chapter 24  Persuasion, by Jane Austen"
      ]
     },
     "execution_count": 17,
     "metadata": {},
     "output_type": "execute_result"
    }
   ],
   "source": [
    "df.loc[chap_lines]"
   ]
  },
  {
   "cell_type": "markdown",
   "metadata": {},
   "source": [
    "## Assign numbers to chapters"
   ]
  },
  {
   "cell_type": "code",
   "execution_count": 18,
   "metadata": {},
   "outputs": [],
   "source": [
    "chap_nums = [i+1 for i in range(df.loc[chap_lines].shape[0])]"
   ]
  },
  {
   "cell_type": "code",
   "execution_count": 19,
   "metadata": {},
   "outputs": [],
   "source": [
    "df.loc[chap_lines, 'chap_num'] = chap_nums"
   ]
  },
  {
   "cell_type": "code",
   "execution_count": 20,
   "metadata": {},
   "outputs": [],
   "source": [
    "# df"
   ]
  },
  {
   "cell_type": "markdown",
   "metadata": {},
   "source": [
    "## Forward-fill chapter numbers to following text lines"
   ]
  },
  {
   "cell_type": "code",
   "execution_count": 21,
   "metadata": {},
   "outputs": [],
   "source": [
    "df.chap_num = df.chap_num.ffill()"
   ]
  },
  {
   "cell_type": "code",
   "execution_count": 22,
   "metadata": {},
   "outputs": [],
   "source": [
    "# df.head(100)"
   ]
  },
  {
   "cell_type": "markdown",
   "metadata": {},
   "source": [
    "## Clean up"
   ]
  },
  {
   "cell_type": "code",
   "execution_count": 23,
   "metadata": {},
   "outputs": [],
   "source": [
    "df = df.loc[~df.chap_num.isna()] # Remove chapter heading lines\n",
    "df = df.loc[~chap_lines] # Remove everything before Chapter 1\n",
    "df.chap_num = df.chap_num.astype('int') # Convert chap_num from float to int"
   ]
  },
  {
   "cell_type": "code",
   "execution_count": 24,
   "metadata": {},
   "outputs": [
    {
     "data": {
      "text/html": [
       "<div>\n",
       "<style scoped>\n",
       "    .dataframe tbody tr th:only-of-type {\n",
       "        vertical-align: middle;\n",
       "    }\n",
       "\n",
       "    .dataframe tbody tr th {\n",
       "        vertical-align: top;\n",
       "    }\n",
       "\n",
       "    .dataframe thead th {\n",
       "        text-align: right;\n",
       "    }\n",
       "</style>\n",
       "<table border=\"1\" class=\"dataframe\">\n",
       "  <thead>\n",
       "    <tr style=\"text-align: right;\">\n",
       "      <th></th>\n",
       "      <th>line_str</th>\n",
       "      <th>title</th>\n",
       "      <th>chap_num</th>\n",
       "    </tr>\n",
       "    <tr>\n",
       "      <th>line_num</th>\n",
       "      <th></th>\n",
       "      <th></th>\n",
       "      <th></th>\n",
       "    </tr>\n",
       "  </thead>\n",
       "  <tbody>\n",
       "    <tr>\n",
       "      <th>4411</th>\n",
       "      <td></td>\n",
       "      <td>Persuasion, by Jane Austen</td>\n",
       "      <td>15</td>\n",
       "    </tr>\n",
       "    <tr>\n",
       "      <th>1154</th>\n",
       "      <td>at the time; and I do not think I ever was so ...</td>\n",
       "      <td>Persuasion, by Jane Austen</td>\n",
       "      <td>5</td>\n",
       "    </tr>\n",
       "    <tr>\n",
       "      <th>3961</th>\n",
       "      <td>feeling, some breathings of friendship and rec...</td>\n",
       "      <td>Persuasion, by Jane Austen</td>\n",
       "      <td>13</td>\n",
       "    </tr>\n",
       "    <tr>\n",
       "      <th>7253</th>\n",
       "      <td>She was particularly asked to meet Mr Elliot, ...</td>\n",
       "      <td>Persuasion, by Jane Austen</td>\n",
       "      <td>22</td>\n",
       "    </tr>\n",
       "    <tr>\n",
       "      <th>1030</th>\n",
       "      <td>Lady Russell took her, and that all the interv...</td>\n",
       "      <td>Persuasion, by Jane Austen</td>\n",
       "      <td>5</td>\n",
       "    </tr>\n",
       "    <tr>\n",
       "      <th>7812</th>\n",
       "      <td>could not or would not answer fully.</td>\n",
       "      <td>Persuasion, by Jane Austen</td>\n",
       "      <td>23</td>\n",
       "    </tr>\n",
       "    <tr>\n",
       "      <th>1143</th>\n",
       "      <td>gradually growing shabby, under the influence ...</td>\n",
       "      <td>Persuasion, by Jane Austen</td>\n",
       "      <td>5</td>\n",
       "    </tr>\n",
       "    <tr>\n",
       "      <th>2640</th>\n",
       "      <td>but think, as far as she might dare to judge f...</td>\n",
       "      <td>Persuasion, by Jane Austen</td>\n",
       "      <td>10</td>\n",
       "    </tr>\n",
       "    <tr>\n",
       "      <th>2857</th>\n",
       "      <td>she will cherish all her present powers of mind.\"</td>\n",
       "      <td>Persuasion, by Jane Austen</td>\n",
       "      <td>10</td>\n",
       "    </tr>\n",
       "    <tr>\n",
       "      <th>4811</th>\n",
       "      <td>time, there had been an unlucky omission at Ke...</td>\n",
       "      <td>Persuasion, by Jane Austen</td>\n",
       "      <td>16</td>\n",
       "    </tr>\n",
       "  </tbody>\n",
       "</table>\n",
       "</div>"
      ],
      "text/plain": [
       "                                                   line_str  \\\n",
       "line_num                                                      \n",
       "4411                                                          \n",
       "1154      at the time; and I do not think I ever was so ...   \n",
       "3961      feeling, some breathings of friendship and rec...   \n",
       "7253      She was particularly asked to meet Mr Elliot, ...   \n",
       "1030      Lady Russell took her, and that all the interv...   \n",
       "7812                   could not or would not answer fully.   \n",
       "1143      gradually growing shabby, under the influence ...   \n",
       "2640      but think, as far as she might dare to judge f...   \n",
       "2857      she will cherish all her present powers of mind.\"   \n",
       "4811      time, there had been an unlucky omission at Ke...   \n",
       "\n",
       "                               title  chap_num  \n",
       "line_num                                        \n",
       "4411      Persuasion, by Jane Austen        15  \n",
       "1154      Persuasion, by Jane Austen         5  \n",
       "3961      Persuasion, by Jane Austen        13  \n",
       "7253      Persuasion, by Jane Austen        22  \n",
       "1030      Persuasion, by Jane Austen         5  \n",
       "7812      Persuasion, by Jane Austen        23  \n",
       "1143      Persuasion, by Jane Austen         5  \n",
       "2640      Persuasion, by Jane Austen        10  \n",
       "2857      Persuasion, by Jane Austen        10  \n",
       "4811      Persuasion, by Jane Austen        16  "
      ]
     },
     "execution_count": 24,
     "metadata": {},
     "output_type": "execute_result"
    }
   ],
   "source": [
    "df.sample(10)"
   ]
  },
  {
   "cell_type": "markdown",
   "metadata": {},
   "source": [
    "## Group by chapter num and reset dataframe "
   ]
  },
  {
   "cell_type": "code",
   "execution_count": 25,
   "metadata": {},
   "outputs": [],
   "source": [
    "df = df.groupby(OHCO[:1]).line_str.apply(lambda x: '\\n'.join(x)).to_frame() # Make big string"
   ]
  },
  {
   "cell_type": "code",
   "execution_count": 26,
   "metadata": {},
   "outputs": [
    {
     "data": {
      "text/html": [
       "<div>\n",
       "<style scoped>\n",
       "    .dataframe tbody tr th:only-of-type {\n",
       "        vertical-align: middle;\n",
       "    }\n",
       "\n",
       "    .dataframe tbody tr th {\n",
       "        vertical-align: top;\n",
       "    }\n",
       "\n",
       "    .dataframe thead th {\n",
       "        text-align: right;\n",
       "    }\n",
       "</style>\n",
       "<table border=\"1\" class=\"dataframe\">\n",
       "  <thead>\n",
       "    <tr style=\"text-align: right;\">\n",
       "      <th></th>\n",
       "      <th>line_str</th>\n",
       "    </tr>\n",
       "    <tr>\n",
       "      <th>chap_num</th>\n",
       "      <th></th>\n",
       "    </tr>\n",
       "  </thead>\n",
       "  <tbody>\n",
       "    <tr>\n",
       "      <th>1</th>\n",
       "      <td>\\n\\nSir Walter Elliot, of Kellynch Hall, in So...</td>\n",
       "    </tr>\n",
       "    <tr>\n",
       "      <th>2</th>\n",
       "      <td>\\n\\nMr Shepherd, a civil, cautious lawyer, who...</td>\n",
       "    </tr>\n",
       "    <tr>\n",
       "      <th>3</th>\n",
       "      <td>\\n\\n\"I must take leave to observe, Sir Walter,...</td>\n",
       "    </tr>\n",
       "    <tr>\n",
       "      <th>4</th>\n",
       "      <td>\\n\\nHe was not Mr Wentworth, the former curate...</td>\n",
       "    </tr>\n",
       "    <tr>\n",
       "      <th>5</th>\n",
       "      <td>\\n\\nOn the morning appointed for Admiral and M...</td>\n",
       "    </tr>\n",
       "  </tbody>\n",
       "</table>\n",
       "</div>"
      ],
      "text/plain": [
       "                                                   line_str\n",
       "chap_num                                                   \n",
       "1         \\n\\nSir Walter Elliot, of Kellynch Hall, in So...\n",
       "2         \\n\\nMr Shepherd, a civil, cautious lawyer, who...\n",
       "3         \\n\\n\"I must take leave to observe, Sir Walter,...\n",
       "4         \\n\\nHe was not Mr Wentworth, the former curate...\n",
       "5         \\n\\nOn the morning appointed for Admiral and M..."
      ]
     },
     "execution_count": 26,
     "metadata": {},
     "output_type": "execute_result"
    }
   ],
   "source": [
    "df.head()"
   ]
  },
  {
   "cell_type": "markdown",
   "metadata": {},
   "source": [
    "# Split into paragraphs "
   ]
  },
  {
   "cell_type": "code",
   "execution_count": 27,
   "metadata": {},
   "outputs": [],
   "source": [
    "df = df['line_str'].str.split(r'\\n\\n+', expand=True).stack()\\\n",
    "    .to_frame().rename(columns={0:'para_str'})"
   ]
  },
  {
   "cell_type": "code",
   "execution_count": 28,
   "metadata": {},
   "outputs": [
    {
     "data": {
      "text/html": [
       "<div>\n",
       "<style scoped>\n",
       "    .dataframe tbody tr th:only-of-type {\n",
       "        vertical-align: middle;\n",
       "    }\n",
       "\n",
       "    .dataframe tbody tr th {\n",
       "        vertical-align: top;\n",
       "    }\n",
       "\n",
       "    .dataframe thead th {\n",
       "        text-align: right;\n",
       "    }\n",
       "</style>\n",
       "<table border=\"1\" class=\"dataframe\">\n",
       "  <thead>\n",
       "    <tr style=\"text-align: right;\">\n",
       "      <th></th>\n",
       "      <th></th>\n",
       "      <th>para_str</th>\n",
       "    </tr>\n",
       "    <tr>\n",
       "      <th>chap_num</th>\n",
       "      <th></th>\n",
       "      <th></th>\n",
       "    </tr>\n",
       "  </thead>\n",
       "  <tbody>\n",
       "    <tr>\n",
       "      <th rowspan=\"5\" valign=\"top\">1</th>\n",
       "      <th>0</th>\n",
       "      <td></td>\n",
       "    </tr>\n",
       "    <tr>\n",
       "      <th>1</th>\n",
       "      <td>Sir Walter Elliot, of Kellynch Hall, in Somers...</td>\n",
       "    </tr>\n",
       "    <tr>\n",
       "      <th>2</th>\n",
       "      <td>\"ELLIOT OF KELLYNCH HALL.</td>\n",
       "    </tr>\n",
       "    <tr>\n",
       "      <th>3</th>\n",
       "      <td>\"Walter Elliot, born March 1, 1760, married, J...</td>\n",
       "    </tr>\n",
       "    <tr>\n",
       "      <th>4</th>\n",
       "      <td>Precisely such had the paragraph originally st...</td>\n",
       "    </tr>\n",
       "  </tbody>\n",
       "</table>\n",
       "</div>"
      ],
      "text/plain": [
       "                                                     para_str\n",
       "chap_num                                                     \n",
       "1        0                                                   \n",
       "         1  Sir Walter Elliot, of Kellynch Hall, in Somers...\n",
       "         2                          \"ELLIOT OF KELLYNCH HALL.\n",
       "         3  \"Walter Elliot, born March 1, 1760, married, J...\n",
       "         4  Precisely such had the paragraph originally st..."
      ]
     },
     "execution_count": 28,
     "metadata": {},
     "output_type": "execute_result"
    }
   ],
   "source": [
    "df.head()"
   ]
  },
  {
   "cell_type": "code",
   "execution_count": 29,
   "metadata": {},
   "outputs": [],
   "source": [
    "df.index.names = OHCO[:2]"
   ]
  },
  {
   "cell_type": "code",
   "execution_count": 30,
   "metadata": {},
   "outputs": [
    {
     "data": {
      "text/html": [
       "<div>\n",
       "<style scoped>\n",
       "    .dataframe tbody tr th:only-of-type {\n",
       "        vertical-align: middle;\n",
       "    }\n",
       "\n",
       "    .dataframe tbody tr th {\n",
       "        vertical-align: top;\n",
       "    }\n",
       "\n",
       "    .dataframe thead th {\n",
       "        text-align: right;\n",
       "    }\n",
       "</style>\n",
       "<table border=\"1\" class=\"dataframe\">\n",
       "  <thead>\n",
       "    <tr style=\"text-align: right;\">\n",
       "      <th></th>\n",
       "      <th></th>\n",
       "      <th>para_str</th>\n",
       "    </tr>\n",
       "    <tr>\n",
       "      <th>chap_num</th>\n",
       "      <th>para_num</th>\n",
       "      <th></th>\n",
       "    </tr>\n",
       "  </thead>\n",
       "  <tbody>\n",
       "    <tr>\n",
       "      <th rowspan=\"5\" valign=\"top\">1</th>\n",
       "      <th>0</th>\n",
       "      <td></td>\n",
       "    </tr>\n",
       "    <tr>\n",
       "      <th>1</th>\n",
       "      <td>Sir Walter Elliot, of Kellynch Hall, in Somers...</td>\n",
       "    </tr>\n",
       "    <tr>\n",
       "      <th>2</th>\n",
       "      <td>\"ELLIOT OF KELLYNCH HALL.</td>\n",
       "    </tr>\n",
       "    <tr>\n",
       "      <th>3</th>\n",
       "      <td>\"Walter Elliot, born March 1, 1760, married, J...</td>\n",
       "    </tr>\n",
       "    <tr>\n",
       "      <th>4</th>\n",
       "      <td>Precisely such had the paragraph originally st...</td>\n",
       "    </tr>\n",
       "  </tbody>\n",
       "</table>\n",
       "</div>"
      ],
      "text/plain": [
       "                                                            para_str\n",
       "chap_num para_num                                                   \n",
       "1        0                                                          \n",
       "         1         Sir Walter Elliot, of Kellynch Hall, in Somers...\n",
       "         2                                 \"ELLIOT OF KELLYNCH HALL.\n",
       "         3         \"Walter Elliot, born March 1, 1760, married, J...\n",
       "         4         Precisely such had the paragraph originally st..."
      ]
     },
     "execution_count": 30,
     "metadata": {},
     "output_type": "execute_result"
    }
   ],
   "source": [
    "df.head()"
   ]
  },
  {
   "cell_type": "code",
   "execution_count": 31,
   "metadata": {},
   "outputs": [],
   "source": [
    "df['para_str'] = df['para_str'].str.replace(r'\\n', ' ').str.strip()\n",
    "df = df[~df['para_str'].str.match(r'^\\s*$')] # Remove empty paragraphs"
   ]
  },
  {
   "cell_type": "code",
   "execution_count": 32,
   "metadata": {},
   "outputs": [
    {
     "data": {
      "text/html": [
       "<div>\n",
       "<style scoped>\n",
       "    .dataframe tbody tr th:only-of-type {\n",
       "        vertical-align: middle;\n",
       "    }\n",
       "\n",
       "    .dataframe tbody tr th {\n",
       "        vertical-align: top;\n",
       "    }\n",
       "\n",
       "    .dataframe thead th {\n",
       "        text-align: right;\n",
       "    }\n",
       "</style>\n",
       "<table border=\"1\" class=\"dataframe\">\n",
       "  <thead>\n",
       "    <tr style=\"text-align: right;\">\n",
       "      <th></th>\n",
       "      <th></th>\n",
       "      <th>para_str</th>\n",
       "    </tr>\n",
       "    <tr>\n",
       "      <th>chap_num</th>\n",
       "      <th>para_num</th>\n",
       "      <th></th>\n",
       "    </tr>\n",
       "  </thead>\n",
       "  <tbody>\n",
       "    <tr>\n",
       "      <th rowspan=\"5\" valign=\"top\">1</th>\n",
       "      <th>1</th>\n",
       "      <td>Sir Walter Elliot, of Kellynch Hall, in Somers...</td>\n",
       "    </tr>\n",
       "    <tr>\n",
       "      <th>2</th>\n",
       "      <td>\"ELLIOT OF KELLYNCH HALL.</td>\n",
       "    </tr>\n",
       "    <tr>\n",
       "      <th>3</th>\n",
       "      <td>\"Walter Elliot, born March 1, 1760, married, J...</td>\n",
       "    </tr>\n",
       "    <tr>\n",
       "      <th>4</th>\n",
       "      <td>Precisely such had the paragraph originally st...</td>\n",
       "    </tr>\n",
       "    <tr>\n",
       "      <th>5</th>\n",
       "      <td>Then followed the history and rise of the anci...</td>\n",
       "    </tr>\n",
       "  </tbody>\n",
       "</table>\n",
       "</div>"
      ],
      "text/plain": [
       "                                                            para_str\n",
       "chap_num para_num                                                   \n",
       "1        1         Sir Walter Elliot, of Kellynch Hall, in Somers...\n",
       "         2                                 \"ELLIOT OF KELLYNCH HALL.\n",
       "         3         \"Walter Elliot, born March 1, 1760, married, J...\n",
       "         4         Precisely such had the paragraph originally st...\n",
       "         5         Then followed the history and rise of the anci..."
      ]
     },
     "execution_count": 32,
     "metadata": {},
     "output_type": "execute_result"
    }
   ],
   "source": [
    "df.head()"
   ]
  },
  {
   "cell_type": "markdown",
   "metadata": {},
   "source": [
    "# Split into sentences"
   ]
  },
  {
   "cell_type": "code",
   "execution_count": 33,
   "metadata": {},
   "outputs": [],
   "source": [
    "df = df['para_str'].str.split(r'[.?!;]', expand=True).stack()\\\n",
    "    .to_frame().rename(columns={0:'sent_str'})"
   ]
  },
  {
   "cell_type": "code",
   "execution_count": 34,
   "metadata": {},
   "outputs": [],
   "source": [
    "df.index.names = OHCO[:3]"
   ]
  },
  {
   "cell_type": "code",
   "execution_count": 35,
   "metadata": {},
   "outputs": [],
   "source": [
    "df = df[~df['sent_str'].str.match(r'^\\s*$')] # Remove empty paragraphs"
   ]
  },
  {
   "cell_type": "code",
   "execution_count": 36,
   "metadata": {},
   "outputs": [
    {
     "data": {
      "text/html": [
       "<div>\n",
       "<style scoped>\n",
       "    .dataframe tbody tr th:only-of-type {\n",
       "        vertical-align: middle;\n",
       "    }\n",
       "\n",
       "    .dataframe tbody tr th {\n",
       "        vertical-align: top;\n",
       "    }\n",
       "\n",
       "    .dataframe thead th {\n",
       "        text-align: right;\n",
       "    }\n",
       "</style>\n",
       "<table border=\"1\" class=\"dataframe\">\n",
       "  <thead>\n",
       "    <tr style=\"text-align: right;\">\n",
       "      <th></th>\n",
       "      <th></th>\n",
       "      <th></th>\n",
       "      <th>sent_str</th>\n",
       "    </tr>\n",
       "    <tr>\n",
       "      <th>chap_num</th>\n",
       "      <th>para_num</th>\n",
       "      <th>sent_num</th>\n",
       "      <th></th>\n",
       "    </tr>\n",
       "  </thead>\n",
       "  <tbody>\n",
       "    <tr>\n",
       "      <th rowspan=\"5\" valign=\"top\">1</th>\n",
       "      <th rowspan=\"5\" valign=\"top\">1</th>\n",
       "      <th>0</th>\n",
       "      <td>Sir Walter Elliot, of Kellynch Hall, in Somers...</td>\n",
       "    </tr>\n",
       "    <tr>\n",
       "      <th>1</th>\n",
       "      <td>there he found occupation for an idle hour, a...</td>\n",
       "    </tr>\n",
       "    <tr>\n",
       "      <th>2</th>\n",
       "      <td>there his faculties were roused into admirati...</td>\n",
       "    </tr>\n",
       "    <tr>\n",
       "      <th>3</th>\n",
       "      <td>there any unwelcome sensations, arising from ...</td>\n",
       "    </tr>\n",
       "    <tr>\n",
       "      <th>4</th>\n",
       "      <td>and there, if every other leaf were powerless...</td>\n",
       "    </tr>\n",
       "  </tbody>\n",
       "</table>\n",
       "</div>"
      ],
      "text/plain": [
       "                                                                     sent_str\n",
       "chap_num para_num sent_num                                                   \n",
       "1        1        0         Sir Walter Elliot, of Kellynch Hall, in Somers...\n",
       "                  1          there he found occupation for an idle hour, a...\n",
       "                  2          there his faculties were roused into admirati...\n",
       "                  3          there any unwelcome sensations, arising from ...\n",
       "                  4          and there, if every other leaf were powerless..."
      ]
     },
     "execution_count": 36,
     "metadata": {},
     "output_type": "execute_result"
    }
   ],
   "source": [
    "df.head()"
   ]
  },
  {
   "cell_type": "markdown",
   "metadata": {},
   "source": [
    "# Split into tokens"
   ]
  },
  {
   "cell_type": "code",
   "execution_count": 37,
   "metadata": {},
   "outputs": [],
   "source": [
    "df = df['sent_str'].str.split(r'\\s+', expand=True).stack()\\\n",
    "    .to_frame().rename(columns={0:'token_str'})"
   ]
  },
  {
   "cell_type": "code",
   "execution_count": 38,
   "metadata": {},
   "outputs": [],
   "source": [
    "df.index.names = OHCO[:4]"
   ]
  },
  {
   "cell_type": "code",
   "execution_count": 39,
   "metadata": {},
   "outputs": [
    {
     "data": {
      "text/html": [
       "<div>\n",
       "<style scoped>\n",
       "    .dataframe tbody tr th:only-of-type {\n",
       "        vertical-align: middle;\n",
       "    }\n",
       "\n",
       "    .dataframe tbody tr th {\n",
       "        vertical-align: top;\n",
       "    }\n",
       "\n",
       "    .dataframe thead th {\n",
       "        text-align: right;\n",
       "    }\n",
       "</style>\n",
       "<table border=\"1\" class=\"dataframe\">\n",
       "  <thead>\n",
       "    <tr style=\"text-align: right;\">\n",
       "      <th></th>\n",
       "      <th></th>\n",
       "      <th></th>\n",
       "      <th></th>\n",
       "      <th>token_str</th>\n",
       "    </tr>\n",
       "    <tr>\n",
       "      <th>chap_num</th>\n",
       "      <th>para_num</th>\n",
       "      <th>sent_num</th>\n",
       "      <th>token_num</th>\n",
       "      <th></th>\n",
       "    </tr>\n",
       "  </thead>\n",
       "  <tbody>\n",
       "    <tr>\n",
       "      <th rowspan=\"5\" valign=\"top\">1</th>\n",
       "      <th rowspan=\"5\" valign=\"top\">1</th>\n",
       "      <th rowspan=\"5\" valign=\"top\">0</th>\n",
       "      <th>0</th>\n",
       "      <td>Sir</td>\n",
       "    </tr>\n",
       "    <tr>\n",
       "      <th>1</th>\n",
       "      <td>Walter</td>\n",
       "    </tr>\n",
       "    <tr>\n",
       "      <th>2</th>\n",
       "      <td>Elliot,</td>\n",
       "    </tr>\n",
       "    <tr>\n",
       "      <th>3</th>\n",
       "      <td>of</td>\n",
       "    </tr>\n",
       "    <tr>\n",
       "      <th>4</th>\n",
       "      <td>Kellynch</td>\n",
       "    </tr>\n",
       "  </tbody>\n",
       "</table>\n",
       "</div>"
      ],
      "text/plain": [
       "                                     token_str\n",
       "chap_num para_num sent_num token_num          \n",
       "1        1        0        0               Sir\n",
       "                           1            Walter\n",
       "                           2           Elliot,\n",
       "                           3                of\n",
       "                           4          Kellynch"
      ]
     },
     "execution_count": 39,
     "metadata": {},
     "output_type": "execute_result"
    }
   ],
   "source": [
    "df.head()"
   ]
  },
  {
   "cell_type": "markdown",
   "metadata": {},
   "source": [
    "# Gathering by Content Object"
   ]
  },
  {
   "cell_type": "code",
   "execution_count": 40,
   "metadata": {},
   "outputs": [],
   "source": [
    "sents = df.groupby(OHCO[:3]).token_str.apply(lambda x: ' '.join(x)).to_frame().rename(columns={'token_str':'content'})\n",
    "paras = df.groupby(OHCO[:2]).token_str.apply(lambda x: ' '.join(x)).to_frame().rename(columns={'token_str':'content'})\n",
    "chaps = df.groupby(OHCO[:1]).token_str.apply(lambda x: ' '.join(x)).to_frame().rename(columns={'token_str':'content'})"
   ]
  },
  {
   "cell_type": "code",
   "execution_count": 41,
   "metadata": {},
   "outputs": [],
   "source": [
    "def gather(ohco_level):\n",
    "    return df.groupby(OHCO[:ohco_level]).token_str\\\n",
    "        .apply(lambda x: ' '.join(x))\\\n",
    "        .to_frame()\\\n",
    "        .rename(columns={'token_str':'content'})"
   ]
  },
  {
   "cell_type": "code",
   "execution_count": 42,
   "metadata": {},
   "outputs": [
    {
     "data": {
      "text/html": [
       "<div>\n",
       "<style scoped>\n",
       "    .dataframe tbody tr th:only-of-type {\n",
       "        vertical-align: middle;\n",
       "    }\n",
       "\n",
       "    .dataframe tbody tr th {\n",
       "        vertical-align: top;\n",
       "    }\n",
       "\n",
       "    .dataframe thead th {\n",
       "        text-align: right;\n",
       "    }\n",
       "</style>\n",
       "<table border=\"1\" class=\"dataframe\">\n",
       "  <thead>\n",
       "    <tr style=\"text-align: right;\">\n",
       "      <th></th>\n",
       "      <th></th>\n",
       "      <th></th>\n",
       "      <th>content</th>\n",
       "    </tr>\n",
       "    <tr>\n",
       "      <th>chap_num</th>\n",
       "      <th>para_num</th>\n",
       "      <th>sent_num</th>\n",
       "      <th></th>\n",
       "    </tr>\n",
       "  </thead>\n",
       "  <tbody>\n",
       "    <tr>\n",
       "      <th>12</th>\n",
       "      <th>53</th>\n",
       "      <th>1</th>\n",
       "      <td>and the ecstasy of such a reprieve, the rejoi...</td>\n",
       "    </tr>\n",
       "    <tr>\n",
       "      <th>20</th>\n",
       "      <th>46</th>\n",
       "      <th>0</th>\n",
       "      <td>In re-settling themselves there were now many ...</td>\n",
       "    </tr>\n",
       "    <tr>\n",
       "      <th>7</th>\n",
       "      <th>16</th>\n",
       "      <th>8</th>\n",
       "      <td>he always minds you at a word</td>\n",
       "    </tr>\n",
       "    <tr>\n",
       "      <th>21</th>\n",
       "      <th>76</th>\n",
       "      <th>4</th>\n",
       "      <td>\"</td>\n",
       "    </tr>\n",
       "    <tr>\n",
       "      <th>8</th>\n",
       "      <th>13</th>\n",
       "      <th>4</th>\n",
       "      <td>For an old built sloop, you would not see her...</td>\n",
       "    </tr>\n",
       "    <tr>\n",
       "      <th>11</th>\n",
       "      <th>15</th>\n",
       "      <th>0</th>\n",
       "      <td>Captain Harville, though not equalling Captain...</td>\n",
       "    </tr>\n",
       "    <tr>\n",
       "      <th>14</th>\n",
       "      <th>6</th>\n",
       "      <th>6</th>\n",
       "      <td>\"</td>\n",
       "    </tr>\n",
       "    <tr>\n",
       "      <th>8</th>\n",
       "      <th>58</th>\n",
       "      <th>0</th>\n",
       "      <td>\"I beg your pardon, madam, this is your seat</td>\n",
       "    </tr>\n",
       "    <tr>\n",
       "      <th>21</th>\n",
       "      <th>62</th>\n",
       "      <th>0</th>\n",
       "      <td>\"This accounts for something which Mr Elliot s...</td>\n",
       "    </tr>\n",
       "    <tr>\n",
       "      <th>9</th>\n",
       "      <th>25</th>\n",
       "      <th>2</th>\n",
       "      <td>She hoped, on turning her head, to see the ma...</td>\n",
       "    </tr>\n",
       "  </tbody>\n",
       "</table>\n",
       "</div>"
      ],
      "text/plain": [
       "                                                                      content\n",
       "chap_num para_num sent_num                                                   \n",
       "12       53       1          and the ecstasy of such a reprieve, the rejoi...\n",
       "20       46       0         In re-settling themselves there were now many ...\n",
       "7        16       8                             he always minds you at a word\n",
       "21       76       4                                                         \"\n",
       "8        13       4          For an old built sloop, you would not see her...\n",
       "11       15       0         Captain Harville, though not equalling Captain...\n",
       "14       6        6                                                         \"\n",
       "8        58       0              \"I beg your pardon, madam, this is your seat\n",
       "21       62       0         \"This accounts for something which Mr Elliot s...\n",
       "9        25       2          She hoped, on turning her head, to see the ma..."
      ]
     },
     "execution_count": 42,
     "metadata": {},
     "output_type": "execute_result"
    }
   ],
   "source": [
    "sents.sample(10)"
   ]
  },
  {
   "cell_type": "code",
   "execution_count": 43,
   "metadata": {},
   "outputs": [],
   "source": [
    "# sents2 = sents.reset_index(drop=True)"
   ]
  },
  {
   "cell_type": "code",
   "execution_count": 53,
   "metadata": {},
   "outputs": [
    {
     "data": {
      "text/plain": [
       "<matplotlib.axes._subplots.AxesSubplot at 0x7effa2e6b898>"
      ]
     },
     "execution_count": 53,
     "metadata": {},
     "output_type": "execute_result"
    },
    {
     "data": {
      "image/png": "[encoded data removed]",
      "text/plain": [
       "<Figure size 432x288 with 1 Axes>"
      ]
     },
     "metadata": {},
     "output_type": "display_data"
    }
   ],
   "source": [
    "df.token_str.str.len().plot.hist(bins=20, title=\"Tokens\")"
   ]
  },
  {
   "cell_type": "code",
   "execution_count": 52,
   "metadata": {},
   "outputs": [
    {
     "data": {
      "text/plain": [
       "<matplotlib.axes._subplots.AxesSubplot at 0x7effa30e32b0>"
      ]
     },
     "execution_count": 52,
     "metadata": {},
     "output_type": "execute_result"
    },
    {
     "data": {
      "image/png": "[encoded data removed]",
      "text/plain": [
       "<Figure size 432x288 with 1 Axes>"
      ]
     },
     "metadata": {},
     "output_type": "display_data"
    }
   ],
   "source": [
    "sents.content.str.len().plot.hist(bins=20, title='Sentences')"
   ]
  },
  {
   "cell_type": "code",
   "execution_count": 54,
   "metadata": {},
   "outputs": [
    {
     "data": {
      "text/plain": [
       "<matplotlib.axes._subplots.AxesSubplot at 0x7effa32b3f28>"
      ]
     },
     "execution_count": 54,
     "metadata": {},
     "output_type": "execute_result"
    },
    {
     "data": {
      "image/png": "[encoded data removed]",
      "text/plain": [
       "<Figure size 432x288 with 1 Axes>"
      ]
     },
     "metadata": {},
     "output_type": "display_data"
    }
   ],
   "source": [
    "paras.content.str.len().plot.hist(bins=20, title=\"Paragraphs\")"
   ]
  },
  {
   "cell_type": "code",
   "execution_count": 55,
   "metadata": {},
   "outputs": [
    {
     "data": {
      "text/plain": [
       "<matplotlib.axes._subplots.AxesSubplot at 0x7effa335b588>"
      ]
     },
     "execution_count": 55,
     "metadata": {},
     "output_type": "execute_result"
    },
    {
     "data": {
      "image/png": "[encoded data removed]",
      "text/plain": [
       "<Figure size 432x288 with 1 Axes>"
      ]
     },
     "metadata": {},
     "output_type": "display_data"
    }
   ],
   "source": [
    "chaps.content.str.len().plot.hist(bins=20, title=\"Chapters\")"
   ]
  },
  {
   "cell_type": "markdown",
   "metadata": {},
   "source": [
    "# Save work to CSV"
   ]
  },
  {
   "cell_type": "code",
   "execution_count": 48,
   "metadata": {},
   "outputs": [],
   "source": [
    "df.to_csv('austen-persuasion.csv')"
   ]
  }
 ],
 "metadata": {
  "kernelspec": {
   "display_name": "Python 3",
   "language": "python",
   "name": "python3"
  },
  "language_info": {
   "codemirror_mode": {
    "name": "ipython",
    "version": 3
   },
   "file_extension": ".py",
   "mimetype": "text/x-python",
   "name": "python",
   "nbconvert_exporter": "python",
   "pygments_lexer": "ipython3",
   "version": "3.6.6"
  }
 },
 "nbformat": 4,
 "nbformat_minor": 4
}
