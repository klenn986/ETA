{
 "cells": [
  {
   "cell_type": "markdown",
   "metadata": {},
   "source": [
    "# Module 2: Text into Data: Importing a Text\n",
    "\n",
    "* DS 5001: Exploratory Text Analytics\n",
    "* Raf Alvarado"
   ]
  },
  {
   "cell_type": "markdown",
   "metadata": {},
   "source": [
    "# Set Up"
   ]
  },
  {
   "cell_type": "code",
   "execution_count": 2,
   "metadata": {},
   "outputs": [],
   "source": [
    "import pandas as pd"
   ]
  },
  {
   "cell_type": "code",
   "execution_count": 3,
   "metadata": {},
   "outputs": [],
   "source": [
    "epub_file = \"../MOD01--SetUp/pg105.txt\"\n",
    "OHCO = ['chap_num', 'para_num', 'sent_num', 'token_num']"
   ]
  },
  {
   "cell_type": "markdown",
   "metadata": {},
   "source": [
    "# Import file into a dataframe"
   ]
  },
  {
   "cell_type": "code",
   "execution_count": 4,
   "metadata": {},
   "outputs": [],
   "source": [
    "epub = open(epub_file, 'r', encoding='utf-8-sig').readlines()"
   ]
  },
  {
   "cell_type": "code",
   "execution_count": 5,
   "metadata": {},
   "outputs": [],
   "source": [
    "df = pd.DataFrame(epub, columns=['line_str'])"
   ]
  },
  {
   "cell_type": "code",
   "execution_count": 6,
   "metadata": {},
   "outputs": [],
   "source": [
    "df.index.name = 'line_num'"
   ]
  },
  {
   "cell_type": "code",
   "execution_count": 7,
   "metadata": {},
   "outputs": [],
   "source": [
    "df.line_str = df.line_str.str.strip()"
   ]
  },
  {
   "cell_type": "code",
   "execution_count": 8,
   "metadata": {},
   "outputs": [
    {
     "data": {
      "text/html": [
       "<div>\n",
       "<style scoped>\n",
       "    .dataframe tbody tr th:only-of-type {\n",
       "        vertical-align: middle;\n",
       "    }\n",
       "\n",
       "    .dataframe tbody tr th {\n",
       "        vertical-align: top;\n",
       "    }\n",
       "\n",
       "    .dataframe thead th {\n",
       "        text-align: right;\n",
       "    }\n",
       "</style>\n",
       "<table border=\"1\" class=\"dataframe\">\n",
       "  <thead>\n",
       "    <tr style=\"text-align: right;\">\n",
       "      <th></th>\n",
       "      <th>line_str</th>\n",
       "    </tr>\n",
       "    <tr>\n",
       "      <th>line_num</th>\n",
       "      <th></th>\n",
       "    </tr>\n",
       "  </thead>\n",
       "  <tbody>\n",
       "    <tr>\n",
       "      <th>628</th>\n",
       "      <td>in active service, are not at all better off: ...</td>\n",
       "    </tr>\n",
       "    <tr>\n",
       "      <th>4989</th>\n",
       "      <td>languor and depression, to hours of occupation...</td>\n",
       "    </tr>\n",
       "    <tr>\n",
       "      <th>4243</th>\n",
       "      <td>told him the distance and the road, and I told...</td>\n",
       "    </tr>\n",
       "    <tr>\n",
       "      <th>789</th>\n",
       "      <td>He was not Mr Wentworth, the former curate of ...</td>\n",
       "    </tr>\n",
       "    <tr>\n",
       "      <th>5350</th>\n",
       "      <td>solemnly that she knew nothing of the matter. ...</td>\n",
       "    </tr>\n",
       "    <tr>\n",
       "      <th>6911</th>\n",
       "      <td>There was one circumstance in the history of h...</td>\n",
       "    </tr>\n",
       "    <tr>\n",
       "      <th>7460</th>\n",
       "      <td>her.</td>\n",
       "    </tr>\n",
       "    <tr>\n",
       "      <th>1106</th>\n",
       "      <td>dear to her as her own, and a daily intercours...</td>\n",
       "    </tr>\n",
       "    <tr>\n",
       "      <th>8292</th>\n",
       "      <td>son-in-law's rights would have given.  But, th...</td>\n",
       "    </tr>\n",
       "    <tr>\n",
       "      <th>5517</th>\n",
       "      <td>shall only say, 'How d'ye do?' as we pass, how...</td>\n",
       "    </tr>\n",
       "  </tbody>\n",
       "</table>\n",
       "</div>"
      ],
      "text/plain": [
       "                                                   line_str\n",
       "line_num                                                   \n",
       "628       in active service, are not at all better off: ...\n",
       "4989      languor and depression, to hours of occupation...\n",
       "4243      told him the distance and the road, and I told...\n",
       "789       He was not Mr Wentworth, the former curate of ...\n",
       "5350      solemnly that she knew nothing of the matter. ...\n",
       "6911      There was one circumstance in the history of h...\n",
       "7460                                                   her.\n",
       "1106      dear to her as her own, and a daily intercours...\n",
       "8292      son-in-law's rights would have given.  But, th...\n",
       "5517      shall only say, 'How d'ye do?' as we pass, how..."
      ]
     },
     "execution_count": 8,
     "metadata": {},
     "output_type": "execute_result"
    }
   ],
   "source": [
    "df.sample(10)"
   ]
  },
  {
   "cell_type": "markdown",
   "metadata": {},
   "source": [
    "# Extract title of work from first line"
   ]
  },
  {
   "cell_type": "code",
   "execution_count": 9,
   "metadata": {},
   "outputs": [],
   "source": [
    "title = df.loc[0].line_str.replace('The Project Gutenberg EBook of ', '')\n",
    "df['title'] = title"
   ]
  },
  {
   "cell_type": "code",
   "execution_count": 10,
   "metadata": {},
   "outputs": [
    {
     "name": "stdout",
     "output_type": "stream",
     "text": [
      "Persuasion, by Jane Austen\n"
     ]
    }
   ],
   "source": [
    "print(title)"
   ]
  },
  {
   "cell_type": "code",
   "execution_count": 11,
   "metadata": {},
   "outputs": [
    {
     "data": {
      "text/html": [
       "<div>\n",
       "<style scoped>\n",
       "    .dataframe tbody tr th:only-of-type {\n",
       "        vertical-align: middle;\n",
       "    }\n",
       "\n",
       "    .dataframe tbody tr th {\n",
       "        vertical-align: top;\n",
       "    }\n",
       "\n",
       "    .dataframe thead th {\n",
       "        text-align: right;\n",
       "    }\n",
       "</style>\n",
       "<table border=\"1\" class=\"dataframe\">\n",
       "  <thead>\n",
       "    <tr style=\"text-align: right;\">\n",
       "      <th></th>\n",
       "      <th>line_str</th>\n",
       "      <th>title</th>\n",
       "    </tr>\n",
       "    <tr>\n",
       "      <th>line_num</th>\n",
       "      <th></th>\n",
       "      <th></th>\n",
       "    </tr>\n",
       "  </thead>\n",
       "  <tbody>\n",
       "    <tr>\n",
       "      <th>0</th>\n",
       "      <td>The Project Gutenberg EBook of Persuasion, by ...</td>\n",
       "      <td>Persuasion, by Jane Austen</td>\n",
       "    </tr>\n",
       "    <tr>\n",
       "      <th>1</th>\n",
       "      <td></td>\n",
       "      <td>Persuasion, by Jane Austen</td>\n",
       "    </tr>\n",
       "    <tr>\n",
       "      <th>2</th>\n",
       "      <td>This eBook is for the use of anyone anywhere a...</td>\n",
       "      <td>Persuasion, by Jane Austen</td>\n",
       "    </tr>\n",
       "    <tr>\n",
       "      <th>3</th>\n",
       "      <td>almost no restrictions whatsoever.  You may co...</td>\n",
       "      <td>Persuasion, by Jane Austen</td>\n",
       "    </tr>\n",
       "    <tr>\n",
       "      <th>4</th>\n",
       "      <td>re-use it under the terms of the Project Guten...</td>\n",
       "      <td>Persuasion, by Jane Austen</td>\n",
       "    </tr>\n",
       "  </tbody>\n",
       "</table>\n",
       "</div>"
      ],
      "text/plain": [
       "                                                   line_str  \\\n",
       "line_num                                                      \n",
       "0         The Project Gutenberg EBook of Persuasion, by ...   \n",
       "1                                                             \n",
       "2         This eBook is for the use of anyone anywhere a...   \n",
       "3         almost no restrictions whatsoever.  You may co...   \n",
       "4         re-use it under the terms of the Project Guten...   \n",
       "\n",
       "                               title  \n",
       "line_num                              \n",
       "0         Persuasion, by Jane Austen  \n",
       "1         Persuasion, by Jane Austen  \n",
       "2         Persuasion, by Jane Austen  \n",
       "3         Persuasion, by Jane Austen  \n",
       "4         Persuasion, by Jane Austen  "
      ]
     },
     "execution_count": 11,
     "metadata": {},
     "output_type": "execute_result"
    }
   ],
   "source": [
    "df.head()"
   ]
  },
  {
   "cell_type": "markdown",
   "metadata": {},
   "source": [
    "# Remove Gutenberg's front and back matter"
   ]
  },
  {
   "cell_type": "code",
   "execution_count": 12,
   "metadata": {},
   "outputs": [],
   "source": [
    "a = df.line_str.str.match(r\"\\*\\*\\*\\s*START OF (THE|THIS) PROJECT\")\n",
    "b = df.line_str.str.match(r\"\\*\\*\\*\\s*END OF (THE|THIS) PROJECT\")"
   ]
  },
  {
   "cell_type": "code",
   "execution_count": 13,
   "metadata": {},
   "outputs": [],
   "source": [
    "an = df.loc[a].index[0]\n",
    "bn = df.loc[b].index[0]"
   ]
  },
  {
   "cell_type": "code",
   "execution_count": 14,
   "metadata": {},
   "outputs": [],
   "source": [
    "df = df.loc[an + 1 : bn - 2]"
   ]
  },
  {
   "cell_type": "code",
   "execution_count": 15,
   "metadata": {},
   "outputs": [
    {
     "data": {
      "text/html": [
       "<div>\n",
       "<style scoped>\n",
       "    .dataframe tbody tr th:only-of-type {\n",
       "        vertical-align: middle;\n",
       "    }\n",
       "\n",
       "    .dataframe tbody tr th {\n",
       "        vertical-align: top;\n",
       "    }\n",
       "\n",
       "    .dataframe thead th {\n",
       "        text-align: right;\n",
       "    }\n",
       "</style>\n",
       "<table border=\"1\" class=\"dataframe\">\n",
       "  <thead>\n",
       "    <tr style=\"text-align: right;\">\n",
       "      <th></th>\n",
       "      <th>line_str</th>\n",
       "      <th>title</th>\n",
       "    </tr>\n",
       "    <tr>\n",
       "      <th>line_num</th>\n",
       "      <th></th>\n",
       "      <th></th>\n",
       "    </tr>\n",
       "  </thead>\n",
       "  <tbody>\n",
       "    <tr>\n",
       "      <th>19</th>\n",
       "      <td></td>\n",
       "      <td>Persuasion, by Jane Austen</td>\n",
       "    </tr>\n",
       "    <tr>\n",
       "      <th>20</th>\n",
       "      <td></td>\n",
       "      <td>Persuasion, by Jane Austen</td>\n",
       "    </tr>\n",
       "    <tr>\n",
       "      <th>21</th>\n",
       "      <td></td>\n",
       "      <td>Persuasion, by Jane Austen</td>\n",
       "    </tr>\n",
       "    <tr>\n",
       "      <th>22</th>\n",
       "      <td></td>\n",
       "      <td>Persuasion, by Jane Austen</td>\n",
       "    </tr>\n",
       "    <tr>\n",
       "      <th>23</th>\n",
       "      <td>Produced by Sharon Partridge and Martin Ward. ...</td>\n",
       "      <td>Persuasion, by Jane Austen</td>\n",
       "    </tr>\n",
       "    <tr>\n",
       "      <th>24</th>\n",
       "      <td>by Al Haines.</td>\n",
       "      <td>Persuasion, by Jane Austen</td>\n",
       "    </tr>\n",
       "    <tr>\n",
       "      <th>25</th>\n",
       "      <td></td>\n",
       "      <td>Persuasion, by Jane Austen</td>\n",
       "    </tr>\n",
       "    <tr>\n",
       "      <th>26</th>\n",
       "      <td></td>\n",
       "      <td>Persuasion, by Jane Austen</td>\n",
       "    </tr>\n",
       "    <tr>\n",
       "      <th>27</th>\n",
       "      <td></td>\n",
       "      <td>Persuasion, by Jane Austen</td>\n",
       "    </tr>\n",
       "    <tr>\n",
       "      <th>28</th>\n",
       "      <td></td>\n",
       "      <td>Persuasion, by Jane Austen</td>\n",
       "    </tr>\n",
       "    <tr>\n",
       "      <th>29</th>\n",
       "      <td></td>\n",
       "      <td>Persuasion, by Jane Austen</td>\n",
       "    </tr>\n",
       "    <tr>\n",
       "      <th>30</th>\n",
       "      <td></td>\n",
       "      <td>Persuasion, by Jane Austen</td>\n",
       "    </tr>\n",
       "    <tr>\n",
       "      <th>31</th>\n",
       "      <td></td>\n",
       "      <td>Persuasion, by Jane Austen</td>\n",
       "    </tr>\n",
       "    <tr>\n",
       "      <th>32</th>\n",
       "      <td></td>\n",
       "      <td>Persuasion, by Jane Austen</td>\n",
       "    </tr>\n",
       "    <tr>\n",
       "      <th>33</th>\n",
       "      <td></td>\n",
       "      <td>Persuasion, by Jane Austen</td>\n",
       "    </tr>\n",
       "    <tr>\n",
       "      <th>34</th>\n",
       "      <td></td>\n",
       "      <td>Persuasion, by Jane Austen</td>\n",
       "    </tr>\n",
       "    <tr>\n",
       "      <th>35</th>\n",
       "      <td>Persuasion</td>\n",
       "      <td>Persuasion, by Jane Austen</td>\n",
       "    </tr>\n",
       "    <tr>\n",
       "      <th>36</th>\n",
       "      <td></td>\n",
       "      <td>Persuasion, by Jane Austen</td>\n",
       "    </tr>\n",
       "    <tr>\n",
       "      <th>37</th>\n",
       "      <td></td>\n",
       "      <td>Persuasion, by Jane Austen</td>\n",
       "    </tr>\n",
       "    <tr>\n",
       "      <th>38</th>\n",
       "      <td>by</td>\n",
       "      <td>Persuasion, by Jane Austen</td>\n",
       "    </tr>\n",
       "    <tr>\n",
       "      <th>39</th>\n",
       "      <td></td>\n",
       "      <td>Persuasion, by Jane Austen</td>\n",
       "    </tr>\n",
       "    <tr>\n",
       "      <th>40</th>\n",
       "      <td>Jane Austen</td>\n",
       "      <td>Persuasion, by Jane Austen</td>\n",
       "    </tr>\n",
       "    <tr>\n",
       "      <th>41</th>\n",
       "      <td></td>\n",
       "      <td>Persuasion, by Jane Austen</td>\n",
       "    </tr>\n",
       "    <tr>\n",
       "      <th>42</th>\n",
       "      <td>(1818)</td>\n",
       "      <td>Persuasion, by Jane Austen</td>\n",
       "    </tr>\n",
       "    <tr>\n",
       "      <th>43</th>\n",
       "      <td></td>\n",
       "      <td>Persuasion, by Jane Austen</td>\n",
       "    </tr>\n",
       "    <tr>\n",
       "      <th>44</th>\n",
       "      <td></td>\n",
       "      <td>Persuasion, by Jane Austen</td>\n",
       "    </tr>\n",
       "    <tr>\n",
       "      <th>45</th>\n",
       "      <td></td>\n",
       "      <td>Persuasion, by Jane Austen</td>\n",
       "    </tr>\n",
       "    <tr>\n",
       "      <th>46</th>\n",
       "      <td></td>\n",
       "      <td>Persuasion, by Jane Austen</td>\n",
       "    </tr>\n",
       "    <tr>\n",
       "      <th>47</th>\n",
       "      <td>Chapter 1</td>\n",
       "      <td>Persuasion, by Jane Austen</td>\n",
       "    </tr>\n",
       "    <tr>\n",
       "      <th>48</th>\n",
       "      <td></td>\n",
       "      <td>Persuasion, by Jane Austen</td>\n",
       "    </tr>\n",
       "    <tr>\n",
       "      <th>...</th>\n",
       "      <td>...</td>\n",
       "      <td>...</td>\n",
       "    </tr>\n",
       "    <tr>\n",
       "      <th>8342</th>\n",
       "      <td>to his wife.</td>\n",
       "      <td>Persuasion, by Jane Austen</td>\n",
       "    </tr>\n",
       "    <tr>\n",
       "      <th>8343</th>\n",
       "      <td></td>\n",
       "      <td>Persuasion, by Jane Austen</td>\n",
       "    </tr>\n",
       "    <tr>\n",
       "      <th>8344</th>\n",
       "      <td>Mrs Smith's enjoyments were not spoiled by thi...</td>\n",
       "      <td>Persuasion, by Jane Austen</td>\n",
       "    </tr>\n",
       "    <tr>\n",
       "      <th>8345</th>\n",
       "      <td>with some improvement of health, and the acqui...</td>\n",
       "      <td>Persuasion, by Jane Austen</td>\n",
       "    </tr>\n",
       "    <tr>\n",
       "      <th>8346</th>\n",
       "      <td>be often with, for her cheerfulness and mental...</td>\n",
       "      <td>Persuasion, by Jane Austen</td>\n",
       "    </tr>\n",
       "    <tr>\n",
       "      <th>8347</th>\n",
       "      <td>her; and while these prime supplies of good re...</td>\n",
       "      <td>Persuasion, by Jane Austen</td>\n",
       "    </tr>\n",
       "    <tr>\n",
       "      <th>8348</th>\n",
       "      <td>bid defiance even to greater accessions of wor...</td>\n",
       "      <td>Persuasion, by Jane Austen</td>\n",
       "    </tr>\n",
       "    <tr>\n",
       "      <th>8349</th>\n",
       "      <td>might have been absolutely rich and perfectly ...</td>\n",
       "      <td>Persuasion, by Jane Austen</td>\n",
       "    </tr>\n",
       "    <tr>\n",
       "      <th>8350</th>\n",
       "      <td>happy.  Her spring of felicity was in the glow...</td>\n",
       "      <td>Persuasion, by Jane Austen</td>\n",
       "    </tr>\n",
       "    <tr>\n",
       "      <th>8351</th>\n",
       "      <td>friend Anne's was in the warmth of her heart. ...</td>\n",
       "      <td>Persuasion, by Jane Austen</td>\n",
       "    </tr>\n",
       "    <tr>\n",
       "      <th>8352</th>\n",
       "      <td>itself, and she had the full worth of it in Ca...</td>\n",
       "      <td>Persuasion, by Jane Austen</td>\n",
       "    </tr>\n",
       "    <tr>\n",
       "      <th>8353</th>\n",
       "      <td>affection.  His profession was all that could ...</td>\n",
       "      <td>Persuasion, by Jane Austen</td>\n",
       "    </tr>\n",
       "    <tr>\n",
       "      <th>8354</th>\n",
       "      <td>wish that tenderness less, the dread of a futu...</td>\n",
       "      <td>Persuasion, by Jane Austen</td>\n",
       "    </tr>\n",
       "    <tr>\n",
       "      <th>8355</th>\n",
       "      <td>her sunshine.  She gloried in being a sailor's...</td>\n",
       "      <td>Persuasion, by Jane Austen</td>\n",
       "    </tr>\n",
       "    <tr>\n",
       "      <th>8356</th>\n",
       "      <td>the tax of quick alarm for belonging to that p...</td>\n",
       "      <td>Persuasion, by Jane Austen</td>\n",
       "    </tr>\n",
       "    <tr>\n",
       "      <th>8357</th>\n",
       "      <td>possible, more distinguished in its domestic v...</td>\n",
       "      <td>Persuasion, by Jane Austen</td>\n",
       "    </tr>\n",
       "    <tr>\n",
       "      <th>8358</th>\n",
       "      <td>national importance.</td>\n",
       "      <td>Persuasion, by Jane Austen</td>\n",
       "    </tr>\n",
       "    <tr>\n",
       "      <th>8359</th>\n",
       "      <td></td>\n",
       "      <td>Persuasion, by Jane Austen</td>\n",
       "    </tr>\n",
       "    <tr>\n",
       "      <th>8360</th>\n",
       "      <td></td>\n",
       "      <td>Persuasion, by Jane Austen</td>\n",
       "    </tr>\n",
       "    <tr>\n",
       "      <th>8361</th>\n",
       "      <td></td>\n",
       "      <td>Persuasion, by Jane Austen</td>\n",
       "    </tr>\n",
       "    <tr>\n",
       "      <th>8362</th>\n",
       "      <td>Finis</td>\n",
       "      <td>Persuasion, by Jane Austen</td>\n",
       "    </tr>\n",
       "    <tr>\n",
       "      <th>8363</th>\n",
       "      <td></td>\n",
       "      <td>Persuasion, by Jane Austen</td>\n",
       "    </tr>\n",
       "    <tr>\n",
       "      <th>8364</th>\n",
       "      <td></td>\n",
       "      <td>Persuasion, by Jane Austen</td>\n",
       "    </tr>\n",
       "    <tr>\n",
       "      <th>8365</th>\n",
       "      <td></td>\n",
       "      <td>Persuasion, by Jane Austen</td>\n",
       "    </tr>\n",
       "    <tr>\n",
       "      <th>8366</th>\n",
       "      <td></td>\n",
       "      <td>Persuasion, by Jane Austen</td>\n",
       "    </tr>\n",
       "    <tr>\n",
       "      <th>8367</th>\n",
       "      <td></td>\n",
       "      <td>Persuasion, by Jane Austen</td>\n",
       "    </tr>\n",
       "    <tr>\n",
       "      <th>8368</th>\n",
       "      <td></td>\n",
       "      <td>Persuasion, by Jane Austen</td>\n",
       "    </tr>\n",
       "    <tr>\n",
       "      <th>8369</th>\n",
       "      <td></td>\n",
       "      <td>Persuasion, by Jane Austen</td>\n",
       "    </tr>\n",
       "    <tr>\n",
       "      <th>8370</th>\n",
       "      <td></td>\n",
       "      <td>Persuasion, by Jane Austen</td>\n",
       "    </tr>\n",
       "    <tr>\n",
       "      <th>8371</th>\n",
       "      <td>End of the Project Gutenberg EBook of Persuasi...</td>\n",
       "      <td>Persuasion, by Jane Austen</td>\n",
       "    </tr>\n",
       "  </tbody>\n",
       "</table>\n",
       "<p>8353 rows × 2 columns</p>\n",
       "</div>"
      ],
      "text/plain": [
       "                                                   line_str  \\\n",
       "line_num                                                      \n",
       "19                                                            \n",
       "20                                                            \n",
       "21                                                            \n",
       "22                                                            \n",
       "23        Produced by Sharon Partridge and Martin Ward. ...   \n",
       "24                                            by Al Haines.   \n",
       "25                                                            \n",
       "26                                                            \n",
       "27                                                            \n",
       "28                                                            \n",
       "29                                                            \n",
       "30                                                            \n",
       "31                                                            \n",
       "32                                                            \n",
       "33                                                            \n",
       "34                                                            \n",
       "35                                               Persuasion   \n",
       "36                                                            \n",
       "37                                                            \n",
       "38                                                       by   \n",
       "39                                                            \n",
       "40                                              Jane Austen   \n",
       "41                                                            \n",
       "42                                                   (1818)   \n",
       "43                                                            \n",
       "44                                                            \n",
       "45                                                            \n",
       "46                                                            \n",
       "47                                                Chapter 1   \n",
       "48                                                            \n",
       "...                                                     ...   \n",
       "8342                                           to his wife.   \n",
       "8343                                                          \n",
       "8344      Mrs Smith's enjoyments were not spoiled by thi...   \n",
       "8345      with some improvement of health, and the acqui...   \n",
       "8346      be often with, for her cheerfulness and mental...   \n",
       "8347      her; and while these prime supplies of good re...   \n",
       "8348      bid defiance even to greater accessions of wor...   \n",
       "8349      might have been absolutely rich and perfectly ...   \n",
       "8350      happy.  Her spring of felicity was in the glow...   \n",
       "8351      friend Anne's was in the warmth of her heart. ...   \n",
       "8352      itself, and she had the full worth of it in Ca...   \n",
       "8353      affection.  His profession was all that could ...   \n",
       "8354      wish that tenderness less, the dread of a futu...   \n",
       "8355      her sunshine.  She gloried in being a sailor's...   \n",
       "8356      the tax of quick alarm for belonging to that p...   \n",
       "8357      possible, more distinguished in its domestic v...   \n",
       "8358                                   national importance.   \n",
       "8359                                                          \n",
       "8360                                                          \n",
       "8361                                                          \n",
       "8362                                                  Finis   \n",
       "8363                                                          \n",
       "8364                                                          \n",
       "8365                                                          \n",
       "8366                                                          \n",
       "8367                                                          \n",
       "8368                                                          \n",
       "8369                                                          \n",
       "8370                                                          \n",
       "8371      End of the Project Gutenberg EBook of Persuasi...   \n",
       "\n",
       "                               title  \n",
       "line_num                              \n",
       "19        Persuasion, by Jane Austen  \n",
       "20        Persuasion, by Jane Austen  \n",
       "21        Persuasion, by Jane Austen  \n",
       "22        Persuasion, by Jane Austen  \n",
       "23        Persuasion, by Jane Austen  \n",
       "24        Persuasion, by Jane Austen  \n",
       "25        Persuasion, by Jane Austen  \n",
       "26        Persuasion, by Jane Austen  \n",
       "27        Persuasion, by Jane Austen  \n",
       "28        Persuasion, by Jane Austen  \n",
       "29        Persuasion, by Jane Austen  \n",
       "30        Persuasion, by Jane Austen  \n",
       "31        Persuasion, by Jane Austen  \n",
       "32        Persuasion, by Jane Austen  \n",
       "33        Persuasion, by Jane Austen  \n",
       "34        Persuasion, by Jane Austen  \n",
       "35        Persuasion, by Jane Austen  \n",
       "36        Persuasion, by Jane Austen  \n",
       "37        Persuasion, by Jane Austen  \n",
       "38        Persuasion, by Jane Austen  \n",
       "39        Persuasion, by Jane Austen  \n",
       "40        Persuasion, by Jane Austen  \n",
       "41        Persuasion, by Jane Austen  \n",
       "42        Persuasion, by Jane Austen  \n",
       "43        Persuasion, by Jane Austen  \n",
       "44        Persuasion, by Jane Austen  \n",
       "45        Persuasion, by Jane Austen  \n",
       "46        Persuasion, by Jane Austen  \n",
       "47        Persuasion, by Jane Austen  \n",
       "48        Persuasion, by Jane Austen  \n",
       "...                              ...  \n",
       "8342      Persuasion, by Jane Austen  \n",
       "8343      Persuasion, by Jane Austen  \n",
       "8344      Persuasion, by Jane Austen  \n",
       "8345      Persuasion, by Jane Austen  \n",
       "8346      Persuasion, by Jane Austen  \n",
       "8347      Persuasion, by Jane Austen  \n",
       "8348      Persuasion, by Jane Austen  \n",
       "8349      Persuasion, by Jane Austen  \n",
       "8350      Persuasion, by Jane Austen  \n",
       "8351      Persuasion, by Jane Austen  \n",
       "8352      Persuasion, by Jane Austen  \n",
       "8353      Persuasion, by Jane Austen  \n",
       "8354      Persuasion, by Jane Austen  \n",
       "8355      Persuasion, by Jane Austen  \n",
       "8356      Persuasion, by Jane Austen  \n",
       "8357      Persuasion, by Jane Austen  \n",
       "8358      Persuasion, by Jane Austen  \n",
       "8359      Persuasion, by Jane Austen  \n",
       "8360      Persuasion, by Jane Austen  \n",
       "8361      Persuasion, by Jane Austen  \n",
       "8362      Persuasion, by Jane Austen  \n",
       "8363      Persuasion, by Jane Austen  \n",
       "8364      Persuasion, by Jane Austen  \n",
       "8365      Persuasion, by Jane Austen  \n",
       "8366      Persuasion, by Jane Austen  \n",
       "8367      Persuasion, by Jane Austen  \n",
       "8368      Persuasion, by Jane Austen  \n",
       "8369      Persuasion, by Jane Austen  \n",
       "8370      Persuasion, by Jane Austen  \n",
       "8371      Persuasion, by Jane Austen  \n",
       "\n",
       "[8353 rows x 2 columns]"
      ]
     },
     "execution_count": 15,
     "metadata": {},
     "output_type": "execute_result"
    }
   ],
   "source": [
    "df"
   ]
  },
  {
   "cell_type": "markdown",
   "metadata": {
    "toc-hr-collapsed": true
   },
   "source": [
    "# Chunk by chapter"
   ]
  },
  {
   "cell_type": "markdown",
   "metadata": {},
   "source": [
    "## Find all chapter headers"
   ]
  },
  {
   "cell_type": "code",
   "execution_count": 16,
   "metadata": {},
   "outputs": [],
   "source": [
    "chap_lines = df.line_str.str.match(r\"^\\s*(chapter|letter)\\s+(\\d+)\", case=False)"
   ]
  },
  {
   "cell_type": "code",
   "execution_count": 17,
   "metadata": {},
   "outputs": [
    {
     "data": {
      "text/html": [
       "<div>\n",
       "<style scoped>\n",
       "    .dataframe tbody tr th:only-of-type {\n",
       "        vertical-align: middle;\n",
       "    }\n",
       "\n",
       "    .dataframe tbody tr th {\n",
       "        vertical-align: top;\n",
       "    }\n",
       "\n",
       "    .dataframe thead th {\n",
       "        text-align: right;\n",
       "    }\n",
       "</style>\n",
       "<table border=\"1\" class=\"dataframe\">\n",
       "  <thead>\n",
       "    <tr style=\"text-align: right;\">\n",
       "      <th></th>\n",
       "      <th>line_str</th>\n",
       "      <th>title</th>\n",
       "    </tr>\n",
       "    <tr>\n",
       "      <th>line_num</th>\n",
       "      <th></th>\n",
       "      <th></th>\n",
       "    </tr>\n",
       "  </thead>\n",
       "  <tbody>\n",
       "    <tr>\n",
       "      <th>47</th>\n",
       "      <td>Chapter 1</td>\n",
       "      <td>Persuasion, by Jane Austen</td>\n",
       "    </tr>\n",
       "    <tr>\n",
       "      <th>306</th>\n",
       "      <td>Chapter 2</td>\n",
       "      <td>Persuasion, by Jane Austen</td>\n",
       "    </tr>\n",
       "    <tr>\n",
       "      <th>500</th>\n",
       "      <td>Chapter 3</td>\n",
       "      <td>Persuasion, by Jane Austen</td>\n",
       "    </tr>\n",
       "    <tr>\n",
       "      <th>786</th>\n",
       "      <td>Chapter 4</td>\n",
       "      <td>Persuasion, by Jane Austen</td>\n",
       "    </tr>\n",
       "    <tr>\n",
       "      <th>959</th>\n",
       "      <td>Chapter 5</td>\n",
       "      <td>Persuasion, by Jane Austen</td>\n",
       "    </tr>\n",
       "    <tr>\n",
       "      <th>1297</th>\n",
       "      <td>Chapter 6</td>\n",
       "      <td>Persuasion, by Jane Austen</td>\n",
       "    </tr>\n",
       "    <tr>\n",
       "      <th>1657</th>\n",
       "      <td>Chapter 7</td>\n",
       "      <td>Persuasion, by Jane Austen</td>\n",
       "    </tr>\n",
       "    <tr>\n",
       "      <th>1992</th>\n",
       "      <td>Chapter 8</td>\n",
       "      <td>Persuasion, by Jane Austen</td>\n",
       "    </tr>\n",
       "    <tr>\n",
       "      <th>2346</th>\n",
       "      <td>Chapter 9</td>\n",
       "      <td>Persuasion, by Jane Austen</td>\n",
       "    </tr>\n",
       "    <tr>\n",
       "      <th>2632</th>\n",
       "      <td>Chapter 10</td>\n",
       "      <td>Persuasion, by Jane Austen</td>\n",
       "    </tr>\n",
       "    <tr>\n",
       "      <th>3020</th>\n",
       "      <td>Chapter 11</td>\n",
       "      <td>Persuasion, by Jane Austen</td>\n",
       "    </tr>\n",
       "    <tr>\n",
       "      <th>3314</th>\n",
       "      <td>Chapter 12</td>\n",
       "      <td>Persuasion, by Jane Austen</td>\n",
       "    </tr>\n",
       "    <tr>\n",
       "      <th>3876</th>\n",
       "      <td>Chapter 13</td>\n",
       "      <td>Persuasion, by Jane Austen</td>\n",
       "    </tr>\n",
       "    <tr>\n",
       "      <th>4150</th>\n",
       "      <td>Chapter 14</td>\n",
       "      <td>Persuasion, by Jane Austen</td>\n",
       "    </tr>\n",
       "    <tr>\n",
       "      <th>4409</th>\n",
       "      <td>Chapter 15</td>\n",
       "      <td>Persuasion, by Jane Austen</td>\n",
       "    </tr>\n",
       "    <tr>\n",
       "      <th>4677</th>\n",
       "      <td>Chapter 16</td>\n",
       "      <td>Persuasion, by Jane Austen</td>\n",
       "    </tr>\n",
       "    <tr>\n",
       "      <th>4912</th>\n",
       "      <td>Chapter 17</td>\n",
       "      <td>Persuasion, by Jane Austen</td>\n",
       "    </tr>\n",
       "    <tr>\n",
       "      <th>5248</th>\n",
       "      <td>Chapter 18</td>\n",
       "      <td>Persuasion, by Jane Austen</td>\n",
       "    </tr>\n",
       "    <tr>\n",
       "      <th>5654</th>\n",
       "      <td>Chapter 19</td>\n",
       "      <td>Persuasion, by Jane Austen</td>\n",
       "    </tr>\n",
       "    <tr>\n",
       "      <th>5905</th>\n",
       "      <td>Chapter 20</td>\n",
       "      <td>Persuasion, by Jane Austen</td>\n",
       "    </tr>\n",
       "    <tr>\n",
       "      <th>6265</th>\n",
       "      <td>Chapter 21</td>\n",
       "      <td>Persuasion, by Jane Austen</td>\n",
       "    </tr>\n",
       "    <tr>\n",
       "      <th>6970</th>\n",
       "      <td>Chapter 22</td>\n",
       "      <td>Persuasion, by Jane Austen</td>\n",
       "    </tr>\n",
       "    <tr>\n",
       "      <th>7555</th>\n",
       "      <td>Chapter 23</td>\n",
       "      <td>Persuasion, by Jane Austen</td>\n",
       "    </tr>\n",
       "    <tr>\n",
       "      <th>8208</th>\n",
       "      <td>Chapter 24</td>\n",
       "      <td>Persuasion, by Jane Austen</td>\n",
       "    </tr>\n",
       "  </tbody>\n",
       "</table>\n",
       "</div>"
      ],
      "text/plain": [
       "            line_str                       title\n",
       "line_num                                        \n",
       "47         Chapter 1  Persuasion, by Jane Austen\n",
       "306        Chapter 2  Persuasion, by Jane Austen\n",
       "500        Chapter 3  Persuasion, by Jane Austen\n",
       "786        Chapter 4  Persuasion, by Jane Austen\n",
       "959        Chapter 5  Persuasion, by Jane Austen\n",
       "1297       Chapter 6  Persuasion, by Jane Austen\n",
       "1657       Chapter 7  Persuasion, by Jane Austen\n",
       "1992       Chapter 8  Persuasion, by Jane Austen\n",
       "2346       Chapter 9  Persuasion, by Jane Austen\n",
       "2632      Chapter 10  Persuasion, by Jane Austen\n",
       "3020      Chapter 11  Persuasion, by Jane Austen\n",
       "3314      Chapter 12  Persuasion, by Jane Austen\n",
       "3876      Chapter 13  Persuasion, by Jane Austen\n",
       "4150      Chapter 14  Persuasion, by Jane Austen\n",
       "4409      Chapter 15  Persuasion, by Jane Austen\n",
       "4677      Chapter 16  Persuasion, by Jane Austen\n",
       "4912      Chapter 17  Persuasion, by Jane Austen\n",
       "5248      Chapter 18  Persuasion, by Jane Austen\n",
       "5654      Chapter 19  Persuasion, by Jane Austen\n",
       "5905      Chapter 20  Persuasion, by Jane Austen\n",
       "6265      Chapter 21  Persuasion, by Jane Austen\n",
       "6970      Chapter 22  Persuasion, by Jane Austen\n",
       "7555      Chapter 23  Persuasion, by Jane Austen\n",
       "8208      Chapter 24  Persuasion, by Jane Austen"
      ]
     },
     "execution_count": 17,
     "metadata": {},
     "output_type": "execute_result"
    }
   ],
   "source": [
    "df.loc[chap_lines]"
   ]
  },
  {
   "cell_type": "markdown",
   "metadata": {},
   "source": [
    "## Assign numbers to chapters"
   ]
  },
  {
   "cell_type": "code",
   "execution_count": 18,
   "metadata": {},
   "outputs": [],
   "source": [
    "chap_nums = [i+1 for i in range(df.loc[chap_lines].shape[0])]"
   ]
  },
  {
   "cell_type": "code",
   "execution_count": 19,
   "metadata": {},
   "outputs": [],
   "source": [
    "df.loc[chap_lines, 'chap_num'] = chap_nums"
   ]
  },
  {
   "cell_type": "code",
   "execution_count": 20,
   "metadata": {},
   "outputs": [],
   "source": [
    "# df"
   ]
  },
  {
   "cell_type": "markdown",
   "metadata": {},
   "source": [
    "## Forward-fill chapter numbers to following text lines"
   ]
  },
  {
   "cell_type": "code",
   "execution_count": 21,
   "metadata": {},
   "outputs": [],
   "source": [
    "df.chap_num = df.chap_num.ffill()"
   ]
  },
  {
   "cell_type": "code",
   "execution_count": 22,
   "metadata": {},
   "outputs": [],
   "source": [
    "# df.head(100)"
   ]
  },
  {
   "cell_type": "markdown",
   "metadata": {},
   "source": [
    "## Clean up"
   ]
  },
  {
   "cell_type": "code",
   "execution_count": 23,
   "metadata": {},
   "outputs": [],
   "source": [
    "df = df.loc[~df.chap_num.isna()] # Remove chapter heading lines\n",
    "df = df.loc[~chap_lines] # Remove everything before Chapter 1\n",
    "df.chap_num = df.chap_num.astype('int') # Convert chap_num from float to int"
   ]
  },
  {
   "cell_type": "code",
   "execution_count": 24,
   "metadata": {},
   "outputs": [
    {
     "data": {
      "text/html": [
       "<div>\n",
       "<style scoped>\n",
       "    .dataframe tbody tr th:only-of-type {\n",
       "        vertical-align: middle;\n",
       "    }\n",
       "\n",
       "    .dataframe tbody tr th {\n",
       "        vertical-align: top;\n",
       "    }\n",
       "\n",
       "    .dataframe thead th {\n",
       "        text-align: right;\n",
       "    }\n",
       "</style>\n",
       "<table border=\"1\" class=\"dataframe\">\n",
       "  <thead>\n",
       "    <tr style=\"text-align: right;\">\n",
       "      <th></th>\n",
       "      <th>line_str</th>\n",
       "      <th>title</th>\n",
       "      <th>chap_num</th>\n",
       "    </tr>\n",
       "    <tr>\n",
       "      <th>line_num</th>\n",
       "      <th></th>\n",
       "      <th></th>\n",
       "      <th></th>\n",
       "    </tr>\n",
       "  </thead>\n",
       "  <tbody>\n",
       "    <tr>\n",
       "      <th>5120</th>\n",
       "      <td>Smith, an every-day Mrs Smith, of all people a...</td>\n",
       "      <td>Persuasion, by Jane Austen</td>\n",
       "      <td>17</td>\n",
       "    </tr>\n",
       "    <tr>\n",
       "      <th>183</th>\n",
       "      <td>afforded, and thirteen springs shewn their blo...</td>\n",
       "      <td>Persuasion, by Jane Austen</td>\n",
       "      <td>1</td>\n",
       "    </tr>\n",
       "    <tr>\n",
       "      <th>4045</th>\n",
       "      <td>unworthily occupied!  An ancient family to be ...</td>\n",
       "      <td>Persuasion, by Jane Austen</td>\n",
       "      <td>13</td>\n",
       "    </tr>\n",
       "    <tr>\n",
       "      <th>1031</th>\n",
       "      <td>divided between Uppercross Cottage and Kellync...</td>\n",
       "      <td>Persuasion, by Jane Austen</td>\n",
       "      <td>5</td>\n",
       "    </tr>\n",
       "    <tr>\n",
       "      <th>3544</th>\n",
       "      <td>in reply as her own feeling could accomplish, ...</td>\n",
       "      <td>Persuasion, by Jane Austen</td>\n",
       "      <td>12</td>\n",
       "    </tr>\n",
       "    <tr>\n",
       "      <th>3647</th>\n",
       "      <td></td>\n",
       "      <td>Persuasion, by Jane Austen</td>\n",
       "      <td>12</td>\n",
       "    </tr>\n",
       "    <tr>\n",
       "      <th>862</th>\n",
       "      <td>effect.</td>\n",
       "      <td>Persuasion, by Jane Austen</td>\n",
       "      <td>4</td>\n",
       "    </tr>\n",
       "    <tr>\n",
       "      <th>5225</th>\n",
       "      <td>at the evil or good of others.  This, to Anne,...</td>\n",
       "      <td>Persuasion, by Jane Austen</td>\n",
       "      <td>17</td>\n",
       "    </tr>\n",
       "    <tr>\n",
       "      <th>3105</th>\n",
       "      <td>machines and company; the Cobb itself, its old...</td>\n",
       "      <td>Persuasion, by Jane Austen</td>\n",
       "      <td>11</td>\n",
       "    </tr>\n",
       "    <tr>\n",
       "      <th>4664</th>\n",
       "      <td>passed, and in the degree of concern for what ...</td>\n",
       "      <td>Persuasion, by Jane Austen</td>\n",
       "      <td>15</td>\n",
       "    </tr>\n",
       "  </tbody>\n",
       "</table>\n",
       "</div>"
      ],
      "text/plain": [
       "                                                   line_str  \\\n",
       "line_num                                                      \n",
       "5120      Smith, an every-day Mrs Smith, of all people a...   \n",
       "183       afforded, and thirteen springs shewn their blo...   \n",
       "4045      unworthily occupied!  An ancient family to be ...   \n",
       "1031      divided between Uppercross Cottage and Kellync...   \n",
       "3544      in reply as her own feeling could accomplish, ...   \n",
       "3647                                                          \n",
       "862                                                 effect.   \n",
       "5225      at the evil or good of others.  This, to Anne,...   \n",
       "3105      machines and company; the Cobb itself, its old...   \n",
       "4664      passed, and in the degree of concern for what ...   \n",
       "\n",
       "                               title  chap_num  \n",
       "line_num                                        \n",
       "5120      Persuasion, by Jane Austen        17  \n",
       "183       Persuasion, by Jane Austen         1  \n",
       "4045      Persuasion, by Jane Austen        13  \n",
       "1031      Persuasion, by Jane Austen         5  \n",
       "3544      Persuasion, by Jane Austen        12  \n",
       "3647      Persuasion, by Jane Austen        12  \n",
       "862       Persuasion, by Jane Austen         4  \n",
       "5225      Persuasion, by Jane Austen        17  \n",
       "3105      Persuasion, by Jane Austen        11  \n",
       "4664      Persuasion, by Jane Austen        15  "
      ]
     },
     "execution_count": 24,
     "metadata": {},
     "output_type": "execute_result"
    }
   ],
   "source": [
    "df.sample(10)"
   ]
  },
  {
   "cell_type": "markdown",
   "metadata": {},
   "source": [
    "## Group by chapter num and reset dataframe "
   ]
  },
  {
   "cell_type": "code",
   "execution_count": 25,
   "metadata": {},
   "outputs": [],
   "source": [
    "df = df.groupby(OHCO[:1]).line_str.apply(lambda x: '\\n'.join(x)).to_frame() # Make big string"
   ]
  },
  {
   "cell_type": "code",
   "execution_count": 26,
   "metadata": {},
   "outputs": [
    {
     "data": {
      "text/html": [
       "<div>\n",
       "<style scoped>\n",
       "    .dataframe tbody tr th:only-of-type {\n",
       "        vertical-align: middle;\n",
       "    }\n",
       "\n",
       "    .dataframe tbody tr th {\n",
       "        vertical-align: top;\n",
       "    }\n",
       "\n",
       "    .dataframe thead th {\n",
       "        text-align: right;\n",
       "    }\n",
       "</style>\n",
       "<table border=\"1\" class=\"dataframe\">\n",
       "  <thead>\n",
       "    <tr style=\"text-align: right;\">\n",
       "      <th></th>\n",
       "      <th>line_str</th>\n",
       "    </tr>\n",
       "    <tr>\n",
       "      <th>chap_num</th>\n",
       "      <th></th>\n",
       "    </tr>\n",
       "  </thead>\n",
       "  <tbody>\n",
       "    <tr>\n",
       "      <th>1</th>\n",
       "      <td>\\n\\nSir Walter Elliot, of Kellynch Hall, in So...</td>\n",
       "    </tr>\n",
       "    <tr>\n",
       "      <th>2</th>\n",
       "      <td>\\n\\nMr Shepherd, a civil, cautious lawyer, who...</td>\n",
       "    </tr>\n",
       "    <tr>\n",
       "      <th>3</th>\n",
       "      <td>\\n\\n\"I must take leave to observe, Sir Walter,...</td>\n",
       "    </tr>\n",
       "    <tr>\n",
       "      <th>4</th>\n",
       "      <td>\\n\\nHe was not Mr Wentworth, the former curate...</td>\n",
       "    </tr>\n",
       "    <tr>\n",
       "      <th>5</th>\n",
       "      <td>\\n\\nOn the morning appointed for Admiral and M...</td>\n",
       "    </tr>\n",
       "  </tbody>\n",
       "</table>\n",
       "</div>"
      ],
      "text/plain": [
       "                                                   line_str\n",
       "chap_num                                                   \n",
       "1         \\n\\nSir Walter Elliot, of Kellynch Hall, in So...\n",
       "2         \\n\\nMr Shepherd, a civil, cautious lawyer, who...\n",
       "3         \\n\\n\"I must take leave to observe, Sir Walter,...\n",
       "4         \\n\\nHe was not Mr Wentworth, the former curate...\n",
       "5         \\n\\nOn the morning appointed for Admiral and M..."
      ]
     },
     "execution_count": 26,
     "metadata": {},
     "output_type": "execute_result"
    }
   ],
   "source": [
    "df.head()"
   ]
  },
  {
   "cell_type": "markdown",
   "metadata": {},
   "source": [
    "# Split into paragraphs "
   ]
  },
  {
   "cell_type": "code",
   "execution_count": 27,
   "metadata": {},
   "outputs": [],
   "source": [
    "df = df['line_str'].str.split(r'\\n\\n+', expand=True).stack()\\\n",
    "    .to_frame().rename(columns={0:'para_str'})"
   ]
  },
  {
   "cell_type": "code",
   "execution_count": 28,
   "metadata": {},
   "outputs": [
    {
     "data": {
      "text/html": [
       "<div>\n",
       "<style scoped>\n",
       "    .dataframe tbody tr th:only-of-type {\n",
       "        vertical-align: middle;\n",
       "    }\n",
       "\n",
       "    .dataframe tbody tr th {\n",
       "        vertical-align: top;\n",
       "    }\n",
       "\n",
       "    .dataframe thead th {\n",
       "        text-align: right;\n",
       "    }\n",
       "</style>\n",
       "<table border=\"1\" class=\"dataframe\">\n",
       "  <thead>\n",
       "    <tr style=\"text-align: right;\">\n",
       "      <th></th>\n",
       "      <th></th>\n",
       "      <th>para_str</th>\n",
       "    </tr>\n",
       "    <tr>\n",
       "      <th>chap_num</th>\n",
       "      <th></th>\n",
       "      <th></th>\n",
       "    </tr>\n",
       "  </thead>\n",
       "  <tbody>\n",
       "    <tr>\n",
       "      <th rowspan=\"5\" valign=\"top\">1</th>\n",
       "      <th>0</th>\n",
       "      <td></td>\n",
       "    </tr>\n",
       "    <tr>\n",
       "      <th>1</th>\n",
       "      <td>Sir Walter Elliot, of Kellynch Hall, in Somers...</td>\n",
       "    </tr>\n",
       "    <tr>\n",
       "      <th>2</th>\n",
       "      <td>\"ELLIOT OF KELLYNCH HALL.</td>\n",
       "    </tr>\n",
       "    <tr>\n",
       "      <th>3</th>\n",
       "      <td>\"Walter Elliot, born March 1, 1760, married, J...</td>\n",
       "    </tr>\n",
       "    <tr>\n",
       "      <th>4</th>\n",
       "      <td>Precisely such had the paragraph originally st...</td>\n",
       "    </tr>\n",
       "  </tbody>\n",
       "</table>\n",
       "</div>"
      ],
      "text/plain": [
       "                                                     para_str\n",
       "chap_num                                                     \n",
       "1        0                                                   \n",
       "         1  Sir Walter Elliot, of Kellynch Hall, in Somers...\n",
       "         2                          \"ELLIOT OF KELLYNCH HALL.\n",
       "         3  \"Walter Elliot, born March 1, 1760, married, J...\n",
       "         4  Precisely such had the paragraph originally st..."
      ]
     },
     "execution_count": 28,
     "metadata": {},
     "output_type": "execute_result"
    }
   ],
   "source": [
    "df.head()"
   ]
  },
  {
   "cell_type": "code",
   "execution_count": 29,
   "metadata": {},
   "outputs": [],
   "source": [
    "df.index.names = OHCO[:2]"
   ]
  },
  {
   "cell_type": "code",
   "execution_count": 30,
   "metadata": {},
   "outputs": [
    {
     "data": {
      "text/html": [
       "<div>\n",
       "<style scoped>\n",
       "    .dataframe tbody tr th:only-of-type {\n",
       "        vertical-align: middle;\n",
       "    }\n",
       "\n",
       "    .dataframe tbody tr th {\n",
       "        vertical-align: top;\n",
       "    }\n",
       "\n",
       "    .dataframe thead th {\n",
       "        text-align: right;\n",
       "    }\n",
       "</style>\n",
       "<table border=\"1\" class=\"dataframe\">\n",
       "  <thead>\n",
       "    <tr style=\"text-align: right;\">\n",
       "      <th></th>\n",
       "      <th></th>\n",
       "      <th>para_str</th>\n",
       "    </tr>\n",
       "    <tr>\n",
       "      <th>chap_num</th>\n",
       "      <th>para_num</th>\n",
       "      <th></th>\n",
       "    </tr>\n",
       "  </thead>\n",
       "  <tbody>\n",
       "    <tr>\n",
       "      <th rowspan=\"5\" valign=\"top\">1</th>\n",
       "      <th>0</th>\n",
       "      <td></td>\n",
       "    </tr>\n",
       "    <tr>\n",
       "      <th>1</th>\n",
       "      <td>Sir Walter Elliot, of Kellynch Hall, in Somers...</td>\n",
       "    </tr>\n",
       "    <tr>\n",
       "      <th>2</th>\n",
       "      <td>\"ELLIOT OF KELLYNCH HALL.</td>\n",
       "    </tr>\n",
       "    <tr>\n",
       "      <th>3</th>\n",
       "      <td>\"Walter Elliot, born March 1, 1760, married, J...</td>\n",
       "    </tr>\n",
       "    <tr>\n",
       "      <th>4</th>\n",
       "      <td>Precisely such had the paragraph originally st...</td>\n",
       "    </tr>\n",
       "  </tbody>\n",
       "</table>\n",
       "</div>"
      ],
      "text/plain": [
       "                                                            para_str\n",
       "chap_num para_num                                                   \n",
       "1        0                                                          \n",
       "         1         Sir Walter Elliot, of Kellynch Hall, in Somers...\n",
       "         2                                 \"ELLIOT OF KELLYNCH HALL.\n",
       "         3         \"Walter Elliot, born March 1, 1760, married, J...\n",
       "         4         Precisely such had the paragraph originally st..."
      ]
     },
     "execution_count": 30,
     "metadata": {},
     "output_type": "execute_result"
    }
   ],
   "source": [
    "df.head()"
   ]
  },
  {
   "cell_type": "code",
   "execution_count": 31,
   "metadata": {},
   "outputs": [],
   "source": [
    "df['para_str'] = df['para_str'].str.replace(r'\\n', ' ').str.strip()\n",
    "df = df[~df['para_str'].str.match(r'^\\s*$')] # Remove empty paragraphs"
   ]
  },
  {
   "cell_type": "code",
   "execution_count": 32,
   "metadata": {},
   "outputs": [
    {
     "data": {
      "text/html": [
       "<div>\n",
       "<style scoped>\n",
       "    .dataframe tbody tr th:only-of-type {\n",
       "        vertical-align: middle;\n",
       "    }\n",
       "\n",
       "    .dataframe tbody tr th {\n",
       "        vertical-align: top;\n",
       "    }\n",
       "\n",
       "    .dataframe thead th {\n",
       "        text-align: right;\n",
       "    }\n",
       "</style>\n",
       "<table border=\"1\" class=\"dataframe\">\n",
       "  <thead>\n",
       "    <tr style=\"text-align: right;\">\n",
       "      <th></th>\n",
       "      <th></th>\n",
       "      <th>para_str</th>\n",
       "    </tr>\n",
       "    <tr>\n",
       "      <th>chap_num</th>\n",
       "      <th>para_num</th>\n",
       "      <th></th>\n",
       "    </tr>\n",
       "  </thead>\n",
       "  <tbody>\n",
       "    <tr>\n",
       "      <th rowspan=\"5\" valign=\"top\">1</th>\n",
       "      <th>1</th>\n",
       "      <td>Sir Walter Elliot, of Kellynch Hall, in Somers...</td>\n",
       "    </tr>\n",
       "    <tr>\n",
       "      <th>2</th>\n",
       "      <td>\"ELLIOT OF KELLYNCH HALL.</td>\n",
       "    </tr>\n",
       "    <tr>\n",
       "      <th>3</th>\n",
       "      <td>\"Walter Elliot, born March 1, 1760, married, J...</td>\n",
       "    </tr>\n",
       "    <tr>\n",
       "      <th>4</th>\n",
       "      <td>Precisely such had the paragraph originally st...</td>\n",
       "    </tr>\n",
       "    <tr>\n",
       "      <th>5</th>\n",
       "      <td>Then followed the history and rise of the anci...</td>\n",
       "    </tr>\n",
       "  </tbody>\n",
       "</table>\n",
       "</div>"
      ],
      "text/plain": [
       "                                                            para_str\n",
       "chap_num para_num                                                   \n",
       "1        1         Sir Walter Elliot, of Kellynch Hall, in Somers...\n",
       "         2                                 \"ELLIOT OF KELLYNCH HALL.\n",
       "         3         \"Walter Elliot, born March 1, 1760, married, J...\n",
       "         4         Precisely such had the paragraph originally st...\n",
       "         5         Then followed the history and rise of the anci..."
      ]
     },
     "execution_count": 32,
     "metadata": {},
     "output_type": "execute_result"
    }
   ],
   "source": [
    "df.head()"
   ]
  },
  {
   "cell_type": "markdown",
   "metadata": {},
   "source": [
    "# Split into sentences"
   ]
  },
  {
   "cell_type": "code",
   "execution_count": 33,
   "metadata": {},
   "outputs": [],
   "source": [
    "df = df['para_str'].str.split(r'[.?!;]', expand=True).stack()\\\n",
    "    .to_frame().rename(columns={0:'sent_str'})"
   ]
  },
  {
   "cell_type": "code",
   "execution_count": 34,
   "metadata": {},
   "outputs": [],
   "source": [
    "df.index.names = OHCO[:3]"
   ]
  },
  {
   "cell_type": "code",
   "execution_count": 35,
   "metadata": {},
   "outputs": [],
   "source": [
    "df = df[~df['sent_str'].str.match(r'^\\s*$')] # Remove empty paragraphs"
   ]
  },
  {
   "cell_type": "code",
   "execution_count": 36,
   "metadata": {},
   "outputs": [
    {
     "data": {
      "text/html": [
       "<div>\n",
       "<style scoped>\n",
       "    .dataframe tbody tr th:only-of-type {\n",
       "        vertical-align: middle;\n",
       "    }\n",
       "\n",
       "    .dataframe tbody tr th {\n",
       "        vertical-align: top;\n",
       "    }\n",
       "\n",
       "    .dataframe thead th {\n",
       "        text-align: right;\n",
       "    }\n",
       "</style>\n",
       "<table border=\"1\" class=\"dataframe\">\n",
       "  <thead>\n",
       "    <tr style=\"text-align: right;\">\n",
       "      <th></th>\n",
       "      <th></th>\n",
       "      <th></th>\n",
       "      <th>sent_str</th>\n",
       "    </tr>\n",
       "    <tr>\n",
       "      <th>chap_num</th>\n",
       "      <th>para_num</th>\n",
       "      <th>sent_num</th>\n",
       "      <th></th>\n",
       "    </tr>\n",
       "  </thead>\n",
       "  <tbody>\n",
       "    <tr>\n",
       "      <th rowspan=\"5\" valign=\"top\">1</th>\n",
       "      <th rowspan=\"5\" valign=\"top\">1</th>\n",
       "      <th>0</th>\n",
       "      <td>Sir Walter Elliot, of Kellynch Hall, in Somers...</td>\n",
       "    </tr>\n",
       "    <tr>\n",
       "      <th>1</th>\n",
       "      <td>there he found occupation for an idle hour, a...</td>\n",
       "    </tr>\n",
       "    <tr>\n",
       "      <th>2</th>\n",
       "      <td>there his faculties were roused into admirati...</td>\n",
       "    </tr>\n",
       "    <tr>\n",
       "      <th>3</th>\n",
       "      <td>there any unwelcome sensations, arising from ...</td>\n",
       "    </tr>\n",
       "    <tr>\n",
       "      <th>4</th>\n",
       "      <td>and there, if every other leaf were powerless...</td>\n",
       "    </tr>\n",
       "  </tbody>\n",
       "</table>\n",
       "</div>"
      ],
      "text/plain": [
       "                                                                     sent_str\n",
       "chap_num para_num sent_num                                                   \n",
       "1        1        0         Sir Walter Elliot, of Kellynch Hall, in Somers...\n",
       "                  1          there he found occupation for an idle hour, a...\n",
       "                  2          there his faculties were roused into admirati...\n",
       "                  3          there any unwelcome sensations, arising from ...\n",
       "                  4          and there, if every other leaf were powerless..."
      ]
     },
     "execution_count": 36,
     "metadata": {},
     "output_type": "execute_result"
    }
   ],
   "source": [
    "df.head()"
   ]
  },
  {
   "cell_type": "markdown",
   "metadata": {},
   "source": [
    "# Split into tokens"
   ]
  },
  {
   "cell_type": "code",
   "execution_count": 37,
   "metadata": {},
   "outputs": [],
   "source": [
    "df = df['sent_str'].str.split(r'\\s+', expand=True).stack()\\\n",
    "    .to_frame().rename(columns={0:'token_str'})"
   ]
  },
  {
   "cell_type": "code",
   "execution_count": 38,
   "metadata": {},
   "outputs": [],
   "source": [
    "df.index.names = OHCO[:4]"
   ]
  },
  {
   "cell_type": "code",
   "execution_count": 59,
   "metadata": {},
   "outputs": [
    {
     "data": {
      "text/html": [
       "<div>\n",
       "<style scoped>\n",
       "    .dataframe tbody tr th:only-of-type {\n",
       "        vertical-align: middle;\n",
       "    }\n",
       "\n",
       "    .dataframe tbody tr th {\n",
       "        vertical-align: top;\n",
       "    }\n",
       "\n",
       "    .dataframe thead th {\n",
       "        text-align: right;\n",
       "    }\n",
       "</style>\n",
       "<table border=\"1\" class=\"dataframe\">\n",
       "  <thead>\n",
       "    <tr style=\"text-align: right;\">\n",
       "      <th></th>\n",
       "      <th></th>\n",
       "      <th></th>\n",
       "      <th></th>\n",
       "      <th>token_str</th>\n",
       "    </tr>\n",
       "    <tr>\n",
       "      <th>chap_num</th>\n",
       "      <th>para_num</th>\n",
       "      <th>sent_num</th>\n",
       "      <th>token_num</th>\n",
       "      <th></th>\n",
       "    </tr>\n",
       "  </thead>\n",
       "  <tbody>\n",
       "    <tr>\n",
       "      <th rowspan=\"5\" valign=\"top\">1</th>\n",
       "      <th rowspan=\"5\" valign=\"top\">1</th>\n",
       "      <th rowspan=\"5\" valign=\"top\">0</th>\n",
       "      <th>0</th>\n",
       "      <td>Sir</td>\n",
       "    </tr>\n",
       "    <tr>\n",
       "      <th>1</th>\n",
       "      <td>Walter</td>\n",
       "    </tr>\n",
       "    <tr>\n",
       "      <th>2</th>\n",
       "      <td>Elliot,</td>\n",
       "    </tr>\n",
       "    <tr>\n",
       "      <th>3</th>\n",
       "      <td>of</td>\n",
       "    </tr>\n",
       "    <tr>\n",
       "      <th>4</th>\n",
       "      <td>Kellynch</td>\n",
       "    </tr>\n",
       "  </tbody>\n",
       "</table>\n",
       "</div>"
      ],
      "text/plain": [
       "                                     token_str\n",
       "chap_num para_num sent_num token_num          \n",
       "1        1        0        0               Sir\n",
       "                           1            Walter\n",
       "                           2           Elliot,\n",
       "                           3                of\n",
       "                           4          Kellynch"
      ]
     },
     "execution_count": 59,
     "metadata": {},
     "output_type": "execute_result"
    }
   ],
   "source": [
    "df.head()"
   ]
  },
  {
   "cell_type": "markdown",
   "metadata": {},
   "source": [
    "# Gathering by Content Object"
   ]
  },
  {
   "cell_type": "code",
   "execution_count": 58,
   "metadata": {},
   "outputs": [],
   "source": [
    "sents = df.groupby(OHCO[:3]).token_str.apply(lambda x: ' '.join(x)).to_frame().rename(columns={'token_str':'content'})\n",
    "paras = df.groupby(OHCO[:2]).token_str.apply(lambda x: ' '.join(x)).to_frame().rename(columns={'token_str':'content'})\n",
    "chaps = df.groupby(OHCO[:1]).token_str.apply(lambda x: ' '.join(x)).to_frame().rename(columns={'token_str':'content'})"
   ]
  },
  {
   "cell_type": "code",
   "execution_count": 91,
   "metadata": {},
   "outputs": [],
   "source": [
    "def gather(ohco_level):\n",
    "    return df.groupby(OHCO[:ohco_level]).token_str\\\n",
    "        .apply(lambda x: ' '.join(x))\\\n",
    "        .to_frame()\\\n",
    "        .rename(columns={'token_str':'content'})"
   ]
  },
  {
   "cell_type": "code",
   "execution_count": 61,
   "metadata": {},
   "outputs": [
    {
     "data": {
      "text/html": [
       "<div>\n",
       "<style scoped>\n",
       "    .dataframe tbody tr th:only-of-type {\n",
       "        vertical-align: middle;\n",
       "    }\n",
       "\n",
       "    .dataframe tbody tr th {\n",
       "        vertical-align: top;\n",
       "    }\n",
       "\n",
       "    .dataframe thead th {\n",
       "        text-align: right;\n",
       "    }\n",
       "</style>\n",
       "<table border=\"1\" class=\"dataframe\">\n",
       "  <thead>\n",
       "    <tr style=\"text-align: right;\">\n",
       "      <th></th>\n",
       "      <th></th>\n",
       "      <th></th>\n",
       "      <th>content</th>\n",
       "    </tr>\n",
       "    <tr>\n",
       "      <th>chap_num</th>\n",
       "      <th>para_num</th>\n",
       "      <th>sent_num</th>\n",
       "      <th></th>\n",
       "    </tr>\n",
       "  </thead>\n",
       "  <tbody>\n",
       "    <tr>\n",
       "      <th>7</th>\n",
       "      <th>6</th>\n",
       "      <th>6</th>\n",
       "      <td>\"</td>\n",
       "    </tr>\n",
       "    <tr>\n",
       "      <th>12</th>\n",
       "      <th>39</th>\n",
       "      <th>1</th>\n",
       "      <td>\" said Anne</td>\n",
       "    </tr>\n",
       "    <tr>\n",
       "      <th>21</th>\n",
       "      <th>90</th>\n",
       "      <th>0</th>\n",
       "      <td>\"Yes,\" said Anne, \"you tell me nothing which d...</td>\n",
       "    </tr>\n",
       "    <tr>\n",
       "      <th>15</th>\n",
       "      <th>4</th>\n",
       "      <th>0</th>\n",
       "      <td>They had the pleasure of assuring her that Bat...</td>\n",
       "    </tr>\n",
       "    <tr>\n",
       "      <th>6</th>\n",
       "      <th>7</th>\n",
       "      <th>1</th>\n",
       "      <td>Known to have some influence with her sister,...</td>\n",
       "    </tr>\n",
       "    <tr>\n",
       "      <th>12</th>\n",
       "      <th>61</th>\n",
       "      <th>2</th>\n",
       "      <td>Mrs Charles Musgrove will, of course, wish to...</td>\n",
       "    </tr>\n",
       "    <tr>\n",
       "      <th>14</th>\n",
       "      <th>25</th>\n",
       "      <th>3</th>\n",
       "      <td>He had not seen Louisa</td>\n",
       "    </tr>\n",
       "    <tr>\n",
       "      <th>17</th>\n",
       "      <th>14</th>\n",
       "      <th>8</th>\n",
       "      <td>and Elizabeth was disdainful, and Sir Walter ...</td>\n",
       "    </tr>\n",
       "    <tr>\n",
       "      <th rowspan=\"2\" valign=\"top\">23</th>\n",
       "      <th>76</th>\n",
       "      <th>11</th>\n",
       "      <td>with Captain Harville, the kind-hearted inter...</td>\n",
       "    </tr>\n",
       "    <tr>\n",
       "      <th>50</th>\n",
       "      <th>1</th>\n",
       "      <td>my dear, it is quite understood, I give you m...</td>\n",
       "    </tr>\n",
       "  </tbody>\n",
       "</table>\n",
       "</div>"
      ],
      "text/plain": [
       "                                                                      content\n",
       "chap_num para_num sent_num                                                   \n",
       "7        6        6                                                         \"\n",
       "12       39       1                                               \" said Anne\n",
       "21       90       0         \"Yes,\" said Anne, \"you tell me nothing which d...\n",
       "15       4        0         They had the pleasure of assuring her that Bat...\n",
       "6        7        1          Known to have some influence with her sister,...\n",
       "12       61       2          Mrs Charles Musgrove will, of course, wish to...\n",
       "14       25       3                                    He had not seen Louisa\n",
       "17       14       8          and Elizabeth was disdainful, and Sir Walter ...\n",
       "23       76       11         with Captain Harville, the kind-hearted inter...\n",
       "         50       1          my dear, it is quite understood, I give you m..."
      ]
     },
     "execution_count": 61,
     "metadata": {},
     "output_type": "execute_result"
    }
   ],
   "source": [
    "sents.sample(10)"
   ]
  },
  {
   "cell_type": "code",
   "execution_count": 90,
   "metadata": {},
   "outputs": [],
   "source": [
    "# sents2 = sents.reset_index(drop=True)"
   ]
  },
  {
   "cell_type": "code",
   "execution_count": 86,
   "metadata": {},
   "outputs": [
    {
     "data": {
      "text/plain": [
       "<matplotlib.axes._subplots.AxesSubplot at 0x1a1fc3ed68>"
      ]
     },
     "execution_count": 86,
     "metadata": {},
     "output_type": "execute_result"
    },
    {
     "data": {
      "image/png": "[encoded data removed]",
      "text/plain": [
       "<Figure size 432x288 with 1 Axes>"
      ]
     },
     "metadata": {
      "needs_background": "light"
     },
     "output_type": "display_data"
    }
   ],
   "source": [
    "df.token_str.str.len().plot.hist()"
   ]
  },
  {
   "cell_type": "code",
   "execution_count": 87,
   "metadata": {},
   "outputs": [
    {
     "data": {
      "text/plain": [
       "<matplotlib.axes._subplots.AxesSubplot at 0x1a2016bcf8>"
      ]
     },
     "execution_count": 87,
     "metadata": {},
     "output_type": "execute_result"
    },
    {
     "data": {
      "image/png": "[encoded data removed]",
      "text/plain": [
       "<Figure size 432x288 with 1 Axes>"
      ]
     },
     "metadata": {
      "needs_background": "light"
     },
     "output_type": "display_data"
    }
   ],
   "source": [
    "sents.content.str.len().plot.hist(bins=20)"
   ]
  },
  {
   "cell_type": "code",
   "execution_count": 88,
   "metadata": {},
   "outputs": [
    {
     "data": {
      "text/plain": [
       "<matplotlib.axes._subplots.AxesSubplot at 0x1a2026b4e0>"
      ]
     },
     "execution_count": 88,
     "metadata": {},
     "output_type": "execute_result"
    },
    {
     "data": {
      "image/png": "[encoded data removed]",
      "text/plain": [
       "<Figure size 432x288 with 1 Axes>"
      ]
     },
     "metadata": {
      "needs_background": "light"
     },
     "output_type": "display_data"
    }
   ],
   "source": [
    "paras.content.str.len().plot.hist(bins=20)"
   ]
  },
  {
   "cell_type": "code",
   "execution_count": 89,
   "metadata": {},
   "outputs": [
    {
     "data": {
      "text/plain": [
       "<matplotlib.axes._subplots.AxesSubplot at 0x1a202b6eb8>"
      ]
     },
     "execution_count": 89,
     "metadata": {},
     "output_type": "execute_result"
    },
    {
     "data": {
      "image/png": "[encoded data removed]",
      "text/plain": [
       "<Figure size 432x288 with 1 Axes>"
      ]
     },
     "metadata": {
      "needs_background": "light"
     },
     "output_type": "display_data"
    }
   ],
   "source": [
    "chaps.content.str.len().plot.hist(bins=20)"
   ]
  },
  {
   "cell_type": "code",
   "execution_count": null,
   "metadata": {},
   "outputs": [],
   "source": []
  }
 ],
 "metadata": {
  "kernelspec": {
   "display_name": "Python 3",
   "language": "python",
   "name": "python3"
  },
  "language_info": {
   "codemirror_mode": {
    "name": "ipython",
    "version": 3
   },
   "file_extension": ".py",
   "mimetype": "text/x-python",
   "name": "python",
   "nbconvert_exporter": "python",
   "pygments_lexer": "ipython3",
   "version": "3.6.5"
  }
 },
 "nbformat": 4,
 "nbformat_minor": 4
}
