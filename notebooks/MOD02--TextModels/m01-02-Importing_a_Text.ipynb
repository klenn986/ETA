{
 "cells": [
  {
   "cell_type": "markdown",
   "metadata": {},
   "source": [
    "# Module 2: Text into Data: Importing a Text\n",
    "\n",
    "* DS 5001: Exploratory Text Analytics\n",
    "* Raf Alvarado"
   ]
  },
  {
   "cell_type": "markdown",
   "metadata": {},
   "source": [
    "# Set Up"
   ]
  },
  {
   "cell_type": "code",
   "execution_count": 1,
   "metadata": {},
   "outputs": [],
   "source": [
    "import pandas as pd"
   ]
  },
  {
   "cell_type": "code",
   "execution_count": 2,
   "metadata": {},
   "outputs": [],
   "source": [
    "epub_file = \"../MOD01--SetUp/pg105.txt\"\n",
    "OHCO = ['chap_num', 'para_num', 'sent_num', 'token_num']"
   ]
  },
  {
   "cell_type": "markdown",
   "metadata": {},
   "source": [
    "# Import file into a dataframe"
   ]
  },
  {
   "cell_type": "code",
   "execution_count": 3,
   "metadata": {},
   "outputs": [],
   "source": [
    "epub = open(epub_file, 'r', encoding='utf-8-sig').readlines()"
   ]
  },
  {
   "cell_type": "code",
   "execution_count": 4,
   "metadata": {},
   "outputs": [],
   "source": [
    "df = pd.DataFrame(epub, columns=['line_str'])"
   ]
  },
  {
   "cell_type": "code",
   "execution_count": 5,
   "metadata": {},
   "outputs": [],
   "source": [
    "df.index.name = 'line_num'"
   ]
  },
  {
   "cell_type": "code",
   "execution_count": 6,
   "metadata": {},
   "outputs": [],
   "source": [
    "df.line_str = df.line_str.str.strip()"
   ]
  },
  {
   "cell_type": "code",
   "execution_count": 7,
   "metadata": {},
   "outputs": [
    {
     "data": {
      "text/html": [
       "<div>\n",
       "<style scoped>\n",
       "    .dataframe tbody tr th:only-of-type {\n",
       "        vertical-align: middle;\n",
       "    }\n",
       "\n",
       "    .dataframe tbody tr th {\n",
       "        vertical-align: top;\n",
       "    }\n",
       "\n",
       "    .dataframe thead th {\n",
       "        text-align: right;\n",
       "    }\n",
       "</style>\n",
       "<table border=\"1\" class=\"dataframe\">\n",
       "  <thead>\n",
       "    <tr style=\"text-align: right;\">\n",
       "      <th></th>\n",
       "      <th>line_str</th>\n",
       "    </tr>\n",
       "    <tr>\n",
       "      <th>line_num</th>\n",
       "      <th></th>\n",
       "    </tr>\n",
       "  </thead>\n",
       "  <tbody>\n",
       "    <tr>\n",
       "      <th>7865</th>\n",
       "      <td></td>\n",
       "    </tr>\n",
       "    <tr>\n",
       "      <th>4715</th>\n",
       "      <td>If Elizabeth could but have heard this!  Such ...</td>\n",
       "    </tr>\n",
       "    <tr>\n",
       "      <th>3367</th>\n",
       "      <td>anything!  I am afraid of her, as I have told ...</td>\n",
       "    </tr>\n",
       "    <tr>\n",
       "      <th>7310</th>\n",
       "      <td>misconstructions of the most mischievous kind.</td>\n",
       "    </tr>\n",
       "    <tr>\n",
       "      <th>1771</th>\n",
       "      <td>to be about the child.  My being the mother is...</td>\n",
       "    </tr>\n",
       "    <tr>\n",
       "      <th>2023</th>\n",
       "      <td>in unison, no countenances so beloved.  Now th...</td>\n",
       "    </tr>\n",
       "    <tr>\n",
       "      <th>8157</th>\n",
       "      <td>Wentworth, some moments of communications cont...</td>\n",
       "    </tr>\n",
       "    <tr>\n",
       "      <th>3777</th>\n",
       "      <td>Captain Wentworth now hurried off to get every...</td>\n",
       "    </tr>\n",
       "    <tr>\n",
       "      <th>8594</th>\n",
       "      <td>defect in this electronic work within 90 days ...</td>\n",
       "    </tr>\n",
       "    <tr>\n",
       "      <th>7004</th>\n",
       "      <td>affected carelessness, \"but he gave so many hi...</td>\n",
       "    </tr>\n",
       "  </tbody>\n",
       "</table>\n",
       "</div>"
      ],
      "text/plain": [
       "                                                   line_str\n",
       "line_num                                                   \n",
       "7865                                                       \n",
       "4715      If Elizabeth could but have heard this!  Such ...\n",
       "3367      anything!  I am afraid of her, as I have told ...\n",
       "7310         misconstructions of the most mischievous kind.\n",
       "1771      to be about the child.  My being the mother is...\n",
       "2023      in unison, no countenances so beloved.  Now th...\n",
       "8157      Wentworth, some moments of communications cont...\n",
       "3777      Captain Wentworth now hurried off to get every...\n",
       "8594      defect in this electronic work within 90 days ...\n",
       "7004      affected carelessness, \"but he gave so many hi..."
      ]
     },
     "execution_count": 7,
     "metadata": {},
     "output_type": "execute_result"
    }
   ],
   "source": [
    "df.sample(10)"
   ]
  },
  {
   "cell_type": "markdown",
   "metadata": {},
   "source": [
    "# Extract title of work from first line"
   ]
  },
  {
   "cell_type": "code",
   "execution_count": 8,
   "metadata": {},
   "outputs": [],
   "source": [
    "title = df.loc[0].line_str.replace('The Project Gutenberg EBook of ', '')\n",
    "df['title'] = title"
   ]
  },
  {
   "cell_type": "code",
   "execution_count": 9,
   "metadata": {},
   "outputs": [],
   "source": [
    "print(title)"
   ]
  },
  {
   "cell_type": "code",
   "execution_count": 11,
   "metadata": {},
   "outputs": [
    {
     "data": {
      "text/html": [
       "<div>\n",
       "<style scoped>\n",
       "    .dataframe tbody tr th:only-of-type {\n",
       "        vertical-align: middle;\n",
       "    }\n",
       "\n",
       "    .dataframe tbody tr th {\n",
       "        vertical-align: top;\n",
       "    }\n",
       "\n",
       "    .dataframe thead th {\n",
       "        text-align: right;\n",
       "    }\n",
       "</style>\n",
       "<table border=\"1\" class=\"dataframe\">\n",
       "  <thead>\n",
       "    <tr style=\"text-align: right;\">\n",
       "      <th></th>\n",
       "      <th>line_str</th>\n",
       "      <th>title</th>\n",
       "    </tr>\n",
       "    <tr>\n",
       "      <th>line_num</th>\n",
       "      <th></th>\n",
       "      <th></th>\n",
       "    </tr>\n",
       "  </thead>\n",
       "  <tbody>\n",
       "    <tr>\n",
       "      <th>0</th>\n",
       "      <td>The Project Gutenberg EBook of Persuasion, by ...</td>\n",
       "      <td>Persuasion, by Jane Austen</td>\n",
       "    </tr>\n",
       "    <tr>\n",
       "      <th>1</th>\n",
       "      <td></td>\n",
       "      <td>Persuasion, by Jane Austen</td>\n",
       "    </tr>\n",
       "    <tr>\n",
       "      <th>2</th>\n",
       "      <td>This eBook is for the use of anyone anywhere a...</td>\n",
       "      <td>Persuasion, by Jane Austen</td>\n",
       "    </tr>\n",
       "    <tr>\n",
       "      <th>3</th>\n",
       "      <td>almost no restrictions whatsoever.  You may co...</td>\n",
       "      <td>Persuasion, by Jane Austen</td>\n",
       "    </tr>\n",
       "    <tr>\n",
       "      <th>4</th>\n",
       "      <td>re-use it under the terms of the Project Guten...</td>\n",
       "      <td>Persuasion, by Jane Austen</td>\n",
       "    </tr>\n",
       "  </tbody>\n",
       "</table>\n",
       "</div>"
      ],
      "text/plain": [
       "                                                   line_str  \\\n",
       "line_num                                                      \n",
       "0         The Project Gutenberg EBook of Persuasion, by ...   \n",
       "1                                                             \n",
       "2         This eBook is for the use of anyone anywhere a...   \n",
       "3         almost no restrictions whatsoever.  You may co...   \n",
       "4         re-use it under the terms of the Project Guten...   \n",
       "\n",
       "                               title  \n",
       "line_num                              \n",
       "0         Persuasion, by Jane Austen  \n",
       "1         Persuasion, by Jane Austen  \n",
       "2         Persuasion, by Jane Austen  \n",
       "3         Persuasion, by Jane Austen  \n",
       "4         Persuasion, by Jane Austen  "
      ]
     },
     "execution_count": 11,
     "metadata": {},
     "output_type": "execute_result"
    }
   ],
   "source": [
    "df.head()"
   ]
  },
  {
   "cell_type": "markdown",
   "metadata": {},
   "source": [
    "# Remove Gutenberg's front and back matter"
   ]
  },
  {
   "cell_type": "code",
   "execution_count": 16,
   "metadata": {},
   "outputs": [],
   "source": [
    "a = df.line_str.str.match(r\"\\*\\*\\*\\s*START OF (THE|THIS) PROJECT\")\n",
    "b = df.line_str.str.match(r\"\\*\\*\\*\\s*END OF (THE|THIS) PROJECT\")"
   ]
  },
  {
   "cell_type": "code",
   "execution_count": 17,
   "metadata": {},
   "outputs": [],
   "source": [
    "an = df.loc[a].index[0]\n",
    "bn = df.loc[b].index[0]"
   ]
  },
  {
   "cell_type": "code",
   "execution_count": 20,
   "metadata": {},
   "outputs": [],
   "source": [
    "df = df.iloc[an + 1 : bn - 2]"
   ]
  },
  {
   "cell_type": "markdown",
   "metadata": {
    "toc-hr-collapsed": true
   },
   "source": [
    "# Chunk by chapter"
   ]
  },
  {
   "cell_type": "markdown",
   "metadata": {},
   "source": [
    "## Find all chapter headers"
   ]
  },
  {
   "cell_type": "code",
   "execution_count": 31,
   "metadata": {},
   "outputs": [],
   "source": [
    "chap_lines = df.line_str.str.match(r\"^\\s*(chapter|letter)\\s+(\\d+)\", case=False)"
   ]
  },
  {
   "cell_type": "code",
   "execution_count": 33,
   "metadata": {},
   "outputs": [],
   "source": [
    "# df.loc[chap_lines]"
   ]
  },
  {
   "cell_type": "markdown",
   "metadata": {},
   "source": [
    "## Assign numbers to chapters"
   ]
  },
  {
   "cell_type": "code",
   "execution_count": 35,
   "metadata": {},
   "outputs": [],
   "source": [
    "chap_nums = [i+1 for i in range(df.loc[chap_lines].shape[0])]"
   ]
  },
  {
   "cell_type": "code",
   "execution_count": 37,
   "metadata": {},
   "outputs": [],
   "source": [
    "df.loc[chap_lines, 'chap_num'] = chap_nums"
   ]
  },
  {
   "cell_type": "code",
   "execution_count": 39,
   "metadata": {},
   "outputs": [
    {
     "data": {
      "text/html": [
       "<div>\n",
       "<style scoped>\n",
       "    .dataframe tbody tr th:only-of-type {\n",
       "        vertical-align: middle;\n",
       "    }\n",
       "\n",
       "    .dataframe tbody tr th {\n",
       "        vertical-align: top;\n",
       "    }\n",
       "\n",
       "    .dataframe thead th {\n",
       "        text-align: right;\n",
       "    }\n",
       "</style>\n",
       "<table border=\"1\" class=\"dataframe\">\n",
       "  <thead>\n",
       "    <tr style=\"text-align: right;\">\n",
       "      <th></th>\n",
       "      <th>line_str</th>\n",
       "      <th>title</th>\n",
       "      <th>chap_num</th>\n",
       "    </tr>\n",
       "    <tr>\n",
       "      <th>line_num</th>\n",
       "      <th></th>\n",
       "      <th></th>\n",
       "      <th></th>\n",
       "    </tr>\n",
       "  </thead>\n",
       "  <tbody>\n",
       "    <tr>\n",
       "      <th>47</th>\n",
       "      <td>Chapter 1</td>\n",
       "      <td>Persuasion, by Jane Austen</td>\n",
       "      <td>1.0</td>\n",
       "    </tr>\n",
       "    <tr>\n",
       "      <th>306</th>\n",
       "      <td>Chapter 2</td>\n",
       "      <td>Persuasion, by Jane Austen</td>\n",
       "      <td>2.0</td>\n",
       "    </tr>\n",
       "    <tr>\n",
       "      <th>500</th>\n",
       "      <td>Chapter 3</td>\n",
       "      <td>Persuasion, by Jane Austen</td>\n",
       "      <td>3.0</td>\n",
       "    </tr>\n",
       "    <tr>\n",
       "      <th>786</th>\n",
       "      <td>Chapter 4</td>\n",
       "      <td>Persuasion, by Jane Austen</td>\n",
       "      <td>4.0</td>\n",
       "    </tr>\n",
       "    <tr>\n",
       "      <th>959</th>\n",
       "      <td>Chapter 5</td>\n",
       "      <td>Persuasion, by Jane Austen</td>\n",
       "      <td>5.0</td>\n",
       "    </tr>\n",
       "    <tr>\n",
       "      <th>1297</th>\n",
       "      <td>Chapter 6</td>\n",
       "      <td>Persuasion, by Jane Austen</td>\n",
       "      <td>6.0</td>\n",
       "    </tr>\n",
       "    <tr>\n",
       "      <th>1657</th>\n",
       "      <td>Chapter 7</td>\n",
       "      <td>Persuasion, by Jane Austen</td>\n",
       "      <td>7.0</td>\n",
       "    </tr>\n",
       "    <tr>\n",
       "      <th>1992</th>\n",
       "      <td>Chapter 8</td>\n",
       "      <td>Persuasion, by Jane Austen</td>\n",
       "      <td>8.0</td>\n",
       "    </tr>\n",
       "    <tr>\n",
       "      <th>2346</th>\n",
       "      <td>Chapter 9</td>\n",
       "      <td>Persuasion, by Jane Austen</td>\n",
       "      <td>9.0</td>\n",
       "    </tr>\n",
       "    <tr>\n",
       "      <th>2632</th>\n",
       "      <td>Chapter 10</td>\n",
       "      <td>Persuasion, by Jane Austen</td>\n",
       "      <td>10.0</td>\n",
       "    </tr>\n",
       "    <tr>\n",
       "      <th>3020</th>\n",
       "      <td>Chapter 11</td>\n",
       "      <td>Persuasion, by Jane Austen</td>\n",
       "      <td>11.0</td>\n",
       "    </tr>\n",
       "    <tr>\n",
       "      <th>3314</th>\n",
       "      <td>Chapter 12</td>\n",
       "      <td>Persuasion, by Jane Austen</td>\n",
       "      <td>12.0</td>\n",
       "    </tr>\n",
       "    <tr>\n",
       "      <th>3876</th>\n",
       "      <td>Chapter 13</td>\n",
       "      <td>Persuasion, by Jane Austen</td>\n",
       "      <td>13.0</td>\n",
       "    </tr>\n",
       "    <tr>\n",
       "      <th>4150</th>\n",
       "      <td>Chapter 14</td>\n",
       "      <td>Persuasion, by Jane Austen</td>\n",
       "      <td>14.0</td>\n",
       "    </tr>\n",
       "    <tr>\n",
       "      <th>4409</th>\n",
       "      <td>Chapter 15</td>\n",
       "      <td>Persuasion, by Jane Austen</td>\n",
       "      <td>15.0</td>\n",
       "    </tr>\n",
       "    <tr>\n",
       "      <th>4677</th>\n",
       "      <td>Chapter 16</td>\n",
       "      <td>Persuasion, by Jane Austen</td>\n",
       "      <td>16.0</td>\n",
       "    </tr>\n",
       "    <tr>\n",
       "      <th>4912</th>\n",
       "      <td>Chapter 17</td>\n",
       "      <td>Persuasion, by Jane Austen</td>\n",
       "      <td>17.0</td>\n",
       "    </tr>\n",
       "    <tr>\n",
       "      <th>5248</th>\n",
       "      <td>Chapter 18</td>\n",
       "      <td>Persuasion, by Jane Austen</td>\n",
       "      <td>18.0</td>\n",
       "    </tr>\n",
       "    <tr>\n",
       "      <th>5654</th>\n",
       "      <td>Chapter 19</td>\n",
       "      <td>Persuasion, by Jane Austen</td>\n",
       "      <td>19.0</td>\n",
       "    </tr>\n",
       "    <tr>\n",
       "      <th>5905</th>\n",
       "      <td>Chapter 20</td>\n",
       "      <td>Persuasion, by Jane Austen</td>\n",
       "      <td>20.0</td>\n",
       "    </tr>\n",
       "    <tr>\n",
       "      <th>6265</th>\n",
       "      <td>Chapter 21</td>\n",
       "      <td>Persuasion, by Jane Austen</td>\n",
       "      <td>21.0</td>\n",
       "    </tr>\n",
       "    <tr>\n",
       "      <th>6970</th>\n",
       "      <td>Chapter 22</td>\n",
       "      <td>Persuasion, by Jane Austen</td>\n",
       "      <td>22.0</td>\n",
       "    </tr>\n",
       "    <tr>\n",
       "      <th>7555</th>\n",
       "      <td>Chapter 23</td>\n",
       "      <td>Persuasion, by Jane Austen</td>\n",
       "      <td>23.0</td>\n",
       "    </tr>\n",
       "    <tr>\n",
       "      <th>8208</th>\n",
       "      <td>Chapter 24</td>\n",
       "      <td>Persuasion, by Jane Austen</td>\n",
       "      <td>24.0</td>\n",
       "    </tr>\n",
       "  </tbody>\n",
       "</table>\n",
       "</div>"
      ],
      "text/plain": [
       "            line_str                       title  chap_num\n",
       "line_num                                                  \n",
       "47         Chapter 1  Persuasion, by Jane Austen       1.0\n",
       "306        Chapter 2  Persuasion, by Jane Austen       2.0\n",
       "500        Chapter 3  Persuasion, by Jane Austen       3.0\n",
       "786        Chapter 4  Persuasion, by Jane Austen       4.0\n",
       "959        Chapter 5  Persuasion, by Jane Austen       5.0\n",
       "1297       Chapter 6  Persuasion, by Jane Austen       6.0\n",
       "1657       Chapter 7  Persuasion, by Jane Austen       7.0\n",
       "1992       Chapter 8  Persuasion, by Jane Austen       8.0\n",
       "2346       Chapter 9  Persuasion, by Jane Austen       9.0\n",
       "2632      Chapter 10  Persuasion, by Jane Austen      10.0\n",
       "3020      Chapter 11  Persuasion, by Jane Austen      11.0\n",
       "3314      Chapter 12  Persuasion, by Jane Austen      12.0\n",
       "3876      Chapter 13  Persuasion, by Jane Austen      13.0\n",
       "4150      Chapter 14  Persuasion, by Jane Austen      14.0\n",
       "4409      Chapter 15  Persuasion, by Jane Austen      15.0\n",
       "4677      Chapter 16  Persuasion, by Jane Austen      16.0\n",
       "4912      Chapter 17  Persuasion, by Jane Austen      17.0\n",
       "5248      Chapter 18  Persuasion, by Jane Austen      18.0\n",
       "5654      Chapter 19  Persuasion, by Jane Austen      19.0\n",
       "5905      Chapter 20  Persuasion, by Jane Austen      20.0\n",
       "6265      Chapter 21  Persuasion, by Jane Austen      21.0\n",
       "6970      Chapter 22  Persuasion, by Jane Austen      22.0\n",
       "7555      Chapter 23  Persuasion, by Jane Austen      23.0\n",
       "8208      Chapter 24  Persuasion, by Jane Austen      24.0"
      ]
     },
     "execution_count": 39,
     "metadata": {},
     "output_type": "execute_result"
    }
   ],
   "source": [
    "# df.loc[chap_lines]"
   ]
  },
  {
   "cell_type": "markdown",
   "metadata": {},
   "source": [
    "## Forward-fill chapter numbers to following text lines"
   ]
  },
  {
   "cell_type": "code",
   "execution_count": 40,
   "metadata": {},
   "outputs": [],
   "source": [
    "df.chap_num = df.chap_num.ffill()"
   ]
  },
  {
   "cell_type": "code",
   "execution_count": 42,
   "metadata": {},
   "outputs": [
    {
     "data": {
      "text/html": [
       "<div>\n",
       "<style scoped>\n",
       "    .dataframe tbody tr th:only-of-type {\n",
       "        vertical-align: middle;\n",
       "    }\n",
       "\n",
       "    .dataframe tbody tr th {\n",
       "        vertical-align: top;\n",
       "    }\n",
       "\n",
       "    .dataframe thead th {\n",
       "        text-align: right;\n",
       "    }\n",
       "</style>\n",
       "<table border=\"1\" class=\"dataframe\">\n",
       "  <thead>\n",
       "    <tr style=\"text-align: right;\">\n",
       "      <th></th>\n",
       "      <th>line_str</th>\n",
       "      <th>title</th>\n",
       "      <th>chap_num</th>\n",
       "    </tr>\n",
       "    <tr>\n",
       "      <th>line_num</th>\n",
       "      <th></th>\n",
       "      <th></th>\n",
       "      <th></th>\n",
       "    </tr>\n",
       "  </thead>\n",
       "  <tbody>\n",
       "    <tr>\n",
       "      <th>19</th>\n",
       "      <td></td>\n",
       "      <td>Persuasion, by Jane Austen</td>\n",
       "      <td>NaN</td>\n",
       "    </tr>\n",
       "    <tr>\n",
       "      <th>20</th>\n",
       "      <td></td>\n",
       "      <td>Persuasion, by Jane Austen</td>\n",
       "      <td>NaN</td>\n",
       "    </tr>\n",
       "    <tr>\n",
       "      <th>21</th>\n",
       "      <td></td>\n",
       "      <td>Persuasion, by Jane Austen</td>\n",
       "      <td>NaN</td>\n",
       "    </tr>\n",
       "    <tr>\n",
       "      <th>22</th>\n",
       "      <td></td>\n",
       "      <td>Persuasion, by Jane Austen</td>\n",
       "      <td>NaN</td>\n",
       "    </tr>\n",
       "    <tr>\n",
       "      <th>23</th>\n",
       "      <td>Produced by Sharon Partridge and Martin Ward. ...</td>\n",
       "      <td>Persuasion, by Jane Austen</td>\n",
       "      <td>NaN</td>\n",
       "    </tr>\n",
       "  </tbody>\n",
       "</table>\n",
       "</div>"
      ],
      "text/plain": [
       "                                                   line_str  \\\n",
       "line_num                                                      \n",
       "19                                                            \n",
       "20                                                            \n",
       "21                                                            \n",
       "22                                                            \n",
       "23        Produced by Sharon Partridge and Martin Ward. ...   \n",
       "\n",
       "                               title  chap_num  \n",
       "line_num                                        \n",
       "19        Persuasion, by Jane Austen       NaN  \n",
       "20        Persuasion, by Jane Austen       NaN  \n",
       "21        Persuasion, by Jane Austen       NaN  \n",
       "22        Persuasion, by Jane Austen       NaN  \n",
       "23        Persuasion, by Jane Austen       NaN  "
      ]
     },
     "execution_count": 42,
     "metadata": {},
     "output_type": "execute_result"
    }
   ],
   "source": [
    "df.head()"
   ]
  },
  {
   "cell_type": "markdown",
   "metadata": {},
   "source": [
    "## Clean up"
   ]
  },
  {
   "cell_type": "code",
   "execution_count": 43,
   "metadata": {},
   "outputs": [],
   "source": [
    "df = df.loc[~df.chap_num.isna()] # Remove chapter heading lines\n",
    "df = df.loc[~chap_lines] # Remove everything before Chapter 1\n",
    "df.chap_num = df.chap_num.astype('int') # Convert chap_num from float to int"
   ]
  },
  {
   "cell_type": "code",
   "execution_count": 45,
   "metadata": {},
   "outputs": [
    {
     "data": {
      "text/html": [
       "<div>\n",
       "<style scoped>\n",
       "    .dataframe tbody tr th:only-of-type {\n",
       "        vertical-align: middle;\n",
       "    }\n",
       "\n",
       "    .dataframe tbody tr th {\n",
       "        vertical-align: top;\n",
       "    }\n",
       "\n",
       "    .dataframe thead th {\n",
       "        text-align: right;\n",
       "    }\n",
       "</style>\n",
       "<table border=\"1\" class=\"dataframe\">\n",
       "  <thead>\n",
       "    <tr style=\"text-align: right;\">\n",
       "      <th></th>\n",
       "      <th>line_str</th>\n",
       "      <th>title</th>\n",
       "      <th>chap_num</th>\n",
       "    </tr>\n",
       "    <tr>\n",
       "      <th>line_num</th>\n",
       "      <th></th>\n",
       "      <th></th>\n",
       "      <th></th>\n",
       "    </tr>\n",
       "  </thead>\n",
       "  <tbody>\n",
       "    <tr>\n",
       "      <th>6226</th>\n",
       "      <td>Room was strikingly great.  Why was it?  She t...</td>\n",
       "      <td>Persuasion, by Jane Austen</td>\n",
       "      <td>20</td>\n",
       "    </tr>\n",
       "    <tr>\n",
       "      <th>478</th>\n",
       "      <td>Elizabeth deserved it.  She had never received...</td>\n",
       "      <td>Persuasion, by Jane Austen</td>\n",
       "      <td>2</td>\n",
       "    </tr>\n",
       "    <tr>\n",
       "      <th>645</th>\n",
       "      <td>It seemed as if Mr Shepherd, in this anxiety t...</td>\n",
       "      <td>Persuasion, by Jane Austen</td>\n",
       "      <td>3</td>\n",
       "    </tr>\n",
       "    <tr>\n",
       "      <th>8145</th>\n",
       "      <td>and happiness, and more generally admired than...</td>\n",
       "      <td>Persuasion, by Jane Austen</td>\n",
       "      <td>23</td>\n",
       "    </tr>\n",
       "    <tr>\n",
       "      <th>6520</th>\n",
       "      <td>been doubting and considering as to what I oug...</td>\n",
       "      <td>Persuasion, by Jane Austen</td>\n",
       "      <td>21</td>\n",
       "    </tr>\n",
       "    <tr>\n",
       "      <th>7825</th>\n",
       "      <td></td>\n",
       "      <td>Persuasion, by Jane Austen</td>\n",
       "      <td>23</td>\n",
       "    </tr>\n",
       "    <tr>\n",
       "      <th>5467</th>\n",
       "      <td>ordered to walk to keep off the gout, and Mrs ...</td>\n",
       "      <td>Persuasion, by Jane Austen</td>\n",
       "      <td>18</td>\n",
       "    </tr>\n",
       "    <tr>\n",
       "      <th>7228</th>\n",
       "      <td>horses, and with her own complete independence...</td>\n",
       "      <td>Persuasion, by Jane Austen</td>\n",
       "      <td>22</td>\n",
       "    </tr>\n",
       "    <tr>\n",
       "      <th>5747</th>\n",
       "      <td>understand that Lady Dalrymple was calling to ...</td>\n",
       "      <td>Persuasion, by Jane Austen</td>\n",
       "      <td>19</td>\n",
       "    </tr>\n",
       "    <tr>\n",
       "      <th>1393</th>\n",
       "      <td>quite different creatures with you!  But to be...</td>\n",
       "      <td>Persuasion, by Jane Austen</td>\n",
       "      <td>6</td>\n",
       "    </tr>\n",
       "  </tbody>\n",
       "</table>\n",
       "</div>"
      ],
      "text/plain": [
       "                                                   line_str  \\\n",
       "line_num                                                      \n",
       "6226      Room was strikingly great.  Why was it?  She t...   \n",
       "478       Elizabeth deserved it.  She had never received...   \n",
       "645       It seemed as if Mr Shepherd, in this anxiety t...   \n",
       "8145      and happiness, and more generally admired than...   \n",
       "6520      been doubting and considering as to what I oug...   \n",
       "7825                                                          \n",
       "5467      ordered to walk to keep off the gout, and Mrs ...   \n",
       "7228      horses, and with her own complete independence...   \n",
       "5747      understand that Lady Dalrymple was calling to ...   \n",
       "1393      quite different creatures with you!  But to be...   \n",
       "\n",
       "                               title  chap_num  \n",
       "line_num                                        \n",
       "6226      Persuasion, by Jane Austen        20  \n",
       "478       Persuasion, by Jane Austen         2  \n",
       "645       Persuasion, by Jane Austen         3  \n",
       "8145      Persuasion, by Jane Austen        23  \n",
       "6520      Persuasion, by Jane Austen        21  \n",
       "7825      Persuasion, by Jane Austen        23  \n",
       "5467      Persuasion, by Jane Austen        18  \n",
       "7228      Persuasion, by Jane Austen        22  \n",
       "5747      Persuasion, by Jane Austen        19  \n",
       "1393      Persuasion, by Jane Austen         6  "
      ]
     },
     "execution_count": 45,
     "metadata": {},
     "output_type": "execute_result"
    }
   ],
   "source": [
    "df.sample(10)"
   ]
  },
  {
   "cell_type": "markdown",
   "metadata": {},
   "source": [
    "## Group by chapter num and reset dataframe "
   ]
  },
  {
   "cell_type": "code",
   "execution_count": null,
   "metadata": {},
   "outputs": [],
   "source": [
    "df = df.groupby(OHCO[:1]).line_str.apply(lambda x: '\\n'.join(x)).to_frame() # Make big string"
   ]
  },
  {
   "cell_type": "code",
   "execution_count": null,
   "metadata": {},
   "outputs": [],
   "source": [
    "df.head()"
   ]
  },
  {
   "cell_type": "markdown",
   "metadata": {},
   "source": [
    "# Split into paragraphs "
   ]
  },
  {
   "cell_type": "code",
   "execution_count": null,
   "metadata": {},
   "outputs": [],
   "source": [
    "df = df['line_str'].str.split(r'\\n\\n+', expand=True).stack()\\\n",
    "    .to_frame().rename(columns={0:'para_str'})\n",
    "df.index.names = OHCO[:2]\n",
    "df['para_str'] = df['para_str'].str.replace(r'\\n', ' ').str.strip()\n",
    "df = df[~df['para_str'].str.match(r'^\\s*$')] # Remove empty paragraphs"
   ]
  },
  {
   "cell_type": "code",
   "execution_count": null,
   "metadata": {},
   "outputs": [],
   "source": [
    "df.head()"
   ]
  },
  {
   "cell_type": "markdown",
   "metadata": {},
   "source": [
    "# Split into sentences"
   ]
  },
  {
   "cell_type": "code",
   "execution_count": null,
   "metadata": {},
   "outputs": [],
   "source": [
    "df = df['para_str'].str.split(r'[.?!;]', expand=True).stack()\\\n",
    "    .to_frame().rename(columns={0:'sent_str'})\n",
    "df.index.names = OHCO[:3]\n",
    "df = df[~df['sent_str'].str.match(r'^\\s*$')] # Remove empty paragraphs"
   ]
  },
  {
   "cell_type": "code",
   "execution_count": null,
   "metadata": {},
   "outputs": [],
   "source": [
    "df.head()"
   ]
  },
  {
   "cell_type": "code",
   "execution_count": null,
   "metadata": {},
   "outputs": [],
   "source": [
    "X_sk = df.values"
   ]
  },
  {
   "cell_type": "code",
   "execution_count": null,
   "metadata": {},
   "outputs": [],
   "source": [
    "X_gs = df.values.tolist()"
   ]
  },
  {
   "cell_type": "code",
   "execution_count": null,
   "metadata": {},
   "outputs": [],
   "source": [
    "X_sk"
   ]
  },
  {
   "cell_type": "markdown",
   "metadata": {},
   "source": [
    "# Regrouping"
   ]
  },
  {
   "cell_type": "code",
   "execution_count": null,
   "metadata": {},
   "outputs": [],
   "source": []
  }
 ],
 "metadata": {
  "kernelspec": {
   "display_name": "Python 3",
   "language": "python",
   "name": "python3"
  },
  "language_info": {
   "codemirror_mode": {
    "name": "ipython",
    "version": 3
   },
   "file_extension": ".py",
   "mimetype": "text/x-python",
   "name": "python",
   "nbconvert_exporter": "python",
   "pygments_lexer": "ipython3",
   "version": "3.6.5"
  }
 },
 "nbformat": 4,
 "nbformat_minor": 4
}
